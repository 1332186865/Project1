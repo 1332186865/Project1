{
 "cells": [
  {
   "cell_type": "markdown",
   "metadata": {},
   "source": [
    "## 实验介绍"
   ]
  },
  {
   "cell_type": "markdown",
   "metadata": {},
   "source": [
    "### 1.实验内容"
   ]
  },
  {
   "cell_type": "markdown",
   "metadata": {},
   "source": [
    "本实验首先介绍一元线性回归的基本思想，然后给出其背后的数学原理。接着给出两个基于一元线性回归预测房价的示例，第一个示例中，使用一元线性回归预测汽车的重量和每加仑油量可行驶距离；第二个示例中，使用一元线性回归根据房屋面积预测房屋价格。在这两个示例中，你将综合运Python，pandas，numpy，matplotlib，sklearn。"
   ]
  },
  {
   "cell_type": "markdown",
   "metadata": {},
   "source": [
    "### 2.实验目标"
   ]
  },
  {
   "cell_type": "markdown",
   "metadata": {},
   "source": [
    "通过本实验掌握一元线性回归的基本思想，了解其背后的数学原理，可以将一元线性回归应用到真实世界中的预测问题中，学会numpy，matplotlib以及sklearn库的使用。"
   ]
  },
  {
   "cell_type": "markdown",
   "metadata": {},
   "source": [
    "### 3.实验知识点"
   ]
  },
  {
   "cell_type": "markdown",
   "metadata": {},
   "source": [
    "* 一元线性回归基本思想\n",
    "* 一元线性回归数学原理\n",
    "* 一元线性回归的应用\n",
    "* numpy，matplotlib，pandas，sklearn的使用"
   ]
  },
  {
   "cell_type": "markdown",
   "metadata": {},
   "source": [
    "### 4.实验环境"
   ]
  },
  {
   "cell_type": "markdown",
   "metadata": {},
   "source": [
    "* python 3.6.5  \n",
    "* numpy 1.14.5\n",
    "* matplotlib 2.2.2\n",
    "* sklearn 0.19.1\n",
    "* pandas 0.23.1"
   ]
  },
  {
   "cell_type": "markdown",
   "metadata": {},
   "source": [
    "### 5.预备知识"
   ]
  },
  {
   "cell_type": "markdown",
   "metadata": {},
   "source": [
    "* 微积分，偏微分（非必须）\n",
    "* Linux命令基本操作  \n",
    "* Python编程基础\n",
    "\n",
    "注意：对一元线性回归背后的数学原理不用达到掌握的层次，事实上，在了解一元线性回归的基本思想后，利用sklearn等工具就可以很便捷的解决相关问题了。"
   ]
  },
  {
   "cell_type": "markdown",
   "metadata": {},
   "source": [
    "## 实验原理 "
   ]
  },
  {
   "cell_type": "markdown",
   "metadata": {},
   "source": [
    "### 1. 回归与机器学习"
   ]
  },
  {
   "cell_type": "markdown",
   "metadata": {},
   "source": [
    "机器学习监督学习算法分为分类和回归两种，其实就是根据类别标签分布类型而定义的，分类算法用于离散型分布预测，如kNN、决策树、朴素贝叶斯、Adaboost、SVM、Logistic回归都是分类算法；回归算法用于连续型分布预测，针对的是数值型的样本。回归也是统计学中最有力的工具之一，使用回归，可以在给定输入后给出预测的数值。回归的目的就是建立一个回归方程用来预测目标值，回归的求解就是求这个回归方程的回归系数。在回归方程确定后，预测结果很简单，将输入值带入回归方程即可。\n",
    "\n",
    "机器学习中的参数模型指的是：通过建模找到一个最大程度拟合数据的模型，通过确定损失函数（或效用函数，统称为目标函数），最优化目标函数来获得机器学习模型的参数。回归分析指的是利用已知的数据，最大程度的拟合样本与输出标记，即产生拟合方程，从而对未知的数据进行预测。在一元线性回归模型中，需要找到一条可以最大程度拟合输入和输出的直线。"
   ]
  },
  {
   "cell_type": "markdown",
   "metadata": {},
   "source": [
    "### 2. 一元线性回归"
   ]
  },
  {
   "cell_type": "markdown",
   "metadata": {},
   "source": [
    "一元线性回归是一种简单的模型，但应用广泛，比如简单地预测商品价格、成本评估等，都可以用一元线性模型。比如：告诉你(1,1),(2,2),(3,3)，那么问你(4,?)是多少，很容易复原出来(4,4)，这就是一元线性回归问题的求解。一元线性回归是数据挖掘的基础模型，其中包含了非常重要的数学回归的概念，是学习多元回归，广义线性回归的基础。\n",
    "\n",
    "若X与y之间存在着较强的相关关系，则有：\n",
    "\n",
    "　　　　　　　　　　　　　　　　　　y=a+bX\n",
    "\n",
    "若a与b的值已知，则给出相应的X值，我们可以得到相应的y的预测值。一元线性回归涉及的参数及含义如下：  \n",
    "　　* 截距项a  \n",
    "　　* 斜率b\n",
    "\n",
    "一元线性回归的问题求解就是求解参数a，b。"
   ]
  },
  {
   "cell_type": "markdown",
   "metadata": {},
   "source": [
    "### 3. Sklearn简介"
   ]
  },
  {
   "cell_type": "markdown",
   "metadata": {},
   "source": [
    "Scikit learn 也简称sklearn，是机器学习领域当中最知名的python模块之一。sklearn包含了很多机器学习的方式：\n",
    "* Classification 分类\n",
    "* Regression 回归\n",
    "* Clustering 非监督分类\n",
    "* Dimensionality reduction 数据降维\n",
    "* Model Selection 模型选择\n",
    "* Preprocessing 数据与处理\n",
    "\n",
    "使用sklearn可以很方便地让我们实现一个机器学习算法。一个复杂度算法的实现，使用sklearn可能只需要调用几行API即可。所以学习sklearn，可以有效减少我们特定任务的实现周期。sklearn对数据挖掘和机器学习的各类算法进行了较好的封装，基本可以使用fit、predict、score来训练、预测、评价模型。"
   ]
  },
  {
   "cell_type": "markdown",
   "metadata": {},
   "source": [
    "## 准备工作"
   ]
  },
  {
   "cell_type": "markdown",
   "metadata": {},
   "source": [
    "点击屏幕右上方的下载实验数据模块，选择下载linear_regression.tgz到指定目录下，然后再依次选择点击上方的File->Open->Upload,上传刚才下载的数据集压缩包，再使用如下命令解压："
   ]
  },
  {
   "cell_type": "code",
   "execution_count": 1,
   "metadata": {},
   "outputs": [
    {
     "name": "stdout",
     "output_type": "stream",
     "text": [
      "linear_regression/\r\n",
      "linear_regression/auto_mpg.csv\r\n",
      "linear_regression/auto-mpg.data\r\n",
      "linear_regression/price_info.csv\r\n"
     ]
    }
   ],
   "source": [
    "!tar -zxvf linear_regression.tgz"
   ]
  },
  {
   "cell_type": "markdown",
   "metadata": {},
   "source": [
    "## 一元线性回归的数学原理"
   ]
  },
  {
   "cell_type": "markdown",
   "metadata": {},
   "source": [
    "对于一元线性回归来说，可以看成Y的值是随着X的值变化，每一个实际的X都会有一个实际的Y值，我们叫Y实际，那么我们要求出一条直线，每一个实际的X都会有一个直线预测的Y值，我们叫做Y预测，回归线使得每个Y的实际值与预测值之差的平方和最小，即（Y1实际-Y1预测）^2+（Y2实际-Y2预测）^2+ …… +（Yn实际-Yn预测）^2的和最小。现在来实际求一下这条线：\n",
    "![](1_linear_regression.png)  \n",
    "我们都知道直线在坐标系可以表示为Y=aX+b，所以（Y实际-Y预测）就可以写成（Y实际-（aX实际+b）），于是平方和可以写成a和b的函数。只需要求出让Q最小的a和b的值，那么回归线的也就求出来了。现在说明函数最小值怎么求：首先，一元函数最小值点的导数为零，比如说Y=X^2，X^2的导数是2X，令2X=0，求得X=0的时候，Y取最小值。那么实质上二元函数也是一样可以类推。不妨把二元函数图象设想成一个曲面，最小值想象成一个凹陷，那么在这个凹陷底部，从任意方向上看，偏导数都是0。因此，对于函数Q，分别对于a和b求偏导数，然后令偏导数等于0，就可以得到一个关于a和b的二元方程组，就可以求出a和b了。这个方法被称为最小二乘法。下面是具体的数学演算过程，。先把Q函数表达式展开：\n",
    "![](2_linear_regression.png)  \n",
    "然后利用平均数，把上面式子中每个括号里的内容进一步化简。例如Y^2的平均表示如下：\n",
    "![](3_linear_regression.png)  \n",
    "则：\n",
    "![](4_linear_regression.png)  \n",
    "上式子两边×n，于是Q最终化简结果为：\n",
    "![](5_linear_regression.png)  \n",
    "然后分别对Q求a的偏导数和b的偏导数，令偏导数等于0：\n",
    "![](6_linear_regression.png)  \n",
    "进一步化简，可以消掉2n，最后得到关于a，b的二元方程组为：\n",
    "![](7_linear_regression.png)  \n",
    "最后得出a和b的求解公式如下：\n",
    "![](8_linear_regression.png)  "
   ]
  },
  {
   "cell_type": "markdown",
   "metadata": {},
   "source": [
    "## 【实验步骤】引言 "
   ]
  },
  {
   "cell_type": "markdown",
   "metadata": {},
   "source": [
    "### 1. 项目文件结构"
   ]
  },
  {
   "cell_type": "markdown",
   "metadata": {},
   "source": [
    "实验目录下有3个文件：  \n",
    "　price_info.csv  \n",
    "　auto-mpg.data  \n",
    "　auto_mpg.csv  \n",
    "其中：price_info.csv为房屋价格预测的数据集；auto-mpg.data为车辆行驶距离预测的数据集，auto_mpg.csv是该数据集的csv版本。"
   ]
  },
  {
   "cell_type": "markdown",
   "metadata": {},
   "source": [
    "### 2. 开始实验"
   ]
  },
  {
   "cell_type": "markdown",
   "metadata": {},
   "source": [
    "接下来的实验步骤将引导你学习一元线性回归的相关知识。首先引入我们系统需要用到的Python的相关库。"
   ]
  },
  {
   "cell_type": "code",
   "execution_count": 16,
   "metadata": {},
   "outputs": [],
   "source": [
    "import numpy as np\n",
    "from sklearn.linear_model import LinearRegression\n",
    "import matplotlib.pyplot as plt\n",
    "from matplotlib.font_manager import FontProperties\n",
    "import pandas as pd"
   ]
  },
  {
   "cell_type": "markdown",
   "metadata": {},
   "source": [
    "## 【实验步骤】用sklearn做简单的一元线性回归 "
   ]
  },
  {
   "cell_type": "markdown",
   "metadata": {},
   "source": [
    "这里，我们首先用一些模拟数据做一元线性回归，首先我们使用方程y=2x+1作为参考曲线，在输出给定计算结果时，加一些随机干扰，让结果距离曲线有点距离。\n",
    "\n",
    "输入x分别为：1, 2, 3, 4, 5\n",
    "\n",
    "输出y应该为：3, 5, 7, 9, 11\n",
    "\n",
    "添加干扰后y的值为：3.1, 5.2, 6.8, 8.8, 11.1\n",
    "\n",
    "接着我们使用sklearn的线性回归类对x和y进行拟合，sklearn中线性回归类的原型为：\n",
    "\n",
    "LinearRegression(fit_intercept=True,normalize=False,copy_X=True,n_jobs=1)\n",
    "\n",
    "其中各个参数的含义如下：\n",
    "\n",
    "* fit_intercept:是否有截据，如果没有，则直线过原点。默认为有截距。\n",
    "* normalize:是否将数据归一化，默认是不做归一化。\n",
    "* copy_X:默认为True，当为True时，X会被copied,否则X将会被覆写。\n",
    "* n_jobs:默认值为1，计算时使用的核数。\n",
    "\n",
    "一般使用时，就用默认参数就可以。输入以下内容："
   ]
  },
  {
   "cell_type": "code",
   "execution_count": 3,
   "metadata": {},
   "outputs": [
    {
     "name": "stdout",
     "output_type": "stream",
     "text": [
      "[[ 1.96]]\n",
      "[ 1.12]\n",
      "[ 12.88]\n"
     ]
    }
   ],
   "source": [
    "x = [[1],[2],[3],[4],[5]]\t\t#设定X向量\n",
    "y = [[3.1],[5.2],[6.8],[8.8],[11.1]]\t#设定Y向量\n",
    "model = LinearRegression()\t#创建线性回归模型\n",
    "model.fit(x, y)\t\t#使用X和Y进行拟合\n",
    "print(model.coef_)\t#输出线性方程的斜率，即b的值\n",
    "print(model.intercept_)\t#输出线性方程的截距，即a的值\n",
    "predicted = model.predict([[6]])[0]\t#在x=6时，预测y的值\n",
    "print(predicted)\t#输出y的结果"
   ]
  },
  {
   "cell_type": "markdown",
   "metadata": {},
   "source": [
    "其中，1到4行是导入相关库，第2行从sklearn中导入了线性回归模型的类。第6行定义了向量x，第7行定义了向量y，第8行利用LinearRegression类创建了线性回归对象，第9行使用fit函数基于x和y向量进行拟合，第10行输出拟合后的线性方程的斜率，第11行输出了线性方程的截距。第12行根据线性回归方程预测输入值为6时的结果值。LinearRegression将方程分为两个部分存放，coef_存放回归系数，intercept_则存放截距，因此要查看方程，就是查看这两个变量的取值。\n",
    "\n",
    "上图给出了斜率(1.96)、截距(1.12)、以及输入值为6时的预测结果（12.88）。\n",
    "\n",
    "接着，我们使用matplotlib将X和Y构成的散点以及表示回归方程的直线绘制出来，可以更加直观的看到线性回归的结果以及各个三点到直线的偏移量。绘制图像的代码如下所示，以绘制出图像。"
   ]
  },
  {
   "cell_type": "code",
   "execution_count": 4,
   "metadata": {},
   "outputs": [
    {
     "data": {
      "image/png": "[encoded data removed]",
      "text/plain": [
       "<Figure size 432x288 with 1 Axes>"
      ]
     },
     "metadata": {
      "needs_background": "light"
     },
     "output_type": "display_data"
    }
   ],
   "source": [
    "plt.figure()\n",
    "plt.title('Linear Regression Demo')\n",
    "plt.xlabel('x')\n",
    "plt.ylabel('y')\n",
    "plt.axis([0, 8, 0, 20])\n",
    "plt.grid(True)\n",
    "plt.plot(x, y, 'k.')\n",
    "x1 = [[0],[1],[2],[3],[4],[5],[6],[7]]\n",
    "y1 = model.predict(x1)\n",
    "plt.plot(x1,y1,'g-')\n",
    "plt.show()"
   ]
  },
  {
   "cell_type": "markdown",
   "metadata": {},
   "source": [
    "第15行启动一个新的图像实例，第16行设置图像标题，第17行和18行分别设定坐标轴的X轴和Y轴的标题。第19行设定X轴和Y轴的范围，第20行设定网格开关为显示。第21行绘制由X向量和Y向量构成的散点图，参数\"k.\"中，其中k表示颜色为卡其色，点表示散点图。第22行到第24行绘制回归方程的直线，将x的范围设定为0到7，y的值由x进行计算，第24行绘制该直线，参数“g-”表示绘制时颜色选择绿色，-表示点与点直接使用实线连接。"
   ]
  },
  {
   "cell_type": "markdown",
   "metadata": {},
   "source": [
    "## 【实验步骤】纯numpy计算一元线性回归参数 "
   ]
  },
  {
   "cell_type": "markdown",
   "metadata": {},
   "source": [
    "事实上，我们也可以基于numpy计算出一元线性回归方程中参数b和a的值，其数学原理如下：  \n",
    "1.向量x的方差为：\n",
    "![](9_linear_regression.png)  \n",
    "2.向量x和向量y的协方差为：  \n",
    "![](10_linear_regression.png)  \n",
    "3.由第三小节中，我们知道b的计算方式为：  \n",
    "![](11_linear_regression.png)  \n",
    "所以b可以由cov(x,y)/var(x)得到，在知道b的值以后，根据以下公式：  \n",
    "![](12_linear_regression.png)  \n",
    "可以计算出a的值，从而求出线性方程的参数。现在我们基于numpy求解线性方程的参数，添加以下代码："
   ]
  },
  {
   "cell_type": "code",
   "execution_count": 5,
   "metadata": {},
   "outputs": [
    {
     "name": "stdout",
     "output_type": "stream",
     "text": [
      "coef based on numpy:1.96\n",
      "intercept based on numpy:1.12\n"
     ]
    }
   ],
   "source": [
    "var_x = np.var([1,2,3,4,5], ddof=1)\t#计算X方差\n",
    "cov = np.cov([1,2,3,4,5], [3.1,5.2,6.8,8.8,11.1])[0][1] #计算X和Y的协方差\n",
    "coef = cov/var_x\t#协方差除以方差得到拟合方程的斜率\n",
    "print(\"coef based on numpy:\",end='')\t\n",
    "print(coef)\n",
    "mean_x = np.mean([1,2,3,4,5])\t#计算X的均值\n",
    "mean_y = np.mean([3.1,5.2,6.8,8.8,11.1])\t#计算Y的均值\n",
    "intercept = mean_y - coef * mean_x\t#根据公式计算截距\n",
    "print(\"intercept based on numpy:\",end='')\n",
    "print(intercept)"
   ]
  },
  {
   "cell_type": "markdown",
   "metadata": {},
   "source": [
    "从上图的输出结果中可以看出，基于numpy计算得到的斜率和截距和sklearn拟合曲线给出的结果是一致的。"
   ]
  },
  {
   "cell_type": "markdown",
   "metadata": {},
   "source": [
    "## 【实验步骤】用一元线性回归预测房价 "
   ]
  },
  {
   "cell_type": "markdown",
   "metadata": {},
   "source": [
    "房价预测的数据集如下：\n",
    "![](13_linear_regression.png)  \n",
    "数据已经被存储在price_info.csv文件中，使用以下命令查看文件内容："
   ]
  },
  {
   "cell_type": "code",
   "execution_count": 22,
   "metadata": {},
   "outputs": [
    {
     "name": "stdout",
     "output_type": "stream",
     "text": [
      "No,square_feet,price\r",
      "\r\n",
      "1,150,6450\r",
      "\r\n",
      "2,200,7450\r",
      "\r\n",
      "3,250,8450\r",
      "\r\n",
      "4,300,9450\r",
      "\r\n",
      "5,350,11450\r",
      "\r\n",
      "6,400,15450\r",
      "\r\n",
      "7,600,18450\r",
      "\r\n"
     ]
    }
   ],
   "source": [
    "!cat linear_regression/price_info.csv"
   ]
  },
  {
   "cell_type": "markdown",
   "metadata": {},
   "source": [
    "文件内容如下所示：\n",
    "![](14_linear_regression.png)  \n",
    "接下来，我们开始编写线性回归的代码，并预测700英尺时的房价。数据加载时的代码如上所示，利用pandas的read_csv函数加载csv文件，然后依次读取square_feet和price这两列数据，将平方英尺和价格分别放入到X向量和Y向量中，然后将X和Y返回。"
   ]
  },
  {
   "cell_type": "code",
   "execution_count": 18,
   "metadata": {},
   "outputs": [],
   "source": [
    "# 从csv文件中读取数据，分别为：X列表和对应的Y列表\n",
    "def get_data(file_name):\n",
    "    # 1. 用pandas读取csv\n",
    "    data = pd.read_csv(file_name) \n",
    "    # 2. 构造X列表和Y列表\n",
    "    X = []\n",
    "    Y = []\n",
    "    for single_square_feet,single_price_value in zip(data['square_feet'],data['price']):\n",
    "        X.append([float(single_square_feet)])\n",
    "        Y.append(float(single_price_value))\n",
    "    return X,Y"
   ]
  },
  {
   "cell_type": "markdown",
   "metadata": {},
   "source": [
    "线性回归模型的建立下所示，利用LinearRegression类，可以很方便的建立线性回归模型。"
   ]
  },
  {
   "cell_type": "code",
   "execution_count": 19,
   "metadata": {},
   "outputs": [],
   "source": [
    "# 获取线性回归模型\n",
    "def get_linear_model(X,Y):\n",
    "    model = LinearRegression()\n",
    "    model.fit(X,Y)\n",
    "    return model"
   ]
  },
  {
   "cell_type": "markdown",
   "metadata": {},
   "source": [
    "绘制预测结果的代码如下所示："
   ]
  },
  {
   "cell_type": "code",
   "execution_count": 20,
   "metadata": {},
   "outputs": [],
   "source": [
    "# 绘出图像\n",
    "def show_linear_line(X,Y,model):\n",
    "    # 1. 绘出已知数据散点图\n",
    "    plt.scatter(X,Y,color = 'blue')\n",
    "    # 2. 绘出预测直线\n",
    "    plt.plot(X,model.predict(X),color = 'red',linewidth = 4)\n",
    "    plt.title('Predict the house price')\n",
    "    plt.xlabel('square feet')\n",
    "    plt.ylabel('price')\n",
    "    plt.show()"
   ]
  },
  {
   "cell_type": "markdown",
   "metadata": {},
   "source": [
    "主函数的控制流程如下所示："
   ]
  },
  {
   "cell_type": "code",
   "execution_count": 21,
   "metadata": {},
   "outputs": [
    {
     "name": "stdout",
     "output_type": "stream",
     "text": [
      "[ 21915.42553191]\n"
     ]
    },
    {
     "data": {
      "image/png": "[encoded data removed]",
      "text/plain": [
       "<Figure size 432x288 with 1 Axes>"
      ]
     },
     "metadata": {
      "needs_background": "light"
     },
     "output_type": "display_data"
    }
   ],
   "source": [
    "def main():\n",
    "    # 1. 读取数据\n",
    "    X,Y = get_data('linear_regression/price_info.csv')\n",
    "    # 2. 模型训练\n",
    "    model = get_linear_model(X,Y)\n",
    "    # 3. 获取700平方英尺时的预测价格\n",
    "    square_feet_list = [700]\n",
    "    square_feet_array = np.asarray(square_feet_list)\n",
    "    print(model.predict(square_feet_array.reshape(1,-1)))\n",
    "    # 4. 绘图\n",
    "    show_linear_line(X,Y,model)\n",
    "\n",
    "if __name__ == '__main__':\n",
    "    main()"
   ]
  },
  {
   "cell_type": "markdown",
   "metadata": {},
   "source": [
    "运行代码，可以看到，在700平方英尺时，房屋的预测价格为21915.43。"
   ]
  },
  {
   "cell_type": "markdown",
   "metadata": {},
   "source": [
    "##  【实验步骤】用一元线性回归预测车辆行驶距离\n"
   ]
  },
  {
   "cell_type": "markdown",
   "metadata": {},
   "source": [
    "在本小节中，通过一元线性回归基于车辆的重量来预测车辆单位加仑油量可以行驶的距离，使用的数据集为“车辆MPG数据集”，英文名为“auto-mpg.data”。该数据集的详细介绍信息请访问：http://archive.ics.uci.edu/ml/datasets/Auto+MPG ，数据集下载地址：http://archive.ics.uci.edu/ml/machine-learning-databases/auto-mpg/， 打开页面后选择“auto-mpg.data”。该数据集共有9列，其中第1列为单位加仑油量行驶距离（英里），第5列为车辆重量（kg）。为了方便处理，本实验已经将该数据集转换为csv文件格式，即文件“auto_mpg.csv”，这样你可以直接参考上一小节中处理csv文件的代码。当然如果你足够熟悉pandas库的话，也可以直接处理auto-mpg.data文件。\n",
    "\n",
    "通过对数据的初步分析，发现车辆重量和车辆单位加仑油量形式距离之间存在着线性相关关系。你的任务是：\n",
    "\n",
    "    基于sklearn给出可以根据车辆重量预测其形式距离的一元线性回归方程\n",
    "\n",
    "    给出方程的斜率和截距\n",
    "\n",
    "    绘制出由原始数据构成的散点图以及根据回归方程得到预测结果后的散点图。\n",
    "\n",
    "    最后车辆重量为3000时的预测行驶距离。\n",
    "\n",
    "原始数据构成的散点图指的是使用X和Y绘制图像，在得到回归方程f后，可得Y'=f(X)，根据（X,Y'）绘制的图像即根据回归方程得到预测结果后的散点图。\n",
    "\n",
    "最终绘制的图像效果应该如下图所示。  \n",
    "![](15_linear_regression.png)"
   ]
  },
  {
   "cell_type": "code",
   "execution_count": 23,
   "metadata": {},
   "outputs": [
    {
     "name": "stdout",
     "output_type": "stream",
     "text": [
      "mpg,cylinders,displacement,horsepower,weight,acceleration,model year,origin,car name\r",
      "\r\n",
      "18,8,307,130,3504,12,70,1,chevrolet chevelle malibu\r",
      "\r\n",
      "15,8,350,165,3693,11.5,70,1,buick skylark 320\r",
      "\r\n",
      "18,8,318,150,3436,11,70,1,plymouth satellite\r",
      "\r\n",
      "16,8,304,150,3433,12,70,1,amc rebel sst\r",
      "\r\n",
      "17,8,302,140,3449,10.5,70,1,ford torino\r",
      "\r\n",
      "15,8,429,198,4341,10,70,1,ford galaxie 500\r",
      "\r\n",
      "14,8,454,220,4354,9,70,1,chevrolet impala\r",
      "\r\n",
      "14,8,440,215,4312,8.5,70,1,plymouth fury iii\r",
      "\r\n",
      "14,8,455,225,4425,10,70,1,pontiac catalina\r",
      "\r\n",
      "15,8,390,190,3850,8.5,70,1,amc ambassador dpl\r",
      "\r\n",
      "15,8,383,170,3563,10,70,1,dodge challenger se\r",
      "\r\n",
      "14,8,340,160,3609,8,70,1,plymouth 'cuda 340\r",
      "\r\n",
      "15,8,400,150,3761,9.5,70,1,chevrolet monte carlo\r",
      "\r\n",
      "14,8,455,225,3086,10,70,1,buick estate wagon (sw)\r",
      "\r\n",
      "24,4,113,95,2372,15,70,3,toyota corona mark ii\r",
      "\r\n",
      "22,6,198,95,2833,15.5,70,1,plymouth duster\r",
      "\r\n",
      "18,6,199,97,2774,15.5,70,1,amc hornet\r",
      "\r\n",
      "21,6,200,85,2587,16,70,1,ford maverick\r",
      "\r\n",
      "27,4,97,88,2130,14.5,70,3,datsun pl510\r",
      "\r\n",
      "26,4,97,46,1835,20.5,70,2,volkswagen 1131 deluxe sedan\r",
      "\r\n",
      "25,4,110,87,2672,17.5,70,2,peugeot 504\r",
      "\r\n",
      "24,4,107,90,2430,14.5,70,2,audi 100 ls\r",
      "\r\n",
      "25,4,104,95,2375,17.5,70,2,saab 99e\r",
      "\r\n",
      "26,4,121,113,2234,12.5,70,2,bmw 2002\r",
      "\r\n",
      "21,6,199,90,2648,15,70,1,amc gremlin\r",
      "\r\n",
      "10,8,360,215,4615,14,70,1,ford f250\r",
      "\r\n",
      "10,8,307,200,4376,15,70,1,chevy c20\r",
      "\r\n",
      "11,8,318,210,4382,13.5,70,1,dodge d200\r",
      "\r\n",
      "9,8,304,193,4732,18.5,70,1,hi 1200d\r",
      "\r\n",
      "27,4,97,88,2130,14.5,71,3,datsun pl510\r",
      "\r\n",
      "28,4,140,90,2264,15.5,71,1,chevrolet vega 2300\r",
      "\r\n",
      "25,4,113,95,2228,14,71,3,toyota corona\r",
      "\r\n",
      "25,4,98,?,2046,19,71,1,ford pinto\r",
      "\r\n",
      "19,6,232,100,2634,13,71,1,amc gremlin\r",
      "\r\n",
      "16,6,225,105,3439,15.5,71,1,plymouth satellite custom\r",
      "\r\n",
      "17,6,250,100,3329,15.5,71,1,chevrolet chevelle malibu\r",
      "\r\n",
      "19,6,250,88,3302,15.5,71,1,ford torino 500\r",
      "\r\n",
      "18,6,232,100,3288,15.5,71,1,amc matador\r",
      "\r\n",
      "14,8,350,165,4209,12,71,1,chevrolet impala\r",
      "\r\n",
      "14,8,400,175,4464,11.5,71,1,pontiac catalina brougham\r",
      "\r\n",
      "14,8,351,153,4154,13.5,71,1,ford galaxie 500\r",
      "\r\n",
      "14,8,318,150,4096,13,71,1,plymouth fury iii\r",
      "\r\n",
      "12,8,383,180,4955,11.5,71,1,dodge monaco (sw)\r",
      "\r\n",
      "13,8,400,170,4746,12,71,1,ford country squire (sw)\r",
      "\r\n",
      "13,8,400,175,5140,12,71,1,pontiac safari (sw)\r",
      "\r\n",
      "18,6,258,110,2962,13.5,71,1,amc hornet sportabout (sw)\r",
      "\r\n",
      "22,4,140,72,2408,19,71,1,chevrolet vega (sw)\r",
      "\r\n",
      "19,6,250,100,3282,15,71,1,pontiac firebird\r",
      "\r\n",
      "18,6,250,88,3139,14.5,71,1,ford mustang\r",
      "\r\n",
      "23,4,122,86,2220,14,71,1,mercury capri 2000\r",
      "\r\n",
      "28,4,116,90,2123,14,71,2,opel 1900\r",
      "\r\n",
      "30,4,79,70,2074,19.5,71,2,peugeot 304\r",
      "\r\n",
      "30,4,88,76,2065,14.5,71,2,fiat 124b\r",
      "\r\n",
      "31,4,71,65,1773,19,71,3,toyota corolla 1200\r",
      "\r\n",
      "35,4,72,69,1613,18,71,3,datsun 1200\r",
      "\r\n",
      "27,4,97,60,1834,19,71,2,volkswagen model 111\r",
      "\r\n",
      "26,4,91,70,1955,20.5,71,1,plymouth cricket\r",
      "\r\n",
      "24,4,113,95,2278,15.5,72,3,toyota corona hardtop\r",
      "\r\n",
      "25,4,97.5,80,2126,17,72,1,dodge colt hardtop\r",
      "\r\n",
      "23,4,97,54,2254,23.5,72,2,volkswagen type 3\r",
      "\r\n",
      "20,4,140,90,2408,19.5,72,1,chevrolet vega\r",
      "\r\n",
      "21,4,122,86,2226,16.5,72,1,ford pinto runabout\r",
      "\r\n",
      "13,8,350,165,4274,12,72,1,chevrolet impala\r",
      "\r\n",
      "14,8,400,175,4385,12,72,1,pontiac catalina\r",
      "\r\n",
      "15,8,318,150,4135,13.5,72,1,plymouth fury iii\r",
      "\r\n",
      "14,8,351,153,4129,13,72,1,ford galaxie 500\r",
      "\r\n",
      "17,8,304,150,3672,11.5,72,1,amc ambassador sst\r",
      "\r\n",
      "11,8,429,208,4633,11,72,1,mercury marquis\r",
      "\r\n",
      "13,8,350,155,4502,13.5,72,1,buick lesabre custom\r",
      "\r\n",
      "12,8,350,160,4456,13.5,72,1,oldsmobile delta 88 royale\r",
      "\r\n",
      "13,8,400,190,4422,12.5,72,1,chrysler newport royal\r",
      "\r\n",
      "19,3,70,97,2330,13.5,72,3,mazda rx2 coupe\r",
      "\r\n",
      "15,8,304,150,3892,12.5,72,1,amc matador (sw)\r",
      "\r\n",
      "13,8,307,130,4098,14,72,1,chevrolet chevelle concours (sw)\r",
      "\r\n",
      "13,8,302,140,4294,16,72,1,ford gran torino (sw)\r",
      "\r\n",
      "14,8,318,150,4077,14,72,1,plymouth satellite custom (sw)\r",
      "\r\n",
      "18,4,121,112,2933,14.5,72,2,volvo 145e (sw)\r",
      "\r\n",
      "22,4,121,76,2511,18,72,2,volkswagen 411 (sw)\r",
      "\r\n",
      "21,4,120,87,2979,19.5,72,2,peugeot 504 (sw)\r",
      "\r\n",
      "26,4,96,69,2189,18,72,2,renault 12 (sw)\r",
      "\r\n",
      "22,4,122,86,2395,16,72,1,ford pinto (sw)\r",
      "\r\n",
      "28,4,97,92,2288,17,72,3,datsun 510 (sw)\r",
      "\r\n",
      "23,4,120,97,2506,14.5,72,3,toyouta corona mark ii (sw)\r",
      "\r\n",
      "28,4,98,80,2164,15,72,1,dodge colt (sw)\r",
      "\r\n",
      "27,4,97,88,2100,16.5,72,3,toyota corolla 1600 (sw)\r",
      "\r\n",
      "13,8,350,175,4100,13,73,1,buick century 350\r",
      "\r\n",
      "14,8,304,150,3672,11.5,73,1,amc matador\r",
      "\r\n",
      "13,8,350,145,3988,13,73,1,chevrolet malibu\r",
      "\r\n",
      "14,8,302,137,4042,14.5,73,1,ford gran torino\r",
      "\r\n",
      "15,8,318,150,3777,12.5,73,1,dodge coronet custom\r",
      "\r\n",
      "12,8,429,198,4952,11.5,73,1,mercury marquis brougham\r",
      "\r\n",
      "13,8,400,150,4464,12,73,1,chevrolet caprice classic\r",
      "\r\n",
      "13,8,351,158,4363,13,73,1,ford ltd\r",
      "\r\n",
      "14,8,318,150,4237,14.5,73,1,plymouth fury gran sedan\r",
      "\r\n",
      "13,8,440,215,4735,11,73,1,chrysler new yorker brougham\r",
      "\r\n",
      "12,8,455,225,4951,11,73,1,buick electra 225 custom\r",
      "\r\n",
      "13,8,360,175,3821,11,73,1,amc ambassador brougham\r",
      "\r\n",
      "18,6,225,105,3121,16.5,73,1,plymouth valiant\r",
      "\r\n",
      "16,6,250,100,3278,18,73,1,chevrolet nova custom\r",
      "\r\n",
      "18,6,232,100,2945,16,73,1,amc hornet\r",
      "\r\n",
      "18,6,250,88,3021,16.5,73,1,ford maverick\r",
      "\r\n",
      "23,6,198,95,2904,16,73,1,plymouth duster\r",
      "\r\n",
      "26,4,97,46,1950,21,73,2,volkswagen super beetle\r",
      "\r\n",
      "11,8,400,150,4997,14,73,1,chevrolet impala\r",
      "\r\n",
      "12,8,400,167,4906,12.5,73,1,ford country\r",
      "\r\n",
      "13,8,360,170,4654,13,73,1,plymouth custom suburb\r",
      "\r\n",
      "12,8,350,180,4499,12.5,73,1,oldsmobile vista cruiser\r",
      "\r\n",
      "18,6,232,100,2789,15,73,1,amc gremlin\r",
      "\r\n",
      "20,4,97,88,2279,19,73,3,toyota carina\r",
      "\r\n",
      "21,4,140,72,2401,19.5,73,1,chevrolet vega\r",
      "\r\n",
      "22,4,108,94,2379,16.5,73,3,datsun 610\r",
      "\r\n",
      "18,3,70,90,2124,13.5,73,3,maxda rx3\r",
      "\r\n",
      "19,4,122,85,2310,18.5,73,1,ford pinto\r",
      "\r\n",
      "21,6,155,107,2472,14,73,1,mercury capri v6\r",
      "\r\n",
      "26,4,98,90,2265,15.5,73,2,fiat 124 sport coupe\r",
      "\r\n",
      "15,8,350,145,4082,13,73,1,chevrolet monte carlo s\r",
      "\r\n",
      "16,8,400,230,4278,9.5,73,1,pontiac grand prix\r",
      "\r\n",
      "29,4,68,49,1867,19.5,73,2,fiat 128\r",
      "\r\n",
      "24,4,116,75,2158,15.5,73,2,opel manta\r",
      "\r\n",
      "20,4,114,91,2582,14,73,2,audi 100ls\r",
      "\r\n",
      "19,4,121,112,2868,15.5,73,2,volvo 144ea\r",
      "\r\n",
      "15,8,318,150,3399,11,73,1,dodge dart custom\r",
      "\r\n",
      "24,4,121,110,2660,14,73,2,saab 99le\r",
      "\r\n",
      "20,6,156,122,2807,13.5,73,3,toyota mark ii\r",
      "\r\n",
      "11,8,350,180,3664,11,73,1,oldsmobile omega\r",
      "\r\n",
      "20,6,198,95,3102,16.5,74,1,plymouth duster\r",
      "\r\n",
      "21,6,200,?,2875,17,74,1,ford maverick\r",
      "\r\n",
      "19,6,232,100,2901,16,74,1,amc hornet\r",
      "\r\n",
      "15,6,250,100,3336,17,74,1,chevrolet nova\r",
      "\r\n",
      "31,4,79,67,1950,19,74,3,datsun b210\r",
      "\r\n",
      "26,4,122,80,2451,16.5,74,1,ford pinto\r",
      "\r\n",
      "32,4,71,65,1836,21,74,3,toyota corolla 1200\r",
      "\r\n",
      "25,4,140,75,2542,17,74,1,chevrolet vega\r",
      "\r\n",
      "16,6,250,100,3781,17,74,1,chevrolet chevelle malibu classic\r",
      "\r\n",
      "16,6,258,110,3632,18,74,1,amc matador\r",
      "\r\n",
      "18,6,225,105,3613,16.5,74,1,plymouth satellite sebring\r",
      "\r\n",
      "16,8,302,140,4141,14,74,1,ford gran torino\r",
      "\r\n",
      "13,8,350,150,4699,14.5,74,1,buick century luxus (sw)\r",
      "\r\n",
      "14,8,318,150,4457,13.5,74,1,dodge coronet custom (sw)\r",
      "\r\n",
      "14,8,302,140,4638,16,74,1,ford gran torino (sw)\r",
      "\r\n",
      "14,8,304,150,4257,15.5,74,1,amc matador (sw)\r",
      "\r\n",
      "29,4,98,83,2219,16.5,74,2,audi fox\r",
      "\r\n",
      "26,4,79,67,1963,15.5,74,2,volkswagen dasher\r",
      "\r\n",
      "26,4,97,78,2300,14.5,74,2,opel manta\r",
      "\r\n",
      "31,4,76,52,1649,16.5,74,3,toyota corona\r",
      "\r\n",
      "32,4,83,61,2003,19,74,3,datsun 710\r",
      "\r\n",
      "28,4,90,75,2125,14.5,74,1,dodge colt\r",
      "\r\n",
      "24,4,90,75,2108,15.5,74,2,fiat 128\r",
      "\r\n",
      "26,4,116,75,2246,14,74,2,fiat 124 tc\r",
      "\r\n",
      "24,4,120,97,2489,15,74,3,honda civic\r",
      "\r\n",
      "26,4,108,93,2391,15.5,74,3,subaru\r",
      "\r\n",
      "31,4,79,67,2000,16,74,2,fiat x1.9\r",
      "\r\n",
      "19,6,225,95,3264,16,75,1,plymouth valiant custom\r",
      "\r\n",
      "18,6,250,105,3459,16,75,1,chevrolet nova\r",
      "\r\n",
      "15,6,250,72,3432,21,75,1,mercury monarch\r",
      "\r\n",
      "15,6,250,72,3158,19.5,75,1,ford maverick\r",
      "\r\n",
      "16,8,400,170,4668,11.5,75,1,pontiac catalina\r",
      "\r\n",
      "15,8,350,145,4440,14,75,1,chevrolet bel air\r",
      "\r\n",
      "16,8,318,150,4498,14.5,75,1,plymouth grand fury\r",
      "\r\n",
      "14,8,351,148,4657,13.5,75,1,ford ltd\r",
      "\r\n",
      "17,6,231,110,3907,21,75,1,buick century\r",
      "\r\n",
      "16,6,250,105,3897,18.5,75,1,chevroelt chevelle malibu\r",
      "\r\n",
      "15,6,258,110,3730,19,75,1,amc matador\r",
      "\r\n",
      "18,6,225,95,3785,19,75,1,plymouth fury\r",
      "\r\n",
      "21,6,231,110,3039,15,75,1,buick skyhawk\r",
      "\r\n",
      "20,8,262,110,3221,13.5,75,1,chevrolet monza 2+2\r",
      "\r\n",
      "13,8,302,129,3169,12,75,1,ford mustang ii\r",
      "\r\n",
      "29,4,97,75,2171,16,75,3,toyota corolla\r",
      "\r\n",
      "23,4,140,83,2639,17,75,1,ford pinto\r",
      "\r\n",
      "20,6,232,100,2914,16,75,1,amc gremlin\r",
      "\r\n",
      "23,4,140,78,2592,18.5,75,1,pontiac astro\r",
      "\r\n",
      "24,4,134,96,2702,13.5,75,3,toyota corona\r",
      "\r\n",
      "25,4,90,71,2223,16.5,75,2,volkswagen dasher\r",
      "\r\n",
      "24,4,119,97,2545,17,75,3,datsun 710\r",
      "\r\n",
      "18,6,171,97,2984,14.5,75,1,ford pinto\r",
      "\r\n",
      "29,4,90,70,1937,14,75,2,volkswagen rabbit\r",
      "\r\n",
      "19,6,232,90,3211,17,75,1,amc pacer\r",
      "\r\n",
      "23,4,115,95,2694,15,75,2,audi 100ls\r",
      "\r\n",
      "23,4,120,88,2957,17,75,2,peugeot 504\r",
      "\r\n",
      "22,4,121,98,2945,14.5,75,2,volvo 244dl\r",
      "\r\n",
      "25,4,121,115,2671,13.5,75,2,saab 99le\r",
      "\r\n",
      "33,4,91,53,1795,17.5,75,3,honda civic cvcc\r",
      "\r\n",
      "28,4,107,86,2464,15.5,76,2,fiat 131\r",
      "\r\n",
      "25,4,116,81,2220,16.9,76,2,opel 1900\r",
      "\r\n",
      "25,4,140,92,2572,14.9,76,1,capri ii\r",
      "\r\n",
      "26,4,98,79,2255,17.7,76,1,dodge colt\r",
      "\r\n",
      "27,4,101,83,2202,15.3,76,2,renault 12tl\r",
      "\r\n",
      "17.5,8,305,140,4215,13,76,1,chevrolet chevelle malibu classic\r",
      "\r\n",
      "16,8,318,150,4190,13,76,1,dodge coronet brougham\r",
      "\r\n",
      "15.5,8,304,120,3962,13.9,76,1,amc matador\r",
      "\r\n",
      "14.5,8,351,152,4215,12.8,76,1,ford gran torino\r",
      "\r\n",
      "22,6,225,100,3233,15.4,76,1,plymouth valiant\r",
      "\r\n",
      "22,6,250,105,3353,14.5,76,1,chevrolet nova\r",
      "\r\n",
      "24,6,200,81,3012,17.6,76,1,ford maverick\r",
      "\r\n",
      "22.5,6,232,90,3085,17.6,76,1,amc hornet\r",
      "\r\n",
      "29,4,85,52,2035,22.2,76,1,chevrolet chevette\r",
      "\r\n",
      "24.5,4,98,60,2164,22.1,76,1,chevrolet woody\r",
      "\r\n",
      "29,4,90,70,1937,14.2,76,2,vw rabbit\r",
      "\r\n",
      "33,4,91,53,1795,17.4,76,3,honda civic\r",
      "\r\n",
      "20,6,225,100,3651,17.7,76,1,dodge aspen se\r",
      "\r\n",
      "18,6,250,78,3574,21,76,1,ford granada ghia\r",
      "\r\n",
      "18.5,6,250,110,3645,16.2,76,1,pontiac ventura sj\r",
      "\r\n",
      "17.5,6,258,95,3193,17.8,76,1,amc pacer d/l\r",
      "\r\n",
      "29.5,4,97,71,1825,12.2,76,2,volkswagen rabbit\r",
      "\r\n",
      "32,4,85,70,1990,17,76,3,datsun b-210\r",
      "\r\n",
      "28,4,97,75,2155,16.4,76,3,toyota corolla\r",
      "\r\n",
      "26.5,4,140,72,2565,13.6,76,1,ford pinto\r",
      "\r\n",
      "20,4,130,102,3150,15.7,76,2,volvo 245\r",
      "\r\n",
      "13,8,318,150,3940,13.2,76,1,plymouth volare premier v8\r",
      "\r\n",
      "19,4,120,88,3270,21.9,76,2,peugeot 504\r",
      "\r\n",
      "19,6,156,108,2930,15.5,76,3,toyota mark ii\r",
      "\r\n",
      "16.5,6,168,120,3820,16.7,76,2,mercedes-benz 280s\r",
      "\r\n",
      "16.5,8,350,180,4380,12.1,76,1,cadillac seville\r",
      "\r\n",
      "13,8,350,145,4055,12,76,1,chevy c10\r",
      "\r\n",
      "13,8,302,130,3870,15,76,1,ford f108\r",
      "\r\n",
      "13,8,318,150,3755,14,76,1,dodge d100\r",
      "\r\n",
      "31.5,4,98,68,2045,18.5,77,3,honda accord cvcc\r",
      "\r\n",
      "30,4,111,80,2155,14.8,77,1,buick opel isuzu deluxe\r",
      "\r\n",
      "36,4,79,58,1825,18.6,77,2,renault 5 gtl\r",
      "\r\n",
      "25.5,4,122,96,2300,15.5,77,1,plymouth arrow gs\r",
      "\r\n",
      "33.5,4,85,70,1945,16.8,77,3,datsun f-10 hatchback\r",
      "\r\n",
      "17.5,8,305,145,3880,12.5,77,1,chevrolet caprice classic\r",
      "\r\n",
      "17,8,260,110,4060,19,77,1,oldsmobile cutlass supreme\r",
      "\r\n",
      "15.5,8,318,145,4140,13.7,77,1,dodge monaco brougham\r",
      "\r\n",
      "15,8,302,130,4295,14.9,77,1,mercury cougar brougham\r",
      "\r\n",
      "17.5,6,250,110,3520,16.4,77,1,chevrolet concours\r",
      "\r\n",
      "20.5,6,231,105,3425,16.9,77,1,buick skylark\r",
      "\r\n",
      "19,6,225,100,3630,17.7,77,1,plymouth volare custom\r",
      "\r\n",
      "18.5,6,250,98,3525,19,77,1,ford granada\r",
      "\r\n",
      "16,8,400,180,4220,11.1,77,1,pontiac grand prix lj\r",
      "\r\n",
      "15.5,8,350,170,4165,11.4,77,1,chevrolet monte carlo landau\r",
      "\r\n",
      "15.5,8,400,190,4325,12.2,77,1,chrysler cordoba\r",
      "\r\n",
      "16,8,351,149,4335,14.5,77,1,ford thunderbird\r",
      "\r\n",
      "29,4,97,78,1940,14.5,77,2,volkswagen rabbit custom\r",
      "\r\n",
      "24.5,4,151,88,2740,16,77,1,pontiac sunbird coupe\r",
      "\r\n",
      "26,4,97,75,2265,18.2,77,3,toyota corolla liftback\r",
      "\r\n",
      "25.5,4,140,89,2755,15.8,77,1,ford mustang ii 2+2\r",
      "\r\n",
      "30.5,4,98,63,2051,17,77,1,chevrolet chevette\r",
      "\r\n",
      "33.5,4,98,83,2075,15.9,77,1,dodge colt m/m\r",
      "\r\n",
      "30,4,97,67,1985,16.4,77,3,subaru dl\r",
      "\r\n",
      "30.5,4,97,78,2190,14.1,77,2,volkswagen dasher\r",
      "\r\n",
      "22,6,146,97,2815,14.5,77,3,datsun 810\r",
      "\r\n",
      "21.5,4,121,110,2600,12.8,77,2,bmw 320i\r",
      "\r\n",
      "21.5,3,80,110,2720,13.5,77,3,mazda rx-4\r",
      "\r\n",
      "43.1,4,90,48,1985,21.5,78,2,volkswagen rabbit custom diesel\r",
      "\r\n",
      "36.1,4,98,66,1800,14.4,78,1,ford fiesta\r",
      "\r\n",
      "32.8,4,78,52,1985,19.4,78,3,mazda glc deluxe\r",
      "\r\n",
      "39.4,4,85,70,2070,18.6,78,3,datsun b210 gx\r",
      "\r\n",
      "36.1,4,91,60,1800,16.4,78,3,honda civic cvcc\r",
      "\r\n",
      "19.9,8,260,110,3365,15.5,78,1,oldsmobile cutlass salon brougham\r",
      "\r\n",
      "19.4,8,318,140,3735,13.2,78,1,dodge diplomat\r",
      "\r\n",
      "20.2,8,302,139,3570,12.8,78,1,mercury monarch ghia\r",
      "\r\n",
      "19.2,6,231,105,3535,19.2,78,1,pontiac phoenix lj\r",
      "\r\n",
      "20.5,6,200,95,3155,18.2,78,1,chevrolet malibu\r",
      "\r\n",
      "20.2,6,200,85,2965,15.8,78,1,ford fairmont (auto)\r",
      "\r\n",
      "25.1,4,140,88,2720,15.4,78,1,ford fairmont (man)\r",
      "\r\n",
      "20.5,6,225,100,3430,17.2,78,1,plymouth volare\r",
      "\r\n",
      "19.4,6,232,90,3210,17.2,78,1,amc concord\r",
      "\r\n",
      "20.6,6,231,105,3380,15.8,78,1,buick century special\r",
      "\r\n",
      "20.8,6,200,85,3070,16.7,78,1,mercury zephyr\r",
      "\r\n",
      "18.6,6,225,110,3620,18.7,78,1,dodge aspen\r",
      "\r\n",
      "18.1,6,258,120,3410,15.1,78,1,amc concord d/l\r",
      "\r\n",
      "19.2,8,305,145,3425,13.2,78,1,chevrolet monte carlo landau\r",
      "\r\n",
      "17.7,6,231,165,3445,13.4,78,1,buick regal sport coupe (turbo)\r",
      "\r\n",
      "18.1,8,302,139,3205,11.2,78,1,ford futura\r",
      "\r\n",
      "17.5,8,318,140,4080,13.7,78,1,dodge magnum xe\r",
      "\r\n",
      "30,4,98,68,2155,16.5,78,1,chevrolet chevette\r",
      "\r\n",
      "27.5,4,134,95,2560,14.2,78,3,toyota corona\r",
      "\r\n",
      "27.2,4,119,97,2300,14.7,78,3,datsun 510\r",
      "\r\n",
      "30.9,4,105,75,2230,14.5,78,1,dodge omni\r",
      "\r\n",
      "21.1,4,134,95,2515,14.8,78,3,toyota celica gt liftback\r",
      "\r\n",
      "23.2,4,156,105,2745,16.7,78,1,plymouth sapporo\r",
      "\r\n",
      "23.8,4,151,85,2855,17.6,78,1,oldsmobile starfire sx\r",
      "\r\n",
      "23.9,4,119,97,2405,14.9,78,3,datsun 200-sx\r",
      "\r\n",
      "20.3,5,131,103,2830,15.9,78,2,audi 5000\r",
      "\r\n",
      "17,6,163,125,3140,13.6,78,2,volvo 264gl\r",
      "\r\n",
      "21.6,4,121,115,2795,15.7,78,2,saab 99gle\r",
      "\r\n",
      "16.2,6,163,133,3410,15.8,78,2,peugeot 604sl\r",
      "\r\n",
      "31.5,4,89,71,1990,14.9,78,2,volkswagen scirocco\r",
      "\r\n",
      "29.5,4,98,68,2135,16.6,78,3,honda accord lx\r",
      "\r\n",
      "21.5,6,231,115,3245,15.4,79,1,pontiac lemans v6\r",
      "\r\n",
      "19.8,6,200,85,2990,18.2,79,1,mercury zephyr 6\r",
      "\r\n",
      "22.3,4,140,88,2890,17.3,79,1,ford fairmont 4\r",
      "\r\n",
      "20.2,6,232,90,3265,18.2,79,1,amc concord dl 6\r",
      "\r\n",
      "20.6,6,225,110,3360,16.6,79,1,dodge aspen 6\r",
      "\r\n",
      "17,8,305,130,3840,15.4,79,1,chevrolet caprice classic\r",
      "\r\n",
      "17.6,8,302,129,3725,13.4,79,1,ford ltd landau\r",
      "\r\n",
      "16.5,8,351,138,3955,13.2,79,1,mercury grand marquis\r",
      "\r\n",
      "18.2,8,318,135,3830,15.2,79,1,dodge st. regis\r",
      "\r\n",
      "16.9,8,350,155,4360,14.9,79,1,buick estate wagon (sw)\r",
      "\r\n",
      "15.5,8,351,142,4054,14.3,79,1,ford country squire (sw)\r",
      "\r\n",
      "19.2,8,267,125,3605,15,79,1,chevrolet malibu classic (sw)\r",
      "\r\n",
      "18.5,8,360,150,3940,13,79,1,chrysler lebaron town @ country (sw)\r",
      "\r\n",
      "31.9,4,89,71,1925,14,79,2,vw rabbit custom\r",
      "\r\n",
      "34.1,4,86,65,1975,15.2,79,3,maxda glc deluxe\r",
      "\r\n",
      "35.7,4,98,80,1915,14.4,79,1,dodge colt hatchback custom\r",
      "\r\n",
      "27.4,4,121,80,2670,15,79,1,amc spirit dl\r",
      "\r\n",
      "25.4,5,183,77,3530,20.1,79,2,mercedes benz 300d\r",
      "\r\n",
      "23,8,350,125,3900,17.4,79,1,cadillac eldorado\r",
      "\r\n",
      "27.2,4,141,71,3190,24.8,79,2,peugeot 504\r",
      "\r\n",
      "23.9,8,260,90,3420,22.2,79,1,oldsmobile cutlass salon brougham\r",
      "\r\n",
      "34.2,4,105,70,2200,13.2,79,1,plymouth horizon\r",
      "\r\n",
      "34.5,4,105,70,2150,14.9,79,1,plymouth horizon tc3\r",
      "\r\n",
      "31.8,4,85,65,2020,19.2,79,3,datsun 210\r",
      "\r\n",
      "37.3,4,91,69,2130,14.7,79,2,fiat strada custom\r",
      "\r\n",
      "28.4,4,151,90,2670,16,79,1,buick skylark limited\r",
      "\r\n",
      "28.8,6,173,115,2595,11.3,79,1,chevrolet citation\r",
      "\r\n",
      "26.8,6,173,115,2700,12.9,79,1,oldsmobile omega brougham\r",
      "\r\n",
      "33.5,4,151,90,2556,13.2,79,1,pontiac phoenix\r",
      "\r\n",
      "41.5,4,98,76,2144,14.7,80,2,vw rabbit\r",
      "\r\n",
      "38.1,4,89,60,1968,18.8,80,3,toyota corolla tercel\r",
      "\r\n",
      "32.1,4,98,70,2120,15.5,80,1,chevrolet chevette\r",
      "\r\n",
      "37.2,4,86,65,2019,16.4,80,3,datsun 310\r",
      "\r\n",
      "28,4,151,90,2678,16.5,80,1,chevrolet citation\r",
      "\r\n",
      "26.4,4,140,88,2870,18.1,80,1,ford fairmont\r",
      "\r\n",
      "24.3,4,151,90,3003,20.1,80,1,amc concord\r",
      "\r\n",
      "19.1,6,225,90,3381,18.7,80,1,dodge aspen\r",
      "\r\n",
      "34.3,4,97,78,2188,15.8,80,2,audi 4000\r",
      "\r\n",
      "29.8,4,134,90,2711,15.5,80,3,toyota corona liftback\r",
      "\r\n",
      "31.3,4,120,75,2542,17.5,80,3,mazda 626\r",
      "\r\n",
      "37,4,119,92,2434,15,80,3,datsun 510 hatchback\r",
      "\r\n",
      "32.2,4,108,75,2265,15.2,80,3,toyota corolla\r",
      "\r\n",
      "46.6,4,86,65,2110,17.9,80,3,mazda glc\r",
      "\r\n",
      "27.9,4,156,105,2800,14.4,80,1,dodge colt\r",
      "\r\n",
      "40.8,4,85,65,2110,19.2,80,3,datsun 210\r",
      "\r\n",
      "44.3,4,90,48,2085,21.7,80,2,vw rabbit c (diesel)\r",
      "\r\n",
      "43.4,4,90,48,2335,23.7,80,2,vw dasher (diesel)\r",
      "\r\n",
      "36.4,5,121,67,2950,19.9,80,2,audi 5000s (diesel)\r",
      "\r\n",
      "30,4,146,67,3250,21.8,80,2,mercedes-benz 240d\r",
      "\r\n",
      "44.6,4,91,67,1850,13.8,80,3,honda civic 1500 gl\r",
      "\r\n",
      "40.9,4,85,?,1835,17.3,80,2,renault lecar deluxe\r",
      "\r\n",
      "33.8,4,97,67,2145,18,80,3,subaru dl\r",
      "\r\n",
      "29.8,4,89,62,1845,15.3,80,2,vokswagen rabbit\r",
      "\r\n",
      "32.7,6,168,132,2910,11.4,80,3,datsun 280-zx\r",
      "\r\n",
      "23.7,3,70,100,2420,12.5,80,3,mazda rx-7 gs\r",
      "\r\n",
      "35,4,122,88,2500,15.1,80,2,triumph tr7 coupe\r",
      "\r\n",
      "23.6,4,140,?,2905,14.3,80,1,ford mustang cobra\r",
      "\r\n",
      "32.4,4,107,72,2290,17,80,3,honda accord\r",
      "\r\n",
      "27.2,4,135,84,2490,15.7,81,1,plymouth reliant\r",
      "\r\n",
      "26.6,4,151,84,2635,16.4,81,1,buick skylark\r",
      "\r\n",
      "25.8,4,156,92,2620,14.4,81,1,dodge aries wagon (sw)\r",
      "\r\n",
      "23.5,6,173,110,2725,12.6,81,1,chevrolet citation\r",
      "\r\n",
      "30,4,135,84,2385,12.9,81,1,plymouth reliant\r",
      "\r\n",
      "39.1,4,79,58,1755,16.9,81,3,toyota starlet\r",
      "\r\n",
      "39,4,86,64,1875,16.4,81,1,plymouth champ\r",
      "\r\n",
      "35.1,4,81,60,1760,16.1,81,3,honda civic 1300\r",
      "\r\n",
      "32.3,4,97,67,2065,17.8,81,3,subaru\r",
      "\r\n",
      "37,4,85,65,1975,19.4,81,3,datsun 210 mpg\r",
      "\r\n",
      "37.7,4,89,62,2050,17.3,81,3,toyota tercel\r",
      "\r\n",
      "34.1,4,91,68,1985,16,81,3,mazda glc 4\r",
      "\r\n",
      "34.7,4,105,63,2215,14.9,81,1,plymouth horizon 4\r",
      "\r\n",
      "34.4,4,98,65,2045,16.2,81,1,ford escort 4w\r",
      "\r\n",
      "29.9,4,98,65,2380,20.7,81,1,ford escort 2h\r",
      "\r\n",
      "33,4,105,74,2190,14.2,81,2,volkswagen jetta\r",
      "\r\n",
      "34.5,4,100,?,2320,15.8,81,2,renault 18i\r",
      "\r\n",
      "33.7,4,107,75,2210,14.4,81,3,honda prelude\r",
      "\r\n",
      "32.4,4,108,75,2350,16.8,81,3,toyota corolla\r",
      "\r\n",
      "32.9,4,119,100,2615,14.8,81,3,datsun 200sx\r",
      "\r\n",
      "31.6,4,120,74,2635,18.3,81,3,mazda 626\r",
      "\r\n",
      "28.1,4,141,80,3230,20.4,81,2,peugeot 505s turbo diesel\r",
      "\r\n",
      "30.7,6,145,76,3160,19.6,81,2,volvo diesel\r",
      "\r\n",
      "25.4,6,168,116,2900,12.6,81,3,toyota cressida\r",
      "\r\n",
      "24.2,6,146,120,2930,13.8,81,3,datsun 810 maxima\r",
      "\r\n",
      "22.4,6,231,110,3415,15.8,81,1,buick century\r",
      "\r\n",
      "26.6,8,350,105,3725,19,81,1,oldsmobile cutlass ls\r",
      "\r\n",
      "20.2,6,200,88,3060,17.1,81,1,ford granada gl\r",
      "\r\n",
      "17.6,6,225,85,3465,16.6,81,1,chrysler lebaron salon\r",
      "\r\n",
      "28,4,112,88,2605,19.6,82,1,chevrolet cavalier\r",
      "\r\n",
      "27,4,112,88,2640,18.6,82,1,chevrolet cavalier wagon\r",
      "\r\n",
      "34,4,112,88,2395,18,82,1,chevrolet cavalier 2-door\r",
      "\r\n",
      "31,4,112,85,2575,16.2,82,1,pontiac j2000 se hatchback\r",
      "\r\n",
      "29,4,135,84,2525,16,82,1,dodge aries se\r",
      "\r\n",
      "27,4,151,90,2735,18,82,1,pontiac phoenix\r",
      "\r\n",
      "24,4,140,92,2865,16.4,82,1,ford fairmont futura\r",
      "\r\n",
      "23,4,151,?,3035,20.5,82,1,amc concord dl\r",
      "\r\n",
      "36,4,105,74,1980,15.3,82,2,volkswagen rabbit l\r",
      "\r\n",
      "37,4,91,68,2025,18.2,82,3,mazda glc custom l\r",
      "\r\n",
      "31,4,91,68,1970,17.6,82,3,mazda glc custom\r",
      "\r\n",
      "38,4,105,63,2125,14.7,82,1,plymouth horizon miser\r",
      "\r\n",
      "36,4,98,70,2125,17.3,82,1,mercury lynx l\r",
      "\r\n",
      "36,4,120,88,2160,14.5,82,3,nissan stanza xe\r",
      "\r\n",
      "36,4,107,75,2205,14.5,82,3,honda accord\r",
      "\r\n",
      "34,4,108,70,2245,16.9,82,3,toyota corolla\r",
      "\r\n",
      "38,4,91,67,1965,15,82,3,honda civic\r",
      "\r\n",
      "32,4,91,67,1965,15.7,82,3,honda civic (auto)\r",
      "\r\n",
      "38,4,91,67,1995,16.2,82,3,datsun 310 gx\r",
      "\r\n",
      "25,6,181,110,2945,16.4,82,1,buick century limited\r",
      "\r\n",
      "38,6,262,85,3015,17,82,1,oldsmobile cutlass ciera (diesel)\r",
      "\r\n",
      "26,4,156,92,2585,14.5,82,1,chrysler lebaron medallion\r",
      "\r\n",
      "22,6,232,112,2835,14.7,82,1,ford granada l\r",
      "\r\n",
      "32,4,144,96,2665,13.9,82,3,toyota celica gt\r",
      "\r\n",
      "36,4,135,84,2370,13,82,1,dodge charger 2.2\r",
      "\r\n",
      "27,4,151,90,2950,17.3,82,1,chevrolet camaro\r",
      "\r\n",
      "27,4,140,86,2790,15.6,82,1,ford mustang gl\r",
      "\r\n",
      "44,4,97,52,2130,24.6,82,2,vw pickup\r",
      "\r\n",
      "32,4,135,84,2295,11.6,82,1,dodge rampage\r",
      "\r\n",
      "28,4,120,79,2625,18.6,82,1,ford ranger\r",
      "\r\n",
      "31,4,119,82,2720,19.4,82,1,chevy s-10\r",
      "\r\n"
     ]
    }
   ],
   "source": [
    "cat linear_regression/auto_mpg.csv"
   ]
  },
  {
   "cell_type": "code",
   "execution_count": 24,
   "metadata": {},
   "outputs": [
    {
     "name": "stdout",
     "output_type": "stream",
     "text": [
      "[ 23.28753423]\n"
     ]
    },
    {
     "data": {
      "image/png": "[encoded data removed]",
      "text/plain": [
       "<Figure size 432x288 with 1 Axes>"
      ]
     },
     "metadata": {
      "needs_background": "light"
     },
     "output_type": "display_data"
    }
   ],
   "source": [
    "# 从csv文件中读取数据，分别为：X列表和对应的Y列表\n",
    "def get_data(file_name):\n",
    "    # 1. 用pandas读取csv\n",
    "    data = pd.read_csv(file_name) \n",
    "    # 2. 构造X列表和Y列表\n",
    "    X = []\n",
    "    Y = []\n",
    "    for weight,mpg in zip(data['weight'],data['mpg']):\n",
    "        X.append([float(weight)])\n",
    "        Y.append(float(mpg))\n",
    "    return X,Y\n",
    "\n",
    "# 获取线性回归模型\n",
    "def get_linear_model(X,Y):\n",
    "    model = LinearRegression()\n",
    "    model.fit(X,Y)\n",
    "    return model\n",
    "\n",
    "# 绘出图像\n",
    "def show_linear_line(X,Y,model):\n",
    "    # 1. 绘出已知数据散点图\n",
    "    plt.scatter(X,Y,color = 'blue')\n",
    "    # 2. 绘出预测直线\n",
    "    plt.plot(X,model.predict(X),color = 'red',linewidth = 4)\n",
    "    plt.title('Predict the mpg')\n",
    "    plt.xlabel('weight')\n",
    "    plt.ylabel('mpg')\n",
    "    plt.show()\n",
    "\n",
    "def main():\n",
    "    # 1. 读取数据\n",
    "    X,Y = get_data('linear_regression/auto_mpg.csv')\n",
    "    # 2. 模型训练\n",
    "    model = get_linear_model(X,Y)\n",
    "    # 3. 获取车辆重量为3000时的预测行驶距离\n",
    "    weight_pre = [3000]\n",
    "    mpg_pre = np.asarray(weight_pre)\n",
    "    print(model.predict(mpg_pre.reshape(1,-1)))\n",
    "    # 4. 绘图\n",
    "    show_linear_line(X,Y,model)\n",
    "\n",
    "if __name__ == '__main__':\n",
    "    main()"
   ]
  },
  {
   "cell_type": "markdown",
   "metadata": {},
   "source": [
    "## 实验总结"
   ]
  },
  {
   "cell_type": "markdown",
   "metadata": {},
   "source": [
    "### 1. 掌握内容\n",
    "通过本实验，你应该至少掌握了机器学习的以下几点：\n",
    "* 了解机器学习和回归的关系\n",
    "* 一元线性回归的基本思想\n",
    "* 一元线性回归的数学原理\n",
    "* 熟练的使用sklearn提供的一元线性回归库\n",
    "* 可以将一元线性回归应用到实际问题的解决中"
   ]
  },
  {
   "cell_type": "markdown",
   "metadata": {},
   "source": [
    "## 参考文献与延伸阅读"
   ]
  },
  {
   "cell_type": "markdown",
   "metadata": {},
   "source": [
    "### 参考资料:"
   ]
  },
  {
   "cell_type": "markdown",
   "metadata": {},
   "source": [
    "1.哈林顿，李锐. 机器学习实战 : Machine learning in action[M]. 人民邮电出版社, 2013.  \n",
    "2.周志华. 机器学习:Machine learning[M]. 清华大学出版社, 2016."
   ]
  },
  {
   "cell_type": "markdown",
   "metadata": {},
   "source": [
    "### 延伸阅读"
   ]
  },
  {
   "cell_type": "markdown",
   "metadata": {},
   "source": [
    "1.李航. 统计学习方法[M]. 清华大学出版社, 2012."
   ]
  }
 ],
 "metadata": {
  "kernelspec": {
   "display_name": "Python 3",
   "language": "python",
   "name": "python3"
  },
  "language_info": {
   "codemirror_mode": {
    "name": "ipython",
    "version": 3
   },
   "file_extension": ".py",
   "mimetype": "text/x-python",
   "name": "python",
   "nbconvert_exporter": "python",
   "pygments_lexer": "ipython3",
   "version": "3.6.7"
  }
 },
 "nbformat": 4,
 "nbformat_minor": 1
}
