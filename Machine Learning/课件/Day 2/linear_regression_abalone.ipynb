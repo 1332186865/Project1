{
 "cells": [
  {
   "cell_type": "markdown",
   "metadata": {},
   "source": [
    "## 实验介绍"
   ]
  },
  {
   "cell_type": "markdown",
   "metadata": {},
   "source": [
    "### 1.实验内容"
   ]
  },
  {
   "cell_type": "markdown",
   "metadata": {},
   "source": [
    "本实验通过运用线性回归方法预测鲍鱼年龄。"
   ]
  },
  {
   "cell_type": "markdown",
   "metadata": {},
   "source": [
    "### 2.实验目标"
   ]
  },
  {
   "cell_type": "markdown",
   "metadata": {},
   "source": [
    "通过本实验掌握并实现基于线性回归方法预测鲍鱼年龄。"
   ]
  },
  {
   "cell_type": "markdown",
   "metadata": {},
   "source": [
    "### 3.实验知识点"
   ]
  },
  {
   "cell_type": "markdown",
   "metadata": {},
   "source": [
    "* 线性回归"
   ]
  },
  {
   "cell_type": "markdown",
   "metadata": {},
   "source": [
    "### 4.实验环境"
   ]
  },
  {
   "cell_type": "markdown",
   "metadata": {},
   "source": [
    "* python 3.6.5"
   ]
  },
  {
   "cell_type": "markdown",
   "metadata": {},
   "source": [
    "### 5.预备知识"
   ]
  },
  {
   "cell_type": "markdown",
   "metadata": {},
   "source": [
    "* Python编程基础"
   ]
  },
  {
   "cell_type": "markdown",
   "metadata": {},
   "source": [
    "## 数据准备"
   ]
  },
  {
   "cell_type": "markdown",
   "metadata": {},
   "source": [
    "点击屏幕右上方的下载实验数据模块，选择下载linear_regression_abalone.tgz到指定目录下，然后再依次选择点击上方的File->Open->Upload,上传刚才下载的数据集压缩包，再使用如下命令解压："
   ]
  },
  {
   "cell_type": "code",
   "execution_count": 1,
   "metadata": {},
   "outputs": [
    {
     "name": "stdout",
     "output_type": "stream",
     "text": [
      "linear_regression_abalone/\r\n",
      "linear_regression_abalone/abalone.txt\r\n"
     ]
    }
   ],
   "source": [
    "!tar -zxvf linear_regression_abalone.tgz"
   ]
  },
  {
   "cell_type": "markdown",
   "metadata": {},
   "source": [
    "本实验的数据集目录为：linear_regression_abalone，数据集文件为目录下的abalone.txt文件。\n",
    "\n",
    "线性回归算法可以对真实数据进行预测。\n",
    "\n",
    "该数据记录了鲍鱼的年龄，及其他的特征量。鲍鱼年龄可由鲍鱼壳的层数推算得到。\n",
    "\n",
    "我们先来看下数据格式。由于包含多个数据特征，我们无法在二维平面下展示数据的分布。"
   ]
  },
  {
   "cell_type": "code",
   "execution_count": 1,
   "metadata": {},
   "outputs": [
    {
     "name": "stderr",
     "output_type": "stream",
     "text": [
      "命令语法不正确。\n"
     ]
    }
   ],
   "source": [
    "!type linear_regression_abalone / abalone.txt"
   ]
  },
  {
   "cell_type": "markdown",
   "metadata": {},
   "source": [
    "我们可以看到数据集中包含多个数据特征，但我们只需要知道最后一列为鲍鱼的年龄，即我们的y值。我们将上面的数据分别应用于标准线性回归和局部加权线性回归。"
   ]
  },
  {
   "cell_type": "markdown",
   "metadata": {},
   "source": [
    "##  【练习】代码实现"
   ]
  },
  {
   "cell_type": "code",
   "execution_count": 1,
   "metadata": {},
   "outputs": [],
   "source": [
    "#导入实验需要的库numpy、matplotlib.pyplot\n",
    "#!/usr/bin/env python\n",
    "#-*- coding:utf-8 -*-\n",
    "from numpy import *"
   ]
  },
  {
   "cell_type": "markdown",
   "metadata": {},
   "source": [
    "实现文件上传函数，传入filename文件路径参数，返回模型训练需要的数据矩阵和目标值向量。"
   ]
  },
  {
   "cell_type": "code",
   "execution_count": 13,
   "metadata": {},
   "outputs": [],
   "source": [
    "#实验文件上传函数\n",
    "def loadDataSet(fileName):\n",
    "    \"\"\" 打开一个用tab键分隔的文本文件\n",
    "\n",
    "    :param fileName: -文件名\n",
    "    :return: dataMat -数据矩阵 labelMat -目标值向量\n",
    "    \"\"\"\n",
    "    #得到列数，不包括最后一列，默认最后一列值为目标值\n",
    "    numFeat = len(open(fileName).readline().split('\\t')) - 1\n",
    "    #定义初始数据集\n",
    "    dataMat = []\n",
    "    labelMat = []\n",
    "    #读取文件内容\n",
    "    fr = open(fileName)\n",
    "    #构造数据集\n",
    "    for line in fr.readlines():\n",
    "        date = []\n",
    "        temp = line.strip().split('\\t')\n",
    "        for i in range(numFeat):\n",
    "            date.append(float(temp[i]))\n",
    "        dataMat.append(date)\n",
    "        labelMat.append(float(temp[-1]))\n",
    "    return dataMat, labelMat"
   ]
  },
  {
   "cell_type": "markdown",
   "metadata": {},
   "source": [
    "代码实现计算最佳拟合直线，通过给定的参数x、y。来计算最佳的w值，代码实现最小二乘法。"
   ]
  },
  {
   "cell_type": "code",
   "execution_count": 28,
   "metadata": {},
   "outputs": [],
   "source": [
    "def standRegres(xArr, yArr):\n",
    "    \"\"\"\n",
    "    计算最佳拟合直线\n",
    "\n",
    "        :param xArr: 给定的输入值\n",
    "        :param yArr: 给定的输出值\n",
    "        :return: 回归系数\n",
    "    \"\"\"\n",
    "    #将数据保存到矩阵中\n",
    "    xArr = asmatrix(xArr)\n",
    "    yArr = asmatrix(yArr).T\n",
    "    #计算x.T *x\n",
    "    data = xArr.T * xArr\n",
    "    #使用linalg.det()方法来判断它的行列式是否为零，即是否可逆\n",
    "    if not linalg.det(data):\n",
    "        raise ValueError\n",
    "    #使用最小二乘法计算w值\n",
    "    ws = data.I * (xArr.T * yArr)  #使用最小二乘法计算w值 矩阵.I逆矩阵\n",
    "    return ws"
   ]
  },
  {
   "cell_type": "markdown",
   "metadata": {},
   "source": [
    "代码实现计算回归系数。"
   ]
  },
  {
   "cell_type": "code",
   "execution_count": null,
   "metadata": {},
   "outputs": [],
   "source": [
    "\"\"\"\n",
    "计算回归系数\n",
    "parameters:\n",
    "    testPoint -待预测数据\n",
    "    xArr -给定输入值\n",
    "    yArr -给定输出值\n",
    "    k -高斯核的k值，决定对附近的点赋予多大的权重\n",
    "return:\n",
    "    testPoint * ws -回归系数的估计值\n",
    "\"\"\"\n",
    "\n",
    "\n",
    "def lwlr(testPoint, xArr, yArr, k=1.0):\n",
    "    ### Start Code Here ###\n",
    "    #读入数据到矩阵\n",
    "\n",
    "    #获取样本点个数\n",
    "\n",
    "    #创建对角权重矩阵，该矩阵为方阵，阶数为样本点个数\n",
    "\n",
    "    #遍历整个数据集\n",
    "    #计算每个样本点对应的权重值，随着样本点与待预测点距离的递增，权重将以指数级衰减\n",
    "\n",
    "    #判断矩阵是否可逆\n",
    "\n",
    "    #计算归回归系数\n",
    "\n",
    "    ### End Code Here ###\n",
    "\n",
    "    return testPoint * ws"
   ]
  },
  {
   "cell_type": "code",
   "execution_count": 23,
   "metadata": {},
   "outputs": [],
   "source": [
    "\"\"\"\n",
    "测试函数\n",
    "parameters:\n",
    "    testArr -测试数据集\n",
    "    xArr -给定输入值\n",
    "    yArr -给定输出值\n",
    "    k -高斯核的k值\n",
    "return:\n",
    "    yHat -预测值\n",
    "\"\"\"\n",
    "\n",
    "\n",
    "def lwlrTest(testArr, xArr, yArr, k=1.0):\n",
    "    m = shape(xArr)[0]\n",
    "    yHat = zeros(m)\n",
    "    for i in range(m):\n",
    "        yHat[i] = lwlr(testArr[i], xArr, yArr, k)\n",
    "    return yHat\n",
    "\n",
    "\n",
    "\"\"\"\n",
    "计算预测误差的平方和\n",
    "parameters:\n",
    "    yArr -给定y值\n",
    "    yHatArr -预测y值\n",
    "return:\n",
    "    ((yArr-yHatArr)**2).sum() -误差矩阵\n",
    "\"\"\"\n",
    "\n",
    "\n",
    "def rssError(yArr, yHatArr):\n",
    "    return ((yArr - yHatArr) ** 2).sum()"
   ]
  },
  {
   "cell_type": "code",
   "execution_count": 29,
   "metadata": {},
   "outputs": [
    {
     "name": "stdout",
     "output_type": "stream",
     "text": [
      "使用标准线性回归预测误差为： 518.6363153248552\n"
     ]
    }
   ],
   "source": [
    "if __name__ == '__main__':\n",
    "    abX, abY = loadDataSet('linear_regression_abalone/abalone.txt')\n",
    "    # yHat01 = lwlrTest(abX[0:99],abX[0:99],abY[0:99],0.1)\n",
    "    # yHat1 = lwlrTest(abX[0:99],abX[0:99],abY[0:99],1)\n",
    "    # yHat10 = lwlrTest(abX[0:99],abX[0:99],abY[0:99],10)\n",
    "    # print(\"使用局部加权线性回归预测误差：\")\n",
    "    # print(\"核为0.1时：\",rssError(abY[0:99],yHat01.T))\n",
    "    # print(\"核为1时：\",rssError(abY[0:99],yHat1.T))\n",
    "    # print(\"核为10时：\",rssError(abY[0:99],yHat10.T))\n",
    "    # yHat01 = lwlrTest(abX[100:199],abX[0:99],abY[0:99],0.1)\n",
    "    # yHat1 = lwlrTest(abX[100:199],abX[0:99],abY[0:99],1)\n",
    "    # yHat10 = lwlrTest(abX[100:199],abX[0:99],abY[0:99],10)\n",
    "    # print(\"使用局部加权线性回归预测误差在新数据上的表现：\")\n",
    "    # print(\"核为0.1时：\",rssError(abY[100:199],yHat01.T))\n",
    "    # print(\"核为1时：\",rssError(abY[100:199],yHat1.T))\n",
    "    # print(\"核为10时：\",rssError(abY[100:199],yHat10.T))\n",
    "    ws = standRegres(abX[0:99], abY[0:99])\n",
    "    yHat = mat(abX[100:199]) * ws\n",
    "    print(\"使用标准线性回归预测误差为：\", rssError(abY[100:199], yHat.T.A))"
   ]
  },
  {
   "cell_type": "markdown",
   "metadata": {},
   "source": [
    "可以看到，当k=0.1时，训练集误差小，但是应用于新的数据集之后，误差反而变大了。这就是经常说道的过拟合现象。我们训练的模型，我们要保证测试集准确率高，这样训练出的模型才可以应用于新的数据，也就是要加强模型的普适性。可以看到，当k=1时，局部加权线性回归和简单的线性回归得到的效果差不多。这也表明一点，必须在未知数据上比较效果才能选取到最佳模型。那么最佳的核大小是10吗？或许是，但如果想得到更好的效果，应该用10个不同的样本集做10次测试来比较结果。\n",
    "\n",
    "本次实验展示了如何使用局部加权线性回归来构建模型，可以得到比普通线性回归更好的效果。局部加权线性回归的问题在于，每次必须在整个数据集上运行。也就是说为了做出预测，必须保存所有的训练数据。"
   ]
  },
  {
   "cell_type": "markdown",
   "metadata": {},
   "source": [
    "## 实验总结"
   ]
  },
  {
   "cell_type": "markdown",
   "metadata": {},
   "source": [
    "通过本实验掌握并实现基于线性回归方法预测鲍鱼年龄。"
   ]
  }
 ],
 "metadata": {
  "kernelspec": {
   "name": "pytorch",
   "language": "python",
   "display_name": "Pytorch (pytorch)"
  },
  "language_info": {
   "codemirror_mode": {
    "name": "ipython",
    "version": 3
   },
   "file_extension": ".py",
   "mimetype": "text/x-python",
   "name": "python",
   "nbconvert_exporter": "python",
   "pygments_lexer": "ipython3",
   "version": "3.6.8"
  }
 },
 "nbformat": 4,
 "nbformat_minor": 1
}
