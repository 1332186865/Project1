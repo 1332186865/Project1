{
 "cells": [
  {
   "cell_type": "markdown",
   "metadata": {},
   "source": [
    "## 实验介绍"
   ]
  },
  {
   "cell_type": "markdown",
   "metadata": {},
   "source": [
    "### 1.实验内容"
   ]
  },
  {
   "cell_type": "markdown",
   "metadata": {},
   "source": [
    "本实验首先介绍一元线性回归的基本思想，然后给出其背后的数学原理。\n",
    "\n",
    "接着给出两个基于一元线性回归预测房价的示例，\n",
    "\n",
    "    第一个示例中，使用一元线性回归预测汽车的重量和每加仑油量可行驶距离；\n",
    "    第二个示例中，使用一元线性回归根据房屋面积预测房屋价格。\n",
    "    \n",
    "在这两个示例中，你将综合运Python，pandas，numpy，matplotlib，sklearn。"
   ]
  },
  {
   "cell_type": "markdown",
   "metadata": {},
   "source": [
    "### 2.实验目标"
   ]
  },
  {
   "cell_type": "markdown",
   "metadata": {},
   "source": [
    "通过本实验掌握一元线性回归的基本思想，了解其背后的数学原理。\n",
    "\n",
    "可以将一元线性回归应用到真实世界中的预测问题中。\n",
    "\n",
    "学会numpy，matplotlib以及sklearn库的使用。"
   ]
  },
  {
   "cell_type": "markdown",
   "metadata": {},
   "source": [
    "### 3.实验知识点"
   ]
  },
  {
   "cell_type": "markdown",
   "metadata": {},
   "source": [
    "* 一元线性回归基本思想\n",
    "* 一元线性回归数学原理\n",
    "* 一元线性回归的应用\n",
    "* numpy，matplotlib，pandas，sklearn的使用"
   ]
  },
  {
   "cell_type": "markdown",
   "metadata": {},
   "source": [
    "### 4.实验环境"
   ]
  },
  {
   "cell_type": "markdown",
   "metadata": {},
   "source": [
    "* python 3.6.5  \n",
    "* numpy 1.14.5\n",
    "* matplotlib 2.2.2\n",
    "* sklearn 0.19.1\n",
    "* pandas 0.23.1"
   ]
  },
  {
   "cell_type": "markdown",
   "metadata": {},
   "source": [
    "### 5.预备知识"
   ]
  },
  {
   "cell_type": "markdown",
   "metadata": {},
   "source": [
    "* 微积分，偏微分（非必须）\n",
    "* Linux命令基本操作  \n",
    "* Python编程基础\n",
    "\n",
    "注意：对一元线性回归背后的数学原理不用达到掌握的层次，事实上，在了解一元线性回归的基本思想后，利用sklearn等工具就可以很便捷的解决相关问题了。"
   ]
  },
  {
   "cell_type": "markdown",
   "metadata": {},
   "source": [
    "## 实验原理 "
   ]
  },
  {
   "cell_type": "markdown",
   "metadata": {},
   "source": [
    "### 1. 回归与机器学习"
   ]
  },
  {
   "cell_type": "markdown",
   "metadata": {},
   "source": [
    "机器学习监督学习算法分为分类和回归两种，其实就是根据类别标签分布类型而定义的，分类算法用于离散型分布预测，如kNN、决策树、朴素贝叶斯、Adaboost、SVM、Logistic回归都是分类算法；回归算法用于连续型分布预测，针对的是数值型的样本。回归也是统计学中最有力的工具之一，使用回归，可以在给定输入后给出预测的数值。回归的目的就是建立一个回归方程用来预测目标值，回归的求解就是求这个回归方程的回归系数。在回归方程确定后，预测结果很简单，将输入值带入回归方程即可。\n",
    "\n",
    "机器学习中的参数模型指的是：通过建模找到一个最大程度拟合数据的模型，通过确定损失函数（或效用函数，统称为目标函数），最优化目标函数来获得机器学习模型的参数。回归分析指的是利用已知的数据，最大程度的拟合样本与输出标记，即产生拟合方程，从而对未知的数据进行预测。在一元线性回归模型中，需要找到一条可以最大程度拟合输入和输出的直线。"
   ]
  },
  {
   "cell_type": "markdown",
   "metadata": {},
   "source": [
    "### 2. 一元线性回归"
   ]
  },
  {
   "cell_type": "markdown",
   "metadata": {},
   "source": [
    "一元线性回归是一种简单的模型，但应用广泛，比如简单地预测商品价格、成本评估等，都可以用一元线性模型。比如：告诉你(1,1),(2,2),(3,3)，那么问你(4,?)是多少，很容易复原出来(4,4)，这就是一元线性回归问题的求解。一元线性回归是数据挖掘的基础模型，其中包含了非常重要的数学回归的概念，是学习多元回归，广义线性回归的基础。\n",
    "\n",
    "若X与y之间存在着较强的相关关系，则有：\n",
    "\n",
    "　　　　　　　　　　　　　　　　　　y=a+bX\n",
    "\n",
    "若a与b的值已知，则给出相应的X值，我们可以得到相应的y的预测值。一元线性回归涉及的参数及含义如下：  \n",
    "　　* 截距项a  \n",
    "　　* 斜率b\n",
    "\n",
    "一元线性回归的问题求解就是求解参数a，b。"
   ]
  },
  {
   "cell_type": "markdown",
   "metadata": {},
   "source": [
    "### 3. Sklearn简介"
   ]
  },
  {
   "cell_type": "markdown",
   "metadata": {},
   "source": [
    "Scikit learn 也简称sklearn，是机器学习领域当中最知名的python模块之一。sklearn包含了很多机器学习的方式：\n",
    "* Classification 分类\n",
    "* Regression 回归\n",
    "* Clustering 非监督分类\n",
    "* Dimensionality reduction 数据降维\n",
    "* Model Selection 模型选择\n",
    "* Preprocessing 数据与处理\n",
    "\n",
    "使用sklearn可以很方便地让我们实现一个机器学习算法。一个复杂度算法的实现，使用sklearn可能只需要调用几行API即可。所以学习sklearn，可以有效减少我们特定任务的实现周期。sklearn对数据挖掘和机器学习的各类算法进行了较好的封装，基本可以使用fit、predict、score来训练、预测、评价模型。"
   ]
  },
  {
   "cell_type": "markdown",
   "metadata": {},
   "source": [
    "## 准备工作"
   ]
  },
  {
   "cell_type": "markdown",
   "metadata": {},
   "source": [
    "点击屏幕右上方的下载实验数据模块，选择下载linear_regression.tgz到指定目录下，然后再依次选择点击上方的File->Open->Upload,上传刚才下载的数据集压缩包，再使用如下命令解压："
   ]
  },
  {
   "cell_type": "code",
   "execution_count": 1,
   "metadata": {},
   "outputs": [
    {
     "name": "stdout",
     "output_type": "stream",
     "text": [
      "linear_regression/\r\n",
      "linear_regression/auto_mpg.csv\r\n",
      "linear_regression/auto-mpg.data\r\n",
      "linear_regression/price_info.csv\r\n"
     ]
    }
   ],
   "source": [
    "# !tar -zxvf linear_regression.tgz"
   ]
  },
  {
   "cell_type": "markdown",
   "metadata": {},
   "source": [
    "## 一元线性回归的数学原理"
   ]
  },
  {
   "cell_type": "markdown",
   "metadata": {},
   "source": [
    "对于一元线性回归来说，可以看成Y的值是随着X的值变化，每一个实际的X都会有一个实际的Y值，我们叫Y实际，那么我们要求出一条直线，每一个实际的X都会有一个直线预测的Y值，我们叫做Y预测，回归线使得每个Y\n",
    "的实际值与预测值之差的平方和最小，即（Y1实际-Y1预测）^ 2+（Y2实际-Y2预测）^ 2+ …… +（Yn实际-Yn预测）^ 2的和最小。现在来实际求一下这条线：\n",
    "<img src=\"linear_regression\\1_linear_regression.png\"/>\n",
    "我们都知道直线在坐标系可以表示为Y=aX+b，所以（Y实际-Y预测）就可以写成（Y实际-（aX实际+b）），于是平方和可以写成a和b的函数。只需要求出让Q最小的a和b的值，那么回归线的也就求出来了。现在说明函数最小值怎么求：首先，一元函数最小值点的导数为零，比如说Y=X^2，X^2的导数是2X，令2X=0，求得X=0的时候，Y取最小值。那么实质上二元函数也是一样可以类推。不妨把二元函数图象设想成一个曲面，最小值想象成一个凹陷，那么在这个凹陷底部，从任意方向上看，偏导数都是0。因此，对于函数Q，分别对于a和b求偏导数，然后令偏导数等于0，就可以得到一个关于a和b的二元方程组，就可以求出a和b了。这个方法被称为最小二乘法。下面是具体的数学演算过程，。先把Q函数表达式展开：\n",
    "![](linear_regression\\2_linear_regression.png)\n",
    "然后利用平均数，把上面式子中每个括号里的内容进一步化简。例如Y^2的平均表示如下：\n",
    "![](linear_regression\\3_linear_regression.png)\n",
    "则：\n",
    "![](linear_regression\\4_linear_regression.png)\n",
    "上式子两边×n，于是Q最终化简结果为：\n",
    "![](linear_regression\\5_linear_regression.png)\n",
    "然后分别对Q求a的偏导数和b的偏导数，令偏导数等于0：\n",
    "![](linear_regression\\6_linear_regression.png)\n",
    "进一步化简，可以消掉2n，最后得到关于a，b的二元方程组为：\n",
    "![](linear_regression\\7_linear_regression.png)\n",
    "最后得出a和b的求解公式如下：\n",
    "![](linear_regression\\8_linear_regression.png)"
   ]
  },
  {
   "cell_type": "markdown",
   "metadata": {},
   "source": [
    "## 引言 "
   ]
  },
  {
   "cell_type": "markdown",
   "metadata": {},
   "source": [
    "### 1. 项目文件结构"
   ]
  },
  {
   "cell_type": "markdown",
   "metadata": {},
   "source": [
    "实验目录下有3个文件：  \n",
    "　price_info.csv  \n",
    "　auto-mpg.data  \n",
    "　auto_mpg.csv  \n",
    "其中：price_info.csv为房屋价格预测的数据集；auto-mpg.data为车辆行驶距离预测的数据集，auto_mpg.csv是该数据集的csv版本。"
   ]
  },
  {
   "cell_type": "markdown",
   "metadata": {},
   "source": [
    "### 2. 开始实验"
   ]
  },
  {
   "cell_type": "markdown",
   "metadata": {},
   "source": [
    "接下来的实验步骤将引导你学习一元线性回归的相关知识。\n",
    "\n",
    "**首先引入我们系统需要用到的Python的相关库。**"
   ]
  },
  {
   "cell_type": "code",
   "execution_count": 1,
   "metadata": {},
   "outputs": [],
   "source": [
    "import matplotlib.pyplot as plt\n",
    "import numpy as np\n",
    "import pandas as pd\n",
    "from sklearn.linear_model import LinearRegression"
   ]
  },
  {
   "cell_type": "markdown",
   "metadata": {},
   "source": [
    "## sklearn实现简单的一元线性回归 "
   ]
  },
  {
   "cell_type": "markdown",
   "metadata": {},
   "source": [
    "这里，我们首先用一些模拟数据做一元线性回归，首先我们使用方程y=2x+1作为参考曲线，在输出给定计算结果时，加一些随机干扰，让结果距离曲线有点距离。\n",
    "\n",
    "输入x分别为：1, 2, 3, 4, 5\n",
    "\n",
    "输出y应该为：3, 5, 7, 9, 11\n",
    "\n",
    "添加干扰后y的值为：3.1, 5.2, 6.8, 8.8, 11.1\n",
    "\n",
    "接着我们使用sklearn的线性回归类对x和y进行拟合，sklearn中线性回归类的原型为：\n",
    "\n",
    "LinearRegression(fit_intercept=True,normalize=False,copy_X=True,n_jobs=1)\n",
    "\n",
    "其中各个参数的含义如下：\n",
    "\n",
    "* fit_intercept:是否有截据，如果没有，则直线过原点。默认为有截距。\n",
    "* normalize:是否将数据归一化，默认是不做归一化。\n",
    "* copy_X:默认为True，当为True时，X会被copied,否则X将会被覆写。\n",
    "* n_jobs:默认值为1，计算时使用的核数。\n",
    "\n",
    "一般使用时，就用默认参数就可以。输入以下内容："
   ]
  },
  {
   "cell_type": "code",
   "execution_count": 2,
   "metadata": {},
   "outputs": [
    {
     "data": {
      "text/html": [
       "<style>#sk-container-id-1 {color: black;background-color: white;}#sk-container-id-1 pre{padding: 0;}#sk-container-id-1 div.sk-toggleable {background-color: white;}#sk-container-id-1 label.sk-toggleable__label {cursor: pointer;display: block;width: 100%;margin-bottom: 0;padding: 0.3em;box-sizing: border-box;text-align: center;}#sk-container-id-1 label.sk-toggleable__label-arrow:before {content: \"▸\";float: left;margin-right: 0.25em;color: #696969;}#sk-container-id-1 label.sk-toggleable__label-arrow:hover:before {color: black;}#sk-container-id-1 div.sk-estimator:hover label.sk-toggleable__label-arrow:before {color: black;}#sk-container-id-1 div.sk-toggleable__content {max-height: 0;max-width: 0;overflow: hidden;text-align: left;background-color: #f0f8ff;}#sk-container-id-1 div.sk-toggleable__content pre {margin: 0.2em;color: black;border-radius: 0.25em;background-color: #f0f8ff;}#sk-container-id-1 input.sk-toggleable__control:checked~div.sk-toggleable__content {max-height: 200px;max-width: 100%;overflow: auto;}#sk-container-id-1 input.sk-toggleable__control:checked~label.sk-toggleable__label-arrow:before {content: \"▾\";}#sk-container-id-1 div.sk-estimator input.sk-toggleable__control:checked~label.sk-toggleable__label {background-color: #d4ebff;}#sk-container-id-1 div.sk-label input.sk-toggleable__control:checked~label.sk-toggleable__label {background-color: #d4ebff;}#sk-container-id-1 input.sk-hidden--visually {border: 0;clip: rect(1px 1px 1px 1px);clip: rect(1px, 1px, 1px, 1px);height: 1px;margin: -1px;overflow: hidden;padding: 0;position: absolute;width: 1px;}#sk-container-id-1 div.sk-estimator {font-family: monospace;background-color: #f0f8ff;border: 1px dotted black;border-radius: 0.25em;box-sizing: border-box;margin-bottom: 0.5em;}#sk-container-id-1 div.sk-estimator:hover {background-color: #d4ebff;}#sk-container-id-1 div.sk-parallel-item::after {content: \"\";width: 100%;border-bottom: 1px solid gray;flex-grow: 1;}#sk-container-id-1 div.sk-label:hover label.sk-toggleable__label {background-color: #d4ebff;}#sk-container-id-1 div.sk-serial::before {content: \"\";position: absolute;border-left: 1px solid gray;box-sizing: border-box;top: 0;bottom: 0;left: 50%;z-index: 0;}#sk-container-id-1 div.sk-serial {display: flex;flex-direction: column;align-items: center;background-color: white;padding-right: 0.2em;padding-left: 0.2em;position: relative;}#sk-container-id-1 div.sk-item {position: relative;z-index: 1;}#sk-container-id-1 div.sk-parallel {display: flex;align-items: stretch;justify-content: center;background-color: white;position: relative;}#sk-container-id-1 div.sk-item::before, #sk-container-id-1 div.sk-parallel-item::before {content: \"\";position: absolute;border-left: 1px solid gray;box-sizing: border-box;top: 0;bottom: 0;left: 50%;z-index: -1;}#sk-container-id-1 div.sk-parallel-item {display: flex;flex-direction: column;z-index: 1;position: relative;background-color: white;}#sk-container-id-1 div.sk-parallel-item:first-child::after {align-self: flex-end;width: 50%;}#sk-container-id-1 div.sk-parallel-item:last-child::after {align-self: flex-start;width: 50%;}#sk-container-id-1 div.sk-parallel-item:only-child::after {width: 0;}#sk-container-id-1 div.sk-dashed-wrapped {border: 1px dashed gray;margin: 0 0.4em 0.5em 0.4em;box-sizing: border-box;padding-bottom: 0.4em;background-color: white;}#sk-container-id-1 div.sk-label label {font-family: monospace;font-weight: bold;display: inline-block;line-height: 1.2em;}#sk-container-id-1 div.sk-label-container {text-align: center;}#sk-container-id-1 div.sk-container {/* jupyter's `normalize.less` sets `[hidden] { display: none; }` but bootstrap.min.css set `[hidden] { display: none !important; }` so we also need the `!important` here to be able to override the default hidden behavior on the sphinx rendered scikit-learn.org. See: https://github.com/scikit-learn/scikit-learn/issues/21755 */display: inline-block !important;position: relative;}#sk-container-id-1 div.sk-text-repr-fallback {display: none;}</style><div id=\"sk-container-id-1\" class=\"sk-top-container\"><div class=\"sk-text-repr-fallback\"><pre>LinearRegression()</pre><b>In a Jupyter environment, please rerun this cell to show the HTML representation or trust the notebook. <br />On GitHub, the HTML representation is unable to render, please try loading this page with nbviewer.org.</b></div><div class=\"sk-container\" hidden><div class=\"sk-item\"><div class=\"sk-estimator sk-toggleable\"><input class=\"sk-toggleable__control sk-hidden--visually\" id=\"sk-estimator-id-1\" type=\"checkbox\" checked><label for=\"sk-estimator-id-1\" class=\"sk-toggleable__label sk-toggleable__label-arrow\">LinearRegression</label><div class=\"sk-toggleable__content\"><pre>LinearRegression()</pre></div></div></div></div></div>"
      ],
      "text/plain": [
       "LinearRegression()"
      ]
     },
     "execution_count": 2,
     "metadata": {},
     "output_type": "execute_result"
    }
   ],
   "source": [
    "#设定X向量\n",
    "x = [[1], [2], [3], [4], [5]]\n",
    "#设定Y向量\n",
    "y = [[3.1], [5.2], [6.8], [8.8], [11.1]]\n",
    "#创建线性回归模型\n",
    "model = LinearRegression()\n",
    "#使用X和Y进行拟合\n",
    "model.fit(x, y)"
   ]
  },
  {
   "cell_type": "code",
   "execution_count": 3,
   "metadata": {},
   "outputs": [
    {
     "data": {
      "text/plain": [
       "array([[1.96]])"
      ]
     },
     "execution_count": 3,
     "metadata": {},
     "output_type": "execute_result"
    }
   ],
   "source": [
    "#输出线性方程的斜率，即b的值\n",
    "model.coef_"
   ]
  },
  {
   "cell_type": "code",
   "execution_count": 4,
   "metadata": {},
   "outputs": [
    {
     "data": {
      "text/plain": [
       "array([1.12])"
      ]
     },
     "execution_count": 4,
     "metadata": {},
     "output_type": "execute_result"
    }
   ],
   "source": [
    "#输出线性方程的截距，即a的值\n",
    "model.intercept_"
   ]
  },
  {
   "cell_type": "code",
   "execution_count": 3,
   "metadata": {},
   "outputs": [
    {
     "name": "stdout",
     "output_type": "stream",
     "text": [
      "[[ 1.96]]\n",
      "[ 1.12]\n",
      "[ 12.88]\n"
     ]
    }
   ],
   "source": [
    "#在x=6时，预测y的值\n",
    "predicted = model.predict([[6]])[0]\n",
    "#输出y的结果\n",
    "predicted"
   ]
  },
  {
   "cell_type": "markdown",
   "metadata": {},
   "source": [
    "\n",
    "LinearRegression将方程分为两个部分存放，coef_存放回归系数，intercept_则存放截距，因此要查看方程，就是查看这两个变量的取值。\n",
    "\n",
    "上述代码给出了斜率(1.96)、截距(1.12)、以及输入值为6时的预测结果（12.88）。\n",
    "\n",
    "接着，我们使用matplotlib将X和Y构成的散点以及表示回归方程的直线绘制出来，可以更加直观的看到线性回归的结果以及各个三点到直线的偏移量。\n",
    "\n",
    "**绘制图像的代码如下所示，以绘制出图像。**"
   ]
  },
  {
   "cell_type": "code",
   "execution_count": 5,
   "metadata": {},
   "outputs": [
    {
     "data": {
      "image/png": "[encoded data removed]",
      "text/plain": [
       "<Figure size 640x480 with 1 Axes>"
      ]
     },
     "metadata": {},
     "output_type": "display_data"
    }
   ],
   "source": [
    "#启动一个新的图像实例\n",
    "plt.figure()\n",
    "#设置图像标题\n",
    "plt.title('Linear Regression Demo')\n",
    "#设定坐标轴的X轴和Y轴的标题\n",
    "plt.xlabel('x')\n",
    "plt.ylabel('y')\n",
    "plt.axis([0, 8, 0, 20])\n",
    "#设定网格开关为显示\n",
    "plt.grid(True)\n",
    "#绘制由X向量和Y向量构成的散点图，参数\"k.\"中，其中k表示颜色为卡其色，点表示散点图\n",
    "plt.plot(x, y, 'k.')\n",
    "#绘制回归方程的直线，将x的范围设定为0到7，y的值由x进行计算\n",
    "x1 = [[0], [1], [2], [3], [4], [5], [6], [7]]\n",
    "y1 = model.predict(x1)\n",
    "#绘制该直线，参数“g-”表示绘制时颜色选择绿色，-表示点与点直接使用实线连接\n",
    "plt.plot(x1, y1, 'g-')\n",
    "#显示图像\n",
    "plt.show()"
   ]
  },
  {
   "cell_type": "markdown",
   "metadata": {},
   "source": [
    "## numpy计算一元线性回归参数 "
   ]
  },
  {
   "cell_type": "markdown",
   "metadata": {},
   "source": [
    "事实上，我们也可以基于numpy计算出一元线性回归方程中参数b和a的值，其数学原理如下：  \n",
    "1.向量x的方差为：\n",
    "![](linear_regression\\9_linear_regression.png)\n",
    "2.向量x和向量y的协方差为：  \n",
    "![](linear_regression\\10_linear_regression.png)\n",
    "3.由第三小节中，我们知道b的计算方式为：  \n",
    "![](linear_regression\\11_linear_regression.png)\n",
    "所以b可以由cov(x,y)/var(x)得到，在知道b的值以后，根据以下公式：  \n",
    "![](linear_regression\\12_linear_regression.png)\n",
    "可以计算出a的值，从而求出线性方程的参数。现在我们基于numpy求解线性方程的参数，添加以下代码："
   ]
  },
  {
   "cell_type": "code",
   "execution_count": 5,
   "metadata": {},
   "outputs": [
    {
     "name": "stdout",
     "output_type": "stream",
     "text": [
      "coef based on numpy:1.96\n",
      "intercept based on numpy:1.12\n"
     ]
    }
   ],
   "source": [
    "#计算X方差\n",
    "var_x = np.var([1, 2, 3, 4, 5], ddof=1)\n",
    "#计算X和Y的协方差\n",
    "cov = np.cov([1, 2, 3, 4, 5], [3.1, 5.2, 6.8, 8.8, 11.1])[0][1]\n",
    "#协方差除以方差得到拟合方程的斜率\n",
    "coef = cov / var_x\n",
    "\n",
    "print(\"coef based on numpy:\", end='')\n",
    "print(coef)\n",
    "\n",
    "#计算X的均值\n",
    "mean_x = np.mean([1, 2, 3, 4, 5])\n",
    "#计算Y的均值\n",
    "mean_y = np.mean([3.1, 5.2, 6.8, 8.8, 11.1])\n",
    "#根据公式计算截距\n",
    "intercept = mean_y - coef * mean_x\n",
    "\n",
    "print(\"intercept based on numpy:\", end='')\n",
    "print(intercept)"
   ]
  },
  {
   "cell_type": "markdown",
   "metadata": {},
   "source": [
    "从上图的输出结果中可以看出，基于numpy计算得到的斜率和截距和sklearn拟合曲线给出的结果是一致的。"
   ]
  },
  {
   "cell_type": "markdown",
   "metadata": {},
   "source": [
    "## 【实验实战】用一元线性回归预测房价 "
   ]
  },
  {
   "cell_type": "markdown",
   "metadata": {},
   "source": [
    "房价预测的数据集如下：\n",
    "![](linear_regression\\13_linear_regression.png)\n",
    "数据已经被存储在price_info.csv文件中，使用以下命令查看文件内容："
   ]
  },
  {
   "cell_type": "code",
   "execution_count": 22,
   "metadata": {},
   "outputs": [
    {
     "name": "stdout",
     "output_type": "stream",
     "text": [
      "No,square_feet,price\r",
      "\r\n",
      "1,150,6450\r",
      "\r\n",
      "2,200,7450\r",
      "\r\n",
      "3,250,8450\r",
      "\r\n",
      "4,300,9450\r",
      "\r\n",
      "5,350,11450\r",
      "\r\n",
      "6,400,15450\r",
      "\r\n",
      "7,600,18450\r",
      "\r\n"
     ]
    }
   ],
   "source": [
    "!cat linear_regression / price_info.csv"
   ]
  },
  {
   "cell_type": "markdown",
   "metadata": {},
   "source": [
    "文件内容如下所示：\n",
    "![](linear_regression\\14_linear_regression.png)\n",
    "接下来，我们开始编写线性回归的代码，并预测700英尺时的房价。\n",
    "\n",
    "**利用pandas的read_csv函数加载csv文件，然后依次读取square_feet和price这两列数据，将平方英尺和价格分别放入到X向量和Y向量中，然后将X和Y返回。**"
   ]
  },
  {
   "cell_type": "code",
   "execution_count": 16,
   "metadata": {},
   "outputs": [],
   "source": [
    "# 从csv文件中读取数据，分别为：X列表和对应的Y列表\n",
    "def get_data(file_name):\n",
    "    # 1. 用pandas读取csv\n",
    "    data = pd.read_csv('linear_regression/price_info.csv', index_col=0, header=0)\n",
    "    # 2. 构造X列表和Y列表\n",
    "    X = [[x] for x in data['square_feet']]\n",
    "    Y = data['price']\n",
    "    return X, Y"
   ]
  },
  {
   "cell_type": "markdown",
   "metadata": {},
   "source": [
    "线性回归模型的建立下所示，利用LinearRegression类，可以很方便的建立线性回归模型。"
   ]
  },
  {
   "cell_type": "code",
   "execution_count": 17,
   "metadata": {},
   "outputs": [],
   "source": [
    "# 获取线性回归模型\n",
    "def get_linear_model(X, Y):\n",
    "    # 1.创建线性回归模型\n",
    "    model = LinearRegression()\n",
    "    # 2.使用X\\Y对模型进行拟合\n",
    "    model.fit(X, Y)\n",
    "    return model"
   ]
  },
  {
   "cell_type": "markdown",
   "metadata": {},
   "source": [
    "绘制预测结果的代码如下所示："
   ]
  },
  {
   "cell_type": "code",
   "execution_count": 32,
   "metadata": {},
   "outputs": [],
   "source": [
    "# 绘出图像\n",
    "def show_linear_line(X, Y, model):\n",
    "    # 1. 绘出已知数据散点图\n",
    "    import seaborn\n",
    "    seaborn.set()\n",
    "    plt.figure()\n",
    "    plt.plot(X, Y, 'r.')\n",
    "    # 2. 绘出预测直线，并设定图像标题和坐标轴的标题\n",
    "    plt.title('Linear Regression')\n",
    "    plt.xlabel('x')\n",
    "    plt.ylabel('y')\n",
    "    plt.grid(True)\n",
    "    x1 = [[i] for i in range(100, 800, 100)]\n",
    "    plt.plot(x1, model.predict(x1), 'g-')\n",
    "    plt.show()"
   ]
  },
  {
   "cell_type": "markdown",
   "metadata": {},
   "source": [
    "主函数的控制流程如下所示："
   ]
  },
  {
   "cell_type": "code",
   "execution_count": 33,
   "metadata": {},
   "outputs": [
    {
     "name": "stdout",
     "output_type": "stream",
     "text": [
      "700平方英尺价格 21915.42553191489\n"
     ]
    },
    {
     "data": {
      "image/png": "[encoded data removed]",
      "text/plain": [
       "<Figure size 640x480 with 1 Axes>"
      ]
     },
     "metadata": {},
     "output_type": "display_data"
    }
   ],
   "source": [
    "def main():\n",
    "    # 1. 读取数据\n",
    "    X, Y = get_data('linear_regression/price_info.csv')\n",
    "    # 2. 模型训练\n",
    "    model = get_linear_model(X, Y)\n",
    "    # 3. 获取700平方英尺时的预测价格\n",
    "    print('700平方英尺价格', model.predict([[700]])[0])\n",
    "    # 4. 绘图\n",
    "    show_linear_line(X, Y, model)\n",
    "\n",
    "\n",
    "if __name__ == '__main__':\n",
    "    main()"
   ]
  },
  {
   "cell_type": "markdown",
   "metadata": {},
   "source": [
    "运行代码，可以看到相应的图片结果以及在700平方英尺时，房屋的预测价格为21915.43。"
   ]
  },
  {
   "cell_type": "markdown",
   "metadata": {},
   "source": [
    "##  【实验实战】用一元线性回归预测车辆行驶距离\n"
   ]
  },
  {
   "cell_type": "markdown",
   "metadata": {},
   "source": [
    "在本小节中，通过一元线性回归基于车辆的重量来预测车辆单位加仑油量可以行驶的距离，使用的数据集为“车辆MPG数据集”，英文名为“auto-mpg.data”。\n",
    "\n",
    "该数据集共有9列，其中第1列为单位加仑油量行驶距离（英里），第5列为车辆重量（kg）。\n",
    "\n",
    "为了方便处理，本实验已经将该数据集转换为csv文件格式，即文件“auto_mpg.csv”，这样你可以直接参考上一小节中处理csv文件的代码。\n",
    "\n",
    "通过对数据的初步分析，发现车辆重量和车辆单位加仑油量形式距离之间存在着线性相关关系。你的任务是：\n",
    "\n",
    "    基于sklearn给出可以根据车辆重量预测其形式距离的一元线性回归方程\n",
    "\n",
    "    给出方程的斜率和截距\n",
    "\n",
    "    绘制出由原始数据构成的散点图以及根据回归方程得到预测结果后的散点图。\n",
    "\n",
    "    最后车辆重量为3000时的预测行驶距离。\n",
    "\n",
    "原始数据构成的散点图指的是使用X和Y绘制图像，在得到回归方程f后，可得Y'=f(X)，根据（X,Y'）绘制的图像即根据回归方程得到预测结果后的散点图。\n",
    "\n",
    "最终绘制的图像效果应该如下图所示。  \n",
    "![](linear_regression\\15_linear_regression.png)"
   ]
  },
  {
   "cell_type": "code",
   "execution_count": null,
   "metadata": {},
   "outputs": [],
   "source": [
    "# cat linear_regression/auto_mpg.csv"
   ]
  },
  {
   "cell_type": "code",
   "execution_count": 35,
   "metadata": {},
   "outputs": [
    {
     "name": "stdout",
     "output_type": "stream",
     "text": [
      "车辆重量为3000时的预测行驶距离为 23.287534228486237\n"
     ]
    },
    {
     "data": {
      "image/png": "[encoded data removed]",
      "text/plain": [
       "<Figure size 640x480 with 1 Axes>"
      ]
     },
     "metadata": {},
     "output_type": "display_data"
    }
   ],
   "source": [
    "# 从csv文件中读取数据，分别为：X列表和对应的Y列表\n",
    "def get_data(file_name):\n",
    "    # 1. 用pandas读取csv\n",
    "    origin = pd.read_csv('linear_regression/auto_mpg.csv', header=0)\n",
    "    # 2. 构造X列表和Y列表\n",
    "    data = origin[['mpg', 'weight']]\n",
    "    X = [[i] for i in data['weight']]\n",
    "    Y = data['mpg']\n",
    "    return X, Y\n",
    "\n",
    "\n",
    "# 获取线性回归模型\n",
    "def get_linear_model(X, Y):\n",
    "    # 1.创建线性回归模型\n",
    "    model = LinearRegression()\n",
    "    # 2.使用X\\Y对模型进行拟合\n",
    "    model.fit(X, Y)\n",
    "    return model\n",
    "\n",
    "\n",
    "# 绘出图像\n",
    "def show_linear_line(X, Y, model):\n",
    "    import seaborn\n",
    "    seaborn.set()\n",
    "    # 1. 绘出已知数据散点图\n",
    "    plt.figure()\n",
    "    plt.plot(X, Y, 'b.')\n",
    "    # 2. 绘出预测直线，并设定图像标题和坐标轴的标题\n",
    "    plt.title('Linear Regression')\n",
    "    plt.xlabel('x')\n",
    "    plt.ylabel('y')\n",
    "    plt.grid(True)\n",
    "    x1 = [[i] for i in range(1500, 5000, 100)]\n",
    "    plt.plot(x1, model.predict(x1), 'r-')\n",
    "    plt.show()\n",
    "\n",
    "\n",
    "def main():\n",
    "    # 1. 读取数据\n",
    "    X, Y = get_data('linear_regression/auto_mpg.csv')\n",
    "    # 2. 模型训练\n",
    "    model = get_linear_model(X, Y)\n",
    "    # 3. 获取车辆重量为3000时的预测行驶距离\n",
    "    print('车辆重量为3000时的预测行驶距离为', model.predict([[3000]])[0])\n",
    "    # 4. 绘图\n",
    "    show_linear_line(X, Y, model)\n",
    "\n",
    "\n",
    "if __name__ == '__main__':\n",
    "    main()"
   ]
  },
  {
   "cell_type": "markdown",
   "metadata": {},
   "source": [
    "## 实验总结"
   ]
  },
  {
   "cell_type": "markdown",
   "metadata": {},
   "source": [
    "### 1. 掌握内容\n",
    "通过本实验，你应该至少掌握了机器学习的以下几点：\n",
    "* 了解机器学习和回归的关系\n",
    "* 一元线性回归的基本思想\n",
    "* 一元线性回归的数学原理\n",
    "* 熟练的使用sklearn提供的一元线性回归库\n",
    "* 可以将一元线性回归应用到实际问题的解决中"
   ]
  },
  {
   "cell_type": "markdown",
   "metadata": {},
   "source": [
    "## 参考文献与延伸阅读"
   ]
  },
  {
   "cell_type": "markdown",
   "metadata": {},
   "source": [
    "### 参考资料:"
   ]
  },
  {
   "cell_type": "markdown",
   "metadata": {},
   "source": [
    "1.哈林顿，李锐. 机器学习实战 : Machine learning in action[M]. 人民邮电出版社, 2013.  \n",
    "2.周志华. 机器学习:Machine learning[M]. 清华大学出版社, 2016."
   ]
  },
  {
   "cell_type": "markdown",
   "metadata": {},
   "source": [
    "### 延伸阅读"
   ]
  },
  {
   "cell_type": "markdown",
   "metadata": {},
   "source": [
    "1.李航. 统计学习方法[M]. 清华大学出版社, 2012."
   ]
  }
 ],
 "metadata": {
  "kernelspec": {
   "display_name": "Pytorch (pytorch)",
   "language": "python",
   "name": "pytorch"
  },
  "language_info": {
   "codemirror_mode": {
    "name": "ipython",
    "version": 3
   },
   "file_extension": ".py",
   "mimetype": "text/x-python",
   "name": "python",
   "nbconvert_exporter": "python",
   "pygments_lexer": "ipython3",
   "version": "3.10.6"
  }
 },
 "nbformat": 4,
 "nbformat_minor": 1
}
