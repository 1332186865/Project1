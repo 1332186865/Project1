{
 "cells": [
  {
   "cell_type": "markdown",
   "metadata": {},
   "source": [
    "## 实验介绍"
   ]
  },
  {
   "cell_type": "markdown",
   "metadata": {},
   "source": [
    "### 1.实验内容"
   ]
  },
  {
   "cell_type": "markdown",
   "metadata": {},
   "source": [
    "本实验介绍基于用户的协同过滤算法的电影推荐系统。"
   ]
  },
  {
   "cell_type": "markdown",
   "metadata": {},
   "source": [
    "### 2.实验目标"
   ]
  },
  {
   "cell_type": "markdown",
   "metadata": {},
   "source": [
    "通过本实验掌握协同过滤算法。"
   ]
  },
  {
   "cell_type": "markdown",
   "metadata": {},
   "source": [
    "### 3.实验知识点"
   ]
  },
  {
   "cell_type": "markdown",
   "metadata": {},
   "source": [
    "* 协同过滤算法"
   ]
  },
  {
   "cell_type": "markdown",
   "metadata": {},
   "source": [
    "### 4.实验环境"
   ]
  },
  {
   "cell_type": "markdown",
   "metadata": {},
   "source": [
    "* python 3.6.5  \n",
    "* CourseGrading在线实验环境"
   ]
  },
  {
   "cell_type": "markdown",
   "metadata": {},
   "source": [
    "### 5.预备知识"
   ]
  },
  {
   "cell_type": "markdown",
   "metadata": {},
   "source": [
    "* 初等数学知识  \n",
    "* Linux命令基本操作  \n",
    "* Python编程基础"
   ]
  },
  {
   "cell_type": "markdown",
   "metadata": {},
   "source": [
    "## 准备工作\n",
    "点击屏幕右上方的下载实验数据模块，选择下载movie_recommender.tgz到指定目录下，然后再依次选择点击上方的File->Open->Upload,上传刚才下载的数据集压缩包，再使用如下命令解压："
   ]
  },
  {
   "cell_type": "code",
   "execution_count": 1,
   "metadata": {},
   "outputs": [
    {
     "name": "stdout",
     "output_type": "stream",
     "text": [
      "movie_recommender/\r\n",
      "movie_recommender/ratings.csv\r\n"
     ]
    }
   ],
   "source": [
    "!tar -zxvf movie_recommender.tgz"
   ]
  },
  {
   "cell_type": "code",
   "execution_count": 7,
   "outputs": [
    {
     "name": "stdout",
     "output_type": "stream",
     "text": [
      " 驱动器 D 中的卷没有标签。\n",
      " 卷的序列号是 0C70-98D8\n",
      "\n",
      " D:\\Python\\PycharmProjects\\Project1\\Machine Learning\\课件\\Day 5 的目录\n",
      "\n",
      "2022/11/13  16:40    <DIR>          .\n",
      "2022/11/13  16:40    <DIR>          ..\n",
      "2022/10/23  10:20    <DIR>          coll_filter\n",
      "2022/10/23  10:21            10,953 coll_filter.ipynb\n",
      "2022/11/13  15:54    <DIR>          movie_recommender\n",
      "2022/11/13  16:40            23,284 movie_recommender.ipynb\n",
      "               2 个文件         34,237 字节\n",
      "               4 个目录 38,834,872,320 可用字节\n"
     ]
    }
   ],
   "source": [
    "!dir / a"
   ],
   "metadata": {
    "collapsed": false
   }
  },
  {
   "cell_type": "markdown",
   "metadata": {},
   "source": [
    "## 【实验步骤】获取数据集 \n",
    "本次实验使用公开数据集MovieLens提供的由600多个用户在近9000部电影上的评分构成的10万多条记录。数据存储在数据集目录的ratings.csv文件中，可直接调用。数据格式如下："
   ]
  },
  {
   "cell_type": "code",
   "execution_count": 1,
   "metadata": {},
   "outputs": [
    {
     "name": "stderr",
     "output_type": "stream",
     "text": [
      "'cat' 不是内部或外部命令，也不是可运行的程序\n",
      "或批处理文件。\n"
     ]
    }
   ],
   "source": [
    "!cat movie_recommender / ratings.csv"
   ]
  },
  {
   "cell_type": "code",
   "execution_count": 8,
   "outputs": [
    {
     "data": {
      "text/plain": "   userId  movieId  rating  timestamp\n0       1        1     4.0  964982703\n1       1        3     4.0  964981247\n2       1        6     4.0  964982224\n3       1       47     5.0  964983815\n4       1       50     5.0  964982931",
      "text/html": "<div>\n<style scoped>\n    .dataframe tbody tr th:only-of-type {\n        vertical-align: middle;\n    }\n\n    .dataframe tbody tr th {\n        vertical-align: top;\n    }\n\n    .dataframe thead th {\n        text-align: right;\n    }\n</style>\n<table border=\"1\" class=\"dataframe\">\n  <thead>\n    <tr style=\"text-align: right;\">\n      <th></th>\n      <th>userId</th>\n      <th>movieId</th>\n      <th>rating</th>\n      <th>timestamp</th>\n    </tr>\n  </thead>\n  <tbody>\n    <tr>\n      <th>0</th>\n      <td>1</td>\n      <td>1</td>\n      <td>4.0</td>\n      <td>964982703</td>\n    </tr>\n    <tr>\n      <th>1</th>\n      <td>1</td>\n      <td>3</td>\n      <td>4.0</td>\n      <td>964981247</td>\n    </tr>\n    <tr>\n      <th>2</th>\n      <td>1</td>\n      <td>6</td>\n      <td>4.0</td>\n      <td>964982224</td>\n    </tr>\n    <tr>\n      <th>3</th>\n      <td>1</td>\n      <td>47</td>\n      <td>5.0</td>\n      <td>964983815</td>\n    </tr>\n    <tr>\n      <th>4</th>\n      <td>1</td>\n      <td>50</td>\n      <td>5.0</td>\n      <td>964982931</td>\n    </tr>\n  </tbody>\n</table>\n</div>"
     },
     "execution_count": 8,
     "metadata": {},
     "output_type": "execute_result"
    }
   ],
   "source": [
    "import pandas as pd\n",
    "\n",
    "data = pd.read_csv('movie_recommender/ratings.csv')\n",
    "data.head()"
   ],
   "metadata": {
    "collapsed": false
   }
  },
  {
   "cell_type": "markdown",
   "metadata": {},
   "source": [
    "其中，userId为用户ID，每个用户对应唯一ID。movieId为电影ID，每个ID对应唯一一部电影。rating为某用户在某部电影上的评分，最高分为5分，最低分为0.5分。无缺失值。timestamp为用户评分时间戳，本次实验不使用该数据。实验中将原始数据划分为训练集和测试集，使用随机数将同一用户的数据随机的划分到测试集和训练集。\n",
    "\n",
    "代码实现："
   ]
  },
  {
   "cell_type": "code",
   "execution_count": 9,
   "metadata": {},
   "outputs": [],
   "source": [
    "def get_dataset(self, filename, pivot=0.75):\n",
    "    trainSet_len = 0\n",
    "    testSet_len = 0\n",
    "    for line in self.load_file(filename):\n",
    "        user, movie, rating, timestamp = line.split(',')\n",
    "\n",
    "        if random.random() < pivot:\n",
    "            self.trainSet.setdefault(user, {})\n",
    "            self.trainSet[user][movie] = rating\n",
    "            trainSet_len += 1\n",
    "        else:\n",
    "            self.testSet.setdefault(user, {})\n",
    "            self.testSet[user][movie] = rating\n",
    "            testSet_len += 1\n",
    "    print('划分训练集和测试集！')\n",
    "    print('训练集个数： %s' % trainSet_len)\n",
    "    print('测试集个数： %s' % testSet_len)"
   ]
  },
  {
   "cell_type": "markdown",
   "metadata": {},
   "source": [
    "## 【实验步骤】建立用户电影矩阵模型 \n",
    "协同过滤算法的输入数据通常表示为一个m*n的用户评价矩阵Matrix，m是用户数，n是电影数，Matrix[ij]表示第i个用户对第j个电影的评价：\n",
    "![](movie_recommender/1_movie_recommender.png)\n",
    "## 【实验步骤】发现兴趣相似的用户 \n",
    "这一阶段，主要完成对目标用户最近邻居的查找，通过计算目标用户与其他用户之间的相似度，得到与目标用户最近的邻居集。度量用户间相似性：设N(u)为用户u喜欢的电影集合，N(v)为用户v喜欢的电影集合，将上一步中每行记录视为一个向量，那么u和v的相似度可通过以下进行计算：\n",
    "\n",
    "    (a)采用Jaccard公式：\n",
    "![](movie_recommender/2_movie_recommender.png)\n",
    "\n",
    "    (b)余弦相似度计算：\n",
    "![](movie_recommender/3_movie_recommender.png)\n",
    "\n",
    "这里选择余弦公式进行相似度度量计算，假设目前共有4个用户(A、B、C、D)，5部电影(a、b、c、d、e)，用户与电影的关系如下图所示：\n",
    "![](movie_recommender/4_movie_recommender.png)\n",
    "![](movie_recommender/5_movie_recommender.png)\n",
    "而这种方法的时间复杂度是O(|U| * |U|)，所以非常耗时。而且在上表中可以看到“用户-电影”表是一个稀疏矩阵，即很多时候N(U)∩N(V)=0，如果换一下思路，可以首先计算N(U)∩N(V)!=0的用户，然后再计算\n",
    "![](movie_recommender/6_movie_recommender.png)\n",
    "为此可以首先建立“电影-用户”的倒排表，对每部电影都保存电影到用户的列表：\n",
    "![](movie_recommender/7_movie_recommender.png)\n",
    "设稀疏矩阵C[u][v]=N(u)^N(v)，在倒排索引中假设用户u和用户v同时属于倒排索引中K部电影对应的用户列表，就有C[u][v]=K。例如上图所示只有电影a中同时出来了用户有A和用户B，则在矩阵中赋值为1：\n",
    "![](movie_recommender/8_movie_recommender.png)\n",
    "接着对N(U)∩N(V)!=0的用户进行相似度计算。\n",
    "![](movie_recommender/9_movie_recommender.png)\n",
    "到此，用户间的相似度计算就得到了，可以很直观的找到与目标用户兴趣相似的用户。"
   ]
  },
  {
   "cell_type": "code",
   "execution_count": 11,
   "metadata": {},
   "outputs": [],
   "source": [
    "def calc_user_sim(self):\n",
    "    #电影-用户\n",
    "    movie_user = {}\n",
    "    for user, movies in self.trainSet.items():\n",
    "        for movie in movies:\n",
    "            #遍历用户数据构建电影索引\n",
    "            if movie not in movie_user:\n",
    "                movie_user[movie] = set()\n",
    "            movie_user[movie].add(user)\n",
    "\n",
    "    self.movie_count = len(movie_user)\n",
    "    print(\"电影总数：%d\" % self.movie_count)\n",
    "    #构建用户相似度矩阵第一步\n",
    "    for movie, users in movie_user.items():\n",
    "        for u in users:\n",
    "            for v in users:\n",
    "                if u == v:\n",
    "                    continue\n",
    "                #如果字典中该键值不存在，新增该键并设置默认值\n",
    "                self.user_sim_matrix.setdefault(u, {})\n",
    "                self.user_sim_matrix[u].setdefault(v, 0)\n",
    "                self.user_sim_matrix[u][v] += 1\n",
    "    #计算当前值非0的用户之间的相似度\n",
    "    for u, related_users in self.user_sim_matrix.items():\n",
    "        for v, count in related_users.items():\n",
    "            self.user_sim_matrix[u][v] = count / math.sqrt(len(self.trainSet[u]) * len(self.trainSet[v]))\n"
   ]
  },
  {
   "cell_type": "markdown",
   "metadata": {},
   "source": [
    "## 【实验步骤】产生推荐项目 \n",
    "接下来，需要从矩阵中找到与目标用户最相似的K个用户，用集合S(u,K)表示，将S中用户喜欢的电影全部提取出来，并除去u已经喜欢的电影。对每个候选电影i，用户对它的感兴趣的程度用以下公式计算：\n",
    "![](movie_recommender/10_movie_recommender.png)\n",
    "（其中Rvi表示用户v对电影i的喜欢程度，此处举例全部为1，在电影评分时应该代入用户的评分）。\n",
    "\n",
    "继续上面的例子，假设我们给A推荐电影，选取K=3，对用户A，电影c、e没有看过，因此可以将这两部电影推荐给用户A，根据UserCF算法用户A对物品c、e的兴趣分别计算p(A,c)和p(A,e)：\n",
    "![](movie_recommender/11_movie_recommender.png)\n",
    "所以用户A对电影c和e的喜欢程度可能一样，在真实的推荐系统中计算时考虑用户的评分，最后根据得分排序取前K个即为推荐电影。\n",
    "\n",
    "代码实现："
   ]
  },
  {
   "cell_type": "code",
   "execution_count": 12,
   "metadata": {},
   "outputs": [],
   "source": [
    " def recommend(self, user):\n",
    "    K = self.n_sim_user  #寻找与user相似度最高的TopK\n",
    "    N = self.n_rec_movie  #寻找与user关联度最高的TopN\n",
    "\n",
    "    rank = {}\n",
    "    #排除user已经看过的电影列表\n",
    "    watched_movies = self.trainSet[user]\n",
    "    #使用矩阵的第一列进行sort,以用户相关度进行比较\n",
    "    #user_sim_matrix为用户相似度矩阵\n",
    "    for v, wuv in sorted(self.user_sim_matrix[user].items(), key=itemgetter(1), reverse=True)[0:K]:\n",
    "        for movie in self.trainSet[v]:\n",
    "            if movie in watched_movies:\n",
    "                continue\n",
    "            #若该电影用户未看过，添加rank列表，计算关联值\n",
    "            rank.setdefault(movie, 0)\n",
    "            rank[movie] += wuv\n",
    "    #根据user与电影的关联值排序，返回前N个电影。\n",
    "    sim = sorted(rank.items(), key=itemgetter(1), reverse=True)[0:N]\n",
    "    return sim"
   ]
  },
  {
   "cell_type": "markdown",
   "metadata": {},
   "source": [
    "## 【实验步骤】推荐系统中准确率和召回率的理解 \n",
    "推荐系统中的TopN推荐，它的预测准确率一般是通过准确率和召回率来进行评估的，那么我们就要理解，什么是准确率，什么是召回率！\n",
    "\n",
    "    准确率，顾名思义，就是准确程度。通过正确数/总数得到。\n",
    "    召回率，我们可以理解为找到的数目与总的需要我们找到的数目的比。\n",
    "\n",
    "精确率是针对我们预测结果而言的，它表示的是预测为正的样本中有多少是真正的正样本。\n",
    "而召回率是针对我们原来的样本而言的，它表示的是样本中的正例有多少被预测正确了。\n",
    "\n",
    "代码实现："
   ]
  },
  {
   "cell_type": "code",
   "execution_count": 13,
   "metadata": {},
   "outputs": [],
   "source": [
    "# 产生推荐并通过准确率、召回率和覆盖率进行评估\n",
    "def evaluate(self):\n",
    "    print(\"开始评估 ...\")\n",
    "    N = self.n_rec_movie\n",
    "    # 准确率和召回率\n",
    "    hit = 0\n",
    "    rec_count = 0\n",
    "    test_count = 0\n",
    "    # 覆盖率\n",
    "    all_rec_movies = set()\n",
    "\n",
    "    for i, user, in enumerate(self.trainSet):\n",
    "        test_movies = self.testSet.get(user, {})\n",
    "        rec_movies = self.recommend(user)\n",
    "        #数据导出配置，无意义\n",
    "        result = pd.DataFrame(rec_movies, columns=['movieid', 'score'])\n",
    "        result['userid'] = user\n",
    "        result = result[['userid', 'movieid', 'score']]\n",
    "        result.set_index(['userid', 'movieid'])\n",
    "\n",
    "        if i == 0:\n",
    "            result.to_csv('result.csv', index=False)\n",
    "        else:\n",
    "            result.to_csv('result.csv', mode='a', header=False, index=False)\n",
    "        #命中计算\n",
    "        for movie, w in rec_movies:\n",
    "            #如果推荐的电影在该用户的给出的电影集中\n",
    "            if movie in test_movies:\n",
    "                hit += 1\n",
    "            all_rec_movies.add(movie)\n",
    "        #计算准确率总数\n",
    "        rec_count += N\n",
    "        # 计算召回率总数\n",
    "        test_count += len(test_movies)\n",
    "\n",
    "    precision = hit / (1.0 * rec_count)\n",
    "    recall = hit / (1.0 * test_count)\n",
    "    coverage = len(all_rec_movies) / (1.0 * self.movie_count)\n",
    "    print('准确度：%.4f\\t召回率：%.4f\\t覆盖率：%.4f' % (precision, recall, coverage))"
   ]
  },
  {
   "cell_type": "markdown",
   "metadata": {},
   "source": [
    "## 【实验步骤】代码实现 "
   ]
  },
  {
   "cell_type": "code",
   "execution_count": 16,
   "metadata": {},
   "outputs": [
    {
     "name": "stdout",
     "output_type": "stream",
     "text": [
      "加载文件 movie_recommender/ratings.csv 成功!\n",
      "划分训练集和测试集！\n",
      "训练集个数： 75632\n",
      "测试集个数： 25204\n",
      "电影总数：8773\n",
      "开始评估 ...\n",
      "准确度：0.2997\t召回率：0.0725\t覆盖率：0.0423\n"
     ]
    }
   ],
   "source": [
    "import random\n",
    "import pandas as pd\n",
    "import math\n",
    "from operator import itemgetter\n",
    "\n",
    "\n",
    "class UserBasedCF():\n",
    "    def __init__(self):\n",
    "        self.n_sim_user = 20\n",
    "        self.n_rec_movie = 10\n",
    "        #此处考虑是否可以换为crossvalidation\n",
    "        self.trainSet = {}\n",
    "        self.testSet = {}\n",
    "\n",
    "        #用户相似度矩阵\n",
    "        self.user_sim_matrix = {}  #dic\n",
    "        self.movie_count = 0\n",
    "\n",
    "    def get_dataset(self, filename, pivot=0.75):\n",
    "        trainSet_len = 0\n",
    "        testSet_len = 0\n",
    "        for line in self.load_file(filename):\n",
    "            user, movie, rating, timestamp = line.split(',')\n",
    "            if random.random() < pivot:\n",
    "                self.trainSet.setdefault(user, {})\n",
    "                self.trainSet[user][movie] = rating\n",
    "                trainSet_len += 1\n",
    "            else:\n",
    "                self.testSet.setdefault(user, {})\n",
    "                self.testSet[user][movie] = rating\n",
    "                testSet_len += 1\n",
    "        print('划分训练集和测试集！')\n",
    "        print('训练集个数： %s' % trainSet_len)\n",
    "        print('测试集个数： %s' % testSet_len)\n",
    "\n",
    "    # 读文件，返回文件的每一行\n",
    "    def load_file(self, filename):\n",
    "        with open(filename, 'r') as f:\n",
    "            for i, line in enumerate(f):\n",
    "                if i == 0:  # 去掉文件第一行的title\n",
    "                    continue\n",
    "                yield line.strip('\\r\\n')\n",
    "        print('加载文件 %s 成功!' % filename)\n",
    "\n",
    "    def calc_user_sim(self):\n",
    "        #电影-用户\n",
    "        movie_user = {}\n",
    "        for user, movies in self.trainSet.items():\n",
    "            for movie in movies:\n",
    "                if movie not in movie_user:\n",
    "                    movie_user[movie] = set()\n",
    "                movie_user[movie].add(user)\n",
    "\n",
    "        self.movie_count = len(movie_user)\n",
    "        print(\"电影总数：%d\" % self.movie_count)\n",
    "        #构建用户相似度矩阵第一步\n",
    "        for movie, users in movie_user.items():\n",
    "            for u in users:\n",
    "                for v in users:\n",
    "                    if u == v:\n",
    "                        continue\n",
    "                    #如果字典中该键值不存在，新增该键并设置默认值\n",
    "                    self.user_sim_matrix.setdefault(u, {})\n",
    "                    self.user_sim_matrix[u].setdefault(v, 0)\n",
    "                    self.user_sim_matrix[u][v] += 1\n",
    "        #计算当前值非0的用户之间的相似度\n",
    "        for u, related_users in self.user_sim_matrix.items():\n",
    "            for v, count in related_users.items():\n",
    "                self.user_sim_matrix[u][v] = count / math.sqrt(len(self.trainSet[u]) * len(self.trainSet[v]))\n",
    "\n",
    "    def recommend(self, user):\n",
    "        K = self.n_sim_user\n",
    "        N = self.n_rec_movie\n",
    "\n",
    "        rank = {}\n",
    "        watched_movies = self.trainSet[user]\n",
    "        #使用矩阵的第一列进行sort,以用户相关度进行比较\n",
    "        for v, wuv in sorted(self.user_sim_matrix[user].items(), key=itemgetter(1), reverse=True)[0:K]:\n",
    "            for movie in self.trainSet[v]:\n",
    "                if movie in watched_movies:\n",
    "                    continue\n",
    "                rank.setdefault(movie, 0)\n",
    "                rank[movie] += wuv\n",
    "        sim = sorted(rank.items(), key=itemgetter(1), reverse=True)[0:N]\n",
    "        return sim\n",
    "\n",
    "    # 产生推荐并通过准确率、召回率和覆盖率进行评估\n",
    "    def evaluate(self):\n",
    "        print(\"开始评估 ...\")\n",
    "        N = self.n_rec_movie\n",
    "        # 准确率和召回率\n",
    "        hit = 0\n",
    "        rec_count = 0\n",
    "        test_count = 0\n",
    "        # 覆盖率\n",
    "        all_rec_movies = set()\n",
    "\n",
    "        for i, user, in enumerate(self.trainSet):\n",
    "            test_movies = self.testSet.get(user, {})\n",
    "            rec_movies = self.recommend(user)\n",
    "            result = pd.DataFrame(rec_movies, columns=['movieid', 'score'])\n",
    "            result['userid'] = user\n",
    "            result = result[['userid', 'movieid', 'score']]\n",
    "            result.set_index(['userid', 'movieid'])\n",
    "            if i == 0:\n",
    "                result.to_csv('result.csv', index=False)\n",
    "            else:\n",
    "                result.to_csv('result.csv', mode='a', header=False, index=False)\n",
    "            for movie, w in rec_movies:\n",
    "                if movie in test_movies:\n",
    "                    hit += 1\n",
    "                all_rec_movies.add(movie)\n",
    "            rec_count += N\n",
    "            test_count += len(test_movies)\n",
    "\n",
    "        precision = hit / (1.0 * rec_count)\n",
    "        recall = hit / (1.0 * test_count)\n",
    "        coverage = len(all_rec_movies) / (1.0 * self.movie_count)\n",
    "        print('准确度：%.4f\\t召回率：%.4f\\t覆盖率：%.4f' % (precision, recall, coverage))\n",
    "\n",
    "\n",
    "if __name__ == '__main__':\n",
    "    rating_file = 'movie_recommender/ratings.csv'\n",
    "    userCF = UserBasedCF()\n",
    "    userCF.get_dataset(rating_file)\n",
    "    userCF.calc_user_sim()\n",
    "    userCF.evaluate()"
   ]
  },
  {
   "cell_type": "markdown",
   "metadata": {},
   "source": [
    "可以看到，在覆盖率为4.1%的情况下，准确率为29.8%，召回率7%。以及对用户ID为1的用户推荐的10个电影。"
   ]
  },
  {
   "cell_type": "markdown",
   "metadata": {},
   "source": [
    "##  实验总结 \n",
    "本实验介绍基于用户的协同过滤算法的电影推荐系统。\n",
    "\n",
    "学生通过该实验需达到以下目标：\n",
    "\n",
    "    能够实现基于用户的协同过滤算法\n",
    "    能够实现推荐系统"
   ]
  },
  {
   "cell_type": "markdown",
   "metadata": {},
   "source": [
    "## 参考文献与延伸阅读"
   ]
  },
  {
   "cell_type": "markdown",
   "metadata": {},
   "source": [
    "### 参考资料:"
   ]
  },
  {
   "cell_type": "markdown",
   "metadata": {},
   "source": [
    "1.哈林顿，李锐. 机器学习实战 : Machine learning in action[M]. 人民邮电出版社, 2013.  \n",
    "2.周志华. 机器学习:Machine learning[M]. 清华大学出版社, 2016."
   ]
  },
  {
   "cell_type": "markdown",
   "metadata": {},
   "source": [
    "### 延伸阅读"
   ]
  },
  {
   "cell_type": "markdown",
   "metadata": {},
   "source": [
    "1.李航. 统计学习方法[M]. 清华大学出版社, 2012."
   ]
  }
 ],
 "metadata": {
  "kernelspec": {
   "name": "pytorch",
   "language": "python",
   "display_name": "Pytorch (pytorch)"
  },
  "language_info": {
   "codemirror_mode": {
    "name": "ipython",
    "version": 3
   },
   "file_extension": ".py",
   "mimetype": "text/x-python",
   "name": "python",
   "nbconvert_exporter": "python",
   "pygments_lexer": "ipython3",
   "version": "3.6.8"
  }
 },
 "nbformat": 4,
 "nbformat_minor": 1
}
