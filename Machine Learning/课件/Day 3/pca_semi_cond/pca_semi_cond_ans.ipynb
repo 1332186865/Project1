{
 "cells": [
  {
   "cell_type": "markdown",
   "metadata": {},
   "source": [
    "## 实验介绍"
   ]
  },
  {
   "cell_type": "markdown",
   "metadata": {},
   "source": [
    "### 1.实验内容"
   ]
  },
  {
   "cell_type": "markdown",
   "metadata": {},
   "source": [
    "本实验介绍PCA算法。并实现基于PCA算法的半导体制造数据降维 。"
   ]
  },
  {
   "cell_type": "markdown",
   "metadata": {},
   "source": [
    "### 2.实验目标"
   ]
  },
  {
   "cell_type": "markdown",
   "metadata": {},
   "source": [
    "通过本实验掌握PCA算法。"
   ]
  },
  {
   "cell_type": "markdown",
   "metadata": {},
   "source": [
    "### 3.实验知识点"
   ]
  },
  {
   "cell_type": "markdown",
   "metadata": {},
   "source": [
    "* PCA算法"
   ]
  },
  {
   "cell_type": "markdown",
   "metadata": {},
   "source": [
    "### 4.实验环境"
   ]
  },
  {
   "cell_type": "markdown",
   "metadata": {},
   "source": [
    "* python 3.6.5\n",
    "* sklearn 0.19.1\n",
    "* CourseGrading在线实验环境"
   ]
  },
  {
   "cell_type": "markdown",
   "metadata": {},
   "source": [
    "### 5.预备知识"
   ]
  },
  {
   "cell_type": "markdown",
   "metadata": {},
   "source": [
    "* 初等数学知识\n",
    "* Linux命令基本操作\n",
    "* Python编程基础\n",
    "* kNN算法原理\n"
   ]
  },
  {
   "cell_type": "markdown",
   "metadata": {},
   "source": [
    "## 准备工作"
   ]
  },
  {
   "cell_type": "markdown",
   "metadata": {},
   "source": [
    "点击屏幕右上方的下载实验数据模块，选择下载pca_semi_cond.tgz到指定目录下，然后再依次选择点击上方的File->Open->Upload,上传刚才下载的数据集压缩包，再使用如下命令解压："
   ]
  },
  {
   "cell_type": "code",
   "execution_count": 1,
   "metadata": {},
   "outputs": [
    {
     "name": "stdout",
     "output_type": "stream",
     "text": [
      "pca_semi_cond/\r\n",
      "pca_semi_cond/secom.data\r\n"
     ]
    }
   ],
   "source": [
    "!tar -zxvf pca_semi_cond.tgz"
   ]
  },
  {
   "cell_type": "markdown",
   "metadata": {},
   "source": [
    "## 【实验】利用PCA对半导体制造数据降维 \n",
    "我们知道，像集成电路这样的半导体，成本非常昂贵。如果能在制造过程中尽早和尽快地检测出是否出现瑕疵，将可能为企业节省大量的成本和时间。那么，我们在面对大规模和高维度数据集时，显然计算损耗会很大，无疑会非常耗时。所以，如果利用PCA等降维技术将高维的数据特征进行降维处理，保留那些最重要的数据特征，舍弃那些可以忽略的特征，将大大加快我们的数据处理速度和计算损耗，为企业节省不小的时间和成本。"
   ]
  },
  {
   "cell_type": "markdown",
   "metadata": {},
   "source": [
    "## 【实验】数据缺失值的问题 "
   ]
  },
  {
   "cell_type": "markdown",
   "metadata": {},
   "source": [
    "显然，数据集中可能会包含很多缺失值，这些缺失值是以NaN进行标识的。那么如何对待这些缺失值呢？如果存在大量的样本存在缺失值，显然选择将这些有缺失值得样本丢弃不可取；此外，由于并不知道这些值的意义，选择将缺失值替换为0也不是一个很好的决定。所以，这里我们选择将数据集中的特征缺失值，用数据集中该维度所有非NaN特征的均值进行替换。相比之下，采用均值替换的方法在这里是一个相对较好的选择。数据集来自UCI机器学习数据库，包含590个特征，其中几乎所有样本都存在特征缺失，用NaN表示，通过replaceNanWithMean将缺失的NaN数据用其他样本的相同特征值平均值填充。添加如下代码："
   ]
  },
  {
   "cell_type": "code",
   "execution_count": 5,
   "metadata": {},
   "outputs": [],
   "source": [
    "from numpy import *\n",
    "import matplotlib.pyplot as plt\n",
    "\"\"\"\n",
    "函数说明：加载数据集\n",
    "parameters:\n",
    "    fileName -文件名\n",
    "    delim -分隔符\n",
    "return:\n",
    "    mat(datArr) -数据矩阵\n",
    "\"\"\"\n",
    "def loadDataSet(fileName, delim = '\\t'):\n",
    "    fr = open(fileName)\n",
    "    stringArr = [line.strip().split(delim) for line in fr.readlines()]      #对读入数据以\\t分隔存储到列表中\n",
    "    datArr = [list(map(float,line)) for line in stringArr]   #使用两个list来构建矩阵\n",
    "    return mat(datArr)\n",
    "\"\"\"\n",
    "函数说明：PCA算法实现\n",
    "parameters:\n",
    "    dataMat -用于进行PCA操作的数据集\n",
    "    topNfeat -应用的N个特征\n",
    "return:\n",
    "    lowDataMat -将维后的数据集\n",
    "    reconMat -重构的数据集（用于调试）\n",
    "\"\"\"\n",
    "def pca(dataMat, topNfeat = 9999999):\n",
    "    meanVals = mean(dataMat, axis = 0)  #计算数据平均值\n",
    "    meanRemoved = dataMat - meanVals    #去中心化\n",
    "    covMat = cov(meanRemoved, rowvar = 0 ) #计算协方差\n",
    "    eigVals, eigVects = linalg.eig(mat(covMat)) #计算协方差矩阵的特征值和特征向量\n",
    "    eigValInd = argsort(eigVals) #对特征值从小到大排序，并提取对应的index\n",
    "    eigValInd = eigValInd[:-(topNfeat+1):-1]    #对特征排序结果逆序\n",
    "    redEigVects = eigVects[:,eigValInd]     #根据特征值排序结果得到topNfeat个最大的特征向量\n",
    "    lowDataMat = meanRemoved * redEigVects              #数据降维\n",
    "    reconMat = (lowDataMat * redEigVects.T) + meanVals  #数据重构（对比上面的计算公式）\n",
    "    return lowDataMat, reconMat\n",
    "\"\"\"\n",
    "函数说明：绘制数据集\n",
    "parameters:\n",
    "    dataMat -原始数据集\n",
    "    reconMat -重构数据集\n",
    "return:\n",
    "    None\n",
    "\"\"\"\n",
    "def drawDataSet(dataMat, reconMat):\n",
    "    fig = plt.figure()\n",
    "    ax = fig.add_subplot(111)\n",
    "    ax.scatter(dataMat[:,0].flatten().A[0], dataMat[:,1].flatten().A[0], marker='^',s=90)\n",
    "    ax.scatter(reconMat[:,0].flatten().A[0], reconMat[:,1].flatten().A[0], marker='o',s=50,c='red')\n",
    "    plt.show()\n",
    "    \n",
    "def replaceNanWithMean():\n",
    "    datMat = loadDataSet('pca_semi_cond/secom.data',' ')\n",
    "    numFeat = shape(datMat)[1]\n",
    "    for i in range(numFeat):\n",
    "        meanVal = mean(datMat[nonzero(~isnan(datMat[:,i].A))[0],i])     #计算每个特征项的均值\n",
    "        datMat[nonzero(isnan(datMat[:,i].A))[0],i] = meanVal    #将空值替换为均值\n",
    "    return datMat"
   ]
  },
  {
   "cell_type": "markdown",
   "metadata": {},
   "source": [
    "这样，我们就去除了所有NaN特征，接下来就可以对数据集利用PCA算法进行降维处理了。修改main函数为："
   ]
  },
  {
   "cell_type": "code",
   "execution_count": 6,
   "metadata": {},
   "outputs": [
    {
     "name": "stdout",
     "output_type": "stream",
     "text": [
      "协方差矩阵的特征值结果：\n",
      " [  5.34151979e+07   2.17466719e+07   8.24837662e+06   2.07388086e+06\n",
      "   1.31540439e+06   4.67693557e+05   2.90863555e+05   2.83668601e+05\n",
      "   2.37155830e+05   2.08513836e+05   1.96098849e+05   1.86856549e+05\n",
      "   1.52422354e+05   1.13215032e+05   1.08493848e+05   1.02849533e+05\n",
      "   1.00166164e+05   8.33473762e+04   8.15850591e+04   7.76560524e+04\n",
      "   6.66060410e+04   6.52620058e+04   5.96776503e+04   5.16269933e+04\n",
      "   5.03324580e+04   4.54661746e+04   4.41914029e+04   4.15532551e+04\n",
      "   3.55294040e+04   3.31436743e+04   2.67385181e+04   1.47123429e+04\n",
      "   1.44089194e+04   1.09321187e+04   1.04841308e+04   9.48876548e+03\n",
      "   8.34665462e+03   7.22765535e+03   5.34196392e+03   4.95614671e+03\n",
      "   4.23060022e+03   4.10673182e+03   3.41199406e+03   3.24193522e+03\n",
      "   2.74523635e+03   2.35027999e+03   2.16835314e+03   1.86414157e+03\n",
      "   1.76741826e+03   1.70492093e+03   1.66199683e+03   1.53948465e+03\n",
      "   1.33096008e+03   1.25591691e+03   1.15509389e+03   1.12410108e+03\n",
      "   1.03213798e+03   1.00972093e+03   9.50542179e+02   9.09791361e+02\n",
      "   8.32001551e+02   8.08898242e+02   7.37343627e+02   6.87596830e+02\n",
      "   5.64452104e+02   5.51812250e+02   5.37209115e+02   4.93029995e+02\n",
      "   4.13720573e+02   3.90222119e+02   3.37288784e+02   3.27558605e+02\n",
      "   3.08869553e+02   2.46285839e+02   2.28893093e+02   1.96447852e+02\n",
      "   1.75559820e+02   1.65795169e+02   1.56428052e+02   1.39671194e+02\n",
      "   1.28662864e+02   1.15624070e+02   1.10318239e+02   1.08663541e+02\n",
      "   1.00695416e+02   9.80687852e+01   8.34968275e+01   7.53025397e+01\n",
      "   6.89260158e+01   6.67786503e+01   6.09412873e+01   5.30974002e+01\n",
      "   4.71797825e+01   4.50701108e+01   4.41349593e+01   4.03313416e+01\n",
      "   3.95741636e+01   3.74000035e+01   3.44211326e+01   3.30031584e+01\n",
      "   3.03317756e+01   2.88994580e+01   2.76478754e+01   2.57708695e+01\n",
      "   2.44506430e+01   2.31640106e+01   2.26956957e+01   2.16925102e+01\n",
      "   2.10114869e+01   2.00984697e+01   1.86489543e+01   1.83733216e+01\n",
      "   1.72517802e+01   1.60481189e+01   1.54406997e+01   1.48356499e+01\n",
      "   1.44273357e+01   1.42318192e+01   1.35592064e+01   1.30696836e+01\n",
      "   1.28193512e+01   1.22093626e+01   1.15228376e+01   1.12141738e+01\n",
      "   1.02585936e+01   9.86906139e+00   9.58794460e+00   9.41686288e+00\n",
      "   9.20276340e+00   8.63791398e+00   8.20622561e+00   8.01020114e+00\n",
      "   7.53391290e+00   7.33168361e+00   7.09960245e+00   7.02149364e+00\n",
      "   6.76557324e+00   6.34504733e+00   6.01919292e+00   5.81680918e+00\n",
      "   5.44653788e+00   5.12338463e+00   4.79593185e+00   4.47851795e+00\n",
      "   4.50369987e+00   4.27479386e+00   3.89124198e+00   3.56466892e+00\n",
      "   3.32248982e+00   2.97665360e+00   2.61425544e+00   2.31802829e+00\n",
      "   2.17171124e+00   1.99239284e+00   1.96616566e+00   1.88149281e+00\n",
      "   1.79228288e+00   1.71378363e+00   1.68028783e+00   1.60686268e+00\n",
      "   1.47158244e+00   1.40656712e+00   1.37808906e+00   1.27967672e+00\n",
      "   1.22803716e+00   1.18531109e+00   9.38857180e-01   9.18222054e-01\n",
      "   8.26265393e-01   7.96585842e-01   7.74597255e-01   7.14002770e-01\n",
      "   6.79457797e-01   6.37928310e-01   6.24646758e-01   5.34605353e-01\n",
      "   4.60658687e-01   4.24265893e-01   4.08634622e-01   3.70321764e-01\n",
      "   3.67016386e-01   3.35858033e-01   3.29780397e-01   2.94348753e-01\n",
      "   2.84154176e-01   2.72703994e-01   2.63265991e-01   2.45227786e-01\n",
      "   2.25805135e-01   2.22331919e-01   2.13514673e-01   1.93961935e-01\n",
      "   1.91647269e-01   1.83668491e-01   1.82518017e-01   1.65310922e-01\n",
      "   1.57447909e-01   1.51263974e-01   1.39427297e-01   1.32638882e-01\n",
      "   1.28000027e-01   1.13559952e-01   1.12576237e-01   1.08809771e-01\n",
      "   1.07136355e-01   8.60839655e-02   8.50467792e-02   8.29254355e-02\n",
      "   7.03701660e-02   6.44475619e-02   6.09866327e-02   6.05709478e-02\n",
      "   5.93963958e-02   5.22163549e-02   4.92729703e-02   4.80022983e-02\n",
      "   4.51487439e-02   4.30180504e-02   4.13368324e-02   4.03281604e-02\n",
      "   3.91576587e-02   3.54198873e-02   3.31199510e-02   3.13547234e-02\n",
      "   3.07226509e-02   2.98354196e-02   2.81949091e-02   2.49158051e-02\n",
      "   2.36374781e-02   2.28360210e-02   2.19602047e-02   2.00166957e-02\n",
      "   1.86597535e-02   1.80415918e-02   1.72261012e-02   1.60703860e-02\n",
      "   1.49566735e-02   1.40165444e-02   1.31296856e-02   1.21358005e-02\n",
      "   1.07166503e-02   1.01045695e-02   9.76055340e-03   9.16740926e-03\n",
      "   8.78108857e-03   8.67465278e-03   8.30918514e-03   8.05104488e-03\n",
      "   7.56152126e-03   7.31508852e-03   7.26347037e-03   6.65728354e-03\n",
      "   6.50769617e-03   6.28009879e-03   6.19160730e-03   5.64130272e-03\n",
      "   5.30195373e-03   5.07453702e-03   4.47372286e-03   4.32543895e-03\n",
      "   4.22006582e-03   3.97065729e-03   3.75292740e-03   3.64861290e-03\n",
      "   3.38915810e-03   3.27965962e-03   3.06633825e-03   2.99206786e-03\n",
      "   2.83586784e-03   2.74987243e-03   2.31066313e-03   2.26782347e-03\n",
      "   1.82206662e-03   1.74955624e-03   1.69305161e-03   1.66624597e-03\n",
      "   1.55346749e-03   1.51278404e-03   1.47296800e-03   1.33617458e-03\n",
      "   1.30517592e-03   1.24056353e-03   1.19823961e-03   1.14381059e-03\n",
      "   1.13027458e-03   1.11081803e-03   1.08359152e-03   1.03517496e-03\n",
      "   1.00164593e-03   9.50024605e-04   8.94981182e-04   8.74363843e-04\n",
      "   7.98497545e-04   7.51612221e-04   6.63964303e-04   6.21097650e-04\n",
      "   6.18098606e-04   5.72611406e-04   5.57509231e-04   5.47002382e-04\n",
      "   5.27195077e-04   5.11487997e-04   4.87787872e-04   4.74249071e-04\n",
      "   4.52367689e-04   4.24431102e-04   4.19119025e-04   3.72489906e-04\n",
      "   3.38125455e-04   3.34002144e-04   2.97951371e-04   2.84845901e-04\n",
      "   2.79038287e-04   2.77054476e-04   2.67962796e-04   2.54815126e-04\n",
      "   2.29230595e-04   1.99245436e-04   1.90381389e-04   1.84497913e-04\n",
      "   1.77415682e-04   1.68160613e-04   1.63992030e-04   1.58025552e-04\n",
      "   1.54226003e-04   1.46890640e-04   1.46097434e-04   1.40079891e-04\n",
      "   1.35736724e-04   1.22704035e-04   6.80209909e-05   1.16752515e-04\n",
      "   1.14080847e-04   7.24998305e-05   7.70526078e-05   1.04252870e-04\n",
      "   8.32654023e-05   8.60212632e-05   9.90265095e-05   9.66039063e-05\n",
      "   9.60766570e-05   9.16166337e-05   9.07003473e-05   7.36470021e-05\n",
      "   6.68682704e-05   6.14500427e-05   5.99843177e-05   5.49918004e-05\n",
      "   5.24646954e-05   5.13403844e-05   5.02336260e-05   4.89288503e-05\n",
      "   4.51104475e-05   4.29823763e-05   4.18869715e-05   4.14341562e-05\n",
      "   3.94822842e-05   3.80307292e-05   3.57776535e-05   3.43901591e-05\n",
      "   2.98089202e-05   2.72388358e-05   2.42608885e-05   2.30962279e-05\n",
      "   2.27807559e-05   2.14440814e-05   1.96208174e-05   1.91217363e-05\n",
      "   1.88276186e-05   1.66549050e-05   1.39779892e-05   1.46846459e-05\n",
      "   1.43753346e-05   7.36188584e-06   1.21760519e-05   1.20295834e-05\n",
      "   8.34247941e-06   1.13426750e-05   1.09258905e-05   8.93991857e-06\n",
      "   9.23630199e-06   1.02782989e-05   1.01021805e-05   9.64538293e-06\n",
      "   9.72678789e-06   7.20354827e-06   6.69282813e-06   6.49477813e-06\n",
      "   5.91044557e-06   6.00244889e-06   5.67034892e-06   5.31392220e-06\n",
      "   5.09342484e-06   4.65422045e-06   4.45482133e-06   4.11265576e-06\n",
      "   3.48065952e-06   3.65202839e-06   3.77558986e-06   2.78847698e-06\n",
      "   2.57492503e-06   2.66299626e-06   2.39210232e-06   2.06298821e-06\n",
      "   2.00824520e-06   1.76373602e-06   1.58273269e-06   1.44003524e-06\n",
      "   1.49813697e-06   1.10002716e-06   1.32211395e-06   1.42489428e-06\n",
      "   9.01008863e-07   8.49881106e-07   7.62521869e-07   6.57641103e-07\n",
      "   5.85636641e-07   5.33937361e-07   4.16077215e-07   3.33765858e-07\n",
      "   2.95575265e-07   2.54744632e-07   2.20144574e-07   1.86314519e-07\n",
      "   1.77370965e-07   1.54794344e-07   1.47331686e-07   1.39738552e-07\n",
      "   1.04110968e-07   1.00786519e-07   9.38635089e-08   9.10853311e-08\n",
      "   8.71546324e-08   7.48338889e-08   6.06817433e-08   5.66479202e-08\n",
      "   5.24576911e-08   4.57020639e-08   2.89942624e-08   2.60449427e-08\n",
      "   2.17618742e-08   2.10987989e-08   1.75542293e-08   1.34637029e-08\n",
      "   1.27167434e-08   1.23258199e-08   1.04987512e-08   9.86367887e-09\n",
      "   9.33428120e-09   8.49419604e-09   5.01137885e-09   7.42186986e-09\n",
      "   5.76455806e-09   6.46870358e-09   6.84633715e-09   3.48686422e-09\n",
      "   2.77880637e-09   1.73093437e-09   2.91267136e-09   1.42391209e-09\n",
      "   1.16455130e-09   9.24977064e-10   6.95075098e-10   6.13320867e-10\n",
      "   1.80003552e-10   1.97062496e-10   5.27645581e-10   1.11816043e-09\n",
      "   2.61919400e-10  -3.15349543e-15   2.91535246e-15   3.50364844e-16\n",
      "  -2.25660145e-17   2.67491507e-18   0.00000000e+00   0.00000000e+00\n",
      "   0.00000000e+00   0.00000000e+00   0.00000000e+00   0.00000000e+00\n",
      "   0.00000000e+00   0.00000000e+00   0.00000000e+00   0.00000000e+00\n",
      "   0.00000000e+00   0.00000000e+00   0.00000000e+00   0.00000000e+00\n",
      "   0.00000000e+00   0.00000000e+00   0.00000000e+00   0.00000000e+00\n",
      "   0.00000000e+00   0.00000000e+00   0.00000000e+00   0.00000000e+00\n",
      "   0.00000000e+00   0.00000000e+00   0.00000000e+00   0.00000000e+00\n",
      "   0.00000000e+00   0.00000000e+00   0.00000000e+00   0.00000000e+00\n",
      "   0.00000000e+00   0.00000000e+00   0.00000000e+00   0.00000000e+00\n",
      "   0.00000000e+00   0.00000000e+00   0.00000000e+00   0.00000000e+00\n",
      "   0.00000000e+00   0.00000000e+00   0.00000000e+00   0.00000000e+00\n",
      "   0.00000000e+00   0.00000000e+00   0.00000000e+00   0.00000000e+00\n",
      "   0.00000000e+00   0.00000000e+00   0.00000000e+00   0.00000000e+00\n",
      "   0.00000000e+00   0.00000000e+00   0.00000000e+00   0.00000000e+00\n",
      "   0.00000000e+00   0.00000000e+00   0.00000000e+00   0.00000000e+00\n",
      "   0.00000000e+00   0.00000000e+00   0.00000000e+00   0.00000000e+00\n",
      "   0.00000000e+00   0.00000000e+00   0.00000000e+00   0.00000000e+00\n",
      "   0.00000000e+00   0.00000000e+00   0.00000000e+00   0.00000000e+00\n",
      "   0.00000000e+00   0.00000000e+00   0.00000000e+00   0.00000000e+00\n",
      "   0.00000000e+00   0.00000000e+00   0.00000000e+00   0.00000000e+00\n",
      "   0.00000000e+00   0.00000000e+00   0.00000000e+00   0.00000000e+00\n",
      "   0.00000000e+00   0.00000000e+00   0.00000000e+00   0.00000000e+00\n",
      "   0.00000000e+00   0.00000000e+00   0.00000000e+00   0.00000000e+00\n",
      "   0.00000000e+00   0.00000000e+00   0.00000000e+00   0.00000000e+00\n",
      "   0.00000000e+00   0.00000000e+00   0.00000000e+00   0.00000000e+00\n",
      "   0.00000000e+00   0.00000000e+00   0.00000000e+00   0.00000000e+00\n",
      "   0.00000000e+00   0.00000000e+00   0.00000000e+00   0.00000000e+00\n",
      "   0.00000000e+00   0.00000000e+00   0.00000000e+00   0.00000000e+00\n",
      "   0.00000000e+00   0.00000000e+00   0.00000000e+00   0.00000000e+00\n",
      "   0.00000000e+00   0.00000000e+00]\n",
      "降维后的矩阵形状：\n",
      " (1567, 17)\n"
     ]
    },
    {
     "data": {
      "image/png": "[encoded data removed]",
      "text/plain": [
       "<Figure size 432x288 with 1 Axes>"
      ]
     },
     "metadata": {
      "needs_background": "light"
     },
     "output_type": "display_data"
    }
   ],
   "source": [
    "if __name__ =='__main__':\n",
    "    dataMat = replaceNanWithMean()\n",
    "    #pca部分代码\n",
    "    meanVals = mean(dataMat, axis = 0)  #计算数据平均值\n",
    "    meanRemoved = dataMat - meanVals    #去平均值\n",
    "    covMat = cov(meanRemoved, rowvar = 0 ) #计算协方差\n",
    "    eigVals, eigVects = linalg.eig(mat(covMat))\n",
    "    print(\"协方差矩阵的特征值结果：\\n\",eigVals)\n",
    "    #总步骤\n",
    "    lowDMat, reconMat = pca(dataMat,17)\n",
    "    print(\"降维后的矩阵形状：\\n\",shape(lowDMat))\n",
    "    drawDataSet(dataMat, reconMat)"
   ]
  },
  {
   "cell_type": "markdown",
   "metadata": {},
   "source": [
    "从上面的特征值结果，我们可以看到如下几个重要信息：\n",
    "\n",
    "    （1）里面有很多值都是0，这意味着这些特征都是其他特征的副本，都可以通过其他特征来表示，其本身没有提供额外的信息。\n",
    "    （2）可以看到最前面的15个特征值得数量级都大于10e+4，而后面的特征值都变得非常小。这表明，所有特征中只有部分特征是重要特征。"
   ]
  },
  {
   "cell_type": "markdown",
   "metadata": {},
   "source": [
    "## 【实验】运行结果 \n",
    "下图示出了数据集前20个主成分占总方差的百分比：\n",
    "![](1_pca_semi_cond.jpg)  \n",
    "可以看出，数据的绝大部分方差都包含在前面的几个主成分中，舍弃后面的主成分并不会损失太多的信息。如果只保留前面几个最重要的主成分，那么在保留了绝大部分信息的基础上，可以将数据集特征压缩到一个非常低的程度，显然大大提高了计算效率。\n",
    "\n",
    "下表是数据集前20个主成分所占的总方差百分比，以及累计方差百分比：\n",
    "![](2_pca_semi_cond.png)\n",
    "由上表可以看出，前六个主成分覆盖了数据96.8%的方差，前二十个主成分覆盖了99.3%的方差。这表明，通过特征值分析，我们可以确定出需要保留的主成分及其个数，在数据集整体信息（总方差）损失很小的情况下，我们可以实现数据的大幅度降维。\n",
    "\n",
    "看下我们取前20个主成分的数据压缩结果：\n",
    "![](3_pca_semi_cond.png)\n",
    "一旦，通过特征值分析知道了需要保留的主成分个数，那么我们就可以通过pca函数，设定合适的N值，使得函数最终将数据特征降低到最佳的维度。对数据进行降维后，我们就可以对剩余的数据特征进行机器学习算法的分类。"
   ]
  },
  {
   "cell_type": "markdown",
   "metadata": {},
   "source": [
    "## 实验总结"
   ]
  },
  {
   "cell_type": "markdown",
   "metadata": {},
   "source": [
    "降维技术使数据更易使用，并且它们往往能够去除数据中的噪声，通常作为预处理步骤，在算法应用前清洗数据。PCA可以从数据中识别主要特征，它通过沿着数据最大方差方向旋转坐标轴实现。\n",
    "\n",
    "通过学习本节的实验，您应该能达到以下两个目标：\n",
    "\n",
    "        1. 掌握PCA算法。\n",
    "        2. 学会实现该算法处理数据降维问题。"
   ]
  },
  {
   "cell_type": "markdown",
   "metadata": {},
   "source": [
    "##  参考文献及延伸阅读 "
   ]
  },
  {
   "cell_type": "markdown",
   "metadata": {},
   "source": [
    "### 参考资料："
   ]
  },
  {
   "cell_type": "markdown",
   "metadata": {},
   "source": [
    "1.哈林顿，李锐. 机器学习实战 : Machine learning in action[M]. 人民邮电出版社, 2013.  \n",
    "2.周志华. 机器学习:Machine learning[M]. 清华大学出版社, 2016."
   ]
  },
  {
   "cell_type": "markdown",
   "metadata": {},
   "source": [
    "### 延伸阅读："
   ]
  },
  {
   "cell_type": "markdown",
   "metadata": {},
   "source": [
    "1.李航. 统计学习方法[M]. 清华大学出版社, 2012."
   ]
  }
 ],
 "metadata": {
  "kernelspec": {
   "display_name": "Python 3",
   "language": "python",
   "name": "python3"
  },
  "language_info": {
   "codemirror_mode": {
    "name": "ipython",
    "version": 3
   },
   "file_extension": ".py",
   "mimetype": "text/x-python",
   "name": "python",
   "nbconvert_exporter": "python",
   "pygments_lexer": "ipython3",
   "version": "3.6.7"
  }
 },
 "nbformat": 4,
 "nbformat_minor": 1
}
