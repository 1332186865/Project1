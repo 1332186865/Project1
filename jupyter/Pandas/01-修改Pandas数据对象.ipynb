{
 "cells": [
  {
   "cell_type": "markdown",
   "id": "ca3a37b0",
   "metadata": {},
   "source": [
    "# 修改 Series 和 DataFrame 对象"
   ]
  },
  {
   "cell_type": "markdown",
   "id": "642e26bd",
   "metadata": {},
   "source": [
    "前一部分我们已经对 Series 和 DataFrame 有了基本了解，这一部分主要关注如何修改 Series、DataFrame 对象。修改涉及到两大类操作：  \n",
    "1） 增加或重排：重新索引  reindex  \n",
    "2） 删除：drop "
   ]
  },
  {
   "cell_type": "code",
   "execution_count": 1,
   "id": "c8ee8396",
   "metadata": {},
   "outputs": [],
   "source": [
    "import pandas as pd"
   ]
  },
  {
   "cell_type": "markdown",
   "id": "54d20e70",
   "metadata": {},
   "source": [
    "### 1.  reindex() 方法改变或重排 Series 和 DataFrame 索引"
   ]
  },
  {
   "cell_type": "code",
   "execution_count": 2,
   "id": "45d47053",
   "metadata": {},
   "outputs": [
    {
     "data": {
      "text/plain": "    城市     环比     同比     定基\nc1  北京  101.5  120.7  121.4\nc2  上海  101.2  127.3  127.8\nc3  广州  101.3  119.4  120.0\nc4  深圳  102.0  140.9  145.5\nc5  沈阳  100.1  101.4  101.6",
      "text/html": "<div>\n<style scoped>\n    .dataframe tbody tr th:only-of-type {\n        vertical-align: middle;\n    }\n\n    .dataframe tbody tr th {\n        vertical-align: top;\n    }\n\n    .dataframe thead th {\n        text-align: right;\n    }\n</style>\n<table border=\"1\" class=\"dataframe\">\n  <thead>\n    <tr style=\"text-align: right;\">\n      <th></th>\n      <th>城市</th>\n      <th>环比</th>\n      <th>同比</th>\n      <th>定基</th>\n    </tr>\n  </thead>\n  <tbody>\n    <tr>\n      <th>c1</th>\n      <td>北京</td>\n      <td>101.5</td>\n      <td>120.7</td>\n      <td>121.4</td>\n    </tr>\n    <tr>\n      <th>c2</th>\n      <td>上海</td>\n      <td>101.2</td>\n      <td>127.3</td>\n      <td>127.8</td>\n    </tr>\n    <tr>\n      <th>c3</th>\n      <td>广州</td>\n      <td>101.3</td>\n      <td>119.4</td>\n      <td>120.0</td>\n    </tr>\n    <tr>\n      <th>c4</th>\n      <td>深圳</td>\n      <td>102.0</td>\n      <td>140.9</td>\n      <td>145.5</td>\n    </tr>\n    <tr>\n      <th>c5</th>\n      <td>沈阳</td>\n      <td>100.1</td>\n      <td>101.4</td>\n      <td>101.6</td>\n    </tr>\n  </tbody>\n</table>\n</div>"
     },
     "execution_count": 2,
     "metadata": {},
     "output_type": "execute_result"
    }
   ],
   "source": [
    "price = {'城市':['北京','上海','广州','深圳','沈阳'],\n",
    "         '环比':[101.5, 101.2, 101.3, 102.0, 100.1],\n",
    "         '同比':[120.7, 127.3, 119.4, 140.9, 101.4],\n",
    "         '定基':[121.4, 127.8, 120.0, 145.5, 101.6]}\n",
    "df = pd.DataFrame(price, index=['c1','c2','c3','c4','c5'])\n",
    "df"
   ]
  },
  {
   "cell_type": "markdown",
   "id": "07616e1f",
   "metadata": {},
   "source": [
    "如果我们想要修改它的索引，可以使用 reindex 方法：传入参数 index 或者 columns 可以修改其行索引或者是列索引。  \n",
    "这种修改会返回一个新的数据对象，而非直接修改了原始的dataframe"
   ]
  },
  {
   "cell_type": "code",
   "execution_count": 7,
   "id": "4b523760",
   "metadata": {},
   "outputs": [
    {
     "data": {
      "text/html": [
       "<div>\n",
       "<style scoped>\n",
       "    .dataframe tbody tr th:only-of-type {\n",
       "        vertical-align: middle;\n",
       "    }\n",
       "\n",
       "    .dataframe tbody tr th {\n",
       "        vertical-align: top;\n",
       "    }\n",
       "\n",
       "    .dataframe thead th {\n",
       "        text-align: right;\n",
       "    }\n",
       "</style>\n",
       "<table border=\"1\" class=\"dataframe\">\n",
       "  <thead>\n",
       "    <tr style=\"text-align: right;\">\n",
       "      <th></th>\n",
       "      <th>城市</th>\n",
       "      <th>环比</th>\n",
       "      <th>同比</th>\n",
       "      <th>定基</th>\n",
       "    </tr>\n",
       "  </thead>\n",
       "  <tbody>\n",
       "    <tr>\n",
       "      <th>c5</th>\n",
       "      <td>沈阳</td>\n",
       "      <td>100.1</td>\n",
       "      <td>101.4</td>\n",
       "      <td>101.6</td>\n",
       "    </tr>\n",
       "    <tr>\n",
       "      <th>c4</th>\n",
       "      <td>深圳</td>\n",
       "      <td>102.0</td>\n",
       "      <td>140.9</td>\n",
       "      <td>145.5</td>\n",
       "    </tr>\n",
       "    <tr>\n",
       "      <th>c3</th>\n",
       "      <td>广州</td>\n",
       "      <td>101.3</td>\n",
       "      <td>119.4</td>\n",
       "      <td>120.0</td>\n",
       "    </tr>\n",
       "    <tr>\n",
       "      <th>c2</th>\n",
       "      <td>上海</td>\n",
       "      <td>101.2</td>\n",
       "      <td>127.3</td>\n",
       "      <td>127.8</td>\n",
       "    </tr>\n",
       "    <tr>\n",
       "      <th>c1</th>\n",
       "      <td>北京</td>\n",
       "      <td>101.5</td>\n",
       "      <td>120.7</td>\n",
       "      <td>121.4</td>\n",
       "    </tr>\n",
       "  </tbody>\n",
       "</table>\n",
       "</div>"
      ],
      "text/plain": [
       "    城市     环比     同比     定基\n",
       "c5  沈阳  100.1  101.4  101.6\n",
       "c4  深圳  102.0  140.9  145.5\n",
       "c3  广州  101.3  119.4  120.0\n",
       "c2  上海  101.2  127.3  127.8\n",
       "c1  北京  101.5  120.7  121.4"
      ]
     },
     "execution_count": 7,
     "metadata": {},
     "output_type": "execute_result"
    }
   ],
   "source": [
    "df.reindex(index=['c5','c4','c3','c2','c1'])"
   ]
  },
  {
   "cell_type": "code",
   "execution_count": 8,
   "id": "4469a9ff",
   "metadata": {},
   "outputs": [
    {
     "data": {
      "text/html": [
       "<div>\n",
       "<style scoped>\n",
       "    .dataframe tbody tr th:only-of-type {\n",
       "        vertical-align: middle;\n",
       "    }\n",
       "\n",
       "    .dataframe tbody tr th {\n",
       "        vertical-align: top;\n",
       "    }\n",
       "\n",
       "    .dataframe thead th {\n",
       "        text-align: right;\n",
       "    }\n",
       "</style>\n",
       "<table border=\"1\" class=\"dataframe\">\n",
       "  <thead>\n",
       "    <tr style=\"text-align: right;\">\n",
       "      <th></th>\n",
       "      <th>城市</th>\n",
       "      <th>环比</th>\n",
       "      <th>同比</th>\n",
       "      <th>定基</th>\n",
       "    </tr>\n",
       "  </thead>\n",
       "  <tbody>\n",
       "    <tr>\n",
       "      <th>c1</th>\n",
       "      <td>北京</td>\n",
       "      <td>101.5</td>\n",
       "      <td>120.7</td>\n",
       "      <td>121.4</td>\n",
       "    </tr>\n",
       "    <tr>\n",
       "      <th>c2</th>\n",
       "      <td>上海</td>\n",
       "      <td>101.2</td>\n",
       "      <td>127.3</td>\n",
       "      <td>127.8</td>\n",
       "    </tr>\n",
       "    <tr>\n",
       "      <th>c3</th>\n",
       "      <td>广州</td>\n",
       "      <td>101.3</td>\n",
       "      <td>119.4</td>\n",
       "      <td>120.0</td>\n",
       "    </tr>\n",
       "    <tr>\n",
       "      <th>c4</th>\n",
       "      <td>深圳</td>\n",
       "      <td>102.0</td>\n",
       "      <td>140.9</td>\n",
       "      <td>145.5</td>\n",
       "    </tr>\n",
       "    <tr>\n",
       "      <th>c5</th>\n",
       "      <td>沈阳</td>\n",
       "      <td>100.1</td>\n",
       "      <td>101.4</td>\n",
       "      <td>101.6</td>\n",
       "    </tr>\n",
       "  </tbody>\n",
       "</table>\n",
       "</div>"
      ],
      "text/plain": [
       "    城市     环比     同比     定基\n",
       "c1  北京  101.5  120.7  121.4\n",
       "c2  上海  101.2  127.3  127.8\n",
       "c3  广州  101.3  119.4  120.0\n",
       "c4  深圳  102.0  140.9  145.5\n",
       "c5  沈阳  100.1  101.4  101.6"
      ]
     },
     "execution_count": 8,
     "metadata": {},
     "output_type": "execute_result"
    }
   ],
   "source": [
    "df"
   ]
  },
  {
   "cell_type": "code",
   "execution_count": 9,
   "id": "eae57521",
   "metadata": {},
   "outputs": [
    {
     "data": {
      "text/html": [
       "<div>\n",
       "<style scoped>\n",
       "    .dataframe tbody tr th:only-of-type {\n",
       "        vertical-align: middle;\n",
       "    }\n",
       "\n",
       "    .dataframe tbody tr th {\n",
       "        vertical-align: top;\n",
       "    }\n",
       "\n",
       "    .dataframe thead th {\n",
       "        text-align: right;\n",
       "    }\n",
       "</style>\n",
       "<table border=\"1\" class=\"dataframe\">\n",
       "  <thead>\n",
       "    <tr style=\"text-align: right;\">\n",
       "      <th></th>\n",
       "      <th>城市</th>\n",
       "      <th>环比</th>\n",
       "      <th>同比</th>\n",
       "      <th>定基</th>\n",
       "    </tr>\n",
       "  </thead>\n",
       "  <tbody>\n",
       "    <tr>\n",
       "      <th>c5</th>\n",
       "      <td>沈阳</td>\n",
       "      <td>100.1</td>\n",
       "      <td>101.4</td>\n",
       "      <td>101.6</td>\n",
       "    </tr>\n",
       "    <tr>\n",
       "      <th>c4</th>\n",
       "      <td>深圳</td>\n",
       "      <td>102.0</td>\n",
       "      <td>140.9</td>\n",
       "      <td>145.5</td>\n",
       "    </tr>\n",
       "    <tr>\n",
       "      <th>c3</th>\n",
       "      <td>广州</td>\n",
       "      <td>101.3</td>\n",
       "      <td>119.4</td>\n",
       "      <td>120.0</td>\n",
       "    </tr>\n",
       "    <tr>\n",
       "      <th>c2</th>\n",
       "      <td>上海</td>\n",
       "      <td>101.2</td>\n",
       "      <td>127.3</td>\n",
       "      <td>127.8</td>\n",
       "    </tr>\n",
       "    <tr>\n",
       "      <th>c1</th>\n",
       "      <td>北京</td>\n",
       "      <td>101.5</td>\n",
       "      <td>120.7</td>\n",
       "      <td>121.4</td>\n",
       "    </tr>\n",
       "  </tbody>\n",
       "</table>\n",
       "</div>"
      ],
      "text/plain": [
       "    城市     环比     同比     定基\n",
       "c5  沈阳  100.1  101.4  101.6\n",
       "c4  深圳  102.0  140.9  145.5\n",
       "c3  广州  101.3  119.4  120.0\n",
       "c2  上海  101.2  127.3  127.8\n",
       "c1  北京  101.5  120.7  121.4"
      ]
     },
     "execution_count": 9,
     "metadata": {},
     "output_type": "execute_result"
    }
   ],
   "source": [
    "df = df.reindex(index=['c5','c4','c3','c2','c1'])\n",
    "df"
   ]
  },
  {
   "cell_type": "code",
   "execution_count": 3,
   "id": "e5f34f3b",
   "metadata": {},
   "outputs": [
    {
     "data": {
      "text/plain": "    城市     同比     环比     定基\nc1  北京  120.7  101.5  121.4\nc2  上海  127.3  101.2  127.8\nc3  广州  119.4  101.3  120.0\nc4  深圳  140.9  102.0  145.5\nc5  沈阳  101.4  100.1  101.6",
      "text/html": "<div>\n<style scoped>\n    .dataframe tbody tr th:only-of-type {\n        vertical-align: middle;\n    }\n\n    .dataframe tbody tr th {\n        vertical-align: top;\n    }\n\n    .dataframe thead th {\n        text-align: right;\n    }\n</style>\n<table border=\"1\" class=\"dataframe\">\n  <thead>\n    <tr style=\"text-align: right;\">\n      <th></th>\n      <th>城市</th>\n      <th>同比</th>\n      <th>环比</th>\n      <th>定基</th>\n    </tr>\n  </thead>\n  <tbody>\n    <tr>\n      <th>c1</th>\n      <td>北京</td>\n      <td>120.7</td>\n      <td>101.5</td>\n      <td>121.4</td>\n    </tr>\n    <tr>\n      <th>c2</th>\n      <td>上海</td>\n      <td>127.3</td>\n      <td>101.2</td>\n      <td>127.8</td>\n    </tr>\n    <tr>\n      <th>c3</th>\n      <td>广州</td>\n      <td>119.4</td>\n      <td>101.3</td>\n      <td>120.0</td>\n    </tr>\n    <tr>\n      <th>c4</th>\n      <td>深圳</td>\n      <td>140.9</td>\n      <td>102.0</td>\n      <td>145.5</td>\n    </tr>\n    <tr>\n      <th>c5</th>\n      <td>沈阳</td>\n      <td>101.4</td>\n      <td>100.1</td>\n      <td>101.6</td>\n    </tr>\n  </tbody>\n</table>\n</div>"
     },
     "execution_count": 3,
     "metadata": {},
     "output_type": "execute_result"
    }
   ],
   "source": [
    "df = df.reindex(columns=['城市','同比','环比','定基'])\n",
    "df"
   ]
  },
  {
   "cell_type": "markdown",
   "id": "eea2e491",
   "metadata": {},
   "source": [
    "如果我们想要给df增加新的一列数据，比如增加新的一列，列名为“新增”，就可以通过 reindex 来完成。"
   ]
  },
  {
   "cell_type": "code",
   "execution_count": 5,
   "id": "90ccc7d3",
   "metadata": {},
   "outputs": [
    {
     "data": {
      "text/plain": "    城市     同比     环比     定基\nc1  北京  120.7  101.5  121.4\nc2  上海  127.3  101.2  127.8\nc3  广州  119.4  101.3  120.0\nc4  深圳  140.9  102.0  145.5\nc5  沈阳  101.4  100.1  101.6",
      "text/html": "<div>\n<style scoped>\n    .dataframe tbody tr th:only-of-type {\n        vertical-align: middle;\n    }\n\n    .dataframe tbody tr th {\n        vertical-align: top;\n    }\n\n    .dataframe thead th {\n        text-align: right;\n    }\n</style>\n<table border=\"1\" class=\"dataframe\">\n  <thead>\n    <tr style=\"text-align: right;\">\n      <th></th>\n      <th>城市</th>\n      <th>同比</th>\n      <th>环比</th>\n      <th>定基</th>\n    </tr>\n  </thead>\n  <tbody>\n    <tr>\n      <th>c1</th>\n      <td>北京</td>\n      <td>120.7</td>\n      <td>101.5</td>\n      <td>121.4</td>\n    </tr>\n    <tr>\n      <th>c2</th>\n      <td>上海</td>\n      <td>127.3</td>\n      <td>101.2</td>\n      <td>127.8</td>\n    </tr>\n    <tr>\n      <th>c3</th>\n      <td>广州</td>\n      <td>119.4</td>\n      <td>101.3</td>\n      <td>120.0</td>\n    </tr>\n    <tr>\n      <th>c4</th>\n      <td>深圳</td>\n      <td>140.9</td>\n      <td>102.0</td>\n      <td>145.5</td>\n    </tr>\n    <tr>\n      <th>c5</th>\n      <td>沈阳</td>\n      <td>101.4</td>\n      <td>100.1</td>\n      <td>101.6</td>\n    </tr>\n  </tbody>\n</table>\n</div>"
     },
     "execution_count": 5,
     "metadata": {},
     "output_type": "execute_result"
    }
   ],
   "source": [
    "new_columns = df.columns.insert(4,'新增')\n",
    "new_columns"
   ]
  },
  {
   "cell_type": "code",
   "execution_count": 18,
   "id": "6d9bd0c8",
   "metadata": {},
   "outputs": [
    {
     "data": {
      "text/html": [
       "<div>\n",
       "<style scoped>\n",
       "    .dataframe tbody tr th:only-of-type {\n",
       "        vertical-align: middle;\n",
       "    }\n",
       "\n",
       "    .dataframe tbody tr th {\n",
       "        vertical-align: top;\n",
       "    }\n",
       "\n",
       "    .dataframe thead th {\n",
       "        text-align: right;\n",
       "    }\n",
       "</style>\n",
       "<table border=\"1\" class=\"dataframe\">\n",
       "  <thead>\n",
       "    <tr style=\"text-align: right;\">\n",
       "      <th></th>\n",
       "      <th>城市</th>\n",
       "      <th>同比</th>\n",
       "      <th>环比</th>\n",
       "      <th>定基</th>\n",
       "      <th>新增</th>\n",
       "    </tr>\n",
       "  </thead>\n",
       "  <tbody>\n",
       "    <tr>\n",
       "      <th>c5</th>\n",
       "      <td>沈阳</td>\n",
       "      <td>101.4</td>\n",
       "      <td>100.1</td>\n",
       "      <td>101.6</td>\n",
       "      <td>200</td>\n",
       "    </tr>\n",
       "    <tr>\n",
       "      <th>c4</th>\n",
       "      <td>深圳</td>\n",
       "      <td>140.9</td>\n",
       "      <td>102.0</td>\n",
       "      <td>145.5</td>\n",
       "      <td>200</td>\n",
       "    </tr>\n",
       "    <tr>\n",
       "      <th>c3</th>\n",
       "      <td>广州</td>\n",
       "      <td>119.4</td>\n",
       "      <td>101.3</td>\n",
       "      <td>120.0</td>\n",
       "      <td>200</td>\n",
       "    </tr>\n",
       "    <tr>\n",
       "      <th>c2</th>\n",
       "      <td>上海</td>\n",
       "      <td>127.3</td>\n",
       "      <td>101.2</td>\n",
       "      <td>127.8</td>\n",
       "      <td>200</td>\n",
       "    </tr>\n",
       "    <tr>\n",
       "      <th>c1</th>\n",
       "      <td>北京</td>\n",
       "      <td>120.7</td>\n",
       "      <td>101.5</td>\n",
       "      <td>121.4</td>\n",
       "      <td>200</td>\n",
       "    </tr>\n",
       "  </tbody>\n",
       "</table>\n",
       "</div>"
      ],
      "text/plain": [
       "    城市     同比     环比     定基   新增\n",
       "c5  沈阳  101.4  100.1  101.6  200\n",
       "c4  深圳  140.9  102.0  145.5  200\n",
       "c3  广州  119.4  101.3  120.0  200\n",
       "c2  上海  127.3  101.2  127.8  200\n",
       "c1  北京  120.7  101.5  121.4  200"
      ]
     },
     "execution_count": 18,
     "metadata": {},
     "output_type": "execute_result"
    }
   ],
   "source": [
    "df2 = df.reindex(columns=new_columns, fill_value=200) # 这里的 fill_value 指新的一列用什么数据来填充(只能是一个固定的值)\n",
    "df2"
   ]
  },
  {
   "cell_type": "markdown",
   "id": "7d845ef2",
   "metadata": {},
   "source": [
    "Series 和 DataFrame 的索引都是Index类型，Index 类型支持以下方法："
   ]
  },
  {
   "cell_type": "code",
   "execution_count": 19,
   "id": "62142d87",
   "metadata": {},
   "outputs": [],
   "source": [
    "# .append(index):连接另一个Index对象，产生新的Index对象；"
   ]
  },
  {
   "cell_type": "code",
   "execution_count": 20,
   "id": "d9061912",
   "metadata": {},
   "outputs": [],
   "source": [
    "# .diff(index):计算差集，产生新的Index对象；"
   ]
  },
  {
   "cell_type": "code",
   "execution_count": 21,
   "id": "a61a9966",
   "metadata": {},
   "outputs": [],
   "source": [
    "# .intersection(index): 计算交集；"
   ]
  },
  {
   "cell_type": "code",
   "execution_count": 22,
   "id": "0adc3eee",
   "metadata": {},
   "outputs": [],
   "source": [
    "# .union(index):计算并集；"
   ]
  },
  {
   "cell_type": "code",
   "execution_count": 26,
   "id": "93a0d9e4",
   "metadata": {},
   "outputs": [],
   "source": [
    "# .delete(loc): 删除 loc 位置处的元素"
   ]
  },
  {
   "cell_type": "code",
   "execution_count": 26,
   "id": "f362151b",
   "metadata": {},
   "outputs": [],
   "source": [
    "# .insert(loc,e):在loc位置插入一个元素"
   ]
  },
  {
   "cell_type": "code",
   "execution_count": 23,
   "id": "4f59825f",
   "metadata": {},
   "outputs": [
    {
     "data": {
      "text/html": [
       "<div>\n",
       "<style scoped>\n",
       "    .dataframe tbody tr th:only-of-type {\n",
       "        vertical-align: middle;\n",
       "    }\n",
       "\n",
       "    .dataframe tbody tr th {\n",
       "        vertical-align: top;\n",
       "    }\n",
       "\n",
       "    .dataframe thead th {\n",
       "        text-align: right;\n",
       "    }\n",
       "</style>\n",
       "<table border=\"1\" class=\"dataframe\">\n",
       "  <thead>\n",
       "    <tr style=\"text-align: right;\">\n",
       "      <th></th>\n",
       "      <th>城市</th>\n",
       "      <th>同比</th>\n",
       "      <th>环比</th>\n",
       "      <th>定基</th>\n",
       "    </tr>\n",
       "  </thead>\n",
       "  <tbody>\n",
       "    <tr>\n",
       "      <th>c5</th>\n",
       "      <td>沈阳</td>\n",
       "      <td>101.4</td>\n",
       "      <td>100.1</td>\n",
       "      <td>101.6</td>\n",
       "    </tr>\n",
       "    <tr>\n",
       "      <th>c4</th>\n",
       "      <td>深圳</td>\n",
       "      <td>140.9</td>\n",
       "      <td>102.0</td>\n",
       "      <td>145.5</td>\n",
       "    </tr>\n",
       "    <tr>\n",
       "      <th>c3</th>\n",
       "      <td>广州</td>\n",
       "      <td>119.4</td>\n",
       "      <td>101.3</td>\n",
       "      <td>120.0</td>\n",
       "    </tr>\n",
       "    <tr>\n",
       "      <th>c2</th>\n",
       "      <td>上海</td>\n",
       "      <td>127.3</td>\n",
       "      <td>101.2</td>\n",
       "      <td>127.8</td>\n",
       "    </tr>\n",
       "    <tr>\n",
       "      <th>c1</th>\n",
       "      <td>北京</td>\n",
       "      <td>120.7</td>\n",
       "      <td>101.5</td>\n",
       "      <td>121.4</td>\n",
       "    </tr>\n",
       "  </tbody>\n",
       "</table>\n",
       "</div>"
      ],
      "text/plain": [
       "    城市     同比     环比     定基\n",
       "c5  沈阳  101.4  100.1  101.6\n",
       "c4  深圳  140.9  102.0  145.5\n",
       "c3  广州  119.4  101.3  120.0\n",
       "c2  上海  127.3  101.2  127.8\n",
       "c1  北京  120.7  101.5  121.4"
      ]
     },
     "execution_count": 23,
     "metadata": {},
     "output_type": "execute_result"
    }
   ],
   "source": [
    "df"
   ]
  },
  {
   "cell_type": "code",
   "execution_count": 6,
   "id": "1d226c29",
   "metadata": {},
   "outputs": [
    {
     "name": "stdout",
     "output_type": "stream",
     "text": [
      "Index(['城市', '同比', '定基'], dtype='object')\n",
      "Index(['c1', 'c2', 'c3', 'c4', 'c5', 'c0'], dtype='object')\n"
     ]
    },
    {
     "data": {
      "text/plain": "    城市     同比     环比     定基\nc1  北京  120.7  101.5  121.4\nc2  上海  127.3  101.2  127.8\nc3  广州  119.4  101.3  120.0\nc4  深圳  140.9  102.0  145.5\nc5  沈阳  101.4  100.1  101.6",
      "text/html": "<div>\n<style scoped>\n    .dataframe tbody tr th:only-of-type {\n        vertical-align: middle;\n    }\n\n    .dataframe tbody tr th {\n        vertical-align: top;\n    }\n\n    .dataframe thead th {\n        text-align: right;\n    }\n</style>\n<table border=\"1\" class=\"dataframe\">\n  <thead>\n    <tr style=\"text-align: right;\">\n      <th></th>\n      <th>城市</th>\n      <th>同比</th>\n      <th>环比</th>\n      <th>定基</th>\n    </tr>\n  </thead>\n  <tbody>\n    <tr>\n      <th>c1</th>\n      <td>北京</td>\n      <td>120.7</td>\n      <td>101.5</td>\n      <td>121.4</td>\n    </tr>\n    <tr>\n      <th>c2</th>\n      <td>上海</td>\n      <td>127.3</td>\n      <td>101.2</td>\n      <td>127.8</td>\n    </tr>\n    <tr>\n      <th>c3</th>\n      <td>广州</td>\n      <td>119.4</td>\n      <td>101.3</td>\n      <td>120.0</td>\n    </tr>\n    <tr>\n      <th>c4</th>\n      <td>深圳</td>\n      <td>140.9</td>\n      <td>102.0</td>\n      <td>145.5</td>\n    </tr>\n    <tr>\n      <th>c5</th>\n      <td>沈阳</td>\n      <td>101.4</td>\n      <td>100.1</td>\n      <td>101.6</td>\n    </tr>\n  </tbody>\n</table>\n</div>"
     },
     "execution_count": 6,
     "metadata": {},
     "output_type": "execute_result"
    }
   ],
   "source": [
    "idx1 = df.columns.delete(2) # 删除列索引的第2个元素\n",
    "idx2 = df.index.insert(5,'c0') # 给行索引的第5个位置加新的元素 c0\n",
    "print(idx1, idx2, sep='\\n')\n",
    "df"
   ]
  },
  {
   "cell_type": "code",
   "execution_count": 39,
   "id": "a32a5971",
   "metadata": {},
   "outputs": [
    {
     "data": {
      "text/html": [
       "<div>\n",
       "<style scoped>\n",
       "    .dataframe tbody tr th:only-of-type {\n",
       "        vertical-align: middle;\n",
       "    }\n",
       "\n",
       "    .dataframe tbody tr th {\n",
       "        vertical-align: top;\n",
       "    }\n",
       "\n",
       "    .dataframe thead th {\n",
       "        text-align: right;\n",
       "    }\n",
       "</style>\n",
       "<table border=\"1\" class=\"dataframe\">\n",
       "  <thead>\n",
       "    <tr style=\"text-align: right;\">\n",
       "      <th></th>\n",
       "      <th>城市</th>\n",
       "      <th>同比</th>\n",
       "      <th>定基</th>\n",
       "    </tr>\n",
       "  </thead>\n",
       "  <tbody>\n",
       "    <tr>\n",
       "      <th>c5</th>\n",
       "      <td>沈阳</td>\n",
       "      <td>101.4</td>\n",
       "      <td>101.6</td>\n",
       "    </tr>\n",
       "    <tr>\n",
       "      <th>c4</th>\n",
       "      <td>深圳</td>\n",
       "      <td>140.9</td>\n",
       "      <td>145.5</td>\n",
       "    </tr>\n",
       "    <tr>\n",
       "      <th>c3</th>\n",
       "      <td>广州</td>\n",
       "      <td>119.4</td>\n",
       "      <td>120.0</td>\n",
       "    </tr>\n",
       "    <tr>\n",
       "      <th>c2</th>\n",
       "      <td>上海</td>\n",
       "      <td>127.3</td>\n",
       "      <td>127.8</td>\n",
       "    </tr>\n",
       "    <tr>\n",
       "      <th>c1</th>\n",
       "      <td>北京</td>\n",
       "      <td>120.7</td>\n",
       "      <td>121.4</td>\n",
       "    </tr>\n",
       "    <tr>\n",
       "      <th>c0</th>\n",
       "      <td>北京</td>\n",
       "      <td>120.7</td>\n",
       "      <td>121.4</td>\n",
       "    </tr>\n",
       "  </tbody>\n",
       "</table>\n",
       "</div>"
      ],
      "text/plain": [
       "    城市     同比     定基\n",
       "c5  沈阳  101.4  101.6\n",
       "c4  深圳  140.9  145.5\n",
       "c3  广州  119.4  120.0\n",
       "c2  上海  127.3  127.8\n",
       "c1  北京  120.7  121.4\n",
       "c0  北京  120.7  121.4"
      ]
     },
     "execution_count": 39,
     "metadata": {},
     "output_type": "execute_result"
    }
   ],
   "source": [
    "df3 = df.reindex(index=idx2, columns=idx1).fillna(method=\"ffill\") # fillna: 填充 nan 值，指定填充方式为 ffill。\n",
    "df3"
   ]
  },
  {
   "cell_type": "markdown",
   "id": "c0c96591",
   "metadata": {},
   "source": [
    "### 2. drop 方法删除 Series 和 DataFrame 指定行或列索引"
   ]
  },
  {
   "cell_type": "code",
   "execution_count": 40,
   "id": "1ffb5295",
   "metadata": {},
   "outputs": [
    {
     "data": {
      "text/html": [
       "<div>\n",
       "<style scoped>\n",
       "    .dataframe tbody tr th:only-of-type {\n",
       "        vertical-align: middle;\n",
       "    }\n",
       "\n",
       "    .dataframe tbody tr th {\n",
       "        vertical-align: top;\n",
       "    }\n",
       "\n",
       "    .dataframe thead th {\n",
       "        text-align: right;\n",
       "    }\n",
       "</style>\n",
       "<table border=\"1\" class=\"dataframe\">\n",
       "  <thead>\n",
       "    <tr style=\"text-align: right;\">\n",
       "      <th></th>\n",
       "      <th>城市</th>\n",
       "      <th>同比</th>\n",
       "      <th>环比</th>\n",
       "      <th>定基</th>\n",
       "    </tr>\n",
       "  </thead>\n",
       "  <tbody>\n",
       "    <tr>\n",
       "      <th>c5</th>\n",
       "      <td>沈阳</td>\n",
       "      <td>101.4</td>\n",
       "      <td>100.1</td>\n",
       "      <td>101.6</td>\n",
       "    </tr>\n",
       "    <tr>\n",
       "      <th>c4</th>\n",
       "      <td>深圳</td>\n",
       "      <td>140.9</td>\n",
       "      <td>102.0</td>\n",
       "      <td>145.5</td>\n",
       "    </tr>\n",
       "    <tr>\n",
       "      <th>c3</th>\n",
       "      <td>广州</td>\n",
       "      <td>119.4</td>\n",
       "      <td>101.3</td>\n",
       "      <td>120.0</td>\n",
       "    </tr>\n",
       "    <tr>\n",
       "      <th>c2</th>\n",
       "      <td>上海</td>\n",
       "      <td>127.3</td>\n",
       "      <td>101.2</td>\n",
       "      <td>127.8</td>\n",
       "    </tr>\n",
       "    <tr>\n",
       "      <th>c1</th>\n",
       "      <td>北京</td>\n",
       "      <td>120.7</td>\n",
       "      <td>101.5</td>\n",
       "      <td>121.4</td>\n",
       "    </tr>\n",
       "  </tbody>\n",
       "</table>\n",
       "</div>"
      ],
      "text/plain": [
       "    城市     同比     环比     定基\n",
       "c5  沈阳  101.4  100.1  101.6\n",
       "c4  深圳  140.9  102.0  145.5\n",
       "c3  广州  119.4  101.3  120.0\n",
       "c2  上海  127.3  101.2  127.8\n",
       "c1  北京  120.7  101.5  121.4"
      ]
     },
     "execution_count": 40,
     "metadata": {},
     "output_type": "execute_result"
    }
   ],
   "source": [
    "df"
   ]
  },
  {
   "cell_type": "code",
   "execution_count": 41,
   "id": "f4f4a6b0",
   "metadata": {},
   "outputs": [
    {
     "data": {
      "text/html": [
       "<div>\n",
       "<style scoped>\n",
       "    .dataframe tbody tr th:only-of-type {\n",
       "        vertical-align: middle;\n",
       "    }\n",
       "\n",
       "    .dataframe tbody tr th {\n",
       "        vertical-align: top;\n",
       "    }\n",
       "\n",
       "    .dataframe thead th {\n",
       "        text-align: right;\n",
       "    }\n",
       "</style>\n",
       "<table border=\"1\" class=\"dataframe\">\n",
       "  <thead>\n",
       "    <tr style=\"text-align: right;\">\n",
       "      <th></th>\n",
       "      <th>城市</th>\n",
       "      <th>同比</th>\n",
       "      <th>环比</th>\n",
       "    </tr>\n",
       "  </thead>\n",
       "  <tbody>\n",
       "    <tr>\n",
       "      <th>c5</th>\n",
       "      <td>沈阳</td>\n",
       "      <td>101.4</td>\n",
       "      <td>100.1</td>\n",
       "    </tr>\n",
       "    <tr>\n",
       "      <th>c4</th>\n",
       "      <td>深圳</td>\n",
       "      <td>140.9</td>\n",
       "      <td>102.0</td>\n",
       "    </tr>\n",
       "    <tr>\n",
       "      <th>c3</th>\n",
       "      <td>广州</td>\n",
       "      <td>119.4</td>\n",
       "      <td>101.3</td>\n",
       "    </tr>\n",
       "    <tr>\n",
       "      <th>c2</th>\n",
       "      <td>上海</td>\n",
       "      <td>127.3</td>\n",
       "      <td>101.2</td>\n",
       "    </tr>\n",
       "    <tr>\n",
       "      <th>c1</th>\n",
       "      <td>北京</td>\n",
       "      <td>120.7</td>\n",
       "      <td>101.5</td>\n",
       "    </tr>\n",
       "  </tbody>\n",
       "</table>\n",
       "</div>"
      ],
      "text/plain": [
       "    城市     同比     环比\n",
       "c5  沈阳  101.4  100.1\n",
       "c4  深圳  140.9  102.0\n",
       "c3  广州  119.4  101.3\n",
       "c2  上海  127.3  101.2\n",
       "c1  北京  120.7  101.5"
      ]
     },
     "execution_count": 41,
     "metadata": {},
     "output_type": "execute_result"
    }
   ],
   "source": [
    "df.drop(['定基'],axis=1) # 删除某列，返回的是新DataFrame，axis=1，在列的方向上删除元素"
   ]
  },
  {
   "cell_type": "code",
   "execution_count": 43,
   "id": "c3f90878",
   "metadata": {},
   "outputs": [
    {
     "data": {
      "text/html": [
       "<div>\n",
       "<style scoped>\n",
       "    .dataframe tbody tr th:only-of-type {\n",
       "        vertical-align: middle;\n",
       "    }\n",
       "\n",
       "    .dataframe tbody tr th {\n",
       "        vertical-align: top;\n",
       "    }\n",
       "\n",
       "    .dataframe thead th {\n",
       "        text-align: right;\n",
       "    }\n",
       "</style>\n",
       "<table border=\"1\" class=\"dataframe\">\n",
       "  <thead>\n",
       "    <tr style=\"text-align: right;\">\n",
       "      <th></th>\n",
       "      <th>城市</th>\n",
       "      <th>同比</th>\n",
       "      <th>环比</th>\n",
       "      <th>定基</th>\n",
       "    </tr>\n",
       "  </thead>\n",
       "  <tbody>\n",
       "    <tr>\n",
       "      <th>c4</th>\n",
       "      <td>深圳</td>\n",
       "      <td>140.9</td>\n",
       "      <td>102.0</td>\n",
       "      <td>145.5</td>\n",
       "    </tr>\n",
       "    <tr>\n",
       "      <th>c3</th>\n",
       "      <td>广州</td>\n",
       "      <td>119.4</td>\n",
       "      <td>101.3</td>\n",
       "      <td>120.0</td>\n",
       "    </tr>\n",
       "    <tr>\n",
       "      <th>c2</th>\n",
       "      <td>上海</td>\n",
       "      <td>127.3</td>\n",
       "      <td>101.2</td>\n",
       "      <td>127.8</td>\n",
       "    </tr>\n",
       "    <tr>\n",
       "      <th>c1</th>\n",
       "      <td>北京</td>\n",
       "      <td>120.7</td>\n",
       "      <td>101.5</td>\n",
       "      <td>121.4</td>\n",
       "    </tr>\n",
       "  </tbody>\n",
       "</table>\n",
       "</div>"
      ],
      "text/plain": [
       "    城市     同比     环比     定基\n",
       "c4  深圳  140.9  102.0  145.5\n",
       "c3  广州  119.4  101.3  120.0\n",
       "c2  上海  127.3  101.2  127.8\n",
       "c1  北京  120.7  101.5  121.4"
      ]
     },
     "execution_count": 43,
     "metadata": {},
     "output_type": "execute_result"
    }
   ],
   "source": [
    "df.drop(['c5']) # axis 默认删除某行"
   ]
  },
  {
   "cell_type": "markdown",
   "id": "53d02497",
   "metadata": {},
   "source": [
    "注意 axis 参数的使用。"
   ]
  }
 ],
 "metadata": {
  "kernelspec": {
   "name": "pycharm-project2",
   "language": "python",
   "display_name": "PyCharm (project2)"
  },
  "language_info": {
   "codemirror_mode": {
    "name": "ipython",
    "version": 3
   },
   "file_extension": ".py",
   "mimetype": "text/x-python",
   "name": "python",
   "nbconvert_exporter": "python",
   "pygments_lexer": "ipython3",
   "version": "3.8.12"
  }
 },
 "nbformat": 4,
 "nbformat_minor": 5
}