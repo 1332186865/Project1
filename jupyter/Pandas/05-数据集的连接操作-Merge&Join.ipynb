{
 "cells": [
  {
   "cell_type": "markdown",
   "metadata": {},
   "source": [
    "# 高级合并: 使用pd.merge方法连接数据集"
   ]
  },
  {
   "cell_type": "code",
   "execution_count": 1,
   "metadata": {},
   "outputs": [],
   "source": [
    "import pandas as pd\n",
    "import numpy as np"
   ]
  },
  {
   "cell_type": "markdown",
   "metadata": {},
   "source": [
    "## 1. 数据连接的类型\n",
    "pd.merge方法实现了三种数据连接的类型：一对一、多对一和多对多。"
   ]
  },
  {
   "cell_type": "markdown",
   "metadata": {},
   "source": [
    "### 1.1 一对一连接  \n",
    "与按列合并及其类似"
   ]
  },
  {
   "cell_type": "code",
   "execution_count": 2,
   "metadata": {},
   "outputs": [
    {
     "name": "stdout",
     "output_type": "stream",
     "text": [
      "  employee        group\n",
      "0      Bob   Accounting\n",
      "1     Jake  Engineering\n",
      "2     Lisa  Engineering\n",
      "3      Sue           HR\n",
      "\n",
      "  employee  hire_date\n",
      "0     Lisa       2004\n",
      "1      Bob       2008\n",
      "2     Jake       2012\n",
      "3      Sue       2014\n",
      "4       ky       2020\n"
     ]
    }
   ],
   "source": [
    "df1 = pd.DataFrame({'employee': ['Bob', 'Jake', 'Lisa', 'Sue'],\n",
    "                    'group': ['Accounting', 'Engineering', 'Engineering', 'HR']})\n",
    "df2 = pd.DataFrame({'employee': ['Lisa', 'Bob', 'Jake', 'Sue','ky'],\n",
    "                    'hire_date': [2004, 2008, 2012, 2014,2020]})\n",
    "print(df1, df2, sep='\\n\\n')"
   ]
  },
  {
   "cell_type": "code",
   "execution_count": 3,
   "metadata": {},
   "outputs": [
    {
     "data": {
      "text/plain": "  employee        group  hire_date\n0      Bob   Accounting       2008\n1     Jake  Engineering       2012\n2     Lisa  Engineering       2004\n3      Sue           HR       2014",
      "text/html": "<div>\n<style scoped>\n    .dataframe tbody tr th:only-of-type {\n        vertical-align: middle;\n    }\n\n    .dataframe tbody tr th {\n        vertical-align: top;\n    }\n\n    .dataframe thead th {\n        text-align: right;\n    }\n</style>\n<table border=\"1\" class=\"dataframe\">\n  <thead>\n    <tr style=\"text-align: right;\">\n      <th></th>\n      <th>employee</th>\n      <th>group</th>\n      <th>hire_date</th>\n    </tr>\n  </thead>\n  <tbody>\n    <tr>\n      <th>0</th>\n      <td>Bob</td>\n      <td>Accounting</td>\n      <td>2008</td>\n    </tr>\n    <tr>\n      <th>1</th>\n      <td>Jake</td>\n      <td>Engineering</td>\n      <td>2012</td>\n    </tr>\n    <tr>\n      <th>2</th>\n      <td>Lisa</td>\n      <td>Engineering</td>\n      <td>2004</td>\n    </tr>\n    <tr>\n      <th>3</th>\n      <td>Sue</td>\n      <td>HR</td>\n      <td>2014</td>\n    </tr>\n  </tbody>\n</table>\n</div>"
     },
     "execution_count": 3,
     "metadata": {},
     "output_type": "execute_result"
    }
   ],
   "source": [
    "df3 = pd.merge(df1, df2)\n",
    "df3"
   ]
  },
  {
   "cell_type": "markdown",
   "metadata": {},
   "source": [
    "pd.merge()方法会发现两个 DataFrame 都有 \"employee\" 列，并会自动以这列作为键进行连接。两个输入的合并结果是一个新的 DataFrame。 需要注意的是，共同列的位置可以是不一致的。比如这个例子中，df1和df2中 employee 列的位置是不一样的，pd.merge()方法会正确处理这个问题。"
   ]
  },
  {
   "cell_type": "markdown",
   "metadata": {},
   "source": [
    "### 1.2 多对一连接"
   ]
  },
  {
   "cell_type": "markdown",
   "metadata": {},
   "source": [
    "多对一连接是指在需要连接的两个列中，有一个列的值有重复。通过多对一连接获得的结果 DataFrame 将会保留重复值。"
   ]
  },
  {
   "cell_type": "code",
   "execution_count": 4,
   "metadata": {},
   "outputs": [
    {
     "name": "stdout",
     "output_type": "stream",
     "text": [
      "  employee        group\n",
      "0      Bob   Accounting\n",
      "1     Jake  Engineering\n",
      "2     Lisa  Engineering\n",
      "3      Sue           HR\n",
      "\n",
      "         group supervisor\n",
      "0   Accounting      Carly\n",
      "1  Engineering      Guido\n",
      "2           HR      Steve\n",
      "\n",
      "  employee        group supervisor\n",
      "0      Bob   Accounting      Carly\n",
      "1     Jake  Engineering      Guido\n",
      "2     Lisa  Engineering      Guido\n",
      "3      Sue           HR      Steve\n"
     ]
    }
   ],
   "source": [
    "df4 = pd.DataFrame({'group': ['Accounting', 'Engineering', 'HR'],\n",
    "                    'supervisor': ['Carly', 'Guido', 'Steve']})\n",
    "\n",
    "print(df1, df4, pd.merge(df1,df4),sep='\\n\\n')"
   ]
  },
  {
   "cell_type": "markdown",
   "metadata": {},
   "source": [
    "### 1.3 多对多连接"
   ]
  },
  {
   "cell_type": "markdown",
   "metadata": {},
   "source": [
    "如果左右两个输入的 DataFrame 包含的共同列都有重复值，这种链接就属于多对多连接。结果保存重复值。"
   ]
  },
  {
   "cell_type": "code",
   "execution_count": 11,
   "metadata": {},
   "outputs": [
    {
     "name": "stdout",
     "output_type": "stream",
     "text": [
      "  employee        group\n",
      "0      Bob   Accounting\n",
      "1     Jake  Engineering\n",
      "2     Lisa  Engineering\n",
      "3      Sue           HR\n",
      "\n",
      "         group        skills\n",
      "0   Accounting          math\n",
      "1   Accounting  spreadsheets\n",
      "2  Engineering        coding\n",
      "3  Engineering         linux\n",
      "4           HR  spreadsheets\n",
      "5           HR  organization\n",
      "\n",
      "  employee        group        skills\n",
      "0      Bob   Accounting          math\n",
      "1      Bob   Accounting  spreadsheets\n",
      "2     Jake  Engineering        coding\n",
      "3     Jake  Engineering         linux\n",
      "4     Lisa  Engineering        coding\n",
      "5     Lisa  Engineering         linux\n",
      "6      Sue           HR  spreadsheets\n",
      "7      Sue           HR  organization\n"
     ]
    }
   ],
   "source": [
    "df5 = pd.DataFrame({'group': ['Accounting', 'Accounting',\n",
    "                              'Engineering', 'Engineering', 'HR', 'HR'],\n",
    "                    'skills': ['math', 'spreadsheets', 'coding', 'linux',\n",
    "                               'spreadsheets', 'organization']})\n",
    "print(df1, df5, pd.merge(df1, df5), sep='\\n\\n')"
   ]
  },
  {
   "cell_type": "markdown",
   "metadata": {},
   "source": [
    "## 2. 设置数据合并的键"
   ]
  },
  {
   "cell_type": "markdown",
   "metadata": {},
   "source": [
    "### 2.1 参数 on 的设置"
   ]
  },
  {
   "cell_type": "code",
   "execution_count": 5,
   "metadata": {},
   "outputs": [
    {
     "name": "stdout",
     "output_type": "stream",
     "text": [
      "  employee        group\n",
      "0      Bob   Accounting\n",
      "1     Jake  Engineering\n",
      "2     Lisa  Engineering\n",
      "3      Sue           HR\n",
      "\n",
      "  employee  hire_date\n",
      "0     Lisa       2004\n",
      "1      Bob       2008\n",
      "2     Jake       2012\n",
      "3      Sue       2014\n",
      "4       ky       2020\n",
      "\n",
      "  employee        group  hire_date\n",
      "0      Bob   Accounting       2008\n",
      "1     Jake  Engineering       2012\n",
      "2     Lisa  Engineering       2004\n",
      "3      Sue           HR       2014\n"
     ]
    }
   ],
   "source": [
    "print(df1, df2, pd.merge(df1, df2, on='employee'), sep='\\n\\n')"
   ]
  },
  {
   "cell_type": "markdown",
   "metadata": {},
   "source": [
    "### 2.2 left_on 和 right_on  \n",
    "合并两个列名不同的数据集"
   ]
  },
  {
   "cell_type": "code",
   "execution_count": 6,
   "metadata": {},
   "outputs": [
    {
     "name": "stdout",
     "output_type": "stream",
     "text": [
      "  employee        group\n",
      "0      Bob   Accounting\n",
      "1     Jake  Engineering\n",
      "2     Lisa  Engineering\n",
      "3      Sue           HR\n",
      "\n",
      "   name  salary\n",
      "0   Bob   70000\n",
      "1  Jake   80000\n",
      "2  Lisa  120000\n",
      "3   Sue   90000\n",
      "\n",
      "  employee        group  name  salary\n",
      "0      Bob   Accounting   Bob   70000\n",
      "1     Jake  Engineering  Jake   80000\n",
      "2     Lisa  Engineering  Lisa  120000\n",
      "3      Sue           HR   Sue   90000\n"
     ]
    }
   ],
   "source": [
    "df3 = pd.DataFrame({'name': ['Bob', 'Jake', 'Lisa', 'Sue'],\n",
    "                    'salary': [70000, 80000, 120000, 90000]})\n",
    "print(df1, df3, pd.merge(df1, df3, left_on=\"employee\", right_on=\"name\"),sep='\\n\\n')"
   ]
  },
  {
   "cell_type": "markdown",
   "metadata": {},
   "source": [
    "获取的结果会有一个多余的列，可以通过drop()方法去掉"
   ]
  },
  {
   "cell_type": "code",
   "execution_count": 7,
   "metadata": {},
   "outputs": [
    {
     "data": {
      "text/plain": "  employee        group  salary\n0      Bob   Accounting   70000\n1     Jake  Engineering   80000\n2     Lisa  Engineering  120000\n3      Sue           HR   90000",
      "text/html": "<div>\n<style scoped>\n    .dataframe tbody tr th:only-of-type {\n        vertical-align: middle;\n    }\n\n    .dataframe tbody tr th {\n        vertical-align: top;\n    }\n\n    .dataframe thead th {\n        text-align: right;\n    }\n</style>\n<table border=\"1\" class=\"dataframe\">\n  <thead>\n    <tr style=\"text-align: right;\">\n      <th></th>\n      <th>employee</th>\n      <th>group</th>\n      <th>salary</th>\n    </tr>\n  </thead>\n  <tbody>\n    <tr>\n      <th>0</th>\n      <td>Bob</td>\n      <td>Accounting</td>\n      <td>70000</td>\n    </tr>\n    <tr>\n      <th>1</th>\n      <td>Jake</td>\n      <td>Engineering</td>\n      <td>80000</td>\n    </tr>\n    <tr>\n      <th>2</th>\n      <td>Lisa</td>\n      <td>Engineering</td>\n      <td>120000</td>\n    </tr>\n    <tr>\n      <th>3</th>\n      <td>Sue</td>\n      <td>HR</td>\n      <td>90000</td>\n    </tr>\n  </tbody>\n</table>\n</div>"
     },
     "execution_count": 7,
     "metadata": {},
     "output_type": "execute_result"
    }
   ],
   "source": [
    "pd.merge(df1, df3, left_on=\"employee\", right_on=\"name\").drop('name', axis=1)"
   ]
  },
  {
   "cell_type": "markdown",
   "metadata": {},
   "source": [
    "### 2.3. 使用  DataFrame 的**join**方法能够按照索引进行数据合并。"
   ]
  },
  {
   "cell_type": "code",
   "execution_count": 9,
   "metadata": {},
   "outputs": [],
   "source": [
    "df1a = df1.set_index('employee')\n",
    "df2a = df2.set_index('employee')"
   ]
  },
  {
   "cell_type": "code",
   "execution_count": 10,
   "metadata": {},
   "outputs": [
    {
     "name": "stdout",
     "output_type": "stream",
     "text": [
      "                group\n",
      "employee             \n",
      "Bob        Accounting\n",
      "Jake      Engineering\n",
      "Lisa      Engineering\n",
      "Sue                HR\n",
      "\n",
      "          hire_date\n",
      "employee           \n",
      "Lisa           2004\n",
      "Bob            2008\n",
      "Jake           2012\n",
      "Sue            2014\n",
      "ky             2020\n",
      "\n",
      "                group  hire_date\n",
      "employee                        \n",
      "Bob        Accounting       2008\n",
      "Jake      Engineering       2012\n",
      "Lisa      Engineering       2004\n",
      "Sue                HR       2014\n"
     ]
    }
   ],
   "source": [
    "print(df1a, df2a, df1a.join(df2a),sep='\\n\\n')"
   ]
  },
  {
   "cell_type": "markdown",
   "metadata": {},
   "source": [
    "## 3. 设置数据连接的集合操作规则"
   ]
  },
  {
   "cell_type": "code",
   "execution_count": 13,
   "metadata": {},
   "outputs": [
    {
     "name": "stdout",
     "output_type": "stream",
     "text": [
      "    name   food\n",
      "0  Peter   fish\n",
      "1   Paul  beans\n",
      "2   Mary  bread\n",
      "\n",
      "     name drink\n",
      "0    Mary  wine\n",
      "1  Joseph  beer\n",
      "\n",
      "   name   food drink\n",
      "0  Mary  bread  wine\n"
     ]
    }
   ],
   "source": [
    "df6 = pd.DataFrame({'name': ['Peter', 'Paul', 'Mary'],\n",
    "                    'food': ['fish', 'beans', 'bread']},\n",
    "                   columns=['name', 'food'])\n",
    "df7 = pd.DataFrame({'name': ['Mary', 'Joseph'],\n",
    "                    'drink': ['wine', 'beer']},\n",
    "                   columns=['name', 'drink'])\n",
    "print(df6, df7, pd.merge(df6, df7), sep='\\n\\n')"
   ]
  },
  {
   "cell_type": "markdown",
   "metadata": {},
   "source": [
    "我们合并两个数据集，在 name 列中只有一个共同的值：Mary。默认情况下，结果中只会包含两个输入集合的交集，这种连接方式被称为**内连接**。我们可以用**how**来设置连接方式，默认为**how = 'inner'**"
   ]
  },
  {
   "cell_type": "code",
   "execution_count": 14,
   "metadata": {},
   "outputs": [
    {
     "data": {
      "text/plain": "   name   food drink\n0  Mary  bread  wine",
      "text/html": "<div>\n<style scoped>\n    .dataframe tbody tr th:only-of-type {\n        vertical-align: middle;\n    }\n\n    .dataframe tbody tr th {\n        vertical-align: top;\n    }\n\n    .dataframe thead th {\n        text-align: right;\n    }\n</style>\n<table border=\"1\" class=\"dataframe\">\n  <thead>\n    <tr style=\"text-align: right;\">\n      <th></th>\n      <th>name</th>\n      <th>food</th>\n      <th>drink</th>\n    </tr>\n  </thead>\n  <tbody>\n    <tr>\n      <th>0</th>\n      <td>Mary</td>\n      <td>bread</td>\n      <td>wine</td>\n    </tr>\n  </tbody>\n</table>\n</div>"
     },
     "execution_count": 14,
     "metadata": {},
     "output_type": "execute_result"
    }
   ],
   "source": [
    "pd.merge(df6, df7, how='inner')"
   ]
  },
  {
   "cell_type": "markdown",
   "metadata": {},
   "source": [
    "how参数其他的可选值为：outer、left、right"
   ]
  },
  {
   "cell_type": "code",
   "execution_count": 23,
   "metadata": {},
   "outputs": [
    {
     "name": "stdout",
     "output_type": "stream",
     "text": [
      "    name   food\n",
      "0  Peter   fish\n",
      "1   Paul  beans\n",
      "2   Mary  bread\n",
      "\n",
      "     name drink\n",
      "0    Mary  wine\n",
      "1  Joseph  beer\n",
      "\n",
      "     name   food drink\n",
      "0   Peter   fish   NaN\n",
      "1    Paul  beans   NaN\n",
      "2    Mary  bread  wine\n",
      "3  Joseph    NaN  beer\n"
     ]
    }
   ],
   "source": [
    "print(df6, df7, pd.merge(df6, df7, how='outer'),sep='\\n\\n')"
   ]
  },
  {
   "cell_type": "markdown",
   "metadata": {},
   "source": [
    "**outer**: 外连接，并集"
   ]
  },
  {
   "cell_type": "code",
   "execution_count": 16,
   "metadata": {},
   "outputs": [
    {
     "name": "stdout",
     "output_type": "stream",
     "text": [
      "    name   food\n",
      "0  Peter   fish\n",
      "1   Paul  beans\n",
      "2   Mary  bread\n",
      "\n",
      "     name drink\n",
      "0    Mary  wine\n",
      "1  Joseph  beer\n",
      "\n",
      "    name   food drink\n",
      "0  Peter   fish   NaN\n",
      "1   Paul  beans   NaN\n",
      "2   Mary  bread  wine\n"
     ]
    }
   ],
   "source": [
    "print(df6, df7, pd.merge(df6, df7, how='left'),sep='\\n\\n')"
   ]
  },
  {
   "cell_type": "markdown",
   "metadata": {},
   "source": [
    "**left**:左连接，以左边的条目为准。"
   ]
  },
  {
   "cell_type": "markdown",
   "metadata": {},
   "source": [
    " ## 案例：美国各州的统计数据"
   ]
  },
  {
   "cell_type": "markdown",
   "metadata": {},
   "source": [
    "**1. 通过pd.read_csv()读取本地数据**"
   ]
  },
  {
   "cell_type": "code",
   "execution_count": 17,
   "metadata": {},
   "outputs": [],
   "source": [
    "pop = pd.read_csv('data\\\\data_USstates\\\\state-population.csv') # 美国各州在1990-2012年间，人口数据\n",
    "areas = pd.read_csv('data\\\\data_USstates\\\\state-areas.csv') # 美国各州的面积\n",
    "abbrevs = pd.read_csv('data\\\\data_USstates\\\\state-abbrevs.csv') # 各州名字及其对应的缩写"
   ]
  },
  {
   "cell_type": "code",
   "execution_count": 21,
   "metadata": {},
   "outputs": [
    {
     "data": {
      "text/plain": "  state/region     ages  year  population\n0           AL  under18  2012   1117489.0\n1           AL    total  2012   4817528.0\n2           AL  under18  2010   1130966.0\n3           AL    total  2010   4785570.0\n4           AL  under18  2011   1125763.0",
      "text/html": "<div>\n<style scoped>\n    .dataframe tbody tr th:only-of-type {\n        vertical-align: middle;\n    }\n\n    .dataframe tbody tr th {\n        vertical-align: top;\n    }\n\n    .dataframe thead th {\n        text-align: right;\n    }\n</style>\n<table border=\"1\" class=\"dataframe\">\n  <thead>\n    <tr style=\"text-align: right;\">\n      <th></th>\n      <th>state/region</th>\n      <th>ages</th>\n      <th>year</th>\n      <th>population</th>\n    </tr>\n  </thead>\n  <tbody>\n    <tr>\n      <th>0</th>\n      <td>AL</td>\n      <td>under18</td>\n      <td>2012</td>\n      <td>1117489.0</td>\n    </tr>\n    <tr>\n      <th>1</th>\n      <td>AL</td>\n      <td>total</td>\n      <td>2012</td>\n      <td>4817528.0</td>\n    </tr>\n    <tr>\n      <th>2</th>\n      <td>AL</td>\n      <td>under18</td>\n      <td>2010</td>\n      <td>1130966.0</td>\n    </tr>\n    <tr>\n      <th>3</th>\n      <td>AL</td>\n      <td>total</td>\n      <td>2010</td>\n      <td>4785570.0</td>\n    </tr>\n    <tr>\n      <th>4</th>\n      <td>AL</td>\n      <td>under18</td>\n      <td>2011</td>\n      <td>1125763.0</td>\n    </tr>\n  </tbody>\n</table>\n</div>"
     },
     "execution_count": 21,
     "metadata": {},
     "output_type": "execute_result"
    }
   ],
   "source": [
    "# print(pop.head())\n",
    "pop.head()"
   ]
  },
  {
   "cell_type": "code",
   "execution_count": 22,
   "metadata": {},
   "outputs": [
    {
     "data": {
      "text/plain": "        state  area (sq. mi)\n0     Alabama          52423\n1      Alaska         656425\n2     Arizona         114006\n3    Arkansas          53182\n4  California         163707",
      "text/html": "<div>\n<style scoped>\n    .dataframe tbody tr th:only-of-type {\n        vertical-align: middle;\n    }\n\n    .dataframe tbody tr th {\n        vertical-align: top;\n    }\n\n    .dataframe thead th {\n        text-align: right;\n    }\n</style>\n<table border=\"1\" class=\"dataframe\">\n  <thead>\n    <tr style=\"text-align: right;\">\n      <th></th>\n      <th>state</th>\n      <th>area (sq. mi)</th>\n    </tr>\n  </thead>\n  <tbody>\n    <tr>\n      <th>0</th>\n      <td>Alabama</td>\n      <td>52423</td>\n    </tr>\n    <tr>\n      <th>1</th>\n      <td>Alaska</td>\n      <td>656425</td>\n    </tr>\n    <tr>\n      <th>2</th>\n      <td>Arizona</td>\n      <td>114006</td>\n    </tr>\n    <tr>\n      <th>3</th>\n      <td>Arkansas</td>\n      <td>53182</td>\n    </tr>\n    <tr>\n      <th>4</th>\n      <td>California</td>\n      <td>163707</td>\n    </tr>\n  </tbody>\n</table>\n</div>"
     },
     "execution_count": 22,
     "metadata": {},
     "output_type": "execute_result"
    }
   ],
   "source": [
    "areas.head()"
   ]
  },
  {
   "cell_type": "code",
   "execution_count": 23,
   "metadata": {},
   "outputs": [
    {
     "data": {
      "text/plain": "        state abbreviation\n0     Alabama           AL\n1      Alaska           AK\n2     Arizona           AZ\n3    Arkansas           AR\n4  California           CA",
      "text/html": "<div>\n<style scoped>\n    .dataframe tbody tr th:only-of-type {\n        vertical-align: middle;\n    }\n\n    .dataframe tbody tr th {\n        vertical-align: top;\n    }\n\n    .dataframe thead th {\n        text-align: right;\n    }\n</style>\n<table border=\"1\" class=\"dataframe\">\n  <thead>\n    <tr style=\"text-align: right;\">\n      <th></th>\n      <th>state</th>\n      <th>abbreviation</th>\n    </tr>\n  </thead>\n  <tbody>\n    <tr>\n      <th>0</th>\n      <td>Alabama</td>\n      <td>AL</td>\n    </tr>\n    <tr>\n      <th>1</th>\n      <td>Alaska</td>\n      <td>AK</td>\n    </tr>\n    <tr>\n      <th>2</th>\n      <td>Arizona</td>\n      <td>AZ</td>\n    </tr>\n    <tr>\n      <th>3</th>\n      <td>Arkansas</td>\n      <td>AR</td>\n    </tr>\n    <tr>\n      <th>4</th>\n      <td>California</td>\n      <td>CA</td>\n    </tr>\n  </tbody>\n</table>\n</div>"
     },
     "execution_count": 23,
     "metadata": {},
     "output_type": "execute_result"
    }
   ],
   "source": [
    "abbrevs.head()"
   ]
  },
  {
   "cell_type": "code",
   "execution_count": 24,
   "metadata": {},
   "outputs": [
    {
     "data": {
      "text/plain": "(52, 2)"
     },
     "execution_count": 24,
     "metadata": {},
     "output_type": "execute_result"
    }
   ],
   "source": [
    "areas.shape"
   ]
  },
  {
   "cell_type": "code",
   "execution_count": 42,
   "metadata": {},
   "outputs": [
    {
     "data": {
      "text/plain": [
       "(2544, 4)"
      ]
     },
     "execution_count": 42,
     "metadata": {},
     "output_type": "execute_result"
    }
   ],
   "source": [
    "pop.shape"
   ]
  },
  {
   "cell_type": "code",
   "execution_count": 43,
   "metadata": {},
   "outputs": [
    {
     "data": {
      "text/plain": [
       "(51, 2)"
      ]
     },
     "execution_count": 43,
     "metadata": {},
     "output_type": "execute_result"
    }
   ],
   "source": [
    "abbrevs.shape"
   ]
  },
  {
   "cell_type": "markdown",
   "metadata": {},
   "source": [
    "**2. 计算美国各州的人口密度并排序**"
   ]
  },
  {
   "cell_type": "markdown",
   "metadata": {},
   "source": [
    "首先将 abbrevs 和 pop 进行合并，关键字为'state/region'和'abbreviation'，连接方式为 outer（宁可重复，不可缺值）\n",
    "\n",
    "pd.merge(df1, df2, how=\"\", left_on=\"\", right_on=\"\")  \n",
    "\n",
    "df1, df2: 进行合并的两个dataframe；  \n",
    "how：取值为 outer 表示外连接，结果包括两个dataframe 的并集；若是外连接，则结果包括两个dataframe的交集；left 表示左连接，以左边的df为准；right：右连接，以右边的df为准。  \n",
    "\n",
    "on: 如果df1、df2 中有相同的列，那么可以指定相同列的列名进行合并。如果同一组数据在两个表中的列名不同，就可以通过下面的参数分别指定：  \n",
    "\n",
    "left_on: df1 中的列名\n",
    "right_on: df2 中的列名"
   ]
  },
  {
   "cell_type": "markdown",
   "metadata": {},
   "source": [
    "举例："
   ]
  },
  {
   "cell_type": "code",
   "execution_count": 25,
   "metadata": {},
   "outputs": [
    {
     "data": {
      "text/plain": "  employee        group\n0      Bob   Accounting\n1     Jake  Engineering\n2     Lisa    Secretary\n3      Sue           HR",
      "text/html": "<div>\n<style scoped>\n    .dataframe tbody tr th:only-of-type {\n        vertical-align: middle;\n    }\n\n    .dataframe tbody tr th {\n        vertical-align: top;\n    }\n\n    .dataframe thead th {\n        text-align: right;\n    }\n</style>\n<table border=\"1\" class=\"dataframe\">\n  <thead>\n    <tr style=\"text-align: right;\">\n      <th></th>\n      <th>employee</th>\n      <th>group</th>\n    </tr>\n  </thead>\n  <tbody>\n    <tr>\n      <th>0</th>\n      <td>Bob</td>\n      <td>Accounting</td>\n    </tr>\n    <tr>\n      <th>1</th>\n      <td>Jake</td>\n      <td>Engineering</td>\n    </tr>\n    <tr>\n      <th>2</th>\n      <td>Lisa</td>\n      <td>Secretary</td>\n    </tr>\n    <tr>\n      <th>3</th>\n      <td>Sue</td>\n      <td>HR</td>\n    </tr>\n  </tbody>\n</table>\n</div>"
     },
     "execution_count": 25,
     "metadata": {},
     "output_type": "execute_result"
    }
   ],
   "source": [
    "df1 = pd.DataFrame({'employee': ['Bob', 'Jake', 'Lisa', 'Sue'],\n",
    "                    'group': ['Accounting', 'Engineering', 'Secretary', 'HR']})\n",
    "df1"
   ]
  },
  {
   "cell_type": "code",
   "execution_count": 26,
   "metadata": {},
   "outputs": [
    {
     "data": {
      "text/plain": "         group        skills\n0   Accounting          math\n1   Accounting  spreadsheets\n2  Engineering        coding\n3  Engineering         linux\n4           HR  spreadsheets\n5           HR  organization",
      "text/html": "<div>\n<style scoped>\n    .dataframe tbody tr th:only-of-type {\n        vertical-align: middle;\n    }\n\n    .dataframe tbody tr th {\n        vertical-align: top;\n    }\n\n    .dataframe thead th {\n        text-align: right;\n    }\n</style>\n<table border=\"1\" class=\"dataframe\">\n  <thead>\n    <tr style=\"text-align: right;\">\n      <th></th>\n      <th>group</th>\n      <th>skills</th>\n    </tr>\n  </thead>\n  <tbody>\n    <tr>\n      <th>0</th>\n      <td>Accounting</td>\n      <td>math</td>\n    </tr>\n    <tr>\n      <th>1</th>\n      <td>Accounting</td>\n      <td>spreadsheets</td>\n    </tr>\n    <tr>\n      <th>2</th>\n      <td>Engineering</td>\n      <td>coding</td>\n    </tr>\n    <tr>\n      <th>3</th>\n      <td>Engineering</td>\n      <td>linux</td>\n    </tr>\n    <tr>\n      <th>4</th>\n      <td>HR</td>\n      <td>spreadsheets</td>\n    </tr>\n    <tr>\n      <th>5</th>\n      <td>HR</td>\n      <td>organization</td>\n    </tr>\n  </tbody>\n</table>\n</div>"
     },
     "execution_count": 26,
     "metadata": {},
     "output_type": "execute_result"
    }
   ],
   "source": [
    "df2 = pd.DataFrame({'group': ['Accounting', 'Accounting',\n",
    "                              'Engineering', 'Engineering', 'HR', 'HR'],\n",
    "                    'skills': ['math', 'spreadsheets', 'coding', 'linux',\n",
    "                               'spreadsheets', 'organization']})\n",
    "df2"
   ]
  },
  {
   "cell_type": "code",
   "execution_count": 27,
   "metadata": {},
   "outputs": [
    {
     "data": {
      "text/plain": "  employee        group        skills\n0      Bob   Accounting          math\n1      Bob   Accounting  spreadsheets\n2     Jake  Engineering        coding\n3     Jake  Engineering         linux\n4     Lisa    Secretary           NaN\n5      Sue           HR  spreadsheets\n6      Sue           HR  organization",
      "text/html": "<div>\n<style scoped>\n    .dataframe tbody tr th:only-of-type {\n        vertical-align: middle;\n    }\n\n    .dataframe tbody tr th {\n        vertical-align: top;\n    }\n\n    .dataframe thead th {\n        text-align: right;\n    }\n</style>\n<table border=\"1\" class=\"dataframe\">\n  <thead>\n    <tr style=\"text-align: right;\">\n      <th></th>\n      <th>employee</th>\n      <th>group</th>\n      <th>skills</th>\n    </tr>\n  </thead>\n  <tbody>\n    <tr>\n      <th>0</th>\n      <td>Bob</td>\n      <td>Accounting</td>\n      <td>math</td>\n    </tr>\n    <tr>\n      <th>1</th>\n      <td>Bob</td>\n      <td>Accounting</td>\n      <td>spreadsheets</td>\n    </tr>\n    <tr>\n      <th>2</th>\n      <td>Jake</td>\n      <td>Engineering</td>\n      <td>coding</td>\n    </tr>\n    <tr>\n      <th>3</th>\n      <td>Jake</td>\n      <td>Engineering</td>\n      <td>linux</td>\n    </tr>\n    <tr>\n      <th>4</th>\n      <td>Lisa</td>\n      <td>Secretary</td>\n      <td>NaN</td>\n    </tr>\n    <tr>\n      <th>5</th>\n      <td>Sue</td>\n      <td>HR</td>\n      <td>spreadsheets</td>\n    </tr>\n    <tr>\n      <th>6</th>\n      <td>Sue</td>\n      <td>HR</td>\n      <td>organization</td>\n    </tr>\n  </tbody>\n</table>\n</div>"
     },
     "execution_count": 27,
     "metadata": {},
     "output_type": "execute_result"
    }
   ],
   "source": [
    "pd.merge(df1, df2, on=\"group\", how=\"outer\")"
   ]
  },
  {
   "cell_type": "code",
   "execution_count": 28,
   "metadata": {},
   "outputs": [
    {
     "data": {
      "text/plain": "  employee        group        skills\n0      Bob   Accounting          math\n1      Bob   Accounting  spreadsheets\n2     Jake  Engineering        coding\n3     Jake  Engineering         linux\n4      Sue           HR  spreadsheets\n5      Sue           HR  organization",
      "text/html": "<div>\n<style scoped>\n    .dataframe tbody tr th:only-of-type {\n        vertical-align: middle;\n    }\n\n    .dataframe tbody tr th {\n        vertical-align: top;\n    }\n\n    .dataframe thead th {\n        text-align: right;\n    }\n</style>\n<table border=\"1\" class=\"dataframe\">\n  <thead>\n    <tr style=\"text-align: right;\">\n      <th></th>\n      <th>employee</th>\n      <th>group</th>\n      <th>skills</th>\n    </tr>\n  </thead>\n  <tbody>\n    <tr>\n      <th>0</th>\n      <td>Bob</td>\n      <td>Accounting</td>\n      <td>math</td>\n    </tr>\n    <tr>\n      <th>1</th>\n      <td>Bob</td>\n      <td>Accounting</td>\n      <td>spreadsheets</td>\n    </tr>\n    <tr>\n      <th>2</th>\n      <td>Jake</td>\n      <td>Engineering</td>\n      <td>coding</td>\n    </tr>\n    <tr>\n      <th>3</th>\n      <td>Jake</td>\n      <td>Engineering</td>\n      <td>linux</td>\n    </tr>\n    <tr>\n      <th>4</th>\n      <td>Sue</td>\n      <td>HR</td>\n      <td>spreadsheets</td>\n    </tr>\n    <tr>\n      <th>5</th>\n      <td>Sue</td>\n      <td>HR</td>\n      <td>organization</td>\n    </tr>\n  </tbody>\n</table>\n</div>"
     },
     "execution_count": 28,
     "metadata": {},
     "output_type": "execute_result"
    }
   ],
   "source": [
    "pd.merge(df1, df2, on=\"group\", how=\"inner\")"
   ]
  },
  {
   "cell_type": "code",
   "execution_count": 29,
   "metadata": {},
   "outputs": [
    {
     "data": {
      "text/plain": "     state/region     ages  year   population    state abbreviation\n0              AL  under18  2012    1117489.0  Alabama           AL\n1              AL    total  2012    4817528.0  Alabama           AL\n2              AL  under18  2010    1130966.0  Alabama           AL\n3              AL    total  2010    4785570.0  Alabama           AL\n4              AL  under18  2011    1125763.0  Alabama           AL\n...           ...      ...   ...          ...      ...          ...\n2539          USA    total  2010  309326295.0      NaN          NaN\n2540          USA  under18  2011   73902222.0      NaN          NaN\n2541          USA    total  2011  311582564.0      NaN          NaN\n2542          USA  under18  2012   73708179.0      NaN          NaN\n2543          USA    total  2012  313873685.0      NaN          NaN\n\n[2544 rows x 6 columns]",
      "text/html": "<div>\n<style scoped>\n    .dataframe tbody tr th:only-of-type {\n        vertical-align: middle;\n    }\n\n    .dataframe tbody tr th {\n        vertical-align: top;\n    }\n\n    .dataframe thead th {\n        text-align: right;\n    }\n</style>\n<table border=\"1\" class=\"dataframe\">\n  <thead>\n    <tr style=\"text-align: right;\">\n      <th></th>\n      <th>state/region</th>\n      <th>ages</th>\n      <th>year</th>\n      <th>population</th>\n      <th>state</th>\n      <th>abbreviation</th>\n    </tr>\n  </thead>\n  <tbody>\n    <tr>\n      <th>0</th>\n      <td>AL</td>\n      <td>under18</td>\n      <td>2012</td>\n      <td>1117489.0</td>\n      <td>Alabama</td>\n      <td>AL</td>\n    </tr>\n    <tr>\n      <th>1</th>\n      <td>AL</td>\n      <td>total</td>\n      <td>2012</td>\n      <td>4817528.0</td>\n      <td>Alabama</td>\n      <td>AL</td>\n    </tr>\n    <tr>\n      <th>2</th>\n      <td>AL</td>\n      <td>under18</td>\n      <td>2010</td>\n      <td>1130966.0</td>\n      <td>Alabama</td>\n      <td>AL</td>\n    </tr>\n    <tr>\n      <th>3</th>\n      <td>AL</td>\n      <td>total</td>\n      <td>2010</td>\n      <td>4785570.0</td>\n      <td>Alabama</td>\n      <td>AL</td>\n    </tr>\n    <tr>\n      <th>4</th>\n      <td>AL</td>\n      <td>under18</td>\n      <td>2011</td>\n      <td>1125763.0</td>\n      <td>Alabama</td>\n      <td>AL</td>\n    </tr>\n    <tr>\n      <th>...</th>\n      <td>...</td>\n      <td>...</td>\n      <td>...</td>\n      <td>...</td>\n      <td>...</td>\n      <td>...</td>\n    </tr>\n    <tr>\n      <th>2539</th>\n      <td>USA</td>\n      <td>total</td>\n      <td>2010</td>\n      <td>309326295.0</td>\n      <td>NaN</td>\n      <td>NaN</td>\n    </tr>\n    <tr>\n      <th>2540</th>\n      <td>USA</td>\n      <td>under18</td>\n      <td>2011</td>\n      <td>73902222.0</td>\n      <td>NaN</td>\n      <td>NaN</td>\n    </tr>\n    <tr>\n      <th>2541</th>\n      <td>USA</td>\n      <td>total</td>\n      <td>2011</td>\n      <td>311582564.0</td>\n      <td>NaN</td>\n      <td>NaN</td>\n    </tr>\n    <tr>\n      <th>2542</th>\n      <td>USA</td>\n      <td>under18</td>\n      <td>2012</td>\n      <td>73708179.0</td>\n      <td>NaN</td>\n      <td>NaN</td>\n    </tr>\n    <tr>\n      <th>2543</th>\n      <td>USA</td>\n      <td>total</td>\n      <td>2012</td>\n      <td>313873685.0</td>\n      <td>NaN</td>\n      <td>NaN</td>\n    </tr>\n  </tbody>\n</table>\n<p>2544 rows × 6 columns</p>\n</div>"
     },
     "execution_count": 29,
     "metadata": {},
     "output_type": "execute_result"
    }
   ],
   "source": [
    "merged = pd.merge(pop, abbrevs, how='outer',\n",
    "                  left_on='state/region', right_on='abbreviation')\n",
    "merged"
   ]
  },
  {
   "cell_type": "code",
   "execution_count": 30,
   "metadata": {},
   "outputs": [
    {
     "data": {
      "text/plain": "     state/region     ages  year   population    state\n0              AL  under18  2012    1117489.0  Alabama\n1              AL    total  2012    4817528.0  Alabama\n2              AL  under18  2010    1130966.0  Alabama\n3              AL    total  2010    4785570.0  Alabama\n4              AL  under18  2011    1125763.0  Alabama\n...           ...      ...   ...          ...      ...\n2539          USA    total  2010  309326295.0      NaN\n2540          USA  under18  2011   73902222.0      NaN\n2541          USA    total  2011  311582564.0      NaN\n2542          USA  under18  2012   73708179.0      NaN\n2543          USA    total  2012  313873685.0      NaN\n\n[2544 rows x 5 columns]",
      "text/html": "<div>\n<style scoped>\n    .dataframe tbody tr th:only-of-type {\n        vertical-align: middle;\n    }\n\n    .dataframe tbody tr th {\n        vertical-align: top;\n    }\n\n    .dataframe thead th {\n        text-align: right;\n    }\n</style>\n<table border=\"1\" class=\"dataframe\">\n  <thead>\n    <tr style=\"text-align: right;\">\n      <th></th>\n      <th>state/region</th>\n      <th>ages</th>\n      <th>year</th>\n      <th>population</th>\n      <th>state</th>\n    </tr>\n  </thead>\n  <tbody>\n    <tr>\n      <th>0</th>\n      <td>AL</td>\n      <td>under18</td>\n      <td>2012</td>\n      <td>1117489.0</td>\n      <td>Alabama</td>\n    </tr>\n    <tr>\n      <th>1</th>\n      <td>AL</td>\n      <td>total</td>\n      <td>2012</td>\n      <td>4817528.0</td>\n      <td>Alabama</td>\n    </tr>\n    <tr>\n      <th>2</th>\n      <td>AL</td>\n      <td>under18</td>\n      <td>2010</td>\n      <td>1130966.0</td>\n      <td>Alabama</td>\n    </tr>\n    <tr>\n      <th>3</th>\n      <td>AL</td>\n      <td>total</td>\n      <td>2010</td>\n      <td>4785570.0</td>\n      <td>Alabama</td>\n    </tr>\n    <tr>\n      <th>4</th>\n      <td>AL</td>\n      <td>under18</td>\n      <td>2011</td>\n      <td>1125763.0</td>\n      <td>Alabama</td>\n    </tr>\n    <tr>\n      <th>...</th>\n      <td>...</td>\n      <td>...</td>\n      <td>...</td>\n      <td>...</td>\n      <td>...</td>\n    </tr>\n    <tr>\n      <th>2539</th>\n      <td>USA</td>\n      <td>total</td>\n      <td>2010</td>\n      <td>309326295.0</td>\n      <td>NaN</td>\n    </tr>\n    <tr>\n      <th>2540</th>\n      <td>USA</td>\n      <td>under18</td>\n      <td>2011</td>\n      <td>73902222.0</td>\n      <td>NaN</td>\n    </tr>\n    <tr>\n      <th>2541</th>\n      <td>USA</td>\n      <td>total</td>\n      <td>2011</td>\n      <td>311582564.0</td>\n      <td>NaN</td>\n    </tr>\n    <tr>\n      <th>2542</th>\n      <td>USA</td>\n      <td>under18</td>\n      <td>2012</td>\n      <td>73708179.0</td>\n      <td>NaN</td>\n    </tr>\n    <tr>\n      <th>2543</th>\n      <td>USA</td>\n      <td>total</td>\n      <td>2012</td>\n      <td>313873685.0</td>\n      <td>NaN</td>\n    </tr>\n  </tbody>\n</table>\n<p>2544 rows × 5 columns</p>\n</div>"
     },
     "execution_count": 30,
     "metadata": {},
     "output_type": "execute_result"
    }
   ],
   "source": [
    "merged = merged.drop(columns=['abbreviation']) # drop duplicate info\n",
    "merged"
   ]
  },
  {
   "cell_type": "markdown",
   "metadata": {},
   "source": [
    "检查一下数据是否有缺失"
   ]
  },
  {
   "cell_type": "code",
   "execution_count": 50,
   "metadata": {},
   "outputs": [
    {
     "data": {
      "text/plain": [
       "state/region    False\n",
       "ages            False\n",
       "year            False\n",
       "population       True\n",
       "state            True\n",
       "dtype: bool"
      ]
     },
     "execution_count": 50,
     "metadata": {},
     "output_type": "execute_result"
    }
   ],
   "source": [
    "merged.isnull().any()"
   ]
  },
  {
   "cell_type": "markdown",
   "metadata": {},
   "source": [
    "我们发现 population 列和 state 列都有缺失值，先来看看population列缺失值的情况。"
   ]
  },
  {
   "cell_type": "code",
   "execution_count": 31,
   "metadata": {},
   "outputs": [
    {
     "data": {
      "text/plain": "     state/region     ages  year  population state\n2448           PR  under18  1990         NaN   NaN\n2449           PR    total  1990         NaN   NaN\n2450           PR    total  1991         NaN   NaN\n2451           PR  under18  1991         NaN   NaN\n2452           PR    total  1993         NaN   NaN\n2453           PR  under18  1993         NaN   NaN\n2454           PR  under18  1992         NaN   NaN\n2455           PR    total  1992         NaN   NaN\n2456           PR  under18  1994         NaN   NaN\n2457           PR    total  1994         NaN   NaN\n2458           PR    total  1995         NaN   NaN\n2459           PR  under18  1995         NaN   NaN\n2460           PR  under18  1996         NaN   NaN\n2461           PR    total  1996         NaN   NaN\n2462           PR  under18  1998         NaN   NaN\n2463           PR    total  1998         NaN   NaN\n2464           PR    total  1997         NaN   NaN\n2465           PR  under18  1997         NaN   NaN\n2466           PR    total  1999         NaN   NaN\n2467           PR  under18  1999         NaN   NaN",
      "text/html": "<div>\n<style scoped>\n    .dataframe tbody tr th:only-of-type {\n        vertical-align: middle;\n    }\n\n    .dataframe tbody tr th {\n        vertical-align: top;\n    }\n\n    .dataframe thead th {\n        text-align: right;\n    }\n</style>\n<table border=\"1\" class=\"dataframe\">\n  <thead>\n    <tr style=\"text-align: right;\">\n      <th></th>\n      <th>state/region</th>\n      <th>ages</th>\n      <th>year</th>\n      <th>population</th>\n      <th>state</th>\n    </tr>\n  </thead>\n  <tbody>\n    <tr>\n      <th>2448</th>\n      <td>PR</td>\n      <td>under18</td>\n      <td>1990</td>\n      <td>NaN</td>\n      <td>NaN</td>\n    </tr>\n    <tr>\n      <th>2449</th>\n      <td>PR</td>\n      <td>total</td>\n      <td>1990</td>\n      <td>NaN</td>\n      <td>NaN</td>\n    </tr>\n    <tr>\n      <th>2450</th>\n      <td>PR</td>\n      <td>total</td>\n      <td>1991</td>\n      <td>NaN</td>\n      <td>NaN</td>\n    </tr>\n    <tr>\n      <th>2451</th>\n      <td>PR</td>\n      <td>under18</td>\n      <td>1991</td>\n      <td>NaN</td>\n      <td>NaN</td>\n    </tr>\n    <tr>\n      <th>2452</th>\n      <td>PR</td>\n      <td>total</td>\n      <td>1993</td>\n      <td>NaN</td>\n      <td>NaN</td>\n    </tr>\n    <tr>\n      <th>2453</th>\n      <td>PR</td>\n      <td>under18</td>\n      <td>1993</td>\n      <td>NaN</td>\n      <td>NaN</td>\n    </tr>\n    <tr>\n      <th>2454</th>\n      <td>PR</td>\n      <td>under18</td>\n      <td>1992</td>\n      <td>NaN</td>\n      <td>NaN</td>\n    </tr>\n    <tr>\n      <th>2455</th>\n      <td>PR</td>\n      <td>total</td>\n      <td>1992</td>\n      <td>NaN</td>\n      <td>NaN</td>\n    </tr>\n    <tr>\n      <th>2456</th>\n      <td>PR</td>\n      <td>under18</td>\n      <td>1994</td>\n      <td>NaN</td>\n      <td>NaN</td>\n    </tr>\n    <tr>\n      <th>2457</th>\n      <td>PR</td>\n      <td>total</td>\n      <td>1994</td>\n      <td>NaN</td>\n      <td>NaN</td>\n    </tr>\n    <tr>\n      <th>2458</th>\n      <td>PR</td>\n      <td>total</td>\n      <td>1995</td>\n      <td>NaN</td>\n      <td>NaN</td>\n    </tr>\n    <tr>\n      <th>2459</th>\n      <td>PR</td>\n      <td>under18</td>\n      <td>1995</td>\n      <td>NaN</td>\n      <td>NaN</td>\n    </tr>\n    <tr>\n      <th>2460</th>\n      <td>PR</td>\n      <td>under18</td>\n      <td>1996</td>\n      <td>NaN</td>\n      <td>NaN</td>\n    </tr>\n    <tr>\n      <th>2461</th>\n      <td>PR</td>\n      <td>total</td>\n      <td>1996</td>\n      <td>NaN</td>\n      <td>NaN</td>\n    </tr>\n    <tr>\n      <th>2462</th>\n      <td>PR</td>\n      <td>under18</td>\n      <td>1998</td>\n      <td>NaN</td>\n      <td>NaN</td>\n    </tr>\n    <tr>\n      <th>2463</th>\n      <td>PR</td>\n      <td>total</td>\n      <td>1998</td>\n      <td>NaN</td>\n      <td>NaN</td>\n    </tr>\n    <tr>\n      <th>2464</th>\n      <td>PR</td>\n      <td>total</td>\n      <td>1997</td>\n      <td>NaN</td>\n      <td>NaN</td>\n    </tr>\n    <tr>\n      <th>2465</th>\n      <td>PR</td>\n      <td>under18</td>\n      <td>1997</td>\n      <td>NaN</td>\n      <td>NaN</td>\n    </tr>\n    <tr>\n      <th>2466</th>\n      <td>PR</td>\n      <td>total</td>\n      <td>1999</td>\n      <td>NaN</td>\n      <td>NaN</td>\n    </tr>\n    <tr>\n      <th>2467</th>\n      <td>PR</td>\n      <td>under18</td>\n      <td>1999</td>\n      <td>NaN</td>\n      <td>NaN</td>\n    </tr>\n  </tbody>\n</table>\n</div>"
     },
     "execution_count": 31,
     "metadata": {},
     "output_type": "execute_result"
    }
   ],
   "source": [
    "merged[merged['population'].isnull()]"
   ]
  },
  {
   "cell_type": "markdown",
   "metadata": {},
   "source": [
    "我们发现所有的人口缺失值都出现在2000年前的PR（波多黎各），应该是统计的时候就没有包含进去。接下来我们看看 state 缺失的情况。"
   ]
  },
  {
   "cell_type": "code",
   "execution_count": 33,
   "metadata": {},
   "outputs": [
    {
     "data": {
      "text/plain": "array(['PR', 'USA'], dtype=object)"
     },
     "execution_count": 33,
     "metadata": {},
     "output_type": "execute_result"
    }
   ],
   "source": [
    "merged.loc[merged['state'].isnull(),'state/region'].unique() #"
   ]
  },
  {
   "cell_type": "markdown",
   "metadata": {},
   "source": [
    "我们发现 PR 和 USA 出现了缺失值，也就是说很可能是这两项并没有出现在州名缩写表中。我们应该快速填充对应的全称。"
   ]
  },
  {
   "cell_type": "code",
   "execution_count": 36,
   "metadata": {},
   "outputs": [
    {
     "data": {
      "text/plain": "state/region    False\nages            False\nyear            False\npopulation       True\nstate           False\ndtype: bool"
     },
     "execution_count": 36,
     "metadata": {},
     "output_type": "execute_result"
    }
   ],
   "source": [
    "merged.loc[merged['state/region'] == 'PR','state'] = 'Puerto Rico'\n",
    "merged.loc[merged['state/region'] == 'USA', 'state'] = 'United States'\n",
    "merged.isnull().any()"
   ]
  },
  {
   "cell_type": "markdown",
   "metadata": {},
   "source": [
    "现在 state 列没有缺失值了，我们将各州的面积数据也合并进来。"
   ]
  },
  {
   "cell_type": "code",
   "execution_count": 37,
   "metadata": {},
   "outputs": [
    {
     "data": {
      "text/plain": "     state/region     ages  year  population        state\n2448           PR  under18  1990         NaN  Puerto Rico\n2449           PR    total  1990         NaN  Puerto Rico\n2450           PR    total  1991         NaN  Puerto Rico\n2451           PR  under18  1991         NaN  Puerto Rico\n2452           PR    total  1993         NaN  Puerto Rico\n2453           PR  under18  1993         NaN  Puerto Rico\n2454           PR  under18  1992         NaN  Puerto Rico\n2455           PR    total  1992         NaN  Puerto Rico\n2456           PR  under18  1994         NaN  Puerto Rico\n2457           PR    total  1994         NaN  Puerto Rico\n2458           PR    total  1995         NaN  Puerto Rico\n2459           PR  under18  1995         NaN  Puerto Rico\n2460           PR  under18  1996         NaN  Puerto Rico\n2461           PR    total  1996         NaN  Puerto Rico\n2462           PR  under18  1998         NaN  Puerto Rico\n2463           PR    total  1998         NaN  Puerto Rico\n2464           PR    total  1997         NaN  Puerto Rico\n2465           PR  under18  1997         NaN  Puerto Rico\n2466           PR    total  1999         NaN  Puerto Rico\n2467           PR  under18  1999         NaN  Puerto Rico",
      "text/html": "<div>\n<style scoped>\n    .dataframe tbody tr th:only-of-type {\n        vertical-align: middle;\n    }\n\n    .dataframe tbody tr th {\n        vertical-align: top;\n    }\n\n    .dataframe thead th {\n        text-align: right;\n    }\n</style>\n<table border=\"1\" class=\"dataframe\">\n  <thead>\n    <tr style=\"text-align: right;\">\n      <th></th>\n      <th>state/region</th>\n      <th>ages</th>\n      <th>year</th>\n      <th>population</th>\n      <th>state</th>\n    </tr>\n  </thead>\n  <tbody>\n    <tr>\n      <th>2448</th>\n      <td>PR</td>\n      <td>under18</td>\n      <td>1990</td>\n      <td>NaN</td>\n      <td>Puerto Rico</td>\n    </tr>\n    <tr>\n      <th>2449</th>\n      <td>PR</td>\n      <td>total</td>\n      <td>1990</td>\n      <td>NaN</td>\n      <td>Puerto Rico</td>\n    </tr>\n    <tr>\n      <th>2450</th>\n      <td>PR</td>\n      <td>total</td>\n      <td>1991</td>\n      <td>NaN</td>\n      <td>Puerto Rico</td>\n    </tr>\n    <tr>\n      <th>2451</th>\n      <td>PR</td>\n      <td>under18</td>\n      <td>1991</td>\n      <td>NaN</td>\n      <td>Puerto Rico</td>\n    </tr>\n    <tr>\n      <th>2452</th>\n      <td>PR</td>\n      <td>total</td>\n      <td>1993</td>\n      <td>NaN</td>\n      <td>Puerto Rico</td>\n    </tr>\n    <tr>\n      <th>2453</th>\n      <td>PR</td>\n      <td>under18</td>\n      <td>1993</td>\n      <td>NaN</td>\n      <td>Puerto Rico</td>\n    </tr>\n    <tr>\n      <th>2454</th>\n      <td>PR</td>\n      <td>under18</td>\n      <td>1992</td>\n      <td>NaN</td>\n      <td>Puerto Rico</td>\n    </tr>\n    <tr>\n      <th>2455</th>\n      <td>PR</td>\n      <td>total</td>\n      <td>1992</td>\n      <td>NaN</td>\n      <td>Puerto Rico</td>\n    </tr>\n    <tr>\n      <th>2456</th>\n      <td>PR</td>\n      <td>under18</td>\n      <td>1994</td>\n      <td>NaN</td>\n      <td>Puerto Rico</td>\n    </tr>\n    <tr>\n      <th>2457</th>\n      <td>PR</td>\n      <td>total</td>\n      <td>1994</td>\n      <td>NaN</td>\n      <td>Puerto Rico</td>\n    </tr>\n    <tr>\n      <th>2458</th>\n      <td>PR</td>\n      <td>total</td>\n      <td>1995</td>\n      <td>NaN</td>\n      <td>Puerto Rico</td>\n    </tr>\n    <tr>\n      <th>2459</th>\n      <td>PR</td>\n      <td>under18</td>\n      <td>1995</td>\n      <td>NaN</td>\n      <td>Puerto Rico</td>\n    </tr>\n    <tr>\n      <th>2460</th>\n      <td>PR</td>\n      <td>under18</td>\n      <td>1996</td>\n      <td>NaN</td>\n      <td>Puerto Rico</td>\n    </tr>\n    <tr>\n      <th>2461</th>\n      <td>PR</td>\n      <td>total</td>\n      <td>1996</td>\n      <td>NaN</td>\n      <td>Puerto Rico</td>\n    </tr>\n    <tr>\n      <th>2462</th>\n      <td>PR</td>\n      <td>under18</td>\n      <td>1998</td>\n      <td>NaN</td>\n      <td>Puerto Rico</td>\n    </tr>\n    <tr>\n      <th>2463</th>\n      <td>PR</td>\n      <td>total</td>\n      <td>1998</td>\n      <td>NaN</td>\n      <td>Puerto Rico</td>\n    </tr>\n    <tr>\n      <th>2464</th>\n      <td>PR</td>\n      <td>total</td>\n      <td>1997</td>\n      <td>NaN</td>\n      <td>Puerto Rico</td>\n    </tr>\n    <tr>\n      <th>2465</th>\n      <td>PR</td>\n      <td>under18</td>\n      <td>1997</td>\n      <td>NaN</td>\n      <td>Puerto Rico</td>\n    </tr>\n    <tr>\n      <th>2466</th>\n      <td>PR</td>\n      <td>total</td>\n      <td>1999</td>\n      <td>NaN</td>\n      <td>Puerto Rico</td>\n    </tr>\n    <tr>\n      <th>2467</th>\n      <td>PR</td>\n      <td>under18</td>\n      <td>1999</td>\n      <td>NaN</td>\n      <td>Puerto Rico</td>\n    </tr>\n  </tbody>\n</table>\n</div>"
     },
     "execution_count": 37,
     "metadata": {},
     "output_type": "execute_result"
    }
   ],
   "source": [
    "# areas.head()\n",
    "merged[merged['population'].isnull()]"
   ]
  },
  {
   "cell_type": "code",
   "execution_count": 40,
   "metadata": {},
   "outputs": [
    {
     "data": {
      "text/plain": "  state/region     ages  year  population    state  area (sq. mi)\n0           AL  under18  2012   1117489.0  Alabama        52423.0\n1           AL    total  2012   4817528.0  Alabama        52423.0\n2           AL  under18  2010   1130966.0  Alabama        52423.0\n3           AL    total  2010   4785570.0  Alabama        52423.0\n4           AL  under18  2011   1125763.0  Alabama        52423.0\n5           AL    total  2011   4801627.0  Alabama        52423.0\n6           AL    total  2009   4757938.0  Alabama        52423.0\n7           AL  under18  2009   1134192.0  Alabama        52423.0\n8           AL  under18  2013   1111481.0  Alabama        52423.0\n9           AL    total  2013   4833722.0  Alabama        52423.0",
      "text/html": "<div>\n<style scoped>\n    .dataframe tbody tr th:only-of-type {\n        vertical-align: middle;\n    }\n\n    .dataframe tbody tr th {\n        vertical-align: top;\n    }\n\n    .dataframe thead th {\n        text-align: right;\n    }\n</style>\n<table border=\"1\" class=\"dataframe\">\n  <thead>\n    <tr style=\"text-align: right;\">\n      <th></th>\n      <th>state/region</th>\n      <th>ages</th>\n      <th>year</th>\n      <th>population</th>\n      <th>state</th>\n      <th>area (sq. mi)</th>\n    </tr>\n  </thead>\n  <tbody>\n    <tr>\n      <th>0</th>\n      <td>AL</td>\n      <td>under18</td>\n      <td>2012</td>\n      <td>1117489.0</td>\n      <td>Alabama</td>\n      <td>52423.0</td>\n    </tr>\n    <tr>\n      <th>1</th>\n      <td>AL</td>\n      <td>total</td>\n      <td>2012</td>\n      <td>4817528.0</td>\n      <td>Alabama</td>\n      <td>52423.0</td>\n    </tr>\n    <tr>\n      <th>2</th>\n      <td>AL</td>\n      <td>under18</td>\n      <td>2010</td>\n      <td>1130966.0</td>\n      <td>Alabama</td>\n      <td>52423.0</td>\n    </tr>\n    <tr>\n      <th>3</th>\n      <td>AL</td>\n      <td>total</td>\n      <td>2010</td>\n      <td>4785570.0</td>\n      <td>Alabama</td>\n      <td>52423.0</td>\n    </tr>\n    <tr>\n      <th>4</th>\n      <td>AL</td>\n      <td>under18</td>\n      <td>2011</td>\n      <td>1125763.0</td>\n      <td>Alabama</td>\n      <td>52423.0</td>\n    </tr>\n    <tr>\n      <th>5</th>\n      <td>AL</td>\n      <td>total</td>\n      <td>2011</td>\n      <td>4801627.0</td>\n      <td>Alabama</td>\n      <td>52423.0</td>\n    </tr>\n    <tr>\n      <th>6</th>\n      <td>AL</td>\n      <td>total</td>\n      <td>2009</td>\n      <td>4757938.0</td>\n      <td>Alabama</td>\n      <td>52423.0</td>\n    </tr>\n    <tr>\n      <th>7</th>\n      <td>AL</td>\n      <td>under18</td>\n      <td>2009</td>\n      <td>1134192.0</td>\n      <td>Alabama</td>\n      <td>52423.0</td>\n    </tr>\n    <tr>\n      <th>8</th>\n      <td>AL</td>\n      <td>under18</td>\n      <td>2013</td>\n      <td>1111481.0</td>\n      <td>Alabama</td>\n      <td>52423.0</td>\n    </tr>\n    <tr>\n      <th>9</th>\n      <td>AL</td>\n      <td>total</td>\n      <td>2013</td>\n      <td>4833722.0</td>\n      <td>Alabama</td>\n      <td>52423.0</td>\n    </tr>\n  </tbody>\n</table>\n</div>"
     },
     "execution_count": 40,
     "metadata": {},
     "output_type": "execute_result"
    }
   ],
   "source": [
    "final = pd.merge(merged, areas, on='state', how='left') # 以左边表格为主，毕竟如果一个地方只知道面积，没有其他数据没有用\n",
    "final.head(10)"
   ]
  },
  {
   "cell_type": "markdown",
   "metadata": {},
   "source": [
    "检查一下数据，还有哪些列有缺失值。"
   ]
  },
  {
   "cell_type": "code",
   "execution_count": 41,
   "metadata": {},
   "outputs": [
    {
     "data": {
      "text/plain": "state/region     False\nages             False\nyear             False\npopulation        True\nstate            False\narea (sq. mi)     True\ndtype: bool"
     },
     "execution_count": 41,
     "metadata": {},
     "output_type": "execute_result"
    }
   ],
   "source": [
    "final.isnull().any()"
   ]
  },
  {
   "cell_type": "markdown",
   "metadata": {},
   "source": [
    "除了 population 之外，area 项还有缺失值。"
   ]
  },
  {
   "cell_type": "code",
   "execution_count": 46,
   "metadata": {},
   "outputs": [
    {
     "data": {
      "text/plain": "array(['USA'], dtype=object)"
     },
     "execution_count": 46,
     "metadata": {},
     "output_type": "execute_result"
    }
   ],
   "source": [
    "final.loc[final['area (sq. mi)'].isnull(),'state/region'].unique()"
   ]
  },
  {
   "cell_type": "code",
   "execution_count": 47,
   "outputs": [
    {
     "data": {
      "text/plain": "array(['PR'], dtype=object)"
     },
     "execution_count": 47,
     "metadata": {},
     "output_type": "execute_result"
    }
   ],
   "source": [
    "final.loc[final['population'].isnull(),'state/region'].unique()"
   ],
   "metadata": {
    "collapsed": false,
    "pycharm": {
     "name": "#%%\n"
    }
   }
  },
  {
   "cell_type": "markdown",
   "metadata": {},
   "source": [
    "我们发现缺少了全美国的面积数据，可以插入全国总面积数据（对各州面积求和即可）。但是针对本案例，我们去掉这个缺失值，因为全国人口密度并不需要这个数据。"
   ]
  },
  {
   "cell_type": "code",
   "execution_count": 48,
   "metadata": {},
   "outputs": [
    {
     "data": {
      "text/plain": "3790399.0"
     },
     "execution_count": 48,
     "metadata": {},
     "output_type": "execute_result"
    }
   ],
   "source": [
    "np.sum(final.loc[final['state/region'] != 'USA','area (sq. mi)'].unique())"
   ]
  },
  {
   "cell_type": "code",
   "execution_count": 49,
   "outputs": [
    {
     "data": {
      "text/plain": "     state/region     ages  year   population          state  area (sq. mi)\n0              AL  under18  2012    1117489.0        Alabama        52423.0\n1              AL    total  2012    4817528.0        Alabama        52423.0\n2              AL  under18  2010    1130966.0        Alabama        52423.0\n3              AL    total  2010    4785570.0        Alabama        52423.0\n4              AL  under18  2011    1125763.0        Alabama        52423.0\n...           ...      ...   ...          ...            ...            ...\n2539          USA    total  2010  309326295.0  United States            NaN\n2540          USA  under18  2011   73902222.0  United States            NaN\n2541          USA    total  2011  311582564.0  United States            NaN\n2542          USA  under18  2012   73708179.0  United States            NaN\n2543          USA    total  2012  313873685.0  United States            NaN\n\n[2544 rows x 6 columns]",
      "text/html": "<div>\n<style scoped>\n    .dataframe tbody tr th:only-of-type {\n        vertical-align: middle;\n    }\n\n    .dataframe tbody tr th {\n        vertical-align: top;\n    }\n\n    .dataframe thead th {\n        text-align: right;\n    }\n</style>\n<table border=\"1\" class=\"dataframe\">\n  <thead>\n    <tr style=\"text-align: right;\">\n      <th></th>\n      <th>state/region</th>\n      <th>ages</th>\n      <th>year</th>\n      <th>population</th>\n      <th>state</th>\n      <th>area (sq. mi)</th>\n    </tr>\n  </thead>\n  <tbody>\n    <tr>\n      <th>0</th>\n      <td>AL</td>\n      <td>under18</td>\n      <td>2012</td>\n      <td>1117489.0</td>\n      <td>Alabama</td>\n      <td>52423.0</td>\n    </tr>\n    <tr>\n      <th>1</th>\n      <td>AL</td>\n      <td>total</td>\n      <td>2012</td>\n      <td>4817528.0</td>\n      <td>Alabama</td>\n      <td>52423.0</td>\n    </tr>\n    <tr>\n      <th>2</th>\n      <td>AL</td>\n      <td>under18</td>\n      <td>2010</td>\n      <td>1130966.0</td>\n      <td>Alabama</td>\n      <td>52423.0</td>\n    </tr>\n    <tr>\n      <th>3</th>\n      <td>AL</td>\n      <td>total</td>\n      <td>2010</td>\n      <td>4785570.0</td>\n      <td>Alabama</td>\n      <td>52423.0</td>\n    </tr>\n    <tr>\n      <th>4</th>\n      <td>AL</td>\n      <td>under18</td>\n      <td>2011</td>\n      <td>1125763.0</td>\n      <td>Alabama</td>\n      <td>52423.0</td>\n    </tr>\n    <tr>\n      <th>...</th>\n      <td>...</td>\n      <td>...</td>\n      <td>...</td>\n      <td>...</td>\n      <td>...</td>\n      <td>...</td>\n    </tr>\n    <tr>\n      <th>2539</th>\n      <td>USA</td>\n      <td>total</td>\n      <td>2010</td>\n      <td>309326295.0</td>\n      <td>United States</td>\n      <td>NaN</td>\n    </tr>\n    <tr>\n      <th>2540</th>\n      <td>USA</td>\n      <td>under18</td>\n      <td>2011</td>\n      <td>73902222.0</td>\n      <td>United States</td>\n      <td>NaN</td>\n    </tr>\n    <tr>\n      <th>2541</th>\n      <td>USA</td>\n      <td>total</td>\n      <td>2011</td>\n      <td>311582564.0</td>\n      <td>United States</td>\n      <td>NaN</td>\n    </tr>\n    <tr>\n      <th>2542</th>\n      <td>USA</td>\n      <td>under18</td>\n      <td>2012</td>\n      <td>73708179.0</td>\n      <td>United States</td>\n      <td>NaN</td>\n    </tr>\n    <tr>\n      <th>2543</th>\n      <td>USA</td>\n      <td>total</td>\n      <td>2012</td>\n      <td>313873685.0</td>\n      <td>United States</td>\n      <td>NaN</td>\n    </tr>\n  </tbody>\n</table>\n<p>2544 rows × 6 columns</p>\n</div>"
     },
     "execution_count": 49,
     "metadata": {},
     "output_type": "execute_result"
    }
   ],
   "source": [
    "final"
   ],
   "metadata": {
    "collapsed": false,
    "pycharm": {
     "name": "#%%\n"
    }
   }
  },
  {
   "cell_type": "code",
   "execution_count": 50,
   "metadata": {},
   "outputs": [
    {
     "data": {
      "text/plain": "  state/region     ages  year  population    state  area (sq. mi)\n0           AL  under18  2012   1117489.0  Alabama        52423.0\n1           AL    total  2012   4817528.0  Alabama        52423.0\n2           AL  under18  2010   1130966.0  Alabama        52423.0\n3           AL    total  2010   4785570.0  Alabama        52423.0\n4           AL  under18  2011   1125763.0  Alabama        52423.0",
      "text/html": "<div>\n<style scoped>\n    .dataframe tbody tr th:only-of-type {\n        vertical-align: middle;\n    }\n\n    .dataframe tbody tr th {\n        vertical-align: top;\n    }\n\n    .dataframe thead th {\n        text-align: right;\n    }\n</style>\n<table border=\"1\" class=\"dataframe\">\n  <thead>\n    <tr style=\"text-align: right;\">\n      <th></th>\n      <th>state/region</th>\n      <th>ages</th>\n      <th>year</th>\n      <th>population</th>\n      <th>state</th>\n      <th>area (sq. mi)</th>\n    </tr>\n  </thead>\n  <tbody>\n    <tr>\n      <th>0</th>\n      <td>AL</td>\n      <td>under18</td>\n      <td>2012</td>\n      <td>1117489.0</td>\n      <td>Alabama</td>\n      <td>52423.0</td>\n    </tr>\n    <tr>\n      <th>1</th>\n      <td>AL</td>\n      <td>total</td>\n      <td>2012</td>\n      <td>4817528.0</td>\n      <td>Alabama</td>\n      <td>52423.0</td>\n    </tr>\n    <tr>\n      <th>2</th>\n      <td>AL</td>\n      <td>under18</td>\n      <td>2010</td>\n      <td>1130966.0</td>\n      <td>Alabama</td>\n      <td>52423.0</td>\n    </tr>\n    <tr>\n      <th>3</th>\n      <td>AL</td>\n      <td>total</td>\n      <td>2010</td>\n      <td>4785570.0</td>\n      <td>Alabama</td>\n      <td>52423.0</td>\n    </tr>\n    <tr>\n      <th>4</th>\n      <td>AL</td>\n      <td>under18</td>\n      <td>2011</td>\n      <td>1125763.0</td>\n      <td>Alabama</td>\n      <td>52423.0</td>\n    </tr>\n  </tbody>\n</table>\n</div>"
     },
     "execution_count": 50,
     "metadata": {},
     "output_type": "execute_result"
    }
   ],
   "source": [
    "final.dropna(inplace=True) \n",
    "final.head()"
   ]
  },
  {
   "cell_type": "markdown",
   "metadata": {},
   "source": [
    "现在所有的数据都准备好了。先选择2012年的各州人口以及总人口数据进行计算。"
   ]
  },
  {
   "cell_type": "code",
   "execution_count": 51,
   "metadata": {},
   "outputs": [
    {
     "data": {
      "text/plain": "                     state  population  area (sq. mi)\n1                  Alabama   4817528.0        52423.0\n95                  Alaska    730307.0       656425.0\n97                 Arizona   6551149.0       114006.0\n191               Arkansas   2949828.0        53182.0\n193             California  37999878.0       163707.0\n287               Colorado   5189458.0       104100.0\n289            Connecticut   3591765.0         5544.0\n383               Delaware    917053.0         1954.0\n385   District of Columbia    633427.0           68.0\n479                Florida  19320749.0        65758.0\n480                Georgia   9915646.0        59441.0\n575                 Hawaii   1390090.0        10932.0\n576                  Idaho   1595590.0        83574.0\n671               Illinois  12868192.0        57918.0\n672                Indiana   6537782.0        36420.0\n767                   Iowa   3075039.0        56276.0\n768                 Kansas   2885398.0        82282.0\n863               Kentucky   4379730.0        40411.0\n864              Louisiana   4602134.0        51843.0\n959                  Maine   1328501.0        35387.0\n960               Maryland   5884868.0        12407.0\n1055         Massachusetts   6645303.0        10555.0\n1056              Michigan   9882519.0        96810.0\n1151             Minnesota   5379646.0        86943.0\n1152           Mississippi   2986450.0        48434.0\n1247              Missouri   6024522.0        69709.0\n1248               Montana   1005494.0       147046.0\n1343              Nebraska   1855350.0        77358.0\n1344                Nevada   2754354.0       110567.0\n1439         New Hampshire   1321617.0         9351.0\n1440            New Jersey   8867749.0         8722.0\n1535            New Mexico   2083540.0       121593.0\n1536              New York  19576125.0        54475.0\n1631        North Carolina   9748364.0        53821.0\n1632          North Dakota    701345.0        70704.0\n1727                  Ohio  11553031.0        44828.0\n1728              Oklahoma   3815780.0        69903.0\n1823                Oregon   3899801.0        98386.0\n1824          Pennsylvania  12764475.0        46058.0\n1919          Rhode Island   1050304.0         1545.0\n1920        South Carolina   4723417.0        32007.0\n2015          South Dakota    834047.0        77121.0\n2016             Tennessee   6454914.0        42146.0\n2111                 Texas  26060796.0       268601.0\n2112                  Utah   2854871.0        84904.0\n2207               Vermont    625953.0         9615.0\n2208              Virginia   8186628.0        42769.0\n2303            Washington   6895318.0        71303.0\n2304         West Virginia   1856680.0        24231.0\n2399             Wisconsin   5724554.0        65503.0\n2400               Wyoming    576626.0        97818.0\n2495           Puerto Rico   3651545.0         3515.0",
      "text/html": "<div>\n<style scoped>\n    .dataframe tbody tr th:only-of-type {\n        vertical-align: middle;\n    }\n\n    .dataframe tbody tr th {\n        vertical-align: top;\n    }\n\n    .dataframe thead th {\n        text-align: right;\n    }\n</style>\n<table border=\"1\" class=\"dataframe\">\n  <thead>\n    <tr style=\"text-align: right;\">\n      <th></th>\n      <th>state</th>\n      <th>population</th>\n      <th>area (sq. mi)</th>\n    </tr>\n  </thead>\n  <tbody>\n    <tr>\n      <th>1</th>\n      <td>Alabama</td>\n      <td>4817528.0</td>\n      <td>52423.0</td>\n    </tr>\n    <tr>\n      <th>95</th>\n      <td>Alaska</td>\n      <td>730307.0</td>\n      <td>656425.0</td>\n    </tr>\n    <tr>\n      <th>97</th>\n      <td>Arizona</td>\n      <td>6551149.0</td>\n      <td>114006.0</td>\n    </tr>\n    <tr>\n      <th>191</th>\n      <td>Arkansas</td>\n      <td>2949828.0</td>\n      <td>53182.0</td>\n    </tr>\n    <tr>\n      <th>193</th>\n      <td>California</td>\n      <td>37999878.0</td>\n      <td>163707.0</td>\n    </tr>\n    <tr>\n      <th>287</th>\n      <td>Colorado</td>\n      <td>5189458.0</td>\n      <td>104100.0</td>\n    </tr>\n    <tr>\n      <th>289</th>\n      <td>Connecticut</td>\n      <td>3591765.0</td>\n      <td>5544.0</td>\n    </tr>\n    <tr>\n      <th>383</th>\n      <td>Delaware</td>\n      <td>917053.0</td>\n      <td>1954.0</td>\n    </tr>\n    <tr>\n      <th>385</th>\n      <td>District of Columbia</td>\n      <td>633427.0</td>\n      <td>68.0</td>\n    </tr>\n    <tr>\n      <th>479</th>\n      <td>Florida</td>\n      <td>19320749.0</td>\n      <td>65758.0</td>\n    </tr>\n    <tr>\n      <th>480</th>\n      <td>Georgia</td>\n      <td>9915646.0</td>\n      <td>59441.0</td>\n    </tr>\n    <tr>\n      <th>575</th>\n      <td>Hawaii</td>\n      <td>1390090.0</td>\n      <td>10932.0</td>\n    </tr>\n    <tr>\n      <th>576</th>\n      <td>Idaho</td>\n      <td>1595590.0</td>\n      <td>83574.0</td>\n    </tr>\n    <tr>\n      <th>671</th>\n      <td>Illinois</td>\n      <td>12868192.0</td>\n      <td>57918.0</td>\n    </tr>\n    <tr>\n      <th>672</th>\n      <td>Indiana</td>\n      <td>6537782.0</td>\n      <td>36420.0</td>\n    </tr>\n    <tr>\n      <th>767</th>\n      <td>Iowa</td>\n      <td>3075039.0</td>\n      <td>56276.0</td>\n    </tr>\n    <tr>\n      <th>768</th>\n      <td>Kansas</td>\n      <td>2885398.0</td>\n      <td>82282.0</td>\n    </tr>\n    <tr>\n      <th>863</th>\n      <td>Kentucky</td>\n      <td>4379730.0</td>\n      <td>40411.0</td>\n    </tr>\n    <tr>\n      <th>864</th>\n      <td>Louisiana</td>\n      <td>4602134.0</td>\n      <td>51843.0</td>\n    </tr>\n    <tr>\n      <th>959</th>\n      <td>Maine</td>\n      <td>1328501.0</td>\n      <td>35387.0</td>\n    </tr>\n    <tr>\n      <th>960</th>\n      <td>Maryland</td>\n      <td>5884868.0</td>\n      <td>12407.0</td>\n    </tr>\n    <tr>\n      <th>1055</th>\n      <td>Massachusetts</td>\n      <td>6645303.0</td>\n      <td>10555.0</td>\n    </tr>\n    <tr>\n      <th>1056</th>\n      <td>Michigan</td>\n      <td>9882519.0</td>\n      <td>96810.0</td>\n    </tr>\n    <tr>\n      <th>1151</th>\n      <td>Minnesota</td>\n      <td>5379646.0</td>\n      <td>86943.0</td>\n    </tr>\n    <tr>\n      <th>1152</th>\n      <td>Mississippi</td>\n      <td>2986450.0</td>\n      <td>48434.0</td>\n    </tr>\n    <tr>\n      <th>1247</th>\n      <td>Missouri</td>\n      <td>6024522.0</td>\n      <td>69709.0</td>\n    </tr>\n    <tr>\n      <th>1248</th>\n      <td>Montana</td>\n      <td>1005494.0</td>\n      <td>147046.0</td>\n    </tr>\n    <tr>\n      <th>1343</th>\n      <td>Nebraska</td>\n      <td>1855350.0</td>\n      <td>77358.0</td>\n    </tr>\n    <tr>\n      <th>1344</th>\n      <td>Nevada</td>\n      <td>2754354.0</td>\n      <td>110567.0</td>\n    </tr>\n    <tr>\n      <th>1439</th>\n      <td>New Hampshire</td>\n      <td>1321617.0</td>\n      <td>9351.0</td>\n    </tr>\n    <tr>\n      <th>1440</th>\n      <td>New Jersey</td>\n      <td>8867749.0</td>\n      <td>8722.0</td>\n    </tr>\n    <tr>\n      <th>1535</th>\n      <td>New Mexico</td>\n      <td>2083540.0</td>\n      <td>121593.0</td>\n    </tr>\n    <tr>\n      <th>1536</th>\n      <td>New York</td>\n      <td>19576125.0</td>\n      <td>54475.0</td>\n    </tr>\n    <tr>\n      <th>1631</th>\n      <td>North Carolina</td>\n      <td>9748364.0</td>\n      <td>53821.0</td>\n    </tr>\n    <tr>\n      <th>1632</th>\n      <td>North Dakota</td>\n      <td>701345.0</td>\n      <td>70704.0</td>\n    </tr>\n    <tr>\n      <th>1727</th>\n      <td>Ohio</td>\n      <td>11553031.0</td>\n      <td>44828.0</td>\n    </tr>\n    <tr>\n      <th>1728</th>\n      <td>Oklahoma</td>\n      <td>3815780.0</td>\n      <td>69903.0</td>\n    </tr>\n    <tr>\n      <th>1823</th>\n      <td>Oregon</td>\n      <td>3899801.0</td>\n      <td>98386.0</td>\n    </tr>\n    <tr>\n      <th>1824</th>\n      <td>Pennsylvania</td>\n      <td>12764475.0</td>\n      <td>46058.0</td>\n    </tr>\n    <tr>\n      <th>1919</th>\n      <td>Rhode Island</td>\n      <td>1050304.0</td>\n      <td>1545.0</td>\n    </tr>\n    <tr>\n      <th>1920</th>\n      <td>South Carolina</td>\n      <td>4723417.0</td>\n      <td>32007.0</td>\n    </tr>\n    <tr>\n      <th>2015</th>\n      <td>South Dakota</td>\n      <td>834047.0</td>\n      <td>77121.0</td>\n    </tr>\n    <tr>\n      <th>2016</th>\n      <td>Tennessee</td>\n      <td>6454914.0</td>\n      <td>42146.0</td>\n    </tr>\n    <tr>\n      <th>2111</th>\n      <td>Texas</td>\n      <td>26060796.0</td>\n      <td>268601.0</td>\n    </tr>\n    <tr>\n      <th>2112</th>\n      <td>Utah</td>\n      <td>2854871.0</td>\n      <td>84904.0</td>\n    </tr>\n    <tr>\n      <th>2207</th>\n      <td>Vermont</td>\n      <td>625953.0</td>\n      <td>9615.0</td>\n    </tr>\n    <tr>\n      <th>2208</th>\n      <td>Virginia</td>\n      <td>8186628.0</td>\n      <td>42769.0</td>\n    </tr>\n    <tr>\n      <th>2303</th>\n      <td>Washington</td>\n      <td>6895318.0</td>\n      <td>71303.0</td>\n    </tr>\n    <tr>\n      <th>2304</th>\n      <td>West Virginia</td>\n      <td>1856680.0</td>\n      <td>24231.0</td>\n    </tr>\n    <tr>\n      <th>2399</th>\n      <td>Wisconsin</td>\n      <td>5724554.0</td>\n      <td>65503.0</td>\n    </tr>\n    <tr>\n      <th>2400</th>\n      <td>Wyoming</td>\n      <td>576626.0</td>\n      <td>97818.0</td>\n    </tr>\n    <tr>\n      <th>2495</th>\n      <td>Puerto Rico</td>\n      <td>3651545.0</td>\n      <td>3515.0</td>\n    </tr>\n  </tbody>\n</table>\n</div>"
     },
     "execution_count": 51,
     "metadata": {},
     "output_type": "execute_result"
    }
   ],
   "source": [
    "data2012 = final.loc[(final['year'] == 2012) & (final['ages'] == 'total'),['state','population','area (sq. mi)']]\n",
    "data2012"
   ]
  },
  {
   "cell_type": "markdown",
   "metadata": {},
   "source": [
    "接下来我们计算总人口密度并按序排列。"
   ]
  },
  {
   "cell_type": "code",
   "execution_count": 52,
   "metadata": {},
   "outputs": [
    {
     "data": {
      "text/plain": "                      population  area (sq. mi)\nstate                                          \nAlabama                4817528.0        52423.0\nAlaska                  730307.0       656425.0\nArizona                6551149.0       114006.0\nArkansas               2949828.0        53182.0\nCalifornia            37999878.0       163707.0\nColorado               5189458.0       104100.0\nConnecticut            3591765.0         5544.0\nDelaware                917053.0         1954.0\nDistrict of Columbia    633427.0           68.0\nFlorida               19320749.0        65758.0\nGeorgia                9915646.0        59441.0\nHawaii                 1390090.0        10932.0\nIdaho                  1595590.0        83574.0\nIllinois              12868192.0        57918.0\nIndiana                6537782.0        36420.0\nIowa                   3075039.0        56276.0\nKansas                 2885398.0        82282.0\nKentucky               4379730.0        40411.0\nLouisiana              4602134.0        51843.0\nMaine                  1328501.0        35387.0\nMaryland               5884868.0        12407.0\nMassachusetts          6645303.0        10555.0\nMichigan               9882519.0        96810.0\nMinnesota              5379646.0        86943.0\nMississippi            2986450.0        48434.0\nMissouri               6024522.0        69709.0\nMontana                1005494.0       147046.0\nNebraska               1855350.0        77358.0\nNevada                 2754354.0       110567.0\nNew Hampshire          1321617.0         9351.0\nNew Jersey             8867749.0         8722.0\nNew Mexico             2083540.0       121593.0\nNew York              19576125.0        54475.0\nNorth Carolina         9748364.0        53821.0\nNorth Dakota            701345.0        70704.0\nOhio                  11553031.0        44828.0\nOklahoma               3815780.0        69903.0\nOregon                 3899801.0        98386.0\nPennsylvania          12764475.0        46058.0\nRhode Island           1050304.0         1545.0\nSouth Carolina         4723417.0        32007.0\nSouth Dakota            834047.0        77121.0\nTennessee              6454914.0        42146.0\nTexas                 26060796.0       268601.0\nUtah                   2854871.0        84904.0\nVermont                 625953.0         9615.0\nVirginia               8186628.0        42769.0\nWashington             6895318.0        71303.0\nWest Virginia          1856680.0        24231.0\nWisconsin              5724554.0        65503.0\nWyoming                 576626.0        97818.0\nPuerto Rico            3651545.0         3515.0",
      "text/html": "<div>\n<style scoped>\n    .dataframe tbody tr th:only-of-type {\n        vertical-align: middle;\n    }\n\n    .dataframe tbody tr th {\n        vertical-align: top;\n    }\n\n    .dataframe thead th {\n        text-align: right;\n    }\n</style>\n<table border=\"1\" class=\"dataframe\">\n  <thead>\n    <tr style=\"text-align: right;\">\n      <th></th>\n      <th>population</th>\n      <th>area (sq. mi)</th>\n    </tr>\n    <tr>\n      <th>state</th>\n      <th></th>\n      <th></th>\n    </tr>\n  </thead>\n  <tbody>\n    <tr>\n      <th>Alabama</th>\n      <td>4817528.0</td>\n      <td>52423.0</td>\n    </tr>\n    <tr>\n      <th>Alaska</th>\n      <td>730307.0</td>\n      <td>656425.0</td>\n    </tr>\n    <tr>\n      <th>Arizona</th>\n      <td>6551149.0</td>\n      <td>114006.0</td>\n    </tr>\n    <tr>\n      <th>Arkansas</th>\n      <td>2949828.0</td>\n      <td>53182.0</td>\n    </tr>\n    <tr>\n      <th>California</th>\n      <td>37999878.0</td>\n      <td>163707.0</td>\n    </tr>\n    <tr>\n      <th>Colorado</th>\n      <td>5189458.0</td>\n      <td>104100.0</td>\n    </tr>\n    <tr>\n      <th>Connecticut</th>\n      <td>3591765.0</td>\n      <td>5544.0</td>\n    </tr>\n    <tr>\n      <th>Delaware</th>\n      <td>917053.0</td>\n      <td>1954.0</td>\n    </tr>\n    <tr>\n      <th>District of Columbia</th>\n      <td>633427.0</td>\n      <td>68.0</td>\n    </tr>\n    <tr>\n      <th>Florida</th>\n      <td>19320749.0</td>\n      <td>65758.0</td>\n    </tr>\n    <tr>\n      <th>Georgia</th>\n      <td>9915646.0</td>\n      <td>59441.0</td>\n    </tr>\n    <tr>\n      <th>Hawaii</th>\n      <td>1390090.0</td>\n      <td>10932.0</td>\n    </tr>\n    <tr>\n      <th>Idaho</th>\n      <td>1595590.0</td>\n      <td>83574.0</td>\n    </tr>\n    <tr>\n      <th>Illinois</th>\n      <td>12868192.0</td>\n      <td>57918.0</td>\n    </tr>\n    <tr>\n      <th>Indiana</th>\n      <td>6537782.0</td>\n      <td>36420.0</td>\n    </tr>\n    <tr>\n      <th>Iowa</th>\n      <td>3075039.0</td>\n      <td>56276.0</td>\n    </tr>\n    <tr>\n      <th>Kansas</th>\n      <td>2885398.0</td>\n      <td>82282.0</td>\n    </tr>\n    <tr>\n      <th>Kentucky</th>\n      <td>4379730.0</td>\n      <td>40411.0</td>\n    </tr>\n    <tr>\n      <th>Louisiana</th>\n      <td>4602134.0</td>\n      <td>51843.0</td>\n    </tr>\n    <tr>\n      <th>Maine</th>\n      <td>1328501.0</td>\n      <td>35387.0</td>\n    </tr>\n    <tr>\n      <th>Maryland</th>\n      <td>5884868.0</td>\n      <td>12407.0</td>\n    </tr>\n    <tr>\n      <th>Massachusetts</th>\n      <td>6645303.0</td>\n      <td>10555.0</td>\n    </tr>\n    <tr>\n      <th>Michigan</th>\n      <td>9882519.0</td>\n      <td>96810.0</td>\n    </tr>\n    <tr>\n      <th>Minnesota</th>\n      <td>5379646.0</td>\n      <td>86943.0</td>\n    </tr>\n    <tr>\n      <th>Mississippi</th>\n      <td>2986450.0</td>\n      <td>48434.0</td>\n    </tr>\n    <tr>\n      <th>Missouri</th>\n      <td>6024522.0</td>\n      <td>69709.0</td>\n    </tr>\n    <tr>\n      <th>Montana</th>\n      <td>1005494.0</td>\n      <td>147046.0</td>\n    </tr>\n    <tr>\n      <th>Nebraska</th>\n      <td>1855350.0</td>\n      <td>77358.0</td>\n    </tr>\n    <tr>\n      <th>Nevada</th>\n      <td>2754354.0</td>\n      <td>110567.0</td>\n    </tr>\n    <tr>\n      <th>New Hampshire</th>\n      <td>1321617.0</td>\n      <td>9351.0</td>\n    </tr>\n    <tr>\n      <th>New Jersey</th>\n      <td>8867749.0</td>\n      <td>8722.0</td>\n    </tr>\n    <tr>\n      <th>New Mexico</th>\n      <td>2083540.0</td>\n      <td>121593.0</td>\n    </tr>\n    <tr>\n      <th>New York</th>\n      <td>19576125.0</td>\n      <td>54475.0</td>\n    </tr>\n    <tr>\n      <th>North Carolina</th>\n      <td>9748364.0</td>\n      <td>53821.0</td>\n    </tr>\n    <tr>\n      <th>North Dakota</th>\n      <td>701345.0</td>\n      <td>70704.0</td>\n    </tr>\n    <tr>\n      <th>Ohio</th>\n      <td>11553031.0</td>\n      <td>44828.0</td>\n    </tr>\n    <tr>\n      <th>Oklahoma</th>\n      <td>3815780.0</td>\n      <td>69903.0</td>\n    </tr>\n    <tr>\n      <th>Oregon</th>\n      <td>3899801.0</td>\n      <td>98386.0</td>\n    </tr>\n    <tr>\n      <th>Pennsylvania</th>\n      <td>12764475.0</td>\n      <td>46058.0</td>\n    </tr>\n    <tr>\n      <th>Rhode Island</th>\n      <td>1050304.0</td>\n      <td>1545.0</td>\n    </tr>\n    <tr>\n      <th>South Carolina</th>\n      <td>4723417.0</td>\n      <td>32007.0</td>\n    </tr>\n    <tr>\n      <th>South Dakota</th>\n      <td>834047.0</td>\n      <td>77121.0</td>\n    </tr>\n    <tr>\n      <th>Tennessee</th>\n      <td>6454914.0</td>\n      <td>42146.0</td>\n    </tr>\n    <tr>\n      <th>Texas</th>\n      <td>26060796.0</td>\n      <td>268601.0</td>\n    </tr>\n    <tr>\n      <th>Utah</th>\n      <td>2854871.0</td>\n      <td>84904.0</td>\n    </tr>\n    <tr>\n      <th>Vermont</th>\n      <td>625953.0</td>\n      <td>9615.0</td>\n    </tr>\n    <tr>\n      <th>Virginia</th>\n      <td>8186628.0</td>\n      <td>42769.0</td>\n    </tr>\n    <tr>\n      <th>Washington</th>\n      <td>6895318.0</td>\n      <td>71303.0</td>\n    </tr>\n    <tr>\n      <th>West Virginia</th>\n      <td>1856680.0</td>\n      <td>24231.0</td>\n    </tr>\n    <tr>\n      <th>Wisconsin</th>\n      <td>5724554.0</td>\n      <td>65503.0</td>\n    </tr>\n    <tr>\n      <th>Wyoming</th>\n      <td>576626.0</td>\n      <td>97818.0</td>\n    </tr>\n    <tr>\n      <th>Puerto Rico</th>\n      <td>3651545.0</td>\n      <td>3515.0</td>\n    </tr>\n  </tbody>\n</table>\n</div>"
     },
     "execution_count": 52,
     "metadata": {},
     "output_type": "execute_result"
    }
   ],
   "source": [
    "data2012.set_index('state',inplace=True)\n",
    "data2012"
   ]
  },
  {
   "cell_type": "code",
   "execution_count": 54,
   "metadata": {},
   "outputs": [
    {
     "data": {
      "text/plain": "state\nAlabama                   91.897221\nAlaska                     1.112552\nArizona                   57.463195\nArkansas                  55.466662\nCalifornia               232.121278\nColorado                  49.850701\nConnecticut              647.865260\nDelaware                 469.320880\nDistrict of Columbia    9315.102941\nFlorida                  293.815946\nGeorgia                  166.814926\nHawaii                   127.157885\nIdaho                     19.091942\nIllinois                 222.179495\nIndiana                  179.510763\nIowa                      54.642103\nKansas                    35.067184\nKentucky                 108.379649\nLouisiana                 88.770596\nMaine                     37.542063\nMaryland                 474.318369\nMassachusetts            629.588157\nMichigan                 102.081593\nMinnesota                 61.875551\nMississippi               61.660197\nMissouri                  86.423876\nMontana                    6.837955\nNebraska                  23.983945\nNevada                    24.911176\nNew Hampshire            141.334296\nNew Jersey              1016.710502\nNew Mexico                17.135361\nNew York                 359.359798\nNorth Carolina           181.125657\nNorth Dakota               9.919453\nOhio                     257.719082\nOklahoma                  54.586785\nOregon                    39.637764\nPennsylvania             277.139151\nRhode Island             679.808414\nSouth Carolina           147.574499\nSouth Dakota              10.814785\nTennessee                153.156029\nTexas                     97.024196\nUtah                      33.624694\nVermont                   65.101716\nVirginia                 191.414997\nWashington                96.704458\nWest Virginia             76.624159\nWisconsin                 87.393768\nWyoming                    5.894886\nPuerto Rico             1038.846373\ndtype: float64"
     },
     "execution_count": 54,
     "metadata": {},
     "output_type": "execute_result"
    }
   ],
   "source": [
    "density = data2012['population'] / data2012['area (sq. mi)']\n",
    "density"
   ]
  },
  {
   "cell_type": "code",
   "execution_count": 57,
   "metadata": {},
   "outputs": [
    {
     "data": {
      "text/plain": "state\nDistrict of Columbia    9315.102941\nPuerto Rico             1038.846373\nNew Jersey              1016.710502\nRhode Island             679.808414\nConnecticut              647.865260\nMassachusetts            629.588157\nMaryland                 474.318369\nDelaware                 469.320880\nNew York                 359.359798\nFlorida                  293.815946\nPennsylvania             277.139151\nOhio                     257.719082\nCalifornia               232.121278\nIllinois                 222.179495\nVirginia                 191.414997\nNorth Carolina           181.125657\nIndiana                  179.510763\nGeorgia                  166.814926\nTennessee                153.156029\nSouth Carolina           147.574499\nNew Hampshire            141.334296\nHawaii                   127.157885\nKentucky                 108.379649\nMichigan                 102.081593\nTexas                     97.024196\nWashington                96.704458\nAlabama                   91.897221\nLouisiana                 88.770596\nWisconsin                 87.393768\nMissouri                  86.423876\nWest Virginia             76.624159\nVermont                   65.101716\nMinnesota                 61.875551\nMississippi               61.660197\nArizona                   57.463195\nArkansas                  55.466662\nIowa                      54.642103\nOklahoma                  54.586785\nColorado                  49.850701\nOregon                    39.637764\nMaine                     37.542063\nKansas                    35.067184\nUtah                      33.624694\nNevada                    24.911176\nNebraska                  23.983945\nIdaho                     19.091942\nNew Mexico                17.135361\nSouth Dakota              10.814785\nNorth Dakota               9.919453\nMontana                    6.837955\nWyoming                    5.894886\nAlaska                     1.112552\ndtype: float64"
     },
     "execution_count": 57,
     "metadata": {},
     "output_type": "execute_result"
    }
   ],
   "source": [
    "density.sort_values(ascending=False)"
   ]
  },
  {
   "cell_type": "markdown",
   "metadata": {},
   "source": [
    "计算结果是美国各州加上华盛顿特区、波多黎各在2012年的人口密度排序，以万人/平方英里为单位。  \n",
    "人口密度最低的几个州排列如下："
   ]
  },
  {
   "cell_type": "code",
   "execution_count": 58,
   "metadata": {
    "pycharm": {
     "name": "#%%\n"
    }
   },
   "outputs": [
    {
     "data": {
      "text/plain": "state\nWashington         96.704458\nWest Virginia      76.624159\nWisconsin          87.393768\nWyoming             5.894886\nPuerto Rico      1038.846373\ndtype: float64"
     },
     "execution_count": 58,
     "metadata": {},
     "output_type": "execute_result"
    }
   ],
   "source": [
    "density.tail()"
   ]
  }
 ],
 "metadata": {
  "anaconda-cloud": {},
  "kernelspec": {
   "name": "pycharm-project2",
   "language": "python",
   "display_name": "PyCharm (project2)"
  },
  "language_info": {
   "codemirror_mode": {
    "name": "ipython",
    "version": 3
   },
   "file_extension": ".py",
   "mimetype": "text/x-python",
   "name": "python",
   "nbconvert_exporter": "python",
   "pygments_lexer": "ipython3",
   "version": "3.8.12"
  }
 },
 "nbformat": 4,
 "nbformat_minor": 1
}