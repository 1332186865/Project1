{
 "cells": [
  {
   "cell_type": "markdown",
   "id": "8390da1c",
   "metadata": {},
   "source": [
    "# LeetCode 在线编程题"
   ]
  },
  {
   "cell_type": "markdown",
   "id": "828825d8",
   "metadata": {},
   "source": [
    "## 1.两数之和"
   ]
  },
  {
   "cell_type": "code",
   "execution_count": 5,
   "id": "a0d8d2d3",
   "metadata": {},
   "outputs": [
    {
     "name": "stdout",
     "output_type": "stream",
     "text": [
      "[0, 1]\n"
     ]
    }
   ],
   "source": [
    "class Solution:\n",
    "    def twoSum(self, nums, target):\n",
    "        length = len(nums)\n",
    "        for l in range(length):\n",
    "            for j in range(l + 1, length):\n",
    "                if nums[l] + nums[j] == target:\n",
    "                    return [l, j]\n",
    "\n",
    "\n",
    "he = Solution()\n",
    "a = [2, 7, 11, 15]\n",
    "b = 9\n",
    "print(he.twoSum(a, b))\n"
   ]
  },
  {
   "cell_type": "markdown",
   "id": "6df280bd",
   "metadata": {},
   "source": [
    "## 2.回文数"
   ]
  },
  {
   "cell_type": "code",
   "execution_count": 4,
   "id": "c7f98c15",
   "metadata": {},
   "outputs": [
    {
     "name": "stdout",
     "output_type": "stream",
     "text": [
      "请输入整数：-121\n",
      "False\n"
     ]
    }
   ],
   "source": [
    "class Solution:\n",
    "    def isPalindrome(self, x: int) -> bool:\n",
    "        a = str(x)\n",
    "        if a == a[::-1]:\n",
    "            return True\n",
    "        return False\n",
    "\n",
    "n = Solution()\n",
    "b = int(input(\"请输入整数：\"))\n",
    "print(n.isPalindrome(b))\n"
   ]
  }
 ],
 "metadata": {
  "kernelspec": {
   "display_name": "Python 3 (ipykernel)",
   "language": "python",
   "name": "python3"
  },
  "language_info": {
   "codemirror_mode": {
    "name": "ipython",
    "version": 3
   },
   "file_extension": ".py",
   "mimetype": "text/x-python",
   "name": "python",
   "nbconvert_exporter": "python",
   "pygments_lexer": "ipython3",
   "version": "3.8.10"
  }
 },
 "nbformat": 4,
 "nbformat_minor": 5
}