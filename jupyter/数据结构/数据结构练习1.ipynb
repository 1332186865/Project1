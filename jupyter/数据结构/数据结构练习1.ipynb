{
 "cells": [
  {
   "cell_type": "markdown",
   "id": "bd9826e7",
   "metadata": {},
   "source": [
    "# 顺序表"
   ]
  },
  {
   "cell_type": "markdown",
   "id": "9f735e5a",
   "metadata": {},
   "source": [
    "## 例2.1：对于含有n个整数元素的顺序表L，设计一个算法将其中所有元素逆置。\n",
    "例如L=(1，2，3，4，5)，逆置后L=(5，4，3，2，1)。并给出算法的时间复杂度和空间复杂度。"
   ]
  },
  {
   "cell_type": "code",
   "execution_count": 4,
   "id": "e5528857",
   "metadata": {},
   "outputs": [
    {
     "name": "stdout",
     "output_type": "stream",
     "text": [
      "[5, 4, 3, 2, 1]\n"
     ]
    }
   ],
   "source": [
    "# def reverse(list):\n",
    "#     i = 0\n",
    "#     while i < len(list) * 0.5:\n",
    "#         temp = list[i]\n",
    "#         list[i] = list[len(list) - i - 1]\n",
    "#         list[len(list) - i - 1] = temp\n",
    "#         i += 1\n",
    "#     return list\n",
    "\n",
    "def reverse(list):\n",
    "    i = 0\n",
    "    j = len(list) - 1\n",
    "    while i < j:\n",
    "        list[i], list[j] = list[j], list[i]\n",
    "        i += 1\n",
    "        j -= 1\n",
    "    return list\n",
    "ls = [1, 2, 3, 4, 5]\n",
    "print(reverse(ls))"
   ]
  },
  {
   "cell_type": "markdown",
   "id": "afb84a24",
   "metadata": {},
   "source": [
    "## 例2.2：假设有一个整数顺序表L，设计一个算法用于删除从序号i开始的k个元素。\n",
    "   例如L=（1，2，3，4，5），删除i=1开始的k=2个元素后L=（1，4，5）。\n"
   ]
  },
  {
   "cell_type": "code",
   "execution_count": null,
   "id": "9c46c01f",
   "metadata": {},
   "outputs": [],
   "source": [
    "def deletek(list, i, k):\n",
    "    assert i >= 0 and k >= 1 and 1 <= i + k <= len(list)\n",
    "    for j in range(i + k, len(list)):\n",
    "        list[j-k] = list[j]\n",
    "        \n"
   ]
  },
  {
   "cell_type": "markdown",
   "id": "64408f6e",
   "metadata": {},
   "source": [
    "## 例2.3：对于含有n个整数元素的顺序表L，设计一个算法用于删除其中所有值为x的元素。\n",
    "例如L=(1，2，1，5，1)，若x=1，删除后L=(2，5)。并给出算法的时间复杂度和空间复杂度。给大家一个测试用例（2，1，1，1，1，1）中删除1。\n"
   ]
  },
  {
   "cell_type": "code",
   "execution_count": null,
   "id": "cf8c9c42",
   "metadata": {},
   "outputs": [],
   "source": [
    "def delete1(list, x):\n",
    "    i = -1\n",
    "    j = 0\n",
    "    while j < len()"
   ]
  },
  {
   "cell_type": "markdown",
   "id": "91d1f635",
   "metadata": {},
   "source": [
    "## 例2.4：有两个按元素值递增有序的整数顺序表A和B，设计一个算法将顺序表A和B的全部元素合并到一个递增有序顺序表C中。并给出算法的时间复杂度和空间复杂度。 "
   ]
  },
  {
   "cell_type": "code",
   "execution_count": null,
   "id": "cafed690",
   "metadata": {},
   "outputs": [],
   "source": []
  },
  {
   "cell_type": "markdown",
   "id": "12005bb6",
   "metadata": {},
   "source": [
    "# 链表"
   ]
  },
  {
   "cell_type": "markdown",
   "id": "35770a64",
   "metadata": {},
   "source": [
    "## 例2.6：有一个长度大于2的整数单链表L，设计一个算法查找L最中间的元素值。\n",
    "   例如，L=（1，2，3），返回元素为2；L=（1，2，3，4），返回元素为2。\n"
   ]
  },
  {
   "cell_type": "code",
   "execution_count": null,
   "id": "2826b37a",
   "metadata": {},
   "outputs": [],
   "source": []
  },
  {
   "cell_type": "markdown",
   "id": "e6bd6a05",
   "metadata": {},
   "source": [
    "## 例2.8：有一个整数单链表L，其中可能存在多个值相同的结点，设计一个算法删除L中所有最大值的结点。"
   ]
  },
  {
   "cell_type": "code",
   "execution_count": null,
   "id": "30b56e41",
   "metadata": {},
   "outputs": [],
   "source": []
  },
  {
   "cell_type": "markdown",
   "id": "a46a7d61",
   "metadata": {},
   "source": [
    "## 例2.9：有一个整数单链表L，设计一个算法逆置L中的所有结点。例如L=(1，2，3，4，5)，逆置后L=(5，4，3，2，1)。"
   ]
  },
  {
   "cell_type": "code",
   "execution_count": null,
   "id": "c8527a62",
   "metadata": {},
   "outputs": [],
   "source": []
  },
  {
   "cell_type": "markdown",
   "id": "6de299fa",
   "metadata": {},
   "source": [
    "# 循环单链表"
   ]
  },
  {
   "cell_type": "markdown",
   "id": "6f62334d",
   "metadata": {},
   "source": [
    "## 编写一个程序求解约瑟夫（Joseph）问题。有n个小孩围成一圈，给他们从1开始依次编号，从编号为1的小孩开始报数，数到第m个小孩出列，然后从出列的下一个小孩重新开始报数，数到第m个小孩又出列，…，如此反复直到所有的小孩全部出列为止，求整个出列序列。\n",
    "    如当n=6，m=5时的出列序列是5，4，6，2，3，1。\n"
   ]
  },
  {
   "cell_type": "code",
   "execution_count": null,
   "id": "3c4a40a3",
   "metadata": {},
   "outputs": [],
   "source": []
  },
  {
   "cell_type": "markdown",
   "id": "1ed70dff",
   "metadata": {},
   "source": [
    "## 修改约瑟夫问题，每当一个数据出列后，改变旋转方向，那么新的出列序列是？"
   ]
  },
  {
   "cell_type": "code",
   "execution_count": null,
   "id": "b0bd475d",
   "metadata": {},
   "outputs": [],
   "source": []
  }
 ],
 "metadata": {
  "kernelspec": {
   "display_name": "PyCharm (one)",
   "language": "python",
   "name": "pycharm-c4f52c"
  },
  "language_info": {
   "codemirror_mode": {
    "name": "ipython",
    "version": 3
   },
   "file_extension": ".py",
   "mimetype": "text/x-python",
   "name": "python",
   "nbconvert_exporter": "python",
   "pygments_lexer": "ipython3",
   "version": "3.9.7"
  }
 },
 "nbformat": 4,
 "nbformat_minor": 5
}