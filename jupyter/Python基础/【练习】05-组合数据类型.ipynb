{
 "cells": [
  {
   "cell_type": "markdown",
   "metadata": {},
   "source": [
    "## Exercise 1  \n",
    "元素Pu-238,Pu-239,Pu-240,Pu-241和Pu-242的半衰期分别为887.7, 24100.0, 6563.0, 14, 373300.0，请分别求出它们的最大、最小半衰期、所有元素半衰期之和以及对半衰期进行从小到大的排序。"
   ]
  },
  {
   "cell_type": "code",
   "execution_count": 2,
   "metadata": {},
   "outputs": [
    {
     "name": "stdout",
     "output_type": "stream",
     "text": [
      "最大值为： 373300.0\n",
      "最小值为： 14\n",
      "和为： 404864.7\n",
      "从小到大排序为： [14, 887.7, 6563.0, 24100.0, 373300.0]\n"
     ]
    }
   ],
   "source": [
    "pu_237, pu_239, pu_240, pu_241, pu_242 = 887.7, 24100.0, 6563.0, 14, 373300.0\n",
    "a = max(pu_237, pu_239, pu_240, pu_241, pu_242)\n",
    "b = min(pu_237, pu_239, pu_240, pu_241, pu_242)\n",
    "c = sum([pu_237, pu_239, pu_240, pu_241, pu_242])\n",
    "ls = [pu_237, pu_239, pu_240, pu_241, pu_242]\n",
    "ls1 = sorted(ls)\n",
    "print(\"最大值为：\", a)\n",
    "print(\"最小值为：\", b)\n",
    "print(\"和为：\", c)\n",
    "print(\"从小到大排序为：\", ls1)"
   ]
  },
  {
   "cell_type": "markdown",
   "metadata": {},
   "source": [
    "## Exercise 2  \n",
    "变量名colleges = ['农学','植保','园林','园艺','资环','信息','机电','水利'], 分别使用正向引用和反向引用对colleges进行操作，使得输出为：  \n",
    "a. colleges的第一个元素  \n",
    "b. colleges的最后一个元素  \n",
    "c. 列表['园艺','资环','信息']  \n",
    "d. 列表['农学','园艺','机电']  \n",
    "e. 列表['水利','机电']  "
   ]
  },
  {
   "cell_type": "code",
   "execution_count": 1,
   "metadata": {},
   "outputs": [
    {
     "name": "stdout",
     "output_type": "stream",
     "text": [
      "农学\n",
      "水利\n",
      "['园艺', '资环', '信息']\n",
      "['农学', '园艺', '机电']\n",
      "['水利', '机电']\n"
     ]
    }
   ],
   "source": [
    "colleges = ['农学', '植保', '园林', '园艺', '资环', '信息', '机电', '水利']\n",
    "print(colleges[0])\n",
    "print(colleges[-1])\n",
    "print(colleges[3:-2])\n",
    "print(colleges[::3])\n",
    "print(colleges[:-3:-1])"
   ]
  },
  {
   "cell_type": "markdown",
   "metadata": {},
   "source": [
    "## Exercise 3  \n",
    "\n",
    "每一个人都有生日，偶尔会遇到和自己同一天过生日的人。请编程模拟，50个人当中出现同一天生日的人概率有多大？  \n",
    "\n",
    "**hint**:\n",
    "\n",
    "randint(1,365): 产生一个随机整数表示生日。"
   ]
  },
  {
   "cell_type": "code",
   "execution_count": 1,
   "metadata": {},
   "outputs": [
    {
     "name": "stdout",
     "output_type": "stream",
     "text": [
      "0.9716\n"
     ]
    }
   ],
   "source": [
    "from random import randint\n",
    "\n",
    "times = 10000\n",
    "count = 0\n",
    "for _ in range(times):\n",
    "    if len({randint(1, 365) for _ in range(50)}) != 50:\n",
    "        count += 1\n",
    "print(count / times)"
   ]
  },
  {
   "cell_type": "markdown",
   "metadata": {},
   "source": [
    "## Exercise 4  \n",
    "创建一个列表，包含以下温度（单位：摄氏度）：25.2,16.8,31.4,23.9,28,22.5,16.9; 列表名为 temps\n",
    "a. 将列表内的元素从小到大排序  \n",
    "b. 根据temps，创建两个新列表 cool_temps 和 warm_temps, 分别表示20度以下和20度以上的温度  "
   ]
  },
  {
   "cell_type": "code",
   "execution_count": 9,
   "metadata": {},
   "outputs": [
    {
     "name": "stdout",
     "output_type": "stream",
     "text": [
      "排序后的列表为： [16.8, 16.9, 22.5, 23.9, 25.2, 28, 31.4]\n",
      "20度以上的温度是： [22.5, 23.9, 25.2, 28, 31.4]\n",
      "20度以下的温度是： [16.8, 16.9]\n"
     ]
    }
   ],
   "source": [
    "temp = [25.2, 16.8, 31.4, 23.9, 28, 22.5, 16.9]\n",
    "temps = sorted(temp)\n",
    "warm_temps = []\n",
    "cool_temps = []\n",
    "for i in temps:\n",
    "    if i > 20:\n",
    "        warm_temps.append(i)\n",
    "    else:\n",
    "        cool_temps.append(i)\n",
    "print(\"排序后的列表为：\", temps)\n",
    "print(\"20度以上的温度是：\", warm_temps)\n",
    "print(\"20度以下的温度是：\", cool_temps)\n"
   ]
  },
  {
   "cell_type": "markdown",
   "metadata": {},
   "source": [
    "## Exercise 5  \n",
    "完善以下代码，实现功能"
   ]
  },
  {
   "cell_type": "code",
   "execution_count": 2,
   "metadata": {},
   "outputs": [],
   "source": [
    "def same_first_last(lst):\n",
    "    \"\"\"\n",
    "    (list) -> bool\n",
    "    \n",
    "    Return True if and only if first item of the list is the same as the last;\n",
    "    \n",
    "    >>>same_first_last([3,4,2,8,1])\n",
    "    False\n",
    "    >>>same_first_last(['apple','banana','apple'])\n",
    "    True\n",
    "    \"\"\"\n",
    "    pass"
   ]
  },
  {
   "cell_type": "code",
   "execution_count": 3,
   "metadata": {
    "pycharm": {
     "name": "#%%\n"
    }
   },
   "outputs": [
    {
     "name": "stdout",
     "output_type": "stream",
     "text": [
      "['apple', 'banana', 'apple']\n",
      "True\n"
     ]
    }
   ],
   "source": [
    "def same_first_last(lst):\n",
    "    \"\"\"\n",
    "    (list) -> bool\n",
    "    Return True if and only if first item of the list is the same as the last;\n",
    "    >>>same_first_last([3,4,2,8,1])\n",
    "    False\n",
    "    >>>same_first_last(['apple','banana','apple'])\n",
    "    True\n",
    "    \"\"\"\n",
    "    if lst[0] == lst[-1]:\n",
    "        return True\n",
    "    return False\n",
    "\n",
    "\n",
    "ls = list(input(\"请输入：\").split(','))\n",
    "print(ls)\n",
    "print(same_first_last(ls))\n"
   ]
  },
  {
   "cell_type": "markdown",
   "metadata": {},
   "source": [
    "## Exercise 6  \n",
    "实现一个函数find_dups，其功能为输入一个列表，输出列表中至少出现一次的元素集合。"
   ]
  },
  {
   "cell_type": "code",
   "execution_count": 9,
   "metadata": {},
   "outputs": [
    {
     "name": "stdout",
     "output_type": "stream",
     "text": [
      "{1, 2, 4}\n"
     ]
    }
   ],
   "source": [
    "# 实现一个函数find_dups，其功能为输入一个列表，输出列表中至少出现一次的元素集合\n",
    "def find_dups(lst):\n",
    "    return {x for x in lst if lst.count(x) > 1}\n",
    "\n",
    "\n",
    "ls = [1, 2, 7, 4, 2, 4, 6, 1]\n",
    "print(find_dups(ls))\n"
   ]
  },
  {
   "cell_type": "markdown",
   "metadata": {},
   "source": [
    "## Exercise 7  \n",
    "实现一个函数mating_pairs, 其功能为输入两个大小相同的集合，输出集合的元素为由来自两个输入集合的元素组成的元组。"
   ]
  },
  {
   "cell_type": "code",
   "execution_count": 6,
   "metadata": {},
   "outputs": [],
   "source": [
    "def mating_pairs(set_a, set_b):\n",
    "    \"\"\"(set_a,set_b) -> set_c\n",
    "    \n",
    "    对两个输入集合中的元素进行配对，并以元组的形式组合，最后输出集合。\n",
    "    >>>set_a = {1,2,3}\n",
    "    >>>set_b = {'a','b','c'}\n",
    "    >>>mating_pairs(set_a,set_b)\n",
    "    {(1,'b'),(3,'a'),(2,'c')}\n",
    "    \"\"\"\n"
   ]
  },
  {
   "cell_type": "code",
   "execution_count": 12,
   "metadata": {
    "pycharm": {
     "name": "#%%\n"
    }
   },
   "outputs": [
    {
     "data": {
      "text/plain": "{(1, 'b'), (2, 'c'), (3, 'a')}"
     },
     "execution_count": 12,
     "metadata": {},
     "output_type": "execute_result"
    }
   ],
   "source": [
    "def mating_pairs(set_a, set_b):\n",
    "    \"\"\"(set_a,set_b) -> set_c\n",
    "\n",
    "    对两个输入集合中的元素进行配对，并以元组的形式组合，最后输出集合。\n",
    "    >>>set_a = {1,2,3}\n",
    "    >>>set_b = {'a','b','c'}\n",
    "    >>>mating_pairs(set_a,set_b)\n",
    "    {(1,'b'),(3,'a'),(2,'c')}\n",
    "    \"\"\"\n",
    "    # setall = set()\n",
    "    # set_1 = list(set_a)\n",
    "    # set_2 = list(set_b)\n",
    "    # for i in range(len(set_a)):\n",
    "    #     setall.add((set_1[i], set_2[i]))\n",
    "    # return setall\n",
    "    return {(a, b) for a, b in zip(set_a, set_b)}\n",
    "\n",
    "\n",
    "set_a = {1, 2, 3}\n",
    "set_b = {'a', 'b', 'c'}\n",
    "mating_pairs(set_a, set_b)\n"
   ]
  },
  {
   "cell_type": "markdown",
   "metadata": {},
   "source": [
    "## Exercise 8  \n",
    "实现一个函数count_values，其功能为统计字典中不同的值的个数。例如：输入{'red':1,'green':1,'blue':2}, 输出2"
   ]
  },
  {
   "cell_type": "code",
   "execution_count": 14,
   "metadata": {},
   "outputs": [
    {
     "name": "stdout",
     "output_type": "stream",
     "text": [
      "2\n"
     ]
    }
   ],
   "source": [
    "def count_values(dict):\n",
    "    # ls = []\n",
    "    # for value in dict.values():\n",
    "    #     ls.append(value)\n",
    "    # return len(set(ls))\n",
    "    return len(set(dict.values()))\n",
    "\n",
    "\n",
    "dict1 = {'red': 1, 'green': 1, 'blue': 2}\n",
    "print(count_values(dict1))\n"
   ]
  },
  {
   "cell_type": "markdown",
   "metadata": {},
   "source": [
    "## Exercise 9\n",
    "实现一个函数count_duplicates, 其功能为统计字典中出现2次以上的值的个数。"
   ]
  },
  {
   "cell_type": "code",
   "execution_count": 9,
   "metadata": {},
   "outputs": [
    {
     "data": {
      "text/plain": "1"
     },
     "execution_count": 9,
     "metadata": {},
     "output_type": "execute_result"
    }
   ],
   "source": [
    "def count_duplicates(dict):\n",
    "    return len({values for values in dict.values() if list(dict.values()).count(values) > 1})\n",
    "\n",
    "\n",
    "count_duplicates({'red': 1, 'green': 1, 'blue': 2, 'brown': 1})"
   ]
  },
  {
   "cell_type": "markdown",
   "metadata": {},
   "source": [
    "## Exercise 10  \n",
    "一种颜色如果在R、G、B三个分量上相加之和为1，即被称之为平衡色。现有一个字典，keys为'R','G','B',对应的值为0到1之间的一个小数。请实现函数is_balanced判断是否为平衡色。（是则输出True，否则输出False）"
   ]
  },
  {
   "cell_type": "code",
   "execution_count": 14,
   "metadata": {},
   "outputs": [
    {
     "name": "stdout",
     "output_type": "stream",
     "text": [
      "False\n",
      "True\n",
      "True\n"
     ]
    }
   ],
   "source": [
    "def judge(dict):\n",
    "    return round(sum(dict.values())) == 1\n",
    "\n",
    "\n",
    "print(judge({'R': 0.4, 'G': 0.3, 'B': 0.8}))\n",
    "print(judge({'R': 0.4, 'G': 0.3, 'B': 0.3}))\n",
    "print(judge({'R': 0.999, 'G': 0.0005, 'B': 0.0005}))\n"
   ]
  },
  {
   "cell_type": "markdown",
   "metadata": {},
   "source": [
    "## Exercise 11\n",
    "实现一个函数dict_intersect，其功能为产生一个新的字典，使得新字典中只包括输入的两个字典中都存在的键值对(即字典的交集运算)。"
   ]
  },
  {
   "cell_type": "code",
   "execution_count": 15,
   "metadata": {},
   "outputs": [
    {
     "name": "stdout",
     "output_type": "stream",
     "text": [
      "{('x', 1), ('y', 2)}\n"
     ]
    }
   ],
   "source": [
    "def dict_intersect(dict1, dict2):\n",
    "    return set(dict1.items()) & set(dict2.items())\n",
    "\n",
    "\n",
    "a = {'x': 1, 'y': 2, 'z': 3, 'n': 5}\n",
    "b = {'a': 1, 'b': 2, 'w': 3, 'x': 1, 'y': 2}\n",
    "print(dict_intersect(a, b))\n"
   ]
  },
  {
   "cell_type": "markdown",
   "metadata": {
    "pycharm": {
     "name": "#%% md\n"
    }
   },
   "source": [
    "## Exercise 12\n",
    "有时候字典也被当做简单的数据库。下面的字典包括了几位科学家的信息。"
   ]
  },
  {
   "cell_type": "code",
   "execution_count": 17,
   "metadata": {},
   "outputs": [],
   "source": [
    "scientists = {'jgoodall': {'surname': 'Goodall',\n",
    "                           'forename': 'Jane',\n",
    "                           'born': 1934,\n",
    "                           'died': None,\n",
    "                           'notes': 'primate researcher',\n",
    "                           'author': ['In the Shadow of Man',\n",
    "                                      'The Chimpanzees of Gombe']},\n",
    "              'rfranklin': {'surname': 'Franklin',\n",
    "                            'forename': 'Rosalind',\n",
    "                            'born': 1920,\n",
    "                            'died': 1957,\n",
    "                            'notes': 'contributed to discovery of DNA'},\n",
    "              'rcarson': {'surname': 'Carson',\n",
    "                          'forename': 'Rachel',\n",
    "                          'born': 1907,\n",
    "                          'died': 1964,\n",
    "                          'notes': 'raised awareness of effects of DDT',\n",
    "                          'author': ['Silent Spring']}\n",
    "              }\n"
   ]
  },
  {
   "cell_type": "markdown",
   "metadata": {},
   "source": [
    "a. 实现一个函数db_headings 返回内嵌字典的keys集合。例如：本例中应当返回set('author','forename','surname','notes','born','died')"
   ]
  },
  {
   "cell_type": "code",
   "execution_count": 19,
   "metadata": {},
   "outputs": [
    {
     "name": "stdout",
     "output_type": "stream",
     "text": [
      "{'surname', 'notes', 'died', 'born', 'forename', 'author'}\n"
     ]
    }
   ],
   "source": [
    "def db_headings(dict):\n",
    "    # ls = []\n",
    "    # for value in dict.values():\n",
    "    #     for key1 in value.keys():\n",
    "    #         ls.append(key1)\n",
    "    return set(key for values in dict.values() for key in values.keys())\n",
    "\n",
    "\n",
    "print(db_headings(scientists))"
   ]
  },
  {
   "cell_type": "markdown",
   "metadata": {},
   "source": [
    "b. 实现一个函数db_consistent返回是否所有的内嵌字典拥有相同的keys。例如：本例中Rosalind Franklin没有author，因此返回False"
   ]
  },
  {
   "cell_type": "code",
   "execution_count": 20,
   "metadata": {},
   "outputs": [
    {
     "ename": "AttributeError",
     "evalue": "'str' object has no attribute 'keys'",
     "output_type": "error",
     "traceback": [
      "\u001B[1;31m---------------------------------------------------------------------------\u001B[0m",
      "\u001B[1;31mAttributeError\u001B[0m                            Traceback (most recent call last)",
      "\u001B[1;32m~\\AppData\\Local\\Temp\\ipykernel_16408\\3186187977.py\u001B[0m in \u001B[0;36m<module>\u001B[1;34m\u001B[0m\n\u001B[0;32m     15\u001B[0m \u001B[1;33m\u001B[0m\u001B[0m\n\u001B[0;32m     16\u001B[0m \u001B[1;33m\u001B[0m\u001B[0m\n\u001B[1;32m---> 17\u001B[1;33m \u001B[0mprint\u001B[0m\u001B[1;33m(\u001B[0m\u001B[0mdb_consistent\u001B[0m\u001B[1;33m(\u001B[0m\u001B[0mscientists\u001B[0m\u001B[1;33m)\u001B[0m\u001B[1;33m)\u001B[0m\u001B[1;33m\u001B[0m\u001B[1;33m\u001B[0m\u001B[0m\n\u001B[0m",
      "\u001B[1;32m~\\AppData\\Local\\Temp\\ipykernel_16408\\3186187977.py\u001B[0m in \u001B[0;36mdb_consistent\u001B[1;34m(dict)\u001B[0m\n\u001B[0;32m     12\u001B[0m     \u001B[1;31m#         return False\u001B[0m\u001B[1;33m\u001B[0m\u001B[1;33m\u001B[0m\u001B[0m\n\u001B[0;32m     13\u001B[0m     \u001B[1;31m# return True\u001B[0m\u001B[1;33m\u001B[0m\u001B[1;33m\u001B[0m\u001B[0m\n\u001B[1;32m---> 14\u001B[1;33m     \u001B[1;32mreturn\u001B[0m \u001B[0mlen\u001B[0m\u001B[1;33m(\u001B[0m\u001B[1;33m{\u001B[0m\u001B[0mkey\u001B[0m \u001B[1;32mfor\u001B[0m \u001B[0mvalues\u001B[0m \u001B[1;32min\u001B[0m \u001B[0mdict\u001B[0m\u001B[1;33m.\u001B[0m\u001B[0mkeys\u001B[0m\u001B[1;33m(\u001B[0m\u001B[1;33m)\u001B[0m \u001B[1;32mfor\u001B[0m \u001B[0mkey\u001B[0m \u001B[1;32min\u001B[0m \u001B[0mvalues\u001B[0m\u001B[1;33m.\u001B[0m\u001B[0mkeys\u001B[0m\u001B[1;33m(\u001B[0m\u001B[1;33m)\u001B[0m\u001B[1;33m}\u001B[0m\u001B[1;33m)\u001B[0m \u001B[1;33m==\u001B[0m \u001B[1;36m1\u001B[0m\u001B[1;33m\u001B[0m\u001B[1;33m\u001B[0m\u001B[0m\n\u001B[0m\u001B[0;32m     15\u001B[0m \u001B[1;33m\u001B[0m\u001B[0m\n\u001B[0;32m     16\u001B[0m \u001B[1;33m\u001B[0m\u001B[0m\n",
      "\u001B[1;32m~\\AppData\\Local\\Temp\\ipykernel_16408\\3186187977.py\u001B[0m in \u001B[0;36m<setcomp>\u001B[1;34m(.0)\u001B[0m\n\u001B[0;32m     12\u001B[0m     \u001B[1;31m#         return False\u001B[0m\u001B[1;33m\u001B[0m\u001B[1;33m\u001B[0m\u001B[0m\n\u001B[0;32m     13\u001B[0m     \u001B[1;31m# return True\u001B[0m\u001B[1;33m\u001B[0m\u001B[1;33m\u001B[0m\u001B[0m\n\u001B[1;32m---> 14\u001B[1;33m     \u001B[1;32mreturn\u001B[0m \u001B[0mlen\u001B[0m\u001B[1;33m(\u001B[0m\u001B[1;33m{\u001B[0m\u001B[0mkey\u001B[0m \u001B[1;32mfor\u001B[0m \u001B[0mvalues\u001B[0m \u001B[1;32min\u001B[0m \u001B[0mdict\u001B[0m\u001B[1;33m.\u001B[0m\u001B[0mkeys\u001B[0m\u001B[1;33m(\u001B[0m\u001B[1;33m)\u001B[0m \u001B[1;32mfor\u001B[0m \u001B[0mkey\u001B[0m \u001B[1;32min\u001B[0m \u001B[0mvalues\u001B[0m\u001B[1;33m.\u001B[0m\u001B[0mkeys\u001B[0m\u001B[1;33m(\u001B[0m\u001B[1;33m)\u001B[0m\u001B[1;33m}\u001B[0m\u001B[1;33m)\u001B[0m \u001B[1;33m==\u001B[0m \u001B[1;36m1\u001B[0m\u001B[1;33m\u001B[0m\u001B[1;33m\u001B[0m\u001B[0m\n\u001B[0m\u001B[0;32m     15\u001B[0m \u001B[1;33m\u001B[0m\u001B[0m\n\u001B[0;32m     16\u001B[0m \u001B[1;33m\u001B[0m\u001B[0m\n",
      "\u001B[1;31mAttributeError\u001B[0m: 'str' object has no attribute 'keys'"
     ]
    }
   ],
   "source": [
    "def db_consistent(dict):\n",
    "    # ls0 = []\n",
    "    # ls1 = []\n",
    "    # for value in dict.values():\n",
    "    #     for key1 in value.keys():\n",
    "    #         ls1.append(key1)\n",
    "    #     ls0.insert(-1, ls1)\n",
    "    #     ls1 = []\n",
    "    # count = db_headings(dict)\n",
    "    # for i in range(len(ls0)):\n",
    "    #     if len(ls0[i]) != len(count):\n",
    "    #         return False\n",
    "    # return True\n",
    "    return len({key for values in dict.keys() for key in values.keys()}) == 1\n",
    "\n",
    "\n",
    "print(db_consistent(scientists))"
   ]
  },
  {
   "cell_type": "markdown",
   "metadata": {},
   "source": [
    "#课堂作业题"
   ]
  },
  {
   "cell_type": "code",
   "execution_count": 21,
   "metadata": {
    "pycharm": {
     "name": "#%%\n"
    }
   },
   "outputs": [
    {
     "name": "stdout",
     "output_type": "stream",
     "text": [
      "前五个国家为：\n",
      "Iceland,Switzerland,Sweden,Macedonia,Denmark,\n",
      "后五个国家为：\n",
      "Saudi Arabia,Algeria,Tunisia,Turkey,Jamaica,\n",
      "中国位置为： 22\n"
     ]
    }
   ],
   "source": [
    "\n",
    "file1 = open('women_labor.csv', 'r')\n",
    "data = {}\n",
    "with open(\"women_labor.csv\", 'r', encoding='utf-8') as reader:\n",
    "    reader.readline()\n",
    "    for line in reader:\n",
    "        data[line.strip('\\n').split(',')[1]] = line.strip('\\n').split(',')[8]\n",
    "data1 = sorted(data.items(), key=lambda x: x[1], reverse=True)\n",
    "print(\"前五个国家为：\")\n",
    "for i in range(5):\n",
    "    print(data1[i][0], end=',')\n",
    "print(\"\\n后五个国家为：\")\n",
    "for i in range(5):\n",
    "    print(data1[-1 - i][0], end=',')\n",
    "a = str(data.get('China'))\n",
    "china = data1.index(('China', a))\n",
    "print('\\n中国位置为：', china)\n"
   ]
  }
 ],
 "metadata": {
  "kernelspec": {
   "name": "pycharm-project2",
   "language": "python",
   "display_name": "PyCharm (project2)"
  },
  "language_info": {
   "codemirror_mode": {
    "name": "ipython",
    "version": 3
   },
   "file_extension": ".py",
   "mimetype": "text/x-python",
   "name": "python",
   "nbconvert_exporter": "python",
   "pygments_lexer": "ipython3",
   "version": "3.9.7"
  }
 },
 "nbformat": 4,
 "nbformat_minor": 4
}