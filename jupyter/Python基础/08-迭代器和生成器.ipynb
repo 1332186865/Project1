{
 "cells": [
  {
   "cell_type": "markdown",
   "metadata": {},
   "source": [
    "# 1. 可迭代对象 (Iterable)"
   ]
  },
  {
   "cell_type": "markdown",
   "metadata": {},
   "source": [
    "<img src=\"resource/可迭代对象.jpg\" style=\"zoom:80%\">"
   ]
  },
  {
   "cell_type": "markdown",
   "metadata": {},
   "source": [
    "**可迭代对象（Iterable）**：支持使用for循环的方式一次访问自己的一个元素；任何在类中实现了\\_\\_iter\\_\\_方法或者在\\_\\_getitem\\_\\_方法中实现取出序列操作的类对象都是可迭代对象"
   ]
  },
  {
   "cell_type": "markdown",
   "metadata": {},
   "source": [
    "<img src=\"resource/可迭代对象、迭代器、生成器的联系.png\" style=\"zoom:80%\">  \n",
    "<center>Python的可迭代对象</center>"
   ]
  },
  {
   "cell_type": "code",
   "execution_count": 1,
   "metadata": {},
   "outputs": [
    {
     "data": {
      "text/plain": "<method-wrapper '__iter__' of str object at 0x00000209B0C02070>"
     },
     "execution_count": 1,
     "metadata": {},
     "output_type": "execute_result"
    }
   ],
   "source": [
    "\"abc\".__iter__ # 字符串对象有__iter__方法，因此字符串是可迭代对象"
   ]
  },
  {
   "cell_type": "code",
   "execution_count": 2,
   "metadata": {},
   "outputs": [
    {
     "data": {
      "text/plain": "<method-wrapper '__iter__' of list object at 0x00000209B567C7C0>"
     },
     "execution_count": 2,
     "metadata": {},
     "output_type": "execute_result"
    }
   ],
   "source": [
    "[1,2,3,4].__iter__ # 列表对象有__iter__方法，因此列表是可迭代对象"
   ]
  },
  {
   "cell_type": "code",
   "execution_count": 3,
   "metadata": {},
   "outputs": [
    {
     "ename": "AttributeError",
     "evalue": "'int' object has no attribute '__iter__'",
     "output_type": "error",
     "traceback": [
      "\u001B[1;31m---------------------------------------------------------------------------\u001B[0m",
      "\u001B[1;31mAttributeError\u001B[0m                            Traceback (most recent call last)",
      "\u001B[1;32m~\\AppData\\Local\\Temp\\ipykernel_15540\\3574273606.py\u001B[0m in \u001B[0;36m<module>\u001B[1;34m\u001B[0m\n\u001B[0;32m      1\u001B[0m \u001B[0ma\u001B[0m \u001B[1;33m=\u001B[0m \u001B[1;36m19\u001B[0m\u001B[1;33m\u001B[0m\u001B[1;33m\u001B[0m\u001B[0m\n\u001B[1;32m----> 2\u001B[1;33m \u001B[0ma\u001B[0m\u001B[1;33m.\u001B[0m\u001B[0m__iter__\u001B[0m \u001B[1;31m# 整型对象没有__iter__方法，因此int不是可迭代对象\u001B[0m\u001B[1;33m\u001B[0m\u001B[1;33m\u001B[0m\u001B[0m\n\u001B[0m",
      "\u001B[1;31mAttributeError\u001B[0m: 'int' object has no attribute '__iter__'"
     ]
    }
   ],
   "source": [
    "a = 19\n",
    "a.__iter__ # 整型对象没有__iter__方法，因此int不是可迭代对象"
   ]
  },
  {
   "cell_type": "markdown",
   "metadata": {},
   "source": [
    "也可以用内置函数iter()来判断是否为可迭代对象。"
   ]
  },
  {
   "cell_type": "code",
   "execution_count": null,
   "metadata": {},
   "outputs": [],
   "source": [
    "iter([1,2,3])"
   ]
  },
  {
   "cell_type": "code",
   "execution_count": null,
   "metadata": {},
   "outputs": [],
   "source": [
    "iter(\"Hello\")"
   ]
  },
  {
   "cell_type": "code",
   "execution_count": null,
   "metadata": {},
   "outputs": [],
   "source": [
    "iter(4)"
   ]
  },
  {
   "cell_type": "markdown",
   "metadata": {},
   "source": [
    "**注意**： iter() 方法返回了一个迭代器"
   ]
  },
  {
   "cell_type": "markdown",
   "metadata": {},
   "source": [
    "```课堂练习```  \n",
    "\n",
    "实现一个 is_iterable(param) 函数，判断 param 是不是可迭代对象。"
   ]
  },
  {
   "cell_type": "markdown",
   "metadata": {},
   "source": [
    "```参考```"
   ]
  },
  {
   "cell_type": "code",
   "execution_count": null,
   "metadata": {},
   "outputs": [],
   "source": [
    "def is_iterable(param):\n",
    "    \"\"\"判断 param 对象是不是可迭代对象 \n",
    "    \n",
    "    >>>is_iterable([1,2,3])\n",
    "    True\n",
    "    >>>is_iterable(123)\n",
    "    False    \n",
    "    \"\"\"\n",
    "    try:\n",
    "        iter(param)\n",
    "        return True\n",
    "    except TypeError:\n",
    "        return False\n",
    "    \n",
    "is_iterable(123)"
   ]
  },
  {
   "cell_type": "markdown",
   "metadata": {},
   "source": [
    "```课堂练习```  \n",
    "\n",
    "实现一个扑克牌类，能够进行按张迭代。"
   ]
  },
  {
   "cell_type": "code",
   "execution_count": 39,
   "metadata": {},
   "outputs": [
    {
     "name": "stdout",
     "output_type": "stream",
     "text": [
      "('♦', 'K')\n",
      "('♥', 'J')\n",
      "('♦', '8')\n",
      "('♣', '7')\n",
      "('♣', '1')\n",
      "('♥', '6')\n",
      "('♠', 'J')\n",
      "('♦', '5')\n",
      "('♥', '9')\n",
      "('♥', '2')\n",
      "('♣', '8')\n",
      "('♣', '3')\n",
      "('♥', 'K')\n",
      "('♣', '6')\n",
      "('♥', '8')\n",
      "('♦', '7')\n",
      "('♦', '6')\n",
      "('♦', '9')\n",
      "('♦', '10')\n",
      "('♠', 'Q')\n",
      "('♦', '4')\n",
      "('♥', '3')\n",
      "('♠', '1')\n",
      "('♣', 'Q')\n",
      "('♦', '1')\n",
      "('♥', '10')\n",
      "('♠', 'K')\n",
      "('♠', '8')\n",
      "('♥', '1')\n",
      "('♠', '4')\n",
      "('♣', '4')\n",
      "('♦', '2')\n",
      "('♦', 'J')\n",
      "('♥', '4')\n",
      "('♦', 'Q')\n",
      "('♣', '2')\n",
      "('♣', '10')\n",
      "('♠', '9')\n",
      "('♣', 'J')\n",
      "('♠', '6')\n",
      "('♥', 'Q')\n",
      "('♠', '10')\n",
      "('♣', '9')\n",
      "大王\n",
      "('♠', '3')\n",
      "小王\n",
      "('♣', '5')\n",
      "('♦', '3')\n",
      "('♣', 'K')\n",
      "('♠', '2')\n",
      "('♥', '5')\n",
      "('♠', '7')\n",
      "('♠', '5')\n",
      "('♥', '7')\n"
     ]
    }
   ],
   "source": [
    "import random\n",
    "\n",
    "class PokerCard:\n",
    "    \n",
    "    def __init__(self):\n",
    "        self.cards = [(pattern, number) for pattern in ('♠','♥','♦','♣') \n",
    "                     for number in list(\"123456789JQK\")+[\"10\"]] \n",
    "        self.cards.extend(('大王','小王'))\n",
    "        \n",
    "        \n",
    "    def __iter__(self):\n",
    "        return iter(self.cards)\n",
    "    \n",
    "    def shuffle(self):\n",
    "        \"\"\"\n",
    "        洗牌\n",
    "        \"\"\"\n",
    "        return random.shuffle(self.cards)\n",
    "\n",
    "cards = PokerCard()\n",
    "cards.shuffle()\n",
    "for card in cards:\n",
    "    print(card)"
   ]
  },
  {
   "cell_type": "markdown",
   "metadata": {},
   "source": [
    "```结果分析```：\n",
    "\n",
    "任何实现了__iter__方法的类的对象就是可迭代对象。本例其实是基于列表的迭代器来完成的，并没有真正定义迭代的规则。要真正定义迭代规则，须实现一个迭代器。"
   ]
  },
  {
   "cell_type": "markdown",
   "metadata": {},
   "source": [
    "# 2. 迭代器 Iterator   \n",
    "\n",
    "\n",
    "**for item in Iterable 循环的本质** 就是先通过 iter() 函数获取可迭代对象 Iterable 的迭代器，然后对获取到的迭代器不断调用next()方法来获取下一个值并将其赋值给item，当遇到StopIteration的异常后循环结束。"
   ]
  },
  {
   "cell_type": "code",
   "execution_count": 4,
   "metadata": {},
   "outputs": [
    {
     "data": {
      "text/plain": "<str_iterator at 0x209b56f81f0>"
     },
     "execution_count": 4,
     "metadata": {},
     "output_type": "execute_result"
    }
   ],
   "source": [
    "sentence = 'hello'\n",
    "iterator1 = iter(sentence)\n",
    "iterator1"
   ]
  },
  {
   "cell_type": "code",
   "execution_count": 5,
   "metadata": {},
   "outputs": [
    {
     "data": {
      "text/plain": "'h'"
     },
     "execution_count": 5,
     "metadata": {},
     "output_type": "execute_result"
    }
   ],
   "source": [
    "iterator1.__next__()"
   ]
  },
  {
   "cell_type": "code",
   "execution_count": 6,
   "metadata": {},
   "outputs": [
    {
     "data": {
      "text/plain": "'e'"
     },
     "execution_count": 6,
     "metadata": {},
     "output_type": "execute_result"
    }
   ],
   "source": [
    "iterator1.__next__()"
   ]
  },
  {
   "cell_type": "code",
   "execution_count": 7,
   "metadata": {},
   "outputs": [
    {
     "data": {
      "text/plain": "'l'"
     },
     "execution_count": 7,
     "metadata": {},
     "output_type": "execute_result"
    }
   ],
   "source": [
    "iterator1.__next__()"
   ]
  },
  {
   "cell_type": "code",
   "execution_count": 8,
   "metadata": {},
   "outputs": [
    {
     "data": {
      "text/plain": "'l'"
     },
     "execution_count": 8,
     "metadata": {},
     "output_type": "execute_result"
    }
   ],
   "source": [
    "iterator1.__next__()"
   ]
  },
  {
   "cell_type": "code",
   "execution_count": 9,
   "metadata": {},
   "outputs": [
    {
     "data": {
      "text/plain": "'o'"
     },
     "execution_count": 9,
     "metadata": {},
     "output_type": "execute_result"
    }
   ],
   "source": [
    "iterator1.__next__()"
   ]
  },
  {
   "cell_type": "code",
   "execution_count": 10,
   "metadata": {},
   "outputs": [
    {
     "name": "stdout",
     "output_type": "stream",
     "text": [
      "输出结束\n"
     ]
    }
   ],
   "source": [
    "try:\n",
    "    iterator1.__next__()\n",
    "except StopIteration:\n",
    "    print('输出结束')"
   ]
  },
  {
   "cell_type": "markdown",
   "metadata": {},
   "source": [
    "iterator 里的元素已经取完，因此再执行 next() 的时候会引发 StopIteration 的异常。可以说，迭代器就是一个实现了 \\_\\_iter\\__ 和 \\_\\_next\\__ 方法的类。  "
   ]
  },
  {
   "cell_type": "markdown",
   "metadata": {},
   "source": [
    "```课堂任务```  \n",
    "\n",
    "使用 while 循环，通过next方法遍历一个列表中的所有元素并打印"
   ]
  },
  {
   "cell_type": "code",
   "execution_count": 33,
   "metadata": {},
   "outputs": [
    {
     "name": "stdout",
     "output_type": "stream",
     "text": [
      "P,y,t,h,o,n, ,i,s, ,S,o, ,F,u,n,n,y,"
     ]
    }
   ],
   "source": [
    "alist = list(\"Python is So Funny\")\n",
    "alist_iter = iter(alist)\n",
    "while True:\n",
    "    try:\n",
    "        elemnt = next(alist_iter)\n",
    "        print(elemnt,end=',')\n",
    "    except StopIteration:\n",
    "        break\n",
    "        "
   ]
  },
  {
   "cell_type": "markdown",
   "metadata": {},
   "source": [
    "这个只是一个示例，我们大多数情况都是使用 for 循环来遍历一个可迭代对象的。但是了解迭代机制对我们自己定义一个可以迭代的类很有帮助。"
   ]
  },
  {
   "cell_type": "markdown",
   "metadata": {},
   "source": [
    "```例题```  \n",
    "\n",
    "使用迭代器的方式产生裴波那切数列。  "
   ]
  },
  {
   "cell_type": "code",
   "execution_count": 35,
   "metadata": {},
   "outputs": [],
   "source": [
    "# 一个实现了iter方法和next方法的对象，就是迭代器\n",
    "class Fibs:\n",
    "    \n",
    "    def __init__(self, N):\n",
    "        self.a = 1\n",
    "        self.b = 1\n",
    "        self.limit = N\n",
    "        \n",
    "    def __next__(self):\n",
    "        self.a, self.b = self.b, self.a + self.b\n",
    "        if self.b < self.limit:\n",
    "            return self.a\n",
    "        else:\n",
    "            raise StopIteration\n",
    "    \n",
    "    def __iter__(self):\n",
    "        return self"
   ]
  },
  {
   "cell_type": "code",
   "execution_count": 37,
   "metadata": {},
   "outputs": [],
   "source": [
    "fibs = Fibs(10000)"
   ]
  },
  {
   "cell_type": "code",
   "execution_count": 38,
   "metadata": {},
   "outputs": [
    {
     "name": "stdout",
     "output_type": "stream",
     "text": [
      "[1, 2, 3, 5, 8, 13, 21, 34, 55, 89, 144, 233, 377, 610, 987, 1597, 2584, 4181]\n"
     ]
    }
   ],
   "source": [
    "# 从迭代器中创建序列\n",
    "print(list(fibs))"
   ]
  },
  {
   "cell_type": "markdown",
   "metadata": {},
   "source": [
    "```课堂练习``` \n",
    "\n"
   ]
  },
  {
   "cell_type": "markdown",
   "metadata": {},
   "source": [
    "# 3. 生成器 Generator  \n",
    "\n",
    "\n",
    "如果需要容纳大量数据方便我们取用，可以直接创建一个列表。但是，受到内存限制，列表容量肯定是有限的，而且创建一个包含100万个元素的列表，不仅占用很大的存储空间，如果我们仅仅需要访问前面几个元素，那后面绝大多数元素占用的空间都白白浪费了。\n",
    "\n",
    "所以，如果列表元素可以按照某种算法推算出来，那我们是否可以在循环的过程中不断推算出后续的元素呢？这样就**不必创建完整的列表，从而节省大量的空间**。在Python中，这种**一边循环一边计算的机制，称为生成器：generator**\n",
    "\n",
    "Python中生成器是迭代器的一种，使用 **yield** 返回值，每次调用 yield 会暂停，下一次迭代的时候可以使用next()函数恢复生成器。"
   ]
  },
  {
   "cell_type": "markdown",
   "metadata": {},
   "source": [
    "### 创建生成器的方法"
   ]
  },
  {
   "cell_type": "markdown",
   "metadata": {},
   "source": [
    "**方法一：**\n",
    "只要把一个列表推导式的 \\[\\] 改为（），就可以创建一个generator"
   ]
  },
  {
   "cell_type": "code",
   "execution_count": null,
   "metadata": {},
   "outputs": [],
   "source": [
    "#列表推导式\n",
    "lst = [x*x for x in range(10)]\n",
    "lst"
   ]
  },
  {
   "cell_type": "code",
   "execution_count": null,
   "metadata": {},
   "outputs": [],
   "source": [
    "#生成器\n",
    "generator_ex = (x*x for x in range(10))\n",
    "print(generator_ex)"
   ]
  },
  {
   "cell_type": "code",
   "execution_count": null,
   "metadata": {},
   "outputs": [],
   "source": [
    "#生成器\n",
    "generator_ex = (x*x for x in range(10))\n",
    "print(next(generator_ex))\n",
    "print(next(generator_ex))\n",
    "print(next(generator_ex))\n",
    "print(next(generator_ex))\n",
    "print(next(generator_ex))\n",
    "print(next(generator_ex))\n",
    "print(next(generator_ex))\n",
    "print(next(generator_ex))\n",
    "print(next(generator_ex))\n",
    "print(next(generator_ex))\n",
    "print(next(generator_ex))"
   ]
  },
  {
   "cell_type": "markdown",
   "metadata": {},
   "source": [
    "大家可以看到，generator里面其实保存的是算法，每次调用 **next(generaotr_ex)** 就计算出它的下一个元素的值，直到计算出最后一个元素，没有更多的元素时，抛出StopIteration的错误。  \n",
    "而且上面这样不断调用是一个不好的习惯。正确的方法是使用for循环（generator也是迭代器，也支持for循环取元素）"
   ]
  },
  {
   "cell_type": "code",
   "execution_count": null,
   "metadata": {},
   "outputs": [],
   "source": [
    "#生成器\n",
    "generator_ex = (x*x for x in range(10))\n",
    "for i in generator_ex:\n",
    "    print(i)"
   ]
  },
  {
   "cell_type": "markdown",
   "metadata": {},
   "source": [
    "**方法二:**  \n",
    "如果推算下一个元素的算法比较复杂，用类似列表生成式的一行代码无法实现的时候，还可以用函数来实现，并且在生成下一个值的地方使用 **yield** 关键字。这样带有 yield 关键字的函数就返回了一个生成器"
   ]
  },
  {
   "cell_type": "code",
   "execution_count": 1,
   "metadata": {},
   "outputs": [
    {
     "data": {
      "text/plain": [
       "<generator object fib2 at 0x00000298A512E430>"
      ]
     },
     "execution_count": 1,
     "metadata": {},
     "output_type": "execute_result"
    }
   ],
   "source": [
    "# 使用生成器来产生斐波那契数列\n",
    "def fib2(max_value):\n",
    "    n,a,b =0,0,1\n",
    "    while n < max_value:\n",
    "        yield b\n",
    "        a,b =b,a+b\n",
    "        n = n+1\n",
    "\n",
    "fib_generator = fib2(5)\n",
    "fib_generator"
   ]
  },
  {
   "cell_type": "code",
   "execution_count": 2,
   "metadata": {},
   "outputs": [
    {
     "name": "stdout",
     "output_type": "stream",
     "text": [
      "1\n",
      "1\n",
      "2\n",
      "3\n",
      "5\n"
     ]
    }
   ],
   "source": [
    "for i in fib_generator:\n",
    "    print(i)"
   ]
  },
  {
   "cell_type": "markdown",
   "metadata": {},
   "source": [
    "**生成generator函数的执行流程:** 函数是顺序执行的，遇到 return 语句或者函数的最后一行语句就返回，而变成generator 的函数在每次调用 next() 的时候执行，遇到 yield 语句返回，再次被 next（）调用时候从上次的返回 yield 语句处继续执行，也就是用多少，取多少，不占内存。"
   ]
  },
  {
   "cell_type": "code",
   "execution_count": 47,
   "metadata": {},
   "outputs": [],
   "source": [
    "def count(n):\n",
    "    while n > 0:\n",
    "        print('before yield')\n",
    "        yield n\n",
    "        n -= 1\n",
    "        print('after yield')"
   ]
  },
  {
   "cell_type": "code",
   "execution_count": 48,
   "metadata": {},
   "outputs": [],
   "source": [
    "test = count(3)"
   ]
  },
  {
   "cell_type": "code",
   "execution_count": 49,
   "metadata": {},
   "outputs": [
    {
     "name": "stdout",
     "output_type": "stream",
     "text": [
      "before yield\n"
     ]
    },
    {
     "data": {
      "text/plain": [
       "3"
      ]
     },
     "execution_count": 49,
     "metadata": {},
     "output_type": "execute_result"
    }
   ],
   "source": [
    "test.__next__()"
   ]
  },
  {
   "cell_type": "code",
   "execution_count": 50,
   "metadata": {},
   "outputs": [
    {
     "name": "stdout",
     "output_type": "stream",
     "text": [
      "after yield\n",
      "before yield\n"
     ]
    },
    {
     "data": {
      "text/plain": [
       "2"
      ]
     },
     "execution_count": 50,
     "metadata": {},
     "output_type": "execute_result"
    }
   ],
   "source": [
    "test.__next__()"
   ]
  },
  {
   "cell_type": "code",
   "execution_count": 51,
   "metadata": {},
   "outputs": [
    {
     "name": "stdout",
     "output_type": "stream",
     "text": [
      "after yield\n",
      "before yield\n"
     ]
    },
    {
     "data": {
      "text/plain": [
       "1"
      ]
     },
     "execution_count": 51,
     "metadata": {},
     "output_type": "execute_result"
    }
   ],
   "source": [
    "test.__next__()"
   ]
  },
  {
   "cell_type": "code",
   "execution_count": 52,
   "metadata": {},
   "outputs": [
    {
     "name": "stdout",
     "output_type": "stream",
     "text": [
      "after yield\n"
     ]
    },
    {
     "ename": "StopIteration",
     "evalue": "",
     "output_type": "error",
     "traceback": [
      "\u001B[1;31m---------------------------------------------------------------------------\u001B[0m",
      "\u001B[1;31mStopIteration\u001B[0m                             Traceback (most recent call last)",
      "\u001B[1;32m~\\AppData\\Local\\Temp/ipykernel_12864/4090115181.py\u001B[0m in \u001B[0;36m<module>\u001B[1;34m\u001B[0m\n\u001B[1;32m----> 1\u001B[1;33m \u001B[0mtest\u001B[0m\u001B[1;33m.\u001B[0m\u001B[0m__next__\u001B[0m\u001B[1;33m(\u001B[0m\u001B[1;33m)\u001B[0m\u001B[1;33m\u001B[0m\u001B[1;33m\u001B[0m\u001B[0m\n\u001B[0m",
      "\u001B[1;31mStopIteration\u001B[0m: "
     ]
    }
   ],
   "source": [
    "test.__next__()"
   ]
  },
  {
   "cell_type": "markdown",
   "metadata": {},
   "source": [
    "```课堂练习```  \n",
    "\n",
    "输入一个数字 n，写一个程序判断 0 到 n 之间的偶数，并用逗号分隔来输出。"
   ]
  },
  {
   "cell_type": "code",
   "execution_count": 53,
   "metadata": {},
   "outputs": [
    {
     "name": "stdout",
     "output_type": "stream",
     "text": [
      "0,2,4,6,8,10,12,14,16,18,20,"
     ]
    }
   ],
   "source": [
    "def generate_even(n):\n",
    "    num = 0\n",
    "    while num <= n:\n",
    "        if num%2 == 0:\n",
    "            yield num\n",
    "        num += 1\n",
    "\n",
    "for i in generate_even(20):\n",
    "    print(i,end=',')"
   ]
  },
  {
   "cell_type": "markdown",
   "metadata": {},
   "source": [
    "```课堂练习```  \n",
    "\n",
    "按照规则从文件内搜索匹配一定格式的文本行。"
   ]
  },
  {
   "cell_type": "code",
   "execution_count": null,
   "metadata": {},
   "outputs": [],
   "source": []
  },
  {
   "cell_type": "code",
   "execution_count": 3,
   "metadata": {},
   "outputs": [],
   "source": [
    "def readfile(filename):\n",
    "    \"\"\"打开一个文件，并返回每一行文件的内容\"\"\"\n",
    "    with open(filename,'r',encoding='utf-8') as reader:\n",
    "        for line in reader:\n",
    "            yield line\n",
    "\n",
    "def grep(pattern, lines):\n",
    "    \"\"\"返回匹配 pattern 字符串的所有行\"\"\"\n",
    "    return (line for line in lines if pattern in line)\n",
    "\n",
    "def printlines(lines):\n",
    "    \"\"\"打印所有行\"\"\"\n",
    "    for line in lines:\n",
    "        print(line, end=\"\")\n",
    "\n",
    "def main(pattern, filename):\n",
    "    lines = readfile(filename)\n",
    "    lines = grep(pattern, lines)\n",
    "    printlines(lines)"
   ]
  },
  {
   "cell_type": "code",
   "execution_count": 5,
   "metadata": {},
   "outputs": [
    {
     "name": "stdout",
     "output_type": "stream",
     "text": [
      "{\"index\": \"44\", \"image\": \"https://p0.meituan.net/moviemachine/081194992e014d3d7ff17aa7d0598179919881.jpg@160w_220h_1e_1c\", \"title\": \"末代皇帝\", \"actor\": \"尊龙,陈冲,彼得·奥图尔\", \"time\": \"1987-10-04(日本)\", \"score\": \"8.8\"}\n",
      "{\"index\": \"44\", \"image\": \"https://p0.meituan.net/moviemachine/081194992e014d3d7ff17aa7d0598179919881.jpg@160w_220h_1e_1c\", \"title\": \"末代皇帝\", \"actor\": \"尊龙,陈冲,彼得·奥图尔\", \"time\": \"1987-10-04(日本)\", \"score\": \"8.8\"}\n"
     ]
    }
   ],
   "source": [
    "main('陈冲','data\\\\movies.txt')"
   ]
  },
  {
   "cell_type": "markdown",
   "metadata": {},
   "source": [
    "# iteratools  \n",
    "提供了一系列用于操作iterator的函数"
   ]
  },
  {
   "cell_type": "code",
   "execution_count": null,
   "metadata": {},
   "outputs": [],
   "source": [
    "import itertools"
   ]
  },
  {
   "cell_type": "code",
   "execution_count": null,
   "metadata": {},
   "outputs": [],
   "source": [
    "# 累加\n",
    "x = itertools.accumulate(range(10))\n",
    "x"
   ]
  },
  {
   "cell_type": "code",
   "execution_count": null,
   "metadata": {},
   "outputs": [],
   "source": [
    "list(x)"
   ]
  },
  {
   "cell_type": "code",
   "execution_count": null,
   "metadata": {},
   "outputs": [],
   "source": [
    "# 连接多个列表或者迭代器\n",
    "x = itertools.chain(range(3), range(4), [3,2,1])\n",
    "list(x)"
   ]
  },
  {
   "cell_type": "code",
   "execution_count": null,
   "metadata": {},
   "outputs": [],
   "source": [
    "# 求列表或生成器中指定数目的元素不重复的所有组合\n",
    "x = itertools.combinations(range(4), 3)\n",
    "list(x)"
   ]
  },
  {
   "cell_type": "code",
   "execution_count": null,
   "metadata": {},
   "outputs": [],
   "source": [
    "# 允许重复元素的组合\n",
    "x = itertools.combinations_with_replacement('ABC', 2)\n",
    "list(x)"
   ]
  },
  {
   "cell_type": "code",
   "execution_count": null,
   "metadata": {},
   "outputs": [],
   "source": [
    "# 按照真值表筛选元素\n",
    "x = itertools.compress(range(5), (True, False, True, True, False))\n",
    "list(x)"
   ]
  },
  {
   "cell_type": "code",
   "execution_count": null,
   "metadata": {},
   "outputs": [],
   "source": [
    "# 切片 start, stop, step\n",
    "x = itertools.islice(range(10), 0, 9, 2)\n",
    "list(x)"
   ]
  },
  {
   "cell_type": "code",
   "execution_count": null,
   "metadata": {},
   "outputs": [],
   "source": [
    "# 计数器,可以指定起始位置和步长\n",
    "x = itertools.count(start=20, step=-1)\n",
    "list(itertools.islice(x, 0, 10, 1))"
   ]
  },
  {
   "cell_type": "code",
   "execution_count": null,
   "metadata": {},
   "outputs": [],
   "source": [
    "# 循环指定的列表和迭代器\n",
    "x = itertools.cycle('ABC')\n",
    "list(itertools.islice(x, 0, 10, 1))"
   ]
  },
  {
   "cell_type": "code",
   "execution_count": null,
   "metadata": {},
   "outputs": [],
   "source": [
    "# 按照真值函数丢弃掉列表和迭代器前面的元素\n",
    "x = itertools.dropwhile(lambda e: e < 5, range(10))\n",
    "list(x)"
   ]
  },
  {
   "cell_type": "code",
   "execution_count": null,
   "metadata": {},
   "outputs": [],
   "source": [
    "# 与dropwhile相反，保留元素直至真值函数值为假。\n",
    "x = itertools.takewhile(lambda e: e < 5, range(10))\n",
    "list(x)"
   ]
  },
  {
   "cell_type": "code",
   "execution_count": null,
   "metadata": {},
   "outputs": [],
   "source": [
    "# 保留对应真值为False的元素\n",
    "x = itertools.filterfalse(lambda e: e < 5, (1, 5, 3, 6, 9, 4))\n",
    "list(x)"
   ]
  },
  {
   "cell_type": "code",
   "execution_count": null,
   "metadata": {},
   "outputs": [],
   "source": [
    "# 按照分组函数的值对元素进行分组\n",
    "x = itertools.groupby(range(10), lambda x: x < 5 or x > 8)             \n",
    "for condition, numbers in x:       \n",
    "    print(condition, list(numbers)) "
   ]
  },
  {
   "cell_type": "code",
   "execution_count": null,
   "metadata": {},
   "outputs": [],
   "source": [
    "# 产生指定数目的元素的所有排列(顺序有关)\n",
    "x = itertools.permutations(range(4), 3)\n",
    "list(x)"
   ]
  },
  {
   "cell_type": "code",
   "execution_count": null,
   "metadata": {},
   "outputs": [],
   "source": [
    "# 产生多个列表和迭代器的(积)\n",
    "x = itertools.product('ABC', range(3))\n",
    "list(x)"
   ]
  },
  {
   "cell_type": "code",
   "execution_count": null,
   "metadata": {},
   "outputs": [],
   "source": [
    "# 简单的生成一个拥有指定数目元素的迭代器\n",
    "x = itertools.repeat(0, 5)\n",
    "list(x)"
   ]
  },
  {
   "cell_type": "code",
   "execution_count": null,
   "metadata": {},
   "outputs": [],
   "source": [
    "# 类似map\n",
    "x = itertools.starmap(str.islower, 'aBCDefGhI')\n",
    "list(x)"
   ]
  },
  {
   "cell_type": "code",
   "execution_count": null,
   "metadata": {},
   "outputs": [],
   "source": [
    "# 生成指定数目的迭代器\n",
    "x = itertools.tee(range(10), 2)\n",
    "for letters in x:\n",
    "    print(list(letters))"
   ]
  },
  {
   "cell_type": "code",
   "execution_count": null,
   "metadata": {},
   "outputs": [],
   "source": [
    "# 类似于zip，不过已较长的列表和迭代器的长度为准\n",
    "x = itertools.zip_longest(range(3), range(5))\n",
    "print(list(x))\n",
    "y = zip(range(3), range(5))\n",
    "print(list(y))"
   ]
  },
  {
   "cell_type": "code",
   "execution_count": null,
   "metadata": {
    "scrolled": true
   },
   "outputs": [],
   "source": [
    "def gen_squares(num):\n",
    "    for x in range(num):\n",
    "        yield x ** 2\n",
    "        print('x={}'.format(x))\n",
    "\n",
    "for i in gen_squares(4):\n",
    "    print('x ** 2={}'.format(i))\n",
    "    print('--------------')\n"
   ]
  },
  {
   "cell_type": "markdown",
   "metadata": {},
   "source": [
    "我们不难发现，生成器函数计算出x的平方后就挂起退出了，但他仍然保存了此时x的值，而yield后的print语句会在for循环的下一轮迭代中首先调用，此时x的值即是上一轮退出时保存的值。\n"
   ]
  }
 ],
 "metadata": {
  "kernelspec": {
   "name": "pycharm-project2",
   "language": "python",
   "display_name": "PyCharm (project2)"
  },
  "language_info": {
   "codemirror_mode": {
    "name": "ipython",
    "version": 3
   },
   "file_extension": ".py",
   "mimetype": "text/x-python",
   "name": "python",
   "nbconvert_exporter": "python",
   "pygments_lexer": "ipython3",
   "version": "3.9.7"
  }
 },
 "nbformat": 4,
 "nbformat_minor": 2
}