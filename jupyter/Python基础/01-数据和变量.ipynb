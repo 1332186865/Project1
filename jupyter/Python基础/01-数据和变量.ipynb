{
 "cells": [
  {
   "cell_type": "markdown",
   "metadata": {},
   "source": [
    "# 计算机如何运行Python程序？"
   ]
  },
  {
   "cell_type": "markdown",
   "metadata": {},
   "source": [
    "<img src='resource/计算机如何运行python程序.jpg' style='zoom:80%'>"
   ]
  },
  {
   "cell_type": "markdown",
   "metadata": {},
   "source": [
    "* 计算机的硬件组成  \n",
    "处理器：执行指令、算术逻辑运算  \n",
    "存储器：内存、硬盘等  \n",
    "输入输出设备：显示器、键盘  \n",
    "* 操作系统（OS）  \n",
    "管理硬件设备（为上层不同的应用软件分配调用硬件资源，为应用软件提供支撑服务），当应用软件想要从硬盘读取或者写入数据、想要在显示器上显示一个窗口、或者通过网卡接收或发送一个数据包的时候，应用软件首先需要向操作系统发送请求，通过操作系统获取这些资源。这样做的好处是只有开发操作系统的人需要处理不同CPU、GPU的差异，计算机网络的底层通信协议等等问题，这些问题对应用软件来说是完全屏蔽掉的，开发应用软件的人只需要考虑应用软件的本身的功能以及如何和操作系统打交道，这样应用软件就可以在多种不同的硬件上运行了。  \n",
    "* Python解释器  \n",
    "不过我们写的Python代码不是直接运行在操作系统之上的，而是在操作系统之上又加了一层，叫做Python解释器，我们的代码首先由解释器进行翻译。就向 Java 语言首先是放在虚拟机里运行一样。我们所谓的python环境就是包含了某一个固定版本的Python解释器以及其他Python三方库的环境。 使用Python解释器的方式有两种：1）写 .py 文件，直接运行文件即可。2）在 Shell 里写python代码，每行代码的结尾回车，python 解释器运行并给出结果。第二种方式是交互式方式。"
   ]
  },
  {
   "cell_type": "markdown",
   "metadata": {},
   "source": [
    "# 数据和变量 "
   ]
  },
  {
   "cell_type": "markdown",
   "metadata": {},
   "source": [
    "## 1. 数学表达式和值  \n",
    "\n",
    "编程语言几乎都是从数学表达式入门的。数学表达式由 运算符号和数学数字两部分组成，更专业一些的说法是操作符合操作数。Python 解释器在执行数学表达式的时候就很自然地计算出它的结果，并返回。\n",
    "**注意**：表达式不一定非要包含 运算符，单独的一个数字也可以被看作表达式。"
   ]
  },
  {
   "cell_type": "code",
   "execution_count": 1,
   "metadata": {},
   "outputs": [
    {
     "data": {
      "text/plain": [
       "7"
      ]
     },
     "execution_count": 1,
     "metadata": {},
     "output_type": "execute_result"
    }
   ],
   "source": [
    "4 + 3"
   ]
  },
  {
   "cell_type": "code",
   "execution_count": 2,
   "metadata": {},
   "outputs": [
    {
     "data": {
      "text/plain": [
       "float"
      ]
     },
     "execution_count": 2,
     "metadata": {},
     "output_type": "execute_result"
    }
   ],
   "source": [
    "type(4.0)"
   ]
  },
  {
   "cell_type": "code",
   "execution_count": 3,
   "metadata": {},
   "outputs": [
    {
     "data": {
      "text/plain": [
       "2416117344656"
      ]
     },
     "execution_count": 3,
     "metadata": {},
     "output_type": "execute_result"
    }
   ],
   "source": [
    "id(4.0)"
   ]
  },
  {
   "cell_type": "code",
   "execution_count": 4,
   "metadata": {},
   "outputs": [
    {
     "data": {
      "text/plain": [
       "12"
      ]
     },
     "execution_count": 4,
     "metadata": {},
     "output_type": "execute_result"
    }
   ],
   "source": [
    "15 - 3"
   ]
  },
  {
   "cell_type": "code",
   "execution_count": 5,
   "metadata": {},
   "outputs": [
    {
     "data": {
      "text/plain": [
       "28"
      ]
     },
     "execution_count": 5,
     "metadata": {},
     "output_type": "execute_result"
    }
   ],
   "source": [
    "4 * 7"
   ]
  },
  {
   "cell_type": "code",
   "execution_count": 6,
   "metadata": {},
   "outputs": [
    {
     "data": {
      "text/plain": [
       "2.5"
      ]
     },
     "execution_count": 6,
     "metadata": {},
     "output_type": "execute_result"
    }
   ],
   "source": [
    "5 / 2"
   ]
  },
  {
   "cell_type": "code",
   "execution_count": 5,
   "metadata": {},
   "outputs": [
    {
     "data": {
      "text/plain": [
       "2.0"
      ]
     },
     "execution_count": 5,
     "metadata": {},
     "output_type": "execute_result"
    }
   ],
   "source": [
    "4 / 2"
   ]
  },
  {
   "cell_type": "markdown",
   "metadata": {},
   "source": [
    "Python中任何一个数据都有特定的数据类型。比如浮点型 float 和 整型 int。"
   ]
  },
  {
   "cell_type": "code",
   "execution_count": 7,
   "metadata": {},
   "outputs": [
    {
     "data": {
      "text/plain": [
       "7.0"
      ]
     },
     "execution_count": 7,
     "metadata": {},
     "output_type": "execute_result"
    }
   ],
   "source": [
    "17.0 - 10.0 "
   ]
  },
  {
   "cell_type": "markdown",
   "metadata": {},
   "source": [
    "当一个表达式中同时出现了浮点数和整数，整数会被自动转换成浮点数。"
   ]
  },
  {
   "cell_type": "code",
   "execution_count": 8,
   "metadata": {},
   "outputs": [
    {
     "data": {
      "text/plain": [
       "7.0"
      ]
     },
     "execution_count": 8,
     "metadata": {},
     "output_type": "execute_result"
    }
   ],
   "source": [
    "17.0 - 10"
   ]
  },
  {
   "cell_type": "markdown",
   "metadata": {},
   "source": [
    "17.0也可以写成17. 省略后面的零。但是不推荐这样写。"
   ]
  },
  {
   "cell_type": "code",
   "execution_count": 9,
   "metadata": {},
   "outputs": [
    {
     "data": {
      "text/plain": [
       "31.0"
      ]
     },
     "execution_count": 9,
     "metadata": {},
     "output_type": "execute_result"
    }
   ],
   "source": [
    "17. + 14."
   ]
  },
  {
   "cell_type": "code",
   "execution_count": 10,
   "metadata": {},
   "outputs": [
    {
     "data": {
      "text/plain": [
       "2"
      ]
     },
     "execution_count": 10,
     "metadata": {},
     "output_type": "execute_result"
    }
   ],
   "source": [
    "5 // 2"
   ]
  },
  {
   "cell_type": "markdown",
   "metadata": {},
   "source": [
    "整除操作的时候，python会将除法操作后的浮点数转换成较小的整数，也就是向下取整。因此对负数进行整除（//）运算时，需要格外注意。"
   ]
  },
  {
   "cell_type": "code",
   "execution_count": 11,
   "metadata": {},
   "outputs": [
    {
     "data": {
      "text/plain": [
       "-3"
      ]
     },
     "execution_count": 11,
     "metadata": {},
     "output_type": "execute_result"
    }
   ],
   "source": [
    "-5 // 2"
   ]
  },
  {
   "cell_type": "code",
   "execution_count": 12,
   "metadata": {},
   "outputs": [
    {
     "data": {
      "text/plain": [
       "1"
      ]
     },
     "execution_count": 12,
     "metadata": {},
     "output_type": "execute_result"
    }
   ],
   "source": [
    "5 % 2"
   ]
  },
  {
   "cell_type": "markdown",
   "metadata": {},
   "source": [
    "浮点数也可以进行取整操作，结果是一个浮点数类型。"
   ]
  },
  {
   "cell_type": "code",
   "execution_count": 13,
   "metadata": {},
   "outputs": [
    {
     "data": {
      "text/plain": [
       "2.0"
      ]
     },
     "execution_count": 13,
     "metadata": {},
     "output_type": "execute_result"
    }
   ],
   "source": [
    "5.5 // 2"
   ]
  },
  {
   "cell_type": "code",
   "execution_count": 14,
   "metadata": {},
   "outputs": [
    {
     "data": {
      "text/plain": [
       "8"
      ]
     },
     "execution_count": 14,
     "metadata": {},
     "output_type": "execute_result"
    }
   ],
   "source": [
    "2 ** 3"
   ]
  },
  {
   "cell_type": "markdown",
   "metadata": {},
   "source": [
    "**注意**：浮点数的精度问题"
   ]
  },
  {
   "cell_type": "code",
   "execution_count": 15,
   "metadata": {},
   "outputs": [
    {
     "data": {
      "text/plain": [
       "0.6666666666666666"
      ]
     },
     "execution_count": 15,
     "metadata": {},
     "output_type": "execute_result"
    }
   ],
   "source": [
    "2/3"
   ]
  },
  {
   "cell_type": "code",
   "execution_count": 16,
   "metadata": {},
   "outputs": [
    {
     "data": {
      "text/plain": [
       "1.6666666666666667"
      ]
     },
     "execution_count": 16,
     "metadata": {},
     "output_type": "execute_result"
    }
   ],
   "source": [
    "5/3"
   ]
  },
  {
   "cell_type": "markdown",
   "metadata": {},
   "source": [
    "由于计算机的存储空间是有限的，因此用于表示数字的二进制位数也是有限的，那么在存储小数的时候，会出现一些误差。浮点数实际上是计算机能力范围内最近似真实数字的值。这里它认为0.6666666..6是最接近三分之二的值，而1.666666...7是最接近三分之五的值。  \n",
    "\n",
    "尽管看起来 0.66666...66已经很接近三分之二了，但是这种微小的差别可能会在计算的时候被放大。"
   ]
  },
  {
   "cell_type": "code",
   "execution_count": 17,
   "metadata": {},
   "outputs": [
    {
     "data": {
      "text/plain": [
       "1.6666666666666665"
      ]
     },
     "execution_count": 17,
     "metadata": {},
     "output_type": "execute_result"
    }
   ],
   "source": [
    "1 + 2/3"
   ]
  },
  {
   "cell_type": "code",
   "execution_count": 18,
   "metadata": {},
   "outputs": [
    {
     "data": {
      "text/plain": [
       "1.6666666666666667"
      ]
     },
     "execution_count": 18,
     "metadata": {},
     "output_type": "execute_result"
    }
   ],
   "source": [
    "5/3"
   ]
  },
  {
   "cell_type": "markdown",
   "metadata": {},
   "source": [
    "再试一个更极端的例子，我们将求一个极小值和一个极大值的和"
   ]
  },
  {
   "cell_type": "markdown",
   "metadata": {},
   "source": [
    "**注意**： **Python 中没有常量的概念**"
   ]
  },
  {
   "cell_type": "markdown",
   "metadata": {},
   "source": [
    "## 2. 数据类型  \n",
    "\n",
    "我们刚才已经认识了两种类型的数据，**整型** 和 **浮点型**。现在解释一下什么是数据类型。  \n",
    "**数据类型 （Types）** 在两个方面约束数据：1. 数据可以取什么样的值 2. 数据可以进行什么样的操作。 比如 整数类型的数据（int）可以取的值为 -3，-2，-1,0,1,2,3，... 等，它支持的操作有+ - * / % //等。浮点类型的数据（float）则为实数，它支持的操作和整数类型正好也是相同的。如果是字符串类型的数据，也就是文本数据，用 **str** 来表示，它可以取的值是任何计算机支持的字符组成的字符串，用成对的单引号或者双引号括起来表示，比如'helloworld'，字符串支持的操作有索引、切片、+、*等。"
   ]
  },
  {
   "cell_type": "code",
   "execution_count": 19,
   "metadata": {},
   "outputs": [
    {
     "data": {
      "text/plain": [
       "'hellow'"
      ]
     },
     "execution_count": 19,
     "metadata": {},
     "output_type": "execute_result"
    }
   ],
   "source": [
    "str1 = \"\"\"hellow\"\"\"\n",
    "str1"
   ]
  },
  {
   "cell_type": "code",
   "execution_count": 20,
   "metadata": {},
   "outputs": [
    {
     "data": {
      "text/plain": [
       "str"
      ]
     },
     "execution_count": 20,
     "metadata": {},
     "output_type": "execute_result"
    }
   ],
   "source": [
    "type(str1)"
   ]
  },
  {
   "cell_type": "code",
   "execution_count": 21,
   "metadata": {},
   "outputs": [
    {
     "data": {
      "text/plain": [
       "int"
      ]
     },
     "execution_count": 21,
     "metadata": {},
     "output_type": "execute_result"
    }
   ],
   "source": [
    "type(123)"
   ]
  },
  {
   "cell_type": "code",
   "execution_count": 22,
   "metadata": {},
   "outputs": [
    {
     "data": {
      "text/plain": [
       "str"
      ]
     },
     "execution_count": 22,
     "metadata": {},
     "output_type": "execute_result"
    }
   ],
   "source": [
    "type('123')"
   ]
  },
  {
   "cell_type": "code",
   "execution_count": 23,
   "metadata": {},
   "outputs": [
    {
     "data": {
      "text/plain": [
       "'hellowhellow'"
      ]
     },
     "execution_count": 23,
     "metadata": {},
     "output_type": "execute_result"
    }
   ],
   "source": [
    "str1 + str1"
   ]
  },
  {
   "cell_type": "code",
   "execution_count": 24,
   "metadata": {},
   "outputs": [
    {
     "data": {
      "text/plain": [
       "'hellowhellowhellowhellowhellow'"
      ]
     },
     "execution_count": 24,
     "metadata": {},
     "output_type": "execute_result"
    }
   ],
   "source": [
    "str1 * 5"
   ]
  },
  {
   "cell_type": "markdown",
   "metadata": {},
   "source": [
    "<center>常用的算术运算符</center>\n",
    "<img src=\"resource/算数运算符.jpg\" style=\"zoom:60%\">\n",
    "<br>\n",
    "</br>\n",
    "<center>算术运算符优先级</center>\n",
    "<img src=\"resource/运算符优先级.jpg\" style=\"zoom:60%\">"
   ]
  },
  {
   "cell_type": "markdown",
   "metadata": {},
   "source": [
    "**优先级** 运算符优先级；使用括号提高优先级。eg，华氏度转摄氏度"
   ]
  },
  {
   "cell_type": "code",
   "execution_count": 25,
   "metadata": {},
   "outputs": [
    {
     "data": {
      "text/plain": [
       "100.0"
      ]
     },
     "execution_count": 25,
     "metadata": {},
     "output_type": "execute_result"
    }
   ],
   "source": [
    "(212 - 32)* 5 / 9"
   ]
  },
  {
   "cell_type": "markdown",
   "metadata": {},
   "source": [
    "## 3. 变量\n",
    "为了使用方便，在创建数据时给它起一个名字，这个名字叫做变量名。一个合法的python变量名可以是字母、数字和下划线的组合。**注意**：同时不要和 python 关键字重名。"
   ]
  },
  {
   "cell_type": "markdown",
   "metadata": {},
   "source": [
    "```命名规范```：使用有意义的小写英文名子，可以用下划线将多个单词连接在一起。例如："
   ]
  },
  {
   "cell_type": "code",
   "execution_count": null,
   "metadata": {},
   "outputs": [],
   "source": []
  },
  {
   "cell_type": "code",
   "execution_count": 25,
   "metadata": {},
   "outputs": [],
   "source": [
    "degree_celsius = 26.0"
   ]
  },
  {
   "cell_type": "markdown",
   "metadata": {},
   "source": [
    "```赋值语句```:  \n",
    "* degree_celsius这个变量被分配了一个浮点型的数据对象，值为26.0。  \n",
    "* degree_celsius引用了浮点型数据对象 26.0\n",
    "* python解释器看到表达式中的变量名时，会自动替换成变量名所引用的数据来计算表达式的值。"
   ]
  },
  {
   "cell_type": "code",
   "execution_count": 26,
   "metadata": {},
   "outputs": [
    {
     "data": {
      "text/plain": [
       "46.800000000000004"
      ]
     },
     "execution_count": 26,
     "metadata": {},
     "output_type": "execute_result"
    }
   ],
   "source": [
    "9 / 5 * degree_celsius"
   ]
  },
  {
   "cell_type": "markdown",
   "metadata": {},
   "source": [
    "变量之所以叫变量，是因为变量的引用的数据是可以被修改的。"
   ]
  },
  {
   "cell_type": "code",
   "execution_count": 27,
   "metadata": {},
   "outputs": [
    {
     "data": {
      "text/plain": [
       "0"
      ]
     },
     "execution_count": 27,
     "metadata": {},
     "output_type": "execute_result"
    }
   ],
   "source": [
    "degree_celcius = 26.0\n",
    "degree_celcius"
   ]
  },
  {
   "cell_type": "markdown",
   "metadata": {},
   "source": [
    "### 变量引用的内存机制\n",
    "<center>1) 26.0在内存中的表示</center>\n",
    "<img src=\"resource/数据对象.jpg\" style=\"zoom:90%\">\n",
    "<br>\n",
    "</br>\n",
    "<center>2) degree_celcius = 26.0的内部过程</center>\n",
    "<img src=\"resource/变量引用.jpg\" style=\"zoom:90%\">\n",
    "<p align = 'left'>内存中的每一个位置都有一个编号，我们把它叫做内存地址，用id来表示。比如，26.0作为一个浮点类型的数据，被存放在内存中的某一个位置里，这个位置对应的地址是id1。我们把这样的数据也叫作数据对象，因为它具有三个要素：内存地址、数据类型和值。python里，所有的数据都是以数据对象的形式进行存储和操作的。当我们使用一个变量名来引用一个数据对象的时候，实际上是将数据对象的存放地址，作为值存放在另一块内存空间中，我们使用变量名来标识这个内存空间，就完成了变量对数据的引用。我们用黑色的箭头从degree_celsius标识的内存空间指向数据对象26.0存放的内存空间。我们可以这样来描述：</p>\n",
    "<br>\n",
    "</br>1）数据26.0存储于内存地址id1中。\n",
    "<br>\n",
    "</br>2）内存地址id1中存储的数据对象的数据类型是float，值是26.0<br>\n",
    "</br>3）变量degree_celsius包含了内存地址id1<br>\n",
    "</br>4）变量degree_celsius引用了值26.0"
   ]
  },
  {
   "cell_type": "code",
   "execution_count": 11,
   "metadata": {},
   "outputs": [
    {
     "name": "stdout",
     "output_type": "stream",
     "text": [
      "2 1\n"
     ]
    }
   ],
   "source": [
    "a = 1\n",
    "b = 2\n",
    "\n",
    "a,b = b,a\n",
    "print(a,b)"
   ]
  },
  {
   "cell_type": "code",
   "execution_count": 28,
   "metadata": {},
   "outputs": [
    {
     "data": {
      "text/plain": [
       "31.0"
      ]
     },
     "execution_count": 28,
     "metadata": {},
     "output_type": "execute_result"
    }
   ],
   "source": [
    "degree_celsius = 26.0\n",
    "degree_celsius = degree_celsius + 5\n",
    "degree_celsius"
   ]
  },
  {
   "cell_type": "code",
   "execution_count": 29,
   "metadata": {},
   "outputs": [
    {
     "name": "stdout",
     "output_type": "stream",
     "text": [
      "2417944421312\n",
      "2417944421360\n"
     ]
    }
   ],
   "source": [
    "degree_celsius = 26.0\n",
    "print(id(degree_celsius))\n",
    "degree_celsius = degree_celsius + 5\n",
    "print(id(degree_celsius))"
   ]
  },
  {
   "cell_type": "code",
   "execution_count": 27,
   "metadata": {},
   "outputs": [
    {
     "data": {
      "text/plain": [
       "40"
      ]
     },
     "execution_count": 27,
     "metadata": {},
     "output_type": "execute_result"
    }
   ],
   "source": [
    "difference = 20\n",
    "double = 2*difference\n",
    "double"
   ]
  },
  {
   "cell_type": "code",
   "execution_count": 28,
   "metadata": {},
   "outputs": [
    {
     "data": {
      "text/plain": [
       "40"
      ]
     },
     "execution_count": 28,
     "metadata": {},
     "output_type": "execute_result"
    }
   ],
   "source": [
    "difference = 5\n",
    "double"
   ]
  },
  {
   "cell_type": "markdown",
   "metadata": {},
   "source": [
    "<center>1) difference = 20</center>\n",
    "<img src=\"resource/difference1.jpg\" style=\"zoom:60%\">\n",
    "<br>\n",
    "</br>\n",
    "<center>2) double = 2*difference</center>\n",
    "<img src=\"resource/difference2.jpg\" style=\"zoom:60%\">\n",
    "<br>\n",
    "</br>\n",
    "<center>3) difference = 5</center>\n",
    "<img src=\"resource/difference3.jpg\" style=\"zoom:60%\">"
   ]
  },
  {
   "cell_type": "markdown",
   "metadata": {},
   "source": [
    "```课堂任务```  \n",
    "\n",
    "交换变量 a 和 b 的内容。"
   ]
  },
  {
   "cell_type": "markdown",
   "metadata": {},
   "source": [
    "###  增强赋值符号"
   ]
  },
  {
   "cell_type": "code",
   "execution_count": 29,
   "metadata": {},
   "outputs": [
    {
     "data": {
      "text/plain": [
       "31.0"
      ]
     },
     "execution_count": 29,
     "metadata": {},
     "output_type": "execute_result"
    }
   ],
   "source": [
    "degree_celsius = 26.0\n",
    "degree_celsius += 5\n",
    "degree_celsius = degree_celsius + 5\n",
    "degree_celsius"
   ]
  },
  {
   "cell_type": "code",
   "execution_count": 30,
   "metadata": {},
   "outputs": [
    {
     "data": {
      "text/plain": [
       "100"
      ]
     },
     "execution_count": 30,
     "metadata": {},
     "output_type": "execute_result"
    }
   ],
   "source": [
    "number = 10\n",
    "number *= 10\n",
    "number"
   ]
  },
  {
   "cell_type": "markdown",
   "metadata": {},
   "source": [
    "<center>常用的增强赋值符号</center>\n",
    "<img src=\"resource/增强赋值.jpg\" style=\"zoom:60%\">"
   ]
  },
  {
   "cell_type": "markdown",
   "metadata": {},
   "source": [
    "###  变量必须先创建后使用"
   ]
  },
  {
   "cell_type": "code",
   "execution_count": 33,
   "metadata": {},
   "outputs": [
    {
     "ename": "NameError",
     "evalue": "name 'a' is not defined",
     "output_type": "error",
     "traceback": [
      "\u001b[1;31m---------------------------------------------------------------------------\u001b[0m",
      "\u001b[1;31mNameError\u001b[0m                                 Traceback (most recent call last)",
      "\u001b[1;32m<ipython-input-33-3f786850e387>\u001b[0m in \u001b[0;36m<module>\u001b[1;34m\u001b[0m\n\u001b[1;32m----> 1\u001b[1;33m \u001b[0ma\u001b[0m\u001b[1;33m\u001b[0m\u001b[1;33m\u001b[0m\u001b[0m\n\u001b[0m",
      "\u001b[1;31mNameError\u001b[0m: name 'a' is not defined"
     ]
    }
   ],
   "source": [
    "a"
   ]
  },
  {
   "cell_type": "markdown",
   "metadata": {},
   "source": [
    "如果我们直接使用没有创建的变量，那么会引发 Python 解释器 的错误。这里的错误叫做 NameError，是内置模块的错误类型之一。NameError 后面跟着的是对这个错误的解释，意思是变量名 a 没有被定义，我们应该先用赋值语句创建一个变量，再去使用这个变量。"
   ]
  },
  {
   "cell_type": "markdown",
   "metadata": {},
   "source": [
    "### Python 中常见的两种错误：  \n",
    "* 1）语法错误 python 解释器认为是不合语法要求的代码，比如使用了中文符号等\n",
    "* 2）语义错误 python 解释器认为是不合理的代码，比如 变量未创建就使用、用一个整数除以零等"
   ]
  },
  {
   "cell_type": "code",
   "execution_count": 35,
   "metadata": {},
   "outputs": [
    {
     "ename": "SyntaxError",
     "evalue": "invalid syntax (<ipython-input-35-1a637eb9c307>, line 1)",
     "output_type": "error",
     "traceback": [
      "\u001b[1;36m  File \u001b[1;32m\"<ipython-input-35-1a637eb9c307>\"\u001b[1;36m, line \u001b[1;32m1\u001b[0m\n\u001b[1;33m    2 +\u001b[0m\n\u001b[1;37m        ^\u001b[0m\n\u001b[1;31mSyntaxError\u001b[0m\u001b[1;31m:\u001b[0m invalid syntax\n"
     ]
    }
   ],
   "source": [
    "2 + "
   ]
  },
  {
   "cell_type": "code",
   "execution_count": 36,
   "metadata": {},
   "outputs": [
    {
     "ename": "SyntaxError",
     "evalue": "can't assign to literal (<ipython-input-36-1dfa6eaf817a>, line 1)",
     "output_type": "error",
     "traceback": [
      "\u001b[1;36m  File \u001b[1;32m\"<ipython-input-36-1dfa6eaf817a>\"\u001b[1;36m, line \u001b[1;32m1\u001b[0m\n\u001b[1;33m    12 = x\u001b[0m\n\u001b[1;37m          ^\u001b[0m\n\u001b[1;31mSyntaxError\u001b[0m\u001b[1;31m:\u001b[0m can't assign to literal\n"
     ]
    }
   ],
   "source": [
    "12 = x"
   ]
  },
  {
   "cell_type": "markdown",
   "metadata": {},
   "source": [
    "literal 指的是数值本身，比如12,26.0，或者'hello'这样的字符串。这个语法错误是说我们不能给一个数值赋值，这是不符合语法要求的。"
   ]
  },
  {
   "cell_type": "code",
   "execution_count": 34,
   "metadata": {},
   "outputs": [
    {
     "ename": "ZeroDivisionError",
     "evalue": "division by zero",
     "output_type": "error",
     "traceback": [
      "\u001b[1;31m---------------------------------------------------------------------------\u001b[0m",
      "\u001b[1;31mZeroDivisionError\u001b[0m                         Traceback (most recent call last)",
      "\u001b[1;32m<ipython-input-34-bc757c3fda29>\u001b[0m in \u001b[0;36m<module>\u001b[1;34m\u001b[0m\n\u001b[1;32m----> 1\u001b[1;33m \u001b[1;36m1\u001b[0m \u001b[1;33m/\u001b[0m \u001b[1;36m0\u001b[0m\u001b[1;33m\u001b[0m\u001b[1;33m\u001b[0m\u001b[0m\n\u001b[0m",
      "\u001b[1;31mZeroDivisionError\u001b[0m: division by zero"
     ]
    }
   ],
   "source": [
    "1 / 0"
   ]
  },
  {
   "cell_type": "markdown",
   "metadata": {},
   "source": [
    "## 4. 分行写代码\n",
    "\n",
    "有时候代码比较长，我们一行写不下（Python规定了每行最多容纳的代码为80个字符），或者是我们为了提高代码的可读性，让代码更清晰明了，因此换行操作就比较常见。有两种方法进行换行：1）用括号将一句代码括起来 2）用换行符 \\"
   ]
  },
  {
   "cell_type": "code",
   "execution_count": 31,
   "metadata": {},
   "outputs": [
    {
     "data": {
      "text/plain": [
       "5"
      ]
     },
     "execution_count": 31,
     "metadata": {},
     "output_type": "execute_result"
    }
   ],
   "source": [
    "(2 + \n",
    " 3)"
   ]
  },
  {
   "cell_type": "code",
   "execution_count": 15,
   "metadata": {},
   "outputs": [
    {
     "data": {
      "text/plain": [
       "5"
      ]
     },
     "execution_count": 15,
     "metadata": {},
     "output_type": "execute_result"
    }
   ],
   "source": [
    "2 + \\\n",
    "3"
   ]
  },
  {
   "cell_type": "markdown",
   "metadata": {},
   "source": [
    "## 5. 代码的可读性  \n",
    "\n",
    "写代码并不是追求复杂、高级的用法，或者极端强烈的个人风格，写代码很重要的一点是具有较强的可读性，为了可读性甚至要牺牲代码的简洁性，让后来的自己或者其他人能够不需要很大的努力就能看明白这段代码想实现的功能，这样利于代码的后期维护。从这个角度来说，企业员工写代码的时候要完全抹杀掉个人的风格，应该遵循一套统一的编程规范。不过对于我们来说，平时写代码的时候也不妨考虑一下自己代码的可读性。目前可以从以下三点入手：  \n",
    "\n",
    "* 1) 双目运算符两边加空格\n",
    "* 2) 变量、函数、类的命名要遵循规范\n",
    "* 3) 需要解释的地方要加注释 ''' ''' # \"\"\" \"\"\""
   ]
  },
  {
   "cell_type": "code",
   "execution_count": 21,
   "metadata": {},
   "outputs": [
    {
     "data": {
      "text/plain": [
       "'\\nasb = 10\\nprint(asb)\\n'"
      ]
     },
     "execution_count": 21,
     "metadata": {},
     "output_type": "execute_result"
    }
   ],
   "source": [
    "'''\n",
    "asb = 10\n",
    "print(asb)\n",
    "'''"
   ]
  },
  {
   "cell_type": "code",
   "execution_count": 31,
   "metadata": {},
   "outputs": [
    {
     "name": "stdout",
     "output_type": "stream",
     "text": [
      "当前的温度为 26.0 °\n"
     ]
    }
   ],
   "source": [
    "degree_celcius = 26.0 # 摄氏度初始值\n",
    "def show_degree(celcius):\n",
    "    ''' 显示传入的摄氏温度'''\n",
    "    print('当前的温度为',degree_celcius,'°')\n",
    "show_degree(degree_celcius)"
   ]
  },
  {
   "cell_type": "markdown",
   "metadata": {},
   "source": [
    "有兴趣的同学可以参考一下 Python 官方推荐的 PEP8 编程规范。"
   ]
  },
  {
   "cell_type": "markdown",
   "metadata": {},
   "source": [
    "python编程规范\n",
    "https://www.python.org/dev/peps/pep-0008/  \n"
   ]
  }
 ],
 "metadata": {
  "kernelspec": {
   "display_name": "data_science",
   "language": "python",
   "name": "data_science"
  },
  "language_info": {
   "codemirror_mode": {
    "name": "ipython",
    "version": 3
   },
   "file_extension": ".py",
   "mimetype": "text/x-python",
   "name": "python",
   "nbconvert_exporter": "python",
   "pygments_lexer": "ipython3",
   "version": "3.8.12"
  }
 },
 "nbformat": 4,
 "nbformat_minor": 4
}
