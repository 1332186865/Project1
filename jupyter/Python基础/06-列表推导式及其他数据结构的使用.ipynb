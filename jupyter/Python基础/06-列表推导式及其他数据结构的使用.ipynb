{
 "cells": [
  {
   "cell_type": "markdown",
   "metadata": {},
   "source": [
    "## 1. 列表推导式 (List Comprehension)"
   ]
  },
  {
   "cell_type": "markdown",
   "metadata": {},
   "source": [
    "```例题1-1```  \n",
    "\n",
    "实现一个函数 **doubleList(alist)**，将列表里的每一个元素乘以2并返回一个新列表"
   ]
  },
  {
   "cell_type": "code",
   "execution_count": 1,
   "metadata": {},
   "outputs": [
    {
     "name": "stdout",
     "output_type": "stream",
     "text": [
      "[2, 4, -6, 18]\n"
     ]
    }
   ],
   "source": [
    "def doubleList(alist):\n",
    "    \"\"\"将列表元素乘以2并返回一个新的列表\"\"\"\n",
    "    res = []\n",
    "    for x in alist:\n",
    "        res.append(x * 2)\n",
    "    return res\n",
    "\n",
    "print(doubleList([1,2,-3,9]))"
   ]
  },
  {
   "cell_type": "markdown",
   "metadata": {},
   "source": [
    "使用列表推导式可以简化这一过程"
   ]
  },
  {
   "cell_type": "code",
   "execution_count": 2,
   "metadata": {},
   "outputs": [
    {
     "data": {
      "text/plain": [
       "[2, 4, 6, 8]"
      ]
     },
     "execution_count": 2,
     "metadata": {},
     "output_type": "execute_result"
    }
   ],
   "source": [
    "[x*2 for x in [1,2,3,4]]"
   ]
  },
  {
   "cell_type": "code",
   "execution_count": 3,
   "metadata": {},
   "outputs": [
    {
     "data": {
      "text/plain": [
       "[0, 2, 4, 6, 8, 10, 12, 14, 16, 18]"
      ]
     },
     "execution_count": 3,
     "metadata": {},
     "output_type": "execute_result"
    }
   ],
   "source": [
    "[x*2 for x in range(10)]"
   ]
  },
  {
   "cell_type": "markdown",
   "metadata": {},
   "source": [
    "```例题1-2```  \n",
    "\n",
    "将一串字符串里的每一个字符都转为其ASCii码并输出该列表"
   ]
  },
  {
   "cell_type": "code",
   "execution_count": 4,
   "metadata": {},
   "outputs": [
    {
     "data": {
      "text/plain": [
       "[104, 101, 108, 108, 111, 112, 121, 116, 104, 111, 110]"
      ]
     },
     "execution_count": 4,
     "metadata": {},
     "output_type": "execute_result"
    }
   ],
   "source": [
    "str1 = 'hellopython'\n",
    "[ord(s) for s in str1]"
   ]
  },
  {
   "cell_type": "code",
   "execution_count": 5,
   "metadata": {},
   "outputs": [
    {
     "data": {
      "text/plain": [
       "'hellopython'"
      ]
     },
     "execution_count": 5,
     "metadata": {},
     "output_type": "execute_result"
    }
   ],
   "source": [
    "str1"
   ]
  },
  {
   "cell_type": "markdown",
   "metadata": {},
   "source": [
    "**注意**：列表推导式会创建一个新的list，并不会影响原本的列表（可迭代对象）"
   ]
  },
  {
   "cell_type": "markdown",
   "metadata": {},
   "source": [
    "```例题1-3```  \n",
    "\n",
    "返回一个新列表，其元素为给定元组中的偶数"
   ]
  },
  {
   "cell_type": "code",
   "execution_count": 6,
   "metadata": {},
   "outputs": [
    {
     "data": {
      "text/plain": [
       "[2, 4, 6]"
      ]
     },
     "execution_count": 6,
     "metadata": {},
     "output_type": "execute_result"
    }
   ],
   "source": [
    "[x for x in (1,2,3,4,5,6) if x%2==0]"
   ]
  },
  {
   "cell_type": "markdown",
   "metadata": {},
   "source": [
    "**注意**：这里只需要是一个可迭代对象就行"
   ]
  },
  {
   "cell_type": "markdown",
   "metadata": {},
   "source": [
    "```例题1-4```  \n",
    "\n",
    "T恤有\"黑、白\"两个颜色和“大、中、小”三个尺寸，请返回一个列表包含所有可能的T恤型号。 "
   ]
  },
  {
   "cell_type": "code",
   "execution_count": 7,
   "metadata": {},
   "outputs": [
    {
     "data": {
      "text/plain": [
       "[('black', 'S'),\n",
       " ('black', 'M'),\n",
       " ('black', 'L'),\n",
       " ('white', 'S'),\n",
       " ('white', 'M'),\n",
       " ('white', 'L')]"
      ]
     },
     "execution_count": 7,
     "metadata": {},
     "output_type": "execute_result"
    }
   ],
   "source": [
    "colors = ('black','white')\n",
    "sizes = ('S','M','L')\n",
    "tshirts = [(color,size) for color in colors for size in sizes]\n",
    "tshirts"
   ]
  },
  {
   "cell_type": "code",
   "execution_count": 8,
   "metadata": {},
   "outputs": [
    {
     "name": "stdout",
     "output_type": "stream",
     "text": [
      "black S\n",
      "black M\n",
      "black L\n",
      "white S\n",
      "white M\n",
      "white L\n"
     ]
    }
   ],
   "source": [
    "for color in colors:\n",
    "    for size in sizes:\n",
    "        print(color,size)"
   ]
  },
  {
   "cell_type": "markdown",
   "metadata": {},
   "source": [
    "**编程规范提示**: 列表推导式仅在以下两个条件都满足的时候使用： 1）最多只有两层循环；2）若有条件判断，条件判断表达式必须是简洁的；  \n",
    "若不满足以上条件，则最好使用普通的缩进式方法生成列表。"
   ]
  },
  {
   "cell_type": "markdown",
   "metadata": {},
   "source": [
    "```课堂练习1```\n"
   ]
  },
  {
   "cell_type": "markdown",
   "metadata": {},
   "source": [
    "```\n",
    "1. Write a list comprehension that replaces all elements in the list of numbers\n",
    "with their absolute value. [1,-1,3,-5] -> [1,1,3,5]\n",
    "```"
   ]
  },
  {
   "cell_type": "code",
   "execution_count": 10,
   "metadata": {},
   "outputs": [
    {
     "data": {
      "text/plain": [
       "[1, 1, 3, 5]"
      ]
     },
     "execution_count": 10,
     "metadata": {},
     "output_type": "execute_result"
    }
   ],
   "source": [
    "[x if x > 0 else -x for x in [1,-1,3,-5]]"
   ]
  },
  {
   "cell_type": "markdown",
   "metadata": {},
   "source": [
    "```\n",
    "2. Write a list comprehension that only contains the positive numbers occurring in a given list. [1,-1,3,-5] -> [1,3]\n",
    "```"
   ]
  },
  {
   "cell_type": "code",
   "execution_count": 11,
   "metadata": {},
   "outputs": [
    {
     "data": {
      "text/plain": [
       "[1, 3]"
      ]
     },
     "execution_count": 11,
     "metadata": {},
     "output_type": "execute_result"
    }
   ],
   "source": [
    "[x for x in [1,-1,3,-5] if x > 0]"
   ]
  },
  {
   "cell_type": "markdown",
   "metadata": {},
   "source": [
    "```\n",
    "3. Write a list comprehension that replaces all zeros in a list with -1. [1,0,3,0] -> [1,-1,3,-1]\n",
    "```"
   ]
  },
  {
   "cell_type": "code",
   "execution_count": 12,
   "metadata": {},
   "outputs": [
    {
     "data": {
      "text/plain": [
       "[1, -1, 3, -1]"
      ]
     },
     "execution_count": 12,
     "metadata": {},
     "output_type": "execute_result"
    }
   ],
   "source": [
    "[x if x != 0 else -1 for x in [1,0,3,0]]"
   ]
  },
  {
   "cell_type": "markdown",
   "metadata": {},
   "source": [
    "```\n",
    "4. Write a list comprehension that converts all lowercase characters in a list to uppercase (other characters like space, comma,. . . should remain unchanged). [\\a\", \"b\", \"C\"] ! [\\A\", \"B\", \"C\"]\n",
    "```"
   ]
  },
  {
   "cell_type": "code",
   "execution_count": 13,
   "metadata": {},
   "outputs": [
    {
     "data": {
      "text/plain": [
       "['A', 'B', 'C', '*']"
      ]
     },
     "execution_count": 13,
     "metadata": {},
     "output_type": "execute_result"
    }
   ],
   "source": [
    "[x.upper() if x.islower else x for x in ['a','b','C','*']]"
   ]
  },
  {
   "cell_type": "markdown",
   "metadata": {},
   "source": [
    "```\n",
    "5. Use a list comprehension to make a list of the first 10 powers of 2 starting from 1.\n",
    "```"
   ]
  },
  {
   "cell_type": "code",
   "execution_count": 14,
   "metadata": {},
   "outputs": [
    {
     "data": {
      "text/plain": [
       "[1, 4, 9, 16, 25, 36, 49, 64, 81, 100]"
      ]
     },
     "execution_count": 14,
     "metadata": {},
     "output_type": "execute_result"
    }
   ],
   "source": [
    "[x ** 2 for x in range(1, 11)]"
   ]
  },
  {
   "cell_type": "markdown",
   "metadata": {},
   "source": [
    "```例题1-5```  \n",
    "\n",
    "假如我们有一份学生名单列表，我们想统计每一个学生的姓氏（不允许重复）。"
   ]
  },
  {
   "cell_type": "code",
   "execution_count": 22,
   "metadata": {},
   "outputs": [
    {
     "name": "stdout",
     "output_type": "stream",
     "text": [
      "['袁冲', '王宇涵', '王飞龙', '何怡臻', '王迪', '陈飞羽', '陈昌杰', '寇晟毓', '何梦腾', '龚正', '胡维贺', '王子君', '王泳之', '张文博', '王笑笛', '梁杰凡', '徐梦荣', '顾钰彬', '王逸凡', '骆怡然', '宗欣荣', '廖阳君', '赵飞', '陆一彬', '王瑞祺', '李梓彬', '王为民', '罗阳杨', '张栩午', '刘博宇', '王勇杰', '龚城圩', '蒋争', '何骄晔', '丁柏钧', '张斌鹏', '李博文', '胡永帅', '何思翰', '钱潭锐', '逯家彤', '谈欣源', '贾亚伟', '白浩前', '莫一鸣', '滑思涵', '蔡祺峰', '张姝婧', '刘良玉', '向银川', '陆玫颖', '王福琪', '熊玮琪', '兰鹏飞', '叶郑汉', '于前前', '洪瑞', '鲁昕明', '檀惠伊', '范文奇', '王迪昇', '张雨祺', '郝柯冉', '崔璨麟', '邵雨萌']\n"
     ]
    }
   ],
   "source": [
    "# 从本地文件中加载学生姓名，存储到一个列表中\n",
    "names = []\n",
    "with open(\"data\\\\学生名单.csv\",'r',encoding='utf-8') as reader:\n",
    "    reader.readline()\n",
    "    for line in reader:\n",
    "        names.append(line.strip('\\n').split(',')[1])\n",
    "print(names)"
   ]
  },
  {
   "cell_type": "code",
   "execution_count": 25,
   "metadata": {},
   "outputs": [
    {
     "name": "stdout",
     "output_type": "stream",
     "text": [
      "{'胡', '钱', '滑', '贾', '逯', '陈', '骆', '莫', '叶', '何', '宗', '王', '徐', '梁', '廖', '顾', '张', '寇', '丁', '于', '刘', '蔡', '邵', '崔', '李', '罗', '洪', '向', '熊', '兰', '谈', '范', '郝', '陆', '赵', '龚', '鲁', '袁', '蒋', '檀', '白'}\n"
     ]
    }
   ],
   "source": [
    "# 把每一个人的姓挑出来，放到集合里;\n",
    "surnames = {name[0] for name in names}\n",
    "print(surnames)"
   ]
  },
  {
   "cell_type": "markdown",
   "metadata": {},
   "source": [
    "```例题1-6```  \n",
    "\n",
    "根据例题1-5生成的姓氏集合和姓名列表，我们将生成一个字典，键为姓氏，值为对应的学生姓名；"
   ]
  },
  {
   "cell_type": "code",
   "execution_count": 34,
   "metadata": {},
   "outputs": [
    {
     "name": "stdout",
     "output_type": "stream",
     "text": [
      "['张文博', '张栩午', '张斌鹏', '张姝婧', '张雨祺']\n"
     ]
    }
   ],
   "source": [
    "def find_names(sur,name_lst):\n",
    "    return [name for name in name_lst if name[0] == sur]\n",
    "\n",
    "sur_to_names = {key:find_names(key,names) for key in surnames} # 字典推导式\n",
    "print(sur_to_names['张'])"
   ]
  },
  {
   "cell_type": "markdown",
   "metadata": {},
   "source": [
    "## 2. 使用map(), filter(), enumerate()，zip()等函数操作列表"
   ]
  },
  {
   "cell_type": "markdown",
   "metadata": {},
   "source": [
    "### 2.1  map()  \n",
    "\n",
    "**map(func, *iterables)** 对给定的可迭代序列 iterables中的每一个元素都作用一个函数func，返回一个迭代器。即必须用for in 语句取出其内部元素。"
   ]
  },
  {
   "cell_type": "code",
   "execution_count": 40,
   "metadata": {},
   "outputs": [
    {
     "data": {
      "text/plain": [
       "<map at 0x18b7a074970>"
      ]
     },
     "execution_count": 40,
     "metadata": {},
     "output_type": "execute_result"
    }
   ],
   "source": [
    "map(abs, [-1,1,2,4,-5])"
   ]
  },
  {
   "cell_type": "markdown",
   "metadata": {},
   "source": [
    "**注意：**调用map函数后，它返回的是一个map类的对象。我们需要通过迭代的方式访问map类对象的元素"
   ]
  },
  {
   "cell_type": "code",
   "execution_count": 41,
   "metadata": {},
   "outputs": [
    {
     "data": {
      "text/plain": [
       "[1, 1, 2, 4, 5]"
      ]
     },
     "execution_count": 41,
     "metadata": {},
     "output_type": "execute_result"
    }
   ],
   "source": [
    "[x for x in map(abs, [-1,1,2,4,-5])]"
   ]
  },
  {
   "cell_type": "code",
   "execution_count": 42,
   "metadata": {},
   "outputs": [
    {
     "data": {
      "text/plain": [
       "[1, 1, 2, 4, 5]"
      ]
     },
     "execution_count": 42,
     "metadata": {},
     "output_type": "execute_result"
    }
   ],
   "source": [
    "list([x for x in map(abs, [-1,1,2,4,-5])])"
   ]
  },
  {
   "cell_type": "markdown",
   "metadata": {},
   "source": [
    "### 2.2 filter()"
   ]
  },
  {
   "cell_type": "markdown",
   "metadata": {},
   "source": [
    "filter()函数是Python提供给我们的过滤器。"
   ]
  },
  {
   "cell_type": "code",
   "execution_count": 25,
   "metadata": {},
   "outputs": [
    {
     "data": {
      "text/plain": [
       "<filter at 0x1fd01859340>"
      ]
     },
     "execution_count": 25,
     "metadata": {},
     "output_type": "execute_result"
    }
   ],
   "source": [
    "lst = [1,2,3,4,5]\n",
    "filter(lambda x:x % 2 == 0,lst)"
   ]
  },
  {
   "cell_type": "markdown",
   "metadata": {},
   "source": [
    "**注意**, 它返回的是一个filter类的对象，我们需要通过迭代的方式访问filter类对象里的元素。"
   ]
  },
  {
   "cell_type": "code",
   "execution_count": 26,
   "metadata": {},
   "outputs": [
    {
     "data": {
      "text/plain": [
       "[2, 4]"
      ]
     },
     "execution_count": 26,
     "metadata": {},
     "output_type": "execute_result"
    }
   ],
   "source": [
    "list(filter(lambda x:x % 2 == 0,lst))"
   ]
  },
  {
   "cell_type": "code",
   "execution_count": 27,
   "metadata": {},
   "outputs": [
    {
     "data": {
      "text/plain": [
       "[2, 4]"
      ]
     },
     "execution_count": 27,
     "metadata": {},
     "output_type": "execute_result"
    }
   ],
   "source": [
    "[x for x in lst if x%2 == 0]"
   ]
  },
  {
   "cell_type": "markdown",
   "metadata": {},
   "source": [
    "### 2.3 enumerate()  \n",
    "\n",
    "enumerate(iterable, start=0):  根据传入的可迭代对象，生成（序号，数据）对。"
   ]
  },
  {
   "cell_type": "code",
   "execution_count": 5,
   "metadata": {},
   "outputs": [
    {
     "data": {
      "text/plain": [
       "<enumerate at 0x173d6598080>"
      ]
     },
     "execution_count": 5,
     "metadata": {},
     "output_type": "execute_result"
    }
   ],
   "source": [
    "enumerate(\"helloworld\")"
   ]
  },
  {
   "cell_type": "code",
   "execution_count": 6,
   "metadata": {},
   "outputs": [
    {
     "data": {
      "text/plain": [
       "[(0, 'h'),\n",
       " (1, 'e'),\n",
       " (2, 'l'),\n",
       " (3, 'l'),\n",
       " (4, 'o'),\n",
       " (5, 'w'),\n",
       " (6, 'o'),\n",
       " (7, 'r'),\n",
       " (8, 'l'),\n",
       " (9, 'd')]"
      ]
     },
     "execution_count": 6,
     "metadata": {},
     "output_type": "execute_result"
    }
   ],
   "source": [
    "list(enumerate(\"helloworld\"))"
   ]
  },
  {
   "cell_type": "code",
   "execution_count": 7,
   "metadata": {},
   "outputs": [
    {
     "name": "stdout",
     "output_type": "stream",
     "text": [
      "0 h\n",
      "1 e\n",
      "2 l\n",
      "3 l\n",
      "4 o\n",
      "5 w\n",
      "6 o\n",
      "7 r\n",
      "8 l\n",
      "9 d\n"
     ]
    }
   ],
   "source": [
    "for i,data in enumerate(\"helloworld\"):\n",
    "    print(i,data)"
   ]
  },
  {
   "cell_type": "markdown",
   "metadata": {},
   "source": [
    "```课堂练习```  \n",
    "\n",
    "实现函数 find_digits(txt),输出当前文本txt中数字所在的位置。"
   ]
  },
  {
   "cell_type": "code",
   "execution_count": 8,
   "metadata": {},
   "outputs": [],
   "source": [
    "def find_digits(txt):\n",
    "    digits_pos = []\n",
    "    for i,s in enumerate(txt):\n",
    "        if s.isdigit():\n",
    "            digits_pos.append(i)\n",
    "    return digits_pos"
   ]
  },
  {
   "cell_type": "code",
   "execution_count": 10,
   "metadata": {},
   "outputs": [
    {
     "name": "stdout",
     "output_type": "stream",
     "text": [
      "[16, 17, 18, 19, 20, 21, 22, 23, 24]\n"
     ]
    }
   ],
   "source": [
    "print(find_digits('My QQ number is 410870295'))"
   ]
  },
  {
   "cell_type": "markdown",
   "metadata": {},
   "source": [
    "### 2.4  zip()  \n",
    "\n",
    "zip(*iterables) 将传入的多个可迭代对象进行配对组合（按照各自的顺序，1-1，2-2，...）"
   ]
  },
  {
   "cell_type": "code",
   "execution_count": 30,
   "metadata": {},
   "outputs": [
    {
     "data": {
      "text/plain": [
       "<zip at 0x1fd018758c0>"
      ]
     },
     "execution_count": 30,
     "metadata": {},
     "output_type": "execute_result"
    }
   ],
   "source": [
    "# zip函数生成矩阵\n",
    "array1 = [1,2,3]\n",
    "array2 = [4,5,6]\n",
    "array3 = [7,8,9]\n",
    "zip(array1,array2,array3)"
   ]
  },
  {
   "cell_type": "code",
   "execution_count": 31,
   "metadata": {},
   "outputs": [
    {
     "data": {
      "text/plain": [
       "[(1, 4, 7), (2, 5, 8), (3, 6, 9)]"
      ]
     },
     "execution_count": 31,
     "metadata": {},
     "output_type": "execute_result"
    }
   ],
   "source": [
    "list(zip(array1,array2,array3))"
   ]
  },
  {
   "cell_type": "code",
   "execution_count": 15,
   "metadata": {},
   "outputs": [
    {
     "name": "stdout",
     "output_type": "stream",
     "text": [
      "0 100\n",
      "1 110\n",
      "2 120\n",
      "3 130\n",
      "4 140\n",
      "5 150\n",
      "6 160\n",
      "7 170\n",
      "8 180\n",
      "9 190\n"
     ]
    }
   ],
   "source": [
    "X = list(range(10))\n",
    "Y = list(range(100,200,10))\n",
    "points = zip(X,Y)\n",
    "for x,y in points:\n",
    "    print(x,y)"
   ]
  },
  {
   "cell_type": "code",
   "execution_count": 16,
   "metadata": {},
   "outputs": [],
   "source": [
    "for x,y in points:\n",
    "    print(x,y)"
   ]
  },
  {
   "cell_type": "markdown",
   "metadata": {},
   "source": [
    "## 3. 再谈字典"
   ]
  },
  {
   "cell_type": "markdown",
   "metadata": {},
   "source": [
    "## 3.1 有序字典  \n",
    "\n",
    "字典里的映射对保持着插入时的顺序"
   ]
  },
  {
   "cell_type": "code",
   "execution_count": 48,
   "metadata": {},
   "outputs": [
    {
     "name": "stdout",
     "output_type": "stream",
     "text": [
      "foo 1\n",
      "bar 2\n",
      "spam 3\n"
     ]
    }
   ],
   "source": [
    "from collections import OrderedDict\n",
    "\n",
    "d = OrderedDict()\n",
    "d['foo'] = 1\n",
    "d['bar'] = 2\n",
    "d['spam'] = 3\n",
    "for key in d:\n",
    "    print(key,d[key])"
   ]
  },
  {
   "cell_type": "markdown",
   "metadata": {},
   "source": [
    "### 3.2 键值反转  \n",
    "\n",
    "有时候我们需要对字典中的数据执行一些计算操作，比如求大小、排序等；通常情况下，这些数据是以字典的值的形式存储的。"
   ]
  },
  {
   "cell_type": "code",
   "execution_count": 49,
   "metadata": {},
   "outputs": [],
   "source": [
    "prices = {\n",
    "    'ACME':45.23,\n",
    "    'AAPL':612.78,\n",
    "    'IBM':205.55,\n",
    "    'HPQ':37.2,\n",
    "    'FB':10.75\n",
    "}"
   ]
  },
  {
   "cell_type": "code",
   "execution_count": 50,
   "metadata": {},
   "outputs": [
    {
     "data": {
      "text/plain": [
       "(10.75, 'FB')"
      ]
     },
     "execution_count": 50,
     "metadata": {},
     "output_type": "execute_result"
    }
   ],
   "source": [
    "min_price = min(zip(prices.values(),prices.keys()))\n",
    "min_price"
   ]
  },
  {
   "cell_type": "code",
   "execution_count": 51,
   "metadata": {},
   "outputs": [
    {
     "data": {
      "text/plain": [
       "(612.78, 'AAPL')"
      ]
     },
     "execution_count": 51,
     "metadata": {},
     "output_type": "execute_result"
    }
   ],
   "source": [
    "max_price = max(zip(prices.values(),prices.keys()))\n",
    "max_price"
   ]
  },
  {
   "cell_type": "markdown",
   "metadata": {},
   "source": [
    "**注意**：如果最大值和最小值恰好有重复的，那么这个操作只会返回最小键和最大键的实体。"
   ]
  },
  {
   "cell_type": "code",
   "execution_count": 53,
   "metadata": {},
   "outputs": [
    {
     "data": {
      "text/plain": [
       "(45.23, 'AAA')"
      ]
     },
     "execution_count": 53,
     "metadata": {},
     "output_type": "execute_result"
    }
   ],
   "source": [
    "prices = {'AAA':45.23,'ZZZ':45.23}\n",
    "min(zip(prices.values(),prices.keys()))\n"
   ]
  },
  {
   "cell_type": "code",
   "execution_count": 54,
   "metadata": {},
   "outputs": [
    {
     "data": {
      "text/plain": [
       "(45.23, 'ZZZ')"
      ]
     },
     "execution_count": 54,
     "metadata": {},
     "output_type": "execute_result"
    }
   ],
   "source": [
    "max(zip(prices.values(),prices.keys()))"
   ]
  },
  {
   "cell_type": "markdown",
   "metadata": {},
   "source": [
    "### 3.4 查找两个字典的相同点"
   ]
  },
  {
   "cell_type": "code",
   "execution_count": 55,
   "metadata": {},
   "outputs": [],
   "source": [
    "a = {\n",
    "    'x':1,\n",
    "    'y':2,\n",
    "    'z':3\n",
    "}\n",
    "\n",
    "b = {\n",
    "    'w':10,\n",
    "    'x':11,\n",
    "    'y':2\n",
    "}"
   ]
  },
  {
   "cell_type": "code",
   "execution_count": 56,
   "metadata": {},
   "outputs": [
    {
     "data": {
      "text/plain": [
       "{'x', 'y'}"
      ]
     },
     "execution_count": 56,
     "metadata": {},
     "output_type": "execute_result"
    }
   ],
   "source": [
    "a.keys() & b.keys()"
   ]
  },
  {
   "cell_type": "code",
   "execution_count": 57,
   "metadata": {},
   "outputs": [
    {
     "data": {
      "text/plain": [
       "{'z'}"
      ]
     },
     "execution_count": 57,
     "metadata": {},
     "output_type": "execute_result"
    }
   ],
   "source": [
    "a.keys() - b.keys()"
   ]
  },
  {
   "cell_type": "code",
   "execution_count": 58,
   "metadata": {},
   "outputs": [],
   "source": [
    "c = {key:a[key] for key in a.keys() - {'z','w'}}"
   ]
  },
  {
   "cell_type": "markdown",
   "metadata": {},
   "source": [
    "```课堂案例```  \n",
    "\n",
    "字典经常被用作小型数据库。现有一份女性参与劳动的数据集，请将其 Country、Female Labor Force Participation Rate 两列属性的内容写到字典中，键为国家名称，值为女性劳动力参与比率。并且按照女性劳动力参与比率对国家进行排序，输出前5和后5国家。并且找出中国在此名单中的名次。"
   ]
  },
  {
   "cell_type": "code",
   "execution_count": 2,
   "metadata": {},
   "outputs": [
    {
     "name": "stdout",
     "output_type": "stream",
     "text": [
      "前五个国家为：\n",
      "Iceland Switzerland Sweden Macedonia Denmark \n",
      "后五个国家为：\n",
      "Saudi Arabia Algeria Tunisia Turkey Jamaica \n",
      "中国位置为： 22\n"
     ]
    }
   ],
   "source": [
    "file1 = open('women_labor.csv', 'r')\n",
    "data = {}\n",
    "with open(\"women_labor.csv\", 'r', encoding='utf-8') as reader:\n",
    "    reader.readline()\n",
    "    for line in reader:\n",
    "        data[line.strip('\\n').split(',')[1]] = line.strip('\\n').split(',')[8]\n",
    "data1 = sorted(data.items(), key=lambda x: x[1], reverse=True)\n",
    "data2 = sorted(data.items(), key=lambda x: x[1], reverse=False)\n",
    "print(\"前五个国家为：\")\n",
    "for i in range(5):\n",
    "    print(data1[i][0], end=' ')\n",
    "print(\"\\n后五个国家为：\")\n",
    "for i in range(5):\n",
    "    print(data2[i][0], end=' ')\n",
    "a = data.get('China')\n",
    "china = data1.index(('China', str(a)))\n",
    "print('\\n中国位置为：', china)\n"
   ]
  }
 ],
 "metadata": {
  "kernelspec": {
   "display_name": "PyCharm (one)",
   "language": "python",
   "name": "pycharm-c4f52c"
  },
  "language_info": {
   "codemirror_mode": {
    "name": "ipython",
    "version": 3
   },
   "file_extension": ".py",
   "mimetype": "text/x-python",
   "name": "python",
   "nbconvert_exporter": "python",
   "pygments_lexer": "ipython3",
   "version": "3.9.7"
  }
 },
 "nbformat": 4,
 "nbformat_minor": 2
}
