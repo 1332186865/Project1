{
 "cells": [
  {
   "cell_type": "markdown",
   "metadata": {},
   "source": [
    "## Exercise 1  \n",
    "执行以下代码，并分析执行过程（为什么得到了这个结果）<br></br>min(2,3,4)<br>\n",
    "</br>max(2,-3,4,7,-5)<br>\n",
    "</br>max(2,-3,min(4,7),-5)"
   ]
  },
  {
   "cell_type": "code",
   "execution_count": 3,
   "metadata": {},
   "outputs": [
    {
     "name": "stdout",
     "output_type": "stream",
     "text": [
      "2 7 4\n"
     ]
    }
   ],
   "source": [
    "a = min(2, 3, 4)\n",
    "b = max(2, -3, 4, 7, -5)\n",
    "c = max(2, -3, min(4, 7), -5)\n",
    "print(a, b, c)\n",
    "# a：找最小值； b：找最大值；c:先找（4， 7）最小值再找最大值"
   ]
  },
  {
   "cell_type": "markdown",
   "metadata": {},
   "source": [
    "## Exercise 2  \n",
    "实现一个函数，输入一个整数，返回这个整数的3倍。（例如：输入3，输出9）"
   ]
  },
  {
   "cell_type": "code",
   "execution_count": 4,
   "metadata": {},
   "outputs": [
    {
     "name": "stdout",
     "output_type": "stream",
     "text": [
      "9\n"
     ]
    }
   ],
   "source": [
    "def price3(x):\n",
    "    y = 3 * x\n",
    "    return y\n",
    "\n",
    "\n",
    "print(price3(3))"
   ]
  },
  {
   "cell_type": "markdown",
   "metadata": {},
   "source": [
    " Exercise 3  \n",
    "实现一个函数，功能是求出两数之差的绝对值并返回。（例如，输入 2 和 5，返回 3）"
   ]
  },
  {
   "cell_type": "code",
   "execution_count": 5,
   "metadata": {},
   "outputs": [
    {
     "name": "stdout",
     "output_type": "stream",
     "text": [
      "3\n"
     ]
    }
   ],
   "source": [
    "def jdz(x, y):\n",
    "    if x - y < 0:\n",
    "        return -(x - y)\n",
    "    else:\n",
    "        return x - y\n",
    "\n",
    "\n",
    "print(jdz(2, 5))"
   ]
  },
  {
   "cell_type": "markdown",
   "metadata": {},
   "source": [
    "## Exercise 4\n",
    "实现一个函数，有4个输入参数，功能是返回其中较大的三个参数的平均值。"
   ]
  },
  {
   "cell_type": "code",
   "execution_count": 4,
   "metadata": {},
   "outputs": [
    {
     "name": "stdout",
     "output_type": "stream",
     "text": [
      "[2, 3, 4]\n"
     ]
    },
    {
     "data": {
      "text/plain": "3.0"
     },
     "execution_count": 4,
     "metadata": {},
     "output_type": "execute_result"
    }
   ],
   "source": [
    "def pjz(a, b, c, d):\n",
    "    ls = [a, b, c, d]\n",
    "    e = min(a, b, c, d)\n",
    "    ls.remove(e)\n",
    "    print(ls)\n",
    "    s = sum(ls) / 3\n",
    "    return s\n",
    "\n",
    "\n",
    "pjz(1, 2, 3, 4)"
   ]
  },
  {
   "cell_type": "markdown",
   "metadata": {},
   "source": [
    "## Exercise 5\n",
    "\n",
    "编程模拟随机试验：抛掷10次硬币，并计算正面朝上的次数。随着抛掷次数增加，10次、1000次、100000次、10000000次，观察模拟结果是否随着试验次数的增加，硬币正面朝上的频次趋于稳定。\n",
    "\n",
    "**hint**:\n",
    "利用 random 库中的random()方法生成一个\\[0,1\\]之间的随机数，认为该数若大于0.5，表示硬币投掷结果正面朝上。"
   ]
  },
  {
   "cell_type": "code",
   "execution_count": 6,
   "metadata": {},
   "outputs": [
    {
     "name": "stdout",
     "output_type": "stream",
     "text": [
      "正面向上的次数为 2548\n",
      "正面朝上的概率为50.96%\n",
      "正面朝上的概率为50.02%\n"
     ]
    }
   ],
   "source": [
    "import random\n",
    "\n",
    "n = int(input(\"次数\", ))\n",
    "ls = [0, 0]\n",
    "for i in range(n):\n",
    "    a = random.random()\n",
    "    if a > 0.5:\n",
    "        ls[0] += 1\n",
    "    else:\n",
    "        ls[1] += 1\n",
    "m = ls[1] / n\n",
    "print(\"正面向上的次数为\", ls[1])\n",
    "print(\"正面朝上的概率为{:.2%}\".format(m))\n",
    "\n",
    "def coin_count(num):\n",
    "    count = 0\n",
    "    for i in range(num):\n",
    "        s = random.random()\n",
    "        if s > 0.5:\n",
    "            count += 1\n",
    "    return count / num\n",
    "\n",
    "\n",
    "print(\"正面朝上的概率为{:.2%}\".format(coin_count(n)))\n"
   ]
  }
 ],
 "metadata": {
  "kernelspec": {
   "name": "pycharm-project2",
   "language": "python",
   "display_name": "PyCharm (project2)"
  },
  "language_info": {
   "codemirror_mode": {
    "name": "ipython",
    "version": 3
   },
   "file_extension": ".py",
   "mimetype": "text/x-python",
   "name": "python",
   "nbconvert_exporter": "python",
   "pygments_lexer": "ipython3",
   "version": "3.8.10"
  }
 },
 "nbformat": 4,
 "nbformat_minor": 4
}