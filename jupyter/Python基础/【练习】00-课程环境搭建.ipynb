{
 "cells": [
  {
   "cell_type": "markdown",
   "metadata": {},
   "source": [
    "# 【练习】00-课程环境搭建"
   ]
  },
  {
   "cell_type": "markdown",
   "metadata": {},
   "source": [
    "## Exercise 1  \n",
    "\n",
    "**目标：**\n",
    "\n",
    "正确安装 Anaconda，并配置系统环境变量；（如果你是老手，觉得anaconda太大，不妨考虑miniconda，miniconda是一个轻量级的conda包管理器，只有基础的包，安装miniconda后需要自己安装后续的数据分析包、可视化包等）"
   ]
  },
  {
   "cell_type": "markdown",
   "metadata": {},
   "source": [
    "**内容：**   \n",
    "\n",
    "1. 打开清华源镜像网址，选择合适的（操作系统、位）软件下载。\n",
    "https://mirrors.tuna.tsinghua.edu.cn/anaconda/archive/  \n",
    "（注意：选择2018年后的版本，不要选太古早的版本）\n",
    "\n",
    "双击下载后的exe文件，安装在本地机器上，安装时请修改路径到根目录下（主要是为了好记忆，安装后还需要配置环境变量）。  注意，anaconda安装的时候，大目录名字为**anaconda3**,这是正确的，不要自己把最后的3去掉！！！\n",
    "\n",
    "2. 安装后请开始配置环境变量：  \n",
    "找到 anaconda 安装路径下的几个文件夹，并将它们的路径加到系统环境变量里。具体的操作如下：  \n",
    "1) 找到文件夹的路径   \n",
    "<img src=\"resource/配置环境变量.png\" style=\"zoom:30%\">\n",
    "第一个是文件夹路径是：  \n",
    "D:\\\\anaconda3  \n",
    "第二个文件夹路径是：    \n",
    "D:\\\\anaconda3\\\\Library\\\\bin  \n",
    "第三个文件夹路径是：  \n",
    "D:\\\\anaconda3\\\\Scripts  \n",
    "\n",
    "2) 打开系统环境变量  \n",
    "在win10搜索框输入“系统”，一般来说编辑系统环境变量就出现了。点进去。\n",
    "<img src=\"resource/配置环境变量2.png\" style=\"zoom:40%\">  \n",
    "选择配置环境变量\n",
    "<img src=\"resource/配置环境变量3.png\" style=\"zoom:40%\"> \n",
    "选择系统环境变量下的Path，点击编辑：\n",
    "<img src=\"resource/配置环境变量4.png\" style=\"zoom:40%\"> \n",
    "点击新建，将刚才提到的anaconda的三个文件夹路径输入进去；点击确定；\n",
    "<img src=\"resource/配置环境变量5.png\" style=\"zoom:40%\"> \n",
    "3) 确认环境配置成功   \n",
    "打开cmd命令行，输入 \"conda --version\",应当返回conda的版本号；  \n",
    "打开cmd命令行，输入 \"jupyter notebook --version\", 应当返回 jupyter notebook的版本号。\n",
    "<img src=\"resource/验证环境.png\" style=\"zoom:50%\"> \n"
   ]
  },
  {
   "cell_type": "markdown",
   "metadata": {},
   "source": [
    "## Exercise 2  \n",
    "\n",
    "**目标:**\n",
    "\n",
    "练习conda的基本命令。"
   ]
  },
  {
   "cell_type": "markdown",
   "metadata": {},
   "source": [
    "**内容：**"
   ]
  },
  {
   "cell_type": "markdown",
   "metadata": {},
   "source": [
    "1. anaconda 内部有很多数据科学库，可以通过 conda list 命令来查看库名。\n",
    "打开cmd， 输入 **conda list**, 回车：\n",
    "<img src=\"resource/conda命令1.png\" style=\"zoom:50%\"> \n",
    "2. 设置 conda 下载三方库的网址  \n",
    "1） 查看当前的三方库的网址\n",
    "cmd中输入命令 **conda config --show channels**\n",
    "<img src=\"resource/conda命令2.png\" style=\"zoom:50%\"> \n",
    "当前显示为 defaults，这是默认设置, 可以添加清华源的官方镜像网址，提高下载包的速度。添加清华源channels的命令为：\n",
    "**conda config --add channels https://mirrors.tuna.tsinghua.edu.cn/anaconda/pkgs/free**\n",
    "<img src=\"resource/conda命令3.png\" style=\"zoom:50%\"> \n",
    "可以看到图中，清华源地址被设置为最高优先级。同时也可以删去不需要的channels，通过命令**conda config --remove channels 待删除的channel路径**  \n",
    "\n",
    "3. 安装包\n",
    "打开cmd， 输入**conda install 待安装的包名**  \n",
    "<img src=\"resource/conda命令4.png\" style=\"zoom:50%\">   \n",
    "图中安装的是一个解析库BeautifulSoup，用于将获取到的html或xml文件中的内容提取出来，常用于爬虫中网页内容的解析。以后大家安装其他的包也用此命令即可。卸载包的命令是“conda uninstall 待卸载的包名”\n",
    "\n",
    "4. 新建虚拟环境  \n",
    "conda 除了管理包以外，还可以管理Python环境。比如你同时需要使用Python的两个大版本，例如python2.7和Python3.5，那么可以为它们开辟两个不同的环境；或者你当前有一个特定的任务要完成，只需要某几个包即可，如果安装在当前的base环境（我们直接安装anaconda以后都是在base环境下运行代码的）里，任务结束后要清理环境，比较麻烦，你可以直接创建一个单独的新Python环境，把需要的包安装在新的环境中，运行你的代码。等任务结束，直接删除环境，不会对base造成任何影响。  \n",
    "\n",
    "现在我们来试着创建一个用于爬虫的环境吧！假设我们需要 Python 版本为3.6。打开cmd，输入： \n",
    "conda create -n crawler_su python=3.6\n",
    "其中 crawler_su 是新环境的名字。\n",
    "<img src=\"resource/创建环境1.png\" style=\"zoom:50%\">\n",
    "\n",
    "创建新环境的时候，需要安装几个基础的包，确认即可；创建好以后，可以通过activate命令进入新环境：  \n",
    "\n",
    "<img src=\"resource/创建环境2.png\" style=\"zoom:50%\">\n",
    "\n",
    "可以看到新环境里只有几个基础的包，可以通过conda install 继续安装需要的包。\n",
    "\n",
    "若要关闭新环境，输入 conda deactivate 命令即可。\n",
    "\n",
    "<img src=\"resource/创建环境3.png\" style=\"zoom:50%\">\n",
    "\n",
    "\n",
    "\n",
    "补充：  \n",
    "\n",
    "* conda 常用命令   \n",
    "https://www.jianshu.com/p/36ec478996c0\n",
    "\n"
   ]
  },
  {
   "cell_type": "markdown",
   "metadata": {},
   "source": [
    "## Exercise 3 "
   ]
  },
  {
   "cell_type": "markdown",
   "metadata": {},
   "source": [
    "**目标**：\n",
    "\n",
    "修改 Jupyter Notebook 的默认工作路径（必改）和浏览器（可选），并熟悉使用 Jupyter Notebook 的编程环境（例如 cell区域 markdown语言和code 的区别、如何运行代码、常用快捷键的使用）  \n"
   ]
  },
  {
   "cell_type": "markdown",
   "metadata": {},
   "source": [
    "**内容**：\n",
    "\n",
    "1. 配置Notebook的工作路径  \n",
    "打开cmd， 输入jupyter notebook --generate-config  \n",
    "\n",
    "<img src=\"resource/设置notebook1.png\" style=\"zoom:50%\">\n",
    "如果没有报错的话，会在c盘，用户下生成一个.jupyter文件夹，点进去，可以看到jupyter notebook的配置文件，名为jupyter_notebook_config.py\n",
    "用记事本打开\n",
    "<img src=\"resource/配置notebook2.png\" style=\"zoom:50%\">\n",
    "\n",
    "搜索 book_dir\n",
    "<img src=\"resource/配置notebook3.png\" style=\"zoom:50%\">\n",
    "看到如下图所示代码，是用来设置jupyter notebook对应的默认本地路径。修改c.NotebookApp.notebook_dir = '' 的值，填入你自己的路径即可。记得把该行的注释符号删去，保存，再次打开jupyter notebook就生效了。  \n",
    "\n"
   ]
  },
  {
   "cell_type": "markdown",
   "metadata": {},
   "source": [
    "2. jupyter notebook的学习和使用\n",
    "\n",
    "https://www.zhihu.com/question/46309360/answer/254638807"
   ]
  },
  {
   "cell_type": "code",
   "execution_count": null,
   "metadata": {},
   "outputs": [],
   "source": []
  }
 ],
 "metadata": {
  "kernelspec": {
   "display_name": "Python 3 (ipykernel)",
   "language": "python",
   "name": "python3"
  },
  "language_info": {
   "codemirror_mode": {
    "name": "ipython",
    "version": 3
   },
   "file_extension": ".py",
   "mimetype": "text/x-python",
   "name": "python",
   "nbconvert_exporter": "python",
   "pygments_lexer": "ipython3",
   "version": "3.8.10"
  }
 },
 "nbformat": 4,
 "nbformat_minor": 4
}
