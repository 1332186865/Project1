{
 "cells": [
  {
   "cell_type": "markdown",
   "metadata": {},
   "source": [
    "## Exercise 1  \n",
    "以下表达式的输出结果是什么？请验证。  \n",
    "True and not False  \n",
    "True and not false  \n",
    "True or True and False  \n",
    "not True or not False\n",
    "True and not 0  \n",
    "52 < 52.3  \n",
    "1 + 52 < 52.3  \n",
    "4 != 4.0  \n"
   ]
  },
  {
   "cell_type": "code",
   "execution_count": null,
   "metadata": {},
   "outputs": [],
   "source": []
  },
  {
   "cell_type": "markdown",
   "metadata": {},
   "source": [
    "## Exercise 2  \n",
    "试写一个代码，使得野外用的摄像机能够正常工作。要求是，当光线强度小于0.01（单位：lux）或者温度在零度以上时，摄像机能够自动打开。以上两个条件都满足时，摄像机不能自动打开。（假设控制摄像头自动打开的函数turn_camera_on()已经定义好，可以直接调用）"
   ]
  },
  {
   "cell_type": "markdown",
   "metadata": {},
   "source": [
    "```参考答案```"
   ]
  },
  {
   "cell_type": "code",
   "execution_count": 5,
   "metadata": {},
   "outputs": [
    {
     "name": "stdout",
     "output_type": "stream",
     "text": [
      "输入光线强度：4\n",
      "输入温度：4\n",
      "自动打开相机\n"
     ]
    }
   ],
   "source": [
    "def turn_camera_on():\n",
    "    print(\"自动打开相机\")\n",
    "    pass\n",
    "light = eval(input(\"输入光线强度：\"))\n",
    "temptr = eval(input(\"输入温度：\"))\n",
    "if (light < 0.01 and temptr <= 0) or (light >= 0.01 and temptr > 0):\n",
    "    turn_camera_on()\n"
   ]
  },
  {
   "cell_type": "markdown",
   "metadata": {},
   "source": [
    "## Exercise 3  \n",
    "实现一个函数，名为different，接收两个参数a和b，当a和b的值相同，则函数输出为True；否则输出为False；"
   ]
  },
  {
   "cell_type": "code",
   "execution_count": 6,
   "metadata": {},
   "outputs": [],
   "source": [
    "def different(a,b):\n",
    "    return a == b"
   ]
  },
  {
   "cell_type": "markdown",
   "metadata": {},
   "source": [
    "## Exercise 4  \n",
    "产生并打印100内的所有奇数"
   ]
  },
  {
   "cell_type": "code",
   "execution_count": 7,
   "metadata": {},
   "outputs": [
    {
     "name": "stdout",
     "output_type": "stream",
     "text": [
      "1,3,5,7,9,11,13,15,17,19,21,23,25,27,29,31,33,35,37,39,41,43,45,47,49,51,53,55,57,59,61,63,65,67,69,71,73,75,77,79,81,83,85,87,89,91,93,95,97,99,"
     ]
    }
   ],
   "source": [
    "for n in range(1,100,2):\n",
    "    print(n,end=\",\")"
   ]
  },
  {
   "cell_type": "markdown",
   "metadata": {},
   "source": [
    "## Exercise 5  \n",
    "思考以下代码的功能，并修改代码，使得它能够产生正确的输出。"
   ]
  },
  {
   "cell_type": "code",
   "execution_count": 7,
   "metadata": {},
   "outputs": [
    {
     "data": {
      "text/plain": [
       "[-1, 2]"
      ]
     },
     "execution_count": 7,
     "metadata": {},
     "output_type": "execute_result"
    }
   ],
   "source": [
    "def remove_neg(num_list):\n",
    "    \"\"\"\n",
    "    (list of number) -> NoneType\n",
    "    \n",
    "    删除num_list列表中的负数\n",
    "    \n",
    "    >>>numbers = [-5,1,-3,2]\n",
    "    >>>remove_neg(numbers)\n",
    "    >>>numbers\n",
    "    [1,2]\n",
    "\n",
    "    \"\"\"\n",
    "    for item in num_list:\n",
    "        if item < 0:\n",
    "            num_list.remove(item)\n",
    "    return num_list\n",
    "\n",
    "remove_neg([-5,-1,-3,2])\n"
   ]
  },
  {
   "cell_type": "markdown",
   "metadata": {},
   "source": [
    "```参考答案```"
   ]
  },
  {
   "cell_type": "markdown",
   "metadata": {},
   "source": [
    "代码的本意是删除列表中的负数元素，但是不能在遍历列表元素的同时修改列表。"
   ]
  },
  {
   "cell_type": "code",
   "execution_count": 8,
   "metadata": {},
   "outputs": [
    {
     "data": {
      "text/plain": [
       "[2]"
      ]
     },
     "execution_count": 8,
     "metadata": {},
     "output_type": "execute_result"
    }
   ],
   "source": [
    "def remove_neg(num_list):\n",
    "\n",
    "    for item in num_list[::]: # 遍历列表的复制切片\n",
    "        if item < 0:\n",
    "            num_list.remove(item)\n",
    "    return num_list\n",
    "\n",
    "remove_neg([-5,-1,-3,2])\n"
   ]
  },
  {
   "cell_type": "markdown",
   "metadata": {},
   "source": [
    "## Exercise 6\n",
    "用户登陆程序需求:\n",
    "    1. 输入用户名和密码;\n",
    "    2. 判断用户名和密码是否正确；\n",
    "    3. 为了防止暴力破解， 登陆仅有三次机会， 如果超过三次机会， 报错提示;"
   ]
  },
  {
   "cell_type": "markdown",
   "metadata": {},
   "source": [
    "```参考答案```"
   ]
  },
  {
   "cell_type": "code",
   "execution_count": 11,
   "metadata": {},
   "outputs": [
    {
     "name": "stdout",
     "output_type": "stream",
     "text": [
      "请输入您的用户名：zhangsan\n",
      "请输入您的密码：124\n",
      "您还有2次机会！\n",
      "请输入您的用户名：zhangsan\n",
      "请输入您的密码：123\n",
      "成功登录！\n"
     ]
    }
   ],
   "source": [
    "db = {'zhangsan':'123','zhaosi':'456','liuneng':'hhh'}\n",
    "count = 0\n",
    "while True:\n",
    "    user_name = input(\"请输入您的用户名：\")\n",
    "    user_pwd = input(\"请输入您的密码：\")\n",
    "    if db.get(user_name) == user_pwd:\n",
    "        print(\"成功登录！\")\n",
    "        break\n",
    "    count += 1\n",
    "    if count == 3:\n",
    "        print(\"您已超过三次！结束！\")\n",
    "        break\n",
    "    print(f\"您还有{3-count}次机会！\")"
   ]
  },
  {
   "cell_type": "code",
   "execution_count": null,
   "metadata": {},
   "outputs": [],
   "source": []
  }
 ],
 "metadata": {
  "kernelspec": {
   "name": "pycharm-project2",
   "language": "python",
   "display_name": "PyCharm (project2)"
  },
  "language_info": {
   "codemirror_mode": {
    "name": "ipython",
    "version": 3
   },
   "file_extension": ".py",
   "mimetype": "text/x-python",
   "name": "python",
   "nbconvert_exporter": "python",
   "pygments_lexer": "ipython3",
   "version": "3.8.10"
  }
 },
 "nbformat": 4,
 "nbformat_minor": 4
}