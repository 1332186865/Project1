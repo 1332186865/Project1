{
 "cells": [
  {
   "cell_type": "markdown",
   "metadata": {},
   "source": [
    "## Exercise 1  \n",
    "Use a list comprehension to remove empty lists from a list of lists. [ [],\n",
    "[0,1,2], [] , [3,6,7,21]] -> [[0, 1, 2], [3, 6, 7, 21]]\n"
   ]
  },
  {
   "cell_type": "code",
   "execution_count": 1,
   "metadata": {},
   "outputs": [
    {
     "data": {
      "text/plain": "[[0, 1, 2], [3, 6, 7, 21]]"
     },
     "execution_count": 1,
     "metadata": {},
     "output_type": "execute_result"
    }
   ],
   "source": [
    "[x for x in [[], [0, 1, 2], [], [3, 6, 7, 21]] if len(x) != 0]"
   ]
  },
  {
   "cell_type": "markdown",
   "metadata": {},
   "source": [
    "## Exercise 2  \n",
    "Use list comprehensions to convert a list of words to a list of tuples where\n",
    "each tuple contains the word and the length of the word.   \n",
    "['Hello', 'Me'] -> [('Hello', 5), ('Me', 2)]"
   ]
  },
  {
   "cell_type": "code",
   "execution_count": 4,
   "metadata": {},
   "outputs": [
    {
     "data": {
      "text/plain": [
       "[('Hello', 5), ('Me', 2)]"
      ]
     },
     "execution_count": 4,
     "metadata": {},
     "output_type": "execute_result"
    }
   ],
   "source": [
    "[(astr, len(astr)) for astr in ['Hello', 'Me']]"
   ]
  },
  {
   "cell_type": "markdown",
   "metadata": {},
   "source": [
    "## Exercise 3  \n",
    "Use list comprehensions to replace all numbers ending with zero with zero\n",
    "in a list.   \n",
    "[10, 1, 2, 100, 200] -> [0, 1, 2, 0, 0]"
   ]
  },
  {
   "cell_type": "code",
   "execution_count": 10,
   "metadata": {},
   "outputs": [
    {
     "data": {
      "text/plain": [
       "[0, 1, 2, 0, 0]"
      ]
     },
     "execution_count": 10,
     "metadata": {},
     "output_type": "execute_result"
    }
   ],
   "source": [
    "[x if x % 10 != 0 else 0 for x in [10, 1, 2, 100, 200]]"
   ]
  },
  {
   "cell_type": "markdown",
   "metadata": {},
   "source": [
    "## Exercise 4  \n",
    "Use list comprehensions to use two lists (might be different length) and\n",
    "produce a list of all possible combinations of one element of each list  \n",
    "a = [\"apple\",\"pie\"] b = [6,7,8,9,10]   \n",
    "Output: [('apple', 6), ('apple', 7), ('apple',\n",
    "8), ('apple', 9), ('apple', 10), ('pie', 6), ('pie', 7), ('pie', 8), ('pie', 9), ('pie',\n",
    "10)]"
   ]
  },
  {
   "cell_type": "code",
   "execution_count": 11,
   "metadata": {},
   "outputs": [
    {
     "data": {
      "text/plain": [
       "[('apple', 6),\n",
       " ('apple', 7),\n",
       " ('apple', 8),\n",
       " ('apple', 9),\n",
       " ('apple', 10),\n",
       " ('pie', 6),\n",
       " ('pie', 7),\n",
       " ('pie', 8),\n",
       " ('pie', 9),\n",
       " ('pie', 10)]"
      ]
     },
     "execution_count": 11,
     "metadata": {},
     "output_type": "execute_result"
    }
   ],
   "source": [
    "[(astr, number) for astr in [\"apple\", \"pie\"] for number in [6, 7, 8, 9, 10]]"
   ]
  },
  {
   "cell_type": "markdown",
   "metadata": {},
   "source": [
    "## Exercise 5  \n",
    "Use list comprehensions to use two lists of the same length, and produce\n",
    "a list of tuples with corresponding elements. For example: Two lists:   \n",
    "a = [1,2,3,4,5] b = [6,7,8,9,10]   \n",
    "Output: [(1, 6), (2, 7), (3, 8), (4, 9), (5, 10)]  \n",
    "**Hint**: Python has builtin function **zip** for this."
   ]
  },
  {
   "cell_type": "code",
   "execution_count": 12,
   "metadata": {},
   "outputs": [
    {
     "data": {
      "text/plain": [
       "[(1, 6), (2, 7), (3, 8), (4, 9), (5, 10)]"
      ]
     },
     "execution_count": 12,
     "metadata": {},
     "output_type": "execute_result"
    }
   ],
   "source": [
    "a = [1, 2, 3, 4, 5]\n",
    "b = [6, 7, 8, 9, 10]\n",
    "list(zip(a, b))"
   ]
  }
 ],
 "metadata": {
  "kernelspec": {
   "name": "pycharm-project2",
   "language": "python",
   "display_name": "PyCharm (project2)"
  },
  "language_info": {
   "codemirror_mode": {
    "name": "ipython",
    "version": 3
   },
   "file_extension": ".py",
   "mimetype": "text/x-python",
   "name": "python",
   "nbconvert_exporter": "python",
   "pygments_lexer": "ipython3",
   "version": "3.8.10"
  }
 },
 "nbformat": 4,
 "nbformat_minor": 4
}