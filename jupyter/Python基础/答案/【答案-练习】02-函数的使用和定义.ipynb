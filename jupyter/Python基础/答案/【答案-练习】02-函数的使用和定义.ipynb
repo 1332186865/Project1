{
 "cells": [
  {
   "cell_type": "markdown",
   "metadata": {},
   "source": [
    "## Exercise 1  \n",
    "执行以下代码，并分析执行过程（为什么得到了这个结果）<br></br>min(2,3,4)<br>\n",
    "</br>max(2,-3,4,7,-5)<br>\n",
    "</br>max(2,-3,min(4,7),-5)"
   ]
  },
  {
   "cell_type": "markdown",
   "metadata": {},
   "source": [
    "```参考答案```"
   ]
  },
  {
   "cell_type": "code",
   "execution_count": 2,
   "metadata": {},
   "outputs": [
    {
     "name": "stdout",
     "output_type": "stream",
     "text": [
      "Help on built-in function min in module builtins:\n",
      "\n",
      "min(...)\n",
      "    min(iterable, *[, default=obj, key=func]) -> value\n",
      "    min(arg1, arg2, *args, *[, key=func]) -> value\n",
      "    \n",
      "    With a single iterable argument, return its smallest item. The\n",
      "    default keyword-only argument specifies an object to return if\n",
      "    the provided iterable is empty.\n",
      "    With two or more arguments, return the smallest argument.\n",
      "\n"
     ]
    }
   ],
   "source": [
    "help(min)"
   ]
  },
  {
   "cell_type": "code",
   "execution_count": 4,
   "metadata": {},
   "outputs": [
    {
     "data": {
      "text/plain": [
       "2"
      ]
     },
     "execution_count": 4,
     "metadata": {},
     "output_type": "execute_result"
    }
   ],
   "source": [
    "# 对照min函数的参数要求和功能，可知当前是按照第二种传参方式进行，即传入了arg1， arg2，arg3,...,返回了最小的argument。\n",
    "min(2,3,4) "
   ]
  },
  {
   "cell_type": "markdown",
   "metadata": {},
   "source": [
    "## Exercise 2  \n",
    "实现一个函数，输入一个整数，返回这个整数的3倍。（例如：输入3，输出9）"
   ]
  },
  {
   "cell_type": "code",
   "execution_count": 1,
   "metadata": {},
   "outputs": [
    {
     "name": "stdout",
     "output_type": "stream",
     "text": [
      "30\n"
     ]
    }
   ],
   "source": [
    "def triple(x):\n",
    "    if isinstance(x,int): # 判断 x 是否为整数类型\n",
    "        return x * 3\n",
    "    return\n",
    "\n",
    "print(triple(10))"
   ]
  },
  {
   "cell_type": "markdown",
   "metadata": {},
   "source": [
    "## Exercise 3  \n",
    "实现一个函数，功能是求出两数之差的绝对值并返回。（例如，输入 2 和 5，返回 3）"
   ]
  },
  {
   "cell_type": "code",
   "execution_count": 3,
   "metadata": {},
   "outputs": [
    {
     "name": "stdout",
     "output_type": "stream",
     "text": [
      "5\n"
     ]
    }
   ],
   "source": [
    "def diff(a,b):\n",
    "    return abs(a-b)\n",
    "\n",
    "print(diff(5,10))"
   ]
  },
  {
   "cell_type": "markdown",
   "metadata": {},
   "source": [
    "## Exercise 4\n",
    "实现一个函数，有4个输入参数，功能是返回其中较大的三个参数的平均值。"
   ]
  },
  {
   "cell_type": "code",
   "execution_count": 4,
   "metadata": {},
   "outputs": [
    {
     "data": {
      "text/plain": [
       "2.0"
      ]
     },
     "execution_count": 4,
     "metadata": {},
     "output_type": "execute_result"
    }
   ],
   "source": [
    "def get_max_three_mean(a,b,c,d):\n",
    "    return (sum((a,b,c,d))-max(a,b,c,d))/3\n",
    "\n",
    "get_max_three_mean(1,2,3,4)"
   ]
  },
  {
   "cell_type": "markdown",
   "metadata": {},
   "source": [
    "## Exercise 5\n",
    "\n",
    "编程模拟随机试验：抛掷10次硬币，并计算正面朝上的次数。随着抛掷次数增加，10次、1000次、100000次、10000000次，观察模拟结果是否随着试验次数的增加，硬币正面朝上的频次趋于稳定。\n",
    "\n",
    "**hint**:\n",
    "利用 random 库中的random()方法生成一个\\[0,1\\]之间的随机数，认为该数若大于0.5，表示硬币投掷结果正面朝上。"
   ]
  },
  {
   "cell_type": "markdown",
   "metadata": {},
   "source": [
    "```参考答案```"
   ]
  },
  {
   "cell_type": "code",
   "execution_count": 6,
   "metadata": {},
   "outputs": [
    {
     "name": "stdout",
     "output_type": "stream",
     "text": [
      "试验10次，正面向上的概率为0.7\n",
      "试验1000次，正面向上的概率为0.497\n",
      "试验100000次，正面向上的概率为0.49741\n",
      "试验100000000次，正面向上的概率为0.50003115\n"
     ]
    }
   ],
   "source": [
    "import random\n",
    "\n",
    "def count_coins(n):\n",
    "    up = 0\n",
    "    for i in range(n):\n",
    "        if random.random() > 0.5:\n",
    "            up += 1\n",
    "    return up/n\n",
    "for N in (10,1000,100000,100000000):\n",
    "    print(f'试验{N}次，正面向上的概率为{count_coins(N)}')"
   ]
  }
 ],
 "metadata": {
  "kernelspec": {
   "name": "pycharm-project2",
   "language": "python",
   "display_name": "PyCharm (project2)"
  },
  "language_info": {
   "codemirror_mode": {
    "name": "ipython",
    "version": 3
   },
   "file_extension": ".py",
   "mimetype": "text/x-python",
   "name": "python",
   "nbconvert_exporter": "python",
   "pygments_lexer": "ipython3",
   "version": "3.8.10"
  }
 },
 "nbformat": 4,
 "nbformat_minor": 4
}