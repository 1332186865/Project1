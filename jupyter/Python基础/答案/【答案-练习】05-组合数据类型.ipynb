{
 "cells": [
  {
   "cell_type": "markdown",
   "metadata": {},
   "source": [
    "## Exercise 1  \n",
    "元素Pu-238,Pu-239,Pu-240,Pu-241和Pu-242的半衰期分别为887.7, 24100.0, 6563.0, 14, 373300.0，请分别求出它们的最大、最小半衰期、所有元素半衰期之和以及对半衰期进行从小到大的排序。"
   ]
  },
  {
   "cell_type": "code",
   "execution_count": null,
   "metadata": {
    "pycharm": {
     "is_executing": true
    }
   },
   "outputs": [],
   "source": []
  },
  {
   "cell_type": "markdown",
   "metadata": {},
   "source": [
    "## Exercise 2  \n",
    "变量名colleges = ['农学','植保','园林','园艺','资环','信息','机电','水利'], 分别使用正向引用和反向引用对colleges进行操作，使得输出为：  \n",
    "a. colleges的第一个元素  \n",
    "b. colleges的最后一个元素  \n",
    "c. 列表['园艺','资环','信息']  \n",
    "d. 列表['农学','园艺','机电']  \n",
    "e. 列表['水利','机电']  "
   ]
  },
  {
   "cell_type": "code",
   "execution_count": null,
   "metadata": {},
   "outputs": [],
   "source": []
  },
  {
   "cell_type": "markdown",
   "metadata": {},
   "source": [
    "## Exercise 3  \n",
    "\n",
    "每一个人都有生日，偶尔会遇到和自己同一天过生日的人。请编程模拟，50个人当中出现同一天生日的人概率有多大？  \n",
    "\n",
    "**hint**:\n",
    "\n",
    "randint(1,365): 产生一个随机整数表示生日。"
   ]
  },
  {
   "cell_type": "markdown",
   "metadata": {},
   "source": [
    "```参考```"
   ]
  },
  {
   "cell_type": "code",
   "execution_count": 2,
   "metadata": {},
   "outputs": [
    {
     "name": "stdout",
     "output_type": "stream",
     "text": [
      "0.9705\n"
     ]
    }
   ],
   "source": [
    "from random import randint\n",
    "\n",
    "times = 10000\n",
    "count = 0\n",
    "for _ in range(times):\n",
    "    if len({randint(1, 365) for _ in range(50)}) != 50:\n",
    "        count += 1\n",
    "print(count / times)"
   ]
  },
  {
   "cell_type": "markdown",
   "metadata": {},
   "source": [
    "## Exercise 4  \n",
    "创建一个列表，包含以下温度（单位：摄氏度）：25.2,16.8,31.4,23.9,28,22.5，16.9; 列表名为 temps  \n",
    "a. 将列表内的元素从小到大排序  \n",
    "b. 根据temps，创建两个新列表 cool_temps 和 warm_temps, 分别表示20度以下和20度以上的温度  "
   ]
  },
  {
   "cell_type": "code",
   "execution_count": null,
   "metadata": {},
   "outputs": [],
   "source": []
  },
  {
   "cell_type": "markdown",
   "metadata": {},
   "source": [
    "## Exercise 5  \n",
    "完善以下代码，实现功能"
   ]
  },
  {
   "cell_type": "code",
   "execution_count": 4,
   "metadata": {},
   "outputs": [],
   "source": [
    "def same_first_last(lst):\n",
    "    \"\"\"\n",
    "    (list) -> bool\n",
    "    \n",
    "    Return True if and only if first item of the list is the same as the last;\n",
    "    \n",
    "    >>>same_first_last([3,4,2,8,1])\n",
    "    False\n",
    "    >>>same_first_last(['apple','banana','apple'])\n",
    "    True\n",
    "    \"\"\""
   ]
  },
  {
   "cell_type": "markdown",
   "metadata": {},
   "source": [
    "## Exercise 6  \n",
    "实现一个函数find_dups，其功能为输入一个列表，输出列表中至少出现一次的元素集合。"
   ]
  },
  {
   "cell_type": "markdown",
   "metadata": {},
   "source": [
    "```参考```"
   ]
  },
  {
   "cell_type": "code",
   "execution_count": 9,
   "metadata": {},
   "outputs": [
    {
     "data": {
      "text/plain": [
       "{1, 3}"
      ]
     },
     "execution_count": 9,
     "metadata": {},
     "output_type": "execute_result"
    }
   ],
   "source": [
    "def find_dups(alist):\n",
    "    return {x for x in alist if alist.count(x) > 1}\n",
    "\n",
    "\n",
    "find_dups([1, 2, 1, 3, 5, 3])"
   ]
  },
  {
   "cell_type": "markdown",
   "metadata": {},
   "source": [
    "## Exercise 7  \n",
    "实现一个函数mating_pairs, 其功能为输入两个大小相同的集合，输出集合的元素为由来自两个输入集合的元素组成的元组。"
   ]
  },
  {
   "cell_type": "code",
   "execution_count": 6,
   "metadata": {},
   "outputs": [],
   "source": [
    "def mating_pairs(set_a, set_b):\n",
    "    \"\"\"(set_a,set_b) -> set_c\n",
    "    \n",
    "    对两个输入集合中的元素进行配对，并以元组的形式组合，最后输出集合。\n",
    "    >>>set_a = {1,2,3}\n",
    "    >>>set_b = {'a','b','c'}\n",
    "    >>>mating_pairs(set_a,set_b)\n",
    "    {(1,'b'),(3,'a'),(2,'c')}\n",
    "    \"\"\"\n"
   ]
  },
  {
   "cell_type": "markdown",
   "metadata": {},
   "source": [
    "```参考```"
   ]
  },
  {
   "cell_type": "code",
   "execution_count": 10,
   "metadata": {},
   "outputs": [
    {
     "data": {
      "text/plain": [
       "{(1, 'b'), (2, 'c'), (3, 'a')}"
      ]
     },
     "execution_count": 10,
     "metadata": {},
     "output_type": "execute_result"
    }
   ],
   "source": [
    "def mating_pairs(set_a, set_b):\n",
    "    return {(a, b) for a, b in zip(set_a, set_b)}\n",
    "\n",
    "\n",
    "set_a = {1, 2, 3}\n",
    "set_b = {'a', 'b', 'c'}\n",
    "mating_pairs(set_a, set_b)"
   ]
  },
  {
   "cell_type": "markdown",
   "metadata": {},
   "source": [
    "## Exercise 8  \n",
    "实现一个函数count_values，其功能为统计字典中不同的值的个数。例如：输入{'red':1,'green':1,'blue':2}, 输出2"
   ]
  },
  {
   "cell_type": "markdown",
   "metadata": {},
   "source": [
    "```参考```"
   ]
  },
  {
   "cell_type": "code",
   "execution_count": 16,
   "metadata": {},
   "outputs": [
    {
     "name": "stdout",
     "output_type": "stream",
     "text": [
      "2\n"
     ]
    }
   ],
   "source": [
    "def count_values(adict):\n",
    "    return len(set(adict.values()))\n",
    "\n",
    "\n",
    "print(count_values({'red': 1, 'green': 1, 'blue': 2}))"
   ]
  },
  {
   "cell_type": "markdown",
   "metadata": {},
   "source": [
    "## Exercise 9\n",
    "实现一个函数count_duplicates, 其功能为统计字典中出现2次以上的值的个数。"
   ]
  },
  {
   "cell_type": "markdown",
   "metadata": {},
   "source": [
    "```参考```"
   ]
  },
  {
   "cell_type": "code",
   "execution_count": 1,
   "metadata": {},
   "outputs": [
    {
     "data": {
      "text/plain": "1"
     },
     "execution_count": 1,
     "metadata": {},
     "output_type": "execute_result"
    }
   ],
   "source": [
    "def count_duplicates(adict):\n",
    "    return len({value for value in adict.values() if list(adict.values()).count(value) > 1})\n",
    "\n",
    "\n",
    "count_duplicates({'red': 1, 'green': 1, 'blue': 2, 'brown': 1})"
   ]
  },
  {
   "cell_type": "markdown",
   "metadata": {},
   "source": [
    "## Exercise 10  \n",
    "一种颜色如果在R、G、B三个分量上相加之和为1，即被称之为平衡色。现有一个字典，keys为'R','G','B',对应的值为0到1之间的一个小数。请实现函数is_balanced判断是否为平衡色。（是则输出True，否则输出False）"
   ]
  },
  {
   "cell_type": "markdown",
   "metadata": {},
   "source": [
    "```参考```"
   ]
  },
  {
   "cell_type": "code",
   "execution_count": 31,
   "metadata": {},
   "outputs": [
    {
     "name": "stdout",
     "output_type": "stream",
     "text": [
      "False\n",
      "True\n",
      "True\n"
     ]
    }
   ],
   "source": [
    "def is_balanced(adict):\n",
    "    return round(sum(adict.values())) == 1\n",
    "\n",
    "\n",
    "print(is_balanced({'R': 0.4, 'G': 0.3, 'B': 0.8}))\n",
    "print(is_balanced({'R': 0.4, 'G': 0.3, 'B': 0.3}))\n",
    "print(is_balanced({'R': 0.999, 'G': 0.0005, 'B': 0.0005}))"
   ]
  },
  {
   "cell_type": "markdown",
   "metadata": {},
   "source": [
    "## Exercise 11\n",
    "实现一个函数dict_intersect，其功能为产生一个新的字典，使得新字典中只包括输入的两个字典中都存在的键值对(即字典的交集运算)。"
   ]
  },
  {
   "cell_type": "markdown",
   "metadata": {},
   "source": [
    "```参考```: \n",
    "参考讲义"
   ]
  },
  {
   "cell_type": "markdown",
   "metadata": {},
   "source": [
    "## Exercise 12  \n",
    "有时候字典也被当做简单的数据库。下面的字典包括了几位科学家的信息。"
   ]
  },
  {
   "cell_type": "code",
   "execution_count": 5,
   "metadata": {},
   "outputs": [],
   "source": [
    "scientists = {'jgoodall': {'surname': 'Goodall',\n",
    "                           'forename': 'Jane',\n",
    "                           'born': 1934,\n",
    "                           'died': None,\n",
    "                           'notes': 'primate researcher',\n",
    "                           'author': ['In the Shadow of Man',\n",
    "                                      'The Chimpanzees of Gombe']},\n",
    "              'rfranklin': {'surname': 'Franklin',\n",
    "                            'forename': 'Rosalind',\n",
    "                            'born': 1920,\n",
    "                            'died': 1957,\n",
    "                            'notes': 'contributed to discovery of DNA'},\n",
    "              'rcarson': {'surname': 'Carson',\n",
    "                          'forename': 'Rachel',\n",
    "                          'born': 1907,\n",
    "                          'died': 1964,\n",
    "                          'notes': 'raised awareness of effects of DDT',\n",
    "                          'author': ['Silent Spring']}\n",
    "              }\n"
   ]
  },
  {
   "cell_type": "markdown",
   "metadata": {},
   "source": [
    "a. 实现一个函数db_headings 返回内嵌字典的keys集合。例如：本例中应当返回set('author','forename','surname','notes','born','died')"
   ]
  },
  {
   "cell_type": "code",
   "execution_count": 34,
   "metadata": {},
   "outputs": [
    {
     "data": {
      "text/plain": [
       "{'author', 'born', 'died', 'forename', 'notes', 'surname'}"
      ]
     },
     "execution_count": 34,
     "metadata": {},
     "output_type": "execute_result"
    }
   ],
   "source": [
    "def db_headings(adict):\n",
    "    return {inner_key for key in adict.values() for inner_key in key}\n",
    "\n",
    "\n",
    "db_headings(scientists)"
   ]
  },
  {
   "cell_type": "markdown",
   "metadata": {},
   "source": [
    "b. 实现一个函数db_consistent返回是否所有的内嵌字典拥有相同的keys。例如：本例中Rosalind Franklin没有author，因此返回False"
   ]
  },
  {
   "cell_type": "code",
   "execution_count": 10,
   "metadata": {},
   "outputs": [
    {
     "name": "stdout",
     "output_type": "stream",
     "text": [
      "{('surname', 'forename', 'born', 'died', 'notes'), ('surname', 'forename', 'born', 'died', 'notes', 'author')}\n"
     ]
    },
    {
     "data": {
      "text/plain": "False"
     },
     "execution_count": 10,
     "metadata": {},
     "output_type": "execute_result"
    }
   ],
   "source": [
    "def db_consistent(adict):\n",
    "    print({tuple(value) for value in adict.values()})\n",
    "    return len({tuple(value) for value in adict.values()}) == 1\n",
    "\n",
    "\n",
    "db_consistent(scientists)"
   ]
  },
  {
   "cell_type": "code",
   "execution_count": null,
   "metadata": {},
   "outputs": [],
   "source": []
  }
 ],
 "metadata": {
  "kernelspec": {
   "name": "pycharm-project2",
   "language": "python",
   "display_name": "PyCharm (project2)"
  },
  "language_info": {
   "codemirror_mode": {
    "name": "ipython",
    "version": 3
   },
   "file_extension": ".py",
   "mimetype": "text/x-python",
   "name": "python",
   "nbconvert_exporter": "python",
   "pygments_lexer": "ipython3",
   "version": "3.8.10"
  }
 },
 "nbformat": 4,
 "nbformat_minor": 4
}