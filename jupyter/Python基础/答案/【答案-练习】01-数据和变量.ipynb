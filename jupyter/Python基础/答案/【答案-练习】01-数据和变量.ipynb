{
 "cells": [
  {
   "cell_type": "markdown",
   "metadata": {},
   "source": [
    "## Exercise 1  \n",
    "使用Python验证以下算术表达式的结果：\n",
    "<img src=\"D:\\Python\\PycharmProjects\\Project1\\jupyter\\Python基础\\resource\\习题_算术表达式.JPG\"/>"
   ]
  },
  {
   "cell_type": "markdown",
   "metadata": {},
   "source": [
    "```参考答案```：\n",
    "\n",
    "以下仅为一个示例。"
   ]
  },
  {
   "cell_type": "code",
   "execution_count": 17,
   "metadata": {},
   "outputs": [
    {
     "name": "stdout",
     "output_type": "stream",
     "text": [
      "9 - 3 = 6\n"
     ]
    }
   ],
   "source": [
    "a,operator,b = 9,'-',3\n",
    "exp = f'{a} {operator} {b}'\n",
    "print(f'{exp} = {eval(exp)}')"
   ]
  },
  {
   "cell_type": "markdown",
   "metadata": {},
   "source": [
    "## Exercise 2  \n",
    "'-'符号具有特殊性。当'-'作为双目运算符时，表示减号；当'-'作为单目运算符时，表示负号。假如x = -17,请验证 +x 的值在Python中应该是多少？解释原因。"
   ]
  },
  {
   "cell_type": "markdown",
   "metadata": {},
   "source": [
    "```参考答案```"
   ]
  },
  {
   "cell_type": "code",
   "execution_count": 31,
   "metadata": {},
   "outputs": [
    {
     "data": {
      "text/plain": [
       "-17"
      ]
     },
     "execution_count": 31,
     "metadata": {},
     "output_type": "execute_result"
    }
   ],
   "source": [
    "x = -17\n",
    "+x"
   ]
  },
  {
   "cell_type": "markdown",
   "metadata": {},
   "source": [
    "因为“+”是双目运算符，单独进行操作没有任何意义。与之相对，“-”是一个单目运算符。"
   ]
  },
  {
   "cell_type": "code",
   "execution_count": 33,
   "metadata": {},
   "outputs": [
    {
     "data": {
      "text/plain": [
       "17"
      ]
     },
     "execution_count": 33,
     "metadata": {},
     "output_type": "execute_result"
    }
   ],
   "source": [
    "x = -17\n",
    "-x"
   ]
  },
  {
   "cell_type": "markdown",
   "metadata": {},
   "source": [
    "## Exercise 3  \n",
    "写两条赋值语句，完成以下功能：<br>\n",
    "</br>\n",
    "1）创建一个新变量 temp，并给它分配一个值 24<br>\n",
    "</br>2）假如temp代表的是一个摄氏度，请计算它对应的华氏度，并使用temp引用新值（计算出的华氏度）。<br>\n",
    "</br>【摄氏度和华氏度之间的转换公式为 摄氏度 =(华氏度-32)÷1.8】"
   ]
  },
  {
   "cell_type": "markdown",
   "metadata": {},
   "source": [
    "```参考答案```"
   ]
  },
  {
   "cell_type": "code",
   "execution_count": 34,
   "metadata": {},
   "outputs": [
    {
     "name": "stdout",
     "output_type": "stream",
     "text": [
      "75.2\n"
     ]
    }
   ],
   "source": [
    "temp = 24\n",
    "temp = temp * 1.8 + 32\n",
    "print(temp)"
   ]
  },
  {
   "cell_type": "markdown",
   "metadata": {},
   "source": [
    "## Exercise 4  \n",
    "验证x = 3 ; x += x - x 的结果，并解释它的执行过程。"
   ]
  },
  {
   "cell_type": "markdown",
   "metadata": {},
   "source": [
    "```参考答案```  "
   ]
  },
  {
   "cell_type": "code",
   "execution_count": 37,
   "metadata": {},
   "outputs": [
    {
     "name": "stdout",
     "output_type": "stream",
     "text": [
      "3\n"
     ]
    }
   ],
   "source": [
    "x = 3\n",
    "x += x - x\n",
    "print(x)"
   ]
  },
  {
   "cell_type": "markdown",
   "metadata": {},
   "source": [
    "第一行代码是一个普通赋值语句，定义了一个变量x，引用int型数据，值为3；\n",
    "第二行代码是一个增强赋值语句，转为普通赋值语句为：x = x + x - x   赋值语句从赋值号右边开始执行：执行表达式 x + x - x ,带入x值为3，得到 3 + 3 - 3 = 3， 然后将计算出的3赋值给变量x."
   ]
  },
  {
   "cell_type": "markdown",
   "metadata": {},
   "source": [
    "## Exercise 5\n",
    "Python中，如果一个变量在创建之前被使用，会出现什么运行结果？请写一个例子并解释运行结果。"
   ]
  },
  {
   "cell_type": "markdown",
   "metadata": {},
   "source": [
    "```参考答案```"
   ]
  },
  {
   "cell_type": "code",
   "execution_count": 38,
   "metadata": {},
   "outputs": [
    {
     "ename": "NameError",
     "evalue": "name 'uncreated' is not defined",
     "output_type": "error",
     "traceback": [
      "\u001B[1;31m---------------------------------------------------------------------------\u001B[0m",
      "\u001B[1;31mNameError\u001B[0m                                 Traceback (most recent call last)",
      "\u001B[1;32m~\\AppData\\Local\\Temp/ipykernel_9460/2467288059.py\u001B[0m in \u001B[0;36m<module>\u001B[1;34m\u001B[0m\n\u001B[1;32m----> 1\u001B[1;33m \u001B[0mprint\u001B[0m\u001B[1;33m(\u001B[0m\u001B[0muncreated\u001B[0m\u001B[1;33m)\u001B[0m\u001B[1;33m\u001B[0m\u001B[1;33m\u001B[0m\u001B[0m\n\u001B[0m",
      "\u001B[1;31mNameError\u001B[0m: name 'uncreated' is not defined"
     ]
    }
   ],
   "source": [
    "print(uncreated)"
   ]
  },
  {
   "cell_type": "markdown",
   "metadata": {},
   "source": [
    "出现 NameError, 提示变量 uncreated 没有被定义。"
   ]
  }
 ],
 "metadata": {
  "kernelspec": {
   "name": "pycharm-project2",
   "language": "python",
   "display_name": "PyCharm (project2)"
  },
  "language_info": {
   "codemirror_mode": {
    "name": "ipython",
    "version": 3
   },
   "file_extension": ".py",
   "mimetype": "text/x-python",
   "name": "python",
   "nbconvert_exporter": "python",
   "pygments_lexer": "ipython3",
   "version": "3.8.10"
  }
 },
 "nbformat": 4,
 "nbformat_minor": 4
}