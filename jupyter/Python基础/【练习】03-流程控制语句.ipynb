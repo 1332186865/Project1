{
 "cells": [
  {
   "cell_type": "markdown",
   "metadata": {},
   "source": [
    "## Exercise 1  \n",
    "以下表达式的输出结果是什么？请验证。  \n",
    "True and not False  \n",
    "True and not false  \n",
    "True or True and False  \n",
    "not True or not False\n",
    "True and not 0  \n",
    "52 < 52.3  \n",
    "1 + 52 < 52.3  \n",
    "4 != 4.0  \n"
   ]
  },
  {
   "cell_type": "code",
   "execution_count": 1,
   "metadata": {},
   "outputs": [
    {
     "name": "stdout",
     "output_type": "stream",
     "text": [
      "False\n"
     ]
    }
   ],
   "source": [
    "# print(True and not False)\n",
    "# print(True and not false)\n",
    "# print(True or True and False)\n",
    "# print(not True or not False True and not 0)\n",
    "# print(52 < 52.3)\n",
    "# print(1 + 52 < 52.3)\n",
    "print(4 != 4.0)"
   ]
  },
  {
   "cell_type": "raw",
   "metadata": {},
   "source": [
    "True\n",
    "NameError: name 'false' is not defined\n",
    "True\n",
    "SyntaxError: invalid syntax\n",
    "True\n",
    "False\n",
    "False"
   ]
  },
  {
   "cell_type": "markdown",
   "metadata": {},
   "source": [
    "## Exercise 2  \n",
    "试写一个代码，使得野外用的摄像机能够正常工作。要求是，当光线强度小于0.01（单位：lux）或者温度在零度以上时，摄像机能够自动打开。以上两个条件都满足时，摄像机不能自动打开。（假设控制摄像头自动打开的函数turn_camera_on()已经定义好，可以直接调用）"
   ]
  },
  {
   "cell_type": "code",
   "execution_count": 1,
   "metadata": {},
   "outputs": [],
   "source": [
    "def turn_camera_on():\n",
    "    print(\"自动打开相机\")\n",
    "    pass\n",
    "\n",
    "\n",
    "light = float(input(\"光线：\"))\n",
    "temperature = float(input(\"温度：\"))\n",
    "if light < 0.01:\n",
    "    if temperature < 0:\n",
    "        turn_camera_on()\n",
    "else:\n",
    "    if temperature > 0:\n",
    "        turn_camera_on()"
   ]
  },
  {
   "cell_type": "markdown",
   "metadata": {},
   "source": [
    "## Exercise 3  \n",
    "实现一个函数，名为different，接收两个参数a和b，当a和b的值相同，则函数输出为True；否则输出为False；"
   ]
  },
  {
   "cell_type": "code",
   "execution_count": 6,
   "metadata": {},
   "outputs": [
    {
     "name": "stdout",
     "output_type": "stream",
     "text": [
      "a=3\n",
      "b=3\n",
      "True\n"
     ]
    }
   ],
   "source": [
    "def difference(a, b):\n",
    "    return a == b\n",
    "\n",
    "\n",
    "a = int(input('a='))\n",
    "b = int(input('b='))\n",
    "print(difference(a, b))\n"
   ]
  },
  {
   "cell_type": "markdown",
   "metadata": {},
   "source": [
    "## Exercise 4  \n",
    "产生并打印100内的所有奇数"
   ]
  },
  {
   "cell_type": "code",
   "execution_count": 7,
   "metadata": {},
   "outputs": [
    {
     "name": "stdout",
     "output_type": "stream",
     "text": [
      " 1  3  5  7  9 11 13 15 17 19 21 23 25 27 29 31 33 35 37 39 41 43 45 47 49 51 53 55 57 59 61 63 65 67 69 71 73 75 77 79 81 83 85 87 89 91 93 95 97 99 "
     ]
    }
   ],
   "source": [
    "for i in range(1, 101, 2):\n",
    "    print(\"{:^3}\".format(i), end=\"\")\n"
   ]
  },
  {
   "cell_type": "markdown",
   "metadata": {},
   "source": [
    "## Exercise 5  \n",
    "思考以下代码的功能，并修改代码，使得它能够产生正确的输出。"
   ]
  },
  {
   "cell_type": "code",
   "execution_count": 8,
   "metadata": {
    "scrolled": true
   },
   "outputs": [
    {
     "name": "stdout",
     "output_type": "stream",
     "text": [
      "[1]\n"
     ]
    }
   ],
   "source": [
    "def remove_neg(num_list):\n",
    "    a = num_list[:]\n",
    "    for item in a:\n",
    "        if item < 0:\n",
    "            num_list.remove(item)\n",
    "    return num_list\n",
    "\n",
    "\n",
    "a = [-1, -2, -3, -4, -5, 1]\n",
    "a = remove_neg(a)\n",
    "print(a)\n"
   ]
  },
  {
   "cell_type": "markdown",
   "metadata": {},
   "source": [
    "## Exercise 6\n",
    "用户登陆程序需求:\n",
    "    1. 输入用户名和密码;\n",
    "    2. 判断用户名和密码是否正确；\n",
    "    3. 为了防止暴力破解， 登陆仅有三次机会， 如果超过三次机会， 报错提示;"
   ]
  },
  {
   "cell_type": "code",
   "execution_count": 9,
   "metadata": {},
   "outputs": [
    {
     "name": "stdout",
     "output_type": "stream",
     "text": [
      "请输入用户名：admin\n",
      "请输入密码admin\n",
      "用户名错误！\n",
      "请输入用户名：Admin\n",
      "请输入密码admin\n",
      "登陆成功\n"
     ]
    }
   ],
   "source": [
    "i = 0\n",
    "# 默认用户名：Admin 默认密码：admin\n",
    "defaultLogin = \"Admin\"\n",
    "defaultPasswd = \"admin\"\n",
    "while i < 3:\n",
    "    login = input(\"请输入用户名：\")\n",
    "    passwd = input(\"请输入密码\")\n",
    "    if login == defaultLogin and passwd == defaultPasswd:\n",
    "        print(\"登陆成功\")\n",
    "        break\n",
    "    elif login != defaultLogin:\n",
    "        print(\"用户名错误！\")\n",
    "    elif passwd != defaultPasswd:\n",
    "        print(\"密码错误！\")\n",
    "    i += 1\n",
    "else:\n",
    "    print(\"登陆机会已用尽\")\n"
   ]
  }
 ],
 "metadata": {
  "kernelspec": {
   "name": "pycharm-project2",
   "language": "python",
   "display_name": "PyCharm (project2)"
  },
  "language_info": {
   "codemirror_mode": {
    "name": "ipython",
    "version": 3
   },
   "file_extension": ".py",
   "mimetype": "text/x-python",
   "name": "python",
   "nbconvert_exporter": "python",
   "pygments_lexer": "ipython3",
   "version": "3.8.10"
  }
 },
 "nbformat": 4,
 "nbformat_minor": 4
}