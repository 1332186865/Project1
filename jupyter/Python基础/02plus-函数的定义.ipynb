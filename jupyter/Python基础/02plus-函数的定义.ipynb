{
 "cells": [
  {
   "cell_type": "markdown",
   "metadata": {},
   "source": [
    "## 回顾【02-函数的使用】\n",
    "\n",
    "1. Python 中的函数分为哪几类？分别如何使用？"
   ]
  },
  {
   "cell_type": "code",
   "execution_count": null,
   "metadata": {},
   "outputs": [],
   "source": []
  },
  {
   "cell_type": "markdown",
   "metadata": {},
   "source": [
    "2. 回顾 判断用户输入的正整数是否为一个质数的代码。"
   ]
  },
  {
   "cell_type": "code",
   "execution_count": 1,
   "metadata": {},
   "outputs": [
    {
     "name": "stdout",
     "output_type": "stream",
     "text": [
      "是质数\n"
     ]
    }
   ],
   "source": [
    "num = 17\n",
    "flag = True\n",
    "for i in range(2, num):\n",
    "    if num % i == 0:\n",
    "        flag = False\n",
    "        break\n",
    "if flag:\n",
    "    print('是质数')\n",
    "else:\n",
    "    print('不是质数')"
   ]
  },
  {
   "cell_type": "markdown",
   "metadata": {},
   "source": [
    "这段代码只有在当前，即我们写代码的地方才能判断用户输入的数是不是一个质数。如果我们想要在其他的代码部分也执行这样的判断，比如，**找出1000以内所有的质数并打印**，我们就必须得把这段代码复制一下，然后加入到我们新的代码中，大多数时候还需要进行修改，完成找出1000内所有质数的功能。比如："
   ]
  },
  {
   "cell_type": "code",
   "execution_count": 2,
   "metadata": {},
   "outputs": [
    {
     "name": "stdout",
     "output_type": "stream",
     "text": [
      "2,3,5,7,11,13,17,19,23,29,31,37,41,43,47,53,59,61,67,71,73,79,83,89,97,101,103,107,109,113,127,131,137,139,149,151,157,163,167,173,179,181,191,193,197,199,211,223,227,229,233,239,241,251,257,263,269,271,277,281,283,293,307,311,313,317,331,337,347,349,353,359,367,373,379,383,389,397,401,409,419,421,431,433,439,443,449,457,461,463,467,479,487,491,499,503,509,521,523,541,547,557,563,569,571,577,587,593,599,601,607,613,617,619,631,641,643,647,653,659,661,673,677,683,691,701,709,719,727,733,739,743,751,757,761,769,773,787,797,809,811,821,823,827,829,839,853,857,859,863,877,881,883,887,907,911,919,929,937,941,947,953,967,971,977,983,991,997,"
     ]
    }
   ],
   "source": [
    "for num in range(2,1001):\n",
    "    flag = True\n",
    "    for i in range(2, num):\n",
    "        if num % i == 0:\n",
    "            flag = False\n",
    "            break\n",
    "    if flag:\n",
    "        print(num,end=',')"
   ]
  },
  {
   "cell_type": "markdown",
   "metadata": {},
   "source": [
    "又比如，**找出1000以内既是回文数，又是质数的数字并打印**。我们需要在判断是否为回文数的代码基础上，加入是否为质数的判断逻辑。比如："
   ]
  },
  {
   "cell_type": "code",
   "execution_count": 3,
   "metadata": {},
   "outputs": [
    {
     "name": "stdout",
     "output_type": "stream",
     "text": [
      "2,3,5,7,11,101,131,151,181,191,313,353,373,383,727,757,787,797,919,929,"
     ]
    }
   ],
   "source": [
    "for num in range(2,1001):\n",
    "    if str(num) == str(num)[::-1]:\n",
    "        flag = True\n",
    "        for i in range(2, num):\n",
    "            if num % i == 0:\n",
    "                flag = False\n",
    "                break\n",
    "        if flag:\n",
    "            print(num,end=',')"
   ]
  },
  {
   "cell_type": "markdown",
   "metadata": {},
   "source": [
    "实现 **找出1000以内的所有质数** 和 **找出1000以内既是回文数，又是质数的数** 都包含同样的逻辑代码块——判断一个数是否为质数。重复实现逻辑相同的代码是非常不好的。代码越长，意味着隐藏的错误越多，而重复功能的代码块无疑增加了重复错误的可能性。因此我们需要将可能会重复使用的功能写成一个函数，在可能用到这个功能的地方直接调用函数。"
   ]
  },
  {
   "cell_type": "markdown",
   "metadata": {},
   "source": [
    "is_palindrome(num)  \n",
    "is_prime(num)"
   ]
  },
  {
   "cell_type": "code",
   "execution_count": 4,
   "metadata": {},
   "outputs": [
    {
     "ename": "NameError",
     "evalue": "name 'is_palindrome' is not defined",
     "output_type": "error",
     "traceback": [
      "\u001b[1;31m---------------------------------------------------------------------------\u001b[0m",
      "\u001b[1;31mNameError\u001b[0m                                 Traceback (most recent call last)",
      "\u001b[1;32m~\\AppData\\Local\\Temp/ipykernel_5188/2862251356.py\u001b[0m in \u001b[0;36m<module>\u001b[1;34m\u001b[0m\n\u001b[0;32m      1\u001b[0m \u001b[1;32mfor\u001b[0m \u001b[0mi\u001b[0m \u001b[1;32min\u001b[0m \u001b[0mrange\u001b[0m\u001b[1;33m(\u001b[0m\u001b[1;36m2\u001b[0m\u001b[1;33m,\u001b[0m\u001b[1;36m1001\u001b[0m\u001b[1;33m)\u001b[0m\u001b[1;33m:\u001b[0m\u001b[1;33m\u001b[0m\u001b[1;33m\u001b[0m\u001b[0m\n\u001b[1;32m----> 2\u001b[1;33m     \u001b[1;32mif\u001b[0m \u001b[0mis_palindrome\u001b[0m\u001b[1;33m(\u001b[0m\u001b[0mi\u001b[0m\u001b[1;33m)\u001b[0m \u001b[1;32mand\u001b[0m \u001b[0mis_prime\u001b[0m\u001b[1;33m(\u001b[0m\u001b[0mi\u001b[0m\u001b[1;33m)\u001b[0m\u001b[1;33m:\u001b[0m\u001b[1;33m\u001b[0m\u001b[1;33m\u001b[0m\u001b[0m\n\u001b[0m\u001b[0;32m      3\u001b[0m         \u001b[0mprint\u001b[0m\u001b[1;33m(\u001b[0m\u001b[0mi\u001b[0m\u001b[1;33m)\u001b[0m\u001b[1;33m\u001b[0m\u001b[1;33m\u001b[0m\u001b[0m\n",
      "\u001b[1;31mNameError\u001b[0m: name 'is_palindrome' is not defined"
     ]
    }
   ],
   "source": [
    "for i in range(2,1001):\n",
    "    if is_palindrome(i) and is_prime(i):\n",
    "        print(i)"
   ]
  },
  {
   "cell_type": "markdown",
   "metadata": {},
   "source": [
    "## 自定义函数  \n",
    "\n",
    "用户自己定义（创建）一个函数。"
   ]
  },
  {
   "cell_type": "markdown",
   "metadata": {},
   "source": [
    "### 2.1 自定义函数的格式"
   ]
  },
  {
   "cell_type": "markdown",
   "metadata": {},
   "source": [
    "<img src='resource\\函数定义.jpg' style='zoom:60%'>  \n",
    "\n",
    "* def: define 的缩写，是定义函数的关键字。  \n",
    "* name of function: 函数名，用于指代这个函数。例如：内置函数 type(), type就是一个函数名；math库中的计算某数平方根的函数 sqrt(), sqrt 也是一个函数名。  \n",
    "* list of formal parameters: 该函数的**形式参数**（可以是1、2以及多个）。  \n",
    "* body of function: 函数体，在函数内部执行的代码。函数体可以显示或隐式地使用关键字 **return**，表示函数的返回值。"
   ]
  },
  {
   "cell_type": "code",
   "execution_count": 5,
   "metadata": {},
   "outputs": [
    {
     "name": "stdout",
     "output_type": "stream",
     "text": [
      "hellopython\n",
      "None\n"
     ]
    }
   ],
   "source": [
    "result = print('hellopython')\n",
    "print(result)"
   ]
  },
  {
   "cell_type": "code",
   "execution_count": 6,
   "metadata": {},
   "outputs": [
    {
     "name": "stdout",
     "output_type": "stream",
     "text": [
      "178 华氏度转换成 81.11111111111111 摄氏度\n"
     ]
    }
   ],
   "source": [
    "# 函数的定义\n",
    "def convert_to_celsius(fahrenheit): \n",
    "    \"\"\"将华氏度转为摄氏度\"\"\"\n",
    "    return (fahrenheit - 32) * 5 / 9\n",
    "degree_fahrenheit = 178\n",
    "result = convert_to_celsius(degree_fahrenheit) # 函数的调用\n",
    "print(f'{degree_fahrenheit} 华氏度转换成 {result} 摄氏度')"
   ]
  },
  {
   "cell_type": "code",
   "execution_count": 7,
   "metadata": {},
   "outputs": [
    {
     "name": "stdout",
     "output_type": "stream",
     "text": [
      "Help on function convert_to_celsius in module __main__:\n",
      "\n",
      "convert_to_celsius(fahrenheit)\n",
      "    将华氏度转为摄氏度\n",
      "\n"
     ]
    }
   ],
   "source": [
    "help(convert_to_celsius)"
   ]
  },
  {
   "cell_type": "code",
   "execution_count": 8,
   "metadata": {},
   "outputs": [
    {
     "name": "stdout",
     "output_type": "stream",
     "text": [
      "178 华氏度转换成 81.11111111111111 摄氏度\n"
     ]
    }
   ],
   "source": [
    "degree_fahrenheit = 178\n",
    "result = convert_to_celsius(degree_fahrenheit) # 函数的调用\n",
    "print(f'{degree_fahrenheit} 华氏度转换成 {result} 摄氏度')"
   ]
  },
  {
   "cell_type": "markdown",
   "metadata": {},
   "source": [
    "#### 1）函数名 \n",
    "\n",
    "1. 函数名必须遵守变量的命名规则  \n",
    "2. 建议使用一个动宾短语作为函数名（函数本质上是一个执行动作），中间用下划线隔开  "
   ]
  },
  {
   "cell_type": "markdown",
   "metadata": {},
   "source": [
    "#### 2） 形式参数和实际参数  \n",
    "\n",
    "* 形式参数，简称**形参**（formal parameters）,是定义函数时使用的变量名，当函数被调用时，形参被绑定实参的值，执行函数体内的代码。  \n",
    "* 实际参数，简称**实参**（actual parameters / arguments）,是调用函数时，实参的值是实际传入函数的数据。  \n",
    "\n",
    "例如，degree_fahrenheit 是实参，而定义函数时使用的 fahrenheit 是形参。函数 convert_to_celsius 在**定义**的过程中，使用了形参 fahrenheit，并且在函数体内使用 fahrenheit 规定了函数内部的计算过程。在函数 convert_to_celsius **调用**的过程中，将实参 degree_celsius 的值传给了形参 fahrenheit ，并通过函数体的计算过程，输出（或叫作返回）了相应的结果。"
   ]
  },
  {
   "cell_type": "markdown",
   "metadata": {},
   "source": [
    "#### 3）函数的定义及调用过程  "
   ]
  },
  {
   "cell_type": "markdown",
   "metadata": {},
   "source": [
    "convert_to_celsius 函数的定义和调用过程：<br>\n",
    "</br>1) Python 执行 def 行，在内存中创建一个函数对象，暂时不执行函数内部的代码<br>\n",
    "</br>2) Python 执行函数调用代码，即 convert_to_celsius(178)，将178这个值分配给 fahrenheit 这个变量，在整个函数调用过程中，变量 fahrenheit 都引用178这个数值。<br>\n",
    "</br>3) 接着 Python 执行 return 这一行的语句，首先执行 return 右边的表达式，将 fahrenheit = 178 代入，计算可得表达式的值为81.1。return 关键字是函数的返回值，也就是告诉 python，函数调用结束的时候输出什么值给调用函数的地方。<br>\n",
    "</br>4) 函数调用结束，将返回值81.1赋给调用函数的地方，也就是分配给变量 result\n",
    "<img src=\"resource/函数调用4步骤.jpg\" style=\"zoom:80%\">"
   ]
  },
  {
   "cell_type": "markdown",
   "metadata": {},
   "source": [
    "```课堂例题```  \n",
    "\n",
    "实现一个函数 get_bigger(int1, int2), 比较两数的大小。如果 int1 > int2, 返回 int1;否则返回 int2。 请问执行顺序是什么样子的？"
   ]
  },
  {
   "cell_type": "code",
   "execution_count": 9,
   "metadata": {},
   "outputs": [
    {
     "name": "stdout",
     "output_type": "stream",
     "text": [
      "6\n"
     ]
    }
   ],
   "source": [
    "def get_bigger(int1, int2):\n",
    "    if int1 > int2:\n",
    "        return int1\n",
    "    return int2\n",
    "\n",
    "print(get_bigger(5,6))"
   ]
  },
  {
   "cell_type": "code",
   "execution_count": 10,
   "metadata": {},
   "outputs": [
    {
     "name": "stdout",
     "output_type": "stream",
     "text": [
      "5\n"
     ]
    },
    {
     "ename": "TypeError",
     "evalue": "unsupported operand type(s) for *: 'int' and 'NoneType'",
     "output_type": "error",
     "traceback": [
      "\u001b[1;31m---------------------------------------------------------------------------\u001b[0m",
      "\u001b[1;31mTypeError\u001b[0m                                 Traceback (most recent call last)",
      "\u001b[1;32m~\\AppData\\Local\\Temp/ipykernel_5188/161102697.py\u001b[0m in \u001b[0;36m<module>\u001b[1;34m\u001b[0m\n\u001b[0;32m     10\u001b[0m         \u001b[0mprint\u001b[0m\u001b[1;33m(\u001b[0m\u001b[0mint2\u001b[0m\u001b[1;33m)\u001b[0m\u001b[1;33m\u001b[0m\u001b[1;33m\u001b[0m\u001b[0m\n\u001b[0;32m     11\u001b[0m \u001b[1;33m\u001b[0m\u001b[0m\n\u001b[1;32m---> 12\u001b[1;33m \u001b[0mprint\u001b[0m\u001b[1;33m(\u001b[0m\u001b[1;36m2\u001b[0m\u001b[1;33m*\u001b[0m\u001b[0mprint_bigger\u001b[0m\u001b[1;33m(\u001b[0m\u001b[1;36m4\u001b[0m\u001b[1;33m,\u001b[0m\u001b[1;36m5\u001b[0m\u001b[1;33m)\u001b[0m\u001b[1;33m)\u001b[0m\u001b[1;33m\u001b[0m\u001b[1;33m\u001b[0m\u001b[0m\n\u001b[0m",
      "\u001b[1;31mTypeError\u001b[0m: unsupported operand type(s) for *: 'int' and 'NoneType'"
     ]
    }
   ],
   "source": [
    "def get_bigger(int1,int2):\n",
    "    if int1 >= int2:\n",
    "        return int1\n",
    "    return int2\n",
    "\n",
    "def print_bigger(int1,int2):\n",
    "    if int1>=int2:\n",
    "        print(int1)\n",
    "    else:\n",
    "        print(int2)\n",
    "        \n",
    "print(2*print_bigger(4,5))"
   ]
  },
  {
   "cell_type": "code",
   "execution_count": 1,
   "metadata": {},
   "outputs": [
    {
     "data": {
      "text/plain": [
       "NoneType"
      ]
     },
     "execution_count": 1,
     "metadata": {},
     "output_type": "execute_result"
    }
   ],
   "source": [
    "type(None)"
   ]
  },
  {
   "cell_type": "markdown",
   "metadata": {},
   "source": [
    "```课堂例题```  \n",
    "\n",
    "实现一个函数 print_bigger(int1,int2),比较两数的大小，并打印较大的那个数的值在屏幕上。"
   ]
  },
  {
   "cell_type": "code",
   "execution_count": 12,
   "metadata": {},
   "outputs": [
    {
     "name": "stdout",
     "output_type": "stream",
     "text": [
      "6\n",
      "None\n",
      "\n",
      "None\n"
     ]
    }
   ],
   "source": [
    "def print_bigger(int1, int2):\n",
    "    if int1 > int2:\n",
    "        print(int1)\n",
    "    else:\n",
    "        print(int2)\n",
    "        \n",
    "print(print_bigger(5,6))\n",
    "\n",
    "print(print())"
   ]
  },
  {
   "cell_type": "code",
   "execution_count": 13,
   "metadata": {},
   "outputs": [
    {
     "name": "stdout",
     "output_type": "stream",
     "text": [
      "6\n"
     ]
    }
   ],
   "source": [
    "def print_bigger(int1,int2):\n",
    "    if int1>=int2:\n",
    "        print(int1)\n",
    "    else:\n",
    "        print(int2)\n",
    "\n",
    "print_bigger(5,6) "
   ]
  },
  {
   "cell_type": "markdown",
   "metadata": {},
   "source": [
    "```课堂例题```  \n",
    "\n",
    "实现一个函数 get_biggest(int1, int2, int3), 返回三个数中的最大数的值。"
   ]
  },
  {
   "cell_type": "code",
   "execution_count": 14,
   "metadata": {},
   "outputs": [
    {
     "name": "stdout",
     "output_type": "stream",
     "text": [
      "100\n"
     ]
    }
   ],
   "source": [
    "def get_bigger(int1,int2):\n",
    "    if int1 >= int2:\n",
    "        return int1\n",
    "    return int2\n",
    "\n",
    "def get_biggest(int1,int2,int3):\n",
    "    num = get_bigger(int1, int2)\n",
    "    return get_bigger(num,int3)\n",
    "\n",
    "c=get_biggest(int3=100,int1=56,int2=5)\n",
    "print(c)"
   ]
  },
  {
   "cell_type": "code",
   "execution_count": 15,
   "metadata": {},
   "outputs": [
    {
     "data": {
      "text/plain": [
       "function"
      ]
     },
     "execution_count": 15,
     "metadata": {},
     "output_type": "execute_result"
    }
   ],
   "source": [
    "type(get_biggest)"
   ]
  },
  {
   "cell_type": "markdown",
   "metadata": {},
   "source": [
    "#### 4） return 关键字  \n",
    "\n",
    "return 关键字必须写在一个函数体内，return 关键字后面通常会跟一个表达式，该表达式的值即**函数的返回值（输出）**。函数执行到return关键字后，将表达式的值返回给调用函数的地方，然后函数立刻结束执行。有时候函数体内并没有写 return 关键字，那么在执行完函数体的最后一行代码后，会自动将 **None** 返回给调用函数的地方。**None** 也是一种基本数据类型。"
   ]
  },
  {
   "cell_type": "markdown",
   "metadata": {},
   "source": [
    "**None**: 表示无输入，无返回值，没有值的意思。None 对应逻辑值中的 False。注意 None 和空字符串、空列表等的区分。"
   ]
  },
  {
   "cell_type": "markdown",
   "metadata": {},
   "source": [
    "#### 5） 位置传参和关键字传参  \n",
    "\n",
    "* 位置传参（positional）：实参代入形参时是严格遵守定义函数的形参的左右顺序执行的。  \n",
    "* 关键字传参（keyword）：实参代入形参时要带上形参的名字。"
   ]
  },
  {
   "cell_type": "markdown",
   "metadata": {},
   "source": [
    "```课堂例题```  \n",
    "\n",
    "实现一个函数 print_name(firstname,lastname,reverse), 如果 reverse 为 False，则按照 firstname 在前，lastname 在后的顺序打印；如果 reverse 为 True，则按照 lastname 在前，firstname 在后的顺序打印。\n"
   ]
  },
  {
   "cell_type": "code",
   "execution_count": 16,
   "metadata": {},
   "outputs": [
    {
     "name": "stdout",
     "output_type": "stream",
     "text": [
      "sukaiyue\n"
     ]
    }
   ],
   "source": [
    "def print_name(firstname, lastname, \n",
    "               reverse=True):\n",
    "    if reverse:\n",
    "        print(lastname + firstname)\n",
    "    else:\n",
    "        print(firstname + lastname)\n",
    "    \n",
    "print_name('su','kaiyue',False)"
   ]
  },
  {
   "cell_type": "markdown",
   "metadata": {},
   "source": [
    "* 关键字参数支持默认参数值（default parameter values）"
   ]
  },
  {
   "cell_type": "markdown",
   "metadata": {},
   "source": [
    "#### 6) 函数的说明文档（docstring）  \n",
    "\n",
    "定义函数的人有责任对自己的函数写一段说明文档来解释说明函数的用法，方便使用函数的人查看，从而正确地调用该函数。这个说明文档叫做 **docstring**。  "
   ]
  },
  {
   "cell_type": "code",
   "execution_count": 17,
   "metadata": {},
   "outputs": [
    {
     "name": "stdout",
     "output_type": "stream",
     "text": [
      "Help on function convert_to_celsius in module __main__:\n",
      "\n",
      "convert_to_celsius(fahrenheit)\n",
      "    将华氏度转为摄氏度\n",
      "\n"
     ]
    }
   ],
   "source": [
    "help(convert_to_celsius)"
   ]
  },
  {
   "cell_type": "markdown",
   "metadata": {},
   "source": [
    "**思考**  \n",
    "\n",
    "我们可以直接访问到形参，或者任何定义在函数体内的变量吗？"
   ]
  },
  {
   "cell_type": "code",
   "execution_count": null,
   "metadata": {},
   "outputs": [],
   "source": []
  },
  {
   "cell_type": "markdown",
   "metadata": {},
   "source": [
    "### 2.2 局部变量 （locals / local variables）"
   ]
  },
  {
   "cell_type": "markdown",
   "metadata": {},
   "source": [
    "```课堂练习```  \n",
    "\n",
    "实现一个函数 quadratic(a, b, c, x), 返回多项式 $ax^2 + bx + c$的值。"
   ]
  },
  {
   "cell_type": "code",
   "execution_count": 18,
   "metadata": {},
   "outputs": [],
   "source": [
    "def quadratic(a,b,c,x):\n",
    "    '''\n",
    "    返回 多项式 a*x**2 + b*x + c 的值\n",
    "    '''\n",
    "    first = a * x ** 2\n",
    "    second = b * x\n",
    "    third = c\n",
    "    return first + second + third"
   ]
  },
  {
   "cell_type": "code",
   "execution_count": 19,
   "metadata": {},
   "outputs": [
    {
     "data": {
      "text/plain": [
       "6.0"
      ]
     },
     "execution_count": 19,
     "metadata": {},
     "output_type": "execute_result"
    }
   ],
   "source": [
    "quadratic(2,3,4,0.5)"
   ]
  },
  {
   "cell_type": "code",
   "execution_count": 20,
   "metadata": {},
   "outputs": [
    {
     "data": {
      "text/plain": [
       "13.0"
      ]
     },
     "execution_count": 20,
     "metadata": {},
     "output_type": "execute_result"
    }
   ],
   "source": [
    "quadratic(2,3,4,1.5)"
   ]
  },
  {
   "cell_type": "code",
   "execution_count": 21,
   "metadata": {},
   "outputs": [
    {
     "ename": "NameError",
     "evalue": "name 'first' is not defined",
     "output_type": "error",
     "traceback": [
      "\u001b[1;31m---------------------------------------------------------------------------\u001b[0m",
      "\u001b[1;31mNameError\u001b[0m                                 Traceback (most recent call last)",
      "\u001b[1;32m~\\AppData\\Local\\Temp/ipykernel_5188/1251776914.py\u001b[0m in \u001b[0;36m<module>\u001b[1;34m\u001b[0m\n\u001b[1;32m----> 1\u001b[1;33m \u001b[0mprint\u001b[0m\u001b[1;33m(\u001b[0m\u001b[0mfirst\u001b[0m\u001b[1;33m)\u001b[0m\u001b[1;33m\u001b[0m\u001b[1;33m\u001b[0m\u001b[0m\n\u001b[0m",
      "\u001b[1;31mNameError\u001b[0m: name 'first' is not defined"
     ]
    }
   ],
   "source": [
    "print(first)"
   ]
  },
  {
   "cell_type": "code",
   "execution_count": 22,
   "metadata": {},
   "outputs": [
    {
     "ename": "NameError",
     "evalue": "name 'x' is not defined",
     "output_type": "error",
     "traceback": [
      "\u001b[1;31m---------------------------------------------------------------------------\u001b[0m",
      "\u001b[1;31mNameError\u001b[0m                                 Traceback (most recent call last)",
      "\u001b[1;32m~\\AppData\\Local\\Temp/ipykernel_5188/32546335.py\u001b[0m in \u001b[0;36m<module>\u001b[1;34m\u001b[0m\n\u001b[1;32m----> 1\u001b[1;33m \u001b[0mx\u001b[0m\u001b[1;33m\u001b[0m\u001b[1;33m\u001b[0m\u001b[0m\n\u001b[0m",
      "\u001b[1;31mNameError\u001b[0m: name 'x' is not defined"
     ]
    }
   ],
   "source": [
    "x"
   ]
  },
  {
   "cell_type": "markdown",
   "metadata": {},
   "source": [
    "这里的first, second 和 third 都是**局部变量（local variables）**。局部变量就是每次函数调用的过程中才被创建，函数调用结束后，被系统回收的变量。因为只有在函数调用的时候，执行函数体内代码时才存在，因此我们无法从函数外部访问局部变量。函数结束调用的标志就是 return 后的语句被执行。  \n",
    "\n",
    "程序中，一个变量的作用范围叫做该**变量的作用域（variable's scope）**。局部变量的作用域就是从定义它的那行代码开始，一直到定义代码的最后一行。"
   ]
  },
  {
   "cell_type": "code",
   "execution_count": 23,
   "metadata": {},
   "outputs": [
    {
     "ename": "NameError",
     "evalue": "name 'first' is not defined",
     "output_type": "error",
     "traceback": [
      "\u001b[1;31m---------------------------------------------------------------------------\u001b[0m",
      "\u001b[1;31mNameError\u001b[0m                                 Traceback (most recent call last)",
      "\u001b[1;32m~\\AppData\\Local\\Temp/ipykernel_5188/1586780287.py\u001b[0m in \u001b[0;36m<module>\u001b[1;34m\u001b[0m\n\u001b[1;32m----> 1\u001b[1;33m \u001b[0mfirst\u001b[0m\u001b[1;33m\u001b[0m\u001b[1;33m\u001b[0m\u001b[0m\n\u001b[0m",
      "\u001b[1;31mNameError\u001b[0m: name 'first' is not defined"
     ]
    }
   ],
   "source": [
    "first "
   ]
  },
  {
   "cell_type": "markdown",
   "metadata": {},
   "source": [
    "从外部访问局部变量 first 产生了错误，类型为NameError，相当于访问一个没有被定义的变量。"
   ]
  },
  {
   "cell_type": "code",
   "execution_count": 24,
   "metadata": {},
   "outputs": [
    {
     "ename": "NameError",
     "evalue": "name 'a' is not defined",
     "output_type": "error",
     "traceback": [
      "\u001b[1;31m---------------------------------------------------------------------------\u001b[0m",
      "\u001b[1;31mNameError\u001b[0m                                 Traceback (most recent call last)",
      "\u001b[1;32m~\\AppData\\Local\\Temp/ipykernel_5188/2167009006.py\u001b[0m in \u001b[0;36m<module>\u001b[1;34m\u001b[0m\n\u001b[1;32m----> 1\u001b[1;33m \u001b[0ma\u001b[0m\u001b[1;33m\u001b[0m\u001b[1;33m\u001b[0m\u001b[0m\n\u001b[0m",
      "\u001b[1;31mNameError\u001b[0m: name 'a' is not defined"
     ]
    }
   ],
   "source": [
    "a"
   ]
  },
  {
   "cell_type": "markdown",
   "metadata": {},
   "source": [
    "**思考**：\n",
    "\n",
    "我们已经知道，形参和函数体内的变量都属于局部变量，那么，实参和形参可以是同名吗？  \n",
    "\n",
    "下面这段代码的执行顺序和结果为："
   ]
  },
  {
   "cell_type": "code",
   "execution_count": 25,
   "metadata": {},
   "outputs": [
    {
     "name": "stdout",
     "output_type": "stream",
     "text": [
      "4\n"
     ]
    }
   ],
   "source": [
    "def f(x):\n",
    "    x = 2*x\n",
    "    return x\n",
    "\n",
    "x = 1\n",
    "x = f(x+1)\n",
    "print(x)"
   ]
  },
  {
   "cell_type": "code",
   "execution_count": 26,
   "metadata": {},
   "outputs": [
    {
     "name": "stdout",
     "output_type": "stream",
     "text": [
      "4\n"
     ]
    }
   ],
   "source": [
    "print(x)"
   ]
  },
  {
   "cell_type": "markdown",
   "metadata": {},
   "source": [
    "### 2.3 命名空间\n",
    "\n",
    "每一次 Python 在**调用函数（而不是定义函数）**的时候，都会为这个函数创建一个**命名空间（namespace）**，用来存放局部变量。你可以把命名空间当做一张纸，Python解释器会在这张白纸写上局部变量，在函数调用期间这张白纸以及上面的局部变量都得以保留，等到函数调用结束，这张白纸连同上面的局部变量立刻被内存扔掉。  \n",
    "\n",
    "对于我们当前直接运行在 IPython shell 里的变量来说，Python 解释器也会拿出另一张白纸（命名空间），写上直接创建在 IPython shell 里面的变量。这就意味着在刚上面那段代码里，第5行的x和第1行的x是在不同命名空间下的两个的两个变量，因此它们毫无关系。那么实际上也就意味着，**函数的形参和实参是可以同名的，不同函数的形参也是可以是同名的。因为它们根本不在一个命名空间内**。"
   ]
  },
  {
   "cell_type": "markdown",
   "metadata": {},
   "source": [
    "```以上代码的执行过程```"
   ]
  },
  {
   "cell_type": "markdown",
   "metadata": {},
   "source": [
    "* 1）def f(x):  \n",
    "<img src='resource/命名空间1.jpg' style='zoom:80%'>  \n",
    "\n",
    "执行代码行 def f(x), 在 shell 层级的命名空间中创建变量 f，f 引用了一个函数类型的数据对象。Python解释器目前不管函数内部的代码是什么样子的。"
   ]
  },
  {
   "cell_type": "markdown",
   "metadata": {},
   "source": [
    "* 2) x = 1  \n",
    "<img src='resource/命名空间2.jpg' style='zoom:80%'>  \n",
    "执行代码行 x = 1, 在 shell 层级的命名空间下创建一个变量 x, x 引用了一个 int 类型的数据对象，具体值为1。"
   ]
  },
  {
   "cell_type": "markdown",
   "metadata": {},
   "source": [
    "* 3) f(x+1)  \n",
    "<img src='resource/命名空间3.jpg' style='zoom:80%'>  \n",
    "执行代码行 x = f(x+1), 赋值语句从 = 号的右边表达式开始执行。f(x+1)表示函数 f 的调用。Python 解释器创建 f 函数层级的命名空间，并根据定义函数 f 时所使用的形参，在 f 命名空间下创建变量 x，并将 shell 层级命名空间中的 x 数据对象的值进行 + 1 操作后赋给 f 层级命名空间中的 x。即 f 中的 x 引用了 int 型数据对象，值为 2。"
   ]
  },
  {
   "cell_type": "markdown",
   "metadata": {},
   "source": [
    "* 4) 函数体内的 x = 2 * x  \n",
    "<img src='resource/命名空间4.jpg' style='zoom:80%'>  \n",
    "接着进入函数定义部分中的函数体，即执行代码行 x = 2 * x。我们对 f 层级命名空间中的 x 变量执行此操作，x 引用了新的数据对象 4。"
   ]
  },
  {
   "cell_type": "markdown",
   "metadata": {},
   "source": [
    "* 5) return x    \n",
    "<img src='resource/命名空间5.jpg' style='zoom:80%'>  \n",
    "执行代码行 return x。获取我们的返回值 x 并返回。"
   ]
  },
  {
   "cell_type": "markdown",
   "metadata": {},
   "source": [
    "* 6) x = f(x+1)  \n",
    "<img src='resource/命名空间6.jpg' style='zoom:80%'>  \n",
    "执行完 return 语句后，f层级的命名空间被系统销毁，我们才算是完成调用函数 f(x+1), 我们将返回值 4 赋给 shell 层命名空间中的变量 x。"
   ]
  },
  {
   "cell_type": "markdown",
   "metadata": {},
   "source": [
    "```思考```  \n",
    "\n",
    "以下代码会产生什么样的运行结果。"
   ]
  },
  {
   "cell_type": "code",
   "execution_count": 27,
   "metadata": {},
   "outputs": [
    {
     "name": "stdout",
     "output_type": "stream",
     "text": [
      "x = 4\n",
      "x = abc\n",
      "x = 4\n",
      "x = 3\n",
      "z = <function f.<locals>.g at 0x000002510581F700>\n",
      "x = abc\n"
     ]
    }
   ],
   "source": [
    "def f(x):\n",
    "    def g():\n",
    "        x = 'abc'\n",
    "        print('x =',x)\n",
    "    x = x + 1\n",
    "    print('x =',x)\n",
    "    g()\n",
    "    print('x =',x)\n",
    "    return g\n",
    "x = 3\n",
    "z = f(x)\n",
    "print('x =',x)\n",
    "print('z =',z)\n",
    "z()"
   ]
  },
  {
   "cell_type": "markdown",
   "metadata": {},
   "source": [
    "<img src='resource\\函数运行过程.png' style='zoom:40%'>"
   ]
  },
  {
   "cell_type": "markdown",
   "metadata": {},
   "source": [
    "### 2.4 定义函数的步骤"
   ]
  },
  {
   "cell_type": "markdown",
   "metadata": {},
   "source": [
    "1) 思考函数的功能是什么，从思考函数的输入、输出开始。比如列举几个例子，观察一下你的函数应该具有什么样具体的功能，并根据功能给你的函数起一个合适的名字。"
   ]
  },
  {
   "cell_type": "markdown",
   "metadata": {},
   "source": [
    "2）思考输入参数的数据类型，也就是你的函数能处理什么样的数据。"
   ]
  },
  {
   "cell_type": "markdown",
   "metadata": {},
   "source": [
    "3）写函数定义的第一行，给你的形参起一个有意义的名字，方便自己后续以及他人调用函数时传参做参考。"
   ]
  },
  {
   "cell_type": "markdown",
   "metadata": {},
   "source": [
    "4) 写函数内部的代码，也就是真正能够实现函数业务逻辑的部分。"
   ]
  },
  {
   "cell_type": "markdown",
   "metadata": {},
   "source": [
    "5) 测试你的函数，功能是否正常。"
   ]
  },
  {
   "cell_type": "markdown",
   "metadata": {},
   "source": [
    "## 递归（Recursion）"
   ]
  },
  {
   "cell_type": "markdown",
   "metadata": {},
   "source": [
    "```课堂案例```  \n",
    "\n",
    "抱起我的小鲤鱼"
   ]
  },
  {
   "cell_type": "code",
   "execution_count": 28,
   "metadata": {},
   "outputs": [
    {
     "name": "stdout",
     "output_type": "stream",
     "text": [
      "吓得我抱起了\n",
      "抱着抱着抱着我的小鲤鱼的我的我的我"
     ]
    }
   ],
   "source": [
    "def print_fish(depth):\n",
    "    print('抱着',end='')\n",
    "    if depth == 1:\n",
    "        print(\"我的小鲤鱼\",end='')\n",
    "    else:\n",
    "        print_fish(depth-1)\n",
    "    print('的我',end='')\n",
    "print('吓得我抱起了')  \n",
    "print_fish(3)"
   ]
  },
  {
   "cell_type": "markdown",
   "metadata": {},
   "source": [
    "```课堂案例```  \n",
    "\n",
    "老和尚讲故事。"
   ]
  },
  {
   "cell_type": "code",
   "execution_count": 29,
   "metadata": {},
   "outputs": [
    {
     "name": "stdout",
     "output_type": "stream",
     "text": [
      "从前有座山，山上有座庙，庙里有个老和尚在给小和尚讲故事，讲的是：从前有座山，山上有座庙，庙里有个老和尚在给小和尚讲故事，讲的是：从前有座山，山上有座庙，庙里有个老和尚在给小和尚讲故事，讲的是：从前有座山，山上有座庙，庙里有个老和尚在给小和尚讲故事，讲的是：从前有座山，山上有座庙，庙里有个老和尚在给小和尚讲故事，讲的是：从前有座山，山上有座庙，庙里有个老和尚在给小和尚讲故事。"
     ]
    }
   ],
   "source": [
    "def print_story(depth):\n",
    "    if depth == 1:\n",
    "        print(\"从前有座山，山上有座庙，\\\n",
    "庙里有个老和尚在给小和尚讲故事。\",end='')\n",
    "    else:\n",
    "        print(\"从前有座山，山上有座庙，\\\n",
    "庙里有个老和尚在给小和尚讲故事，讲的是：\",end='')\n",
    "        print_story(depth-1)\n",
    "\n",
    "print_story(6)"
   ]
  },
  {
   "cell_type": "markdown",
   "metadata": {},
   "source": [
    "```课堂案例```  \n",
    "\n",
    "求阶乘 f(n) = n!"
   ]
  },
  {
   "cell_type": "markdown",
   "metadata": {},
   "source": [
    "$f(6)$  \n",
    "$=> 6 × f(5)$  \n",
    "$=> 6 × (5 × f(4))$  \n",
    "$=> 6 × (5 × (4 × f(3)))$   \n",
    "$=> 6 × (5 × (4 × (3 × f(2))))$  \n",
    "$=> 6 × (5 × (4 × (3 × (2 × f(1)))))$   \n",
    "$=> 6 × (5 × (4 × (3 × (2 × 1))))$  \n",
    "$=> 6 × (5 × (4 × (3 × 2)))$  \n",
    "$=> 6 × (5 × (4 × 6))$  \n",
    "$=> 6 × (5 × 24)$  \n",
    "$=> 6 × 120$    \n",
    "$=> 720$  "
   ]
  },
  {
   "cell_type": "code",
   "execution_count": 30,
   "metadata": {},
   "outputs": [
    {
     "data": {
      "text/plain": [
       "720"
      ]
     },
     "execution_count": 30,
     "metadata": {},
     "output_type": "execute_result"
    }
   ],
   "source": [
    "def factorial(n):\n",
    "    if n == 1:\n",
    "        return 1\n",
    "    return n * factorial(n-1)\n",
    "\n",
    "factorial(6)"
   ]
  },
  {
   "cell_type": "markdown",
   "metadata": {},
   "source": [
    "$factorial(6)$  \n",
    "$=> 6 × factorial(5)$  \n",
    "$=> 6 × (5 × factorial(4))$  \n",
    "$=> 6 × (5 × (4 × factorial(3)))$   \n",
    "$=> 6 × (5 × (4 × (3 × factorial(2))))$  \n",
    "$=> 6 × (5 × (4 × (3 × (2 × factorial(1)))))$   \n",
    "$=> 6 × (5 × (4 × (3 × (2 × 1))))$  \n",
    "$=> 6 × (5 × (4 × (3 × 2)))$  \n",
    "$=> 6 × (5 × (4 × 6))$  \n",
    "$=> 6 × (5 × 24)$  \n",
    "$=> 6 × 120$    \n",
    "$=> 720$  "
   ]
  },
  {
   "cell_type": "markdown",
   "metadata": {},
   "source": [
    "```课堂案例```  \n",
    "\n",
    "求斐波那契数列。"
   ]
  },
  {
   "cell_type": "code",
   "execution_count": 31,
   "metadata": {},
   "outputs": [
    {
     "data": {
      "text/plain": [
       "8"
      ]
     },
     "execution_count": 31,
     "metadata": {},
     "output_type": "execute_result"
    }
   ],
   "source": [
    "def fibo(n):\n",
    "    if n == 0 or n == 1:\n",
    "        return 1\n",
    "    return fibo(n-1) + fibo(n-2)\n",
    "\n",
    "fibo(5)"
   ]
  },
  {
   "cell_type": "markdown",
   "metadata": {},
   "source": [
    "```课堂案例```  \n",
    "\n",
    "求 n 以内所有整数之和。"
   ]
  },
  {
   "cell_type": "code",
   "execution_count": 32,
   "metadata": {},
   "outputs": [
    {
     "data": {
      "text/plain": [
       "15"
      ]
     },
     "execution_count": 32,
     "metadata": {},
     "output_type": "execute_result"
    }
   ],
   "source": [
    "def sum_n(n):\n",
    "    if n == 1:\n",
    "        return 1\n",
    "    return n + sum_n(n-1)\n",
    "\n",
    "sum_n(5)"
   ]
  },
  {
   "cell_type": "markdown",
   "metadata": {},
   "source": [
    "$sum\\_n(5)$  \n",
    "$=> 5 + sum\\_n(4)$  \n",
    "$=> 5 + (4 + sum\\_n(3))$  \n",
    "$=> 5 + (4 + (3 + sum\\_n(2)))$  \n",
    "$=> 5 + (4 + (3 + (2 + sum\\_n(1))))$  \n",
    "$=> 5 + (4 + (3 + (2 + 1)))$  \n",
    "$=> 5 + (4 + (3 + 3))$  \n",
    "$=> 5 + (4 + 6)$  \n",
    "$=> 5 + 10$  \n",
    "$=> 15$  "
   ]
  }
 ],
 "metadata": {
  "kernelspec": {
   "display_name": "PyCharm (one)",
   "language": "python",
   "name": "pycharm-c4f52c"
  },
  "language_info": {
   "codemirror_mode": {
    "name": "ipython",
    "version": 3
   },
   "file_extension": ".py",
   "mimetype": "text/x-python",
   "name": "python",
   "nbconvert_exporter": "python",
   "pygments_lexer": "ipython3",
   "version": "3.9.7"
  }
 },
 "nbformat": 4,
 "nbformat_minor": 4
}
