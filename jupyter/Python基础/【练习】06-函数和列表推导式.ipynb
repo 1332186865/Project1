{
 "cells": [
  {
   "cell_type": "markdown",
   "metadata": {},
   "source": [
    "## Exercise 1  \n",
    "Use a list comprehension to remove empty lists from a list of lists. [ [],\n",
    "[0,1,2], [] , [3,6,7,21]] -> [[0, 1, 2], [3, 6, 7, 21]]\n"
   ]
  },
  {
   "cell_type": "code",
   "execution_count": 6,
   "metadata": {},
   "outputs": [
    {
     "name": "stdout",
     "output_type": "stream",
     "text": [
      "534 ns ± 6.59 ns per loop (mean ± std. dev. of 7 runs, 1000000 loops each)\n",
      "\n",
      "287 ns ± 1.71 ns per loop (mean ± std. dev. of 7 runs, 1000000 loops each)\n",
      "\n",
      "316 ns ± 2.04 ns per loop (mean ± std. dev. of 7 runs, 1000000 loops each)\n"
     ]
    }
   ],
   "source": [
    "def remove_list(list0):\n",
    "    return [list0[i] for i in range(len(list0)) if list0[i] != []]\n",
    "\n",
    "\n",
    "def remove_list1(list0):\n",
    "    return [x for x in list0 if x != []]\n",
    "\n",
    "\n",
    "def remove_list2(list0):\n",
    "    return [x for x in list0 if len(x) != 0]\n",
    "\n",
    "\n",
    "ls = [[], [0, 1, 2], [], [3, 6, 7, 21]]\n",
    "% timeit remove_list(ls)\n",
    "print()\n",
    "% timeit remove_list1(ls)\n",
    "print()\n",
    "% timeit remove_list2(ls)\n"
   ]
  },
  {
   "cell_type": "markdown",
   "metadata": {},
   "source": [
    "## Exercise 2  \n",
    "Use list comprehensions to convert a list of words to a list of tuples where\n",
    "each tuple contains the word and the length of the word.   \n",
    "['Hello', 'Me'] -> [('Hello', 5), ('Me', 2)]"
   ]
  },
  {
   "cell_type": "code",
   "execution_count": 8,
   "metadata": {},
   "outputs": [
    {
     "name": "stdout",
     "output_type": "stream",
     "text": [
      "[('Hello', 5), ('Me', 2)]\n"
     ]
    }
   ],
   "source": [
    "def convert_list(ls):\n",
    "    # temp = []\n",
    "    # for i in ls:\n",
    "    #     temp.append((i, len(i)))\n",
    "    # return temp\n",
    "    return [(i, len(i)) for i in ls]\n",
    "\n",
    "\n",
    "list1 = ['Hello', 'Me']\n",
    "print(convert_list(list1))\n"
   ]
  },
  {
   "cell_type": "markdown",
   "metadata": {},
   "source": [
    "## Exercise 3  \n",
    "Use list comprehensions to replace all numbers ending with zero in a list.\n",
    "[10, 1, 2, 100, 200] -> [0, 1, 2, 0, 0]"
   ]
  },
  {
   "cell_type": "code",
   "execution_count": 9,
   "metadata": {},
   "outputs": [
    {
     "name": "stdout",
     "output_type": "stream",
     "text": [
      "[0, 1, 2, 0, 0]\n"
     ]
    }
   ],
   "source": [
    "def replace_list(ls):\n",
    "    # for i in range(len(ls)):\n",
    "    #     if ls[i] % 10 == 0:\n",
    "    #         ls[i] = 0\n",
    "    # return ls\n",
    "    return [0 if i % 10 == 0 else i for i in ls]\n",
    "\n",
    "\n",
    "ls1 = [10, 1, 2, 100, 200]\n",
    "print(replace_list(ls1))"
   ]
  },
  {
   "cell_type": "markdown",
   "metadata": {},
   "source": [
    "## Exercise 4  \n",
    "Use list comprehensions to use two lists (might be different length) and\n",
    "produce a list of all possible combinations of one element of each list  \n",
    "a = [\"apple\",\"pie\"] b = [6,7,8,9,10]   \n",
    "Output: [('apple', 6), ('apple', 7), ('apple',\n",
    "8), ('apple', 9), ('apple', 10), ('pie', 6), ('pie', 7), ('pie', 8), ('pie', 9), ('pie',\n",
    "10)]"
   ]
  },
  {
   "cell_type": "code",
   "execution_count": 12,
   "metadata": {},
   "outputs": [
    {
     "name": "stdout",
     "output_type": "stream",
     "text": [
      "726 ns ± 10.2 ns per loop (mean ± std. dev. of 7 runs, 1000000 loops each)\n",
      "639 ns ± 8.29 ns per loop (mean ± std. dev. of 7 runs, 1000000 loops each)\n"
     ]
    }
   ],
   "source": [
    "# def com_list(ls1, ls2):\n",
    "#     temp = []\n",
    "#     for i in ls1:\n",
    "#         for j in ls2:\n",
    "#             temp.append((i, j))\n",
    "#     return temp\n",
    "\n",
    "\n",
    "def com_list1(ls1, ls2):\n",
    "    return [(i, j) for i in ls1 for j in ls2]\n",
    "\n",
    "\n",
    "a = [\"apple\", \"pie\"]\n",
    "b = [6, 7, 8, 9, 10]\n",
    "% timeit com_list(a, b)\n",
    "% timeit com_list1(a, b)\n"
   ]
  },
  {
   "cell_type": "markdown",
   "metadata": {},
   "source": [
    "## Exercise 5  \n",
    "Use list comprehensions to use two lists of the same length, and produce\n",
    "a list of tuples with corresponding elements. For example: Two lists:   \n",
    "a = [1,2,3,4,5] b = [6,7,8,9,10]   \n",
    "Output: [(1, 6), (2, 7), (3, 8), (4, 9), (5, 10)]  \n",
    "**Hint**: Python has builtin function **zip** for this."
   ]
  },
  {
   "cell_type": "code",
   "execution_count": 14,
   "metadata": {},
   "outputs": [
    {
     "name": "stdout",
     "output_type": "stream",
     "text": [
      "362 ns ± 4.27 ns per loop (mean ± std. dev. of 7 runs, 1000000 loops each)\n",
      "359 ns ± 3.19 ns per loop (mean ± std. dev. of 7 runs, 1000000 loops each)\n",
      "323 ns ± 3.36 ns per loop (mean ± std. dev. of 7 runs, 1000000 loops each)\n"
     ]
    }
   ],
   "source": [
    "def com_twolist(ls1, ls2):\n",
    "    temp = list(zip(ls1, ls2))\n",
    "    return temp\n",
    "\n",
    "\n",
    "def com_twolist1(ls1, ls2):\n",
    "    return list(zip(ls1, ls2))\n",
    "\n",
    "\n",
    "a = [1, 2, 3, 4, 5]\n",
    "b = [6, 7, 8, 9, 10]\n",
    "%timeit com_twolist(a, b)\n",
    "%timeit com_twolist1(a, b)\n",
    "%timeit list(zip(a, b))"
   ]
  }
 ],
 "metadata": {
  "kernelspec": {
   "name": "pycharm-project2",
   "language": "python",
   "display_name": "PyCharm (project2)"
  },
  "language_info": {
   "codemirror_mode": {
    "name": "ipython",
    "version": 3
   },
   "file_extension": ".py",
   "mimetype": "text/x-python",
   "name": "python",
   "nbconvert_exporter": "python",
   "pygments_lexer": "ipython3",
   "version": "3.9.7"
  }
 },
 "nbformat": 4,
 "nbformat_minor": 4
}