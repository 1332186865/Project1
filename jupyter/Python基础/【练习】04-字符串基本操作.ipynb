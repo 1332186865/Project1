{
 "cells": [
  {
   "cell_type": "markdown",
   "metadata": {},
   "source": [
    "## Exercise 1\n",
    "使用字符串表示以下这首诗。  \n",
    "A very long string  \n",
    "can be split into multiple  \n",
    "sentences by appending a blackslash  \n",
    "to the end of the line.  "
   ]
  },
  {
   "cell_type": "code",
   "execution_count": 6,
   "metadata": {},
   "outputs": [
    {
     "name": "stdout",
     "output_type": "stream",
     "text": [
      "A very long string\n",
      "can be split into multiple\n",
      "sentences by appending a blackslash\n",
      "to the end of the line. \n"
     ]
    }
   ],
   "source": [
    "print(\"A very long string\\ncan be split into multiple\\nsentences by appending a blackslash\\nto the end of the line. \")\n"
   ]
  },
  {
   "cell_type": "markdown",
   "metadata": {},
   "source": [
    "## Exercise 2  \n",
    "一行代码统计'o'在'tomato'中出现的次数。"
   ]
  },
  {
   "cell_type": "code",
   "execution_count": 2,
   "metadata": {},
   "outputs": [
    {
     "name": "stdout",
     "output_type": "stream",
     "text": [
      "次数为 2\n"
     ]
    }
   ],
   "source": [
    "a = \"tomato\"\n",
    "print(\"次数为\", a.count('o'))"
   ]
  },
  {
   "cell_type": "markdown",
   "metadata": {},
   "source": [
    "## Exercise 3  \n",
    "找到'o'在'tomato'中第二次出现的索引位置。"
   ]
  },
  {
   "cell_type": "code",
   "execution_count": 8,
   "metadata": {},
   "outputs": [
    {
     "name": "stdout",
     "output_type": "stream",
     "text": [
      "索引位置为： 5\n"
     ]
    }
   ],
   "source": [
    "a = 'tomato'\n",
    "b = a.find('o')\n",
    "c = a.find('o', b + 1, len(a))\n",
    "print('索引位置为：', c)"
   ]
  },
  {
   "cell_type": "markdown",
   "metadata": {},
   "source": [
    "## Exercise 4  \n",
    "\n",
    "设计一个“首字母缩写器”，输入一段英文短语，将每个单词的首字母大写组合成新的字符串并输出。  \n",
    "例如：输入“Artificial Intelligence”，输出“AI”。"
   ]
  },
  {
   "cell_type": "code",
   "execution_count": 2,
   "metadata": {},
   "outputs": [
    {
     "name": "stdout",
     "output_type": "stream",
     "text": [
      "AI\n"
     ]
    }
   ],
   "source": [
    "a = input(\"请输入英文短语：\")\n",
    "b = a.title()\n",
    "c = b.split()\n",
    "d = ''\n",
    "for w in c:\n",
    "    d += w[0]\n",
    "print(d)"
   ]
  },
  {
   "cell_type": "markdown",
   "metadata": {},
   "source": [
    "## Exercise 5  \n",
    "使用format函数改写以下代码里print函数里的内容"
   ]
  },
  {
   "cell_type": "code",
   "execution_count": 2,
   "metadata": {},
   "outputs": [
    {
     "name": "stdout",
     "output_type": "stream",
     "text": [
      "His name is Bruce Banner and his alter ego is The Hulk, a big green superhero from the USA. He was born in 1969, so he must be 47 or 48 years old now.\n"
     ]
    }
   ],
   "source": [
    "name = \"Bruce Banner\"\n",
    "alterego = \"The Hulk\"\n",
    "colour = \"green\"\n",
    "country = \"the USA\"\n",
    "birth_year = 1969\n",
    "current_year = 2017\n",
    "\n",
    "print(\"His name is \" + name + \" and his alter ego is \" + alterego +\n",
    "      \", a big \" + colour + \" superhero from \" + country + \". He was born in \" + str(birth_year) +\n",
    "      \", so he must be \" + str(current_year - birth_year - 1) + \" or \" + str(current_year - birth_year) +\n",
    "      \" years old now.\")\n"
   ]
  },
  {
   "cell_type": "code",
   "execution_count": 1,
   "metadata": {},
   "outputs": [
    {
     "name": "stdout",
     "output_type": "stream",
     "text": [
      "His name is Bruce Banner and his alter ego is The Hulk, a big green superhero from the USA. He was born in 1969，so he must be 47 or 48 years old now.\n"
     ]
    }
   ],
   "source": [
    "name = \"Bruce Banner\"\n",
    "alterego = \"The Hulk\"\n",
    "colour = \"green\"\n",
    "country = \"the USA\"\n",
    "birth_year = 1969\n",
    "current_year = 2017\n",
    "\n",
    "print(\n",
    "    \"His name is {} and his alter ego is {}, a big {} superhero from {}. He was born in {}，so he must be {} or {} years old now.\".format(\n",
    "        name, alterego, colour, country, birth_year, (current_year - birth_year - 1), (current_year - birth_year)))\n"
   ]
  },
  {
   "cell_type": "markdown",
   "metadata": {},
   "source": [
    "## Exercise 6\n",
    "给定变量 fruit = 'Orange', 请写一段代码实现打印效果如下：\n",
    "\n",
    "Orange X\n",
    "range X O\n",
    "ange X Or\n",
    "nge X Ora\n",
    "ge X Oran\n",
    "e X Orang\n",
    " X Orange"
   ]
  },
  {
   "cell_type": "code",
   "execution_count": 3,
   "metadata": {
    "pycharm": {
     "name": "#%%\n"
    }
   },
   "outputs": [
    {
     "name": "stdout",
     "output_type": "stream",
     "text": [
      "Orange X \n",
      "range X O\n",
      "ange X Or\n",
      "nge X Ora\n",
      "ge X Oran\n",
      "e X Orang\n",
      " X Orange\n"
     ]
    }
   ],
   "source": [
    "fruit = 'Orange'\n",
    "a = len(fruit)\n",
    "for i in range(8):\n",
    "    print(fruit[i:] + ' X ' + fruit[:i])\n"
   ]
  },
  {
   "cell_type": "markdown",
   "metadata": {},
   "source": [
    "## Exercise 7\n",
    "补充下面代码，实现该代码描述的功能。"
   ]
  },
  {
   "cell_type": "code",
   "execution_count": 1,
   "metadata": {},
   "outputs": [],
   "source": [
    "def total_occurences(s1,s2,ch):\n",
    "    \"\"\"(str, str, str) -> int\n",
    "    \n",
    "    Precondition: len(ch) == 1\n",
    "    \n",
    "    Return the total number of times that ch occurs in s1 and s2.\n",
    "    \n",
    "    >>>total_occurences('color','yellow','l')\n",
    "    3\n",
    "    >>>total_occurences('red','blue','l')\n",
    "    0\n",
    "    >>>total_occurences('green','purple','b')\n",
    "    0\n",
    "    \n",
    "    \"\"\"\n"
   ]
  },
  {
   "cell_type": "code",
   "execution_count": 3,
   "metadata": {},
   "outputs": [
    {
     "name": "stdout",
     "output_type": "stream",
     "text": [
      "请输入字符串：color,yellow,l\n",
      "3\n"
     ]
    }
   ],
   "source": [
    "def total_occurences(s1, s2, ch):\n",
    "    if len(ch) == 1:\n",
    "        b = s1.count(ch)\n",
    "        c = s2.count(ch)\n",
    "        return b + c\n",
    "    return \"Error\"\n",
    "\n",
    "\n",
    "x, y, z = input(\"请输入字符串：\").split(',')\n",
    "print(total_occurences(x, y, z))\n"
   ]
  },
  {
   "cell_type": "markdown",
   "metadata": {},
   "source": [
    "## Exercise  8\n",
    "实现一个函数**count_words**,统计《Python之禅》这首诗里出现单词的个数"
   ]
  },
  {
   "cell_type": "code",
   "execution_count": 4,
   "metadata": {},
   "outputs": [],
   "source": [
    "text = \"\"\"The Zen of Python, by Tim Peters  \n",
    "\n",
    "Beautiful is better than ugly.  \n",
    "Explicit is better than implicit.  \n",
    "Simple is better than complex.  \n",
    "Complex is better than complicated.  \n",
    "Flat is better than nested.  \n",
    "Sparse is better than dense.  \n",
    "Readability counts.  \n",
    "Special cases aren't special enough to break the rules.  \n",
    "Although practicality beats purity.  \n",
    "Errors should never pass silently.  \n",
    "Unless explicitly silenced.  \n",
    "In the face of ambiguity, refuse the temptation to guess.  \n",
    "There should be one-- and preferably only one --obvious way to do it.  \n",
    "Although that way may not be obvious at first unless you're Dutch.  \n",
    "Now is better than never.  \n",
    "Although never is often better than *right* now.  \n",
    "If the implementation is hard to explain, it's a bad idea.  \n",
    "If the implementation is easy to explain, it may be a good idea.  \n",
    "Namespaces are one honking great idea -- let's do more of those!\n",
    "\"\"\"\n"
   ]
  },
  {
   "cell_type": "code",
   "execution_count": 8,
   "metadata": {},
   "outputs": [
    {
     "name": "stdout",
     "output_type": "stream",
     "text": [
      "共有145个单词\n"
     ]
    }
   ],
   "source": [
    "def count_num(text):\n",
    "    count = 0\n",
    "    text = text.strip()\n",
    "    line = text.split('\\n')\n",
    "    for words in line:\n",
    "        words = words.strip()\n",
    "        word = words.split(' ')\n",
    "        count += len(word)\n",
    "    return count\n",
    "\n",
    "\n",
    "text1 = \"\"\"The Zen of Python, by Tim Peters  \n",
    "\n",
    "Beautiful is better than ugly.  \n",
    "Explicit is better than implicit.  \n",
    "Simple is better than complex.  \n",
    "Complex is better than complicated.  \n",
    "Flat is better than nested.  \n",
    "Sparse is better than dense.  \n",
    "Readability counts.  \n",
    "Special cases aren't special enough to break the rules.  \n",
    "Although practicality beats purity.  \n",
    "Errors should never pass silently.  \n",
    "Unless explicitly silenced.  \n",
    "In the face of ambiguity, refuse the temptation to guess.  \n",
    "There should be one-- and preferably only one --obvious way to do it.  \n",
    "Although that way may not be obvious at first unless you're Dutch.  \n",
    "Now is better than never.  \n",
    "Although never is often better than *right* now.  \n",
    "If the implementation is hard to explain, it's a bad idea.  \n",
    "If the implementation is easy to explain, it may be a good idea.  \n",
    "Namespaces are one honking great idea -- let's do more of those!\n",
    "\"\"\"\n",
    "print(\"共有%d个单词\" % count_num(text1))\n"
   ]
  }
 ],
 "metadata": {
  "kernelspec": {
   "name": "pycharm-project2",
   "language": "python",
   "display_name": "PyCharm (project2)"
  },
  "language_info": {
   "codemirror_mode": {
    "name": "ipython",
    "version": 3
   },
   "file_extension": ".py",
   "mimetype": "text/x-python",
   "name": "python",
   "nbconvert_exporter": "python",
   "pygments_lexer": "ipython3",
   "version": "3.9.7"
  }
 },
 "nbformat": 4,
 "nbformat_minor": 4
}