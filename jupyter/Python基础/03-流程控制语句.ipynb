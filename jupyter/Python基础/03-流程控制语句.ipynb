{
 "cells": [
  {
   "cell_type": "markdown",
   "metadata": {},
   "source": [
    "# 流程控制语句  \n",
    "\n",
    "我们有时候会想要让代码拥有一些“智慧”，让它可以根据不同的条件去执行不同的语句（条件分支），或者是某一个代码块多次重复执行，直到达到某一个条件或者是执行次数。这时候我们就需要流程控制语句。正常情况下，Python解释器是从上到下，逐行翻译我们的代码，这个叫做**顺序执行**。那么本节内容主要讲让代码*拐弯* 的条件分支语句和让代码重复执行的 *循环* 语句。"
   ]
  },
  {
   "cell_type": "markdown",
   "metadata": {},
   "source": [
    "## 1. 条件分支语句（Conditional Branching）——让你的代码做选择"
   ]
  },
  {
   "cell_type": "markdown",
   "metadata": {},
   "source": [
    "```例题```  \n",
    "\n",
    "用户输入一个数，表示张三的年龄，请写代码打印显示是否成年。"
   ]
  },
  {
   "cell_type": "code",
   "execution_count": 1,
   "metadata": {},
   "outputs": [
    {
     "name": "stdout",
     "output_type": "stream",
     "text": [
      "请输入张三的年龄：56\n",
      "张三成年了！\n"
     ]
    }
   ],
   "source": [
    "age = int(input('请输入张三的年龄：'))\n",
    "if age >= 18:\n",
    "    print('张三成年了！')\n",
    "else:\n",
    "    print('张三未成年')"
   ]
  },
  {
   "cell_type": "markdown",
   "metadata": {},
   "source": [
    "<img src='resources\\条件分支结构.jpg' style='zoom:40%'>  \n",
    "Boolean Expression：逻辑表达式，即值可判断真假的一个表达式。比如：3 > 4 "
   ]
  },
  {
   "cell_type": "markdown",
   "metadata": {},
   "source": [
    "### 1.1 基本数据类型：布尔类型  （bool）\n",
    "\n",
    "用于表示逻辑值，只有两个取值：True 、False"
   ]
  },
  {
   "cell_type": "code",
   "execution_count": 2,
   "metadata": {},
   "outputs": [
    {
     "data": {
      "text/plain": [
       "True"
      ]
     },
     "execution_count": 2,
     "metadata": {},
     "output_type": "execute_result"
    }
   ],
   "source": [
    "True"
   ]
  },
  {
   "cell_type": "code",
   "execution_count": 3,
   "metadata": {},
   "outputs": [
    {
     "data": {
      "text/plain": [
       "bool"
      ]
     },
     "execution_count": 3,
     "metadata": {},
     "output_type": "execute_result"
    }
   ],
   "source": [
    "type(True)"
   ]
  },
  {
   "cell_type": "code",
   "execution_count": 4,
   "metadata": {},
   "outputs": [
    {
     "data": {
      "text/plain": [
       "bool"
      ]
     },
     "execution_count": 4,
     "metadata": {},
     "output_type": "execute_result"
    }
   ],
   "source": [
    "type(False)"
   ]
  },
  {
   "cell_type": "markdown",
   "metadata": {},
   "source": [
    "逻辑（布尔运算符）运算符：  \n",
    ">and  \n",
    ">or  \n",
    ">not  "
   ]
  },
  {
   "cell_type": "code",
   "execution_count": 5,
   "metadata": {},
   "outputs": [
    {
     "data": {
      "text/plain": [
       "False"
      ]
     },
     "execution_count": 5,
     "metadata": {},
     "output_type": "execute_result"
    }
   ],
   "source": [
    "not True"
   ]
  },
  {
   "cell_type": "code",
   "execution_count": 6,
   "metadata": {},
   "outputs": [
    {
     "data": {
      "text/plain": [
       "True"
      ]
     },
     "execution_count": 6,
     "metadata": {},
     "output_type": "execute_result"
    }
   ],
   "source": [
    "not False"
   ]
  },
  {
   "cell_type": "code",
   "execution_count": 7,
   "metadata": {},
   "outputs": [
    {
     "data": {
      "text/plain": [
       "True"
      ]
     },
     "execution_count": 7,
     "metadata": {},
     "output_type": "execute_result"
    }
   ],
   "source": [
    "True and True"
   ]
  },
  {
   "cell_type": "code",
   "execution_count": 8,
   "metadata": {},
   "outputs": [
    {
     "data": {
      "text/plain": [
       "False"
      ]
     },
     "execution_count": 8,
     "metadata": {},
     "output_type": "execute_result"
    }
   ],
   "source": [
    "True and False"
   ]
  },
  {
   "cell_type": "code",
   "execution_count": 9,
   "metadata": {},
   "outputs": [
    {
     "data": {
      "text/plain": [
       "False"
      ]
     },
     "execution_count": 9,
     "metadata": {},
     "output_type": "execute_result"
    }
   ],
   "source": [
    "False or False"
   ]
  },
  {
   "cell_type": "code",
   "execution_count": 10,
   "metadata": {},
   "outputs": [
    {
     "data": {
      "text/plain": [
       "True"
      ]
     },
     "execution_count": 10,
     "metadata": {},
     "output_type": "execute_result"
    }
   ],
   "source": [
    "False or True "
   ]
  },
  {
   "cell_type": "code",
   "execution_count": 11,
   "metadata": {},
   "outputs": [
    {
     "data": {
      "text/plain": [
       "False"
      ]
     },
     "execution_count": 11,
     "metadata": {},
     "output_type": "execute_result"
    }
   ],
   "source": [
    "(True and False) or False"
   ]
  },
  {
   "cell_type": "markdown",
   "metadata": {},
   "source": [
    "### 1.2 关系表达式\n",
    "上面几个例子都是直接使用布尔值来显式地表达逻辑值 True or False，但是实际上我们更多地使用关系表达式来体现这种逻辑。  \n",
    "<img src=\"resource/比较运算符.jpg\" style=\"zoom:80%\">\n",
    "<center>比较运算符</center>"
   ]
  },
  {
   "cell_type": "code",
   "execution_count": 18,
   "metadata": {},
   "outputs": [
    {
     "data": {
      "text/plain": [
       "True"
      ]
     },
     "execution_count": 18,
     "metadata": {},
     "output_type": "execute_result"
    }
   ],
   "source": [
    "45 > 34"
   ]
  },
  {
   "cell_type": "code",
   "execution_count": 19,
   "metadata": {},
   "outputs": [
    {
     "data": {
      "text/plain": [
       "False"
      ]
     },
     "execution_count": 19,
     "metadata": {},
     "output_type": "execute_result"
    }
   ],
   "source": [
    "45 < 34"
   ]
  },
  {
   "cell_type": "code",
   "execution_count": 20,
   "metadata": {},
   "outputs": [
    {
     "data": {
      "text/plain": [
       "True"
      ]
     },
     "execution_count": 20,
     "metadata": {},
     "output_type": "execute_result"
    }
   ],
   "source": [
    "23 >= 23"
   ]
  },
  {
   "cell_type": "code",
   "execution_count": 21,
   "metadata": {},
   "outputs": [
    {
     "data": {
      "text/plain": [
       "True"
      ]
     },
     "execution_count": 21,
     "metadata": {},
     "output_type": "execute_result"
    }
   ],
   "source": [
    "23 > 23 or 23 == 23"
   ]
  },
  {
   "cell_type": "code",
   "execution_count": 22,
   "metadata": {},
   "outputs": [
    {
     "data": {
      "text/plain": [
       "False"
      ]
     },
     "execution_count": 22,
     "metadata": {},
     "output_type": "execute_result"
    }
   ],
   "source": [
    "67 == 98"
   ]
  },
  {
   "cell_type": "code",
   "execution_count": 23,
   "metadata": {},
   "outputs": [
    {
     "data": {
      "text/plain": [
       "True"
      ]
     },
     "execution_count": 23,
     "metadata": {},
     "output_type": "execute_result"
    }
   ],
   "source": [
    "78 != 23"
   ]
  },
  {
   "cell_type": "markdown",
   "metadata": {},
   "source": [
    "使用 and or not 将表达式连接起来，可以表示更加复杂的逻辑判断。注意比较运算符的优先级高于逻辑运算符。"
   ]
  },
  {
   "cell_type": "code",
   "execution_count": 24,
   "metadata": {},
   "outputs": [
    {
     "data": {
      "text/plain": [
       "True"
      ]
     },
     "execution_count": 24,
     "metadata": {},
     "output_type": "execute_result"
    }
   ],
   "source": [
    "x = 3\n",
    "(x > 1) and (x <= 5)"
   ]
  },
  {
   "cell_type": "code",
   "execution_count": 25,
   "metadata": {},
   "outputs": [
    {
     "data": {
      "text/plain": [
       "False"
      ]
     },
     "execution_count": 25,
     "metadata": {},
     "output_type": "execute_result"
    }
   ],
   "source": [
    "not (x < 7)"
   ]
  },
  {
   "cell_type": "code",
   "execution_count": 26,
   "metadata": {},
   "outputs": [
    {
     "data": {
      "text/plain": [
       "True"
      ]
     },
     "execution_count": 26,
     "metadata": {},
     "output_type": "execute_result"
    }
   ],
   "source": [
    "x < 5 or x > 10"
   ]
  },
  {
   "cell_type": "markdown",
   "metadata": {},
   "source": [
    "### 1.3 对数字和字符串使用逻辑运算符\n",
    "对数字来说，0或者0.0（分别是int型和float型）对应了逻辑值 False， 其他值对应了逻辑值 True  \n",
    "对字符串来说，空字符''对应逻辑值False，其他字符串对应逻辑值 True"
   ]
  },
  {
   "cell_type": "code",
   "execution_count": 27,
   "metadata": {},
   "outputs": [
    {
     "data": {
      "text/plain": [
       "True"
      ]
     },
     "execution_count": 27,
     "metadata": {},
     "output_type": "execute_result"
    }
   ],
   "source": [
    "not 0"
   ]
  },
  {
   "cell_type": "code",
   "execution_count": 28,
   "metadata": {},
   "outputs": [
    {
     "data": {
      "text/plain": [
       "False"
      ]
     },
     "execution_count": 28,
     "metadata": {},
     "output_type": "execute_result"
    }
   ],
   "source": [
    "not 1"
   ]
  },
  {
   "cell_type": "code",
   "execution_count": 29,
   "metadata": {},
   "outputs": [
    {
     "data": {
      "text/plain": [
       "False"
      ]
     },
     "execution_count": 29,
     "metadata": {},
     "output_type": "execute_result"
    }
   ],
   "source": [
    "not 34.2"
   ]
  },
  {
   "cell_type": "code",
   "execution_count": 30,
   "metadata": {},
   "outputs": [
    {
     "data": {
      "text/plain": [
       "False"
      ]
     },
     "execution_count": 30,
     "metadata": {},
     "output_type": "execute_result"
    }
   ],
   "source": [
    "not -89"
   ]
  },
  {
   "cell_type": "code",
   "execution_count": 31,
   "metadata": {},
   "outputs": [
    {
     "data": {
      "text/plain": [
       "True"
      ]
     },
     "execution_count": 31,
     "metadata": {},
     "output_type": "execute_result"
    }
   ],
   "source": [
    "not \"\""
   ]
  },
  {
   "cell_type": "code",
   "execution_count": 32,
   "metadata": {},
   "outputs": [
    {
     "data": {
      "text/plain": [
       "False"
      ]
     },
     "execution_count": 32,
     "metadata": {},
     "output_type": "execute_result"
    }
   ],
   "source": [
    "not 'bad'"
   ]
  },
  {
   "cell_type": "code",
   "execution_count": 33,
   "metadata": {},
   "outputs": [
    {
     "data": {
      "text/plain": [
       "True"
      ]
     },
     "execution_count": 33,
     "metadata": {},
     "output_type": "execute_result"
    }
   ],
   "source": [
    "not 0.0"
   ]
  },
  {
   "cell_type": "markdown",
   "metadata": {},
   "source": [
    "### 1.4 条件分支语句"
   ]
  },
  {
   "cell_type": "markdown",
   "metadata": {},
   "source": [
    "**1.4.1 第一种条件分支语句**  \n",
    "<img src='resource\\条件分支结构标记版.jpg' style='zoom:40%'>   \n",
    "<font color='darkred'>*注意冒号和缩进！*"
   ]
  },
  {
   "cell_type": "markdown",
   "metadata": {},
   "source": [
    "```例题```\n",
    "<center>ph值对应的酸碱性</center>\n",
    "<img src=\"resource/pH值表.jpg\" style=\"zoom:90%\">"
   ]
  },
  {
   "cell_type": "markdown",
   "metadata": {},
   "source": [
    "```课堂练习```  \n",
    "用户输入一个整数表示溶液的ph值，请根据上表所示的ph值与其酸碱性对应关系，判断该溶液是否为酸性。（例如：用户输入 5， 打印显示 '5 是酸性'；用户输入8，打印显示'8 不是酸性'）"
   ]
  },
  {
   "cell_type": "code",
   "execution_count": 34,
   "metadata": {},
   "outputs": [
    {
     "name": "stdout",
     "output_type": "stream",
     "text": [
      "请输入一个ph值10\n",
      "10 不是酸性\n"
     ]
    }
   ],
   "source": [
    "ph = int(input('请输入一个ph值'))\n",
    "if ph < 7:\n",
    "    print(ph,'酸性')\n",
    "else:\n",
    "    print(ph,'不是酸性')"
   ]
  },
  {
   "cell_type": "markdown",
   "metadata": {},
   "source": [
    "**1.4.2 第二种条件分支语句**\n",
    "<img src='resource\\条件分支结构2.jpg' style='zoom:40%'> "
   ]
  },
  {
   "cell_type": "markdown",
   "metadata": {},
   "source": [
    "有时候 else 部分没有明确的代码要执行，可以不写else部分的语句"
   ]
  },
  {
   "cell_type": "code",
   "execution_count": 35,
   "metadata": {},
   "outputs": [
    {
     "name": "stdout",
     "output_type": "stream",
     "text": [
      "Enter the pH value: 20\n",
      "done!\n"
     ]
    }
   ],
   "source": [
    "ph = int(input('Enter the pH value: '))\n",
    "if ph < 7:\n",
    "    print('{} is {}'.format(ph,'acid'))\n",
    "print('done!')"
   ]
  },
  {
   "cell_type": "markdown",
   "metadata": {},
   "source": [
    "#### pass关键字"
   ]
  },
  {
   "cell_type": "markdown",
   "metadata": {},
   "source": [
    "如果你只是暂时没想好某个分支应该执行什么逻辑，可以用**pass**代替，这样逻辑清晰，不会遗漏某个分支；也可以方便日后补充代码。"
   ]
  },
  {
   "cell_type": "code",
   "execution_count": 36,
   "metadata": {},
   "outputs": [
    {
     "name": "stdout",
     "output_type": "stream",
     "text": [
      "Enter the pH value: 4\n",
      "4 is acid\n",
      "done!\n"
     ]
    }
   ],
   "source": [
    "ph = int(input('Enter the pH value: '))\n",
    "if ph < 7:\n",
    "    print('{} is {}'.format(ph,'acid'))\n",
    "else:\n",
    "    pass\n",
    "print('done!')"
   ]
  },
  {
   "cell_type": "markdown",
   "metadata": {},
   "source": [
    "**注意**：如果condition和code block都特别简单，可以使用一行代码来书写"
   ]
  },
  {
   "cell_type": "code",
   "execution_count": 37,
   "metadata": {},
   "outputs": [
    {
     "name": "stdout",
     "output_type": "stream",
     "text": [
      "Enter the pH value: 10\n",
      "10 is not acid\n"
     ]
    }
   ],
   "source": [
    "ph = int(input('Enter the pH value: '))\n",
    "result = 'acid' if ph < 7 else 'not acid'\n",
    "print(ph,'is',result)"
   ]
  },
  {
   "cell_type": "code",
   "execution_count": 38,
   "metadata": {},
   "outputs": [
    {
     "name": "stdout",
     "output_type": "stream",
     "text": [
      "Enter the pH value: 4\n",
      "4 is acid\n"
     ]
    }
   ],
   "source": [
    "ph = int(input('Enter the pH value: '))\n",
    "if ph < 7:\n",
    "    result = 'acid'\n",
    "else:\n",
    "    result = 'not acid'\n",
    "print(ph,'is',result)"
   ]
  },
  {
   "cell_type": "markdown",
   "metadata": {},
   "source": [
    "**<font color='darkred'>分支语句的嵌套使用**  \n",
    "\n",
    "如果分支语句下的某一个分支的代码块，也使用了分支语句，这种情况称为*分支的嵌套*。  \n",
    "    \n",
    "```例题```  \n",
    "根据 ph 值，判断当前溶液是强酸、酸性还是其他。  "
   ]
  },
  {
   "cell_type": "code",
   "execution_count": 39,
   "metadata": {},
   "outputs": [
    {
     "name": "stdout",
     "output_type": "stream",
     "text": [
      "请输入一个 ph 值： 4\n",
      "4 是强酸溶液\n"
     ]
    }
   ],
   "source": [
    "ph = int(input('请输入一个 ph 值： '))\n",
    "if ph < 7:\n",
    "    if ph < 5:\n",
    "        print(ph,'是强酸溶液')\n",
    "    else:\n",
    "        print(ph,'是弱酸溶液')\n",
    "else:\n",
    "    print(ph,'不是酸性溶液')"
   ]
  },
  {
   "cell_type": "markdown",
   "metadata": {},
   "source": [
    "**注意**：可以将条件进行合并，以及采用多分语句，减少条件分支的嵌套"
   ]
  },
  {
   "cell_type": "markdown",
   "metadata": {},
   "source": [
    "**1.4.3 第三种条件分支语句（多分支）** \n",
    "\n",
    "if condition1:  \n",
    "&nbsp;&nbsp;&nbsp;&nbsp;code block1  \n",
    "elif condition2:  \n",
    "&nbsp;&nbsp;&nbsp;&nbsp;code block2  \n",
    "...  \n",
    "else:  \n",
    "&nbsp;&nbsp;&nbsp;&nbsp;code block n  \n",
    "\n",
    "<center>ph值对应的酸碱性</center>\n",
    "<img src=\"resource/pH值表.jpg\" style=\"zoom:90%\">  \n",
    "\n",
    "```例题```  \n",
    "\n",
    "写一个多分支语句，描述以上表的每一种情况。"
   ]
  },
  {
   "cell_type": "code",
   "execution_count": 40,
   "metadata": {},
   "outputs": [
    {
     "name": "stdout",
     "output_type": "stream",
     "text": [
      "请输入ph值：4\n",
      "strong acid\n"
     ]
    }
   ],
   "source": [
    "ph = int(input('请输入ph值：'))\n",
    "if ph <= 4 and ph >= 0:\n",
    "    print('strong acid')\n",
    "elif ph >= 5 and ph <= 6:\n",
    "    print('weak acid')\n",
    "elif ph == 7:\n",
    "    print('neutral')\n",
    "elif ph >= 8 and ph <= 9:\n",
    "    print('weak base')\n",
    "elif ph >= 10 and ph <= 14:\n",
    "    print('Strong base')\n",
    "else:\n",
    "    print('invalid input')"
   ]
  },
  {
   "cell_type": "markdown",
   "metadata": {},
   "source": [
    "```课堂练习```  \n",
    "已知分段函数 f(x) 在各个定义域段上的取值如下：  \n",
    "\n",
    ">2\\*x when <2  \n",
    "10 when x=2  \n",
    "x**2 + 5 * x + 2 when x>2  \n",
    "\n",
    "用户输入一个 x 的值，打印显示其对应的 f(x) 的值。"
   ]
  },
  {
   "cell_type": "code",
   "execution_count": 41,
   "metadata": {},
   "outputs": [
    {
     "name": "stdout",
     "output_type": "stream",
     "text": [
      "请输入 x 的值： 2\n",
      "10\n"
     ]
    }
   ],
   "source": [
    "x = float(input('请输入 x 的值： '))\n",
    "if x < 2:\n",
    "    res = 2*x\n",
    "elif x == 2:\n",
    "    res = 10\n",
    "else:\n",
    "    res = x**2 + 5 * x + 2\n",
    "print(res)"
   ]
  },
  {
   "cell_type": "markdown",
   "metadata": {},
   "source": [
    "```提问```:  \n",
    "\n",
    "下面这个代码有什么问题？"
   ]
  },
  {
   "cell_type": "code",
   "execution_count": 42,
   "metadata": {},
   "outputs": [
    {
     "name": "stdout",
     "output_type": "stream",
     "text": [
      "请输入 x 的值： 3\n",
      "26.0\n"
     ]
    }
   ],
   "source": [
    "x = float(input('请输入 x 的值： '))\n",
    "if x == 2:\n",
    "    res = 10\n",
    "if x < 2:\n",
    "    res = 2*x\n",
    "else:\n",
    "    res = x**2 + 5 * x + 2\n",
    "print(res)"
   ]
  },
  {
   "cell_type": "markdown",
   "metadata": {},
   "source": [
    "**注意**：\n",
    "条件分支语句一定要检查对于boolean expression的每一种更可能的值是否都能进入正确的分支。"
   ]
  },
  {
   "cell_type": "markdown",
   "metadata": {},
   "source": [
    "```思考```  \n",
    "\n",
    "写一段代码，计算10以内所有正整数之和。 "
   ]
  },
  {
   "cell_type": "code",
   "execution_count": null,
   "metadata": {},
   "outputs": [],
   "source": []
  },
  {
   "cell_type": "markdown",
   "metadata": {},
   "source": [
    "我们必须要引入一种新的控制语句——循环语句，来解决这个问题。"
   ]
  },
  {
   "cell_type": "markdown",
   "metadata": {},
   "source": [
    "## 2. 循环语句——让你的代码重复执行  "
   ]
  },
  {
   "cell_type": "markdown",
   "metadata": {},
   "source": [
    "### 2.1 while循环  \n",
    "\n",
    "while 条件（用于判断真假）：  \n",
    "&nbsp;&nbsp;&nbsp;&nbsp;代码块(条件必须被改变)\n",
    "\n",
    "while循环能够按照某个条件判断循环什么时候该终止了，while循环前我们不知道能执行多少次循环体内的代码。  "
   ]
  },
  {
   "cell_type": "markdown",
   "metadata": {},
   "source": [
    "```例题```  \n",
    "\n",
    "打印 35 到 50 (包括50)的所有整数。"
   ]
  },
  {
   "cell_type": "code",
   "execution_count": 43,
   "metadata": {},
   "outputs": [
    {
     "name": "stdout",
     "output_type": "stream",
     "text": [
      "35,36,37,38,39,40,41,42,43,44,45,46,47,48,49,50,"
     ]
    }
   ],
   "source": [
    "num = 35\n",
    "while num <= 50:\n",
    "    print(num,end=',')\n",
    "    num += 1\n",
    "    "
   ]
  },
  {
   "cell_type": "markdown",
   "metadata": {},
   "source": [
    "```例题```  \n",
    "\n",
    "使用 while 循环，对 100 以内的所有偶数求和。"
   ]
  },
  {
   "cell_type": "code",
   "execution_count": 44,
   "metadata": {},
   "outputs": [
    {
     "name": "stdout",
     "output_type": "stream",
     "text": [
      "2550\n"
     ]
    }
   ],
   "source": [
    "num = 1\n",
    "count = 0\n",
    "while num <= 100:\n",
    "    if num%2 == 0:\n",
    "        count += num\n",
    "    num += 1\n",
    "print(count)"
   ]
  },
  {
   "cell_type": "code",
   "execution_count": 45,
   "metadata": {},
   "outputs": [
    {
     "name": "stdout",
     "output_type": "stream",
     "text": [
      "hello python\n",
      "hello python\n",
      "hello python\n",
      "hello python\n",
      "hello python\n",
      "hello python\n",
      "hello python\n",
      "hello python\n",
      "hello python\n",
      "hello python\n"
     ]
    }
   ],
   "source": [
    "for i in range(10):\n",
    "    print(\"hello python\")"
   ]
  },
  {
   "cell_type": "code",
   "execution_count": 46,
   "metadata": {},
   "outputs": [
    {
     "name": "stdout",
     "output_type": "stream",
     "text": [
      "Hello,python!\n",
      "Hello,python!\n",
      "Hello,python!\n",
      "Hello,python!\n",
      "Hello,python!\n",
      "Hello,python!\n",
      "Hello,python!\n",
      "Hello,python!\n",
      "Hello,python!\n",
      "Hello,python!\n"
     ]
    }
   ],
   "source": [
    "counter = 10\n",
    "while counter > 0:\n",
    "    print('Hello,python!')\n",
    "    counter -= 1"
   ]
  },
  {
   "cell_type": "markdown",
   "metadata": {},
   "source": [
    "```例题```  \n",
    "\n",
    "求出 x 的算术平方根 g。"
   ]
  },
  {
   "cell_type": "code",
   "execution_count": 47,
   "metadata": {},
   "outputs": [
    {
     "name": "stdout",
     "output_type": "stream",
     "text": [
      "第0次迭代，g = 2501.0\n",
      "第1次迭代，g = 1252.499200319872\n",
      "第2次迭代，g = 630.2416186767726\n",
      "第3次迭代，g = 323.05427461873035\n",
      "第4次迭代，g = 177.00441277925646\n",
      "第5次迭代，g = 116.75008971350636\n",
      "第6次迭代，g = 101.20156441035289\n",
      "第7次迭代，g = 100.00713307665073\n",
      "第8次迭代，g = 100.00000025438577\n",
      "100.00000025438577\n",
      "9\n"
     ]
    }
   ],
   "source": [
    "x = 10000\n",
    "g = x/2\n",
    "counter = 0\n",
    "while abs(g*g - x) > 0.0001:\n",
    "    g = (g + x/g)/2\n",
    "    print(f'第{counter}次迭代，g = {g}')\n",
    "    counter += 1\n",
    "print(g,counter,sep='\\n')"
   ]
  },
  {
   "cell_type": "code",
   "execution_count": 48,
   "metadata": {},
   "outputs": [
    {
     "name": "stdout",
     "output_type": "stream",
     "text": [
      "第0次迭代，g = 2501.0\n",
      "第1次迭代，g = 1252.499200319872\n",
      "第2次迭代，g = 630.2416186767726\n",
      "第3次迭代，g = 323.05427461873035\n",
      "第4次迭代，g = 177.00441277925646\n",
      "第5次迭代，g = 116.75008971350636\n",
      "第6次迭代，g = 101.20156441035289\n",
      "第7次迭代，g = 100.00713307665073\n",
      "第8次迭代，g = 100.00000025438577\n",
      "100.00000025438577\n",
      "9\n"
     ]
    }
   ],
   "source": [
    "x = 10000\n",
    "g = x/2\n",
    "counter = 0\n",
    "while True:\n",
    "    if abs(g*g - x) <= 0.0001:\n",
    "        break\n",
    "    g = (g + x/g)/2\n",
    "    print('第{}次迭代，g = {}'.format(counter, g))\n",
    "    counter += 1\n",
    "print(g,counter,sep='\\n')"
   ]
  },
  {
   "cell_type": "markdown",
   "metadata": {},
   "source": [
    "```课堂练习```  \n",
    "\n",
    "用户输入一个正整数n ，请计算它的阶乘。"
   ]
  },
  {
   "cell_type": "code",
   "execution_count": null,
   "metadata": {},
   "outputs": [],
   "source": []
  },
  {
   "cell_type": "markdown",
   "metadata": {},
   "source": [
    "### 2.1 for循环  \n",
    "\n",
    "在循环开始，就指定了循环次数（循环体内代码的执行次数）的循环机制"
   ]
  },
  {
   "cell_type": "markdown",
   "metadata": {},
   "source": [
    "**for循环的第一种语句**：与 range() 函数连用  "
   ]
  },
  {
   "cell_type": "code",
   "execution_count": 49,
   "metadata": {},
   "outputs": [
    {
     "name": "stdout",
     "output_type": "stream",
     "text": [
      "10\n",
      "8\n",
      "6\n",
      "4\n",
      "2\n"
     ]
    }
   ],
   "source": [
    "# 注意冒号和缩进\n",
    "for n in range(10,1,-2):\n",
    "    print(n)"
   ]
  },
  {
   "cell_type": "code",
   "execution_count": 50,
   "metadata": {},
   "outputs": [
    {
     "data": {
      "text/plain": [
       "2"
      ]
     },
     "execution_count": 50,
     "metadata": {},
     "output_type": "execute_result"
    }
   ],
   "source": [
    "n"
   ]
  },
  {
   "cell_type": "code",
   "execution_count": 51,
   "metadata": {},
   "outputs": [
    {
     "name": "stdout",
     "output_type": "stream",
     "text": [
      "0\n",
      "21\n",
      "42\n",
      "63\n",
      "84\n"
     ]
    }
   ],
   "source": [
    "for n in range(0,101):\n",
    "    if n%3 == 0 and n%7 == 0:\n",
    "        print(n)"
   ]
  },
  {
   "cell_type": "markdown",
   "metadata": {},
   "source": [
    "**range(start,stop,step) -> 产生一组 int 型数据，在\\[start,stop) 半开区间内。**只传一个参数的情况下，这个参数表示 stop。  \n",
    "step 参数表示步长，即间隔多少取下一个数，默认为1。"
   ]
  },
  {
   "cell_type": "markdown",
   "metadata": {},
   "source": [
    "```例题```  \n",
    "\n",
    "打印 35 到 50 (包括50)的所有整数。"
   ]
  },
  {
   "cell_type": "code",
   "execution_count": 52,
   "metadata": {},
   "outputs": [
    {
     "name": "stdout",
     "output_type": "stream",
     "text": [
      "35,36,37,38,39,40,41,42,43,44,45,46,47,48,49,50,"
     ]
    }
   ],
   "source": [
    "for i in range(35,51):\n",
    "    print(i,end=',')"
   ]
  },
  {
   "cell_type": "markdown",
   "metadata": {},
   "source": [
    "```例题```  \n",
    "逆序打印100以内的所有正整数"
   ]
  },
  {
   "cell_type": "code",
   "execution_count": 53,
   "metadata": {},
   "outputs": [],
   "source": [
    "for i in range(100,0,1):\n",
    "    print(i,end=',')"
   ]
  },
  {
   "cell_type": "markdown",
   "metadata": {},
   "source": [
    "```例题```:  \n",
    "\n",
    "打印10以内所有的偶数"
   ]
  },
  {
   "cell_type": "code",
   "execution_count": 54,
   "metadata": {},
   "outputs": [
    {
     "name": "stdout",
     "output_type": "stream",
     "text": [
      "0\n",
      "2\n",
      "4\n",
      "6\n",
      "8\n",
      "10\n"
     ]
    }
   ],
   "source": [
    "for i in range(0,11,2):\n",
    "    print(i)"
   ]
  },
  {
   "cell_type": "markdown",
   "metadata": {},
   "source": [
    "```课堂练习```  \n",
    "\n",
    "不使用分支语句，打印10以内所有的偶数。  "
   ]
  },
  {
   "cell_type": "code",
   "execution_count": null,
   "metadata": {},
   "outputs": [],
   "source": []
  },
  {
   "cell_type": "markdown",
   "metadata": {},
   "source": [
    "### 2.3 控制循环语句的关键字：break 和 continue"
   ]
  },
  {
   "cell_type": "markdown",
   "metadata": {},
   "source": [
    "break 跳出当前循环  \n",
    "continue 终止当前迭代，进行下一次迭代"
   ]
  },
  {
   "cell_type": "markdown",
   "metadata": {},
   "source": [
    "**break**"
   ]
  },
  {
   "cell_type": "code",
   "execution_count": 55,
   "metadata": {},
   "outputs": [
    {
     "name": "stdout",
     "output_type": "stream",
     "text": [
      "0\n",
      "1\n",
      "2\n"
     ]
    }
   ],
   "source": [
    "for i in range(5):\n",
    "    if i == 3:\n",
    "        break\n",
    "    print(i)"
   ]
  },
  {
   "cell_type": "markdown",
   "metadata": {},
   "source": [
    "* while True"
   ]
  },
  {
   "cell_type": "code",
   "execution_count": 58,
   "metadata": {},
   "outputs": [
    {
     "name": "stdout",
     "output_type": "stream",
     "text": [
      "Enter the pH value: 4\n",
      "4 is acid\n"
     ]
    }
   ],
   "source": [
    "while True:\n",
    "    ph = int(input('Enter the pH value: '))\n",
    "    if ph >= 0 and ph <= 6:\n",
    "        print('{} is {}'.format(ph,'acid'))\n",
    "        break\n",
    "    elif ph == 7:\n",
    "        print('{} is {}'.format(ph,'neutral'))\n",
    "        break\n",
    "    elif ph <= 14 and ph > 7:\n",
    "        print('{} is {}'.format(ph,'base'))\n",
    "        break\n",
    "    else:\n",
    "        print('The input pH value is out of range! please re-input a valid pH value!')"
   ]
  },
  {
   "cell_type": "markdown",
   "metadata": {},
   "source": [
    "**continue**"
   ]
  },
  {
   "cell_type": "code",
   "execution_count": 59,
   "metadata": {},
   "outputs": [
    {
     "name": "stdout",
     "output_type": "stream",
     "text": [
      "0\n",
      "1\n",
      "2\n",
      "3\n",
      "4\n",
      "5\n",
      "6\n",
      "7\n",
      "9\n"
     ]
    }
   ],
   "source": [
    "for i in range(10):\n",
    "    if i == 8:\n",
    "        continue\n",
    "    print(i)"
   ]
  },
  {
   "cell_type": "code",
   "execution_count": 60,
   "metadata": {
    "scrolled": true
   },
   "outputs": [
    {
     "name": "stdout",
     "output_type": "stream",
     "text": [
      "1, 2, "
     ]
    }
   ],
   "source": [
    "# 1到100以内，逢3或7的倍数不打印\n",
    "for i in range(1,101):\n",
    "    if i%3 == 0 or i%7 == 0:\n",
    "        break\n",
    "        \n",
    "    print(i,end=', ')"
   ]
  },
  {
   "cell_type": "code",
   "execution_count": 52,
   "metadata": {},
   "outputs": [
    {
     "name": "stdout",
     "output_type": "stream",
     "text": [
      "1, 2, "
     ]
    }
   ],
   "source": [
    "# 当把 continue 关键字替换成 break，会发生什么？\n",
    "for i in range(1,101):\n",
    "    if i%3 == 0 or i%7 == 0:\n",
    "        break\n",
    "    print(i,end=', ')"
   ]
  },
  {
   "cell_type": "markdown",
   "metadata": {},
   "source": [
    "<font color='darkred'>循环的嵌套"
   ]
  },
  {
   "cell_type": "markdown",
   "metadata": {},
   "source": [
    "```例题```  \n",
    "\n",
    "打印出所有的水仙花数。（水仙花数定义：$1^3 + 5^3 + 3^3 = 153$）"
   ]
  },
  {
   "cell_type": "code",
   "execution_count": 61,
   "metadata": {},
   "outputs": [
    {
     "name": "stdout",
     "output_type": "stream",
     "text": [
      "153\n",
      "370\n",
      "371\n",
      "407\n"
     ]
    }
   ],
   "source": [
    "for num in range(100,1000):\n",
    "    i = num // 100\n",
    "    j = (num - i*100) // 10\n",
    "    k = num % 10\n",
    "    if i**3 + j**3 + k**3 == num:\n",
    "        print(num)"
   ]
  },
  {
   "cell_type": "code",
   "execution_count": 62,
   "metadata": {},
   "outputs": [
    {
     "name": "stdout",
     "output_type": "stream",
     "text": [
      "153\n",
      "370\n",
      "371\n",
      "407\n"
     ]
    }
   ],
   "source": [
    "for i in range(1,10):\n",
    "    for j in range(10):\n",
    "        for k in range(10):\n",
    "            num = i*100 + j*10 + k\n",
    "            if i**3 + j**3 + k**3 == num:\n",
    "                print(num)"
   ]
  },
  {
   "cell_type": "code",
   "execution_count": 63,
   "metadata": {},
   "outputs": [
    {
     "name": "stdout",
     "output_type": "stream",
     "text": [
      "153\n",
      "370\n",
      "371\n",
      "407\n"
     ]
    }
   ],
   "source": [
    "for num in range(100,1000):\n",
    "    i = num // 100\n",
    "    j = (num - i * 100) // 10\n",
    "    k = num % 10\n",
    "    if i**3 + j**3 + k**3 == num:\n",
    "        print(num)"
   ]
  },
  {
   "cell_type": "markdown",
   "metadata": {},
   "source": [
    "```例题```  \n",
    "打印 99 乘法表。"
   ]
  },
  {
   "cell_type": "code",
   "execution_count": 64,
   "metadata": {},
   "outputs": [
    {
     "name": "stdout",
     "output_type": "stream",
     "text": [
      "1 * 1 = 1\t\n",
      "2 * 1 = 2\t2 * 2 = 4\t\n",
      "3 * 1 = 3\t3 * 2 = 6\t3 * 3 = 9\t\n",
      "4 * 1 = 4\t4 * 2 = 8\t4 * 3 = 12\t4 * 4 = 16\t\n",
      "5 * 1 = 5\t5 * 2 = 10\t5 * 3 = 15\t5 * 4 = 20\t5 * 5 = 25\t\n",
      "6 * 1 = 6\t6 * 2 = 12\t6 * 3 = 18\t6 * 4 = 24\t6 * 5 = 30\t6 * 6 = 36\t\n",
      "7 * 1 = 7\t7 * 2 = 14\t7 * 3 = 21\t7 * 4 = 28\t7 * 5 = 35\t7 * 6 = 42\t7 * 7 = 49\t\n",
      "8 * 1 = 8\t8 * 2 = 16\t8 * 3 = 24\t8 * 4 = 32\t8 * 5 = 40\t8 * 6 = 48\t8 * 7 = 56\t8 * 8 = 64\t\n",
      "9 * 1 = 9\t9 * 2 = 18\t9 * 3 = 27\t9 * 4 = 36\t9 * 5 = 45\t9 * 6 = 54\t9 * 7 = 63\t9 * 8 = 72\t9 * 9 = 81\t\n"
     ]
    }
   ],
   "source": [
    "for i in range(1,10):\n",
    "    for j in range(1,i+1):\n",
    "        print(i,'*',j,'=',i*j,end='\\t')\n",
    "    print()"
   ]
  },
  {
   "cell_type": "markdown",
   "metadata": {},
   "source": [
    "```例题```  \n",
    "\n",
    "判断用户输入的数是否为质数。"
   ]
  },
  {
   "cell_type": "code",
   "execution_count": 65,
   "metadata": {},
   "outputs": [
    {
     "name": "stdout",
     "output_type": "stream",
     "text": [
      "请输入一个正整数：4\n",
      "4 不是质数\n"
     ]
    }
   ],
   "source": [
    "num = int(input('请输入一个正整数：'))\n",
    "#flag = True\n",
    "for i in range(2,num):\n",
    "    if num % i == 0:\n",
    "        #flag = False\n",
    "        break\n",
    "if i == num-1:\n",
    "    print(num,'是质数')\n",
    "else:\n",
    "    print(num,'不是质数')"
   ]
  },
  {
   "cell_type": "code",
   "execution_count": 66,
   "metadata": {},
   "outputs": [
    {
     "name": "stdout",
     "output_type": "stream",
     "text": [
      "69分，及格\n",
      "94分，优秀\n",
      "60分，及格\n",
      "75分，及格\n",
      "57分，不及格\n",
      "73分，及格\n",
      "50分，不及格\n",
      "93分，优秀\n",
      "76分，及格\n",
      "69分，及格\n",
      "89分，优秀\n",
      "82分，及格\n",
      "95分，优秀\n",
      "76分，及格\n",
      "69分，及格\n",
      "72分，及格\n",
      "94分，优秀\n",
      "97分，优秀\n",
      "87分，优秀\n",
      "92分，优秀\n",
      "55分，不及格\n",
      "89分，优秀\n",
      "62分，及格\n",
      "74分，及格\n",
      "76分，及格\n",
      "50分，不及格\n",
      "67分，及格\n",
      "71分，及格\n",
      "100分，优秀\n",
      "84分，及格\n",
      "58分，不及格\n",
      "100分，优秀\n",
      "72分，及格\n",
      "95分，优秀\n",
      "60分，及格\n",
      "66分，及格\n",
      "75分，及格\n",
      "88分，优秀\n",
      "53分，不及格\n",
      "54分，不及格\n",
      "84分，及格\n",
      "100分，优秀\n",
      "90分，优秀\n",
      "100分，优秀\n",
      "52分，不及格\n",
      "90分，优秀\n",
      "62分，及格\n",
      "54分，不及格\n",
      "76分，及格\n",
      "59分，不及格\n",
      "57分，不及格\n",
      "50分，不及格\n",
      "82分，及格\n",
      "51分，不及格\n",
      "71分，及格\n",
      "85分，优秀\n",
      "51分，不及格\n",
      "55分，不及格\n",
      "52分，不及格\n",
      "85分，优秀\n"
     ]
    }
   ],
   "source": [
    "marks = [69, 94, 60, 75, 57, 73, 50, 93, 76, 69, 89, 82, 95, 76, 69, 72, 94, 97, 87, 92, 55, 89, \n",
    "         62, 74, 76, 50, 67, 71, 100, 84, 58, 100, 72, 95, 60, 66, 75, 88, 53, 54, 84, 100, \n",
    "         90, 100, 52, 90, 62, 54, 76, 59, 57, 50, 82, 51, 71, 85, 51, 55, 52, 85]\n",
    "for mark in marks:\n",
    "    if mark >= 85:\n",
    "        print('{}分，优秀'.format(mark))\n",
    "    elif mark < 85 and mark >= 60:\n",
    "        print('{}分，及格'.format(mark))\n",
    "    else:\n",
    "        print ('{}分，不及格'.format(mark))\n"
   ]
  }
 ],
 "metadata": {
  "kernelspec": {
   "display_name": "Python 3 (ipykernel)",
   "language": "python",
   "name": "python3"
  },
  "language_info": {
   "codemirror_mode": {
    "name": "ipython",
    "version": 3
   },
   "file_extension": ".py",
   "mimetype": "text/x-python",
   "name": "python",
   "nbconvert_exporter": "python",
   "pygments_lexer": "ipython3",
   "version": "3.8.10"
  }
 },
 "nbformat": 4,
 "nbformat_minor": 4
}
