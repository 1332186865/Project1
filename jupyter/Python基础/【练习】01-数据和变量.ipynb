{
 "cells": [
  {
   "cell_type": "markdown",
   "metadata": {},
   "source": [
    "## Exercise 1  \n",
    "使用Python验证以下算术表达式的结果：\n",
    "<img src=\"resource/习题_算术表达式.jpg\" style=\"zoom:60%\">"
   ]
  },
  {
   "cell_type": "code",
   "execution_count": 5,
   "metadata": {},
   "outputs": [
    {
     "name": "stdout",
     "output_type": "stream",
     "text": [
      "6\n",
      "20.0\n",
      "4.5\n",
      "-4.5\n",
      "-5\n",
      "1\n",
      "1.0\n",
      "1.0\n",
      "-1\n",
      "1\n",
      "-4.5\n",
      "19\n",
      "35\n"
     ]
    }
   ],
   "source": [
    "print(9-3, 8*2.5, 9/2, 9/-2, 9//-2, 9%2, 9.0%2, 9%2.0, 9%-2, -9%2, 9/-2.0, 4+3*5, (4+3)*5, sep=\"\\n\")"
   ]
  },
  {
   "cell_type": "markdown",
   "metadata": {},
   "source": [
    "## Exercise 2  \n",
    "'-'符号具有特殊性。当'-'作为双目运算符时，表示减号；当'-'作为单目运算符时，表示负号。假如x = -17,请验证 +x 的值在Python中应该是多少？解释原因。"
   ]
  },
  {
   "cell_type": "code",
   "execution_count": 6,
   "metadata": {},
   "outputs": [
    {
     "name": "stdout",
     "output_type": "stream",
     "text": [
      "-17\n"
     ]
    }
   ],
   "source": [
    "x = +(-17)\n",
    "print(x)\n",
    "# 正的负数还是负数"
   ]
  },
  {
   "cell_type": "markdown",
   "metadata": {},
   "source": [
    "## Exercise 3  \n",
    "写两条赋值语句，完成以下功能：<br>\n",
    "</br>\n",
    "1）创建一个新变量 temp，并给它分配一个值 24<br>\n",
    "</br>2）假如temp代表的是一个摄氏度，请计算它对应的华氏度，并使用temp引用新值（计算出的华氏度）。<br>\n",
    "</br>【摄氏度和华氏度之间的转换公式为 摄氏度 =(华氏度-32)÷1.8】"
   ]
  },
  {
   "cell_type": "code",
   "execution_count": 7,
   "metadata": {},
   "outputs": [
    {
     "name": "stdout",
     "output_type": "stream",
     "text": [
      "75.2\n"
     ]
    }
   ],
   "source": [
    "temp = 24\n",
    "temp = temp * 1.8 + 32\n",
    "print(temp)"
   ]
  },
  {
   "cell_type": "markdown",
   "metadata": {},
   "source": [
    "## Exercise 4  \n",
    "验证x = 3 ; x += x - x 的结果，并解释它的执行过程。"
   ]
  },
  {
   "cell_type": "code",
   "execution_count": 8,
   "metadata": {},
   "outputs": [
    {
     "name": "stdout",
     "output_type": "stream",
     "text": [
      "3\n"
     ]
    }
   ],
   "source": [
    "x = 3\n",
    "x += x - x\n",
    "print(x)\n",
    "# x = x + (x - x), 因此不变"
   ]
  },
  {
   "cell_type": "markdown",
   "metadata": {},
   "source": [
    "## Exercise 5\n",
    "Python中，如果一个变量在创建之前被使用，会出现什么运行结果？请写一个例子并解释运行结果。"
   ]
  },
  {
   "cell_type": "code",
   "execution_count": 12,
   "metadata": {},
   "outputs": [
    {
     "ename": "NameError",
     "evalue": "name 'ex' is not defined",
     "output_type": "error",
     "traceback": [
      "\u001b[1;31m---------------------------------------------------------------------------\u001b[0m",
      "\u001b[1;31mNameError\u001b[0m                                 Traceback (most recent call last)",
      "\u001b[1;32m<ipython-input-12-1ad63a76588f>\u001b[0m in \u001b[0;36m<module>\u001b[1;34m()\u001b[0m\n\u001b[1;32m----> 1\u001b[1;33m \u001b[0mprint\u001b[0m\u001b[1;33m(\u001b[0m\u001b[0mex\u001b[0m\u001b[1;33m)\u001b[0m\u001b[1;33m\u001b[0m\u001b[0m\n\u001b[0m",
      "\u001b[1;31mNameError\u001b[0m: name 'ex' is not defined"
     ]
    }
   ],
   "source": [
    "print(ex)\n",
    "# 会输出变量未定义"
   ]
  }
 ],
 "metadata": {
  "kernelspec": {
   "display_name": "Python 3 (ipykernel)",
   "language": "python",
   "name": "python3"
  },
  "language_info": {
   "codemirror_mode": {
    "name": "ipython",
    "version": 3
   },
   "file_extension": ".py",
   "mimetype": "text/x-python",
   "name": "python",
   "nbconvert_exporter": "python",
   "pygments_lexer": "ipython3",
   "version": "3.8.10"
  }
 },
 "nbformat": 4,
 "nbformat_minor": 4
}
