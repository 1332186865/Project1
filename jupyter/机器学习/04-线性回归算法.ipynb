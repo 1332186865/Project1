{
 "cells": [
  {
   "cell_type": "markdown",
   "id": "f3c24180",
   "metadata": {},
   "source": [
    "# 线性回归算法  \n",
    "\n",
    "* 解决回归问题  \n",
    "* 结果具有很好的可解释性  \n",
    "* 实现容易  \n",
    "* 具备机器学习很多重要思想"
   ]
  },
  {
   "cell_type": "markdown",
   "id": "2711044f",
   "metadata": {},
   "source": [
    "<img src=\"resource/线性回归.png\">  \n",
    "\n",
    "```思想```：  \n",
    "\n",
    "寻找一条直线，最大程度的“拟合（fit）”样本特征和样本标签之间的关系。  \n",
    "\n",
    "```注意```：  \n",
    "\n",
    "这个图和分类问题中的图有区别。横坐标是唯一的特征，纵坐标是样本的标签（Label）。例如房屋面积和房屋的成交价格。因为回归问题中，样本的标签是连续的值，不是简单的有限个可能的类别，只需要用不同的颜色标记就行。回归问题中，样本的标签必须占用一个坐标轴来表示自己的连续值。如果我们想看两个特征值的回归问题，就需要在三维空间中观察。"
   ]
  },
  {
   "cell_type": "markdown",
   "id": "7ceebd38",
   "metadata": {},
   "source": [
    "### 简单线性回归：一元线性回归  \n",
    "\n",
    "样本特征只有一个。"
   ]
  },
  {
   "cell_type": "markdown",
   "id": "67b83ec6",
   "metadata": {},
   "source": [
    "<img src='resource/线性回归图.png' style=\"zoom:50%\">"
   ]
  },
  {
   "cell_type": "markdown",
   "id": "303c5e9c",
   "metadata": {},
   "source": [
    "* 假设最佳拟合的直线方程为：  \n",
    "$$y = ax + b$$  \n",
    "\n",
    "* 对于每一个样本点 $x^{(i)}$，根据直线方程的预测值为：  \n",
    "$$\\hat{y}^{(i)} = ax^{(i)}+b$$  \n",
    "\n",
    "* 希望预测值和实际值之间的差距尽可能小，如何表达差距？  \n",
    "$$y^{(i)}-\\hat{y}^{(i)}$$  \n",
    "\n",
    "$$|y^{(i)}-\\hat{y}^{(i)}|$$  \n",
    "\n",
    "$$(y^{(i)}-\\hat{y}^{(i)})^{2}$$ \n"
   ]
  },
  {
   "cell_type": "markdown",
   "id": "67e551f2",
   "metadata": {},
   "source": [
    "直接的差值容易导致正负抵消；带有绝对值的差值函数不一定处处可导；因此选择第三种方法来描述差值。所有数据的平方和误差为：  \n",
    "$$\\Sigma_{i=1}^{m}(y^{(i)}-\\hat{y}^{(i)})^{2}$$   \n",
    "m:数据集的样本数量"
   ]
  },
  {
   "cell_type": "markdown",
   "id": "957a725a",
   "metadata": {},
   "source": [
    "* 优化目标：  \n",
    "使得 $\\Sigma_{i=1}^{m}(y^{(i)}-\\hat{y}^{(i)})^{2}$ 尽可能小。  \n",
    "\n",
    ">即找到一组$a$和$b$，使得 $\\Sigma_{i=1}^{m}(y^{(i)}-ax^{(i)}-b)^{2}$ 尽可能小。\n",
    "\n",
    "我们称$\\Sigma_{i=1}^{m}(y^{(i)}-ax^{(i)}-b)^{2}$为**损失函数**（loss function）,即用于度量模型没有拟合样本的程度。  \n",
    "\n",
    "**机器学习的基本思路：**  \n",
    "\n",
    "```step1```. 通过分析问题，确定问题的损失函数；  \n",
    "\n",
    "```step2```. 通过最优化损失函数，获得机器学习的模型。（学到使得损失函数最小的参数值）  \n",
    "\n",
    "几乎所有的机器学习算法都是这样的思路，但是它们的区别在于优化原理不同。"
   ]
  },
  {
   "cell_type": "markdown",
   "id": "b290a7cc",
   "metadata": {},
   "source": [
    "### 多元线性回归"
   ]
  },
  {
   "cell_type": "markdown",
   "id": "53f902db",
   "metadata": {},
   "source": [
    "<img src=\"resource/多元线性回归.png\">"
   ]
  },
  {
   "cell_type": "markdown",
   "id": "8565ed57",
   "metadata": {},
   "source": [
    "* 优化目标：  \n",
    "\n",
    "找到 $\\theta_{0},\\theta_{1},\\theta_{2}...\\theta_{n},使得\\Sigma_{i=1}^{m}(y^{(i)}-\\hat{y}^{(i)})^{2}$尽可能小  \n",
    "\n",
    "<img src='resource/多元线性回归矩阵表示.png'>  \n",
    "\n",
    "$$\\hat{y} = X_{b}·\\theta$$  \n",
    "\n",
    "$X_{b}$ 是样本矩阵，第一列增加的是全1列向量，为了和$\\theta_{0}$构成常数项。  \n",
    "$\\theta$ 是系数矩阵，表示每一个样本特征的权重。  \n",
    "$\\hat{y}$ 是一个向量，表示每一个样本最终预测到的值。"
   ]
  },
  {
   "cell_type": "markdown",
   "id": "15ea1a50",
   "metadata": {},
   "source": [
    "## 使用 Scikit-learn 进行线性回归"
   ]
  },
  {
   "cell_type": "code",
   "execution_count": 9,
   "id": "ea38df40",
   "metadata": {},
   "outputs": [],
   "source": [
    "import numpy as np\n",
    "import matplotlib.pyplot as plt\n",
    "from sklearn import datasets\n",
    "%matplotlib inline"
   ]
  },
  {
   "cell_type": "code",
   "execution_count": 4,
   "id": "c9e4b345",
   "metadata": {},
   "outputs": [
    {
     "name": "stdout",
     "output_type": "stream",
     "text": [
      ".. _boston_dataset:\n",
      "\n",
      "Boston house prices dataset\n",
      "---------------------------\n",
      "\n",
      "**Data Set Characteristics:**  \n",
      "\n",
      "    :Number of Instances: 506 \n",
      "\n",
      "    :Number of Attributes: 13 numeric/categorical predictive. Median Value (attribute 14) is usually the target.\n",
      "\n",
      "    :Attribute Information (in order):\n",
      "        - CRIM     per capita crime rate by town\n",
      "        - ZN       proportion of residential land zoned for lots over 25,000 sq.ft.\n",
      "        - INDUS    proportion of non-retail business acres per town\n",
      "        - CHAS     Charles River dummy variable (= 1 if tract bounds river; 0 otherwise)\n",
      "        - NOX      nitric oxides concentration (parts per 10 million)\n",
      "        - RM       average number of rooms per dwelling\n",
      "        - AGE      proportion of owner-occupied units built prior to 1940\n",
      "        - DIS      weighted distances to five Boston employment centres\n",
      "        - RAD      index of accessibility to radial highways\n",
      "        - TAX      full-value property-tax rate per $10,000\n",
      "        - PTRATIO  pupil-teacher ratio by town\n",
      "        - B        1000(Bk - 0.63)^2 where Bk is the proportion of black people by town\n",
      "        - LSTAT    % lower status of the population\n",
      "        - MEDV     Median value of owner-occupied homes in $1000's\n",
      "\n",
      "    :Missing Attribute Values: None\n",
      "\n",
      "    :Creator: Harrison, D. and Rubinfeld, D.L.\n",
      "\n",
      "This is a copy of UCI ML housing dataset.\n",
      "https://archive.ics.uci.edu/ml/machine-learning-databases/housing/\n",
      "\n",
      "\n",
      "This dataset was taken from the StatLib library which is maintained at Carnegie Mellon University.\n",
      "\n",
      "The Boston house-price data of Harrison, D. and Rubinfeld, D.L. 'Hedonic\n",
      "prices and the demand for clean air', J. Environ. Economics & Management,\n",
      "vol.5, 81-102, 1978.   Used in Belsley, Kuh & Welsch, 'Regression diagnostics\n",
      "...', Wiley, 1980.   N.B. Various transformations are used in the table on\n",
      "pages 244-261 of the latter.\n",
      "\n",
      "The Boston house-price data has been used in many machine learning papers that address regression\n",
      "problems.   \n",
      "     \n",
      ".. topic:: References\n",
      "\n",
      "   - Belsley, Kuh & Welsch, 'Regression diagnostics: Identifying Influential Data and Sources of Collinearity', Wiley, 1980. 244-261.\n",
      "   - Quinlan,R. (1993). Combining Instance-Based and Model-Based Learning. In Proceedings on the Tenth International Conference of Machine Learning, 236-243, University of Massachusetts, Amherst. Morgan Kaufmann.\n",
      "\n"
     ]
    }
   ],
   "source": [
    "boston = datasets.load_boston()\n",
    "print(boston.DESCR)"
   ]
  },
  {
   "cell_type": "markdown",
   "id": "e9b3faef",
   "metadata": {},
   "source": [
    "        0 - CRIM     城镇的人均犯罪率   \n",
    "        1 - ZN       住宅用地超过 25,000平方英尺 的比例\n",
    "        2 - INDUS    城镇非零售商用土地的比例 \n",
    "        3 - CHAS     查理斯河空变量（如果边界是河流，则为1；否则为0）\n",
    "        4 - NOX      一氧化氮浓度(千万分之一) \n",
    "        5 - RM       每个住宅的平均房间数\n",
    "        6 - AGE      1940年以前建造的自住单位比例 \n",
    "        7 - DIS      到波士顿五个中心区域的加权距离  \n",
    "        8 - RAD      辐射性公路的接近指数。\n",
    "        9 - TAX      每 10000 美元的全值财产税率。\n",
    "        10 - PTRATIO  城镇师生比例\n",
    "        11 - B        1000(Bk - 0.63)^2其中Bk是城镇黑人的比例  \n",
    "        12 - LSTAT    人口中地位低下者的比例\n",
    "        13 - MEDV     自住房的平均房价，以千美元计 \n"
   ]
  },
  {
   "cell_type": "code",
   "execution_count": 8,
   "id": "28e8b4bf",
   "metadata": {},
   "outputs": [],
   "source": [
    "X = boston.data\n",
    "y = boston.target"
   ]
  },
  {
   "cell_type": "markdown",
   "id": "dc010dd0",
   "metadata": {},
   "source": [
    "查看第某个特征与标签的关系。"
   ]
  },
  {
   "cell_type": "code",
   "execution_count": 23,
   "id": "ee9c56ea",
   "metadata": {},
   "outputs": [
    {
     "data": {
      "text/plain": [
       "<matplotlib.collections.PathCollection at 0x27bf038b760>"
      ]
     },
     "execution_count": 23,
     "metadata": {},
     "output_type": "execute_result"
    },
    {
     "data": {
      "image/png": "[encoded data removed]",
      "text/plain": [
       "<Figure size 432x288 with 1 Axes>"
      ]
     },
     "metadata": {
      "needs_background": "light"
     },
     "output_type": "display_data"
    }
   ],
   "source": [
    "feature_id = 5\n",
    "plt.scatter(X[:,feature_id],y)"
   ]
  },
  {
   "cell_type": "markdown",
   "id": "36ef1b4b",
   "metadata": {},
   "source": [
    "注意到图里最上层有一排房间价格为50的数据，采集数据的时候可能由于计量标准的缘故，或者问卷调查时50和50以上的房子属于同一项，所有房产价格大于50的都被定为50。"
   ]
  },
  {
   "cell_type": "code",
   "execution_count": 11,
   "id": "59f4e72f",
   "metadata": {},
   "outputs": [
    {
     "data": {
      "text/plain": [
       "(490, 13)"
      ]
     },
     "execution_count": 11,
     "metadata": {},
     "output_type": "execute_result"
    }
   ],
   "source": [
    "X = X[y < 50]\n",
    "y = y[y < 50]\n",
    "\n",
    "X.shape"
   ]
  },
  {
   "cell_type": "code",
   "execution_count": 12,
   "id": "83691e1e",
   "metadata": {},
   "outputs": [
    {
     "data": {
      "text/plain": [
       "(490,)"
      ]
     },
     "execution_count": 12,
     "metadata": {},
     "output_type": "execute_result"
    }
   ],
   "source": [
    "y.shape"
   ]
  },
  {
   "cell_type": "code",
   "execution_count": 13,
   "id": "0efaa77c",
   "metadata": {},
   "outputs": [
    {
     "data": {
      "text/plain": [
       "(367, 13)"
      ]
     },
     "execution_count": 13,
     "metadata": {},
     "output_type": "execute_result"
    }
   ],
   "source": [
    "from sklearn.model_selection import train_test_split\n",
    "\n",
    "X_train, X_test, y_train, y_test = train_test_split(X, y, \n",
    "                                                    random_state=666)\n",
    "X_train.shape"
   ]
  },
  {
   "cell_type": "code",
   "execution_count": 14,
   "id": "bee4a586",
   "metadata": {},
   "outputs": [
    {
     "data": {
      "text/plain": [
       "LinearRegression()"
      ]
     },
     "execution_count": 14,
     "metadata": {},
     "output_type": "execute_result"
    }
   ],
   "source": [
    "from sklearn.linear_model import LinearRegression  \n",
    "\n",
    "lin_reg = LinearRegression()\n",
    "lin_reg.fit(X_train, y_train)"
   ]
  },
  {
   "cell_type": "code",
   "execution_count": 28,
   "id": "ed77be70",
   "metadata": {},
   "outputs": [
    {
     "data": {
      "text/plain": [
       "array([18.0674832 , 25.38965364, 12.93779936, 32.9068425 , 24.45259285,\n",
       "        2.3035171 , 26.63711744, 31.6091074 , 14.05161887, 24.5200248 ,\n",
       "       14.80099915, 10.56883566, 30.04486713, 16.39641207, 23.89514927,\n",
       "       25.39090678, 18.85726816, 23.87410663, 28.78593566, 27.02102373,\n",
       "       12.82233874, 27.00779446, 26.1450563 , 22.85670482, 20.90397175,\n",
       "       32.05593449, 14.81505015, 20.40733243, 12.92773681, 30.1533454 ,\n",
       "       35.55450677,  5.22853278, 13.15673352, 35.86864403, 16.05439767,\n",
       "       21.28027929, 12.59195996, 29.36163103, 27.48027943, 23.99917107,\n",
       "       14.18301363, 23.43618315, 11.16599462, 22.31031056, 18.58668285,\n",
       "       16.46589493, 24.9445317 , 33.28965293, 19.11361467, 27.21927793,\n",
       "       18.07979492, 14.98324631, 25.22125847, 16.21827623, 21.65640339,\n",
       "       16.23226855, 24.06823531, 11.77168692, 27.93502896, 30.83956407,\n",
       "       19.71205279, 24.79388556, 25.89249735, 12.24815028, 16.75095143,\n",
       "       27.24953329, 22.47677908, 22.16879287, 31.48493081, 14.05038382,\n",
       "       16.63113664, 25.04984048, 25.39025152, 18.90652738, 17.36052017,\n",
       "       27.8182467 , 23.8127572 , 14.57086132, 11.2020382 , 30.88638927,\n",
       "       33.90913411, 17.63761351, 18.85605829, 17.27146047, 24.89137688,\n",
       "       23.5217639 , 24.63940455, 26.07688   , 25.10266544, 20.21979456,\n",
       "       24.75051588, 33.40170894, 36.03171667, 22.93715633, 19.0133428 ,\n",
       "       31.27940239, 35.5212862 , 20.96436337, 16.80859431, 17.14876637,\n",
       "       31.41306574, 15.19593608, 33.19631588, 23.0739325 , 16.73216   ,\n",
       "       14.89620066, 24.54664077, 18.48456406, 17.47824352, 33.32800489,\n",
       "       21.54412119, 14.06883478,  6.58144816, 18.23216098, 32.51940743,\n",
       "       16.89142987, 13.19187512, 21.81434261, 29.460062  , 15.80135888,\n",
       "       28.00576806, 18.36263611,  7.28891854])"
      ]
     },
     "execution_count": 28,
     "metadata": {},
     "output_type": "execute_result"
    }
   ],
   "source": [
    "y_pred = lin_reg.predict(X_test)\n",
    "y_pred"
   ]
  },
  {
   "cell_type": "code",
   "execution_count": 25,
   "id": "e341c39f",
   "metadata": {},
   "outputs": [
    {
     "data": {
      "text/plain": [
       "array([-1.15625837e-01,  3.13179564e-02, -4.35662825e-02, -9.73281610e-02,\n",
       "       -1.09500653e+01,  3.49898935e+00, -1.41780625e-02, -1.06249020e+00,\n",
       "        2.46031503e-01, -1.23291876e-02, -8.79440522e-01,  8.31653623e-03,\n",
       "       -3.98593455e-01])"
      ]
     },
     "execution_count": 25,
     "metadata": {},
     "output_type": "execute_result"
    }
   ],
   "source": [
    "lin_reg.coef_ # 权重系数"
   ]
  },
  {
   "cell_type": "code",
   "execution_count": 16,
   "id": "40ecea5e",
   "metadata": {},
   "outputs": [
    {
     "data": {
      "text/plain": [
       "32.59756158869972"
      ]
     },
     "execution_count": 16,
     "metadata": {},
     "output_type": "execute_result"
    }
   ],
   "source": [
    "lin_reg.intercept_ # 常数项"
   ]
  },
  {
   "cell_type": "markdown",
   "id": "8de1462c",
   "metadata": {},
   "source": [
    "## 评价回归算法结果的指标"
   ]
  },
  {
   "cell_type": "markdown",
   "id": "23c517ee",
   "metadata": {},
   "source": [
    "### 1.  MSE"
   ]
  },
  {
   "cell_type": "code",
   "execution_count": 29,
   "id": "b6da5d82",
   "metadata": {},
   "outputs": [
    {
     "data": {
      "text/plain": [
       "13.009029984784977"
      ]
     },
     "execution_count": 29,
     "metadata": {},
     "output_type": "execute_result"
    }
   ],
   "source": [
    "mse_test = np.sum((y_pred - y_test)**2)/y_test.shape[0]\n",
    "mse_test"
   ]
  },
  {
   "cell_type": "markdown",
   "id": "a6105354",
   "metadata": {},
   "source": [
    "### 2. RMSE  \n",
    "\n",
    "量纲和y相同。"
   ]
  },
  {
   "cell_type": "code",
   "execution_count": 30,
   "id": "213d20ed",
   "metadata": {},
   "outputs": [
    {
     "data": {
      "text/plain": [
       "3.606803291667703"
      ]
     },
     "execution_count": 30,
     "metadata": {},
     "output_type": "execute_result"
    }
   ],
   "source": [
    "rmse_test = np.sqrt(mse_test)\n",
    "rmse_test"
   ]
  },
  {
   "cell_type": "markdown",
   "id": "05746bed",
   "metadata": {},
   "source": [
    "对于分类问题，它的准确度可以直接拿“分到正确的类/所有分类结果”来衡量；但是对于回归，比如进行房价预测，我们得到回归的RMSE为5万，进行学生分数预测，得到的回归RMSE为10分，此时如何衡量哪一个回归结果更准确？以上两种指标都不能解决这个问题。"
   ]
  },
  {
   "cell_type": "markdown",
   "id": "c8843fdd",
   "metadata": {},
   "source": [
    "### 3. R-Squared 又称 R-方"
   ]
  },
  {
   "cell_type": "markdown",
   "id": "c7ea5736",
   "metadata": {},
   "source": [
    "$$R^{2} = 1 - \\frac{SS_{residual}}{SS_{total}} $$  \n",
    "\n",
    "* $SS_{residual}$ : Residual Sum of Squares\n",
    "* $SS_{total}$: Total Sum of Squares  \n",
    "\n",
    "$$R^{2} = 1 - \\frac{\\Sigma_{i}(\\hat{y}^{(i)}-y^{(i)})^{2}}{\\Sigma_{i}(\\overline{y}-y^{(i)})^{2}} $$  \n",
    "\n",
    "* $\\Sigma_{i}(\\hat{y}^{(i)}-y^{(i)})^{2}$:使用我们的模型预测产生的错误  \n",
    "* $\\Sigma_{i}(\\overline{y}-y^{(i)})^{2}$: 使用 $y = \\overline{y}$ 预测产生的错误——baseline model （基准模型）"
   ]
  },
  {
   "cell_type": "code",
   "execution_count": null,
   "id": "6471c46b",
   "metadata": {},
   "outputs": [],
   "source": []
  },
  {
   "cell_type": "markdown",
   "id": "38c7512d",
   "metadata": {},
   "source": [
    "```说明```：\n",
    "\n",
    "* $R^{2} <= 1$ \n",
    "* $R^{2}$ 越大越好。当我们的预测模型没有任何错误时，$R^{2}$ 得到的最大值为1；  \n",
    "* 当我们的模型等于基准模型时，$R^{2}$ 为0；  \n",
    "* $R^{2} < 0$时，说明我们学习到的模型还不如基准模型。此时很有可能是数据本身不存在任何线性关系。"
   ]
  },
  {
   "cell_type": "code",
   "execution_count": 31,
   "id": "dd850a10",
   "metadata": {},
   "outputs": [
    {
     "data": {
      "text/plain": [
       "0.8009390227581029"
      ]
     },
     "execution_count": 31,
     "metadata": {},
     "output_type": "execute_result"
    }
   ],
   "source": [
    "lin_reg.score(X_test, y_test)"
   ]
  },
  {
   "cell_type": "markdown",
   "id": "06a515f5",
   "metadata": {},
   "source": [
    "### KNN 解决回归问题"
   ]
  },
  {
   "cell_type": "code",
   "execution_count": 18,
   "id": "9ebf1f38",
   "metadata": {},
   "outputs": [
    {
     "data": {
      "text/plain": [
       "0.602674505080953"
      ]
     },
     "execution_count": 18,
     "metadata": {},
     "output_type": "execute_result"
    }
   ],
   "source": [
    "from sklearn.neighbors import KNeighborsRegressor\n",
    "\n",
    "knn_regressor = KNeighborsRegressor()\n",
    "knn_regressor.fit(X_train, y_train)\n",
    "knn_regressor.score(X_test, y_test)"
   ]
  },
  {
   "cell_type": "code",
   "execution_count": 19,
   "id": "10a44971",
   "metadata": {},
   "outputs": [],
   "source": [
    "param_grid = [{\n",
    "                 \"weights\":['uniform',\"distance\"],\n",
    "                 \"n_neighbors\":[i for i in range(2,11)],\n",
    "                 \"p\":[i for i in range(1,6)]\n",
    "              }]"
   ]
  },
  {
   "cell_type": "code",
   "execution_count": 45,
   "id": "bff08b4e",
   "metadata": {},
   "outputs": [],
   "source": [
    "knn_reg = KNeighborsRegressor()\n"
   ]
  },
  {
   "cell_type": "code",
   "execution_count": 46,
   "id": "692eb9aa",
   "metadata": {},
   "outputs": [
    {
     "data": {
      "text/plain": [
       "GridSearchCV(estimator=KNeighborsRegressor(), n_jobs=-1,\n",
       "             param_grid=[{'n_neighbors': [2, 3, 4, 5, 6, 7, 8, 9, 10],\n",
       "                          'p': [1, 2, 3, 4, 5],\n",
       "                          'weights': ['uniform', 'distance']}])"
      ]
     },
     "execution_count": 46,
     "metadata": {},
     "output_type": "execute_result"
    }
   ],
   "source": [
    "from sklearn.model_selection import GridSearchCV\n",
    "\n",
    "grid_search = GridSearchCV(knn_reg, param_grid,n_jobs=-1)\n",
    "grid_search.fit(X_train, y_train)"
   ]
  },
  {
   "cell_type": "code",
   "execution_count": 47,
   "id": "6e087712",
   "metadata": {},
   "outputs": [
    {
     "data": {
      "text/plain": [
       "0.7353138117643773"
      ]
     },
     "execution_count": 47,
     "metadata": {},
     "output_type": "execute_result"
    }
   ],
   "source": [
    "grid_search.best_estimator_.score(X_test, y_test)"
   ]
  },
  {
   "cell_type": "code",
   "execution_count": 48,
   "id": "27d9bdd3",
   "metadata": {},
   "outputs": [
    {
     "data": {
      "text/plain": [
       "{'n_neighbors': 6, 'p': 1, 'weights': 'distance'}"
      ]
     },
     "execution_count": 48,
     "metadata": {},
     "output_type": "execute_result"
    }
   ],
   "source": [
    "grid_search.best_params_"
   ]
  },
  {
   "cell_type": "code",
   "execution_count": 49,
   "id": "0bab663d",
   "metadata": {},
   "outputs": [
    {
     "data": {
      "text/plain": [
       "0.7353138117643773"
      ]
     },
     "execution_count": 49,
     "metadata": {},
     "output_type": "execute_result"
    }
   ],
   "source": [
    "grid_search.best_estimator_.score(X_test, y_test)"
   ]
  },
  {
   "cell_type": "code",
   "execution_count": null,
   "id": "232eec87",
   "metadata": {},
   "outputs": [],
   "source": []
  }
 ],
 "metadata": {
  "kernelspec": {
   "display_name": "data_science",
   "language": "python",
   "name": "data_science"
  },
  "language_info": {
   "codemirror_mode": {
    "name": "ipython",
    "version": 3
   },
   "file_extension": ".py",
   "mimetype": "text/x-python",
   "name": "python",
   "nbconvert_exporter": "python",
   "pygments_lexer": "ipython3",
   "version": "3.8.12"
  }
 },
 "nbformat": 4,
 "nbformat_minor": 5
}
