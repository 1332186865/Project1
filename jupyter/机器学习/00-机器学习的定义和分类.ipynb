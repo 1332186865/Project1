{
 "cells": [
  {
   "cell_type": "markdown",
   "metadata": {},
   "source": [
    "# 初识机器学习 "
   ]
  },
  {
   "cell_type": "markdown",
   "metadata": {},
   "source": [
    "机器学习就是让机器去**学习**，这里的关键词是学习。回顾我们之前用Python语言写的程序，比如求解某数的算术平方根、用正则表达式提取文本中匹配到的信息、再到使用pandas库对数据集进行一些统计描述。以上这些事情虽然都是编程，让机器去实现的，但它们的本质是让机器去**执行**，也就是说，通过编程实现一个算法，让机器具体地去按照算法执行，完成任务，而不是让机器学习一个任务应该如何去做。  \n",
    "\n",
    "我们通过一个最早的机器学习应用来解释一下“机器执行”和“机器学习”的区别。"
   ]
  },
  {
   "cell_type": "markdown",
   "metadata": {},
   "source": [
    "## 1. 垃圾邮件识别——最早的机器学习应用  "
   ]
  },
  {
   "cell_type": "markdown",
   "metadata": {},
   "source": [
    "### 传统的垃圾邮件识别思路\n",
    "\n",
    "<img src='resource/传统的垃圾邮件识别方式.jpg' style='zoom:60%'>  \n",
    "<center>传统的垃圾邮件识别方式</center>  \n",
    "\n",
    "\n",
    "  \n",
    "* 编写规则，定义“垃圾邮件”，让计算机执行 ；  \n",
    "\n",
    "比如垃圾邮件经常会包含很多“打折、促销、免费”等词语，我们通过正则表达式定义这些词语可能出现位置、出现频率的规则，这就是我们给“垃圾邮件”的定义，计算机通过对每一封邮件文本进行这样的垃圾邮件规则匹配，来判断它是不是垃圾邮件。\n",
    "\n",
    "* ```缺点```:    \n",
    "\n",
    "1）垃圾邮件的规则很难定义；    \n",
    "什么样特征的邮件是垃圾邮件，什么特征的邮件不是垃圾邮件，有时候很难制定出非常确定的规则让计算机执行判断。  \n",
    "3）规则在不断变化中，已经定义好的规则也许很快失效；  "
   ]
  },
  {
   "cell_type": "markdown",
   "metadata": {},
   "source": [
    "### 其他的典型应用 \n",
    "\n",
    "**图像识别**  \n",
    "\n",
    "<img src='resource/猫狗.jpg' style='zoom:50%'>  \n",
    "<center>判断图像中的是猫还是狗</center>    \n",
    "\n",
    "给计算机一张猫或狗的图像，让计算机分辨图像中的是猫还是狗。当然对于人类来说这是非常容易完成的事情。但是对于计算机来说，这种任务不是那么容易的，实际上是相当困难的。计算机擅长做的事情是快速地进行各种算术、逻辑运算，并且可以保存计算结果。对于计算机来说，识别图像中的猫还是狗其实是识别含有猫或狗的图像的特征信息。而这种特征信息并非是我们人类可以给出直接定义的，比如有斑纹的是猫，没有斑纹的是狗这种规则不是绝对的，我们也很容易找到没有斑纹的猫和有斑纹的狗。正是因为如此，图像识别领域需要大量地使用机器学习的方法，让机器通过算法寻找图片的信息和对应是猫还是狗的关系。这个问题在机器学习中称之为二分类问题。这种关系也许无法用人类的语言进行描述，也就是所谓黑盒子算法和白盒子算法。白盒子算法就是算法得到的结果很容易看出信息和最终猫还是狗的分类结果的关系。而黑盒子算法得到的对应关系很难解释，但机器学习得到的对应关系却能真实地帮我们判断出是猫还是狗。  \n"
   ]
  },
  {
   "cell_type": "markdown",
   "metadata": {},
   "source": [
    "\n",
    "**人脸识别**\n",
    "<img src='resource/武林外传.jpg' style='zoom:30%'>  \n",
    "<center>识别出图像中的人脸</center>   \n",
    "\n",
    "在图像识别中，一个非常重要且应用广泛的领域是人脸识别。人们很容易记住一个人的长相，但是机器想要从成千上万的照片认出一个人很难。通过机器学习的方法，可以找到当前人脸的特征信息并和它的身份一起存储，下次再看到包含有相同特征人脸的图像就可以查找它的身份信息。"
   ]
  },
  {
   "cell_type": "markdown",
   "metadata": {},
   "source": [
    "**光学字符识别（OCR）**  \n",
    "\n",
    "比如手机常见的应用——文档识别，我们可以通过拍摄一个打印文件或者是包含光学字符的某个图像文件，通过文档识别的应用把图像转成可编辑的文本。光学字符应用非常广泛，比如车牌识别，应用在各种车库的进出口，识别车牌并存储到系统数据库中，为后续的停车缴费计算等的服务提供便利。再比如当我们给某个银行卡转账时，网银软件会有一个功能是拍照识别银行卡号，也是利用了光学字符识别技术将银行卡图像上的银行卡号识别为文本数据。  \n",
    "\n",
    "**手写数字识别**  \n",
    "<img src='resource/MINIST.png' style='zoom:70%'>  \n",
    "<center>识别出图像中的手写数字</center>  \n",
    "\n",
    "传统的信件上面只有用户手写的发送地邮编，人工进行新建分拣的时候很容易出错，而且效率较低。有了手写数字识别后，可以让计算机将邮政编码读入，并且自动完成分拣。"
   ]
  },
  {
   "cell_type": "markdown",
   "metadata": {},
   "source": [
    "# 2. 机器学习的概念"
   ]
  },
  {
   "cell_type": "markdown",
   "metadata": {},
   "source": [
    "### 2.1 人类是如何学习的？    "
   ]
  },
  {
   "cell_type": "markdown",
   "metadata": {},
   "source": [
    "<img src='resource/人类如何学习.png' style='zoom:70%'>  "
   ]
  },
  {
   "cell_type": "markdown",
   "metadata": {},
   "source": [
    "### 2.2 什么是机器学习"
   ]
  },
  {
   "cell_type": "markdown",
   "metadata": {},
   "source": [
    "<img src='resource/学习过程.png' style='zoom:70%'>  "
   ]
  },
  {
   "cell_type": "markdown",
   "metadata": {},
   "source": [
    "人类的大脑只需要较少的资料就可以总结出适用性非常强的经验，我们只需要看过几只猫、几只狗，下次再遇到新的猫或者狗我们就能准确分辨。但是计算机是非常本的，计算机的优势在于计算和存储，它需要大量的数据，我们可能需要喂给机器几千、几百张猫或狗的照片，通过某个算法建立起一个模型，这个模型的准确率还需要进一步进行训练和测试，最后生成准确率较高的模型，在实际的任务中发挥作用。  \n",
    "\n",
    "为什么这些年机器学习的应用如此之快？一方面是因为计算机越来越先进了，能够完成的计算量也越来越大、越来越快；另一方面是因为数据变多了，能喂给计算机的资料越来越多，甚至有的非常容易就收集到了。因此现在机器学习的领域迎来了大爆发。"
   ]
  },
  {
   "cell_type": "markdown",
   "metadata": {},
   "source": [
    "* 生活中的机器学习应用  \n",
    "\n",
    "1. 银行判断信用卡发放是否有风险  \n",
    "2. 电商平台的商品推荐（推荐系统）  \n",
    "3. 语音识别、人脸识别  \n",
    "4. 金融预测、医疗诊断、市场分析  "
   ]
  },
  {
   "cell_type": "markdown",
   "metadata": {},
   "source": [
    "### 基于机器学习的垃圾邮件识别思路  \n",
    "<img src='resource/机器学习的垃圾邮件识别方式.jpg' style='zoom:60%'>   \n",
    "<center>机器学习的垃圾邮件识别方式</center>  \n",
    "\n",
    "\n",
    "基于机器学习的垃圾邮件识别思路：  \n",
    "* 将大量数据（垃圾邮件）输入给机器内部的某种算法\n",
    "* 基于数据和算法训练出模型，这个模型可以体现数据蕴藏的规律，也是我们想要从数据中学习到的某种规则（判断什么是垃圾邮件：哪些高频词标识着垃圾邮件，什么样的邮件标题和内容结构是垃圾邮件等）\n",
    "* 给这个模型输入新的邮件（并不知晓是否为垃圾邮件），模型能够以较高的准确率判断出它是不是垃圾邮件。\n",
    "* ```优点```：可以自动适应变化中的垃圾邮件规则，不需要依赖人工去写这些规则。"
   ]
  },
  {
   "cell_type": "markdown",
   "metadata": {},
   "source": [
    "## 3. 机器学习中的数据"
   ]
  },
  {
   "cell_type": "markdown",
   "metadata": {},
   "source": [
    "机器学习的本质是从数据中建立模型，寻找规律。因此，我们了解一下机器学习中的数据集（dataset）长什么样子。  \n",
    "\n",
    "鸢尾花（iris）数据集为例。  \n",
    "\n",
    "<img src='resource/鸢尾花品质.png' style='zoom:60%'>"
   ]
  },
  {
   "cell_type": "code",
   "execution_count": 14,
   "metadata": {},
   "outputs": [],
   "source": [
    "import pandas as pd\n",
    "import numpy as np\n",
    "\n",
    "iris = pd.read_csv('data\\\\iris.csv',encoding='utf-8')"
   ]
  },
  {
   "cell_type": "code",
   "execution_count": 12,
   "metadata": {},
   "outputs": [
    {
     "name": "stdout",
     "output_type": "stream",
     "text": [
      "(150, 5)\n"
     ]
    }
   ],
   "source": [
    "print(iris.shape)"
   ]
  },
  {
   "cell_type": "code",
   "execution_count": 13,
   "metadata": {},
   "outputs": [
    {
     "data": {
      "text/html": [
       "<div>\n",
       "<style scoped>\n",
       "    .dataframe tbody tr th:only-of-type {\n",
       "        vertical-align: middle;\n",
       "    }\n",
       "\n",
       "    .dataframe tbody tr th {\n",
       "        vertical-align: top;\n",
       "    }\n",
       "\n",
       "    .dataframe thead th {\n",
       "        text-align: right;\n",
       "    }\n",
       "</style>\n",
       "<table border=\"1\" class=\"dataframe\">\n",
       "  <thead>\n",
       "    <tr style=\"text-align: right;\">\n",
       "      <th></th>\n",
       "      <th>sepal_length</th>\n",
       "      <th>sepal_width</th>\n",
       "      <th>petal_length</th>\n",
       "      <th>petal_width</th>\n",
       "    </tr>\n",
       "    <tr>\n",
       "      <th>species</th>\n",
       "      <th></th>\n",
       "      <th></th>\n",
       "      <th></th>\n",
       "      <th></th>\n",
       "    </tr>\n",
       "  </thead>\n",
       "  <tbody>\n",
       "    <tr>\n",
       "      <th>setosa</th>\n",
       "      <td>50</td>\n",
       "      <td>50</td>\n",
       "      <td>50</td>\n",
       "      <td>50</td>\n",
       "    </tr>\n",
       "    <tr>\n",
       "      <th>versicolor</th>\n",
       "      <td>50</td>\n",
       "      <td>50</td>\n",
       "      <td>50</td>\n",
       "      <td>50</td>\n",
       "    </tr>\n",
       "    <tr>\n",
       "      <th>virginica</th>\n",
       "      <td>50</td>\n",
       "      <td>50</td>\n",
       "      <td>50</td>\n",
       "      <td>50</td>\n",
       "    </tr>\n",
       "  </tbody>\n",
       "</table>\n",
       "</div>"
      ],
      "text/plain": [
       "            sepal_length  sepal_width  petal_length  petal_width\n",
       "species                                                         \n",
       "setosa                50           50            50           50\n",
       "versicolor            50           50            50           50\n",
       "virginica             50           50            50           50"
      ]
     },
     "execution_count": 13,
     "metadata": {},
     "output_type": "execute_result"
    }
   ],
   "source": [
    "iris.groupby('species').count()"
   ]
  },
  {
   "cell_type": "code",
   "execution_count": 16,
   "metadata": {},
   "outputs": [
    {
     "data": {
      "text/html": [
       "<div>\n",
       "<style scoped>\n",
       "    .dataframe tbody tr th:only-of-type {\n",
       "        vertical-align: middle;\n",
       "    }\n",
       "\n",
       "    .dataframe tbody tr th {\n",
       "        vertical-align: top;\n",
       "    }\n",
       "\n",
       "    .dataframe thead th {\n",
       "        text-align: right;\n",
       "    }\n",
       "</style>\n",
       "<table border=\"1\" class=\"dataframe\">\n",
       "  <thead>\n",
       "    <tr style=\"text-align: right;\">\n",
       "      <th></th>\n",
       "      <th>sepal_length</th>\n",
       "      <th>sepal_width</th>\n",
       "      <th>petal_length</th>\n",
       "      <th>petal_width</th>\n",
       "      <th>species</th>\n",
       "    </tr>\n",
       "  </thead>\n",
       "  <tbody>\n",
       "    <tr>\n",
       "      <th>10</th>\n",
       "      <td>5.4</td>\n",
       "      <td>3.7</td>\n",
       "      <td>1.5</td>\n",
       "      <td>0.2</td>\n",
       "      <td>setosa</td>\n",
       "    </tr>\n",
       "    <tr>\n",
       "      <th>60</th>\n",
       "      <td>5.0</td>\n",
       "      <td>2.0</td>\n",
       "      <td>3.5</td>\n",
       "      <td>1.0</td>\n",
       "      <td>versicolor</td>\n",
       "    </tr>\n",
       "    <tr>\n",
       "      <th>100</th>\n",
       "      <td>6.3</td>\n",
       "      <td>3.3</td>\n",
       "      <td>6.0</td>\n",
       "      <td>2.5</td>\n",
       "      <td>virginica</td>\n",
       "    </tr>\n",
       "  </tbody>\n",
       "</table>\n",
       "</div>"
      ],
      "text/plain": [
       "     sepal_length  sepal_width  petal_length  petal_width     species\n",
       "10            5.4          3.7           1.5          0.2      setosa\n",
       "60            5.0          2.0           3.5          1.0  versicolor\n",
       "100           6.3          3.3           6.0          2.5   virginica"
      ]
     },
     "execution_count": 16,
     "metadata": {},
     "output_type": "execute_result"
    }
   ],
   "source": [
    "iris.iloc[[10,60,100],:] # 随机选出三个不同品种的鸢尾花数据"
   ]
  },
  {
   "cell_type": "markdown",
   "metadata": {},
   "source": [
    "* 数据整体叫做**数据集（dataset）**   \n",
    "\n",
    "* 每一行数据都指向一个观察到的花，也就是一个**样本（sample）**  \n",
    "\n",
    "* 除了最后一列（species）,每一个列表达样本的一个**特征（feature）**  "
   ]
  },
  {
   "cell_type": "markdown",
   "metadata": {},
   "source": [
    "除了最后一列以外，其余的部分都是用来描述数据的特征，这些部分构成的矩阵称之为**特征矩阵**，可以用$ X $来表示：  "
   ]
  },
  {
   "cell_type": "code",
   "execution_count": 20,
   "metadata": {},
   "outputs": [
    {
     "data": {
      "text/plain": [
       "array([[5.1, 3.5, 1.4, 0.2],\n",
       "       [4.9, 3. , 1.4, 0.2],\n",
       "       [4.7, 3.2, 1.3, 0.2],\n",
       "       [4.6, 3.1, 1.5, 0.2],\n",
       "       [5. , 3.6, 1.4, 0.2],\n",
       "       [5.4, 3.9, 1.7, 0.4],\n",
       "       [4.6, 3.4, 1.4, 0.3],\n",
       "       [5. , 3.4, 1.5, 0.2],\n",
       "       [4.4, 2.9, 1.4, 0.2],\n",
       "       [4.9, 3.1, 1.5, 0.1],\n",
       "       [5.4, 3.7, 1.5, 0.2],\n",
       "       [4.8, 3.4, 1.6, 0.2],\n",
       "       [4.8, 3. , 1.4, 0.1],\n",
       "       [4.3, 3. , 1.1, 0.1],\n",
       "       [5.8, 4. , 1.2, 0.2],\n",
       "       [5.7, 4.4, 1.5, 0.4],\n",
       "       [5.4, 3.9, 1.3, 0.4],\n",
       "       [5.1, 3.5, 1.4, 0.3],\n",
       "       [5.7, 3.8, 1.7, 0.3],\n",
       "       [5.1, 3.8, 1.5, 0.3],\n",
       "       [5.4, 3.4, 1.7, 0.2],\n",
       "       [5.1, 3.7, 1.5, 0.4],\n",
       "       [4.6, 3.6, 1. , 0.2],\n",
       "       [5.1, 3.3, 1.7, 0.5],\n",
       "       [4.8, 3.4, 1.9, 0.2],\n",
       "       [5. , 3. , 1.6, 0.2],\n",
       "       [5. , 3.4, 1.6, 0.4],\n",
       "       [5.2, 3.5, 1.5, 0.2],\n",
       "       [5.2, 3.4, 1.4, 0.2],\n",
       "       [4.7, 3.2, 1.6, 0.2],\n",
       "       [4.8, 3.1, 1.6, 0.2],\n",
       "       [5.4, 3.4, 1.5, 0.4],\n",
       "       [5.2, 4.1, 1.5, 0.1],\n",
       "       [5.5, 4.2, 1.4, 0.2],\n",
       "       [4.9, 3.1, 1.5, 0.2],\n",
       "       [5. , 3.2, 1.2, 0.2],\n",
       "       [5.5, 3.5, 1.3, 0.2],\n",
       "       [4.9, 3.6, 1.4, 0.1],\n",
       "       [4.4, 3. , 1.3, 0.2],\n",
       "       [5.1, 3.4, 1.5, 0.2],\n",
       "       [5. , 3.5, 1.3, 0.3],\n",
       "       [4.5, 2.3, 1.3, 0.3],\n",
       "       [4.4, 3.2, 1.3, 0.2],\n",
       "       [5. , 3.5, 1.6, 0.6],\n",
       "       [5.1, 3.8, 1.9, 0.4],\n",
       "       [4.8, 3. , 1.4, 0.3],\n",
       "       [5.1, 3.8, 1.6, 0.2],\n",
       "       [4.6, 3.2, 1.4, 0.2],\n",
       "       [5.3, 3.7, 1.5, 0.2],\n",
       "       [5. , 3.3, 1.4, 0.2],\n",
       "       [7. , 3.2, 4.7, 1.4],\n",
       "       [6.4, 3.2, 4.5, 1.5],\n",
       "       [6.9, 3.1, 4.9, 1.5],\n",
       "       [5.5, 2.3, 4. , 1.3],\n",
       "       [6.5, 2.8, 4.6, 1.5],\n",
       "       [5.7, 2.8, 4.5, 1.3],\n",
       "       [6.3, 3.3, 4.7, 1.6],\n",
       "       [4.9, 2.4, 3.3, 1. ],\n",
       "       [6.6, 2.9, 4.6, 1.3],\n",
       "       [5.2, 2.7, 3.9, 1.4],\n",
       "       [5. , 2. , 3.5, 1. ],\n",
       "       [5.9, 3. , 4.2, 1.5],\n",
       "       [6. , 2.2, 4. , 1. ],\n",
       "       [6.1, 2.9, 4.7, 1.4],\n",
       "       [5.6, 2.9, 3.6, 1.3],\n",
       "       [6.7, 3.1, 4.4, 1.4],\n",
       "       [5.6, 3. , 4.5, 1.5],\n",
       "       [5.8, 2.7, 4.1, 1. ],\n",
       "       [6.2, 2.2, 4.5, 1.5],\n",
       "       [5.6, 2.5, 3.9, 1.1],\n",
       "       [5.9, 3.2, 4.8, 1.8],\n",
       "       [6.1, 2.8, 4. , 1.3],\n",
       "       [6.3, 2.5, 4.9, 1.5],\n",
       "       [6.1, 2.8, 4.7, 1.2],\n",
       "       [6.4, 2.9, 4.3, 1.3],\n",
       "       [6.6, 3. , 4.4, 1.4],\n",
       "       [6.8, 2.8, 4.8, 1.4],\n",
       "       [6.7, 3. , 5. , 1.7],\n",
       "       [6. , 2.9, 4.5, 1.5],\n",
       "       [5.7, 2.6, 3.5, 1. ],\n",
       "       [5.5, 2.4, 3.8, 1.1],\n",
       "       [5.5, 2.4, 3.7, 1. ],\n",
       "       [5.8, 2.7, 3.9, 1.2],\n",
       "       [6. , 2.7, 5.1, 1.6],\n",
       "       [5.4, 3. , 4.5, 1.5],\n",
       "       [6. , 3.4, 4.5, 1.6],\n",
       "       [6.7, 3.1, 4.7, 1.5],\n",
       "       [6.3, 2.3, 4.4, 1.3],\n",
       "       [5.6, 3. , 4.1, 1.3],\n",
       "       [5.5, 2.5, 4. , 1.3],\n",
       "       [5.5, 2.6, 4.4, 1.2],\n",
       "       [6.1, 3. , 4.6, 1.4],\n",
       "       [5.8, 2.6, 4. , 1.2],\n",
       "       [5. , 2.3, 3.3, 1. ],\n",
       "       [5.6, 2.7, 4.2, 1.3],\n",
       "       [5.7, 3. , 4.2, 1.2],\n",
       "       [5.7, 2.9, 4.2, 1.3],\n",
       "       [6.2, 2.9, 4.3, 1.3],\n",
       "       [5.1, 2.5, 3. , 1.1],\n",
       "       [5.7, 2.8, 4.1, 1.3],\n",
       "       [6.3, 3.3, 6. , 2.5],\n",
       "       [5.8, 2.7, 5.1, 1.9],\n",
       "       [7.1, 3. , 5.9, 2.1],\n",
       "       [6.3, 2.9, 5.6, 1.8],\n",
       "       [6.5, 3. , 5.8, 2.2],\n",
       "       [7.6, 3. , 6.6, 2.1],\n",
       "       [4.9, 2.5, 4.5, 1.7],\n",
       "       [7.3, 2.9, 6.3, 1.8],\n",
       "       [6.7, 2.5, 5.8, 1.8],\n",
       "       [7.2, 3.6, 6.1, 2.5],\n",
       "       [6.5, 3.2, 5.1, 2. ],\n",
       "       [6.4, 2.7, 5.3, 1.9],\n",
       "       [6.8, 3. , 5.5, 2.1],\n",
       "       [5.7, 2.5, 5. , 2. ],\n",
       "       [5.8, 2.8, 5.1, 2.4],\n",
       "       [6.4, 3.2, 5.3, 2.3],\n",
       "       [6.5, 3. , 5.5, 1.8],\n",
       "       [7.7, 3.8, 6.7, 2.2],\n",
       "       [7.7, 2.6, 6.9, 2.3],\n",
       "       [6. , 2.2, 5. , 1.5],\n",
       "       [6.9, 3.2, 5.7, 2.3],\n",
       "       [5.6, 2.8, 4.9, 2. ],\n",
       "       [7.7, 2.8, 6.7, 2. ],\n",
       "       [6.3, 2.7, 4.9, 1.8],\n",
       "       [6.7, 3.3, 5.7, 2.1],\n",
       "       [7.2, 3.2, 6. , 1.8],\n",
       "       [6.2, 2.8, 4.8, 1.8],\n",
       "       [6.1, 3. , 4.9, 1.8],\n",
       "       [6.4, 2.8, 5.6, 2.1],\n",
       "       [7.2, 3. , 5.8, 1.6],\n",
       "       [7.4, 2.8, 6.1, 1.9],\n",
       "       [7.9, 3.8, 6.4, 2. ],\n",
       "       [6.4, 2.8, 5.6, 2.2],\n",
       "       [6.3, 2.8, 5.1, 1.5],\n",
       "       [6.1, 2.6, 5.6, 1.4],\n",
       "       [7.7, 3. , 6.1, 2.3],\n",
       "       [6.3, 3.4, 5.6, 2.4],\n",
       "       [6.4, 3.1, 5.5, 1.8],\n",
       "       [6. , 3. , 4.8, 1.8],\n",
       "       [6.9, 3.1, 5.4, 2.1],\n",
       "       [6.7, 3.1, 5.6, 2.4],\n",
       "       [6.9, 3.1, 5.1, 2.3],\n",
       "       [5.8, 2.7, 5.1, 1.9],\n",
       "       [6.8, 3.2, 5.9, 2.3],\n",
       "       [6.7, 3.3, 5.7, 2.5],\n",
       "       [6.7, 3. , 5.2, 2.3],\n",
       "       [6.3, 2.5, 5. , 1.9],\n",
       "       [6.5, 3. , 5.2, 2. ],\n",
       "       [6.2, 3.4, 5.4, 2.3],\n",
       "       [5.9, 3. , 5.1, 1.8]])"
      ]
     },
     "execution_count": 20,
     "metadata": {},
     "output_type": "execute_result"
    }
   ],
   "source": [
    "X = iris.iloc[:,:-1].values\n",
    "X"
   ]
  },
  {
   "cell_type": "markdown",
   "metadata": {},
   "source": [
    "* 第 i 个样本写作 $X^{(i)}$  \n",
    "* 第 i 个样本的第 j 个特征值 $X^{(i)}_{j}$  "
   ]
  },
  {
   "cell_type": "markdown",
   "metadata": {},
   "source": [
    "* 最后一列称为 **标签（label）**    \n",
    "\n",
    "标签是当前机器学习的学习任务。比如当前我们需要通过已有的150朵鸢尾花的特征数据和对应的品种标签，学习一朵新的鸢尾花的品种可能属于三种中的哪一种。因此称数据集的最后一列数据为**目标向量（Target）** ，用 $y$ 表示： "
   ]
  },
  {
   "cell_type": "code",
   "execution_count": 26,
   "metadata": {},
   "outputs": [
    {
     "data": {
      "text/plain": [
       "0         setosa\n",
       "1         setosa\n",
       "2         setosa\n",
       "3         setosa\n",
       "4         setosa\n",
       "         ...    \n",
       "145    virginica\n",
       "146    virginica\n",
       "147    virginica\n",
       "148    virginica\n",
       "149    virginica\n",
       "Name: species, Length: 150, dtype: object"
      ]
     },
     "execution_count": 26,
     "metadata": {},
     "output_type": "execute_result"
    }
   ],
   "source": [
    "y = iris.iloc[:,-1]\n",
    "y"
   ]
  },
  {
   "cell_type": "markdown",
   "metadata": {},
   "source": [
    "为了方便后续使用，将目标向量中的字符串修改为“0，1，2”；"
   ]
  },
  {
   "cell_type": "code",
   "execution_count": 30,
   "metadata": {},
   "outputs": [
    {
     "data": {
      "text/plain": [
       "array([0, 0, 0, 0, 0, 0, 0, 0, 0, 0, 0, 0, 0, 0, 0, 0, 0, 0, 0, 0, 0, 0,\n",
       "       0, 0, 0, 0, 0, 0, 0, 0, 0, 0, 0, 0, 0, 0, 0, 0, 0, 0, 0, 0, 0, 0,\n",
       "       0, 0, 0, 0, 0, 0, 1, 1, 1, 1, 1, 1, 1, 1, 1, 1, 1, 1, 1, 1, 1, 1,\n",
       "       1, 1, 1, 1, 1, 1, 1, 1, 1, 1, 1, 1, 1, 1, 1, 1, 1, 1, 1, 1, 1, 1,\n",
       "       1, 1, 1, 1, 1, 1, 1, 1, 1, 1, 1, 1, 2, 2, 2, 2, 2, 2, 2, 2, 2, 2,\n",
       "       2, 2, 2, 2, 2, 2, 2, 2, 2, 2, 2, 2, 2, 2, 2, 2, 2, 2, 2, 2, 2, 2,\n",
       "       2, 2, 2, 2, 2, 2, 2, 2, 2, 2, 2, 2, 2, 2, 2, 2, 2, 2], dtype=int64)"
      ]
     },
     "execution_count": 30,
     "metadata": {},
     "output_type": "execute_result"
    }
   ],
   "source": [
    "species = {'setosa':0,'versicolor':1, 'virginica':2}\n",
    "y = iris.iloc[:,-1].apply(lambda x:species[x]).values\n",
    "y"
   ]
  },
  {
   "cell_type": "code",
   "execution_count": 41,
   "metadata": {},
   "outputs": [
    {
     "data": {
      "text/plain": [
       "<matplotlib.colorbar.Colorbar at 0x2d8e0adabe0>"
      ]
     },
     "execution_count": 41,
     "metadata": {},
     "output_type": "execute_result"
    },
    {
     "data": {
      "image/png": "[encoded data removed]",
      "text/plain": [
       "<Figure size 600x400 with 2 Axes>"
      ]
     },
     "metadata": {
      "needs_background": "light"
     },
     "output_type": "display_data"
    }
   ],
   "source": [
    "import matplotlib.pyplot as plt\n",
    "%matplotlib inline\n",
    "\n",
    "plt.figure(figsize=(6,4),dpi=100)\n",
    "plt.scatter(X[:,2],X[:,3],c=y,cmap='viridis')\n",
    "plt.colorbar()"
   ]
  },
  {
   "cell_type": "markdown",
   "metadata": {},
   "source": [
    "当然实际上我们的每一个样本都有四个特征值，这四个特征值可以绘制在一个四维坐标系，成为一个四维空间中的一个点。这个四维空间就称之为**特征空间（feature space）**。"
   ]
  },
  {
   "cell_type": "markdown",
   "metadata": {},
   "source": [
    "实际上在进行鸢尾花的分类任务时，我们会绘制两条线，将整个特征空间划分称三个部分，观察新的、未知品种的鸢尾花究竟是落入到了哪个部分，以此来预测它的品种。所以，**分类任务的本质就是在特征空间切分**。\n",
    "\n",
    "这里由于可视化的需要，我们只采用了两个特征来说明这个问题，实际情况下，特征空间是一个高维的，但是原理是基本相同的。机器学习中的算法可以保证将低维数据的运算推广到高维空间中的，这也是为什么线性代数对于机器学习来说如此重要了。"
   ]
  },
  {
   "cell_type": "markdown",
   "metadata": {},
   "source": [
    "* 有的时候特征是抽象的。"
   ]
  },
  {
   "cell_type": "markdown",
   "metadata": {},
   "source": [
    "<img src='resource/抽象特征.png' style='zoom:20%'>"
   ]
  },
  {
   "cell_type": "markdown",
   "metadata": {},
   "source": [
    "图像识别中，每一个像素点是一个特征；每一个像素点上的值就表示了特征值。  \n",
    "在著名的手写数字数据集（MNIST）里，每一个手写数字图像是一个28 * 28 的样本，那么每一个样本就包含有28 * 28 = 784 个特征。我们可以把像素点排开，从左上角排到右下角，一共有784个像素点，每一个像素点的深浅就描述了一张图像。把这样的数据放到机器学习算法，学习这些特征和最终表达的数字之间的关系。如果是彩色图像，那么特征会更多。\n",
    "\n",
    "特征不仅仅是拥有语义的，也有可能是非常抽象的，和最终完成的任务可能毫无关系。比如数字识别里，我们很难想象这些像素点和最终的数字之间的关系。但可以通过机器学习来完成。"
   ]
  },
  {
   "cell_type": "markdown",
   "metadata": {},
   "source": [
    "## 4. 机器学习的分类"
   ]
  },
  {
   "cell_type": "markdown",
   "metadata": {},
   "source": [
    "机器学习主要分为四大类:   \n",
    "\n",
    "**监督学习、无监督学习、半监督学习和强化学习**。"
   ]
  },
  {
   "cell_type": "markdown",
   "metadata": {},
   "source": [
    "### 4.1 监督学习 （Supervised learning）  \n",
    "\n",
    "在监督学习中，提供给算法的**训练数据集（training set）** 包括**标签** 。  \n",
    "#### 4.1.1 分类（classification）\n",
    "\n",
    "* 二分类任务： 二选一的任务。\n",
    "1. 垃圾邮件识别——垃圾邮件/正常邮件  \n",
    "2. 识别图像中的猫或狗——猫/狗  \n",
    "3. 银行判断是否向用户发放信用卡——是/否  \n",
    "4. 病患肿瘤是良性还是恶性——良性/恶性"
   ]
  },
  {
   "cell_type": "markdown",
   "metadata": {},
   "source": [
    "* 多分类任务：多选一的任务  \n",
    "\n",
    "1. 数字识别——0/1/2/3/4/5/6/7/8/9  \n",
    "2. 图像识别——猫/狗/大象/.../其他动物  \n",
    "3. 银行发放信用卡的风险评级——A/B/C  \n"
   ]
  },
  {
   "cell_type": "markdown",
   "metadata": {},
   "source": [
    "#### 4.1.2 回归（Regression）  \n",
    "\n",
    "预测的结果是一个连续数字的值，而非一个类别。  \n",
    "<img src='resource/有监督学习-回归.jpg' style='zoom:70%'>  \n",
    "<center>回归（regression）——预测二手车的价格</center>    \n",
    "\n",
    "1. 房屋价格——房价  \n",
    "2. 市场分析——预测利润  \n",
    "3. 股票价格——预测价格  "
   ]
  },
  {
   "cell_type": "markdown",
   "metadata": {},
   "source": [
    "**监督学习**：  给机器的训练数据拥有标签。    \n",
    "\n",
    "1. 图像标定——告诉机器这张图像是猫还是狗；  还是0123456789；\n",
    "2. 银行已经积累了客户信息和信用卡的情况；  \n",
    "3. 医院已经积累了一定的病人信息和最终诊断结果；  \n",
    "4. 房屋的基本信息和最终成交金额；  \n",
    "\n",
    "（历史数据）"
   ]
  },
  {
   "cell_type": "markdown",
   "metadata": {},
   "source": [
    "### 4.2 无监督学习 （Unsupervised Learning）  \n",
    "无监督学习的训练数据中**不包含标签**。  \n",
    "\n",
    "#### 4.2.1 聚类\n",
    "\n",
    "没有标签的情况下对数据进行分类。  \n",
    "\n",
    "<img src='resource/无监督学习-聚类.jpg' style='zoom:70%'>  \n",
    "<center>聚类（clustering）</center>  "
   ]
  },
  {
   "cell_type": "markdown",
   "metadata": {},
   "source": [
    "#### 4.2.2 降维  \n",
    "其目标是在不丢失太多信息的情况下简化数据。\n",
    "1. 特征提取：\n",
    "信用卡的信用评级和人的体重没有关系，可以删去人的体重的特征；\n",
    "好的特征提取需要拟解决问题的专业领域知识来完成。\n",
    "2. 特征压缩:\n",
    "一种方法是将几个相关的特征合并为一个。例如，一辆汽车的里程可能与它的年龄非常相关，因此可以将它们合并到一个代表汽车磨损的特征中。"
   ]
  },
  {
   "cell_type": "markdown",
   "metadata": {},
   "source": [
    "#### 4.2.3 异常检测\n",
    "\n",
    "另一个重要的非监督任务是异常检测——例如，检测不寻常的信用卡交易以防止欺诈，自动删除数据集中的异常值。\n",
    "<img src='resource/无监督学习-异常检测.jpg' style='zoom:70%'>  \n",
    "<center>检测异常值</center>   "
   ]
  },
  {
   "cell_type": "markdown",
   "metadata": {},
   "source": [
    "### 4.3 半监督学习 （Semi-supervised Learning）  \n",
    "一部分数据有标签，另一部分数据没有。（真实的数据集总是有各种原因导致标记缺失）\n",
    "\n",
    "  \n",
    "<img src='resource/半监督学习.jpg' style='zoom:70%'>  \n",
    "<center>半监督学习——通常是有监督和无监督的结合</center>  "
   ]
  },
  {
   "cell_type": "markdown",
   "metadata": {},
   "source": [
    "### 4.4 强化学习（Reinforcement Learning）  \n",
    "\n",
    "<img src='resource/强化学习1.png' style='zoom:60%'>  \n",
    "<img src='resource/强化学习2.png' style='zoom:60%'>   \n",
    "<img src='resource/强化学习3.png' style='zoom:60%'>   \n",
    "\n",
    "计算过程中，将这个网格转换成一个表。这种表被称为Q-table, Q代表Quality，是动作的质量。每一列代表四个操作，行代表状态，每个单元格的值代表给定状态和相应动作的最大未来奖励期望。\n",
    "\n",
    "DeepMind的AlphaGo程序也是强化学习的一个很好的例子:2016年3月，AlphaGo在围棋比赛中击败世界冠军李世石，登上新闻头条。它通过分析数以百万计的博弈学会了取胜策略，然后与自己进行许多博弈。注意，在对抗冠军的比赛中，学习是关闭的，AlphaGo只是在应用它所学到的策略。"
   ]
  },
  {
   "cell_type": "markdown",
   "metadata": {},
   "source": [
    "## 5. 机器学习的难点  \n",
    "机器学习的关键点无非就是两个，一个是“数据”，一个是“算法”。这两者是导致机器学习建立的模型好与坏的关键。机器学习的难点与挑战也来自于数据和算法。  \n",
    "* **训练的数据量不够**  \n",
    "对于一个蹒跚学步的孩子来说，学习苹果是什么，你所需要做的就是指着一个苹果说“苹果”(可能会重复这个过程几次)，这个孩子已经能够识别各种颜色和形状的苹果了。机器学习还不成熟; 大多数机器学习算法需要大量数据才能正常工作。即使是非常简单的问题，通常也需要数千个例子，而对于图像或语音识别这样的复杂问题，可能需要数百万个例子。\n",
    "\n",
    "\n",
    "* **训练数据集没有代表性**  \n",
    "训练数据集没有代表性，意思是训练的数据集不能够很好地代表现实中的情况，因此使用没有代表性的数据训练出来的模型，也不能很好地拟合现实中的情况，预测效果较差。不仅是数据规模小会导致不具有很好的代表性，大规模数据集如果在抽样方法上有问题，也会导致没有代表性，这个叫做**抽样偏差**。抽样偏差最著名的例子发生在1936年美国总统大选期间，兰登与罗斯福针锋相对:《文学文摘》进行了一次非常大规模的民意调查，向大约1000万人发送了邮件。它得到了240万份答案，并满怀信心地预测兰登将获得57%的选票。相反，罗斯福赢得了62%的选票。问题出在《文学文摘》的抽样方法上:首先，为了获得将投票发送到的地址，《文学文摘》使用了电话号码簿、杂志订阅者名单、俱乐部会员名单等等。所有这些名单都倾向于更富有的人，他们更有可能投票给共和党(因此兰登)。第二，不到25%的受访者回答了这个问题。再一次，这引入了抽样偏差，排除了那些没有这样做的人，那些不关心政治，不喜欢《文学文摘》的人，以及其他群体。  \n",
    "\n",
    "\n",
    "* **训练数据集质量差**  \n",
    "显然，如果训练数据包含大量的错误、异常值和噪声(例如，由于低质量的测量)，将使算法更难检测数据之间的关联，因此在训练模型前，花时间清理你的训练数据是非常重要的。  \n",
    "\n",
    "\n",
    "* **不相关的特征**  \n",
    "俗话说:垃圾进，垃圾出。你的系统只有在训练数据包含足够多的相关特征而不是太多无关特征的情况下才能够学习。机器学习项目成功的一个关键部分是找到一组好的特征来进行训练。这个过程被称为特征工程，包括:特征选择:从现有的特征中选择最有用的特征进行训练。特征提取:结合现有的特征来生成一个更有用的特征(正如我们前面看到的，维数减少算法可以提供帮助)。通过收集新数据创造新功能。  \n",
    "\n",
    "* **过拟合**  \n",
    "假设你去一个外国旅行，出租车司机宰了你。你可能会说那个国家所有的出租车司机都是小偷。过度概括是我们人类经常做的事情，不幸的是，如果我们不小心，机器也会落入同样的陷阱。在机器学习中，这被称为过拟合:这意味着模型在训练数据上表现良好，但不能很好地泛化。\n",
    "\n",
    "\n",
    "* **欠拟合**  \n",
    "欠拟合是过拟合的对立面: 当模型过于简单，无法了解数据的基本结构时，就会出现欠拟合。解决这个问题的主要方法是:选择一个更强大的模型，使用更多的参数。向学习算法提供更好的特征(特征工程)。"
   ]
  },
  {
   "cell_type": "code",
   "execution_count": null,
   "metadata": {},
   "outputs": [],
   "source": []
  }
 ],
 "metadata": {
  "anaconda-cloud": {},
  "kernelspec": {
   "display_name": "data_science",
   "language": "python",
   "name": "data_science"
  },
  "language_info": {
   "codemirror_mode": {
    "name": "ipython",
    "version": 3
   },
   "file_extension": ".py",
   "mimetype": "text/x-python",
   "name": "python",
   "nbconvert_exporter": "python",
   "pygments_lexer": "ipython3",
   "version": "3.8.12"
  }
 },
 "nbformat": 4,
 "nbformat_minor": 1
}
