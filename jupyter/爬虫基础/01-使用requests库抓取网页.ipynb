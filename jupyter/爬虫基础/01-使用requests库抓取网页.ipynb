{
 "cells": [
  {
   "cell_type": "markdown",
   "metadata": {},
   "source": [
    "# 1. 使用 requests 库抓取HTML网页"
   ]
  },
  {
   "cell_type": "markdown",
   "metadata": {},
   "source": [
    "本节学习如何使用 requests 库来抓取HTML网页代码。request 库是一个构造网络资源请求的包。请确保已经正确安装了 requests 库。  "
   ]
  },
  {
   "cell_type": "code",
   "execution_count": 1,
   "metadata": {},
   "outputs": [],
   "source": [
    "import requests"
   ]
  },
  {
   "cell_type": "code",
   "execution_count": 2,
   "metadata": {},
   "outputs": [
    {
     "data": {
      "text/plain": [
       "'2.26.0'"
      ]
     },
     "execution_count": 2,
     "metadata": {},
     "output_type": "execute_result"
    }
   ],
   "source": [
    "requests.__version__"
   ]
  },
  {
   "cell_type": "markdown",
   "metadata": {},
   "source": [
    "requests 库使用 get() 方法，构造一个 get 请求。"
   ]
  },
  {
   "cell_type": "code",
   "execution_count": 3,
   "metadata": {},
   "outputs": [
    {
     "name": "stdout",
     "output_type": "stream",
     "text": [
      "Help on function get in module requests.api:\n",
      "\n",
      "get(url, params=None, **kwargs)\n",
      "    Sends a GET request.\n",
      "    \n",
      "    :param url: URL for the new :class:`Request` object.\n",
      "    :param params: (optional) Dictionary, list of tuples or bytes to send\n",
      "        in the query string for the :class:`Request`.\n",
      "    :param \\*\\*kwargs: Optional arguments that ``request`` takes.\n",
      "    :return: :class:`Response <Response>` object\n",
      "    :rtype: requests.Response\n",
      "\n"
     ]
    }
   ],
   "source": [
    "help(requests.get)"
   ]
  },
  {
   "cell_type": "markdown",
   "metadata": {},
   "source": [
    "```示例```  \n",
    "\n",
    "抓取百度主页"
   ]
  },
  {
   "cell_type": "code",
   "execution_count": 11,
   "metadata": {},
   "outputs": [
    {
     "name": "stdout",
     "output_type": "stream",
     "text": [
      "<Response [200]>\n"
     ]
    }
   ],
   "source": [
    "r = requests.get('https://www.baidu.com')\n",
    "print(r)"
   ]
  },
  {
   "cell_type": "markdown",
   "metadata": {},
   "source": [
    "返回的是一个Response类型的数据对象，里面包含了网络服务器给我们返回的响应。"
   ]
  },
  {
   "cell_type": "code",
   "execution_count": 12,
   "metadata": {},
   "outputs": [
    {
     "data": {
      "text/plain": [
       "requests.models.Response"
      ]
     },
     "execution_count": 12,
     "metadata": {},
     "output_type": "execute_result"
    }
   ],
   "source": [
    "type(r)"
   ]
  },
  {
   "cell_type": "code",
   "execution_count": 13,
   "metadata": {},
   "outputs": [
    {
     "data": {
      "text/plain": [
       "200"
      ]
     },
     "execution_count": 13,
     "metadata": {},
     "output_type": "execute_result"
    }
   ],
   "source": [
    "r.status_code # 网络响应状态码"
   ]
  },
  {
   "cell_type": "code",
   "execution_count": 14,
   "metadata": {},
   "outputs": [
    {
     "data": {
      "text/plain": [
       "'<!DOCTYPE html>\\r\\n<!--STATUS OK--><html> <head><meta http-equiv=content-type content=text/html;charset=utf-8><meta http-equiv=X-UA-Compatible content=IE=Edge><meta content=always name=referrer><link rel=stylesheet type=text/css href=https://ss1.bdstatic.com/5eN1bjq8AAUYm2zgoY3K/r/www/cache/bdorz/baidu.min.css><title>ç\\x99¾åº¦ä¸\\x80ä¸\\x8bï¼\\x8cä½\\xa0å°±ç\\x9f¥é\\x81\\x93</title></head> <body link=#0000cc> <div id=wrapper> <div id=head> <div class=head_wrapper> <div class=s_form> <div class=s_form_wrapper> <div id=lg> <img hidefocus=true src=//www.baidu.com/img/bd_logo1.png width=270 height=129> </div> <form id=form name=f action=//www.baidu.com/s class=fm> <input type=hidden name=bdorz_come value=1> <input type=hidden name=ie value=utf-8> <input type=hidden name=f value=8> <input type=hidden name=rsv_bp value=1> <input type=hidden name=rsv_idx value=1> <input type=hidden name=tn value=baidu><span class=\"bg s_ipt_wr\"><input id=kw name=wd class=s_ipt value maxlength=255 autocomplete=off autofocus=autofocus></span><span class=\"bg s_btn_wr\"><input type=submit id=su value=ç\\x99¾åº¦ä¸\\x80ä¸\\x8b class=\"bg s_btn\" autofocus></span> </form> </div> </div> <div id=u1> <a href=http://news.baidu.com name=tj_trnews class=mnav>æ\\x96°é\\x97»</a> <a href=https://www.hao123.com name=tj_trhao123 class=mnav>hao123</a> <a href=http://map.baidu.com name=tj_trmap class=mnav>å\\x9c°å\\x9b¾</a> <a href=http://v.baidu.com name=tj_trvideo class=mnav>è§\\x86é¢\\x91</a> <a href=http://tieba.baidu.com name=tj_trtieba class=mnav>è´´å\\x90§</a> <noscript> <a href=http://www.baidu.com/bdorz/login.gif?login&amp;tpl=mn&amp;u=http%3A%2F%2Fwww.baidu.com%2f%3fbdorz_come%3d1 name=tj_login class=lb>ç\\x99»å½\\x95</a> </noscript> <script>document.write(\\'<a href=\"http://www.baidu.com/bdorz/login.gif?login&tpl=mn&u=\\'+ encodeURIComponent(window.location.href+ (window.location.search === \"\" ? \"?\" : \"&\")+ \"bdorz_come=1\")+ \\'\" name=\"tj_login\" class=\"lb\">ç\\x99»å½\\x95</a>\\');\\r\\n                </script> <a href=//www.baidu.com/more/ name=tj_briicon class=bri style=\"display: block;\">æ\\x9b´å¤\\x9aäº§å\\x93\\x81</a> </div> </div> </div> <div id=ftCon> <div id=ftConw> <p id=lh> <a href=http://home.baidu.com>å\\x85³äº\\x8eç\\x99¾åº¦</a> <a href=http://ir.baidu.com>About Baidu</a> </p> <p id=cp>&copy;2017&nbsp;Baidu&nbsp;<a href=http://www.baidu.com/duty/>ä½¿ç\\x94¨ç\\x99¾åº¦å\\x89\\x8då¿\\x85è¯»</a>&nbsp; <a href=http://jianyi.baidu.com/ class=cp-feedback>æ\\x84\\x8fè§\\x81å\\x8f\\x8dé¦\\x88</a>&nbsp;äº¬ICPè¯\\x81030173å\\x8f·&nbsp; <img src=//www.baidu.com/img/gs.gif> </p> </div> </div> </div> </body> </html>\\r\\n'"
      ]
     },
     "execution_count": 14,
     "metadata": {},
     "output_type": "execute_result"
    }
   ],
   "source": [
    "r.text # 响应的主要内容（html网页）"
   ]
  },
  {
   "cell_type": "code",
   "execution_count": 15,
   "metadata": {},
   "outputs": [
    {
     "data": {
      "text/plain": [
       "'ISO-8859-1'"
      ]
     },
     "execution_count": 15,
     "metadata": {},
     "output_type": "execute_result"
    }
   ],
   "source": [
    "r.encoding  # 获取html文件的编码格式"
   ]
  },
  {
   "cell_type": "code",
   "execution_count": 16,
   "metadata": {},
   "outputs": [],
   "source": [
    "r.encoding='utf-8' # 改编码格式"
   ]
  },
  {
   "cell_type": "code",
   "execution_count": 17,
   "metadata": {},
   "outputs": [
    {
     "name": "stdout",
     "output_type": "stream",
     "text": [
      "<!DOCTYPE html>\r\n",
      "<!--STATUS OK--><html> <head><meta http-equiv=content-type content=text/html;charset=utf-8><meta http-equiv=X-UA-Compatible content=IE=Edge><meta content=always name=referrer><link rel=stylesheet type=text/css href=https://ss1.bdstatic.com/5eN1bjq8AAUYm2zgoY3K/r/www/cache/bdorz/baidu.min.css><title>百度一下，你就知道</title></head> <body link=#0000cc> <div id=wrapper> <div id=head> <div class=head_wrapper> <div class=s_form> <div class=s_form_wrapper> <div id=lg> <img hidefocus=true src=//www.baidu.com/img/bd_logo1.png width=270 height=129> </div> <form id=form name=f action=//www.baidu.com/s class=fm> <input type=hidden name=bdorz_come value=1> <input type=hidden name=ie value=utf-8> <input type=hidden name=f value=8> <input type=hidden name=rsv_bp value=1> <input type=hidden name=rsv_idx value=1> <input type=hidden name=tn value=baidu><span class=\"bg s_ipt_wr\"><input id=kw name=wd class=s_ipt value maxlength=255 autocomplete=off autofocus=autofocus></span><span class=\"bg s_btn_wr\"><input type=submit id=su value=百度一下 class=\"bg s_btn\" autofocus></span> </form> </div> </div> <div id=u1> <a href=http://news.baidu.com name=tj_trnews class=mnav>新闻</a> <a href=https://www.hao123.com name=tj_trhao123 class=mnav>hao123</a> <a href=http://map.baidu.com name=tj_trmap class=mnav>地图</a> <a href=http://v.baidu.com name=tj_trvideo class=mnav>视频</a> <a href=http://tieba.baidu.com name=tj_trtieba class=mnav>贴吧</a> <noscript> <a href=http://www.baidu.com/bdorz/login.gif?login&amp;tpl=mn&amp;u=http%3A%2F%2Fwww.baidu.com%2f%3fbdorz_come%3d1 name=tj_login class=lb>登录</a> </noscript> <script>document.write('<a href=\"http://www.baidu.com/bdorz/login.gif?login&tpl=mn&u='+ encodeURIComponent(window.location.href+ (window.location.search === \"\" ? \"?\" : \"&\")+ \"bdorz_come=1\")+ '\" name=\"tj_login\" class=\"lb\">登录</a>');\r\n",
      "                </script> <a href=//www.baidu.com/more/ name=tj_briicon class=bri style=\"display: block;\">更多产品</a> </div> </div> </div> <div id=ftCon> <div id=ftConw> <p id=lh> <a href=http://home.baidu.com>关于百度</a> <a href=http://ir.baidu.com>About Baidu</a> </p> <p id=cp>&copy;2017&nbsp;Baidu&nbsp;<a href=http://www.baidu.com/duty/>使用百度前必读</a>&nbsp; <a href=http://jianyi.baidu.com/ class=cp-feedback>意见反馈</a>&nbsp;京ICP证030173号&nbsp; <img src=//www.baidu.com/img/gs.gif> </p> </div> </div> </div> </body> </html>\r\n",
      "\n"
     ]
    }
   ],
   "source": [
    "print(r.text) # 获取修改编码后的html文件内容"
   ]
  },
  {
   "cell_type": "code",
   "execution_count": 21,
   "metadata": {},
   "outputs": [
    {
     "name": "stdout",
     "output_type": "stream",
     "text": [
      "Help on class Response in module requests.models:\n",
      "\n",
      "class Response(builtins.object)\n",
      " |  The :class:`Response <Response>` object, which contains a\n",
      " |  server's response to an HTTP request.\n",
      " |  \n",
      " |  Methods defined here:\n",
      " |  \n",
      " |  __bool__(self)\n",
      " |      Returns True if :attr:`status_code` is less than 400.\n",
      " |      \n",
      " |      This attribute checks if the status code of the response is between\n",
      " |      400 and 600 to see if there was a client error or a server error. If\n",
      " |      the status code, is between 200 and 400, this will return True. This\n",
      " |      is **not** a check to see if the response code is ``200 OK``.\n",
      " |  \n",
      " |  __enter__(self)\n",
      " |  \n",
      " |  __exit__(self, *args)\n",
      " |  \n",
      " |  __getstate__(self)\n",
      " |  \n",
      " |  __init__(self)\n",
      " |      Initialize self.  See help(type(self)) for accurate signature.\n",
      " |  \n",
      " |  __iter__(self)\n",
      " |      Allows you to use a response as an iterator.\n",
      " |  \n",
      " |  __nonzero__(self)\n",
      " |      Returns True if :attr:`status_code` is less than 400.\n",
      " |      \n",
      " |      This attribute checks if the status code of the response is between\n",
      " |      400 and 600 to see if there was a client error or a server error. If\n",
      " |      the status code, is between 200 and 400, this will return True. This\n",
      " |      is **not** a check to see if the response code is ``200 OK``.\n",
      " |  \n",
      " |  __repr__(self)\n",
      " |      Return repr(self).\n",
      " |  \n",
      " |  __setstate__(self, state)\n",
      " |  \n",
      " |  close(self)\n",
      " |      Releases the connection back to the pool. Once this method has been\n",
      " |      called the underlying ``raw`` object must not be accessed again.\n",
      " |      \n",
      " |      *Note: Should not normally need to be called explicitly.*\n",
      " |  \n",
      " |  iter_content(self, chunk_size=1, decode_unicode=False)\n",
      " |      Iterates over the response data.  When stream=True is set on the\n",
      " |      request, this avoids reading the content at once into memory for\n",
      " |      large responses.  The chunk size is the number of bytes it should\n",
      " |      read into memory.  This is not necessarily the length of each item\n",
      " |      returned as decoding can take place.\n",
      " |      \n",
      " |      chunk_size must be of type int or None. A value of None will\n",
      " |      function differently depending on the value of `stream`.\n",
      " |      stream=True will read data as it arrives in whatever size the\n",
      " |      chunks are received. If stream=False, data is returned as\n",
      " |      a single chunk.\n",
      " |      \n",
      " |      If decode_unicode is True, content will be decoded using the best\n",
      " |      available encoding based on the response.\n",
      " |  \n",
      " |  iter_lines(self, chunk_size=512, decode_unicode=False, delimiter=None)\n",
      " |      Iterates over the response data, one line at a time.  When\n",
      " |      stream=True is set on the request, this avoids reading the\n",
      " |      content at once into memory for large responses.\n",
      " |      \n",
      " |      .. note:: This method is not reentrant safe.\n",
      " |  \n",
      " |  json(self, **kwargs)\n",
      " |      Returns the json-encoded content of a response, if any.\n",
      " |      \n",
      " |      :param \\*\\*kwargs: Optional arguments that ``json.loads`` takes.\n",
      " |      :raises simplejson.JSONDecodeError: If the response body does not\n",
      " |          contain valid json and simplejson is installed.\n",
      " |      :raises json.JSONDecodeError: If the response body does not contain\n",
      " |          valid json and simplejson is not installed on Python 3.\n",
      " |      :raises ValueError: If the response body does not contain valid\n",
      " |          json and simplejson is not installed on Python 2.\n",
      " |  \n",
      " |  raise_for_status(self)\n",
      " |      Raises :class:`HTTPError`, if one occurred.\n",
      " |  \n",
      " |  ----------------------------------------------------------------------\n",
      " |  Readonly properties defined here:\n",
      " |  \n",
      " |  apparent_encoding\n",
      " |      The apparent encoding, provided by the charset_normalizer or chardet libraries.\n",
      " |  \n",
      " |  content\n",
      " |      Content of the response, in bytes.\n",
      " |  \n",
      " |  is_permanent_redirect\n",
      " |      True if this Response one of the permanent versions of redirect.\n",
      " |  \n",
      " |  is_redirect\n",
      " |      True if this Response is a well-formed HTTP redirect that could have\n",
      " |      been processed automatically (by :meth:`Session.resolve_redirects`).\n",
      " |  \n",
      " |  links\n",
      " |      Returns the parsed header links of the response, if any.\n",
      " |  \n",
      " |  next\n",
      " |      Returns a PreparedRequest for the next request in a redirect chain, if there is one.\n",
      " |  \n",
      " |  ok\n",
      " |      Returns True if :attr:`status_code` is less than 400, False if not.\n",
      " |      \n",
      " |      This attribute checks if the status code of the response is between\n",
      " |      400 and 600 to see if there was a client error or a server error. If\n",
      " |      the status code is between 200 and 400, this will return True. This\n",
      " |      is **not** a check to see if the response code is ``200 OK``.\n",
      " |  \n",
      " |  text\n",
      " |      Content of the response, in unicode.\n",
      " |      \n",
      " |      If Response.encoding is None, encoding will be guessed using\n",
      " |      ``charset_normalizer`` or ``chardet``.\n",
      " |      \n",
      " |      The encoding of the response content is determined based solely on HTTP\n",
      " |      headers, following RFC 2616 to the letter. If you can take advantage of\n",
      " |      non-HTTP knowledge to make a better guess at the encoding, you should\n",
      " |      set ``r.encoding`` appropriately before accessing this property.\n",
      " |  \n",
      " |  ----------------------------------------------------------------------\n",
      " |  Data descriptors defined here:\n",
      " |  \n",
      " |  __dict__\n",
      " |      dictionary for instance variables (if defined)\n",
      " |  \n",
      " |  __weakref__\n",
      " |      list of weak references to the object (if defined)\n",
      " |  \n",
      " |  ----------------------------------------------------------------------\n",
      " |  Data and other attributes defined here:\n",
      " |  \n",
      " |  __attrs__ = ['_content', 'status_code', 'headers', 'url', 'history', '...\n",
      "\n"
     ]
    }
   ],
   "source": [
    "help(requests.Response)"
   ]
  },
  {
   "cell_type": "markdown",
   "metadata": {},
   "source": [
    "```示例```\n",
    "\n",
    "抓取二进制数据：比如百度主页的LOGO"
   ]
  },
  {
   "cell_type": "code",
   "execution_count": null,
   "metadata": {},
   "outputs": [],
   "source": [
    "r = requests.get('https://www.baidu.com/img/bd_logo1.png')\n",
    "print(r.text)"
   ]
  },
  {
   "cell_type": "markdown",
   "metadata": {},
   "source": [
    "以上是乱码。因为我们获取的是百度logo，其本质是一个二进制码，如果用文本方式编码会出现乱码。因此这里使用response的另一个属性 content 来获取二进制码。"
   ]
  },
  {
   "cell_type": "code",
   "execution_count": null,
   "metadata": {},
   "outputs": [],
   "source": [
    "r.content"
   ]
  },
  {
   "cell_type": "code",
   "execution_count": null,
   "metadata": {},
   "outputs": [],
   "source": [
    "# 将二进制码写入本地 png 文件，运行下面代码，可产生一个百度logo图像文件。\n",
    "with open('data\\\\logo.png','wb') as writer:\n",
    "    writer.write(r.content)"
   ]
  },
  {
   "cell_type": "markdown",
   "metadata": {},
   "source": [
    "音频和视频文件均可按照上述方法获取。"
   ]
  },
  {
   "cell_type": "markdown",
   "metadata": {},
   "source": [
    "```示例```  \n",
    "\n",
    "抓取知乎的主页面。"
   ]
  },
  {
   "cell_type": "code",
   "execution_count": null,
   "metadata": {},
   "outputs": [],
   "source": [
    "r = requests.get('https://www.zhihu.com/explore')\n",
    "r"
   ]
  },
  {
   "cell_type": "code",
   "execution_count": null,
   "metadata": {},
   "outputs": [],
   "source": [
    "print(r.text)"
   ]
  },
  {
   "cell_type": "markdown",
   "metadata": {},
   "source": [
    "知乎返回了 '403 forbidden'，就是说知乎禁止抓取。那么我们加入请求头的部分信息，伪造成一个浏览器来再次尝试一下。"
   ]
  },
  {
   "cell_type": "code",
   "execution_count": null,
   "metadata": {},
   "outputs": [],
   "source": [
    "headers = {\n",
    "    'User-agent': 'Mozilla/5.0 (Windows NT 10.0; Win64; x64) AppleWebKit/537.36 (KHTML, \\\n",
    "like Gecko) Chrome/96.0.4664.45 Safari/537.36'\n",
    "}\n",
    "\n",
    "r = requests.get('https://www.zhihu.com/explore',headers = headers)\n",
    "r"
   ]
  },
  {
   "cell_type": "code",
   "execution_count": null,
   "metadata": {},
   "outputs": [],
   "source": [
    "print(r.text)"
   ]
  },
  {
   "cell_type": "markdown",
   "metadata": {},
   "source": [
    "添加了headers字段的信息后，我们成功抓到了知乎的探索页面的源代码。当然我们也可以向headers字典中加入其他字段的信息。"
   ]
  },
  {
   "cell_type": "markdown",
   "metadata": {},
   "source": [
    "```示例```  \n",
    "\n",
    "抓取登录后的知乎热榜页面"
   ]
  },
  {
   "cell_type": "markdown",
   "metadata": {},
   "source": [
    "### 会话和Cookie\n",
    "\n",
    "在浏览网页的过程中，常常碰到需要登录的情况。有的页面只有在登录之后才可以访问，而且过一段时间还要重新登录。用户输入用户名和密码后，拿到了一种某种凭证，这种凭证被记录到了本地浏览器甚至本地磁盘中，因此能够维持自己的登录状态。"
   ]
  },
  {
   "cell_type": "markdown",
   "metadata": {},
   "source": [
    "1. HTTP协议是无状态的，即服务器端并不知道客户端是什么状态，当客户端向服务器发送请求以后，服务器解析此请求，然后返回响应。这个过程中，服务器不会记录前后的变化。在这种情形下，有的事情很难处理。比如当我们访问网上银行时，发送请求数据后，可以看到服务器端要求我们上传账户和密码，当我们提交了账户和密码后，服务器端并不记得我们是谁，继续要求我们上传账户和密码。 因此需要一种技术，使得服务器端能够保存客户端的状态。  \n",
    "\n",
    "\n",
    "\n",
    "2. 会话和Cookie用于保持HTTP的连接状态。会话在服务器端，保存用户的会话信息；Cookies在客户端，当下次客户端访问网页时，会自动附带上Cookie上传至服务器，服务器通过识别Cookies并鉴定出是哪个用户，然后再判断用户是否仍处于登录状态，返回对应的响应。  "
   ]
  },
  {
   "cell_type": "markdown",
   "metadata": {},
   "source": [
    "* 登录知乎，并打开Application选项卡，选择Storage的最后一项，即Cookies信息。"
   ]
  },
  {
   "cell_type": "markdown",
   "metadata": {},
   "source": [
    "<img src='resource/Cookies.png' style='zoom:50%'>"
   ]
  },
  {
   "cell_type": "code",
   "execution_count": null,
   "metadata": {},
   "outputs": [],
   "source": [
    "headers = {\n",
    "    'Cookie':'SESSIONID=Wqk2T3KYcBdxVjYRTEmClscLUmuUYaQNkTy1MITg5Px; JOID=VFAUAkP1CQ8RIot4E_I51noETl8AvXVGQBj_ISGqckR-Rsglfvbat3cijHEaDJZSTdOIl0HL8LF0GqQARVFDCe8=; osd=UFgRAk7xAQoRL49wFvI00nIBTlIEtXBGTRz3JCGndkx7RsUhdvPaunMqiXEXCJ5XTd6Mn0TL_bV8H6QNQVlGCeI=; _zap=66c25c60-fdef-4f70-a835-2083e0a11337; _xsrf=mK6AYNA3JQcU4AvkUIfCKk9g04dri0OV; d_c0=\"APAeVi7CJxSPTuY9X0Urz5MJ-oXp71sKIf0=|1639045532\"; Hm_lvt_98beee57fd2ef70ccdd5ca52b9740c49=1639045534; SESSIONID=FuIX4zP2QuBomMSdnwZR6lGWghFpXQYJlU10kgrTnrC; osd=V10SC0t3STnNNCePU3p85aIc6K1FMT5_nQVd3W4jPHmtUW_cNeidj6ExJYJU0hzzWEQnWjE2ahiagsZfbP3W9yY=; JOID=U1kRAE1zTTrGMiOLUHF64aYf46tBNT10mwFZ3mUlOH2uWmnYMeuWiaU1JolS1hjwU0IjXjI9bByegc1ZaPnV_CA=; __snaker__id=WQ16kMAbiwUytjjQ; _9755xjdesxxd_=32; gdxidpyhxdE=dvm6cqRvUal9Z2Smu5fwNIDyAV%2BWISf6I2x0Ca72d6efmw1tnKB%5CjDYh1bhOU3KzuUkVCiymxpV5swiNvCTZ%2FljPUtWXiJm%2FQhSnlLiiqbUZuOUYzZxv2atQnKtRBNL14jPKRRh21%2BevqDnNhMK5NYVHLwDu%2Fp5ii%2BslxL7aqma9fLUm%3A1639046435405; YD00517437729195%3AWM_NI=eK3xM5QONWX2i3%2BOhDS8ocxNhgM5xzi10ELr4CF84QAGaIDLRBKUYmBQEjhN8rHWsn1VwclHGZQa62JM19VJMqTnQj7HBkBt2lDgfNnNQqJVkAta7vsWuak0ghaKAN%2BhcTQ%3D; YD00517437729195%3AWM_NIKE=9ca17ae2e6ffcda170e2e6eeb3c94d8eb8fb87d254bae78fa2c44a928e9fabf579b8bfbc8eee6888928cabd72af0fea7c3b92aa795fd99d03f939182b8db3aabede5b0eb5091e8a184fb46acb983d6fb72abef00a6cf7af89d8ad9b75b8399afaac748929e85b6dc67828f8b8beb46fcae88b8f266f38ab984ef4485869f82b53a8a93ffdad5428faf9c8fd462f5988e8cc180f2b48c88e546ae929f92c95ea99fbc82b67eb189bb82ea3ca5b8afacc446e9b8adb5d437e2a3; YD00517437729195%3AWM_TID=X3z3tBfBLKRFBAVUAVd744P9iskWYTcT; captcha_ticket_v2=\"2|1:0|10:1639045566|17:captcha_ticket_v2|704:eyJ2YWxpZGF0ZSI6IkNOMzFfNUVxOGhSYmRON01zUEVCRm5RUlVsLXZhYWk0SUhhUXRYMmdnZnpHb3E1WlJQOFEwSkJwVF83LmU2LWp6b2pPU282MU1CRHJOclZWaUhBcW44Wk1RbjA5bTgtdDBTbWxBY0l6c3NEN1FkUUxoeS1OXzJxdkc2SHFYWXFqVEZkbF90TTl5UDhfMUJ3ZGpCa2g0a0pPQ1BpQzU3T0R5bC1GSW5SYi1ENi1BNzZaY1FRbGk4T0c2QUNfRHlWdjlvSjY5bUNpYmxqVHk0UGFzV1BUMDk1S3VhUjdmU2V5dTU0UW01eHAucElaRU9hRlJ0Ym8xRGdacHVNci5YUVNYQXJTWFpQa0hNSzZVMmpid01tMDYwMXNpbk1jLmNVWk5Ic2c3Ti5KaHRzbjllaDEuUXhJREE0eWlxamJuck9ELmpPbG0yenNIU0xGc0pseTc0TlR3Sk1LQmxNS3RyWWFMRUJXcXhHUFJrUGFzTThNX1d3N3BSSEFCRlprYk0wa1dvZ0NLRmtObWluQ3gtRXZheGlESGJaeWsuUlk1b2lKYzlJTkdjSS55V1pwLnJlTDlGZjZZMjF1ZHpxZHQ1WVdBcEJRa3Z3dTVPZlcxVzcteUt0Z2Iyd3U5NnRab0xZN0lYYUF1OXZPQ1hTUTE4WmM4RC5hNmZpZUlTOWdKWjZYMyJ9|5d88856b19d6fc58e46f42b6a398078529c657d4a26e44aa35e17a1daabab0bb\"; captcha_session_v2=\"2|1:0|10:1639045580|18:captcha_session_v2|88:dCttZ0w1dnNQTFp2bS94RzZnSExqRmI4cml6NWNFRmJqUzdlN0ZvcjlycHltbWVRUjZaVlU2QXFpMVJzN3lESg==|94d94490abd9df361de4ea7fed73e5102b737ed5e8e4a78839aeda8a1deffd98\"; z_c0=\"2|1:0|10:1639045580|4:z_c0|92:Mi4xN20xckRBQUFBQUFBOEI1V0xzSW5GQ1lBQUFCZ0FsVk55eWVmWWdDVFpuUjNyQjF6N1FGRU9yQjhYUVdmUkxYV0pR|3b018153271472bbf574a57d7cf9b7824fdb628ce75f51024f744583ac204c77\"; unlock_ticket=\"AGDmGfk0RA4mAAAAYAJVTdPgsWF1FHX8Uv07UfzmKkyBjA8Serd0qA==\"; NOT_UNREGISTER_WAITING=1; q_c1=0b1995468f7b4b22a09d094adbf73339|1639045593000|1639045593000; tst=r; Hm_lpvt_98beee57fd2ef70ccdd5ca52b9740c49=1639045851; KLBRSID=81978cf28cf03c58e07f705c156aa833|1639045866|1639045532',\n",
    "    'Host':'www.zhihu.com',\n",
    "    'user-agent':'Mozilla/5.0 (Windows NT 10.0; Win64; x64) AppleWebKit/537.36 (KHTML, \\\n",
    "like Gecko) Chrome/96.0.4664.45 Safari/537.36'\n",
    "}\n",
    "r = requests.get('https://www.zhihu.com/api/v4/questions/504503720/answers?include=data%5B%2A%5D.is_normal%2Cadmin_closed_comment%2Creward_info%2Cis_collapsed%2Cannotation_action%2Cannotation_detail%2Ccollapse_reason%2Cis_sticky%2Ccollapsed_by%2Csuggest_edit%2Ccomment_count%2Ccan_comment%2Ccontent%2Ceditable_content%2Cattachment%2Cvoteup_count%2Creshipment_settings%2Ccomment_permission%2Ccreated_time%2Cupdated_time%2Creview_info%2Crelevant_info%2Cquestion%2Cexcerpt%2Cis_labeled%2Cpaid_info%2Cpaid_info_content%2Crelationship.is_authorized%2Cis_author%2Cvoting%2Cis_thanked%2Cis_nothelp%2Cis_recognized%3Bdata%5B%2A%5D.mark_infos%5B%2A%5D.url%3Bdata%5B%2A%5D.author.follower_count%2Cvip_info%2Cbadge%5B%2A%5D.topics%3Bdata%5B%2A%5D.settings.table_of_content.enabled&limit=5&offset=10&platform=desktop&sort_by=default',headers=headers)\n",
    "#print(r.text)\n",
    "'''\n",
    "with open(r'data\\zhihu.txt','w',encoding='utf-8') as writer:\n",
    "    writer.write(r.text)\n",
    "'''   "
   ]
  },
  {
   "cell_type": "code",
   "execution_count": null,
   "metadata": {},
   "outputs": [],
   "source": [
    "from bs4 import BeautifulSoup\n",
    "\n",
    "soup = BeautifulSoup(r.text, 'lxml')\n",
    "print(soup.prettify())"
   ]
  },
  {
   "cell_type": "code",
   "execution_count": null,
   "metadata": {},
   "outputs": [],
   "source": [
    "for a in soup.find_all(attrs={'itemprop': 'text'}):\n",
    "    print(a)"
   ]
  }
 ],
 "metadata": {
  "kernelspec": {
   "display_name": "data_science",
   "language": "python",
   "name": "data_science"
  },
  "language_info": {
   "codemirror_mode": {
    "name": "ipython",
    "version": 3
   },
   "file_extension": ".py",
   "mimetype": "text/x-python",
   "name": "python",
   "nbconvert_exporter": "python",
   "pygments_lexer": "ipython3",
   "version": "3.8.12"
  }
 },
 "nbformat": 4,
 "nbformat_minor": 4
}
