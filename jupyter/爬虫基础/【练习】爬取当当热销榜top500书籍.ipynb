{
 "cells": [
  {
   "cell_type": "code",
   "execution_count": 1,
   "metadata": {
    "ExecuteTime": {
     "end_time": "2023-05-26T01:53:14.122423Z",
     "start_time": "2023-05-26T01:53:14.062905500Z"
    }
   },
   "outputs": [],
   "source": [
    "import requests\n",
    "from requests.exceptions import RequestException\n",
    "import re\n",
    "import time"
   ]
  },
  {
   "cell_type": "code",
   "execution_count": 2,
   "metadata": {
    "ExecuteTime": {
     "end_time": "2023-05-25T15:22:24.217200400Z",
     "start_time": "2023-05-25T15:22:24.201094600Z"
    }
   },
   "outputs": [],
   "source": [
    "def get_one_page(url):  \n",
    "    \"\"\"\n",
    "    爬取某一页的源代码；\n",
    "    url：当前网页的url；\n",
    "    return：当前网页的html文本\n",
    "    \"\"\"\n",
    "    try:\n",
    "        # 输入你的代码，构造请求方法，获取服务器响应 r；\n",
    "        r = requests.get(url)\n",
    "        if r.status_code == 200: \n",
    "            r.text.encode('utf-8')\n",
    "            return r.text\n",
    "        return None\n",
    "    except RequestException as e:\n",
    "        return None\n",
    "\n",
    "def parse_one_page(html):\n",
    "    \"\"\"\n",
    "    从当前网页中提取“排行榜号（list_num ）”，“书名”，“评论数量”，“推荐度”，\n",
    "    “作者”、“出版社信息”、“原始价格”、“折后价格”，并存入字典中。\n",
    "    \"\"\"\n",
    "    # 创建正则表达式对象，填充compile的第一个参数内\n",
    "    pattern = re.compile(\n",
    "        '<li>.*?list_num.*?(\\d+).</div>.*?class=\"name\".*?title=\"(.*?)\">.*?class=\"star\".*?target=\"_blank\">(.*?)条评论</a>.*?class=\"tuijian\">(.*?)%推荐<.*?class=\"publisher_info\">.*?target=\"_blank\">(.*?)</a>.*?class=\"publisher_info\">.*?target=\"_blank\">(.*?)</a>.*?class=\"price_n\">&yen;(.*?)</span>.*?class=\"price_r\">&yen;(.*?)</span>.*?</li>', re.S)\n",
    "    \n",
    "    items = re.findall(pattern, html)\n",
    "    for item in items:\n",
    "        yield {\n",
    "            'index': item[0],  # 排行榜号-你的表达式 ,\n",
    "            'title': item[1],  # 书名-你的表达式,\n",
    "            'reviews': item[2],  # 评论数量-你的表达式,\n",
    "            'recommends': item[3],  # 推荐度-你的表达式,\n",
    "            'authors': item[4],  # 作者名-你的表达式,\n",
    "            'publisher': item[5],  # 出版社-你的表达式\n",
    "            'price_n': item[6],  # 折后价格-你的表达式,\n",
    "            'price_r': item[7]  # 折前价格-你的表达式，\n",
    "        }\n",
    "        \n",
    "        \n",
    "def main(offset=1, file=open(r'data\\dangdang_books.csv','w',encoding='utf-8')):\n",
    "    \"\"\"主函数\n",
    "    offset：url的偏移量（从1到25）\n",
    "    \n",
    "    \"\"\"\n",
    "    url = 'http://bang.dangdang.com/books/bestsellers/01.00.00.00.00.00-24hours-0-0-1-' + str(offset)\n",
    "    html = get_one_page(url)\n",
    "    for item in parse_one_page(html):       \n",
    "        for value in item.values():\n",
    "            file.write('\"'+str(value)+'\"'+',')\n",
    "        file.write('\\n')\n",
    "    file.close()"
   ]
  },
  {
   "cell_type": "code",
   "execution_count": 3,
   "metadata": {
    "ExecuteTime": {
     "end_time": "2023-05-25T15:23:10.118047200Z",
     "start_time": "2023-05-25T15:22:32.465909600Z"
    }
   },
   "outputs": [],
   "source": [
    "file = open(r'data\\dangdang_books.csv','w',encoding='utf-8')\n",
    "file.write('index,title,reviews,recommends(%),authors,publisher,price_n,price_r\\n')\n",
    "for i in range(1,26):\n",
    "    url = 'http://bang.dangdang.com/books/bestsellers/01.00.00.00.00.00-24hours-0-0-1-' + str(i)\n",
    "    html = get_one_page(url)\n",
    "    for item in parse_one_page(html):\n",
    "        line = ''\n",
    "        for value in item.values():\n",
    "            line += '\"'+str(value)+'\"'+','\n",
    "        file.write(line.strip(',')+'\\n')\n",
    "    time.sleep(1)\n",
    "file.close()"
   ]
  },
  {
   "cell_type": "code",
   "execution_count": 4,
   "metadata": {
    "ExecuteTime": {
     "end_time": "2023-05-25T15:23:15.453912800Z",
     "start_time": "2023-05-25T15:23:14.841684100Z"
    }
   },
   "outputs": [
    {
     "data": {
      "text/plain": "     index                                              title  reviews   \n0        1        你也走了很远的路吧（新增2万余字，4篇文章，关于特殊时期成长的勇气，以及曾经的那些人）   405117  \\\n1        2      蛤蟆先生去看心理医生（热销300万册！英国经典心理咨询入门书，知名心理学家李松蔚强烈推荐）  1508102   \n2        3                                        青铜葵花（当当定制版）   318486   \n3        4                                一读就上瘾的中国史1+2(套装全2册)    72524   \n4        5                        被讨厌的勇气：“自我启发之父”阿德勒的哲学课 岸见一郎  1027035   \n..     ...                                                ...      ...   \n495    496                                         当下的力量（珍藏版）   242950   \n496    497                                   奥特曼系列 视觉志:55周年纪念    36827   \n497    498  中国传统节日故事自营儿童注音版（美绘大开本）一二三年级儿童文学 小学生课外阅读 全国著名语文...    42189   \n498    499        吹牛大王历险记（彩图注音版） 汇聚金波 沈石溪 常新港 冰波 汤素兰等50多位名家名作    81926   \n499    500                                    怀孕一天一页（第二版）（汉竹）   101804   \n\n     recommends(%)        authors    publisher  price_n price_r  \n0            100.0            卢思浩      湖南文艺出版社     24.9   49.80  \n1            100.0        罗伯特・戴博德      天津人民出版社     19.0   38.00  \n2             99.3            曹文轩  天天出版社有限责任公司      9.9   25.00  \n3            100.0            温伯陵        台海出版社     57.4  119.60  \n4            100.0          岸��一郎      机械工业出版社     33.0   55.00  \n..             ...            ...          ...      ...     ...  \n495           99.9        埃克哈特.托利        中信出版社     36.4   56.00  \n496          100.0  上海新创华文化发展有限公司    安徽少年儿童出版社     49.0   70.00  \n497          100.0             金波      北京教育出版社     23.2   25.80  \n498          100.0            拉斯伯      北京教育出版社     12.9   19.80  \n499          100.0            马良坤    江苏科学技术出版社     23.9   49.80  \n\n[500 rows x 8 columns]",
      "text/html": "<div>\n<style scoped>\n    .dataframe tbody tr th:only-of-type {\n        vertical-align: middle;\n    }\n\n    .dataframe tbody tr th {\n        vertical-align: top;\n    }\n\n    .dataframe thead th {\n        text-align: right;\n    }\n</style>\n<table border=\"1\" class=\"dataframe\">\n  <thead>\n    <tr style=\"text-align: right;\">\n      <th></th>\n      <th>index</th>\n      <th>title</th>\n      <th>reviews</th>\n      <th>recommends(%)</th>\n      <th>authors</th>\n      <th>publisher</th>\n      <th>price_n</th>\n      <th>price_r</th>\n    </tr>\n  </thead>\n  <tbody>\n    <tr>\n      <th>0</th>\n      <td>1</td>\n      <td>你也走了很远的路吧（新增2万余字，4篇文章，关于特殊时期成长的勇气，以及曾经的那些人）</td>\n      <td>405117</td>\n      <td>100.0</td>\n      <td>卢思浩</td>\n      <td>湖南文艺出版社</td>\n      <td>24.9</td>\n      <td>49.80</td>\n    </tr>\n    <tr>\n      <th>1</th>\n      <td>2</td>\n      <td>蛤蟆先生去看心理医生（热销300万册！英国经典心理咨询入门书，知名心理学家李松蔚强烈推荐）</td>\n      <td>1508102</td>\n      <td>100.0</td>\n      <td>罗伯特・戴博德</td>\n      <td>天津人民出版社</td>\n      <td>19.0</td>\n      <td>38.00</td>\n    </tr>\n    <tr>\n      <th>2</th>\n      <td>3</td>\n      <td>青铜葵花（当当定制版）</td>\n      <td>318486</td>\n      <td>99.3</td>\n      <td>曹文轩</td>\n      <td>天天出版社有限责任公司</td>\n      <td>9.9</td>\n      <td>25.00</td>\n    </tr>\n    <tr>\n      <th>3</th>\n      <td>4</td>\n      <td>一读就上瘾的中国史1+2(套装全2册)</td>\n      <td>72524</td>\n      <td>100.0</td>\n      <td>温伯陵</td>\n      <td>台海出版社</td>\n      <td>57.4</td>\n      <td>119.60</td>\n    </tr>\n    <tr>\n      <th>4</th>\n      <td>5</td>\n      <td>被讨厌的勇气：“自我启发之父”阿德勒的哲学课 岸见一郎</td>\n      <td>1027035</td>\n      <td>100.0</td>\n      <td>岸��一郎</td>\n      <td>机械工业出版社</td>\n      <td>33.0</td>\n      <td>55.00</td>\n    </tr>\n    <tr>\n      <th>...</th>\n      <td>...</td>\n      <td>...</td>\n      <td>...</td>\n      <td>...</td>\n      <td>...</td>\n      <td>...</td>\n      <td>...</td>\n      <td>...</td>\n    </tr>\n    <tr>\n      <th>495</th>\n      <td>496</td>\n      <td>当下的力量（珍藏版）</td>\n      <td>242950</td>\n      <td>99.9</td>\n      <td>埃克哈特.托利</td>\n      <td>中信出版社</td>\n      <td>36.4</td>\n      <td>56.00</td>\n    </tr>\n    <tr>\n      <th>496</th>\n      <td>497</td>\n      <td>奥特曼系列 视觉志:55周年纪念</td>\n      <td>36827</td>\n      <td>100.0</td>\n      <td>上海新创华文化发展有限公司</td>\n      <td>安徽少年儿童出版社</td>\n      <td>49.0</td>\n      <td>70.00</td>\n    </tr>\n    <tr>\n      <th>497</th>\n      <td>498</td>\n      <td>中国传统节日故事自营儿童注音版（美绘大开本）一二三年级儿童文学 小学生课外阅读 全国著名语文...</td>\n      <td>42189</td>\n      <td>100.0</td>\n      <td>金波</td>\n      <td>北京教育出版社</td>\n      <td>23.2</td>\n      <td>25.80</td>\n    </tr>\n    <tr>\n      <th>498</th>\n      <td>499</td>\n      <td>吹牛大王历险记（彩图注音版） 汇聚金波 沈石溪 常新港 冰波 汤素兰等50多位名家名作</td>\n      <td>81926</td>\n      <td>100.0</td>\n      <td>拉斯伯</td>\n      <td>北京教育出版社</td>\n      <td>12.9</td>\n      <td>19.80</td>\n    </tr>\n    <tr>\n      <th>499</th>\n      <td>500</td>\n      <td>怀孕一天一页（第二版）（汉竹）</td>\n      <td>101804</td>\n      <td>100.0</td>\n      <td>马良坤</td>\n      <td>江苏科学技术出版社</td>\n      <td>23.9</td>\n      <td>49.80</td>\n    </tr>\n  </tbody>\n</table>\n<p>500 rows × 8 columns</p>\n</div>"
     },
     "execution_count": 4,
     "metadata": {},
     "output_type": "execute_result"
    }
   ],
   "source": [
    "import pandas as pd\n",
    "\n",
    "pd.read_csv(r'data\\dangdang_books.csv',index_col=False)"
   ]
  }
 ],
 "metadata": {
  "kernelspec": {
   "name": "pytorch",
   "language": "python",
   "display_name": "Pytorch (pytorch)"
  },
  "language_info": {
   "codemirror_mode": {
    "name": "ipython",
    "version": 3
   },
   "file_extension": ".py",
   "mimetype": "text/x-python",
   "name": "python",
   "nbconvert_exporter": "python",
   "pygments_lexer": "ipython3",
   "version": "3.9.7"
  }
 },
 "nbformat": 4,
 "nbformat_minor": 4
}
