{
 "cells": [
  {
   "cell_type": "code",
   "execution_count": 1,
   "metadata": {
    "ExecuteTime": {
     "end_time": "2023-03-16T02:21:37.841858Z",
     "start_time": "2023-03-16T02:21:37.832399Z"
    }
   },
   "outputs": [
    {
     "ename": "SyntaxError",
     "evalue": "invalid syntax (<string>, line 1)",
     "output_type": "error",
     "traceback": [
      "Traceback \u001b[0;36m(most recent call last)\u001b[0m:\n",
      "\u001b[0m  File \u001b[1;32m/opt/conda/lib/python3.9/site-packages/IPython/core/interactiveshell.py:3460\u001b[0m in \u001b[1;35mrun_code\u001b[0m\n    exec(code_obj, self.user_global_ns, self.user_ns)\u001b[0m\n",
      "\u001b[0;36m  Cell \u001b[0;32mIn[1], line 1\u001b[0;36m\n\u001b[0;31m    a, b, c = eval(\"11 25 69\")\u001b[0;36m\n",
      "\u001b[0;36m  File \u001b[0;32m<string>:1\u001b[0;36m\u001b[0m\n\u001b[0;31m    11 25 69\u001b[0m\n\u001b[0m       ^\u001b[0m\n\u001b[0;31mSyntaxError\u001b[0m\u001b[0;31m:\u001b[0m invalid syntax\n"
     ]
    }
   ],
   "source": [
    "a, b, c = eval(\"11 25 69\")\n",
    "d = 1\n",
    "print(a,b,c)"
   ]
  },
  {
   "cell_type": "code",
   "execution_count": 3,
   "metadata": {
    "ExecuteTime": {
     "end_time": "2023-04-05T09:55:52.614657Z",
     "start_time": "2023-04-05T09:55:52.604269Z"
    },
    "pycharm": {
     "name": "#%%\n"
    }
   },
   "outputs": [
    {
     "data": {
      "text/plain": [
       "array([1., 4., 7.], dtype=float32)"
      ]
     },
     "execution_count": 3,
     "metadata": {},
     "output_type": "execute_result"
    }
   ],
   "source": [
    "import numpy\n",
    "numpy.arange(1, 10, 3, dtype=numpy.float32)"
   ]
  },
  {
   "cell_type": "code",
   "execution_count": 6,
   "metadata": {
    "pycharm": {
     "name": "#%%\n"
    }
   },
   "outputs": [
    {
     "data": {
      "text/plain": [
       "array([[ 1,  2,  3,  4],\n",
       "       [ 5,  6,  7,  8],\n",
       "       [ 9, 10, 11, 12]])"
      ]
     },
     "execution_count": 6,
     "metadata": {},
     "output_type": "execute_result"
    }
   ],
   "source": [
    "b = ((1, 2, 3, 4), (5, 6, 7, 8), (9, 10, 11, 12))\n",
    "arr2 = np.array(b)\n",
    "arr2"
   ]
  },
  {
   "cell_type": "code",
   "execution_count": 15,
   "metadata": {
    "pycharm": {
     "name": "#%%\n"
    }
   },
   "outputs": [
    {
     "data": {
      "text/plain": [
       "array([[1.  , 0.5 , 0.2 ],\n",
       "       [0.6 , 0.3 , 0.12],\n",
       "       [0.4 , 0.2 , 0.08],\n",
       "       [0.  , 0.  , 0.  ]])"
      ]
     },
     "execution_count": 15,
     "metadata": {},
     "output_type": "execute_result"
    }
   ],
   "source": [
    "matrix1 = np.array([[1, 0.5, 0.2]])\n",
    "matrix2 = np.array([[1, 0.5, 0, 0], [0.6, 0.3, 0, 0], [0.4, 0.2, 0, 0], [0, 0, 0, 0]])\n",
    "matrix3 = np.array([[1], [0.6], [0.4], [0]])\n",
    "matrix4 = np.array([1, 0.5, 0.2, 0])\n",
    "# result = matrix1 ** 2019 + matrix2 + matrix3 ** 2018\n",
    "result1 = matrix1 * matrix3\n",
    "result1"
   ]
  },
  {
   "cell_type": "code",
   "execution_count": 16,
   "metadata": {
    "pycharm": {
     "name": "#%%\n"
    }
   },
   "outputs": [
    {
     "data": {
      "text/plain": [
       "array([1.25, 0.75, 0.5 , 0.  ])"
      ]
     },
     "execution_count": 16,
     "metadata": {},
     "output_type": "execute_result"
    }
   ],
   "source": [
    "result2 = np.dot(matrix2, matrix4)\n",
    "result2"
   ]
  },
  {
   "cell_type": "code",
   "execution_count": 10,
   "metadata": {
    "pycharm": {
     "name": "#%%\n"
    }
   },
   "outputs": [
    {
     "data": {
      "text/plain": [
       "array([[2, 8, 8, 8, 5],\n",
       "       [1, 7, 6, 8, 9],\n",
       "       [4, 4, 7, 5, 6],\n",
       "       [8, 3, 8, 9, 6],\n",
       "       [5, 1, 5, 8, 3]])"
      ]
     },
     "execution_count": 10,
     "metadata": {},
     "output_type": "execute_result"
    }
   ],
   "source": [
    "arr3 = np.random.randint(1, 10, (5, 5))\n",
    "arr3"
   ]
  },
  {
   "cell_type": "code",
   "execution_count": 11,
   "metadata": {
    "pycharm": {
     "name": "#%%\n"
    }
   },
   "outputs": [
    {
     "data": {
      "text/plain": [
       "array([[1, 0, 0],\n",
       "       [1, 1, 0],\n",
       "       [0, 0, 1]], dtype=int32)"
      ]
     },
     "execution_count": 11,
     "metadata": {},
     "output_type": "execute_result"
    }
   ],
   "source": [
    "arr4 = np.array([[1, 0, 0], [1, 1, 0], [0, 0, 1]])"
   ]
  },
  {
   "cell_type": "code",
   "execution_count": 8,
   "metadata": {
    "pycharm": {
     "name": "#%%\n"
    }
   },
   "outputs": [
    {
     "name": "stdout",
     "output_type": "stream",
     "text": [
      "[[1 2 3 2]\n",
      " [4 5 6 3]\n",
      " [7 8 9 4]\n",
      " [3 5 6 8]]\n"
     ]
    },
    {
     "data": {
      "text/plain": [
       "array([[1, 2, 3, 2],\n",
       "       [0, 5, 6, 3],\n",
       "       [0, 0, 9, 4],\n",
       "       [0, 0, 0, 8]])"
      ]
     },
     "execution_count": 8,
     "metadata": {},
     "output_type": "execute_result"
    }
   ],
   "source": [
    "import numpy as np\n",
    "\n",
    "A = np.array([[1, 2, 3, 2], [4, 5, 6, 3], [7, 8, 9, 4], [3, 5, 6, 8]])\n",
    "upper_A = np.triu(A)\n",
    "print(A)\n",
    "upper_A"
   ]
  },
  {
   "cell_type": "code",
   "execution_count": 10,
   "metadata": {
    "pycharm": {
     "name": "#%%\n"
    }
   },
   "outputs": [
    {
     "data": {
      "text/plain": [
       "array([[1, 0, 0, 0],\n",
       "       [4, 5, 0, 0],\n",
       "       [7, 8, 9, 0],\n",
       "       [3, 5, 6, 8]])"
      ]
     },
     "execution_count": 10,
     "metadata": {},
     "output_type": "execute_result"
    }
   ],
   "source": [
    "Low_A = np.tril(A, 0)\n",
    "Low_A"
   ]
  },
  {
   "cell_type": "code",
   "execution_count": 11,
   "metadata": {
    "pycharm": {
     "name": "#%%\n"
    }
   },
   "outputs": [
    {
     "data": {
      "text/plain": [
       "array([[1, 2, 3, 2],\n",
       "       [4, 5, 6, 3],\n",
       "       [7, 8, 9, 4],\n",
       "       [3, 5, 6, 8]])"
      ]
     },
     "execution_count": 11,
     "metadata": {},
     "output_type": "execute_result"
    }
   ],
   "source": [
    "A = np.array([[1, 2, 3, 2], [4, 5, 6, 3], [7, 8, 9, 4], [3, 5, 6, 8]])\n",
    "A"
   ]
  },
  {
   "cell_type": "code",
   "execution_count": 12,
   "metadata": {
    "pycharm": {
     "name": "#%%\n"
    }
   },
   "outputs": [
    {
     "data": {
      "text/plain": [
       "array([[1, 4, 7, 3],\n",
       "       [2, 5, 8, 5],\n",
       "       [3, 6, 9, 6],\n",
       "       [2, 3, 4, 8]])"
      ]
     },
     "execution_count": 12,
     "metadata": {},
     "output_type": "execute_result"
    }
   ],
   "source": [
    "A.T"
   ]
  },
  {
   "cell_type": "code",
   "execution_count": 21,
   "metadata": {
    "pycharm": {
     "name": "#%%\n"
    }
   },
   "outputs": [
    {
     "name": "stdout",
     "output_type": "stream",
     "text": [
      "创建的方阵arr1:In [[ 2  9  1]\n",
      " [ 4  7  8]\n",
      " [ 3  3 10]]\n"
     ]
    },
    {
     "data": {
      "text/plain": [
       "array([[ 2,  9,  1],\n",
       "       [ 9,  7,  8],\n",
       "       [ 1,  8, 10]])"
      ]
     },
     "execution_count": 21,
     "metadata": {},
     "output_type": "execute_result"
    }
   ],
   "source": [
    "import numpy as np\n",
    "\n",
    "#随机创建一个方阵\n",
    "arr1 = np.random.randint(1, 16, size=[3, 3])\n",
    "#保留其上三角部分\n",
    "arr2 = np.triu(arr1)\n",
    "#生成对称矩阵\n",
    "arr2 += arr2.T - np.diag(np.diag(arr2))\n",
    "print(\"创建的方阵arr1:In\", arr1)\n",
    "arr2"
   ]
  },
  {
   "cell_type": "code",
   "execution_count": 3,
   "metadata": {
    "pycharm": {
     "name": "#%%\n"
    }
   },
   "outputs": [
    {
     "name": "stdout",
     "output_type": "stream",
     "text": [
      "Sigmoid Function Input :: [-1.00000000e+01 -9.90000000e+00 -9.80000000e+00 -9.70000000e+00\n",
      " -9.60000000e+00 -9.50000000e+00 -9.40000000e+00 -9.30000000e+00\n",
      " -9.20000000e+00 -9.10000000e+00 -9.00000000e+00 -8.90000000e+00\n",
      " -8.80000000e+00 -8.70000000e+00 -8.60000000e+00 -8.50000000e+00\n",
      " -8.40000000e+00 -8.30000000e+00 -8.20000000e+00 -8.10000000e+00\n",
      " -8.00000000e+00 -7.90000000e+00 -7.80000000e+00 -7.70000000e+00\n",
      " -7.60000000e+00 -7.50000000e+00 -7.40000000e+00 -7.30000000e+00\n",
      " -7.20000000e+00 -7.10000000e+00 -7.00000000e+00 -6.90000000e+00\n",
      " -6.80000000e+00 -6.70000000e+00 -6.60000000e+00 -6.50000000e+00\n",
      " -6.40000000e+00 -6.30000000e+00 -6.20000000e+00 -6.10000000e+00\n",
      " -6.00000000e+00 -5.90000000e+00 -5.80000000e+00 -5.70000000e+00\n",
      " -5.60000000e+00 -5.50000000e+00 -5.40000000e+00 -5.30000000e+00\n",
      " -5.20000000e+00 -5.10000000e+00 -5.00000000e+00 -4.90000000e+00\n",
      " -4.80000000e+00 -4.70000000e+00 -4.60000000e+00 -4.50000000e+00\n",
      " -4.40000000e+00 -4.30000000e+00 -4.20000000e+00 -4.10000000e+00\n",
      " -4.00000000e+00 -3.90000000e+00 -3.80000000e+00 -3.70000000e+00\n",
      " -3.60000000e+00 -3.50000000e+00 -3.40000000e+00 -3.30000000e+00\n",
      " -3.20000000e+00 -3.10000000e+00 -3.00000000e+00 -2.90000000e+00\n",
      " -2.80000000e+00 -2.70000000e+00 -2.60000000e+00 -2.50000000e+00\n",
      " -2.40000000e+00 -2.30000000e+00 -2.20000000e+00 -2.10000000e+00\n",
      " -2.00000000e+00 -1.90000000e+00 -1.80000000e+00 -1.70000000e+00\n",
      " -1.60000000e+00 -1.50000000e+00 -1.40000000e+00 -1.30000000e+00\n",
      " -1.20000000e+00 -1.10000000e+00 -1.00000000e+00 -9.00000000e-01\n",
      " -8.00000000e-01 -7.00000000e-01 -6.00000000e-01 -5.00000000e-01\n",
      " -4.00000000e-01 -3.00000000e-01 -2.00000000e-01 -1.00000000e-01\n",
      " -3.55271368e-14  1.00000000e-01  2.00000000e-01  3.00000000e-01\n",
      "  4.00000000e-01  5.00000000e-01  6.00000000e-01  7.00000000e-01\n",
      "  8.00000000e-01  9.00000000e-01  1.00000000e+00  1.10000000e+00\n",
      "  1.20000000e+00  1.30000000e+00  1.40000000e+00  1.50000000e+00\n",
      "  1.60000000e+00  1.70000000e+00  1.80000000e+00  1.90000000e+00\n",
      "  2.00000000e+00  2.10000000e+00  2.20000000e+00  2.30000000e+00\n",
      "  2.40000000e+00  2.50000000e+00  2.60000000e+00  2.70000000e+00\n",
      "  2.80000000e+00  2.90000000e+00  3.00000000e+00  3.10000000e+00\n",
      "  3.20000000e+00  3.30000000e+00  3.40000000e+00  3.50000000e+00\n",
      "  3.60000000e+00  3.70000000e+00  3.80000000e+00  3.90000000e+00\n",
      "  4.00000000e+00  4.10000000e+00  4.20000000e+00  4.30000000e+00\n",
      "  4.40000000e+00  4.50000000e+00  4.60000000e+00  4.70000000e+00\n",
      "  4.80000000e+00  4.90000000e+00  5.00000000e+00  5.10000000e+00\n",
      "  5.20000000e+00  5.30000000e+00  5.40000000e+00  5.50000000e+00\n",
      "  5.60000000e+00  5.70000000e+00  5.80000000e+00  5.90000000e+00\n",
      "  6.00000000e+00  6.10000000e+00  6.20000000e+00  6.30000000e+00\n",
      "  6.40000000e+00  6.50000000e+00  6.60000000e+00  6.70000000e+00\n",
      "  6.80000000e+00  6.90000000e+00  7.00000000e+00  7.10000000e+00\n",
      "  7.20000000e+00  7.30000000e+00  7.40000000e+00  7.50000000e+00\n",
      "  7.60000000e+00  7.70000000e+00  7.80000000e+00  7.90000000e+00\n",
      "  8.00000000e+00  8.10000000e+00  8.20000000e+00  8.30000000e+00\n",
      "  8.40000000e+00  8.50000000e+00  8.60000000e+00  8.70000000e+00\n",
      "  8.80000000e+00  8.90000000e+00  9.00000000e+00  9.10000000e+00\n",
      "  9.20000000e+00  9.30000000e+00  9.40000000e+00  9.50000000e+00\n",
      "  9.60000000e+00  9.70000000e+00  9.80000000e+00  9.90000000e+00]\n",
      "Sigmoid Function Output :: [4.53978687e-05 5.01721647e-05 5.54485247e-05 6.12797396e-05\n",
      " 6.77241496e-05 7.48462275e-05 8.27172229e-05 9.14158739e-05\n",
      " 1.01029194e-04 1.11653341e-04 1.23394576e-04 1.36370327e-04\n",
      " 1.50710358e-04 1.66558065e-04 1.84071905e-04 2.03426978e-04\n",
      " 2.24816770e-04 2.48455082e-04 2.74578156e-04 3.03447030e-04\n",
      " 3.35350130e-04 3.70606141e-04 4.09567165e-04 4.52622223e-04\n",
      " 5.00201107e-04 5.52778637e-04 6.10879359e-04 6.75082731e-04\n",
      " 7.46028834e-04 8.24424686e-04 9.11051194e-04 1.00677082e-03\n",
      " 1.11253603e-03 1.22939862e-03 1.35851995e-03 1.50118226e-03\n",
      " 1.65880108e-03 1.83293894e-03 2.02532039e-03 2.23784852e-03\n",
      " 2.47262316e-03 2.73196076e-03 3.01841632e-03 3.33480731e-03\n",
      " 3.68423990e-03 4.07013772e-03 4.49627316e-03 4.96680165e-03\n",
      " 5.48629890e-03 6.05980149e-03 6.69285092e-03 7.39154134e-03\n",
      " 8.16257115e-03 9.01329865e-03 9.95180187e-03 1.09869426e-02\n",
      " 1.21284350e-02 1.33869178e-02 1.47740317e-02 1.63024994e-02\n",
      " 1.79862100e-02 1.98403057e-02 2.18812709e-02 2.41270214e-02\n",
      " 2.65969936e-02 2.93122308e-02 3.22954647e-02 3.55711893e-02\n",
      " 3.91657228e-02 4.31072549e-02 4.74258732e-02 5.21535631e-02\n",
      " 5.73241759e-02 6.29733561e-02 6.91384203e-02 7.58581800e-02\n",
      " 8.31726965e-02 9.11229610e-02 9.97504891e-02 1.09096821e-01\n",
      " 1.19202922e-01 1.30108474e-01 1.41851065e-01 1.54465265e-01\n",
      " 1.67981615e-01 1.82425524e-01 1.97816111e-01 2.14165017e-01\n",
      " 2.31475217e-01 2.49739894e-01 2.68941421e-01 2.89050497e-01\n",
      " 3.10025519e-01 3.31812228e-01 3.54343694e-01 3.77540669e-01\n",
      " 4.01312340e-01 4.25557483e-01 4.50166003e-01 4.75020813e-01\n",
      " 5.00000000e-01 5.24979187e-01 5.49833997e-01 5.74442517e-01\n",
      " 5.98687660e-01 6.22459331e-01 6.45656306e-01 6.68187772e-01\n",
      " 6.89974481e-01 7.10949503e-01 7.31058579e-01 7.50260106e-01\n",
      " 7.68524783e-01 7.85834983e-01 8.02183889e-01 8.17574476e-01\n",
      " 8.32018385e-01 8.45534735e-01 8.58148935e-01 8.69891526e-01\n",
      " 8.80797078e-01 8.90903179e-01 9.00249511e-01 9.08877039e-01\n",
      " 9.16827304e-01 9.24141820e-01 9.30861580e-01 9.37026644e-01\n",
      " 9.42675824e-01 9.47846437e-01 9.52574127e-01 9.56892745e-01\n",
      " 9.60834277e-01 9.64428811e-01 9.67704535e-01 9.70687769e-01\n",
      " 9.73403006e-01 9.75872979e-01 9.78118729e-01 9.80159694e-01\n",
      " 9.82013790e-01 9.83697501e-01 9.85225968e-01 9.86613082e-01\n",
      " 9.87871565e-01 9.89013057e-01 9.90048198e-01 9.90986701e-01\n",
      " 9.91837429e-01 9.92608459e-01 9.93307149e-01 9.93940199e-01\n",
      " 9.94513701e-01 9.95033198e-01 9.95503727e-01 9.95929862e-01\n",
      " 9.96315760e-01 9.96665193e-01 9.96981584e-01 9.97268039e-01\n",
      " 9.97527377e-01 9.97762151e-01 9.97974680e-01 9.98167061e-01\n",
      " 9.98341199e-01 9.98498818e-01 9.98641480e-01 9.98770601e-01\n",
      " 9.98887464e-01 9.98993229e-01 9.99088949e-01 9.99175575e-01\n",
      " 9.99253971e-01 9.99324917e-01 9.99389121e-01 9.99447221e-01\n",
      " 9.99499799e-01 9.99547378e-01 9.99590433e-01 9.99629394e-01\n",
      " 9.99664650e-01 9.99696553e-01 9.99725422e-01 9.99751545e-01\n",
      " 9.99775183e-01 9.99796573e-01 9.99815928e-01 9.99833442e-01\n",
      " 9.99849290e-01 9.99863630e-01 9.99876605e-01 9.99888347e-01\n",
      " 9.99898971e-01 9.99908584e-01 9.99917283e-01 9.99925154e-01\n",
      " 9.99932276e-01 9.99938720e-01 9.99944551e-01 9.99949828e-01]\n"
     ]
    },
    {
     "name": "stderr",
     "output_type": "stream",
     "text": [
      "C:\\Users\\Admin\\AppData\\Local\\Temp\\ipykernel_14756\\2013056068.py:9: RuntimeWarning: divide by zero encountered in true_divide\n",
      "  return 1.0 / (1 + np.exp(-x))\n"
     ]
    },
    {
     "data": {
      "image/png": "[encoded data removed]",
      "text/plain": [
       "<Figure size 432x288 with 1 Axes>"
      ]
     },
     "metadata": {},
     "output_type": "display_data"
    }
   ],
   "source": [
    "import numpy as np\n",
    "import matplotlib.pyplot as plt\n",
    "import seaborn as sns\n",
    "\n",
    "sns.set()\n",
    "\n",
    "\n",
    "def sigmoid(x):\n",
    "    return 1.0 / (1 + np.exp(-x))\n",
    "\n",
    "\n",
    "sigmoid_inputs = np.arange(-10, 10, 0.1)\n",
    "sigmoid_outputs = sigmoid(sigmoid_inputs)\n",
    "print(\"Sigmoid Function Input :: {}\".format(sigmoid_inputs))\n",
    "print(\"Sigmoid Function Output :: {}\".format(sigmoid_outputs))\n",
    "\n",
    "plt.plot(sigmoid_inputs, sigmoid_outputs)\n",
    "plt.xlabel(\"Sigmoid Inputs\")\n",
    "plt.ylabel(\"Sigmoid Outputs\")\n",
    "plt.show()"
   ]
  },
  {
   "cell_type": "code",
   "execution_count": null,
   "metadata": {
    "pycharm": {
     "name": "#%%\n"
    }
   },
   "outputs": [],
   "source": []
  },
  {
   "cell_type": "markdown",
   "metadata": {
    "pycharm": {
     "name": "#%% md\n"
    }
   },
   "source": [
    "## 1"
   ]
  },
  {
   "cell_type": "code",
   "execution_count": 1,
   "metadata": {
    "ExecuteTime": {
     "end_time": "2022-07-15T02:57:40.608778Z",
     "start_time": "2022-07-15T02:57:40.014459Z"
    },
    "pycharm": {
     "name": "#%%\n"
    }
   },
   "outputs": [
    {
     "ename": "NameError",
     "evalue": "name 'interact' is not defined",
     "output_type": "error",
     "traceback": [
      "\u001b[0;31m---------------------------------------------------------------------------\u001b[0m",
      "\u001b[0;31mNameError\u001b[0m                                 Traceback (most recent call last)",
      "Input \u001b[0;32mIn [1]\u001b[0m, in \u001b[0;36m<cell line: 4>\u001b[0;34m()\u001b[0m\n\u001b[1;32m      2\u001b[0m  \u001b[38;5;28;01mreturn\u001b[39;00m x\n\u001b[1;32m      3\u001b[0m \u001b[38;5;66;03m# Generate a slider \u001b[39;00m\n\u001b[0;32m----> 4\u001b[0m \u001b[43minteract\u001b[49m(f, x\u001b[38;5;241m=\u001b[39m\u001b[38;5;241m10\u001b[39m,)\n",
      "\u001b[0;31mNameError\u001b[0m: name 'interact' is not defined"
     ]
    }
   ],
   "source": []
  }
 ],
 "metadata": {
  "kernelspec": {
   "display_name": "Python 3 (ipykernel)",
   "language": "python",
   "name": "python3"
  },
  "language_info": {
   "codemirror_mode": {
    "name": "ipython",
    "version": 3
   },
   "file_extension": ".py",
   "mimetype": "text/x-python",
   "name": "python",
   "nbconvert_exporter": "python",
   "pygments_lexer": "ipython3",
   "version": "3.9.12"
  },
  "toc": {
   "base_numbering": 1,
   "nav_menu": {},
   "number_sections": true,
   "sideBar": true,
   "skip_h1_title": false,
   "title_cell": "Table of Contents",
   "title_sidebar": "Contents",
   "toc_cell": false,
   "toc_position": {},
   "toc_section_display": true,
   "toc_window_display": false
  }
 },
 "nbformat": 4,
 "nbformat_minor": 1
}
