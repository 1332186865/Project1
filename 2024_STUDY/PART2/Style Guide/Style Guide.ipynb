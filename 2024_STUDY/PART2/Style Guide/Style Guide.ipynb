{
 "cells": [
  {
   "cell_type": "code",
   "execution_count": 16,
   "id": "ab77a6b4-be91-44bf-860e-c71911f6f585",
   "metadata": {},
   "outputs": [],
   "source": [
    "#  -*- coding=utf-8 -*-\n",
    "import re\n",
    "\n",
    "\n",
    "class StyleGuide:\n",
    "    def __init__(self, file_dir_1, file_dir_2):\n",
    "        self.original_dir = file_dir_1\n",
    "        self.final_dir = file_dir_2\n",
    "        self._data = None\n",
    "        # self.brackets_pattern = re.compile(r\"\"\"(\\([^（）]*?\\))   #()\n",
    "        #                                         |(（[^()]*?）)    #（）\n",
    "        #                                         |(\\([^（）]*?）)  #(）\n",
    "        #                                         |(（[^()]*?\\))   #（)\n",
    "        #                                     \"\"\", re.S | re.M | re.X)\n",
    "        self.brackets_pattern = re.compile(r\"\"\"(\\(.*?\\))   #()\n",
    "                                                |(（.*?）)    #（）\n",
    "                                                |(\\(.*?）)  #(）\n",
    "                                                |(（.*?\\))   #（)\n",
    "                                            \"\"\", re.S | re.M | re.X)\n",
    "        # self.english_pattern = re.compile(r\"^[\\u0021-\\u0027\\u002A-\\u007E\\u00A1-\\u02AF\\s]+$\", re.S | re.M)\n",
    "        self.english_pattern = re.compile(r\"^[^\\u4E00-\\u9FA5]+$\", re.S | re.M)\n",
    "        self.chinese_pattern = re.compile(r\"[\\u4E00-\\u9FA5]+\", re.S | re.M)\n",
    "        self.english = \"[\\u0021-\\u0025\\u002A-\\u003A\\u003F-\\u007E\\u00A1-\\u02AF=']\"\n",
    "        # self.english = \"[A-Za-z0-9\\u00C0-\\u00FF\\u0100-\\u02AF®-]\"\n",
    "        self.chinese = \"[\\u4E00-\\u9FA5]\"\n",
    "        self.Chinese_punctuation = \"[，。！？：；“”（）《》、]\"\n",
    "        self._load_file()\n",
    "\n",
    "    def _load_file(self):\n",
    "        \"\"\"加载文件\"\"\"\n",
    "        with open(self.original_dir, 'r', encoding=\"utf-8\") as file_1:\n",
    "            self._data = file_1.read()\n",
    "\n",
    "    def _save_file(self):\n",
    "        \"\"\"保存修改后的文件\"\"\"\n",
    "        with open(self.final_dir, 'w', encoding=\"utf-8\") as file_2:\n",
    "            file_2.write(self._data)\n",
    "\n",
    "    def _find_target(self):\n",
    "        \"\"\"寻找需要修改的字符串（不修改Segment History）\"\"\"\n",
    "        target_pattern = re.compile(r\"(</source>\\n<target[^>]*>)(.*?)(</target>)\", re.M | re.S)\n",
    "        matches = re.finditer(target_pattern, self._data)\n",
    "        for match in matches:\n",
    "            start_tag = match.group(1)\n",
    "            target_content = match.group(2)\n",
    "            end_tag = match.group(3)\n",
    "            yield start_tag, target_content, end_tag\n",
    "\n",
    "    def _for_loop(func):\n",
    "        \"\"\"代码复用\"\"\"\n",
    "\n",
    "        def wrapper(self):\n",
    "            for start_tag, target_content, end_tag in self._find_target():\n",
    "                original_content = target_content\n",
    "                data = func(self, target_content)\n",
    "                self._data = self._data.replace(f\"{start_tag}{original_content}{end_tag}\",\n",
    "                                                f\"{start_tag}{data}{end_tag}\")\n",
    "\n",
    "        return wrapper\n",
    "\n",
    "    @_for_loop\n",
    "    def _correct_spaces(self, target_content):\n",
    "        \"\"\"处理中文译文中不规范的空格，包括处理标签内的内容\"\"\"\n",
    "        parts = re.split(r\"(<[^>]+>)\", target_content, re.S + re.M)\n",
    "        processed_parts = []\n",
    "        for part in parts:  # 通过<tag>分割<target>的内容\n",
    "            part = part.strip(r\" \")\n",
    "            if not re.match(r\"<[^>]+>\", part):  # 删去<tag>之间的空格\n",
    "                if part.strip(r\" \") == \"\":\n",
    "                    continue\n",
    "                part = re.sub(rf\"({self.chinese})({self.english})\", r\"\\1 \\2\",\n",
    "                              part, 0, re.M)\n",
    "                part = re.sub(rf\"({self.english})({self.chinese})\", r\"\\1 \\2\",\n",
    "                              part, 0, re.M)\n",
    "            processed_parts.append(part)\n",
    "\n",
    "        text = ''.join(processed_parts)\n",
    "        # 将空格统一加在字母/数字前\n",
    "        text = re.sub(rf\"([\\u4E00-\\u9FA5])(<.*?>)({self.english}|\\()\", r\"\\1\\2 \\3\",\n",
    "                      text, 0, re.M)\n",
    "        text = re.sub(rf\"({self.english}|\\))(<.*?>)([\\u4E00-\\u9FA5])\", r\"\\1 \\2\\3\",\n",
    "                      text, 0, re.M)\n",
    "        # 处理<tag>前后都是字母/数字的情况\n",
    "        target_content = re.sub(rf\"({self.english})(<.*?>)({self.english})\",\n",
    "                r\"\\1 \\2\\3\", text, 0, re.S | re.M)\n",
    "        # 处理英文括号可能是单位的情况\n",
    "        target_content = re.sub(r\"([0-9]) (\\()\", r\"\\1\\2\", text, 0, re.S | re.M)\n",
    "        return target_content\n",
    "\n",
    "    @_for_loop\n",
    "    def _correct_brackets(self, target_content):\n",
    "        \"\"\"处理中文译文中不规范的括号，只针对<target>标签内的内容，同时保留任何属性\"\"\"\n",
    "        for item in re.finditer(self.brackets_pattern, target_content):\n",
    "            original_text = item.group(0)\n",
    "            content = original_text.strip(\"()（）\")\n",
    "\n",
    "            for item_2 in re.finditer(self.brackets_pattern, content):\n",
    "                original_text_2 = item_2.group(0)\n",
    "                content_2 = original_text_2.strip(\"()（）\")\n",
    "                if self.chinese_pattern.search(content_2):\n",
    "                    corrected_text_2 = f'（{content_2}）'\n",
    "                    content = content.replace(original_text_2, corrected_text_2)\n",
    "                elif self.english_pattern.search(content_2):\n",
    "                    corrected_text_2 = f' ({content_2}) '\n",
    "                    content = content.replace(original_text_2, corrected_text_2)\n",
    "\n",
    "            if self.chinese_pattern.search(content):\n",
    "                corrected_text = f'（{content}）'\n",
    "                target_content = target_content.replace(original_text, corrected_text)\n",
    "            elif self.english_pattern.search(content):\n",
    "                corrected_text = f' ({content}) '\n",
    "                target_content = target_content.replace(original_text, corrected_text)\n",
    "\n",
    "\n",
    "        # 删除英文括号两边多余的空格\n",
    "        target_content = re.sub(r\"(\\s+)(\\s[()])\", r\"\\2\", target_content, 0, re.S | re.M)\n",
    "        target_content = re.sub(r\"([()]\\s)(\\s+)\", r\"\\1\", target_content, 0, re.S | re.M)\n",
    "        # 删除中文标点符号两段的空格\n",
    "        target_content = re.sub(fr\"([ \\r\\f\\v]+)(<.*?>)({self.Chinese_punctuation})\", r\"\\2\\3\", target_content,\n",
    "                                0, re.S | re.M)\n",
    "        target_content = re.sub(fr\"({self.Chinese_punctuation})(<.*?>)([ \\r\\f\\v]+)\", r\"\\1\\2\", target_content,\n",
    "                                0, re.S | re.M)\n",
    "        target_content = re.sub(fr\"([ \\r\\f\\v]+)({self.Chinese_punctuation})\", r\"\\2\", target_content,\n",
    "                                0, re.S | re.M)\n",
    "        target_content = re.sub(fr\"({self.Chinese_punctuation})([ \\r\\f\\v]+)\", r\"\\1\", target_content,\n",
    "                                0, re.S | re.M)\n",
    "\n",
    "        return target_content\n",
    "\n",
    "    def _action(self, action):\n",
    "        if action == \"1\":\n",
    "            self._correct_spaces()\n",
    "        elif action == \"2\":\n",
    "            self._correct_brackets()\n",
    "        elif action == \"3\":\n",
    "            self._correct_spaces()\n",
    "            self._correct_brackets()\n",
    "            self._correct_spaces()\n",
    "        else:\n",
    "            raise SystemExit\n",
    "\n",
    "    def main(self):\n",
    "        \"\"\"主函数\"\"\"\n",
    "        action = input(\"输入数字选择操作：\\n1.空格处理\\n2.括号处理\\n3.全部处理\\n\")\n",
    "        self._action(action)\n",
    "        self._save_file()\n",
    "        print(\"Done!\")"
   ]
  },
  {
   "cell_type": "code",
   "execution_count": 17,
   "id": "601af8a2-da13-4e12-afe0-83ae8b3565bb",
   "metadata": {},
   "outputs": [
    {
     "name": "stdin",
     "output_type": "stream",
     "text": [
      "输入数字选择操作：\n",
      "1.空格处理\n",
      "2.括号处理\n",
      "3.全部处理\n",
      " 3\n"
     ]
    },
    {
     "name": "stdout",
     "output_type": "stream",
     "text": [
      "Done!\n"
     ]
    }
   ],
   "source": [
    "file = \"./test.txlf\"\n",
    "output = \"./test_output.txlf\"\n",
    "StyleGuide(file, output).main()"
   ]
  },
  {
   "cell_type": "code",
   "execution_count": 14,
   "id": "33c8160e-6677-471e-a232-51d15bc9245d",
   "metadata": {},
   "outputs": [
    {
     "name": "stdin",
     "output_type": "stream",
     "text": [
      "输入数字选择操作：\n",
      "1.空格处理\n",
      "2.括号处理\n",
      "3.全部处理\n",
      " 3\n"
     ]
    },
    {
     "name": "stdout",
     "output_type": "stream",
     "text": [
      "Done!\n"
     ]
    }
   ],
   "source": [
    "file = \"./orig.txlf\"\n",
    "output = \"./orig_output.txlf\"\n",
    "StyleGuide(file, output).main()"
   ]
  },
  {
   "cell_type": "code",
   "execution_count": null,
   "id": "e90258cc-2625-4446-b717-f9d9c129f0e7",
   "metadata": {},
   "outputs": [],
   "source": [
    "import re\n",
    "\n",
    "target_content = ') <ex id=\"8\" rid=\"3\"/><ph ctype=\"x-fieldEnd\" id=\"9\" gs4tr:required=\"true\">&lt;fieldEnd type=\"88\" value=\"\" position=\"7\" movable=\"false\"/&gt; </ph><ept id=\"10\" rid=\"1\">&lt;/fontFormat&gt; </ept>，'\n",
    "Chinese_punctuation = \"[，。！？：；“”（）《》、]\"\n",
    "pattern = fr\"([ \\r\\f\\v]+)(<.*?>)({Chinese_punctuation})\"\n",
    "new_content = re.sub(pattern, r\"\\2\\3\", target_content, flags=re.M)\n",
    "print(new_content)"
   ]
  },
  {
   "cell_type": "code",
   "execution_count": null,
   "id": "bc359a13-3c91-4c8c-9f57-fedc17b18841",
   "metadata": {},
   "outputs": [],
   "source": [
    "english = \"[\\u0021-\\u0025\\u002A-\\u003A\\u003F-\\u007E\\u00A1-\\u02AF=']\"\n",
    "        # self.english = \"[A-Za-z0-9\\u00C0-\\u00FF\\u0100-\\u02AF®-]\"\n",
    "chinese = \"[\\u4E00-\\u9FA5]\"\n",
    "text0 = '''</source>\n",
    "<target gs4tr:seginfo=\"&lt;root username=&quot;successglo_proof&quot; timestamp=&quot;20240729T011424Z&quot; tool-name=&quot;TSO&quot; tool-version=&quot;9.6.0&quot; set=&quot;2A&quot;/&gt;\" gs4tr:score=\"98\" gs4tr:repscore=\"80\" state=\"translated\" state-qualifier=\"fuzzy-match\" gs4tr:engine=\"103\" phase-name=\"Proof2-1\">在全球范围内支撑的就业岗位达到<bx ctype=\"bold\" id=\"1\" rid=\"1\"/>114816<ex id=\"2\" rid=\"1\"/>个。<ph ctype=\"x-footnote\" id=\"3\">&lt;footnote position=\"2\"/&gt;</ph></target>'''\n",
    "text = re.sub(rf\"({english}|'\\)')(<.*?>)({chinese})\", r\"\\1 \\2\\3\",\n",
    "                      text0, 0, re.M)\n",
    "text"
   ]
  },
  {
   "cell_type": "code",
   "execution_count": null,
   "id": "dc6d20da-632f-42c8-b9fd-e0d5e5ba0d74",
   "metadata": {},
   "outputs": [],
   "source": [
    "text= r\"(Minority Enterprise Development (MED) Week 2023)\"\n",
    "a = re.match(r'\\(([^()]*|\\((?:[^()]|\\([^()]*\\))*\\))*\\)|（([^（）]*|（(?:[^（）]|（[^（）]*）)*）)*）', text)\n",
    "print(a)"
   ]
  }
 ],
 "metadata": {
  "kernelspec": {
   "display_name": "Python 3 (ipykernel)",
   "language": "python",
   "name": "python3"
  },
  "language_info": {
   "codemirror_mode": {
    "name": "ipython",
    "version": 3
   },
   "file_extension": ".py",
   "mimetype": "text/x-python",
   "name": "python",
   "nbconvert_exporter": "python",
   "pygments_lexer": "ipython3",
   "version": "3.9.12"
  },
  "widgets": {
   "application/vnd.jupyter.widget-state+json": {
    "state": {},
    "version_major": 2,
    "version_minor": 0
   }
  }
 },
 "nbformat": 4,
 "nbformat_minor": 5
}
