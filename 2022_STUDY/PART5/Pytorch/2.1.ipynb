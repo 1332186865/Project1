{
 "cells": [
  {
   "cell_type": "code",
   "execution_count": 1,
   "outputs": [],
   "source": [
    "import math\n",
    "\n",
    "import torch"
   ],
   "metadata": {
    "collapsed": false,
    "pycharm": {
     "name": "#%%\n"
    }
   }
  },
  {
   "cell_type": "code",
   "execution_count": 2,
   "outputs": [
    {
     "data": {
      "text/plain": "tensor([ 0,  1,  2,  3,  4,  5,  6,  7,  8,  9, 10, 11])"
     },
     "execution_count": 2,
     "metadata": {},
     "output_type": "execute_result"
    }
   ],
   "source": [
    "x = torch.arange(12)\n",
    "x"
   ],
   "metadata": {
    "collapsed": false,
    "pycharm": {
     "name": "#%%\n"
    }
   }
  },
  {
   "cell_type": "code",
   "execution_count": 3,
   "outputs": [
    {
     "data": {
      "text/plain": "torch.Size([12])"
     },
     "execution_count": 3,
     "metadata": {},
     "output_type": "execute_result"
    }
   ],
   "source": [
    "x.shape"
   ],
   "metadata": {
    "collapsed": false,
    "pycharm": {
     "name": "#%%\n"
    }
   }
  },
  {
   "cell_type": "code",
   "execution_count": 5,
   "outputs": [
    {
     "data": {
      "text/plain": "torch.Size([12])"
     },
     "execution_count": 5,
     "metadata": {},
     "output_type": "execute_result"
    }
   ],
   "source": [
    "x.size()"
   ],
   "metadata": {
    "collapsed": false,
    "pycharm": {
     "name": "#%%\n"
    }
   }
  },
  {
   "cell_type": "code",
   "execution_count": 7,
   "outputs": [
    {
     "data": {
      "text/plain": "12"
     },
     "execution_count": 7,
     "metadata": {},
     "output_type": "execute_result"
    }
   ],
   "source": [
    "x.numel()"
   ],
   "metadata": {
    "collapsed": false,
    "pycharm": {
     "name": "#%%\n"
    }
   }
  },
  {
   "cell_type": "code",
   "execution_count": 8,
   "outputs": [
    {
     "data": {
      "text/plain": "array([ 0,  1,  2,  3,  4,  5,  6,  7,  8,  9, 10, 11], dtype=int64)"
     },
     "execution_count": 8,
     "metadata": {},
     "output_type": "execute_result"
    }
   ],
   "source": [
    "x.numpy()"
   ],
   "metadata": {
    "collapsed": false,
    "pycharm": {
     "name": "#%%\n"
    }
   }
  },
  {
   "cell_type": "code",
   "execution_count": 12,
   "outputs": [],
   "source": [
    "X = x.reshape(3, 4)"
   ],
   "metadata": {
    "collapsed": false,
    "pycharm": {
     "name": "#%%\n"
    }
   }
  },
  {
   "cell_type": "code",
   "execution_count": 13,
   "outputs": [
    {
     "data": {
      "text/plain": "torch.Size([3, 4])"
     },
     "execution_count": 13,
     "metadata": {},
     "output_type": "execute_result"
    }
   ],
   "source": [
    "X.size()"
   ],
   "metadata": {
    "collapsed": false,
    "pycharm": {
     "name": "#%%\n"
    }
   }
  },
  {
   "cell_type": "code",
   "execution_count": 14,
   "outputs": [
    {
     "data": {
      "text/plain": "torch.Size([3, 4])"
     },
     "execution_count": 14,
     "metadata": {},
     "output_type": "execute_result"
    }
   ],
   "source": [
    "X.shape"
   ],
   "metadata": {
    "collapsed": false,
    "pycharm": {
     "name": "#%%\n"
    }
   }
  },
  {
   "cell_type": "code",
   "execution_count": 15,
   "outputs": [
    {
     "data": {
      "text/plain": "tensor([[ 0,  1,  2,  3],\n        [ 4,  5,  6,  7],\n        [ 8,  9, 10, 11]])"
     },
     "execution_count": 15,
     "metadata": {},
     "output_type": "execute_result"
    }
   ],
   "source": [
    "X"
   ],
   "metadata": {
    "collapsed": false,
    "pycharm": {
     "name": "#%%\n"
    }
   }
  },
  {
   "cell_type": "code",
   "execution_count": 17,
   "outputs": [
    {
     "data": {
      "text/plain": "tensor([[[0., 0., 0., 0.],\n         [0., 0., 0., 0.],\n         [0., 0., 0., 0.]],\n\n        [[0., 0., 0., 0.],\n         [0., 0., 0., 0.],\n         [0., 0., 0., 0.]]])"
     },
     "execution_count": 17,
     "metadata": {},
     "output_type": "execute_result"
    }
   ],
   "source": [
    "torch.zeros((2, 3, 4))"
   ],
   "metadata": {
    "collapsed": false,
    "pycharm": {
     "name": "#%%\n"
    }
   }
  },
  {
   "cell_type": "code",
   "execution_count": 18,
   "outputs": [
    {
     "data": {
      "text/plain": "tensor([[[1., 1., 1., 1.],\n         [1., 1., 1., 1.],\n         [1., 1., 1., 1.]],\n\n        [[1., 1., 1., 1.],\n         [1., 1., 1., 1.],\n         [1., 1., 1., 1.]]])"
     },
     "execution_count": 18,
     "metadata": {},
     "output_type": "execute_result"
    }
   ],
   "source": [
    "torch.ones((2, 3, 4))"
   ],
   "metadata": {
    "collapsed": false,
    "pycharm": {
     "name": "#%%\n"
    }
   }
  },
  {
   "cell_type": "code",
   "execution_count": 19,
   "outputs": [
    {
     "data": {
      "text/plain": "(tensor([ 3.,  4.,  6., 10.]),\n tensor([-1.,  0.,  2.,  6.]),\n tensor([ 2.,  4.,  8., 16.]),\n tensor([0.5000, 1.0000, 2.0000, 4.0000]),\n tensor([ 1.,  4., 16., 64.]))"
     },
     "execution_count": 19,
     "metadata": {},
     "output_type": "execute_result"
    }
   ],
   "source": [
    "x = torch.tensor([1.0, 2, 4, 8])\n",
    "y = torch.tensor([2, 2, 2, 2])\n",
    "x + y, x - y, x * y, x / y, x ** y"
   ],
   "metadata": {
    "collapsed": false,
    "pycharm": {
     "name": "#%%\n"
    }
   }
  },
  {
   "cell_type": "code",
   "execution_count": 21,
   "outputs": [
    {
     "data": {
      "text/plain": "tensor([7.3891, 7.3891, 7.3891, 7.3891])"
     },
     "execution_count": 21,
     "metadata": {},
     "output_type": "execute_result"
    }
   ],
   "source": [
    "torch.exp(y)"
   ],
   "metadata": {
    "collapsed": false,
    "pycharm": {
     "name": "#%%\n"
    }
   }
  },
  {
   "cell_type": "code",
   "execution_count": 23,
   "outputs": [
    {
     "data": {
      "text/plain": "tensor([[ 0.,  1.,  2.,  3.],\n        [ 4.,  5.,  6.,  7.],\n        [ 8.,  9., 10., 11.]])"
     },
     "execution_count": 23,
     "metadata": {},
     "output_type": "execute_result"
    }
   ],
   "source": [
    "X = torch.arange(12, dtype=torch.float32).reshape((3, 4))\n",
    "X"
   ],
   "metadata": {
    "collapsed": false,
    "pycharm": {
     "name": "#%%\n"
    }
   }
  },
  {
   "cell_type": "code",
   "execution_count": 24,
   "outputs": [
    {
     "data": {
      "text/plain": "tensor([[2., 1., 4., 3.],\n        [1., 2., 3., 4.],\n        [4., 3., 2., 1.]])"
     },
     "execution_count": 24,
     "metadata": {},
     "output_type": "execute_result"
    }
   ],
   "source": [
    "Y = torch.tensor([[2.0, 1, 4, 3], [1, 2, 3, 4], [4, 3, 2, 1]])\n",
    "Y"
   ],
   "metadata": {
    "collapsed": false,
    "pycharm": {
     "name": "#%%\n"
    }
   }
  },
  {
   "cell_type": "code",
   "execution_count": 25,
   "outputs": [
    {
     "data": {
      "text/plain": "tensor([[False,  True, False,  True],\n        [False, False, False, False],\n        [False, False, False, False]])"
     },
     "execution_count": 25,
     "metadata": {},
     "output_type": "execute_result"
    }
   ],
   "source": [
    "X == Y"
   ],
   "metadata": {
    "collapsed": false,
    "pycharm": {
     "name": "#%%\n"
    }
   }
  },
  {
   "cell_type": "code",
   "execution_count": 34,
   "outputs": [
    {
     "data": {
      "text/plain": "(tensor(66.), tensor(30.))"
     },
     "execution_count": 34,
     "metadata": {},
     "output_type": "execute_result"
    }
   ],
   "source": [
    "X.sum(), Y.sum()"
   ],
   "metadata": {
    "collapsed": false,
    "pycharm": {
     "name": "#%%\n"
    }
   }
  },
  {
   "cell_type": "code",
   "execution_count": 36,
   "outputs": [
    {
     "data": {
      "text/plain": "(tensor([[0],\n         [1],\n         [2]]),\n tensor([[0, 1]]))"
     },
     "execution_count": 36,
     "metadata": {},
     "output_type": "execute_result"
    }
   ],
   "source": [
    "a = torch.arange(3).reshape((3, 1))\n",
    "b = torch.arange(2).reshape((1, 2))\n",
    "a, b"
   ],
   "metadata": {
    "collapsed": false,
    "pycharm": {
     "name": "#%%\n"
    }
   }
  },
  {
   "cell_type": "code",
   "execution_count": 38,
   "outputs": [
    {
     "data": {
      "text/plain": "tensor([[0, 1],\n        [1, 2],\n        [2, 3]])"
     },
     "execution_count": 38,
     "metadata": {},
     "output_type": "execute_result"
    }
   ],
   "source": [
    "a + b"
   ],
   "metadata": {
    "collapsed": false,
    "pycharm": {
     "name": "#%%\n"
    }
   }
  },
  {
   "cell_type": "code",
   "execution_count": 41,
   "outputs": [
    {
     "data": {
      "text/plain": "tensor([[0, 0],\n        [0, 1],\n        [0, 2]])"
     },
     "execution_count": 41,
     "metadata": {},
     "output_type": "execute_result"
    }
   ],
   "source": [
    "a * b"
   ],
   "metadata": {
    "collapsed": false,
    "pycharm": {
     "name": "#%%\n"
    }
   }
  },
  {
   "cell_type": "code",
   "execution_count": 44,
   "outputs": [
    {
     "data": {
      "text/plain": "(tensor([ 8.,  9., 10., 11.]),\n tensor([[ 4.,  5.,  6.,  7.],\n         [ 8.,  9., 10., 11.]]))"
     },
     "execution_count": 44,
     "metadata": {},
     "output_type": "execute_result"
    }
   ],
   "source": [
    "X[-1], X[1: 3]"
   ],
   "metadata": {
    "collapsed": false,
    "pycharm": {
     "name": "#%%\n"
    }
   }
  },
  {
   "cell_type": "code",
   "execution_count": 47,
   "outputs": [
    {
     "data": {
      "text/plain": "tensor([[ 0.,  1.,  2.,  3.],\n        [ 4., 10.,  6.,  7.],\n        [ 8.,  9., 10., 11.]])"
     },
     "execution_count": 47,
     "metadata": {},
     "output_type": "execute_result"
    }
   ],
   "source": [
    "X[1, 1] = 10\n",
    "X"
   ],
   "metadata": {
    "collapsed": false,
    "pycharm": {
     "name": "#%%\n"
    }
   }
  },
  {
   "cell_type": "code",
   "execution_count": 48,
   "outputs": [
    {
     "data": {
      "text/plain": "tensor([[  0.,   1.,   2.,   3.],\n        [100., 100., 100., 100.],\n        [  8.,   9.,  10.,  11.]])"
     },
     "execution_count": 48,
     "metadata": {},
     "output_type": "execute_result"
    }
   ],
   "source": [
    "X[1:2, :] = 100\n",
    "X"
   ],
   "metadata": {
    "collapsed": false,
    "pycharm": {
     "name": "#%%\n"
    }
   }
  },
  {
   "cell_type": "code",
   "execution_count": 49,
   "outputs": [
    {
     "data": {
      "text/plain": "False"
     },
     "execution_count": 49,
     "metadata": {},
     "output_type": "execute_result"
    }
   ],
   "source": [
    "before = id(Y)\n",
    "Y = Y + X\n",
    "id(Y) == before"
   ],
   "metadata": {
    "collapsed": false,
    "pycharm": {
     "name": "#%%\n"
    }
   }
  },
  {
   "cell_type": "code",
   "execution_count": 58,
   "outputs": [
    {
     "name": "stdout",
     "output_type": "stream",
     "text": [
      "tensor([[1., 1., 1., 1.],\n",
      "        [1., 1., 1., 1.],\n",
      "        [1., 1., 1., 1.]])\n",
      "id(Z): 1785199694432\n",
      "id(Z): 1785199694432\n"
     ]
    }
   ],
   "source": [
    "Z = torch.ones_like(Y)\n",
    "print(Z)\n",
    "print('id(Z):', id(Z))\n",
    "Z[:] = X + Y\n",
    "print('id(Z):', id(Z))"
   ],
   "metadata": {
    "collapsed": false,
    "pycharm": {
     "name": "#%%\n"
    }
   }
  },
  {
   "cell_type": "code",
   "execution_count": 59,
   "outputs": [
    {
     "data": {
      "text/plain": "(numpy.ndarray, torch.Tensor)"
     },
     "execution_count": 59,
     "metadata": {},
     "output_type": "execute_result"
    }
   ],
   "source": [
    "A = X.numpy()\n",
    "B = torch.tensor(A)\n",
    "type(A), type(B)"
   ],
   "metadata": {
    "collapsed": false,
    "pycharm": {
     "name": "#%%\n"
    }
   }
  },
  {
   "cell_type": "code",
   "execution_count": 18,
   "outputs": [
    {
     "data": {
      "text/plain": "(31, 235)"
     },
     "execution_count": 18,
     "metadata": {},
     "output_type": "execute_result"
    }
   ],
   "source": [
    "# 求半径为10的圆与半径为5的圆，他们的周长和面积之差，结果全部保留整数部分，并将周长之差存储到数组q6中，面积之差存储到数组q7中\n",
    "q6 = int(2 * 3.14 * (10 - 5))\n",
    "q7 = int(3.14 * (10 ** 2 - 5 ** 2))\n",
    "q6, q7"
   ],
   "metadata": {
    "collapsed": false,
    "pycharm": {
     "name": "#%%\n"
    }
   }
  },
  {
   "cell_type": "code",
   "execution_count": 21,
   "outputs": [
    {
     "name": "stdout",
     "output_type": "stream",
     "text": [
      "True\n"
     ]
    }
   ],
   "source": [
    "# 判断2008是否是闰年，结果保存到数组q8中，闰年输出True，平年输出False\n",
    "if 2008 % 4 == 0:\n",
    "    q8 = 'True'\n",
    "else:\n",
    "    q8 = 'False'"
   ],
   "metadata": {
    "collapsed": false,
    "pycharm": {
     "name": "#%%\n"
    }
   }
  },
  {
   "cell_type": "code",
   "execution_count": 24,
   "outputs": [],
   "source": [
    "# 写一个if else语句判断输入的是英寸还是厘米，并输出相对应的另一个值；如输入100厘米，则输出39英寸；题目要求如下：\n",
    "# （1）定义一个列表变量，取名q1，先后保存输出的值；\n",
    "# （2）使用input先后判断长度和单位；\n",
    "# （3）先后输出15英寸对应多少厘米，40厘米对应多少英寸，全部结果保留整数部分，并将最终结果保存到列表q1中（使用append()函数）；\n",
    "# （4）由于还没有学循环函数，所以这里先不加循环，运行两遍得到结果即可，别忘使用append()函数把每次运行的答案加入到数组q1中；\n",
    "q1 = []\n",
    "for _ in range(2):\n",
    "    temp1 = input('dw')\n",
    "    temp2 = int(input('cd'))\n",
    "    if temp1 == '英寸':\n",
    "        q1.append(int(temp2 * 0.39))\n",
    "    elif temp1 == '厘米':\n",
    "        q1.append(int(temp2 / 0.39))"
   ],
   "metadata": {
    "collapsed": false,
    "pycharm": {
     "name": "#%%\n"
    }
   }
  },
  {
   "cell_type": "code",
   "execution_count": 25,
   "outputs": [],
   "source": [
    "# 写一个分支结构判断输入的成绩对应的等级多少？如果在90分以上（含90分）输出A；80分-90分（不含90分）输出B；70分-80分（不含80分）输出C；60分-70分（不含70分）输出D；60分以下输出E。题目要求如下：\n",
    "# （1）假如小明，小张和小王同学在期末考试分别考了79分、90分以及89分，请判断他们三个对应的成绩等级是多少？使用input函数分别输入并输出；\n",
    "# （2）定义一个数组q2，分别保存三位同学的成绩等级，形式如['A', 'B', 'C']这种；\n",
    "# （3）如果有同学提前学过循环，可以尝试用循环来做，没学过的同学也不要着急，第四关就会学到，这里可以先后输入三个成绩然后运行三遍程序即可得到答案，每运行一次要使用append函数加入到数组q2中；\n",
    "q2 = []\n",
    "for _ in range(3):\n",
    "    temp = eval(input('score'))\n",
    "    if temp >= 90:\n",
    "        q2.append('A')\n",
    "        continue\n",
    "    elif temp > 80:\n",
    "        q2.append('B')\n",
    "        continue\n",
    "    elif temp > 70:\n",
    "        q2.append('C')\n",
    "        continue\n",
    "    elif temp > 60:\n",
    "        q2.append('D')\n",
    "        continue\n",
    "    else:\n",
    "        q2.append('E')\n"
   ],
   "metadata": {
    "collapsed": false,
    "pycharm": {
     "name": "#%%\n"
    }
   }
  },
  {
   "cell_type": "code",
   "execution_count": 26,
   "outputs": [
    {
     "data": {
      "text/plain": "['C', 'A', 'B']"
     },
     "execution_count": 26,
     "metadata": {},
     "output_type": "execute_result"
    }
   ],
   "source": [
    "q2"
   ],
   "metadata": {
    "collapsed": false,
    "pycharm": {
     "name": "#%%\n"
    }
   }
  },
  {
   "cell_type": "markdown",
   "source": [
    "写一个分支结构判断输入给定的三组值能否构成三角形，题目要求如下：\n",
    "\n",
    "（1）给定三组值，分别为[6,10,9]，[9,16,25]，[13,12,5]，，判断这三组值能否构成三角形。\n",
    "\n",
    "（2）如果能构成三角形，则输出该三角形周长和面积，如果不能，输出no。【注意：周长和面积只保留整数部分】\n",
    "\n",
    "（3）定义一个数组q3，如果可以构成三角形，则将该三角形的周长和面积（注意顺序）加入到数组q3中，如果不能构成 ，则向数组中加入no，注意按照给定的组顺序来保存。比如第一组和第三组不能构成，第二组可以构成，则q3=['no', 第二组周长值, 第二组面积值, 'no']；"
   ],
   "metadata": {
    "collapsed": false,
    "pycharm": {
     "name": "#%% md\n"
    }
   }
  },
  {
   "cell_type": "code",
   "execution_count": 42,
   "outputs": [
    {
     "data": {
      "text/plain": "['no']"
     },
     "execution_count": 42,
     "metadata": {},
     "output_type": "execute_result"
    }
   ],
   "source": [
    "q1 = []\n",
    "\n",
    "\n",
    "def judge():\n",
    "    temp = eval(input('input'))\n",
    "    for i in range(2, temp // 2):\n",
    "        if temp % i == 0:\n",
    "            a = 'no'\n",
    "            break\n",
    "        a = 'yes'\n",
    "    # return a\n",
    "\n",
    "\n",
    "q1.append(judge())\n",
    "q1"
   ],
   "metadata": {
    "collapsed": false,
    "pycharm": {
     "name": "#%%\n"
    }
   }
  },
  {
   "cell_type": "code",
   "execution_count": 7,
   "outputs": [
    {
     "data": {
      "text/plain": "[4, 80]"
     },
     "execution_count": 7,
     "metadata": {},
     "output_type": "execute_result"
    }
   ],
   "source": [
    "temp1 = 20\n",
    "temp2 = 16\n",
    "\n",
    "\n",
    "def max_yue(x, y):\n",
    "    (x, y) = (y, x) if y > x else (x, y)\n",
    "    for i in range(x, 0, -1):\n",
    "        if x % i == 0 and y % i == 0:\n",
    "            return i\n",
    "\n",
    "\n",
    "def max_bei(x, y):\n",
    "    return int(x * y / max_yue(x, y))\n",
    "\n",
    "\n",
    "q3 = [max_yue(temp1, temp2), max_bei(temp1, temp2)]\n",
    "q3"
   ],
   "metadata": {
    "collapsed": false,
    "pycharm": {
     "name": "#%%\n"
    }
   }
  },
  {
   "cell_type": "markdown",
   "source": [
    "假设a=log(3)/3，b=log(5)/5，比较这两个数的大小，如果a>b，则输出大于，如果a<b，则输出小于；将最终结果是大于还是小于保存到数组q1中；"
   ],
   "metadata": {
    "collapsed": false,
    "pycharm": {
     "name": "#%% md\n"
    }
   }
  },
  {
   "cell_type": "markdown",
   "source": [],
   "metadata": {
    "collapsed": false,
    "pycharm": {
     "name": "#%% md\n"
    }
   }
  },
  {
   "cell_type": "code",
   "execution_count": 11,
   "outputs": [
    {
     "ename": "NameError",
     "evalue": "name 'q1' is not defined",
     "output_type": "error",
     "traceback": [
      "\u001B[1;31m---------------------------------------------------------------------------\u001B[0m",
      "\u001B[1;31mNameError\u001B[0m                                 Traceback (most recent call last)",
      "Input \u001B[1;32mIn [11]\u001B[0m, in \u001B[0;36m<cell line: 6>\u001B[1;34m()\u001B[0m\n\u001B[0;32m      4\u001B[0m     \u001B[38;5;28;01melse\u001B[39;00m:\n\u001B[0;32m      5\u001B[0m         q1\u001B[38;5;241m.\u001B[39mappend(\u001B[38;5;124m'\u001B[39m\u001B[38;5;124m小于\u001B[39m\u001B[38;5;124m'\u001B[39m)\n\u001B[1;32m----> 6\u001B[0m \u001B[43mq1\u001B[49m\n",
      "\u001B[1;31mNameError\u001B[0m: name 'q1' is not defined"
     ]
    }
   ],
   "source": [
    "def compare():\n",
    "    if math.log(3) / 3 > math.log(5) / 5:\n",
    "        q1.append('大于')\n",
    "    else:\n",
    "        q1.append('小于')\n",
    "\n",
    "\n",
    "q1"
   ],
   "metadata": {
    "collapsed": false,
    "pycharm": {
     "name": "#%%\n"
    }
   }
  },
  {
   "cell_type": "code",
   "execution_count": 18,
   "outputs": [
    {
     "data": {
      "text/plain": "0.87"
     },
     "execution_count": 18,
     "metadata": {},
     "output_type": "execute_result"
    }
   ],
   "source": [
    "a = 8\n",
    "b = 3\n",
    "x1 = round(float(((a + b) * (a - b) / (a ** 2 + b ** 2)) ** 0.5), 2)\n",
    "x1  # 这里写答案"
   ],
   "metadata": {
    "collapsed": false,
    "pycharm": {
     "name": "#%%\n"
    }
   }
  },
  {
   "cell_type": "code",
   "execution_count": 20,
   "outputs": [
    {
     "data": {
      "text/plain": "2.87"
     },
     "execution_count": 20,
     "metadata": {},
     "output_type": "execute_result"
    }
   ],
   "source": [
    "if x1 > 1:\n",
    "    x2 = x1 * 3 - 5\n",
    "elif x1 < -1:\n",
    "    x2 = x1 * 5 + 3\n",
    "else:\n",
    "    x2 = x1 + 2\n",
    "x2"
   ],
   "metadata": {
    "collapsed": false,
    "pycharm": {
     "name": "#%%\n"
    }
   }
  },
  {
   "cell_type": "markdown",
   "source": [
    "Q3：计算x1*100所对应的成绩等级，赋值给y\n",
    "90分以上（含90分）输出A；80分-90分（不含90分）输出B；70分-80分（不含80分）输出C；60分-70分（不含70分）输出D；60分以下输出E。"
   ],
   "metadata": {
    "collapsed": false,
    "pycharm": {
     "name": "#%% md\n"
    }
   }
  },
  {
   "cell_type": "code",
   "execution_count": 15,
   "outputs": [
    {
     "data": {
      "text/plain": "'B'"
     },
     "execution_count": 15,
     "metadata": {},
     "output_type": "execute_result"
    }
   ],
   "source": [
    "y = x1 * 100\n",
    "if y >= 90:\n",
    "    y = 'A'\n",
    "elif y >= 80:\n",
    "    y = 'B'\n",
    "elif y >= 70:\n",
    "    y = 'C'\n",
    "elif y >= 60:\n",
    "    y = 'D'\n",
    "else:\n",
    "    y = 'E'\n",
    "y"
   ],
   "metadata": {
    "collapsed": false,
    "pycharm": {
     "name": "#%%\n"
    }
   }
  },
  {
   "cell_type": "markdown",
   "source": [
    "\n",
    "1. 找出10000以内的完美数，保存到列表L1中。\n",
    "说明：完美数又称为完全数或完备数，它的所有的真因子（即除了自身以外的因子）的和（即因子函数）恰好等于它本身。\n",
    "例如：6（6=1+2+3）和28（28=1+2+4+7+14）就是完美数。完美数有很多神奇的特性，有兴趣的可以自行了解。"
   ],
   "metadata": {
    "collapsed": false,
    "pycharm": {
     "name": "#%% md\n"
    }
   }
  },
  {
   "cell_type": "code",
   "execution_count": 1,
   "outputs": [
    {
     "data": {
      "text/plain": "[6, 28, 496, 8128]"
     },
     "execution_count": 1,
     "metadata": {},
     "output_type": "execute_result"
    }
   ],
   "source": [
    "def find(num):\n",
    "    lst = [1]\n",
    "    for j in range(2, num // 2):\n",
    "        if num % j == 0:\n",
    "            lst.append(j)\n",
    "            lst.append(num // j)\n",
    "    return set(lst)\n",
    "\n",
    "\n",
    "L1 = [i for i in range(2, 10000) if i == int(sum(find(i)))]\n",
    "L1  # 开始写作业 加油"
   ],
   "metadata": {
    "collapsed": false,
    "pycharm": {
     "name": "#%%\n"
    }
   }
  },
  {
   "cell_type": "markdown",
   "source": [
    "\n",
    "2. 寻找1000内的水仙花数，并保存到列表L2中；\n",
    "tips：水仙花数也被称为超完全数字不变数、自恋数、自幂数、阿姆斯特朗数，它是一个3位数，该数字每个位上数字的立方之和正好等于它本身，例如：。"
   ],
   "metadata": {
    "collapsed": false,
    "pycharm": {
     "name": "#%% md\n"
    }
   }
  },
  {
   "cell_type": "code",
   "execution_count": 47,
   "outputs": [
    {
     "data": {
      "text/plain": "[153, 370, 371, 407]"
     },
     "execution_count": 47,
     "metadata": {},
     "output_type": "execute_result"
    }
   ],
   "source": [
    "def shui_xian(num):\n",
    "    if (num // 100) ** 3 + (num // 10 % 10) ** 3 + (num % 10) ** 3 == num:\n",
    "        return True\n",
    "    return False\n",
    "\n",
    "\n",
    "L2 = [x for x in range(153, 1000) if shui_xian(x)]\n",
    "L2"
   ],
   "metadata": {
    "collapsed": false,
    "pycharm": {
     "name": "#%%\n"
    }
   }
  },
  {
   "cell_type": "markdown",
   "source": [
    "3. 写一个程序查询300到500内的回文素数，并保存到列表L3中；\n",
    "回文素数：即是回文数，又是素数"
   ],
   "metadata": {
    "collapsed": false,
    "pycharm": {
     "name": "#%% md\n"
    }
   }
  },
  {
   "cell_type": "markdown",
   "source": [
    "有15个基督徒和15个非基督徒在海上遇险，为了能让一部分人活下来不得不将其中15个人扔到海里面去，有个人想了个办法就是大家围成一个圈，由某个人开始从1报数，报到9的人就扔到海里面，他后面的人接着从1开始报数，报到9的人继续扔到海里面，直到扔掉15个人。由于上帝的保佑，15个基督徒都幸免于难，问这些人最开始是怎么站的，哪些位置是基督徒哪些位置是非基督徒。输出最后站位，用1表示是基督徒，0表示非基督徒；"
   ],
   "metadata": {
    "collapsed": false,
    "pycharm": {
     "name": "#%% md\n"
    }
   }
  },
  {
   "cell_type": "code",
   "execution_count": 95,
   "outputs": [
    {
     "name": "stdout",
     "output_type": "stream",
     "text": [
      "[28, 29, 1, 2, 3, 4, 10, 11, 13, 14, 15, 17, 20, 21, 25]\n"
     ]
    },
    {
     "data": {
      "text/plain": "['1',\n '1',\n '1',\n '1',\n '0',\n '0',\n '0',\n '0',\n '0',\n '1',\n '1',\n '0',\n '1',\n '1',\n '1',\n '0',\n '1',\n '0',\n '0',\n '1',\n '1',\n '0',\n '0',\n '0',\n '1',\n '0',\n '0',\n '1',\n '1',\n '0']"
     },
     "execution_count": 95,
     "metadata": {},
     "output_type": "execute_result"
    }
   ],
   "source": [
    "def josephus(n, k):\n",
    "    #n代表总人数，k代表报数的数字\n",
    "    lst = [x for x in range(1, n + 1)]\n",
    "    index = 0\n",
    "    while True:\n",
    "        temp = lst.pop(0)\n",
    "        index += 1\n",
    "        if index == k:\n",
    "            index = 0\n",
    "            continue\n",
    "        lst.append(temp)\n",
    "        if len(lst) == 15:\n",
    "            return lst\n",
    "\n",
    "\n",
    "print(josephus(30, 9))\n",
    "L1 = ['0'] * 30\n",
    "for x in josephus(30, 9):\n",
    "    L1[x - 1] = '1'\n",
    "L1"
   ],
   "metadata": {
    "collapsed": false,
    "pycharm": {
     "name": "#%%\n"
    }
   }
  },
  {
   "cell_type": "markdown",
   "source": [
    "### 题目2：计算机票票价\n",
    "某航空公司机票采用浮动制：根据月份和订票张数来确定机票的优惠率：\n",
    "* 旅游旺季（1月~2月, 7月~10月, 12月），如果订票张数超过15张，票价优惠15%，否则票价优惠5%；\n",
    "* 其余月份为旅游淡季，旅游淡季时如果订票张数超过20张，票价优惠30%，订票张数5张以下，票价优惠10%，其余情况票价优惠20%。\n",
    "\n",
    "从键盘输入月份、订票张数和机票原价，输出票价优惠率和应付票款（=机票原价×订票张数×（1-优惠率）），询问是否输入结束，当输入提示为“y”或者“yes”（大小写无关）的时候结束输入。（为了简单，默认输入均正确。）\n",
    "\n",
    "按照下面程序给的运行结果计算出票款优惠率和应付票款，并保存到L3中：\n",
    "```\n",
    "请输入月份：2\n",
    "请输入订票张数：20\n",
    "请输入机票原价：2000\n",
    "票价优惠率：0.15\n",
    "应付票款：34000.0\n",
    "输入结束了吗？（y或yes结束，大小写无关，其他继续）：n\n",
    "请输入月份：\n",
    "```"
   ],
   "metadata": {
    "collapsed": false,
    "pycharm": {
     "name": "#%% md\n"
    }
   }
  },
  {
   "cell_type": "code",
   "execution_count": 100,
   "outputs": [
    {
     "name": "stdout",
     "output_type": "stream",
     "text": [
      "票价优惠率： 0.15\n",
      "应付票款： 34000.0\n"
     ]
    }
   ],
   "source": [
    "def season(mon):\n",
    "    if mon in [1, 2, 7, 10, 12]:\n",
    "        return True\n",
    "    return False\n",
    "\n",
    "\n",
    "def discount(sea, count):\n",
    "    if season(sea):\n",
    "        if count > 15:\n",
    "            return 0.15\n",
    "        return 0.05\n",
    "    if count > 20:\n",
    "        return 0.3\n",
    "    elif count < 5:\n",
    "        return 0.1\n",
    "    else:\n",
    "        return 0.2\n",
    "\n",
    "\n",
    "while True:\n",
    "    mon = int(input('请输入月份：'))\n",
    "    num = int(input('请输入订票张数：'))\n",
    "    price = int(input('请输入机票原价：'))\n",
    "    con = eval(input('输入结束了吗？（y或yes结束，大小写无关，其他继续）：'))\n",
    "    print('票价优惠率：', discount(mon, num))\n",
    "    print('应付票款：', price * num * (1 - discount(mon, num)))\n",
    "    L2 = [discount(mon, num), price * num * (1 - discount(mon, num))]\n",
    "    if con == 'yes' or 'y':\n",
    "        break"
   ],
   "metadata": {
    "collapsed": false,
    "pycharm": {
     "name": "#%%\n"
    }
   }
  },
  {
   "cell_type": "code",
   "execution_count": 101,
   "outputs": [
    {
     "data": {
      "text/plain": "[0.15, 34000.0]"
     },
     "execution_count": 101,
     "metadata": {},
     "output_type": "execute_result"
    }
   ],
   "source": [
    "L2"
   ],
   "metadata": {
    "collapsed": false,
    "pycharm": {
     "name": "#%%\n"
    }
   }
  },
  {
   "cell_type": "code",
   "execution_count": 102,
   "outputs": [
    {
     "name": "stdout",
     "output_type": "stream",
     "text": [
      "[333, 1, 121]\n"
     ]
    }
   ],
   "source": [
    "def is_leap_year(year):\n",
    "    \"\"\"\n",
    "    判断指定的年份是不是闰年\n",
    "    :param year: 年份\n",
    "    :return: 闰年返回True平年返回False\n",
    "    \"\"\"\n",
    "    return year % 4 == 0 and year % 100 != 0 or year % 400 == 0\n",
    "\n",
    "\n",
    "def which_day(year, month, date):\n",
    "    \"\"\"\n",
    "    计算传入的日期是这一年的第几天\n",
    "    :param year: 年\n",
    "    :param month: 月\n",
    "    :param date: 日\n",
    "    :return: 第几天\n",
    "    \"\"\"\n",
    "    days_of_month = [\n",
    "        [31, 28, 31, 30, 31, 30, 31, 31, 30, 31, 30, 31],\n",
    "        [31, 29, 31, 30, 31, 30, 31, 31, 30, 31, 30, 31]\n",
    "        ][is_leap_year(year)]\n",
    "    total = 0\n",
    "    for index in range(month - 1):\n",
    "        total += days_of_month[index]\n",
    "    return total + date\n",
    "\n",
    "\n",
    "def main():\n",
    "    L3 = [which_day(1980, 11, 28), which_day(2020, 1, 1), which_day(2021, 5, 1)]\n",
    "    print(L3)\n",
    "\n",
    "\n",
    "if __name__ == '__main__':\n",
    "    main()"
   ],
   "metadata": {
    "collapsed": false,
    "pycharm": {
     "name": "#%%\n"
    }
   }
  },
  {
   "cell_type": "markdown",
   "source": [
    "## 7.30"
   ],
   "metadata": {
    "collapsed": false,
    "pycharm": {
     "name": "#%% md\n"
    }
   }
  }
 ],
 "metadata": {
  "kernelspec": {
   "name": "pytorch",
   "language": "python",
   "display_name": "Pytorch (pytorch)"
  },
  "language_info": {
   "codemirror_mode": {
    "name": "ipython",
    "version": 2
   },
   "file_extension": ".py",
   "mimetype": "text/x-python",
   "name": "python",
   "nbconvert_exporter": "python",
   "pygments_lexer": "ipython2",
   "version": "2.7.6"
  }
 },
 "nbformat": 4,
 "nbformat_minor": 0
}