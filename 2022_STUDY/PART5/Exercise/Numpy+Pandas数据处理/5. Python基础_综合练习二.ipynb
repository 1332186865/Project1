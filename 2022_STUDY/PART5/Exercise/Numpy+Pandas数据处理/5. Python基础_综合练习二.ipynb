{
 "cells": [
  {
   "metadata": {
    "trusted": true,
    "collapsed": false,
    "jupyter": {},
    "tags": [],
    "slideshow": {
     "slide_type": "slide"
    },
    "id": "D5EDBFC0853748828F5EF675DD18C434",
    "mdEditEnable": false
   },
   "cell_type": "markdown",
   "source": [
    "# 🔖五、Python综合练习二"
   ]
  },
  {
   "metadata": {
    "id": "CE95B60F62674EE28F2CB292E619A5F6",
    "notebookId": "615114d38447b800176b00fe",
    "jupyter": {},
    "tags": [],
    "slideshow": {
     "slide_type": "slide"
    },
    "trusted": true,
    "mdEditEnable": false,
    "collapsed": false,
    "scrolled": true
   },
   "cell_type": "markdown",
   "source": [
    "# SETP1:计算以下题目\n",
    "\n",
    "**每一道题依次将结果保存到数组L1,L2,L3,......L15中**\n",
    "\n",
    "【注意：每道题都有答案截图，答案中如果带''单引号的数字就表示用字符串来表示，如果不带''单引号的，说明用int来表示数字】"
   ]
  },
  {
   "source": [
    "## 第一题\n",
    "\n",
    "题目：有40个人围成一圈，顺序排号。从第一个人开始报数（只报123这三个数），凡报到数字为3的人退出圈子，问最后留下的是原来第几号的那位。"
   ],
   "cell_type": "markdown",
   "metadata": {
    "trusted": true,
    "collapsed": false,
    "jupyter": {},
    "tags": [],
    "slideshow": {
     "slide_type": "slide"
    },
    "id": "11CEBAC9E8DB40C2881F4D7957B096FE",
    "mdEditEnable": false,
    "scrolled": true
   }
  },
  {
   "cell_type": "code",
   "execution_count": 1,
   "outputs": [
    {
     "data": {
      "text/plain": "[28]"
     },
     "execution_count": 1,
     "metadata": {},
     "output_type": "execute_result"
    }
   ],
   "source": [
    "\n",
    "\n",
    "\n",
    "def quit_circle(n):\n",
    "    L1 = list(range(1, 41))\n",
    "    i = 0\n",
    "    while True:\n",
    "        temp = L1.pop(0)\n",
    "        if i == 2:\n",
    "            i = 0\n",
    "            continue\n",
    "        i += 1\n",
    "        L1.append(temp)\n",
    "        if len(L1) == 1:\n",
    "            return L1\n",
    "\n",
    "\n",
    "L1 = quit_circle(40)\n",
    "L1"
   ],
   "metadata": {
    "collapsed": false
   }
  },
  {
   "metadata": {
    "id": "CEF8AB95EE514A948510C9ABFF8B60ED",
    "notebookId": "61a4a8eee867ee0017bfaafc",
    "jupyter": {},
    "tags": [],
    "slideshow": {
     "slide_type": "slide"
    },
    "trusted": true,
    "mdEditEnable": false
   },
   "cell_type": "markdown",
   "source": [
    "![Image Name](https://cdn.kesci.com/upload/image/r3bz7zetpi.png)\n",
    "\n",
    "本题答案请参考\n"
   ]
  },
  {
   "metadata": {
    "id": "DFD95DA105F549DA893A6172E425B899",
    "notebookId": "615114d38447b800176b00fe",
    "jupyter": {},
    "tags": [],
    "slideshow": {
     "slide_type": "slide"
    },
    "trusted": true,
    "mdEditEnable": false
   },
   "cell_type": "markdown",
   "source": [
    "## 第二题\n",
    "\n",
    "题目：编写一个程序，提取以逗号分割的字符串中的所有数字，并将数字重新组合成一个数组；要求输入'34岁,67年,55岁,33岁,12日,98年'这一个字符串，提取出['34'， '67'， '55'， '33'， '12'， '98']，注意数字用字符串来表示，结果保存到L2中；"
   ]
  },
  {
   "metadata": {
    "id": "96FBFDBA065442A8884D4E1D2DA89798",
    "notebookId": "61a4a8eee867ee0017bfaafc",
    "jupyter": {},
    "tags": [],
    "slideshow": {
     "slide_type": "slide"
    },
    "trusted": true,
    "collapsed": false,
    "scrolled": false
   },
   "cell_type": "code",
   "outputs": [
    {
     "data": {
      "text/plain": "['34', '67', '55', '33', '12', '98']"
     },
     "execution_count": 38,
     "metadata": {},
     "output_type": "execute_result"
    }
   ],
   "source": [
    "import re\n",
    "\n",
    "temp = '34岁,67年,55岁,33岁,12日,98年'\n",
    "L2 = re.findall('\\d\\d', temp)\n",
    "L2"
   ],
   "execution_count": 38
  },
  {
   "metadata": {
    "id": "5635D00EC1C1492C871356C4AB9CE6FB",
    "notebookId": "61a4a8eee867ee0017bfaafc",
    "jupyter": {},
    "tags": [],
    "slideshow": {
     "slide_type": "slide"
    },
    "trusted": true,
    "mdEditEnable": false,
    "collapsed": false,
    "scrolled": true
   },
   "cell_type": "markdown",
   "source": [
    "![Image Name](https://cdn.kesci.com/upload/image/r3bxe9c5gj.png)\n",
    "\n",
    "\n",
    "本题答案请参考"
   ]
  },
  {
   "metadata": {
    "id": "4EFE3C189C354DD5869FCE2C51FB51A6",
    "notebookId": "615114d38447b800176b00fe",
    "jupyter": {},
    "tags": [],
    "slideshow": {
     "slide_type": "slide"
    },
    "trusted": true,
    "mdEditEnable": false
   },
   "cell_type": "markdown",
   "source": [
    "## 第三题\n",
    "\n",
    "题目：编写一个程序，根据给定的公式计算并打印值:$Q=\\sqrt{[(2*C*D)/H]}$。其中，假定C=50。H=30。D是一个变量，它的值应该**以逗号分隔的序列**输入到程序中。\n",
    "要求输入：'100,150,180'这一字符串，依次按逗号分隔出每个数字，并带入公式中计算，计算结果保存到L3数组中【注意：计算出的数字用字符串表示】；"
   ]
  },
  {
   "metadata": {
    "id": "B070E794E55B47ACBF9EE0612A2C6C28",
    "notebookId": "61a4a8eee867ee0017bfaafc",
    "jupyter": {},
    "tags": [],
    "slideshow": {
     "slide_type": "slide"
    },
    "trusted": true,
    "collapsed": false,
    "scrolled": false
   },
   "cell_type": "code",
   "outputs": [
    {
     "data": {
      "text/plain": "['18', '22', '24']"
     },
     "execution_count": 39,
     "metadata": {},
     "output_type": "execute_result"
    }
   ],
   "source": [
    "c = 50\n",
    "h = 30\n",
    "temp = '100,150,180'\n",
    "\n",
    "\n",
    "def func_1(d):\n",
    "    return ((2 * c * d) / h) ** 0.5\n",
    "\n",
    "\n",
    "L3 = [str(int(func_1(int(i)))) for i in temp.split(',')]\n",
    "L3"
   ],
   "execution_count": 39
  },
  {
   "metadata": {
    "id": "E48C4E5B71D843CA91D1DF0AD206C670",
    "notebookId": "61a4a8eee867ee0017bfaafc",
    "jupyter": {},
    "tags": [],
    "slideshow": {
     "slide_type": "slide"
    },
    "trusted": true,
    "mdEditEnable": false
   },
   "cell_type": "markdown",
   "source": [
    "![Image Name](https://cdn.kesci.com/upload/image/r3bxrk5jzl.png)\n",
    "\n",
    "\n",
    "本题答案请参考"
   ]
  },
  {
   "metadata": {
    "id": "0367546FFCED4C338A7E2643D2AF38DC",
    "notebookId": "615114d38447b800176b00fe",
    "jupyter": {},
    "tags": [],
    "slideshow": {
     "slide_type": "slide"
    },
    "trusted": true,
    "mdEditEnable": false,
    "collapsed": false,
    "scrolled": true
   },
   "cell_type": "markdown",
   "source": [
    "## 第四题\n",
    "\n",
    "题目：编写一个程序，X,Y作为输入数值，根据两个数值会生成一个二维数组，**数组的第i行和第j列的元素值等于i×j**。注意：i和j都是从0开始计；\n",
    "要求输入'3, 5'这一字符串，则程序输出为：[[0,0,0,0,0],[0,1,2,3,4],[0,2,4,6,8]]；将二维数组转化为一维数组，保存到L4数组中；"
   ]
  },
  {
   "metadata": {
    "id": "0B0E516F711E4F60A3E020DB0D2BB4D4",
    "notebookId": "61a4a8eee867ee0017bfaafc",
    "jupyter": {},
    "tags": [],
    "slideshow": {
     "slide_type": "slide"
    },
    "trusted": true,
    "collapsed": false,
    "scrolled": false
   },
   "cell_type": "code",
   "outputs": [
    {
     "data": {
      "text/plain": "[0, 0, 0, 0, 0, 0, 1, 2, 3, 4, 0, 2, 4, 6, 8]"
     },
     "execution_count": 40,
     "metadata": {},
     "output_type": "execute_result"
    }
   ],
   "source": [
    "temp = '3,5'\n",
    "temp = temp.split(',')\n",
    "L4 = []\n",
    "for i in range(int(temp[0])):\n",
    "    L4 += [i * j for j in range(int(temp[1]))]\n",
    "L4\n",
    "\n"
   ],
   "execution_count": 40
  },
  {
   "metadata": {
    "id": "1D8C9A31FC78435F8F22AF50B832B43A",
    "notebookId": "61a4a8eee867ee0017bfaafc",
    "jupyter": {},
    "tags": [],
    "slideshow": {
     "slide_type": "slide"
    },
    "trusted": true,
    "mdEditEnable": false
   },
   "cell_type": "markdown",
   "source": [
    "![Image Name](https://cdn.kesci.com/upload/image/r3bxyyswzy.png)\n",
    "\n",
    "本题答案请参考"
   ]
  },
  {
   "metadata": {
    "id": "0A42CDE6E765404B9C89568A434613E5",
    "notebookId": "615114d38447b800176b00fe",
    "jupyter": {},
    "tags": [],
    "slideshow": {
     "slide_type": "slide"
    },
    "trusted": true,
    "mdEditEnable": false
   },
   "cell_type": "markdown",
   "source": [
    "## 第五题\n",
    "\n",
    "题目：编写一个程序，以逗号分隔的单词序列作为输入，按照字母顺序对每个单词进行排序，并通过逗号分隔的序列来打印单词。要求输入'without,hello,bag,world'这一字符串，则输出为：['bag', 'hello', 'without', 'world']；将结果保存到数组L5中；"
   ]
  },
  {
   "metadata": {
    "id": "21C3C44D6CE34C1DA663244B970E1F56",
    "notebookId": "61a4a8eee867ee0017bfaafc",
    "jupyter": {},
    "tags": [],
    "slideshow": {
     "slide_type": "slide"
    },
    "trusted": true,
    "collapsed": false,
    "scrolled": false
   },
   "cell_type": "code",
   "outputs": [
    {
     "data": {
      "text/plain": "['bag', 'hello', 'without', 'world']"
     },
     "execution_count": 41,
     "metadata": {},
     "output_type": "execute_result"
    }
   ],
   "source": [
    "temp = 'without,hello,bag,world'\n",
    "L5 = temp.split(',')\n",
    "L5.sort(key=lambda x: x[0])\n",
    "L5"
   ],
   "execution_count": 41
  },
  {
   "metadata": {
    "id": "F60D1B6B096241928AB21C6569E98208",
    "notebookId": "61a4a8eee867ee0017bfaafc",
    "jupyter": {},
    "tags": [],
    "slideshow": {
     "slide_type": "slide"
    },
    "trusted": true,
    "mdEditEnable": false
   },
   "cell_type": "markdown",
   "source": [
    "![Image Name](https://cdn.kesci.com/upload/image/r3by1wetlh.png)\n",
    "\n",
    "本题答案请参考"
   ]
  },
  {
   "metadata": {
    "id": "714E22E33A07400F817F0AC3F37BF765",
    "notebookId": "615114d38447b800176b00fe",
    "jupyter": {},
    "tags": [],
    "slideshow": {
     "slide_type": "slide"
    },
    "trusted": true,
    "mdEditEnable": false
   },
   "cell_type": "markdown",
   "source": [
    "## 第六题\n",
    "\n",
    "题目：编写一个程序，接收一行序列作为输入，并在将句子中的所有字符大写后打印出来。\n",
    "要求输入'Practice makes perfect'，并将每个单词大写后的结果保存到数组L6中；"
   ]
  },
  {
   "metadata": {
    "id": "945F4DD372804ED08375E16A4997503D",
    "notebookId": "61a4a8eee867ee0017bfaafc",
    "jupyter": {},
    "tags": [],
    "slideshow": {
     "slide_type": "slide"
    },
    "trusted": true,
    "collapsed": false,
    "scrolled": false
   },
   "cell_type": "code",
   "outputs": [
    {
     "data": {
      "text/plain": "['PRACTICE', 'MAKES', 'PERFECT']"
     },
     "execution_count": 42,
     "metadata": {},
     "output_type": "execute_result"
    }
   ],
   "source": [
    "temp = 'Practice makes perfect'\n",
    "temp = temp.split(' ')\n",
    "\n",
    "L6 = [i.upper() for i in temp]\n",
    "L6"
   ],
   "execution_count": 42
  },
  {
   "metadata": {
    "id": "2E5A512794C844FBA734B49371554133",
    "notebookId": "615114d38447b800176b00fe",
    "jupyter": {},
    "tags": [],
    "slideshow": {
     "slide_type": "slide"
    },
    "trusted": true,
    "collapsed": false,
    "scrolled": false,
    "mdEditEnable": false
   },
   "cell_type": "markdown",
   "source": [
    "![Image Name](https://cdn.kesci.com/upload/image/r3by82hs6x.png)\n",
    "\n",
    "本题答案请参考"
   ]
  },
  {
   "metadata": {
    "id": "F82ACCA59BBE4B4C8D2F2038FE906376",
    "notebookId": "615114d38447b800176b00fe",
    "jupyter": {},
    "tags": [],
    "slideshow": {
     "slide_type": "slide"
    },
    "trusted": true,
    "mdEditEnable": false
   },
   "cell_type": "markdown",
   "source": [
    "## 第七题\n",
    "\n",
    "题目：编写一个程序，以一系列空格分隔的单词作为输入，并在删除所有重复的单词后，按字母顺序排序后打印这些单词。\n",
    "要求输入'hello world and practice makes perfect and hello world again'这一字符串，将最终结果保存到L7数组中；"
   ]
  },
  {
   "metadata": {
    "id": "2FBB6EFC4BBD473F86E4B6DC5C7751AA",
    "notebookId": "61a4a8eee867ee0017bfaafc",
    "jupyter": {},
    "tags": [],
    "slideshow": {
     "slide_type": "slide"
    },
    "trusted": true,
    "collapsed": false,
    "scrolled": false
   },
   "cell_type": "code",
   "outputs": [
    {
     "data": {
      "text/plain": "['again', 'and', 'hello', 'makes', 'perfect', 'practice', 'world']"
     },
     "execution_count": 43,
     "metadata": {},
     "output_type": "execute_result"
    }
   ],
   "source": [
    "temp = 'hello world and practice makes perfect and hello world again'\n",
    "L7 = list(set(temp.split(' ')))\n",
    "L7.sort()\n",
    "L7"
   ],
   "execution_count": 43
  },
  {
   "metadata": {
    "id": "E14E5327B3F645FABB4E49D3949FDF95",
    "notebookId": "61a4a8eee867ee0017bfaafc",
    "jupyter": {},
    "tags": [],
    "slideshow": {
     "slide_type": "slide"
    },
    "trusted": true,
    "collapsed": false,
    "scrolled": false,
    "mdEditEnable": false
   },
   "cell_type": "markdown",
   "source": [
    "![Image Name](https://cdn.kesci.com/upload/image/r3bycdd1o7.png)\n",
    "\n",
    "本题答案请参考"
   ]
  },
  {
   "metadata": {
    "id": "3440E71F6F174504864521F675D0302E",
    "notebookId": "615114d38447b800176b00fe",
    "jupyter": {},
    "tags": [],
    "slideshow": {
     "slide_type": "slide"
    },
    "trusted": true,
    "mdEditEnable": false
   },
   "cell_type": "markdown",
   "source": [
    "## 第八题\n",
    "\n",
    "题目：编写一个程序，接收一系列以逗号分隔的4位二进制数作为输入，然后检查它们是否可被5整除， 可被5整除的数字将以逗号分隔的顺序打印。\n",
    "要求输入'0100,0011,1010,1000'这一字符串，将输出结果保存到L8数组中；"
   ]
  },
  {
   "metadata": {
    "id": "1053666568E0492BA9AB7DFA200A0663",
    "notebookId": "61a4a8eee867ee0017bfaafc",
    "jupyter": {},
    "tags": [],
    "slideshow": {
     "slide_type": "slide"
    },
    "trusted": true,
    "collapsed": false,
    "scrolled": false
   },
   "cell_type": "code",
   "outputs": [
    {
     "data": {
      "text/plain": "['1010']"
     },
     "execution_count": 44,
     "metadata": {},
     "output_type": "execute_result"
    }
   ],
   "source": [
    "temp = '0100,0011,1010,1000'\n",
    "temp = temp.split(',')\n",
    "L8 = []\n",
    "for i in temp:\n",
    "    temp_1 = int(i[0]) * 2 ** 3 + int(i[1]) * 2 ** 2 + int(i[2]) * 2 + int(i[3])\n",
    "    if temp_1 % 5 == 0:\n",
    "        L8.append(i)\n",
    "L8"
   ],
   "execution_count": 44
  },
  {
   "metadata": {
    "id": "8BD2B85179CB4E29854237E87CEC6A0C",
    "notebookId": "61a4a8eee867ee0017bfaafc",
    "jupyter": {},
    "tags": [],
    "slideshow": {
     "slide_type": "slide"
    },
    "trusted": true,
    "collapsed": false,
    "scrolled": false,
    "mdEditEnable": false
   },
   "cell_type": "markdown",
   "source": [
    "![Image Name](https://cdn.kesci.com/upload/image/r3byfg8b5g.png)\n",
    "\n",
    "本题答案请参考\n"
   ]
  },
  {
   "cell_type": "code",
   "execution_count": 58,
   "outputs": [
    {
     "data": {
      "text/plain": "4"
     },
     "execution_count": 58,
     "metadata": {},
     "output_type": "execute_result"
    }
   ],
   "source": [
    "1234 //1%10"
   ],
   "metadata": {
    "collapsed": false
   }
  },
  {
   "metadata": {
    "id": "01F16AC1778949188AC5CAB01827366E",
    "notebookId": "615114d38447b800176b00fe",
    "jupyter": {},
    "tags": [],
    "slideshow": {
     "slide_type": "slide"
    },
    "trusted": true,
    "mdEditEnable": false
   },
   "cell_type": "markdown",
   "source": [
    "## 第九题\n",
    "\n",
    "题目：编写一个程序，找到1000到3000之间并且所有位数均为偶数的所有数字，比如2000，2002等，将最终结果保存到L9中；"
   ]
  },
  {
   "metadata": {
    "id": "7A3719FCFB4B4A808ADE170359FF67E9",
    "notebookId": "61a4a8eee867ee0017bfaafc",
    "jupyter": {},
    "tags": [],
    "slideshow": {
     "slide_type": "slide"
    },
    "trusted": true,
    "collapsed": false,
    "scrolled": false
   },
   "cell_type": "code",
   "outputs": [
    {
     "data": {
      "text/plain": "['2000',\n '2002',\n '2004',\n '2006',\n '2008',\n '2020',\n '2022',\n '2024',\n '2026',\n '2028',\n '2040',\n '2042',\n '2044',\n '2046',\n '2048',\n '2060',\n '2062',\n '2064',\n '2066',\n '2068',\n '2080',\n '2082',\n '2084',\n '2086',\n '2088',\n '2200',\n '2202',\n '2204',\n '2206',\n '2208',\n '2220',\n '2222',\n '2224',\n '2226',\n '2228',\n '2240',\n '2242',\n '2244',\n '2246',\n '2248',\n '2260',\n '2262',\n '2264',\n '2266',\n '2268',\n '2280',\n '2282',\n '2284',\n '2286',\n '2288',\n '2400',\n '2402',\n '2404',\n '2406',\n '2408',\n '2420',\n '2422',\n '2424',\n '2426',\n '2428',\n '2440',\n '2442',\n '2444',\n '2446',\n '2448',\n '2460',\n '2462',\n '2464',\n '2466',\n '2468',\n '2480',\n '2482',\n '2484',\n '2486',\n '2488',\n '2600',\n '2602',\n '2604',\n '2606',\n '2608',\n '2620',\n '2622',\n '2624',\n '2626',\n '2628',\n '2640',\n '2642',\n '2644',\n '2646',\n '2648',\n '2660',\n '2662',\n '2664',\n '2666',\n '2668',\n '2680',\n '2682',\n '2684',\n '2686',\n '2688',\n '2800',\n '2802',\n '2804',\n '2806',\n '2808',\n '2820',\n '2822',\n '2824',\n '2826',\n '2828',\n '2840',\n '2842',\n '2844',\n '2846',\n '2848',\n '2860',\n '2862',\n '2864',\n '2866',\n '2868',\n '2880',\n '2882',\n '2884',\n '2886',\n '2888']"
     },
     "execution_count": 59,
     "metadata": {},
     "output_type": "execute_result"
    }
   ],
   "source": [
    "L9 = [str(i) for i in range(1000, 3001) if\n",
    "      i // 1000 % 2 == 0 and i // 100 % 10 % 2 == 0 and i // 10 % 10 % 2 == 0 and i % 10 % 2 == 0]\n",
    "L9"
   ],
   "execution_count": 59
  },
  {
   "metadata": {
    "id": "958DE0B537934D818B7F43E98B4C948E",
    "notebookId": "61a4a8eee867ee0017bfaafc",
    "jupyter": {},
    "tags": [],
    "slideshow": {
     "slide_type": "slide"
    },
    "trusted": true,
    "collapsed": false,
    "scrolled": false,
    "mdEditEnable": false
   },
   "cell_type": "markdown",
   "source": [
    "![Image Name](https://cdn.kesci.com/upload/image/r3byi9emxz.png)\n",
    "\n",
    "本题答案请参考"
   ]
  },
  {
   "metadata": {
    "id": "FF01E2D71DA646F389EBB6623DBCC1D5",
    "notebookId": "615114d38447b800176b00fe",
    "jupyter": {},
    "tags": [],
    "slideshow": {
     "slide_type": "slide"
    },
    "trusted": true,
    "mdEditEnable": false
   },
   "cell_type": "markdown",
   "source": [
    "## 第十题\n",
    "\n",
    "题目：编写一个输入英文句并计算该句子中共有多少字母和数字的程序。\n",
    "要求输入'Hello world! 123'，将该字符串中字母和数字的个数保存到L10中；【注意：这题答案是用数字来表示】"
   ]
  },
  {
   "metadata": {
    "id": "1D145CA1540F4159AA4416B2CBCA5912",
    "notebookId": "61a4a8eee867ee0017bfaafc",
    "jupyter": {},
    "tags": [],
    "slideshow": {
     "slide_type": "slide"
    },
    "trusted": true,
    "collapsed": false,
    "scrolled": false
   },
   "cell_type": "code",
   "outputs": [
    {
     "data": {
      "text/plain": "[10, 3]"
     },
     "execution_count": 46,
     "metadata": {},
     "output_type": "execute_result"
    }
   ],
   "source": [
    "temp = 'Hello world! 123'\n",
    "count_1 = 0\n",
    "count_2 = 0\n",
    "for i in temp:\n",
    "    if i.isalpha():\n",
    "        count_1 += 1\n",
    "    elif i.isdigit():\n",
    "        count_2 += 1\n",
    "L10 = [count_1, count_2]\n",
    "L10"
   ],
   "execution_count": 46
  },
  {
   "metadata": {
    "id": "0C7C5683E7E64CBE85E895B05438E729",
    "notebookId": "61a4a8eee867ee0017bfaafc",
    "jupyter": {},
    "tags": [],
    "slideshow": {
     "slide_type": "slide"
    },
    "trusted": true,
    "collapsed": false,
    "scrolled": false,
    "mdEditEnable": false
   },
   "cell_type": "markdown",
   "source": [
    "![Image Name](https://cdn.kesci.com/upload/image/r3byliyq0a.png)\n",
    "\n",
    "本题答案请参考"
   ]
  },
  {
   "metadata": {
    "id": "A32AE05AA2EC438F84523F32D37B5E2A",
    "notebookId": "615114d38447b800176b00fe",
    "jupyter": {},
    "tags": [],
    "slideshow": {
     "slide_type": "slide"
    },
    "trusted": true,
    "mdEditEnable": false
   },
   "cell_type": "markdown",
   "source": [
    "## 第十一题\n",
    "\n",
    "题目：编写一个输入英文句子并计算该句子中大写字母和小写字母数量的程序。\n",
    "要求输入'Hello world!'，将大写字母和小写字母的个数存到数组L11中；"
   ]
  },
  {
   "metadata": {
    "id": "CE5035F52FAD44A6867770F7EB0BAFA8",
    "notebookId": "61a4a8eee867ee0017bfaafc",
    "jupyter": {},
    "tags": [],
    "slideshow": {
     "slide_type": "slide"
    },
    "trusted": true,
    "collapsed": false,
    "scrolled": false
   },
   "cell_type": "code",
   "outputs": [
    {
     "data": {
      "text/plain": "[1, 9]"
     },
     "execution_count": 47,
     "metadata": {},
     "output_type": "execute_result"
    }
   ],
   "source": [
    "temp = 'Hello world!'\n",
    "count_1 = 0\n",
    "count_2 = 0\n",
    "for i in temp:\n",
    "    if i.isupper():\n",
    "        count_1 += 1\n",
    "    elif i.islower():\n",
    "        count_2 += 1\n",
    "L11 = [count_1, count_2]\n",
    "L11"
   ],
   "execution_count": 47
  },
  {
   "metadata": {
    "id": "620D973253004034A5DA6D6CC94FAFEC",
    "notebookId": "61a4a8eee867ee0017bfaafc",
    "jupyter": {},
    "tags": [],
    "slideshow": {
     "slide_type": "slide"
    },
    "trusted": true,
    "mdEditEnable": false,
    "collapsed": false,
    "scrolled": false
   },
   "cell_type": "markdown",
   "source": [
    "![Image Name](https://cdn.kesci.com/upload/image/r3bypc4wt9.png)\n",
    "\n",
    "本题答案请参考"
   ]
  },
  {
   "metadata": {
    "id": "A0D00D0C881E41DCB7D3EB4CAD1A77B8",
    "notebookId": "615114d38447b800176b00fe",
    "jupyter": {},
    "tags": [],
    "slideshow": {
     "slide_type": "slide"
    },
    "trusted": true,
    "mdEditEnable": false
   },
   "cell_type": "markdown",
   "source": [
    "## 第十二题\n",
    "\n",
    "题目：网站要求用户输入用户名和密码进行注册。编写程序以检查用户输入的密码有效性。\n",
    "以下是检查密码的标准：\n",
    "1  [a-z]之间至少有1个字母\n",
    "2 [0-9]之间至少有1个数字\n",
    "3 [A-Z]之间至少有一个字母\n",
    "4 [$＃@]中至少有1个字符\n",
    "5 最短交易密码长度：6\n",
    "6 交易密码的最大长度：12\n",
    "您的程序接收一系列逗号分隔的密码，并将根据上述标准进行检查，将打印符合条件的密码，每个密码用逗号分隔。\n",
    "\n",
    "要求输入'ABd1234@1,a F1#,2w3E*,2We3345'，将输出结果保存到L12中；"
   ]
  },
  {
   "metadata": {
    "id": "853731D24C194958833DA94A5E46B9AF",
    "notebookId": "61a4a8eee867ee0017bfaafc",
    "jupyter": {},
    "tags": [],
    "slideshow": {
     "slide_type": "slide"
    },
    "trusted": true,
    "collapsed": false,
    "scrolled": false
   },
   "cell_type": "code",
   "outputs": [
    {
     "data": {
      "text/plain": "['ABd1234@1']"
     },
     "execution_count": 48,
     "metadata": {},
     "output_type": "execute_result"
    }
   ],
   "source": [
    "def check_pw(password):\n",
    "    if len(password) < 6 or len(password) > 12:\n",
    "        return False\n",
    "    n1 = n2 = n3 = n4 = 0\n",
    "    for i in password:\n",
    "        if i in 'qazwsxedcrfvtgbyhnujmikolp':\n",
    "            n1 += 1\n",
    "        elif i in '0123456789':\n",
    "            n2 += 1\n",
    "        elif i in 'QAZWSXEDCRFVTGBYHNUJMIKOLP':\n",
    "            n3 += 1\n",
    "        elif i in '$#@':\n",
    "            n4 += 1\n",
    "        else:\n",
    "            return False\n",
    "    if n1 >= 1 and n2 >= 1 and n3 >= 1 and n4 >= 1:\n",
    "        return True\n",
    "\n",
    "\n",
    "temp = 'ABd1234@1,a F1#,2w3E*,2We3345'\n",
    "temp = temp.split(',')\n",
    "L12 = [i for i in temp if check_pw(i)]\n",
    "L12"
   ],
   "execution_count": 48
  },
  {
   "metadata": {
    "id": "C50EA6D23E304EC68C1E59B796F1175E",
    "notebookId": "61a4a8eee867ee0017bfaafc",
    "jupyter": {},
    "tags": [],
    "slideshow": {
     "slide_type": "slide"
    },
    "trusted": true,
    "collapsed": false,
    "scrolled": false,
    "mdEditEnable": false
   },
   "cell_type": "markdown",
   "source": [
    "![Image Name](https://cdn.kesci.com/upload/image/r3bysn9c3y.png)\n",
    "\n",
    "本题答案请参考"
   ]
  },
  {
   "metadata": {
    "id": "65399402F97F48C0815AC916A4EA46FB",
    "notebookId": "615114d38447b800176b00fe",
    "jupyter": {},
    "tags": [],
    "slideshow": {
     "slide_type": "slide"
    },
    "trusted": true,
    "mdEditEnable": false
   },
   "cell_type": "markdown",
   "source": [
    "## 第十三题\n",
    "\n",
    "数组1：[49, 38, 65, 97, 76, 13, 27, 49, 55, 4] ，排序方法：冒泡排序\n",
    "\n",
    "将排序后的结果保存到L13中；"
   ]
  },
  {
   "cell_type": "code",
   "execution_count": 49,
   "outputs": [
    {
     "data": {
      "text/plain": "[4, 13, 27, 38, 49, 49, 55, 65, 76, 97]"
     },
     "execution_count": 49,
     "metadata": {},
     "output_type": "execute_result"
    }
   ],
   "source": [
    "temp = [49, 38, 65, 97, 76, 13, 27, 49, 55, 4]\n",
    "\n",
    "\n",
    "def bubble_sort(lst):\n",
    "    for i in range(len(lst) - 1):\n",
    "        for j in range(len(lst) - 1, i, -1):\n",
    "            if temp[j] < temp[j - 1]:\n",
    "                temp[j - 1], temp[j] = temp[j], temp[j - 1]\n",
    "    return lst\n",
    "\n",
    "\n",
    "L13 = bubble_sort(temp)\n",
    "L13"
   ],
   "metadata": {
    "collapsed": false
   }
  },
  {
   "metadata": {
    "id": "C8EA6E9EFFD1421AABEF72FABF8EF03D",
    "notebookId": "61a4a8eee867ee0017bfaafc",
    "jupyter": {},
    "tags": [],
    "slideshow": {
     "slide_type": "slide"
    },
    "trusted": true,
    "collapsed": false,
    "scrolled": false,
    "mdEditEnable": false
   },
   "cell_type": "markdown",
   "source": [
    "![Image Name](https://cdn.kesci.com/upload/image/r3byul2p99.png)\n",
    "\n",
    "本题答案请参考"
   ]
  },
  {
   "metadata": {
    "id": "46504E88529E45749CB56B8FD8249421",
    "notebookId": "615114d38447b800176b00fe",
    "jupyter": {},
    "tags": [],
    "slideshow": {
     "slide_type": "slide"
    },
    "trusted": true,
    "mdEditEnable": false
   },
   "cell_type": "markdown",
   "source": [
    "## 第十四题\n",
    "\n",
    "题目：机器人从原点（0,0）开始在平面中移动，机器人可以通过给定的步骤向上，向下，向左和向右移动。 \n",
    "机器人运动的痕迹如下所示：\n",
    "UP 5；DOWN 3；LEFT 3；RIGHT 2；方向之后的数字是步骤。 \n",
    "\n",
    "请编写一个程序，计算一系列运动和原点之后距当前位置的距离。如果距离是浮点数，则只打印最接近的整数。\n",
    "要求输入'UP 5；DOWN 3；LEFT 3；RIGHT 2'这一字符串，将最终结果保存到L14中；"
   ]
  },
  {
   "metadata": {
    "id": "E6051EA5589442758BB73607B1C2F22A",
    "notebookId": "61a4a8eee867ee0017bfaafc",
    "jupyter": {},
    "tags": [],
    "slideshow": {
     "slide_type": "slide"
    },
    "trusted": true,
    "collapsed": false,
    "scrolled": false
   },
   "cell_type": "code",
   "outputs": [
    {
     "data": {
      "text/plain": "[2]"
     },
     "execution_count": 50,
     "metadata": {},
     "output_type": "execute_result"
    }
   ],
   "source": [
    "def move():\n",
    "    x = y = 0\n",
    "    while True:\n",
    "        temp = input('输入')\n",
    "        if not temp:\n",
    "            return L14\n",
    "        temp = temp.split(' ')\n",
    "        if temp[0] == 'UP':\n",
    "            y += int(temp[1])\n",
    "        if temp[0] == 'DOWN':\n",
    "            y -= int(temp[1])\n",
    "        if temp[0] == 'LEFT':\n",
    "            x -= int(temp[1])\n",
    "        if temp[0] == 'RIGHT':\n",
    "            x += int(temp[1])\n",
    "        L14 = [int((x ** 2 + y ** 2) ** 0.5)]\n",
    "\n",
    "\n",
    "L14 = move()\n",
    "L14"
   ],
   "execution_count": 50
  },
  {
   "metadata": {
    "id": "48C25A11385C4D5EB9FB77F62FE1897E",
    "notebookId": "61a4a8eee867ee0017bfaafc",
    "jupyter": {},
    "tags": [],
    "slideshow": {
     "slide_type": "slide"
    },
    "trusted": true,
    "collapsed": false,
    "scrolled": false,
    "mdEditEnable": false
   },
   "cell_type": "markdown",
   "source": [
    "![Image Name](https://cdn.kesci.com/upload/image/r3byxu5uu2.png)\n",
    "\n",
    "本题答案请参考\n"
   ]
  },
  {
   "metadata": {
    "id": "3F454D383A4C45DDAB2AEBC4332B2B69",
    "notebookId": "615114d38447b800176b00fe",
    "jupyter": {},
    "tags": [],
    "slideshow": {
     "slide_type": "slide"
    },
    "trusted": true,
    "mdEditEnable": false
   },
   "cell_type": "markdown",
   "source": [
    "## 第十五题\n",
    "\n",
    "题目：假定我们数农场里的鸡和兔子中有35个头和94条腿。问我们有多少只兔子和多少只鸡？将最终结果保存到数组L15中；"
   ]
  },
  {
   "metadata": {
    "id": "DE32DDA5C4DE45829E07A947D8354B9F",
    "notebookId": "61a4a8eee867ee0017bfaafc",
    "jupyter": {},
    "tags": [],
    "slideshow": {
     "slide_type": "slide"
    },
    "trusted": true,
    "collapsed": false,
    "scrolled": false
   },
   "cell_type": "code",
   "outputs": [
    {
     "data": {
      "text/plain": "[23, 12]"
     },
     "execution_count": 51,
     "metadata": {},
     "output_type": "execute_result"
    }
   ],
   "source": [
    "L15 = []\n",
    "for i in range(1, 35):\n",
    "    if 2*i+4*(35-i)==94:\n",
    "        L15.append(i)\n",
    "        L15.append(35-i)\n",
    "L15\n"
   ],
   "execution_count": 51
  },
  {
   "metadata": {
    "id": "2CA90E75B3864132824C40A65EB0715D",
    "notebookId": "61a4a8eee867ee0017bfaafc",
    "jupyter": {},
    "tags": [],
    "slideshow": {
     "slide_type": "slide"
    },
    "trusted": true,
    "mdEditEnable": false
   },
   "cell_type": "markdown",
   "source": [
    "![Image Name](https://cdn.kesci.com/upload/image/r3bz0r76km.png)\n",
    "\n",
    "本题答案请参考"
   ]
  },
  {
   "metadata": {
    "id": "551956ED555F4FB38CE85B9F72F8855B",
    "notebookId": "615114d38447b800176b00fe",
    "jupyter": {},
    "tags": [],
    "slideshow": {
     "slide_type": "slide"
    },
    "trusted": true,
    "mdEditEnable": false,
    "collapsed": true,
    "scrolled": false
   },
   "cell_type": "markdown",
   "source": [
    "# STEP2: 将结果保存为 csv 文件\n",
    "\n",
    "将上述L1，L2........L15数组创建单个数据框，然后按列合并成一个数据框，列名设置为answer，并重置索引;"
   ]
  },
  {
   "metadata": {
    "id": "6B4B75F9B2CB4325884D9F9DBEA4A7C7",
    "notebookId": "61a5a8485cd1740017429f48",
    "jupyter": {},
    "tags": [],
    "slideshow": {
     "slide_type": "slide"
    },
    "trusted": true
   },
   "cell_type": "code",
   "outputs": [
    {
     "data": {
      "text/plain": "       id answer\n0      a0     28\n1      a1     34\n2      a2     67\n3      a3     55\n4      a4     33\n..    ...    ...\n178  a178     76\n179  a179     97\n180  a180      2\n181  a181     23\n182  a182     12\n\n[183 rows x 2 columns]",
      "text/html": "<div>\n<style scoped>\n    .dataframe tbody tr th:only-of-type {\n        vertical-align: middle;\n    }\n\n    .dataframe tbody tr th {\n        vertical-align: top;\n    }\n\n    .dataframe thead th {\n        text-align: right;\n    }\n</style>\n<table border=\"1\" class=\"dataframe\">\n  <thead>\n    <tr style=\"text-align: right;\">\n      <th></th>\n      <th>id</th>\n      <th>answer</th>\n    </tr>\n  </thead>\n  <tbody>\n    <tr>\n      <th>0</th>\n      <td>a0</td>\n      <td>28</td>\n    </tr>\n    <tr>\n      <th>1</th>\n      <td>a1</td>\n      <td>34</td>\n    </tr>\n    <tr>\n      <th>2</th>\n      <td>a2</td>\n      <td>67</td>\n    </tr>\n    <tr>\n      <th>3</th>\n      <td>a3</td>\n      <td>55</td>\n    </tr>\n    <tr>\n      <th>4</th>\n      <td>a4</td>\n      <td>33</td>\n    </tr>\n    <tr>\n      <th>...</th>\n      <td>...</td>\n      <td>...</td>\n    </tr>\n    <tr>\n      <th>178</th>\n      <td>a178</td>\n      <td>76</td>\n    </tr>\n    <tr>\n      <th>179</th>\n      <td>a179</td>\n      <td>97</td>\n    </tr>\n    <tr>\n      <th>180</th>\n      <td>a180</td>\n      <td>2</td>\n    </tr>\n    <tr>\n      <th>181</th>\n      <td>a181</td>\n      <td>23</td>\n    </tr>\n    <tr>\n      <th>182</th>\n      <td>a182</td>\n      <td>12</td>\n    </tr>\n  </tbody>\n</table>\n<p>183 rows × 2 columns</p>\n</div>"
     },
     "execution_count": 60,
     "metadata": {},
     "output_type": "execute_result"
    }
   ],
   "source": [
    "import pandas as pd\n",
    "\n",
    "df1 = pd.DataFrame({'answer': L1})\n",
    "df2 = pd.DataFrame({'answer': L2})\n",
    "df3 = pd.DataFrame({'answer': L3})\n",
    "df4 = pd.DataFrame({'answer': L4})\n",
    "df5 = pd.DataFrame({'answer': L5})\n",
    "df6 = pd.DataFrame({'answer': L6})\n",
    "df7 = pd.DataFrame({'answer': L7})\n",
    "df8 = pd.DataFrame({'answer': L8})\n",
    "df9 = pd.DataFrame({'answer': L9})\n",
    "df10 = pd.DataFrame({'answer': L10})\n",
    "df11 = pd.DataFrame({'answer': L11})\n",
    "df12 = pd.DataFrame({'answer': L12})\n",
    "df13 = pd.DataFrame({'answer': L13})\n",
    "df14 = pd.DataFrame({'answer': L14})\n",
    "df15 = pd.DataFrame({'answer': L15})\n",
    "df = pd.concat([df1, df2, df3, df4, df5, df6, df7, df8, df9, df10, df11, df12, df13, df14, df15]).reset_index(drop=True)\n",
    "df['id'] = ['a' + str(i) for i in range(len(df))]\n",
    "df = df[['id', 'answer']]\n",
    "df"
   ],
   "execution_count": 60
  },
  {
   "metadata": {
    "id": "4D0D937D30684B18991C2CF2F653F905",
    "notebookId": "615114d38447b800176b00fe",
    "jupyter": {},
    "tags": [],
    "slideshow": {
     "slide_type": "slide"
    },
    "trusted": true,
    "collapsed": false,
    "scrolled": false,
    "mdEditEnable": true
   },
   "cell_type": "markdown",
   "source": [
    "\n",
    "![Image Name](https://cdn.kesci.com/upload/image/r3fl9x61cq.jpeg?imageView2/0/w/960/h/960)\n",
    "\n",
    "⚠️检查一下 **183 rows × 2 columns**\n",
    "\n",
    "**最后一行为 a182**"
   ]
  },
  {
   "metadata": {
    "id": "05130D64C6FA47DAB515BA73D286F9C6",
    "notebookId": "615114d38447b800176b00fe",
    "jupyter": {},
    "tags": [],
    "slideshow": {
     "slide_type": "slide"
    },
    "trusted": true,
    "collapsed": false,
    "scrolled": false
   },
   "cell_type": "code",
   "outputs": [],
   "source": [
    "# 保存文件到本地\n",
    "df.to_csv('answer_5.csv', index=False, encoding='utf-8-sig')  #代码自动补全的快捷键是 tab；运行完成后，左侧文件树刷新下，可以找到这份文件"
   ],
   "execution_count": 53
  },
  {
   "metadata": {
    "id": "EB7A6F6C6CD94F098FC3D49EF86AFB8C",
    "notebookId": "61a5a8485cd1740017429f48",
    "jupyter": {},
    "tags": [],
    "slideshow": {
     "slide_type": "slide"
    },
    "trusted": true,
    "mdEditEnable": true
   },
   "cell_type": "markdown",
   "source": [
    "\n",
    "# STEP3: 提交 csv 文件，获取分数结果\n",
    "\n",
    "现在你的答案文件已经准备完毕了，怎么提交得到评分呢？\n",
    "\n",
    "1、拷贝提交 token\n",
    "\n",
    "去活动[提交页面](https://www.heywhale.com/home/activity/detail/61542939c270e400182b1294/submit)，找到对应关卡，看到了你的 token 嘛？\n",
    "\n",
    "拷贝到下方 cell 里（替换掉 XXXXXXX），右上角保证Kernel类型为Python3哈；\n",
    "\n",
    "记得：每个关卡的 token 不一样。\n",
    "\n",
    "2、找到你的答案文件路径\n",
    "\n",
    "左侧文件树，刷新，在 project 下找到答案文件，右键点击可复制路径。"
   ]
  },
  {
   "metadata": {
    "id": "EED067CCCE9541E68CE99FC7FE0D056D",
    "notebookId": "615114d38447b800176b00fe",
    "jupyter": {},
    "tags": [],
    "slideshow": {
     "slide_type": "slide"
    },
    "trusted": true
   },
   "cell_type": "code",
   "outputs": [
    {
     "name": "stderr",
     "output_type": "stream",
     "text": [
      "此时不应有 &。\n",
      "'.' 不是内部或外部命令，也不是可运行的程序\n",
      "或批处理文件。\n"
     ]
    }
   ],
   "source": [
    "# 运行这个 cell 前记得一定要保证右上角 kernel为 Python 3 的噢\n",
    "# 下载提交工具\n",
    "!wget -nv -O heywhale_submit https: // cdn.kesci.com / submit_tool / v4 / heywhale_submit & & chmod +x heywhale_submit\n",
    "\n",
    "# 运行提交工具\n",
    "# 把下方 XXXXXXX 替换为你的 Token，submit_file 为要提交的文件名路径\n",
    "# 文件名路径去左侧文件树下，刷新，找到对应的 csv 文件，右键复制路径\n",
    "!./ heywhale_submit -token 446c50d64e18f27f -file / home / mw / project / answer_5.csv"
   ],
   "execution_count": 61
  },
  {
   "metadata": {
    "id": "0AD59384C45645A682BD7A24F930DCAE",
    "notebookId": "615114d38447b800176b00fe",
    "jupyter": {},
    "tags": [],
    "slideshow": {
     "slide_type": "slide"
    },
    "trusted": true,
    "mdEditEnable": true
   },
   "cell_type": "markdown",
   "source": [
    "\n",
    "![Image Name](https://cdn.kesci.com/upload/image/r2luuc1vas.png?imageView2/0/w/960/h/960)\n",
    "\n",
    "\n",
    "没有成功也不怕，看下报错信息，对照排查下，改完重新提交咯。\n",
    "\n",
    "祝好运 🐳 \n",
    "\n",
    "恭喜完成了**Python基础·闯关**的学习"
   ]
  },
  {
   "metadata": {
    "id": "4C4B0B138B4D45D39A4F8155676949B8",
    "notebookId": "615114d38447b800176b00fe",
    "jupyter": {},
    "tags": [],
    "slideshow": {
     "slide_type": "slide"
    },
    "trusted": true,
    "collapsed": false,
    "scrolled": false
   },
   "cell_type": "code",
   "outputs": [],
   "source": [],
   "execution_count": 54
  }
 ],
 "metadata": {
  "kernelspec": {
   "name": "pycharm-project2",
   "language": "python",
   "display_name": "PyCharm (MXnet)"
  },
  "language_info": {
   "codemirror_mode": {
    "name": "ipython",
    "version": 3
   },
   "name": "python",
   "mimetype": "text/x-python",
   "nbconvert_exporter": "python",
   "file_extension": ".py",
   "version": "3.5.2",
   "pygments_lexer": "ipython3"
  }
 },
 "nbformat": 4,
 "nbformat_minor": 0
}
