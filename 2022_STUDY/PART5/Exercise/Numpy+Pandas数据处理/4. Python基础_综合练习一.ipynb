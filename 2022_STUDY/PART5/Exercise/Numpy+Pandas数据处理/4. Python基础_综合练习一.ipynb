{
 "cells": [
  {
   "metadata": {
    "trusted": true,
    "collapsed": false,
    "jupyter": {},
    "tags": [],
    "slideshow": {
     "slide_type": "slide"
    },
    "id": "D5EDBFC0853748828F5EF675DD18C434",
    "mdEditEnable": false
   },
   "cell_type": "markdown",
   "source": [
    "# 🔖四、Python综合练习一"
   ]
  },
  {
   "metadata": {
    "id": "4489B56A517542FBAB8A14CC547C2160",
    "notebookId": "61511d7f07bcea0017fcea18",
    "jupyter": {},
    "tags": [],
    "slideshow": {
     "slide_type": "slide"
    },
    "trusted": true,
    "mdEditEnable": false
   },
   "cell_type": "markdown",
   "source": [
    "# STEP1：计算以下各题"
   ]
  },
  {
   "source": [
    "## 第一题\n",
    "\n",
    "题目：有四个数字：1、2、3、4，能组成多少个互不相同且无重复数字的三位数？各是多少？\n",
    "\n",
    "程序分析：可填在百位、十位、个位的数字都是1、2、3、4。组成所有的排列后再去 掉不满足条件的排列。\n",
    "\n",
    "注：结果保存到L1中，每道题的结果均依次保存到L2，L3，L4......"
   ],
   "cell_type": "markdown",
   "metadata": {
    "trusted": true,
    "collapsed": true,
    "jupyter": {},
    "tags": [],
    "slideshow": {
     "slide_type": "slide"
    },
    "id": "11CEBAC9E8DB40C2881F4D7957B096FE",
    "mdEditEnable": false,
    "scrolled": false
   }
  },
  {
   "metadata": {
    "id": "5CD52617D40A433AA1236B0350E519FA",
    "notebookId": "6191deb9ebdfaf001757f602",
    "jupyter": {},
    "tags": [],
    "slideshow": {
     "slide_type": "slide"
    },
    "trusted": true,
    "pycharm": {
     "is_executing": true
    }
   },
   "cell_type": "code",
   "outputs": [],
   "source": [
    "L1 = set()\n",
    "for i in range(1, 5):\n",
    "    for j in range(1, 5):\n",
    "        for k in range(1, 5):\n",
    "            if i != j and i != k and j != k:\n",
    "                L1.add(i * 100 + j * 10 + k)\n",
    "L1 = [str(i) for i in L1]\n",
    "L1 = sorted(L1)\n",
    "L1"
   ],
   "execution_count": null
  },
  {
   "metadata": {
    "id": "0F259A3B855643918125D4EB65E8D0FA",
    "notebookId": "6191deb9ebdfaf001757f602",
    "jupyter": {},
    "tags": [],
    "slideshow": {
     "slide_type": "slide"
    },
    "trusted": true,
    "mdEditEnable": true
   },
   "cell_type": "markdown",
   "source": [
    "\n",
    "![Image Name](https://cdn.kesci.com/upload/image/r3buxwyq3s.png?imageView2/0/w/960/h/960)\n",
    "本题答案请参考"
   ]
  },
  {
   "metadata": {
    "id": "DFD95DA105F549DA893A6172E425B899",
    "notebookId": "615114d38447b800176b00fe",
    "jupyter": {},
    "tags": [],
    "slideshow": {
     "slide_type": "slide"
    },
    "trusted": true,
    "mdEditEnable": false,
    "collapsed": true,
    "scrolled": false
   },
   "cell_type": "markdown",
   "source": [
    "## 第二题\n",
    "\n",
    "题目：企业发放的奖金根据利润提成。利润(I)低于或等于10万元时，奖金可提10%；利润高于10万元，低于20万元时，低于10万元的部分按10%提成，高于10万元的部分，可提成7.5%；20万到40万之间时，高于20万元的部分，可提成5%；40万到60万之间时高于40万元的部分，可提成3%；60万到100万之间时，高于60万元的部分，可提成1.5%，高于100万元时，超过100万元的部分按1%提成，从输入利润为120000时，求应发放奖金总数？结果转换成int，保存到L2数组中\n",
    "\n",
    "程序分析：请利用数轴来分界，定位。"
   ]
  },
  {
   "metadata": {
    "id": "F07E429C81E34D288DD1BF5AC48FBDE6",
    "notebookId": "6191deb9ebdfaf001757f602",
    "jupyter": {},
    "tags": [],
    "slideshow": {
     "slide_type": "slide"
    },
    "trusted": true
   },
   "cell_type": "code",
   "outputs": [
    {
     "data": {
      "text/plain": "[11500]"
     },
     "execution_count": 34,
     "metadata": {},
     "output_type": "execute_result"
    }
   ],
   "source": [
    "price = int(120000 / 10000)\n",
    "profit = 0\n",
    "if price <= 10:\n",
    "    profit += (price - 10) * 0.075\n",
    "if 10 <= price <= 20:\n",
    "    profit += 10 * 0.1\n",
    "    profit += (price - 10) * 0.075\n",
    "elif 20 < price <= 40:\n",
    "    profit += 10 * 0.1 + 10 * 0.075\n",
    "    profit += (price - 20) * 0.05\n",
    "elif 40 < price <= 60:\n",
    "    profit += 10 * 0.1 + 10 * 0.075 + 20 * 0.05\n",
    "    profit += (price - 40) * 0.03\n",
    "elif 60 < price <= 100:\n",
    "    profit += 10 * 0.1 + 10 * 0.075 + 20 * 0.05 + 20 * 0.03\n",
    "    profit += (price - 60) * 0.015\n",
    "elif price > 100:\n",
    "    profit += 10 * 0.1 + 10 * 0.075 + 20 * 0.05 + 20 * 0.03 + 40 * 0.015\n",
    "    profit += (price - 100) * 0.01\n",
    "L2 = [int(profit * 10000)]\n",
    "L2"
   ],
   "execution_count": 34
  },
  {
   "metadata": {
    "id": "4D19D1C3F1324B5C8319EE96117A021B",
    "notebookId": "6191deb9ebdfaf001757f602",
    "jupyter": {},
    "tags": [],
    "slideshow": {
     "slide_type": "slide"
    },
    "trusted": true,
    "mdEditEnable": true
   },
   "cell_type": "markdown",
   "source": [
    "\n",
    "![Image Name](https://cdn.kesci.com/upload/image/r3bv0frlb6.png?imageView2/0/w/960/h/960)\n",
    "\n",
    "本题答案请参考"
   ]
  },
  {
   "metadata": {
    "id": "4EFE3C189C354DD5869FCE2C51FB51A6",
    "notebookId": "615114d38447b800176b00fe",
    "jupyter": {},
    "tags": [],
    "slideshow": {
     "slide_type": "slide"
    },
    "trusted": true,
    "mdEditEnable": false,
    "collapsed": false,
    "scrolled": false
   },
   "cell_type": "markdown",
   "source": [
    "## 第三题\n",
    "\n",
    "题目：一个整数，它加上100后是一个完全平方数，再加上168又是一个完全平方数，请问该数是多少？\n",
    "\n",
    "程序分析：\n",
    "\n",
    "假设该数为 x。\n",
    "\n",
    "1、则：x + 100 = n2, x + 100 + 168 = m2\n",
    "\n",
    "2、计算等式：m2 - n2 = (m + n)(m - n) = 168\n",
    "\n",
    "3、设置： m + n = i，m - n = j，i * j =168，i 和 j 至少一个是偶数\n",
    "\n",
    "4、可得： m = (i + j) / 2， n = (i - j) / 2，i 和 j 要么都是偶数，要么都是奇数。\n",
    "\n",
    "5、从 3 和 4 推导可知道，i 与 j 均是大于等于 2 的偶数。\n",
    "\n",
    "6、由于 i * j = 168， j>=2，则 1 < i < 168 / 2 + 1。\n",
    "\n",
    "7、接下来将 i 的所有数字循环计算即可。"
   ]
  },
  {
   "metadata": {
    "id": "77B22896600A42F9B232616170A37A78",
    "notebookId": "6191deb9ebdfaf001757f602",
    "jupyter": {},
    "tags": [],
    "slideshow": {
     "slide_type": "slide"
    },
    "trusted": true
   },
   "cell_type": "code",
   "outputs": [
    {
     "data": {
      "text/plain": "[-99, 21, 261, 1581]"
     },
     "execution_count": 51,
     "metadata": {},
     "output_type": "execute_result"
    }
   ],
   "source": [
    "L3 = set((int((i - j) / 2) ** 2 - 100) for i in range(2, 168 // 2, 2) for j in range(2, 168 // 2 + 1, 2) if i * j == 168)\n",
    "L3 = sorted(list(L3))\n",
    "L3"
   ],
   "execution_count": 51
  },
  {
   "metadata": {
    "id": "5EF655CD2F824DAB8D1187065014D113",
    "notebookId": "6191deb9ebdfaf001757f602",
    "jupyter": {},
    "tags": [],
    "slideshow": {
     "slide_type": "slide"
    },
    "trusted": true,
    "mdEditEnable": true
   },
   "cell_type": "markdown",
   "source": [
    "\n",
    "![Image Name](https://cdn.kesci.com/upload/image/r3bv2b1ums.png?imageView2/0/w/960/h/960)\n",
    "\n",
    "本题答案请参考"
   ]
  },
  {
   "metadata": {
    "id": "0367546FFCED4C338A7E2643D2AF38DC",
    "notebookId": "615114d38447b800176b00fe",
    "jupyter": {},
    "tags": [],
    "slideshow": {
     "slide_type": "slide"
    },
    "trusted": true,
    "mdEditEnable": false,
    "collapsed": false,
    "scrolled": false
   },
   "cell_type": "markdown",
   "source": [
    "## 第四题\n",
    "\n",
    "题目：输入2021-09-30，判断这一天是这一年的第几天？\n",
    "\n",
    "程序分析：以3月5日为例，应该先把前两个月的加起来，然后再加上5天即本年的第几天，特殊情况，闰年且输入月份大于2时需考虑多加一天："
   ]
  },
  {
   "metadata": {
    "id": "64703F5315E6459A81A7A0BCC4AECA3C",
    "notebookId": "6191deb9ebdfaf001757f602",
    "jupyter": {},
    "tags": [],
    "slideshow": {
     "slide_type": "slide"
    },
    "trusted": true
   },
   "cell_type": "code",
   "outputs": [
    {
     "data": {
      "text/plain": "[273]"
     },
     "execution_count": 36,
     "metadata": {},
     "output_type": "execute_result"
    }
   ],
   "source": [
    "def is_leap_year(year):\n",
    "    return year % 4 == 0 and year % 100 != 0 or year % 400 == 0\n",
    "\n",
    "\n",
    "def which_day(year, month, date):\n",
    "    days_of_month = [\n",
    "        [31, 28, 31, 30, 31, 30, 31, 31, 30, 31, 30, 31],\n",
    "        [31, 29, 31, 30, 31, 30, 31, 31, 30, 31, 30, 31]\n",
    "        ][is_leap_year(year)]\n",
    "    total = 0\n",
    "    for index in range(month - 1):\n",
    "        total += days_of_month[index]\n",
    "    return total + date\n",
    "\n",
    "\n",
    "L4 = [which_day(2021, 9, 30)]\n",
    "L4"
   ],
   "execution_count": 36
  },
  {
   "metadata": {
    "id": "71173857931D45108F4291952980E0EA",
    "notebookId": "6191deb9ebdfaf001757f602",
    "jupyter": {},
    "tags": [],
    "slideshow": {
     "slide_type": "slide"
    },
    "trusted": true,
    "mdEditEnable": true
   },
   "cell_type": "markdown",
   "source": [
    "\n",
    "![Image Name](https://cdn.kesci.com/upload/image/r3bv2xregx.png?imageView2/0/w/960/h/960)\n",
    "\n",
    "本题答案请参考"
   ]
  },
  {
   "metadata": {
    "id": "0A42CDE6E765404B9C89568A434613E5",
    "notebookId": "615114d38447b800176b00fe",
    "jupyter": {},
    "tags": [],
    "slideshow": {
     "slide_type": "slide"
    },
    "trusted": true,
    "mdEditEnable": false,
    "collapsed": true,
    "scrolled": false
   },
   "cell_type": "markdown",
   "source": [
    "## 第五题\n",
    "\n",
    "题目：输入三个整数13, 4,20，请把这三个数由小到大输出。\n",
    "\n",
    "程序分析：我们想办法把最小的数放到x上，先将x与y进行比较，如果x>y则将x与y的值进行交换，然后再用x与z进行比较，如果x>z则将x与z的值进行交换，这样能使x最小。"
   ]
  },
  {
   "metadata": {
    "id": "3FD53DCC65324A1AB9F8D602B918E32B",
    "notebookId": "6191deb9ebdfaf001757f602",
    "jupyter": {},
    "tags": [],
    "slideshow": {
     "slide_type": "slide"
    },
    "trusted": true
   },
   "cell_type": "code",
   "outputs": [
    {
     "data": {
      "text/plain": "[4, 13, 20]"
     },
     "execution_count": 37,
     "metadata": {},
     "output_type": "execute_result"
    }
   ],
   "source": [
    "x = 13\n",
    "y = 4\n",
    "z = 20\n",
    "if x < y:\n",
    "    if y < z:\n",
    "        L5 = [x, y, z]\n",
    "    else:\n",
    "        if x < z:\n",
    "            L5 = [x, z, y]\n",
    "        else:\n",
    "            L5 = [z, x, y]\n",
    "else:\n",
    "    if y < z:\n",
    "        if x < z:\n",
    "            L5 = [y, x, z]\n",
    "        else:\n",
    "            L5 = [y, z, x]\n",
    "    else:\n",
    "        L5 = [z, y, x]\n",
    "L5"
   ],
   "execution_count": 37
  },
  {
   "metadata": {
    "id": "C3CCDF0C7901453682DC775CCE0221B7",
    "notebookId": "6191deb9ebdfaf001757f602",
    "jupyter": {},
    "tags": [],
    "slideshow": {
     "slide_type": "slide"
    },
    "trusted": true,
    "mdEditEnable": true
   },
   "cell_type": "markdown",
   "source": [
    "\n",
    "![Image Name](https://cdn.kesci.com/upload/image/r3bvasei3z.png?imageView2/0/w/960/h/960)\n",
    "\n",
    "\n",
    "本题答案请参考"
   ]
  },
  {
   "metadata": {
    "id": "714E22E33A07400F817F0AC3F37BF765",
    "notebookId": "615114d38447b800176b00fe",
    "jupyter": {},
    "tags": [],
    "slideshow": {
     "slide_type": "slide"
    },
    "trusted": true,
    "mdEditEnable": false,
    "collapsed": false,
    "scrolled": false
   },
   "cell_type": "markdown",
   "source": [
    "## 第六题\n",
    "\n",
    "题目：斐波那契数列。\n",
    "\n",
    "程序分析：斐波那契数列（Fibonacci sequence），又称黄金分割数列，指的是这样一个数列：0、1、1、2、3、5、8、13、21、34、……。输出第10个斐波那契数列\n",
    "\n",
    "在数学上，费波那契数列是以递归的方法来定义：\n",
    "\n",
    "```\n",
    "F0 = 0     (n=0)\n",
    "F1 = 1    (n=1)\n",
    "Fn = F[n-1]+ F[n-2](n=>2)\n",
    "```"
   ]
  },
  {
   "metadata": {
    "id": "9A90FE944D944B5D9527AF45832B3B1F",
    "notebookId": "6191deb9ebdfaf001757f602",
    "jupyter": {},
    "tags": [],
    "slideshow": {
     "slide_type": "slide"
    },
    "trusted": true
   },
   "cell_type": "code",
   "outputs": [
    {
     "data": {
      "text/plain": "[55]"
     },
     "execution_count": 38,
     "metadata": {},
     "output_type": "execute_result"
    }
   ],
   "source": [
    "def fib(n):\n",
    "    if n in [1, 2]:\n",
    "        return 1\n",
    "    return fib(n - 1) + fib(n - 2)\n",
    "\n",
    "\n",
    "L6 = [fib(10)]\n",
    "L6"
   ],
   "execution_count": 38
  },
  {
   "metadata": {
    "id": "CA3F0D2120EE4739AD2F2883BDAB2831",
    "notebookId": "6191deb9ebdfaf001757f602",
    "jupyter": {},
    "tags": [],
    "slideshow": {
     "slide_type": "slide"
    },
    "trusted": true,
    "mdEditEnable": true
   },
   "cell_type": "markdown",
   "source": [
    "\n",
    "![Image Name](https://cdn.kesci.com/upload/image/r3bvbek6sq.png?imageView2/0/w/960/h/960)\n",
    "\n",
    "\n",
    "本题答案请参考"
   ]
  },
  {
   "metadata": {
    "id": "F82ACCA59BBE4B4C8D2F2038FE906376",
    "notebookId": "615114d38447b800176b00fe",
    "jupyter": {},
    "tags": [],
    "slideshow": {
     "slide_type": "slide"
    },
    "trusted": true,
    "mdEditEnable": true,
    "collapsed": false,
    "scrolled": true
   },
   "cell_type": "markdown",
   "source": [
    "\n",
    "## 第七题\n",
    "\n",
    "题目：古典问题：有一对兔子，从出生后第3个月起每个月都生一对兔子，小兔子长到第三个月后每个月又生一对兔子，假如兔子都不死，问每个月的兔子有多少**对**？\n",
    "\n",
    "要求输出从**第1个月到第10个月**分别有多少对兔子。\n",
    "\n",
    "程序分析：兔子的规律为数列1,1,2,3,5,8,13,21...."
   ]
  },
  {
   "metadata": {
    "id": "C3335EA7CB6B4D1F84BF75976BD3EAA8",
    "notebookId": "6191deb9ebdfaf001757f602",
    "jupyter": {},
    "tags": [],
    "slideshow": {
     "slide_type": "slide"
    },
    "trusted": true
   },
   "cell_type": "code",
   "outputs": [
    {
     "data": {
      "text/plain": "[1, 1, 2, 3, 5, 8, 13, 21, 34, 55]"
     },
     "execution_count": 39,
     "metadata": {},
     "output_type": "execute_result"
    }
   ],
   "source": [
    "def fib(n):\n",
    "    if n in [1, 2]:\n",
    "        return 1\n",
    "    return fib(n - 1) + fib(n - 2)\n",
    "\n",
    "\n",
    "L7 = [fib(n) for n in range(1, 11)]\n",
    "L7"
   ],
   "execution_count": 39
  },
  {
   "metadata": {
    "id": "B8EF5FCB5C8C47C49DA39177B439354A",
    "notebookId": "6191deb9ebdfaf001757f602",
    "jupyter": {},
    "tags": [],
    "slideshow": {
     "slide_type": "slide"
    },
    "trusted": true,
    "mdEditEnable": true
   },
   "cell_type": "markdown",
   "source": [
    "\n",
    "![Image Name](https://cdn.kesci.com/upload/image/r3bvbya05i.png?imageView2/0/w/960/h/960)\n",
    "\n",
    "本题答案请参考 44"
   ]
  },
  {
   "metadata": {
    "id": "3440E71F6F174504864521F675D0302E",
    "notebookId": "615114d38447b800176b00fe",
    "jupyter": {},
    "tags": [],
    "slideshow": {
     "slide_type": "slide"
    },
    "trusted": true,
    "mdEditEnable": false,
    "collapsed": true,
    "scrolled": false
   },
   "cell_type": "markdown",
   "source": [
    "## 第八题\n",
    "\n",
    "题目：将一个正整数分解质因数。要求输入90，打印出90=2 * 3 * 3 * 5 ，保存到L8数组中。\n",
    "\n",
    "程序分析：对n进行分解质因数，应先找到一个最小的质数k，然后按下述步骤完成：\n",
    "(1)如果这个质数恰等于n，则说明分解质因数的过程已经结束，打印出即可。\n",
    "(2)如果n<>k，但n能被k整除，则应打印出k的值，并用n除以k的商,作为新的正整数你n,重复执行第一步。\n",
    "(3)如果n不能被k整除，则用k+1作为k的值,重复执行第一步。"
   ]
  },
  {
   "metadata": {
    "id": "B4AF69FA365A4A9A84C78E0081B02541",
    "notebookId": "6191deb9ebdfaf001757f602",
    "jupyter": {},
    "tags": [],
    "slideshow": {
     "slide_type": "slide"
    },
    "trusted": true
   },
   "cell_type": "code",
   "outputs": [
    {
     "data": {
      "text/plain": "[2, 3, 3, 5]"
     },
     "execution_count": 40,
     "metadata": {},
     "output_type": "execute_result"
    }
   ],
   "source": [
    "n = 90\n",
    "L8 = []\n",
    "temp = []\n",
    "i = 2\n",
    "while True:\n",
    "    if i == n:\n",
    "        temp.append(int(n))\n",
    "        break\n",
    "    if n % i == 0:\n",
    "        temp.append(i)\n",
    "        n = n / i\n",
    "    else:\n",
    "        i += 1\n",
    "for i in temp:\n",
    "    L8.append(i)\n",
    "L8\n"
   ],
   "execution_count": 40
  },
  {
   "metadata": {
    "id": "F06D950AEBAE496580C8BF05B8D3476D",
    "notebookId": "6191deb9ebdfaf001757f602",
    "jupyter": {},
    "tags": [],
    "slideshow": {
     "slide_type": "slide"
    },
    "trusted": true,
    "mdEditEnable": true
   },
   "cell_type": "markdown",
   "source": [
    "\n",
    "![Image Name](https://cdn.kesci.com/upload/image/r3bvcg9o43.png?imageView2/0/w/960/h/960)\n",
    "\n",
    "本题答案请参考"
   ]
  },
  {
   "metadata": {
    "id": "01F16AC1778949188AC5CAB01827366E",
    "notebookId": "615114d38447b800176b00fe",
    "jupyter": {},
    "tags": [],
    "slideshow": {
     "slide_type": "slide"
    },
    "trusted": true,
    "mdEditEnable": false,
    "collapsed": true,
    "scrolled": false
   },
   "cell_type": "markdown",
   "source": [
    "## 第九题\n",
    "\n",
    "题目：输入'123runoobc  kdf235*(dfl)'，分别统计出其中英文字母、空格、数字和其它字符的个数。按照顺序将个数保存到L9;\n",
    "\n",
    "程序分析：利用 while 或 for 语句,条件为输入的字符不为 '\\n'。"
   ]
  },
  {
   "metadata": {
    "id": "F66583BBB62346659FA4D83173566D53",
    "notebookId": "6191deb9ebdfaf001757f602",
    "jupyter": {},
    "tags": [],
    "slideshow": {
     "slide_type": "slide"
    },
    "trusted": true
   },
   "cell_type": "code",
   "outputs": [
    {
     "data": {
      "text/plain": "[13, 1, 6, 3]"
     },
     "execution_count": 41,
     "metadata": {},
     "output_type": "execute_result"
    }
   ],
   "source": [
    "char = 0\n",
    "space = 0\n",
    "digit = 0\n",
    "other = 0\n",
    "for i in '123runoobc kdf235*(dfl)':\n",
    "    if i in '1234567890':\n",
    "        digit += 1\n",
    "    elif i in 'qwertyuiopasdfghjklzmxncbv':\n",
    "        char += 1\n",
    "    elif i == ' ':\n",
    "        space += 1\n",
    "    else:\n",
    "        other += 1\n",
    "\n",
    "L9 = [char, space, digit, other]\n",
    "L9"
   ],
   "execution_count": 41
  },
  {
   "metadata": {
    "id": "D8B796520F6E484989E37509ED36A61A",
    "notebookId": "6191deb9ebdfaf001757f602",
    "jupyter": {},
    "tags": [],
    "slideshow": {
     "slide_type": "slide"
    },
    "trusted": true,
    "mdEditEnable": true
   },
   "cell_type": "markdown",
   "source": [
    "\n",
    "\n",
    "![Image Name](https://cdn.kesci.com/upload/image/r3bvdemfdr.png?imageView2/0/w/960/h/960)\n",
    "\n",
    "\n",
    "本题答案请参考"
   ]
  },
  {
   "metadata": {
    "id": "FF01E2D71DA646F389EBB6623DBCC1D5",
    "notebookId": "615114d38447b800176b00fe",
    "jupyter": {},
    "tags": [],
    "slideshow": {
     "slide_type": "slide"
    },
    "trusted": true,
    "mdEditEnable": false,
    "collapsed": false,
    "scrolled": true
   },
   "cell_type": "markdown",
   "source": [
    "## 第十题\n",
    "\n",
    "题目：一个数如果恰好等于它的因子之和，这个数就称为\"完数\"。例如6=1＋2＋3.编程找出1000以内的所有完数。将结果保存到L10中；"
   ]
  },
  {
   "metadata": {
    "id": "1F958B805EB74A60B288392BAC459D90",
    "notebookId": "6191deb9ebdfaf001757f602",
    "jupyter": {},
    "tags": [],
    "slideshow": {
     "slide_type": "slide"
    },
    "trusted": true
   },
   "cell_type": "code",
   "outputs": [
    {
     "data": {
      "text/plain": "[6, 28, 496]"
     },
     "execution_count": 42,
     "metadata": {},
     "output_type": "execute_result"
    }
   ],
   "source": [
    "# L10 = ''\n",
    "\n",
    "\n",
    "def find(num):\n",
    "    lst = [1]\n",
    "    for j in range(2, num // 2):\n",
    "        if num % j == 0:\n",
    "            lst.append(j)\n",
    "            lst.append(num // j)\n",
    "    return set(lst)\n",
    "\n",
    "\n",
    "# for i in range(2, 1000):\n",
    "#     if i == int(sum(find(i))):\n",
    "        # L10 += str(i)\n",
    "        # L10 += '\\n'\n",
    "        # temp = sorted(list(find(i)))\n",
    "        # for i in temp:\n",
    "        #     L10 += str(i) + ' '\n",
    "        # L10 += '\\n'\n",
    "L10 = [i for i in range(2, 1000) if i == int(sum(find(i)))]\n",
    "L10  # 开始写作业 加油"
   ],
   "execution_count": 42
  },
  {
   "metadata": {
    "id": "FCF58566753A412D8CEC6A3E3658FA0A",
    "notebookId": "6191deb9ebdfaf001757f602",
    "jupyter": {},
    "tags": [],
    "slideshow": {
     "slide_type": "slide"
    },
    "trusted": true,
    "mdEditEnable": true
   },
   "cell_type": "markdown",
   "source": [
    "\n",
    "![Image Name](https://cdn.kesci.com/upload/image/r3bvfnb9sc.png?imageView2/0/w/960/h/960)\n",
    "\n",
    "本题答案请参考"
   ]
  },
  {
   "metadata": {
    "id": "A32AE05AA2EC438F84523F32D37B5E2A",
    "notebookId": "615114d38447b800176b00fe",
    "jupyter": {},
    "tags": [],
    "slideshow": {
     "slide_type": "slide"
    },
    "trusted": true,
    "mdEditEnable": false,
    "collapsed": true,
    "scrolled": false
   },
   "cell_type": "markdown",
   "source": [
    "## 第十一题\n",
    "\n",
    "题目：一球从100米高度自由落下，每次落地后反跳回原高度的一半；再落下，求它在第10次落地时，共经过多少米？结果保存到L11中；"
   ]
  },
  {
   "metadata": {
    "id": "F912D3B438E645D881AACC975D737F63",
    "notebookId": "6191deb9ebdfaf001757f602",
    "jupyter": {},
    "tags": [],
    "slideshow": {
     "slide_type": "slide"
    },
    "trusted": true
   },
   "cell_type": "code",
   "outputs": [
    {
     "data": {
      "text/plain": "[299.609375]"
     },
     "execution_count": 43,
     "metadata": {},
     "output_type": "execute_result"
    }
   ],
   "source": [
    "temp = 0\n",
    "mile = 0\n",
    "\n",
    "\n",
    "def drop(n, m):\n",
    "    global mile, temp\n",
    "    i = 0\n",
    "    if i == n:\n",
    "        mile -= temp\n",
    "        return mile\n",
    "    mile += m / 2\n",
    "    mile += m\n",
    "    temp = m / 2\n",
    "    return drop(n - 1, m / 2)\n",
    "\n",
    "\n",
    "L11 = [drop(10, 100)]\n",
    "L11"
   ],
   "execution_count": 43
  },
  {
   "metadata": {
    "id": "5BCC89E3802D401D82A96AE063E65FB0",
    "notebookId": "6191deb9ebdfaf001757f602",
    "jupyter": {},
    "tags": [],
    "slideshow": {
     "slide_type": "slide"
    },
    "trusted": true,
    "mdEditEnable": true
   },
   "cell_type": "markdown",
   "source": [
    "\n",
    "![Image Name](https://cdn.kesci.com/upload/image/r3bvg7x97i.png?imageView2/0/w/960/h/960)\n",
    "\n",
    "本题答案请参考"
   ]
  },
  {
   "metadata": {
    "id": "A0D00D0C881E41DCB7D3EB4CAD1A77B8",
    "notebookId": "615114d38447b800176b00fe",
    "jupyter": {},
    "tags": [],
    "slideshow": {
     "slide_type": "slide"
    },
    "trusted": true,
    "mdEditEnable": false,
    "collapsed": false,
    "scrolled": false
   },
   "cell_type": "markdown",
   "source": [
    "## 第十二题\n",
    "\n",
    "题目：猴子吃桃问题：猴子第一天摘下若干个桃子，当即吃了一半，还不瘾，又多吃了一个第二天早上又将剩下的桃子吃掉一半，又多吃了一个。以后每天早上都吃了前一天剩下的一半零一个。到第10天早上想再吃时，见只剩下一个桃子了。求第一天共摘了多少。\n",
    "\n",
    "程序分析：采取逆向思维的方法，从后往前推断。"
   ]
  },
  {
   "metadata": {
    "id": "472EA2888DB841B88E061BF61A8D30A2",
    "notebookId": "6191deb9ebdfaf001757f602",
    "jupyter": {},
    "tags": [],
    "slideshow": {
     "slide_type": "slide"
    },
    "trusted": true
   },
   "cell_type": "code",
   "outputs": [
    {
     "data": {
      "text/plain": "[1534]"
     },
     "execution_count": 44,
     "metadata": {},
     "output_type": "execute_result"
    }
   ],
   "source": [
    "count = 1\n",
    "\n",
    "\n",
    "def drop_1(n):\n",
    "    global count\n",
    "    if 1 == n:\n",
    "        return count\n",
    "    count += 1\n",
    "    count *= 2\n",
    "    return drop_1(n - 1)\n",
    "\n",
    "\n",
    "L12 = [drop_1(10)]\n",
    "L12"
   ],
   "execution_count": 44
  },
  {
   "metadata": {
    "id": "370ACD1A50BE464DA4AF5BC642BA14CF",
    "notebookId": "6191deb9ebdfaf001757f602",
    "jupyter": {},
    "tags": [],
    "slideshow": {
     "slide_type": "slide"
    },
    "trusted": true,
    "mdEditEnable": false
   },
   "cell_type": "markdown",
   "source": [
    "\n",
    "![Image Name](https://cdn.kesci.com/upload/image/r3bvgok92e.png?imageView2/0/w/960/h/960)\n",
    "\n",
    "\n",
    "本题答案请参考"
   ]
  },
  {
   "metadata": {
    "id": "65399402F97F48C0815AC916A4EA46FB",
    "notebookId": "615114d38447b800176b00fe",
    "jupyter": {},
    "tags": [],
    "slideshow": {
     "slide_type": "slide"
    },
    "trusted": true,
    "mdEditEnable": false,
    "collapsed": true,
    "scrolled": false
   },
   "cell_type": "markdown",
   "source": [
    "## 第十三题\n",
    "\n",
    "题目：两个乒乓球队进行比赛，各出三人。甲队为a,b,c三人，乙队为x,y,z三人。已抽签决定比赛名单。有人向队员打听比赛的名单。a说他不和x比，c说他不和x,z比，请编程序找出与a对战的是谁？结果保存到L13中；"
   ]
  },
  {
   "metadata": {
    "id": "D9170241F8F94059853AA4D9C2F10A7B",
    "notebookId": "6191deb9ebdfaf001757f602",
    "jupyter": {},
    "tags": [],
    "slideshow": {
     "slide_type": "slide"
    },
    "trusted": true
   },
   "cell_type": "code",
   "outputs": [
    {
     "data": {
      "text/plain": "['z']"
     },
     "execution_count": 45,
     "metadata": {},
     "output_type": "execute_result"
    }
   ],
   "source": [
    "for a in 'xyz':\n",
    "    for b in 'xyz':\n",
    "        for c in 'xyz':\n",
    "            if a != 'x' and c != 'x' and c != 'z' and a != b and b != c and c != a:\n",
    "                L13 = [a]\n",
    "L13\n"
   ],
   "execution_count": 45
  },
  {
   "metadata": {
    "id": "F996E7B9789443A8A638762ED3F6823A",
    "notebookId": "6191deb9ebdfaf001757f602",
    "jupyter": {},
    "tags": [],
    "slideshow": {
     "slide_type": "slide"
    },
    "trusted": true,
    "mdEditEnable": true
   },
   "cell_type": "markdown",
   "source": [
    "\n",
    "![Image Name](https://cdn.kesci.com/upload/image/r3bvibyk74.png?imageView2/0/w/960/h/960)\n",
    "\n",
    "本题答案请参考"
   ]
  },
  {
   "metadata": {
    "id": "46504E88529E45749CB56B8FD8249421",
    "notebookId": "615114d38447b800176b00fe",
    "jupyter": {},
    "tags": [],
    "slideshow": {
     "slide_type": "slide"
    },
    "trusted": true,
    "mdEditEnable": false,
    "collapsed": false,
    "scrolled": true
   },
   "cell_type": "markdown",
   "source": [
    "## 第十四题\n",
    "\n",
    "题目：给出23459，逆序打印出各位数字。并保存到L14中；\n",
    "\n",
    "程序分析：学会分解出每一位数。"
   ]
  },
  {
   "metadata": {
    "id": "FEAFAF6E16BD42E7B91453494BCEDDF9",
    "notebookId": "6191deb9ebdfaf001757f602",
    "jupyter": {},
    "tags": [],
    "slideshow": {
     "slide_type": "slide"
    },
    "trusted": true
   },
   "cell_type": "code",
   "outputs": [
    {
     "data": {
      "text/plain": "[9, 5, 4, 3, 2]"
     },
     "execution_count": 46,
     "metadata": {},
     "output_type": "execute_result"
    }
   ],
   "source": [
    "num1 = 23459\n",
    "num2 = str(num1)[::-1]\n",
    "L14 = [int(i) for i in num2]\n",
    "L14\n"
   ],
   "execution_count": 46
  },
  {
   "metadata": {
    "id": "20B402C5F7A64574B9949AE52DBC80A3",
    "notebookId": "6191deb9ebdfaf001757f602",
    "jupyter": {},
    "tags": [],
    "slideshow": {
     "slide_type": "slide"
    },
    "trusted": true,
    "mdEditEnable": true
   },
   "cell_type": "markdown",
   "source": [
    "\n",
    "![Image Name](https://cdn.kesci.com/upload/image/r3bvj3zpm3.png?imageView2/0/w/960/h/960)\n",
    "\n",
    "本题答案请参考"
   ]
  },
  {
   "metadata": {
    "id": "3F454D383A4C45DDAB2AEBC4332B2B69",
    "notebookId": "615114d38447b800176b00fe",
    "jupyter": {},
    "tags": [],
    "slideshow": {
     "slide_type": "slide"
    },
    "trusted": true,
    "mdEditEnable": false
   },
   "cell_type": "markdown",
   "source": [
    "## 第十五题\n",
    "\n",
    "题目：将数组[9,6,5,4,1]逆序输出，结果保存到L15中。\n",
    "\n",
    "程序分析：用第一个与最后一个交换。"
   ]
  },
  {
   "metadata": {
    "id": "68685D4662704AAB899951B5DE2F9A9C",
    "notebookId": "6191deb9ebdfaf001757f602",
    "jupyter": {},
    "tags": [],
    "slideshow": {
     "slide_type": "slide"
    },
    "trusted": true
   },
   "cell_type": "code",
   "outputs": [
    {
     "data": {
      "text/plain": "[1, 4, 5, 6, 9]"
     },
     "execution_count": 47,
     "metadata": {},
     "output_type": "execute_result"
    }
   ],
   "source": [
    "lst = [9, 6, 5, 4, 1]\n",
    "L15 = list(reversed(lst))\n",
    "L15"
   ],
   "execution_count": 47
  },
  {
   "metadata": {
    "id": "6033619D964E45C08B60C25915A4BF2B",
    "notebookId": "6191deb9ebdfaf001757f602",
    "jupyter": {},
    "tags": [],
    "slideshow": {
     "slide_type": "slide"
    },
    "trusted": true,
    "mdEditEnable": false
   },
   "cell_type": "markdown",
   "source": [
    "\n",
    "![Image Name](https://cdn.kesci.com/upload/image/r3bvjur3un.png?imageView2/0/w/960/h/960)\n",
    "\n",
    "本题答案请参考"
   ]
  },
  {
   "metadata": {
    "id": "A7C6574D1F974489AA3AB2C8A46017D0",
    "notebookId": "61511d7f07bcea0017fcea18",
    "jupyter": {},
    "tags": [],
    "slideshow": {
     "slide_type": "slide"
    },
    "trusted": true,
    "mdEditEnable": false,
    "collapsed": false,
    "scrolled": false
   },
   "cell_type": "markdown",
   "source": [
    "# STEP：将结果保存到本地\n",
    "\n",
    "将上述L1，L2........L15数组创建单个数据框，然后按列合并成一个数据框，列名设置为answer，并重置索引;"
   ]
  },
  {
   "metadata": {
    "id": "8D6935ED017540D387C79C9364D3E38F",
    "notebookId": "6191deb9ebdfaf001757f602",
    "jupyter": {},
    "tags": [],
    "slideshow": {
     "slide_type": "slide"
    },
    "trusted": true
   },
   "cell_type": "code",
   "outputs": [
    {
     "data": {
      "text/plain": "     id answer\n0    a0    123\n1    a1    124\n2    a2    132\n3    a3    134\n4    a4    142\n..  ...    ...\n63  a63      1\n64  a64      4\n65  a65      5\n66  a66      6\n67  a67      9\n\n[68 rows x 2 columns]",
      "text/html": "<div>\n<style scoped>\n    .dataframe tbody tr th:only-of-type {\n        vertical-align: middle;\n    }\n\n    .dataframe tbody tr th {\n        vertical-align: top;\n    }\n\n    .dataframe thead th {\n        text-align: right;\n    }\n</style>\n<table border=\"1\" class=\"dataframe\">\n  <thead>\n    <tr style=\"text-align: right;\">\n      <th></th>\n      <th>id</th>\n      <th>answer</th>\n    </tr>\n  </thead>\n  <tbody>\n    <tr>\n      <th>0</th>\n      <td>a0</td>\n      <td>123</td>\n    </tr>\n    <tr>\n      <th>1</th>\n      <td>a1</td>\n      <td>124</td>\n    </tr>\n    <tr>\n      <th>2</th>\n      <td>a2</td>\n      <td>132</td>\n    </tr>\n    <tr>\n      <th>3</th>\n      <td>a3</td>\n      <td>134</td>\n    </tr>\n    <tr>\n      <th>4</th>\n      <td>a4</td>\n      <td>142</td>\n    </tr>\n    <tr>\n      <th>...</th>\n      <td>...</td>\n      <td>...</td>\n    </tr>\n    <tr>\n      <th>63</th>\n      <td>a63</td>\n      <td>1</td>\n    </tr>\n    <tr>\n      <th>64</th>\n      <td>a64</td>\n      <td>4</td>\n    </tr>\n    <tr>\n      <th>65</th>\n      <td>a65</td>\n      <td>5</td>\n    </tr>\n    <tr>\n      <th>66</th>\n      <td>a66</td>\n      <td>6</td>\n    </tr>\n    <tr>\n      <th>67</th>\n      <td>a67</td>\n      <td>9</td>\n    </tr>\n  </tbody>\n</table>\n<p>68 rows × 2 columns</p>\n</div>"
     },
     "execution_count": 48,
     "metadata": {},
     "output_type": "execute_result"
    }
   ],
   "source": [
    "import pandas as pd\n",
    "\n",
    "df1 = pd.DataFrame({'answer': L1})\n",
    "df2 = pd.DataFrame({'answer': L2})\n",
    "df3 = pd.DataFrame({'answer': L3})\n",
    "df4 = pd.DataFrame({'answer': L4})\n",
    "df5 = pd.DataFrame({'answer': L5})\n",
    "df6 = pd.DataFrame({'answer': L6})\n",
    "df7 = pd.DataFrame({'answer': L7})\n",
    "df8 = pd.DataFrame({'answer': L8})\n",
    "df9 = pd.DataFrame({'answer': L9})\n",
    "df10 = pd.DataFrame({'answer': L10})\n",
    "df11 = pd.DataFrame({'answer': L11})\n",
    "df12 = pd.DataFrame({'answer': L12})\n",
    "df13 = pd.DataFrame({'answer': L13})\n",
    "df14 = pd.DataFrame({'answer': L14})\n",
    "df15 = pd.DataFrame({'answer': L15})\n",
    "df = pd.concat([df1, df2, df3, df4, df5, df6, df7, df8, df9, df10, df11, df12, df13, df14, df15]).reset_index(drop=True)\n",
    "df['id'] = ['a' + str(i) for i in range(len(df))]\n",
    "df = df[['id', 'answer']]\n",
    "df"
   ],
   "execution_count": 48
  },
  {
   "metadata": {
    "id": "05130D64C6FA47DAB515BA73D286F9C6",
    "notebookId": "615114d38447b800176b00fe",
    "jupyter": {},
    "tags": [],
    "slideshow": {
     "slide_type": "slide"
    },
    "trusted": true,
    "collapsed": false,
    "scrolled": false
   },
   "cell_type": "code",
   "outputs": [],
   "source": [
    "# 保存文件到本地\n",
    "# df.to_csv('answer_4.csv', index=False, encoding='utf-8-sig')  #代码自动补全的快捷键是 tab；运行完成后，左侧文件树刷新下，可以找到这份文件"
   ],
   "execution_count": 49
  },
  {
   "metadata": {
    "id": "6A655BB59E464226AA3B2A2B54873F24",
    "notebookId": "6191deb9ebdfaf001757f602",
    "jupyter": {},
    "tags": [],
    "slideshow": {
     "slide_type": "slide"
    },
    "trusted": true,
    "mdEditEnable": true
   },
   "cell_type": "markdown",
   "source": [
    "注意** df为 68 rows × 2 columns **\n",
    "\n",
    "请在提交前检查行数，不然评审将报错\n"
   ]
  },
  {
   "metadata": {
    "id": "8D90F4BB5C444B018616BC03DADEBE88",
    "notebookId": "615114d38447b800176b00fe",
    "jupyter": {},
    "tags": [],
    "slideshow": {
     "slide_type": "slide"
    },
    "trusted": true,
    "mdEditEnable": true
   },
   "cell_type": "markdown",
   "source": [
    "\n",
    "# STEP3: 提交 csv 文件，获取分数结果\n",
    "\n",
    "现在你的答案文件已经准备完毕了，怎么提交得到评分呢？\n",
    "\n",
    "1、拷贝提交 token\n",
    "\n",
    "去活动[提交页面](https://www.heywhale.com/home/competition/61542939c270e400182b1294/submit)，找到对应关卡，看到了你的 token 嘛？\n",
    "\n",
    "拷贝到下方 cell 里（替换掉 XXXXXXX），右上角保证Kernel类型为Python3哈；\n",
    "\n",
    "记得：每个关卡的 token 不一样。\n",
    "\n",
    "2、找到你的答案文件路径\n",
    "\n",
    "左侧文件树，刷新，在project 下找到答案文件，右键点击可复制路径。\n",
    "\n",
    "路径为/home/mw/project/answer_4.csv"
   ]
  },
  {
   "metadata": {
    "id": "388DC4EDD14643298547D8071B7082A1",
    "notebookId": "61511d7f07bcea0017fcea18",
    "jupyter": {},
    "tags": [],
    "slideshow": {
     "slide_type": "slide"
    },
    "trusted": true,
    "collapsed": false,
    "scrolled": false
   },
   "cell_type": "code",
   "outputs": [],
   "source": [
    "# # 运行这个 cell 前记得一定要保证右上角 kernel为 Python 3 的噢\n",
    "# # 下载提交工具\n",
    "# !wget -nv -O heywhale_submit https: // cdn.kesci.com / submit_tool / v4 / heywhale_submit & & chmod +x heywhale_submit\n",
    "#\n",
    "# # 运行提交工具\n",
    "# # 把下方 XXXXXXX 替换为你的 Token，submit_file 为要提交的文件名路径\n",
    "# # 文件名路径去左侧文件树下，刷新，找到对应的 csv 文件，右键复制路径\n",
    "# !./ heywhale_submit -token XXXXXXX -file / home / mw / project / answer_4.csv"
   ],
   "execution_count": 50
  },
  {
   "metadata": {
    "id": "7586187789654CCC8BFEA970F9BB2B42",
    "notebookId": "61511d7f07bcea0017fcea18",
    "jupyter": {},
    "tags": [],
    "slideshow": {
     "slide_type": "slide"
    },
    "trusted": true,
    "mdEditEnable": false
   },
   "cell_type": "markdown",
   "source": [
    "运行成功、显示提交完成后，即可去[提交页面](https://www.heywhale.com/home/competition/61542939c270e400182b1294/submit)-- 看成绩。满分即可进入下一关。\n",
    "\n",
    "![Image Name](https://cdn.kesci.com/upload/image/r2lideebe5.png?imageView2/0/w/960/h/960)\n",
    "\n",
    "\n",
    "没有成功也不怕，看下报错信息，对照排查下，改完重新提交咯。\n",
    "\n",
    "祝好运 🐳"
   ]
  }
 ],
 "metadata": {
  "kernelspec": {
   "name": "pytorch",
   "language": "python",
   "display_name": "Pytorch (pytorch)"
  },
  "language_info": {
   "codemirror_mode": {
    "name": "ipython",
    "version": 3
   },
   "name": "python",
   "mimetype": "text/x-python",
   "nbconvert_exporter": "python",
   "file_extension": ".py",
   "version": "3.5.2",
   "pygments_lexer": "ipython3"
  }
 },
 "nbformat": 4,
 "nbformat_minor": 0
}
