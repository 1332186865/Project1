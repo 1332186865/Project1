{
 "cells": [
  {
   "cell_type": "markdown",
   "source": [
    "# Pyecharts基础——图表篇\n",
    "\n",
    "## 前言\n",
    "\n",
    "✨ 这个notebook中将会带着大家认识一下当前Pyecharts中支持的众多图表，熟悉常用图表的调用方法～\n",
    "\n",
    "👉 在pyecharts中我们根据图表的调用方法，数据源格式的不一样，可以大致分为以下三类：\n",
    "1. **直角坐标系**：常见的诸如柱状图，折线图等等，这些图表的数据格式都是都是一致的，图表之间也支持相互**overlap**（层叠多图）；\n",
    "\n",
    "2. **地理坐标系**：地理位置相关的图表，如Map（区域地图），Geo（点地图），BMap（百度地图）；\n",
    "\n",
    "3. **其他图表**：除了以上两种类型的，还有诸如饼图，漏斗图，日历图等等图表，这类图表之间没有太多的共性，但也会在工作中经常用到；\n",
    "\n",
    "🗣 在接下来的内容中，我们将会依次去介绍这几类图表的使用方法。\n",
    "\n",
    "\n",
    "---\n",
    "\n",
    "## 依赖包引用\n",
    "\n",
    "使用Pyecharts绘制图表的时候，我们需要先引用所需的组件，主要分为两个部分：\n",
    "\n",
    "### 图表\n",
    "Pyecharts中所有的图表项都封装在` pyecharts.charts `方法中，我们可以通过如下代码一次性导入所有图表\n",
    "```python\n",
    "from pyecharts.charts import *\n",
    "```\n",
    "\n",
    "当然，我们也可以只导入你需要的图表，如导入柱状图（Bar）和饼图（Pie）：\n",
    "```python\n",
    "from pyecharts.charts import Bar\n",
    "from pyecharts.charts import Pie\n",
    "```\n",
    "***or***\n",
    "```python\n",
    "from pyecharts.charts import Bar, Pie\n",
    "```\n",
    "\n",
    "----\n",
    "### 配置项\n",
    "Pyecharts中所有的配置项都封装在`pyecharts.options`中，我们可以通过如下方式引入所有的`pyecharts.options`，后续通过类似`opts.ItemStyleOpts`去进行样式配置；\n",
    "\n",
    "*导入所有配置项并重命名为`opts`*\n",
    "```python\n",
    "from pyecharts import options as opts\n",
    "```\n",
    "\n",
    "当然你也可以像下面这样选择依次导入，虽然🦆 duck不必\n",
    "```python\n",
    "from pyecharts.options import ItemStyleOpts\n",
    "```"
   ],
   "metadata": {
    "collapsed": false
   }
  },
  {
   "cell_type": "markdown",
   "source": [
    "## 开始\n",
    "\n",
    "在Notebook的最开始，我们可以把我们本次需要的依赖项都import进来，当然你在每个cell中单独import也可以～"
   ],
   "metadata": {
    "id": "8324ED240596471286D190FF9DC6C404",
    "notebookId": "615068858447b800176af73d",
    "jupyter": {},
    "collapsed": false,
    "scrolled": false,
    "tags": [],
    "slideshow": {
     "slide_type": "slide"
    },
    "trusted": true
   }
  },
  {
   "metadata": {
    "id": "EA441BA2A25F4A678BE383CB381427D4",
    "notebookId": "615068858447b800176af73d",
    "jupyter": {},
    "tags": [],
    "slideshow": {
     "slide_type": "slide"
    },
    "trusted": true,
    "collapsed": false,
    "scrolled": false
   },
   "cell_type": "code",
   "outputs": [
    {
     "ename": "ModuleNotFoundError",
     "evalue": "No module named 'pyecharts'",
     "output_type": "error",
     "traceback": [
      "\u001B[1;31m---------------------------------------------------------------------------\u001B[0m",
      "\u001B[1;31mModuleNotFoundError\u001B[0m                       Traceback (most recent call last)",
      "Cell \u001B[1;32mIn [1], line 2\u001B[0m\n\u001B[0;32m      1\u001B[0m \u001B[38;5;66;03m# 一次性导入所有图表\u001B[39;00m\n\u001B[1;32m----> 2\u001B[0m \u001B[38;5;28;01mfrom\u001B[39;00m \u001B[38;5;21;01mpyecharts\u001B[39;00m\u001B[38;5;21;01m.\u001B[39;00m\u001B[38;5;21;01mcharts\u001B[39;00m \u001B[38;5;28;01mimport\u001B[39;00m \u001B[38;5;241m*\u001B[39m\n\u001B[0;32m      3\u001B[0m \u001B[38;5;66;03m# pyecharts的配置项\u001B[39;00m\n\u001B[0;32m      4\u001B[0m \u001B[38;5;28;01mfrom\u001B[39;00m \u001B[38;5;21;01mpyecharts\u001B[39;00m \u001B[38;5;28;01mimport\u001B[39;00m options \u001B[38;5;28;01mas\u001B[39;00m opts\n",
      "\u001B[1;31mModuleNotFoundError\u001B[0m: No module named 'pyecharts'"
     ]
    }
   ],
   "source": [
    "# 一次性导入所有图表\n",
    "from pyecharts.charts import *\n",
    "# pyecharts的配置项\n",
    "from pyecharts import options as opts"
   ],
   "execution_count": 1
  },
  {
   "source": [
    "## 数据格式\n",
    "**pyecharts**本质上在做的事情就是将**Python的代码翻译成Echarts的配置项**，在Pyecharts中会将开发者的代码生成***Python dict***，然后序列化为***JSON***格式再到Echarts进行渲染生成图表。\n",
    "\n",
    "所以 pyecharts 支持什么格式的数据类型本质上取决于 JSON 支持什么数据类型。\n",
    "\n",
    "在 Python 中对 JSON 的格式转换如下\n",
    "\n",
    "\n",
    "| Python         |JSON|\n",
    "| -------- | --------|\n",
    "| int, float      |number|\n",
    "| str             |string|\n",
    "| bool           | boolean|\n",
    "| dict            |object|\n",
    "| list            |array|\n",
    "\n",
    "\n",
    "这也就意味着在你将数据传入到 pyecharts 的时候，需要自行将数据格式转换成上述 Python 原生的数据格式。\n",
    "\n",
    "这里会有一个非常重要的点：**使用数据分析大都需要使用 numpy/pandas，但是 numpy 的 numpy.int64/numpy.int32/... 等数据类型并不继承自 Python.int，所以当你直接将pandas或者numpy的数据格式传入给pyecharts，图表就会是空白的！**\n",
    "\n",
    "\n",
    "---\n",
    "接下来介绍几种常见的Pyecharts中数据传入的方式；\n",
    "\n",
    "\n",
    "### 常用方法\n",
    "\n",
    "根据不同类型的图表你的数据可能是`[int, int....int]`，`[dict, dict....dict]`、`[tuple, tuple....tuple]`等形式；\n",
    "\n",
    "\n",
    "直角坐标系的图表在数据格式都是一致的，我们需要依次添加x轴和y轴的数据，如下所示：\n"
   ],
   "cell_type": "markdown",
   "metadata": {
    "trusted": true,
    "collapsed": false,
    "jupyter": {},
    "tags": [],
    "slideshow": {
     "slide_type": "slide"
    },
    "id": "8D3B1DE7A96A4DAC9D27CC09909FAE79",
    "mdEditEnable": true,
    "scrolled": false,
    "notebookId": "615068858447b800176af73d"
   }
  },
  {
   "outputs": [
    {
     "data": {
      "text/plain": "'D:\\\\Python\\\\PycharmProjects\\\\Project1\\\\2022_STUDY\\\\PART5\\\\Pyecharts\\\\render.html'"
     },
     "execution_count": 8,
     "metadata": {},
     "output_type": "execute_result"
    }
   ],
   "source": [
    "# 虚假数据\n",
    "x_data = ['Apple', 'Huawei', 'Xiaomi', 'Oppo', 'Vivo', 'Meizu']\n",
    "y_data = [123, 153, 89, 107, 98, 23]\n",
    "\n",
    "# 新建一个Bar实例，命名为chart\n",
    "chart = Bar()\n",
    "\n",
    "# 为chart添加x轴的数据\n",
    "chart.add_xaxis(x_data)\n",
    "\n",
    "# 为chart添加y轴的数据\n",
    "chart.add_yaxis('', y_data)\n",
    "\n",
    "# 在noteboo中夹在图表\n",
    "# 如果是在Pycharm等IDE中 使用charts.render(\"xxx.html\")\n",
    "chart.render('render.html')"
   ],
   "cell_type": "code",
   "metadata": {
    "trusted": true,
    "collapsed": false,
    "jupyter": {},
    "tags": [],
    "slideshow": {
     "slide_type": "slide"
    },
    "id": "3763C7E076A6493DA1B30BF79ADB4C21",
    "scrolled": false,
    "notebookId": "615068858447b800176af73d"
   },
   "execution_count": 8
  },
  {
   "cell_type": "markdown",
   "source": [
    "### Pandas.Series\n",
    "\n",
    "使用Pandas处理数据之后，我们需要通过.tolist()将数据转化为list格式，才可以在Pyecharts中使用；\n"
   ],
   "metadata": {
    "id": "26D9924193AA49CF8AD25F79290E5CEA",
    "notebookId": "615068858447b800176af73d",
    "jupyter": {},
    "collapsed": false,
    "scrolled": false,
    "tags": [],
    "slideshow": {
     "slide_type": "slide"
    },
    "trusted": true
   }
  },
  {
   "cell_type": "code",
   "source": [
    "import pandas as pd\n",
    "\n",
    "# 新建一个DataFrame\n",
    "df = pd.DataFrame(\n",
    "    dict(Brand=['Apple', 'Huawei', 'Xiaomi', 'Oppo', 'Vivo', 'Meizu'],\n",
    "         sales=[123, 153, 89, 107, 98, 23])\n",
    ")\n",
    "\n",
    "bar = (Bar()\n",
    "        # 将数据转化为list\n",
    "       .add_xaxis(df['Brand'].tolist())\n",
    "       .add_yaxis('', df['sales'].tolist())\n",
    "      )\n",
    "\n",
    "bar.render_notebook()"
   ],
   "metadata": {
    "id": "0ADDAF7901D04C018068243C8BD7149B",
    "notebookId": "615068858447b800176af73d",
    "jupyter": {},
    "collapsed": false,
    "scrolled": false,
    "tags": [],
    "slideshow": {
     "slide_type": "slide"
    },
    "trusted": true
   },
   "outputs": [
    {
     "output_type": "execute_result",
     "data": {
      "text/plain": "<pyecharts.render.display.HTML at 0x7f27f810e278>",
      "text/html": "\n<script>\n    require.config({\n        paths: {\n            'echarts':'https://assets.pyecharts.org/assets/echarts.min'\n        }\n    });\n</script>\n\n        <div id=\"fb2d4f2f50e64f5abb3c24538b03d323\" style=\"width:900px; height:500px;\"></div>\n\n<script>\n        require(['echarts'], function(echarts) {\n                var chart_fb2d4f2f50e64f5abb3c24538b03d323 = echarts.init(\n                    document.getElementById('fb2d4f2f50e64f5abb3c24538b03d323'), 'white', {renderer: 'canvas'});\n                var option_fb2d4f2f50e64f5abb3c24538b03d323 = {\n    \"animation\": true,\n    \"animationThreshold\": 2000,\n    \"animationDuration\": 1000,\n    \"animationEasing\": \"cubicOut\",\n    \"animationDelay\": 0,\n    \"animationDurationUpdate\": 300,\n    \"animationEasingUpdate\": \"cubicOut\",\n    \"animationDelayUpdate\": 0,\n    \"color\": [\n        \"#c23531\",\n        \"#2f4554\",\n        \"#61a0a8\",\n        \"#d48265\",\n        \"#749f83\",\n        \"#ca8622\",\n        \"#bda29a\",\n        \"#6e7074\",\n        \"#546570\",\n        \"#c4ccd3\",\n        \"#f05b72\",\n        \"#ef5b9c\",\n        \"#f47920\",\n        \"#905a3d\",\n        \"#fab27b\",\n        \"#2a5caa\",\n        \"#444693\",\n        \"#726930\",\n        \"#b2d235\",\n        \"#6d8346\",\n        \"#ac6767\",\n        \"#1d953f\",\n        \"#6950a1\",\n        \"#918597\"\n    ],\n    \"series\": [\n        {\n            \"type\": \"bar\",\n            \"legendHoverLink\": true,\n            \"data\": [\n                123,\n                153,\n                89,\n                107,\n                98,\n                23\n            ],\n            \"showBackground\": false,\n            \"barMinHeight\": 0,\n            \"barCategoryGap\": \"20%\",\n            \"barGap\": \"30%\",\n            \"large\": false,\n            \"largeThreshold\": 400,\n            \"seriesLayoutBy\": \"column\",\n            \"datasetIndex\": 0,\n            \"clip\": true,\n            \"zlevel\": 0,\n            \"z\": 2,\n            \"label\": {\n                \"show\": true,\n                \"position\": \"top\",\n                \"margin\": 8\n            }\n        }\n    ],\n    \"legend\": [\n        {\n            \"data\": [\n                \"\"\n            ],\n            \"selected\": {\n                \"\": true\n            }\n        }\n    ],\n    \"tooltip\": {\n        \"show\": true,\n        \"trigger\": \"item\",\n        \"triggerOn\": \"mousemove|click\",\n        \"axisPointer\": {\n            \"type\": \"line\"\n        },\n        \"showContent\": true,\n        \"alwaysShowContent\": false,\n        \"showDelay\": 0,\n        \"hideDelay\": 100,\n        \"textStyle\": {\n            \"fontSize\": 14\n        },\n        \"borderWidth\": 0,\n        \"padding\": 5\n    },\n    \"xAxis\": [\n        {\n            \"show\": true,\n            \"scale\": false,\n            \"nameLocation\": \"end\",\n            \"nameGap\": 15,\n            \"gridIndex\": 0,\n            \"inverse\": false,\n            \"offset\": 0,\n            \"splitNumber\": 5,\n            \"minInterval\": 0,\n            \"splitLine\": {\n                \"show\": false,\n                \"lineStyle\": {\n                    \"show\": true,\n                    \"width\": 1,\n                    \"opacity\": 1,\n                    \"curveness\": 0,\n                    \"type\": \"solid\"\n                }\n            },\n            \"data\": [\n                \"Apple\",\n                \"Huawei\",\n                \"Xiaomi\",\n                \"Oppo\",\n                \"Vivo\",\n                \"Meizu\"\n            ]\n        }\n    ],\n    \"yAxis\": [\n        {\n            \"show\": true,\n            \"scale\": false,\n            \"nameLocation\": \"end\",\n            \"nameGap\": 15,\n            \"gridIndex\": 0,\n            \"inverse\": false,\n            \"offset\": 0,\n            \"splitNumber\": 5,\n            \"minInterval\": 0,\n            \"splitLine\": {\n                \"show\": false,\n                \"lineStyle\": {\n                    \"show\": true,\n                    \"width\": 1,\n                    \"opacity\": 1,\n                    \"curveness\": 0,\n                    \"type\": \"solid\"\n                }\n            }\n        }\n    ]\n};\n                chart_fb2d4f2f50e64f5abb3c24538b03d323.setOption(option_fb2d4f2f50e64f5abb3c24538b03d323);\n        });\n    </script>\n"
     },
     "metadata": {},
     "execution_count": 69
    }
   ],
   "execution_count": 69
  },
  {
   "source": [
    "\n",
    "### ChartItem\n",
    "\n",
    "另外再介绍一种在Pyecharts中比较特殊的数据处理方式；\n",
    "\n",
    "从Pyecharts V1.8.0版本开始，Pyecharts开始陆续支持`[opts.ChartItem, opts.ChartItem...opts.ChartItem]`的形式来传入数据，如`BarItem`：\n",
    "```python\n",
    "class BarItem(\n",
    "    # 数据项名称。\n",
    "    name: Optional[str] = None,\n",
    "\n",
    "    # 单个数据项的数值。\n",
    "    value: Optional[Numeric] = None,\n",
    "\n",
    "    # 单个柱条文本的样式设置，参考 `series_options.LabelOpts`。\n",
    "    label_opts: Union[LabelOpts, dict, None] = None,\n",
    "\n",
    "    # 图元样式配置项，参考 `series_options.ItemStyleOpts`\n",
    "    itemstyle_opts: Union[ItemStyleOpts, dict, None] = None,\n",
    "\n",
    "    # 提示框组件配置项，参考 `series_options.TooltipOpts`\n",
    "    tooltip_opts: Union[TooltipOpts, dict, None] = None,\n",
    ")\n",
    "```\n",
    "使用方法如下："
   ],
   "cell_type": "markdown",
   "metadata": {
    "trusted": true,
    "collapsed": false,
    "jupyter": {},
    "tags": [],
    "slideshow": {
     "slide_type": "slide"
    },
    "id": "A154E728E80F4CCB8D2EF1CB77EE7661",
    "scrolled": false,
    "mdEditEnable": false,
    "notebookId": "615068858447b800176af73d"
   }
  },
  {
   "metadata": {
    "id": "88DCC22A28DC47158F4EF036A5997A48",
    "notebookId": "615068858447b800176af73d",
    "jupyter": {},
    "tags": [],
    "slideshow": {
     "slide_type": "slide"
    },
    "trusted": true,
    "collapsed": false,
    "scrolled": false
   },
   "cell_type": "code",
   "outputs": [
    {
     "output_type": "execute_result",
     "data": {
      "text/plain": "<pyecharts.render.display.HTML at 0x7f27f80f3128>",
      "text/html": "\n<script>\n    require.config({\n        paths: {\n            'echarts':'https://assets.pyecharts.org/assets/echarts.min'\n        }\n    });\n</script>\n\n        <div id=\"f5018d1fdd284611973d536c24beda1d\" style=\"width:900px; height:500px;\"></div>\n\n<script>\n        require(['echarts'], function(echarts) {\n                var chart_f5018d1fdd284611973d536c24beda1d = echarts.init(\n                    document.getElementById('f5018d1fdd284611973d536c24beda1d'), 'white', {renderer: 'canvas'});\n                var option_f5018d1fdd284611973d536c24beda1d = {\n    \"animation\": true,\n    \"animationThreshold\": 2000,\n    \"animationDuration\": 1000,\n    \"animationEasing\": \"cubicOut\",\n    \"animationDelay\": 0,\n    \"animationDurationUpdate\": 300,\n    \"animationEasingUpdate\": \"cubicOut\",\n    \"animationDelayUpdate\": 0,\n    \"color\": [\n        \"#c23531\",\n        \"#2f4554\",\n        \"#61a0a8\",\n        \"#d48265\",\n        \"#749f83\",\n        \"#ca8622\",\n        \"#bda29a\",\n        \"#6e7074\",\n        \"#546570\",\n        \"#c4ccd3\",\n        \"#f05b72\",\n        \"#ef5b9c\",\n        \"#f47920\",\n        \"#905a3d\",\n        \"#fab27b\",\n        \"#2a5caa\",\n        \"#444693\",\n        \"#726930\",\n        \"#b2d235\",\n        \"#6d8346\",\n        \"#ac6767\",\n        \"#1d953f\",\n        \"#6950a1\",\n        \"#918597\"\n    ],\n    \"series\": [\n        {\n            \"type\": \"bar\",\n            \"legendHoverLink\": true,\n            \"data\": [\n                {\n                    \"name\": \"Apple\",\n                    \"value\": 123\n                },\n                {\n                    \"name\": \"Huawei\",\n                    \"value\": 153\n                },\n                {\n                    \"name\": \"Xiaomi\",\n                    \"value\": 89\n                },\n                {\n                    \"name\": \"Oppo\",\n                    \"value\": 107\n                },\n                {\n                    \"name\": \"Vivo\",\n                    \"value\": 98\n                },\n                {\n                    \"name\": \"Meizu\",\n                    \"value\": 23\n                }\n            ],\n            \"showBackground\": false,\n            \"barMinHeight\": 0,\n            \"barCategoryGap\": \"20%\",\n            \"barGap\": \"30%\",\n            \"large\": false,\n            \"largeThreshold\": 400,\n            \"seriesLayoutBy\": \"column\",\n            \"datasetIndex\": 0,\n            \"clip\": true,\n            \"zlevel\": 0,\n            \"z\": 2,\n            \"label\": {\n                \"show\": true,\n                \"position\": \"top\",\n                \"margin\": 8\n            }\n        }\n    ],\n    \"legend\": [\n        {\n            \"data\": [\n                \"\"\n            ],\n            \"selected\": {\n                \"\": true\n            }\n        }\n    ],\n    \"tooltip\": {\n        \"show\": true,\n        \"trigger\": \"item\",\n        \"triggerOn\": \"mousemove|click\",\n        \"axisPointer\": {\n            \"type\": \"line\"\n        },\n        \"showContent\": true,\n        \"alwaysShowContent\": false,\n        \"showDelay\": 0,\n        \"hideDelay\": 100,\n        \"textStyle\": {\n            \"fontSize\": 14\n        },\n        \"borderWidth\": 0,\n        \"padding\": 5\n    },\n    \"xAxis\": [\n        {\n            \"show\": true,\n            \"scale\": false,\n            \"nameLocation\": \"end\",\n            \"nameGap\": 15,\n            \"gridIndex\": 0,\n            \"inverse\": false,\n            \"offset\": 0,\n            \"splitNumber\": 5,\n            \"minInterval\": 0,\n            \"splitLine\": {\n                \"show\": false,\n                \"lineStyle\": {\n                    \"show\": true,\n                    \"width\": 1,\n                    \"opacity\": 1,\n                    \"curveness\": 0,\n                    \"type\": \"solid\"\n                }\n            },\n            \"data\": [\n                \"Apple\",\n                \"Huawei\",\n                \"Xiaomi\",\n                \"Oppo\",\n                \"Vivo\",\n                \"Meizu\"\n            ]\n        }\n    ],\n    \"yAxis\": [\n        {\n            \"show\": true,\n            \"scale\": false,\n            \"nameLocation\": \"end\",\n            \"nameGap\": 15,\n            \"gridIndex\": 0,\n            \"inverse\": false,\n            \"offset\": 0,\n            \"splitNumber\": 5,\n            \"minInterval\": 0,\n            \"splitLine\": {\n                \"show\": false,\n                \"lineStyle\": {\n                    \"show\": true,\n                    \"width\": 1,\n                    \"opacity\": 1,\n                    \"curveness\": 0,\n                    \"type\": \"solid\"\n                }\n            }\n        }\n    ]\n};\n                chart_f5018d1fdd284611973d536c24beda1d.setOption(option_f5018d1fdd284611973d536c24beda1d);\n        });\n    </script>\n"
     },
     "metadata": {},
     "execution_count": 36
    }
   ],
   "source": [
    "# 虚假数据\n",
    "x_data = ['Apple', 'Huawei', 'Xiaomi', 'Oppo', 'Vivo', 'Meizu']\n",
    "# 每个数据项都是BarItem形式\n",
    "y_data = [\n",
    "    opts.BarItem(name='Apple', value=123),\n",
    "    opts.BarItem(name='Huawei', value=153),\n",
    "    opts.BarItem(name='Xiaomi', value=89),\n",
    "    opts.BarItem(name='Oppo', value=107),\n",
    "    opts.BarItem(name='Vivo', value=98),\n",
    "    opts.BarItem(name='Meizu', value=23)\n",
    "]\n",
    "\n",
    "# 新建一个Bar实例，命名为chart\n",
    "chart = Bar()\n",
    "\n",
    "# 为chart添加x轴的数据\n",
    "chart.add_xaxis(x_data)\n",
    "\n",
    "# 为chart添加y轴的数据\n",
    "chart.add_yaxis('', y_data)\n",
    "\n",
    "# 在noteboo中夹在图表\n",
    "# 如果是在Pycharm等IDE中 使用charts.render(\"xxx.html\")\n",
    "chart.render_notebook()"
   ],
   "execution_count": 36
  },
  {
   "metadata": {
    "id": "4866E09D848E41C598C2345DD0DD491A",
    "notebookId": "615068858447b800176af73d",
    "jupyter": {},
    "tags": [],
    "slideshow": {
     "slide_type": "slide"
    },
    "trusted": true,
    "mdEditEnable": false,
    "collapsed": false,
    "scrolled": false
   },
   "cell_type": "markdown",
   "source": [
    "通过这种形式，想必很多小伙伴都会觉得很麻烦，\n",
    "\n",
    "***那么使用ChartItem的优势在哪儿？***\n",
    "\n",
    "通过ChartItem的形式，我们便可以针对单个数据项进行样式配置，可以进行**更多个性化的设置**；\n",
    "\n",
    "比如我们想设置**Huawei**这个数据项，让其显示为**蓝色**，且将标签**字体放大**。"
   ]
  },
  {
   "metadata": {
    "id": "C2C7020859B246DC889479F25EF7491B",
    "notebookId": "615068858447b800176af73d",
    "jupyter": {},
    "tags": [],
    "slideshow": {
     "slide_type": "slide"
    },
    "trusted": true,
    "collapsed": false,
    "scrolled": false
   },
   "cell_type": "code",
   "outputs": [
    {
     "output_type": "execute_result",
     "data": {
      "text/plain": "<pyecharts.render.display.HTML at 0x7f27f80f34e0>",
      "text/html": "\n<script>\n    require.config({\n        paths: {\n            'echarts':'https://assets.pyecharts.org/assets/echarts.min'\n        }\n    });\n</script>\n\n        <div id=\"335e47775a5743998d33def786f7bc33\" style=\"width:900px; height:500px;\"></div>\n\n<script>\n        require(['echarts'], function(echarts) {\n                var chart_335e47775a5743998d33def786f7bc33 = echarts.init(\n                    document.getElementById('335e47775a5743998d33def786f7bc33'), 'white', {renderer: 'canvas'});\n                var option_335e47775a5743998d33def786f7bc33 = {\n    \"animation\": true,\n    \"animationThreshold\": 2000,\n    \"animationDuration\": 1000,\n    \"animationEasing\": \"cubicOut\",\n    \"animationDelay\": 0,\n    \"animationDurationUpdate\": 300,\n    \"animationEasingUpdate\": \"cubicOut\",\n    \"animationDelayUpdate\": 0,\n    \"color\": [\n        \"#c23531\",\n        \"#2f4554\",\n        \"#61a0a8\",\n        \"#d48265\",\n        \"#749f83\",\n        \"#ca8622\",\n        \"#bda29a\",\n        \"#6e7074\",\n        \"#546570\",\n        \"#c4ccd3\",\n        \"#f05b72\",\n        \"#ef5b9c\",\n        \"#f47920\",\n        \"#905a3d\",\n        \"#fab27b\",\n        \"#2a5caa\",\n        \"#444693\",\n        \"#726930\",\n        \"#b2d235\",\n        \"#6d8346\",\n        \"#ac6767\",\n        \"#1d953f\",\n        \"#6950a1\",\n        \"#918597\"\n    ],\n    \"series\": [\n        {\n            \"type\": \"bar\",\n            \"legendHoverLink\": true,\n            \"data\": [\n                {\n                    \"name\": \"Apple\",\n                    \"value\": 123\n                },\n                {\n                    \"name\": \"Huawei\",\n                    \"value\": 153,\n                    \"label\": {\n                        \"show\": true,\n                        \"position\": \"top\",\n                        \"margin\": 8,\n                        \"fontSize\": 20\n                    },\n                    \"itemStyle\": {\n                        \"color\": \"blue\"\n                    }\n                },\n                {\n                    \"name\": \"Xiaomi\",\n                    \"value\": 89\n                },\n                {\n                    \"name\": \"Oppo\",\n                    \"value\": 107\n                },\n                {\n                    \"name\": \"Vivo\",\n                    \"value\": 98\n                },\n                {\n                    \"name\": \"Meizu\",\n                    \"value\": 23\n                }\n            ],\n            \"showBackground\": false,\n            \"barMinHeight\": 0,\n            \"barCategoryGap\": \"20%\",\n            \"barGap\": \"30%\",\n            \"large\": false,\n            \"largeThreshold\": 400,\n            \"seriesLayoutBy\": \"column\",\n            \"datasetIndex\": 0,\n            \"clip\": true,\n            \"zlevel\": 0,\n            \"z\": 2,\n            \"label\": {\n                \"show\": true,\n                \"position\": \"top\",\n                \"margin\": 8\n            }\n        }\n    ],\n    \"legend\": [\n        {\n            \"data\": [\n                \"\"\n            ],\n            \"selected\": {\n                \"\": true\n            }\n        }\n    ],\n    \"tooltip\": {\n        \"show\": true,\n        \"trigger\": \"item\",\n        \"triggerOn\": \"mousemove|click\",\n        \"axisPointer\": {\n            \"type\": \"line\"\n        },\n        \"showContent\": true,\n        \"alwaysShowContent\": false,\n        \"showDelay\": 0,\n        \"hideDelay\": 100,\n        \"textStyle\": {\n            \"fontSize\": 14\n        },\n        \"borderWidth\": 0,\n        \"padding\": 5\n    },\n    \"xAxis\": [\n        {\n            \"show\": true,\n            \"scale\": false,\n            \"nameLocation\": \"end\",\n            \"nameGap\": 15,\n            \"gridIndex\": 0,\n            \"inverse\": false,\n            \"offset\": 0,\n            \"splitNumber\": 5,\n            \"minInterval\": 0,\n            \"splitLine\": {\n                \"show\": false,\n                \"lineStyle\": {\n                    \"show\": true,\n                    \"width\": 1,\n                    \"opacity\": 1,\n                    \"curveness\": 0,\n                    \"type\": \"solid\"\n                }\n            },\n            \"data\": [\n                \"Apple\",\n                \"Huawei\",\n                \"Xiaomi\",\n                \"Oppo\",\n                \"Vivo\",\n                \"Meizu\"\n            ]\n        }\n    ],\n    \"yAxis\": [\n        {\n            \"show\": true,\n            \"scale\": false,\n            \"nameLocation\": \"end\",\n            \"nameGap\": 15,\n            \"gridIndex\": 0,\n            \"inverse\": false,\n            \"offset\": 0,\n            \"splitNumber\": 5,\n            \"minInterval\": 0,\n            \"splitLine\": {\n                \"show\": false,\n                \"lineStyle\": {\n                    \"show\": true,\n                    \"width\": 1,\n                    \"opacity\": 1,\n                    \"curveness\": 0,\n                    \"type\": \"solid\"\n                }\n            }\n        }\n    ]\n};\n                chart_335e47775a5743998d33def786f7bc33.setOption(option_335e47775a5743998d33def786f7bc33);\n        });\n    </script>\n"
     },
     "metadata": {},
     "execution_count": 37
    }
   ],
   "source": [
    "# 虚假数据\n",
    "x_data = ['Apple', 'Huawei', 'Xiaomi', 'Oppo', 'Vivo', 'Meizu']\n",
    "y_data = [\n",
    "    opts.BarItem(\n",
    "        name='Apple',\n",
    "        value=123),\n",
    "    opts.BarItem(\n",
    "        name='Huawei',\n",
    "        value=153,\n",
    "        # 设置颜色\n",
    "        itemstyle_opts=opts.ItemStyleOpts(color='blue'),\n",
    "        # 设置字体大小\n",
    "        label_opts=opts.LabelOpts(font_size=20)\n",
    "        ),\n",
    "    opts.BarItem(\n",
    "        name='Xiaomi',\n",
    "        value=89),\n",
    "    opts.BarItem(\n",
    "        name='Oppo',\n",
    "        value=107),\n",
    "    opts.BarItem(\n",
    "        name='Vivo',\n",
    "        value=98),\n",
    "    opts.BarItem(\n",
    "        name='Meizu',\n",
    "        value=23)\n",
    "]\n",
    "\n",
    "# 新建一个Bar实例，命名为chart\n",
    "chart = Bar()\n",
    "\n",
    "# 为chart添加x轴的数据\n",
    "chart.add_xaxis(x_data)\n",
    "\n",
    "# 为chart添加y轴的数据\n",
    "chart.add_yaxis('', y_data)\n",
    "\n",
    "# 在noteboo中夹在图表\n",
    "# 如果是在Pycharm等IDE中 使用charts.render(\"xxx.html\")\n",
    "chart.render_notebook()"
   ],
   "execution_count": 37
  },
  {
   "metadata": {
    "id": "18D507A2971443CF8D0C3B01BA2B87F0",
    "notebookId": "615068858447b800176af73d",
    "jupyter": {},
    "tags": [],
    "slideshow": {
     "slide_type": "slide"
    },
    "trusted": true,
    "mdEditEnable": false,
    "collapsed": false,
    "scrolled": false
   },
   "cell_type": "markdown",
   "source": [
    "**与ChartItem的作用类似，Pyecharts支持直接通过dict形式传入数据，配置项。**\n",
    "\n",
    "* 当然这就要求你必须对Echarts的配置项熟悉，注意是Echarts，不是Pyecharts;\n",
    "\n",
    "* 因为在Pyecharts中由于Python中的关键字的原因，配置名从Echarts中到Pyecharts中有变化，比如**type**, **max**, **min**等在Pyecharts中都改为了**type_**，**max_**，**min_**"
   ]
  },
  {
   "metadata": {
    "id": "4E7B4A8ADE794B7A8054521B9CBBC636",
    "notebookId": "615068858447b800176af73d",
    "jupyter": {},
    "tags": [],
    "slideshow": {
     "slide_type": "slide"
    },
    "trusted": true,
    "collapsed": false,
    "scrolled": false
   },
   "cell_type": "code",
   "outputs": [
    {
     "output_type": "execute_result",
     "data": {
      "text/plain": "<pyecharts.render.display.HTML at 0x7f27f80f3f98>",
      "text/html": "\n<script>\n    require.config({\n        paths: {\n            'echarts':'https://assets.pyecharts.org/assets/echarts.min'\n        }\n    });\n</script>\n\n        <div id=\"2baf8979afd64683bddff9ec1207d872\" style=\"width:900px; height:500px;\"></div>\n\n<script>\n        require(['echarts'], function(echarts) {\n                var chart_2baf8979afd64683bddff9ec1207d872 = echarts.init(\n                    document.getElementById('2baf8979afd64683bddff9ec1207d872'), 'white', {renderer: 'canvas'});\n                var option_2baf8979afd64683bddff9ec1207d872 = {\n    \"animation\": true,\n    \"animationThreshold\": 2000,\n    \"animationDuration\": 1000,\n    \"animationEasing\": \"cubicOut\",\n    \"animationDelay\": 0,\n    \"animationDurationUpdate\": 300,\n    \"animationEasingUpdate\": \"cubicOut\",\n    \"animationDelayUpdate\": 0,\n    \"color\": [\n        \"#c23531\",\n        \"#2f4554\",\n        \"#61a0a8\",\n        \"#d48265\",\n        \"#749f83\",\n        \"#ca8622\",\n        \"#bda29a\",\n        \"#6e7074\",\n        \"#546570\",\n        \"#c4ccd3\",\n        \"#f05b72\",\n        \"#ef5b9c\",\n        \"#f47920\",\n        \"#905a3d\",\n        \"#fab27b\",\n        \"#2a5caa\",\n        \"#444693\",\n        \"#726930\",\n        \"#b2d235\",\n        \"#6d8346\",\n        \"#ac6767\",\n        \"#1d953f\",\n        \"#6950a1\",\n        \"#918597\"\n    ],\n    \"series\": [\n        {\n            \"type\": \"bar\",\n            \"legendHoverLink\": true,\n            \"data\": [\n                {\n                    \"name\": \"Apple\",\n                    \"value\": 123\n                },\n                {\n                    \"name\": \"Huawei\",\n                    \"value\": 153\n                },\n                {\n                    \"name\": \"Xiaomi\",\n                    \"value\": 89\n                },\n                {\n                    \"name\": \"Oppo\",\n                    \"value\": 107\n                },\n                {\n                    \"name\": \"Vivo\",\n                    \"value\": 98\n                },\n                {\n                    \"name\": \"Meizu\",\n                    \"value\": 23\n                }\n            ],\n            \"showBackground\": false,\n            \"barMinHeight\": 0,\n            \"barCategoryGap\": \"20%\",\n            \"barGap\": \"30%\",\n            \"large\": false,\n            \"largeThreshold\": 400,\n            \"seriesLayoutBy\": \"column\",\n            \"datasetIndex\": 0,\n            \"clip\": true,\n            \"zlevel\": 0,\n            \"z\": 2,\n            \"label\": {\n                \"show\": true,\n                \"position\": \"top\",\n                \"margin\": 8\n            }\n        }\n    ],\n    \"legend\": [\n        {\n            \"data\": [\n                \"\"\n            ],\n            \"selected\": {\n                \"\": true\n            }\n        }\n    ],\n    \"tooltip\": {\n        \"show\": true,\n        \"trigger\": \"item\",\n        \"triggerOn\": \"mousemove|click\",\n        \"axisPointer\": {\n            \"type\": \"line\"\n        },\n        \"showContent\": true,\n        \"alwaysShowContent\": false,\n        \"showDelay\": 0,\n        \"hideDelay\": 100,\n        \"textStyle\": {\n            \"fontSize\": 14\n        },\n        \"borderWidth\": 0,\n        \"padding\": 5\n    },\n    \"xAxis\": [\n        {\n            \"show\": true,\n            \"scale\": false,\n            \"nameLocation\": \"end\",\n            \"nameGap\": 15,\n            \"gridIndex\": 0,\n            \"inverse\": false,\n            \"offset\": 0,\n            \"splitNumber\": 5,\n            \"minInterval\": 0,\n            \"splitLine\": {\n                \"show\": false,\n                \"lineStyle\": {\n                    \"show\": true,\n                    \"width\": 1,\n                    \"opacity\": 1,\n                    \"curveness\": 0,\n                    \"type\": \"solid\"\n                }\n            },\n            \"data\": [\n                \"Apple\",\n                \"Huawei\",\n                \"Xiaomi\",\n                \"Oppo\",\n                \"Vivo\",\n                \"Meizu\"\n            ]\n        }\n    ],\n    \"yAxis\": [\n        {\n            \"show\": true,\n            \"scale\": false,\n            \"nameLocation\": \"end\",\n            \"nameGap\": 15,\n            \"gridIndex\": 0,\n            \"inverse\": false,\n            \"offset\": 0,\n            \"splitNumber\": 5,\n            \"minInterval\": 0,\n            \"splitLine\": {\n                \"show\": false,\n                \"lineStyle\": {\n                    \"show\": true,\n                    \"width\": 1,\n                    \"opacity\": 1,\n                    \"curveness\": 0,\n                    \"type\": \"solid\"\n                }\n            }\n        }\n    ]\n};\n                chart_2baf8979afd64683bddff9ec1207d872.setOption(option_2baf8979afd64683bddff9ec1207d872);\n        });\n    </script>\n"
     },
     "metadata": {},
     "execution_count": 38
    }
   ],
   "source": [
    "# 虚假数据\n",
    "x_data = ['Apple', 'Huawei', 'Xiaomi', 'Oppo', 'Vivo', 'Meizu']\n",
    "y_data = [\n",
    "    dict(\n",
    "        name='Apple',\n",
    "        value=123),\n",
    "    dict(\n",
    "        name='Huawei',\n",
    "        value=153\n",
    "        ),\n",
    "    dict(\n",
    "        name='Xiaomi',\n",
    "        value=89),\n",
    "    dict(\n",
    "        name='Oppo',\n",
    "        value=107),\n",
    "    dict(\n",
    "        name='Vivo',\n",
    "        value=98),\n",
    "    dict(\n",
    "        name='Meizu',\n",
    "        value=23)\n",
    "]\n",
    "\n",
    "# 新建一个Bar实例，命名为chart\n",
    "chart = Bar()\n",
    "\n",
    "# 为chart添加x轴的数据\n",
    "chart.add_xaxis(x_data)\n",
    "\n",
    "# 为chart添加y轴的数据\n",
    "chart.add_yaxis('', y_data)\n",
    "\n",
    "# 在noteboo中夹在图表\n",
    "# 如果是在Pycharm等IDE中 使用charts.render(\"xxx.html\")\n",
    "chart.render_notebook()"
   ],
   "execution_count": 38
  },
  {
   "metadata": {
    "id": "CC6E9D87D6984EEF8B485EA2AA06ABEF",
    "notebookId": "615068858447b800176af73d",
    "jupyter": {},
    "tags": [],
    "slideshow": {
     "slide_type": "slide"
    },
    "trusted": true,
    "mdEditEnable": false,
    "collapsed": false,
    "scrolled": false
   },
   "cell_type": "markdown",
   "source": [
    "## 直角坐标系\n",
    "\n",
    "直角坐标系的图表相信大家都不陌生，如柱状图，折线图等等，都是在工作中经常用到的。\n",
    "\n",
    "除了上面已经使用过的柱形图，我们再来看下其他图表的使用方式；\n",
    "\n",
    "### 折线图"
   ]
  },
  {
   "metadata": {
    "id": "A6AC62C845734F19BACA5EAE8A481EAA",
    "notebookId": "615068858447b800176af73d",
    "jupyter": {},
    "tags": [],
    "slideshow": {
     "slide_type": "slide"
    },
    "trusted": true,
    "collapsed": false,
    "scrolled": false
   },
   "cell_type": "code",
   "outputs": [
    {
     "output_type": "execute_result",
     "data": {
      "text/plain": "<pyecharts.render.display.HTML at 0x7f27f86bc470>",
      "text/html": "\n<script>\n    require.config({\n        paths: {\n            'echarts':'https://assets.pyecharts.org/assets/echarts.min'\n        }\n    });\n</script>\n\n        <div id=\"8ac534b45d864ad2aad0bf72789ae9ad\" style=\"width:900px; height:500px;\"></div>\n\n<script>\n        require(['echarts'], function(echarts) {\n                var chart_8ac534b45d864ad2aad0bf72789ae9ad = echarts.init(\n                    document.getElementById('8ac534b45d864ad2aad0bf72789ae9ad'), 'white', {renderer: 'canvas'});\n                var option_8ac534b45d864ad2aad0bf72789ae9ad = {\n    \"animation\": true,\n    \"animationThreshold\": 2000,\n    \"animationDuration\": 1000,\n    \"animationEasing\": \"cubicOut\",\n    \"animationDelay\": 0,\n    \"animationDurationUpdate\": 300,\n    \"animationEasingUpdate\": \"cubicOut\",\n    \"animationDelayUpdate\": 0,\n    \"color\": [\n        \"#c23531\",\n        \"#2f4554\",\n        \"#61a0a8\",\n        \"#d48265\",\n        \"#749f83\",\n        \"#ca8622\",\n        \"#bda29a\",\n        \"#6e7074\",\n        \"#546570\",\n        \"#c4ccd3\",\n        \"#f05b72\",\n        \"#ef5b9c\",\n        \"#f47920\",\n        \"#905a3d\",\n        \"#fab27b\",\n        \"#2a5caa\",\n        \"#444693\",\n        \"#726930\",\n        \"#b2d235\",\n        \"#6d8346\",\n        \"#ac6767\",\n        \"#1d953f\",\n        \"#6950a1\",\n        \"#918597\"\n    ],\n    \"series\": [\n        {\n            \"type\": \"line\",\n            \"connectNulls\": false,\n            \"symbolSize\": 4,\n            \"showSymbol\": true,\n            \"smooth\": false,\n            \"clip\": true,\n            \"step\": false,\n            \"data\": [\n                [\n                    \"Apple\",\n                    123\n                ],\n                [\n                    \"Huawei\",\n                    153\n                ],\n                [\n                    \"Xiaomi\",\n                    89\n                ],\n                [\n                    \"Oppo\",\n                    107\n                ],\n                [\n                    \"Vivo\",\n                    98\n                ],\n                [\n                    \"Meizu\",\n                    23\n                ]\n            ],\n            \"hoverAnimation\": true,\n            \"label\": {\n                \"show\": true,\n                \"position\": \"top\",\n                \"margin\": 8\n            },\n            \"lineStyle\": {\n                \"show\": true,\n                \"width\": 1,\n                \"opacity\": 1,\n                \"curveness\": 0,\n                \"type\": \"solid\"\n            },\n            \"areaStyle\": {\n                \"opacity\": 0\n            },\n            \"zlevel\": 0,\n            \"z\": 0\n        }\n    ],\n    \"legend\": [\n        {\n            \"data\": [\n                \"\"\n            ],\n            \"selected\": {\n                \"\": true\n            }\n        }\n    ],\n    \"tooltip\": {\n        \"show\": true,\n        \"trigger\": \"item\",\n        \"triggerOn\": \"mousemove|click\",\n        \"axisPointer\": {\n            \"type\": \"line\"\n        },\n        \"showContent\": true,\n        \"alwaysShowContent\": false,\n        \"showDelay\": 0,\n        \"hideDelay\": 100,\n        \"textStyle\": {\n            \"fontSize\": 14\n        },\n        \"borderWidth\": 0,\n        \"padding\": 5\n    },\n    \"xAxis\": [\n        {\n            \"show\": true,\n            \"scale\": false,\n            \"nameLocation\": \"end\",\n            \"nameGap\": 15,\n            \"gridIndex\": 0,\n            \"inverse\": false,\n            \"offset\": 0,\n            \"splitNumber\": 5,\n            \"minInterval\": 0,\n            \"splitLine\": {\n                \"show\": false,\n                \"lineStyle\": {\n                    \"show\": true,\n                    \"width\": 1,\n                    \"opacity\": 1,\n                    \"curveness\": 0,\n                    \"type\": \"solid\"\n                }\n            },\n            \"data\": [\n                \"Apple\",\n                \"Huawei\",\n                \"Xiaomi\",\n                \"Oppo\",\n                \"Vivo\",\n                \"Meizu\"\n            ]\n        }\n    ],\n    \"yAxis\": [\n        {\n            \"show\": true,\n            \"scale\": false,\n            \"nameLocation\": \"end\",\n            \"nameGap\": 15,\n            \"gridIndex\": 0,\n            \"inverse\": false,\n            \"offset\": 0,\n            \"splitNumber\": 5,\n            \"minInterval\": 0,\n            \"splitLine\": {\n                \"show\": false,\n                \"lineStyle\": {\n                    \"show\": true,\n                    \"width\": 1,\n                    \"opacity\": 1,\n                    \"curveness\": 0,\n                    \"type\": \"solid\"\n                }\n            }\n        }\n    ]\n};\n                chart_8ac534b45d864ad2aad0bf72789ae9ad.setOption(option_8ac534b45d864ad2aad0bf72789ae9ad);\n        });\n    </script>\n"
     },
     "metadata": {},
     "execution_count": 39
    }
   ],
   "source": [
    "# 虚假数据\n",
    "x_data = ['Apple', 'Huawei', 'Xiaomi', 'Oppo', 'Vivo', 'Meizu']\n",
    "y_data = [123, 153, 89, 107, 98, 23]\n",
    "\n",
    "# 新建一个Line实例，命名为chart\n",
    "chart = Line()\n",
    "\n",
    "# 为chart添加x轴的数据\n",
    "chart.add_xaxis(x_data)\n",
    "\n",
    "# 为chart添加y轴的数据\n",
    "chart.add_yaxis('', y_data)\n",
    "\n",
    "# 在noteboo中夹在图表\n",
    "# 如果是在Pycharm等IDE中 使用charts.render(\"xxx.html\")\n",
    "chart.render_notebook()"
   ],
   "execution_count": 39
  },
  {
   "metadata": {
    "id": "DA149529D84845EF8352B9E73B5248AD",
    "notebookId": "615068858447b800176af73d",
    "jupyter": {},
    "tags": [],
    "slideshow": {
     "slide_type": "slide"
    },
    "trusted": true,
    "mdEditEnable": false,
    "collapsed": false,
    "scrolled": false
   },
   "cell_type": "markdown",
   "source": [
    "### 面积图\n",
    "\n",
    "面积图在Pyecharts中并没有单独的图表，实现方式就是通过**折线图填充区域颜色**来实现。"
   ]
  },
  {
   "metadata": {
    "id": "67045E2BD5654E829D4D8FA5500711E5",
    "notebookId": "615068858447b800176af73d",
    "jupyter": {},
    "tags": [],
    "slideshow": {
     "slide_type": "slide"
    },
    "trusted": true,
    "collapsed": false,
    "scrolled": false
   },
   "cell_type": "code",
   "outputs": [
    {
     "output_type": "execute_result",
     "data": {
      "text/plain": "<pyecharts.render.display.HTML at 0x7f27f80f3b70>",
      "text/html": "\n<script>\n    require.config({\n        paths: {\n            'echarts':'https://assets.pyecharts.org/assets/echarts.min'\n        }\n    });\n</script>\n\n        <div id=\"00ac0d66d176451eb91adc86670c1f29\" style=\"width:900px; height:500px;\"></div>\n\n<script>\n        require(['echarts'], function(echarts) {\n                var chart_00ac0d66d176451eb91adc86670c1f29 = echarts.init(\n                    document.getElementById('00ac0d66d176451eb91adc86670c1f29'), 'white', {renderer: 'canvas'});\n                var option_00ac0d66d176451eb91adc86670c1f29 = {\n    \"animation\": true,\n    \"animationThreshold\": 2000,\n    \"animationDuration\": 1000,\n    \"animationEasing\": \"cubicOut\",\n    \"animationDelay\": 0,\n    \"animationDurationUpdate\": 300,\n    \"animationEasingUpdate\": \"cubicOut\",\n    \"animationDelayUpdate\": 0,\n    \"color\": [\n        \"#c23531\",\n        \"#2f4554\",\n        \"#61a0a8\",\n        \"#d48265\",\n        \"#749f83\",\n        \"#ca8622\",\n        \"#bda29a\",\n        \"#6e7074\",\n        \"#546570\",\n        \"#c4ccd3\",\n        \"#f05b72\",\n        \"#ef5b9c\",\n        \"#f47920\",\n        \"#905a3d\",\n        \"#fab27b\",\n        \"#2a5caa\",\n        \"#444693\",\n        \"#726930\",\n        \"#b2d235\",\n        \"#6d8346\",\n        \"#ac6767\",\n        \"#1d953f\",\n        \"#6950a1\",\n        \"#918597\"\n    ],\n    \"series\": [\n        {\n            \"type\": \"line\",\n            \"connectNulls\": false,\n            \"symbolSize\": 4,\n            \"showSymbol\": true,\n            \"smooth\": false,\n            \"clip\": true,\n            \"step\": false,\n            \"data\": [\n                [\n                    \"Apple\",\n                    123\n                ],\n                [\n                    \"Huawei\",\n                    153\n                ],\n                [\n                    \"Xiaomi\",\n                    89\n                ],\n                [\n                    \"Oppo\",\n                    107\n                ],\n                [\n                    \"Vivo\",\n                    98\n                ],\n                [\n                    \"Meizu\",\n                    23\n                ]\n            ],\n            \"hoverAnimation\": true,\n            \"label\": {\n                \"show\": true,\n                \"position\": \"top\",\n                \"margin\": 8\n            },\n            \"lineStyle\": {\n                \"show\": true,\n                \"width\": 1,\n                \"opacity\": 1,\n                \"curveness\": 0,\n                \"type\": \"solid\"\n            },\n            \"areaStyle\": {\n                \"opacity\": 0.5\n            },\n            \"zlevel\": 0,\n            \"z\": 0\n        }\n    ],\n    \"legend\": [\n        {\n            \"data\": [\n                \"\"\n            ],\n            \"selected\": {\n                \"\": true\n            }\n        }\n    ],\n    \"tooltip\": {\n        \"show\": true,\n        \"trigger\": \"item\",\n        \"triggerOn\": \"mousemove|click\",\n        \"axisPointer\": {\n            \"type\": \"line\"\n        },\n        \"showContent\": true,\n        \"alwaysShowContent\": false,\n        \"showDelay\": 0,\n        \"hideDelay\": 100,\n        \"textStyle\": {\n            \"fontSize\": 14\n        },\n        \"borderWidth\": 0,\n        \"padding\": 5\n    },\n    \"xAxis\": [\n        {\n            \"show\": true,\n            \"scale\": false,\n            \"nameLocation\": \"end\",\n            \"nameGap\": 15,\n            \"gridIndex\": 0,\n            \"inverse\": false,\n            \"offset\": 0,\n            \"splitNumber\": 5,\n            \"minInterval\": 0,\n            \"splitLine\": {\n                \"show\": false,\n                \"lineStyle\": {\n                    \"show\": true,\n                    \"width\": 1,\n                    \"opacity\": 1,\n                    \"curveness\": 0,\n                    \"type\": \"solid\"\n                }\n            },\n            \"data\": [\n                \"Apple\",\n                \"Huawei\",\n                \"Xiaomi\",\n                \"Oppo\",\n                \"Vivo\",\n                \"Meizu\"\n            ]\n        }\n    ],\n    \"yAxis\": [\n        {\n            \"show\": true,\n            \"scale\": false,\n            \"nameLocation\": \"end\",\n            \"nameGap\": 15,\n            \"gridIndex\": 0,\n            \"inverse\": false,\n            \"offset\": 0,\n            \"splitNumber\": 5,\n            \"minInterval\": 0,\n            \"splitLine\": {\n                \"show\": false,\n                \"lineStyle\": {\n                    \"show\": true,\n                    \"width\": 1,\n                    \"opacity\": 1,\n                    \"curveness\": 0,\n                    \"type\": \"solid\"\n                }\n            }\n        }\n    ]\n};\n                chart_00ac0d66d176451eb91adc86670c1f29.setOption(option_00ac0d66d176451eb91adc86670c1f29);\n        });\n    </script>\n"
     },
     "metadata": {},
     "execution_count": 40
    }
   ],
   "source": [
    "# 虚假数据\n",
    "x_data = ['Apple', 'Huawei', 'Xiaomi', 'Oppo', 'Vivo', 'Meizu']\n",
    "y_data = [123, 153, 89, 107, 98, 23]\n",
    "\n",
    "# 新建一个Line实例，命名为chart\n",
    "chart = Line()\n",
    "\n",
    "# 为chart添加x轴的数据\n",
    "chart.add_xaxis(x_data)\n",
    "\n",
    "# 为chart添加y轴的数据\n",
    "chart.add_yaxis(\n",
    "    '', \n",
    "    y_data,\n",
    "    # 区域颜色填充，默认使用系列颜色，透明度设置为0.5\n",
    "    areastyle_opts=opts.AreaStyleOpts(opacity=0.5)\n",
    "    )\n",
    "\n",
    "# 在noteboo中夹在图表\n",
    "# 如果是在Pycharm等IDE中 使用charts.render(\"xxx.html\")\n",
    "chart.render_notebook()"
   ],
   "execution_count": 40
  },
  {
   "metadata": {
    "id": "0EFBEF8B02EE49678EB932BE70E0F2B5",
    "notebookId": "615068858447b800176af73d",
    "jupyter": {},
    "tags": [],
    "slideshow": {
     "slide_type": "slide"
    },
    "trusted": true,
    "mdEditEnable": false,
    "collapsed": false,
    "scrolled": false
   },
   "cell_type": "markdown",
   "source": [
    "### Heatmap\n",
    "\n",
    "直角坐标系中的热力图x轴y轴都必须是category类型"
   ]
  },
  {
   "metadata": {
    "id": "77A077D9F989416A85203E880AF2D85F",
    "notebookId": "615068858447b800176af73d",
    "jupyter": {},
    "tags": [],
    "slideshow": {
     "slide_type": "slide"
    },
    "trusted": true,
    "collapsed": false,
    "scrolled": false
   },
   "cell_type": "code",
   "outputs": [
    {
     "output_type": "execute_result",
     "data": {
      "text/plain": "<pyecharts.render.display.HTML at 0x7f27f81d17b8>",
      "text/html": "\n<script>\n    require.config({\n        paths: {\n            'echarts':'https://assets.pyecharts.org/assets/echarts.min'\n        }\n    });\n</script>\n\n        <div id=\"4971a17d47fe48408b1172e5c145d098\" style=\"width:900px; height:500px;\"></div>\n\n<script>\n        require(['echarts'], function(echarts) {\n                var chart_4971a17d47fe48408b1172e5c145d098 = echarts.init(\n                    document.getElementById('4971a17d47fe48408b1172e5c145d098'), 'white', {renderer: 'canvas'});\n                var option_4971a17d47fe48408b1172e5c145d098 = {\n    \"animation\": true,\n    \"animationThreshold\": 2000,\n    \"animationDuration\": 1000,\n    \"animationEasing\": \"cubicOut\",\n    \"animationDelay\": 0,\n    \"animationDurationUpdate\": 300,\n    \"animationEasingUpdate\": \"cubicOut\",\n    \"animationDelayUpdate\": 0,\n    \"color\": [\n        \"#c23531\",\n        \"#2f4554\",\n        \"#61a0a8\",\n        \"#d48265\",\n        \"#749f83\",\n        \"#ca8622\",\n        \"#bda29a\",\n        \"#6e7074\",\n        \"#546570\",\n        \"#c4ccd3\",\n        \"#f05b72\",\n        \"#ef5b9c\",\n        \"#f47920\",\n        \"#905a3d\",\n        \"#fab27b\",\n        \"#2a5caa\",\n        \"#444693\",\n        \"#726930\",\n        \"#b2d235\",\n        \"#6d8346\",\n        \"#ac6767\",\n        \"#1d953f\",\n        \"#6950a1\",\n        \"#918597\"\n    ],\n    \"series\": [\n        {\n            \"type\": \"heatmap\",\n            \"data\": [\n                [\n                    0,\n                    0,\n                    5\n                ],\n                [\n                    1,\n                    0,\n                    1\n                ],\n                [\n                    2,\n                    0,\n                    \"-\"\n                ],\n                [\n                    3,\n                    0,\n                    \"-\"\n                ],\n                [\n                    4,\n                    0,\n                    \"-\"\n                ],\n                [\n                    5,\n                    0,\n                    \"-\"\n                ],\n                [\n                    6,\n                    0,\n                    \"-\"\n                ],\n                [\n                    7,\n                    0,\n                    \"-\"\n                ],\n                [\n                    8,\n                    0,\n                    \"-\"\n                ],\n                [\n                    9,\n                    0,\n                    \"-\"\n                ],\n                [\n                    10,\n                    0,\n                    \"-\"\n                ],\n                [\n                    11,\n                    0,\n                    2\n                ],\n                [\n                    12,\n                    0,\n                    4\n                ],\n                [\n                    13,\n                    0,\n                    1\n                ],\n                [\n                    14,\n                    0,\n                    1\n                ],\n                [\n                    15,\n                    0,\n                    3\n                ],\n                [\n                    16,\n                    0,\n                    4\n                ],\n                [\n                    17,\n                    0,\n                    6\n                ],\n                [\n                    18,\n                    0,\n                    4\n                ],\n                [\n                    19,\n                    0,\n                    4\n                ],\n                [\n                    20,\n                    0,\n                    3\n                ],\n                [\n                    21,\n                    0,\n                    3\n                ],\n                [\n                    22,\n                    0,\n                    2\n                ],\n                [\n                    23,\n                    0,\n                    5\n                ],\n                [\n                    0,\n                    1,\n                    7\n                ],\n                [\n                    1,\n                    1,\n                    \"-\"\n                ],\n                [\n                    2,\n                    1,\n                    \"-\"\n                ],\n                [\n                    3,\n                    1,\n                    \"-\"\n                ],\n                [\n                    4,\n                    1,\n                    \"-\"\n                ],\n                [\n                    5,\n                    1,\n                    \"-\"\n                ],\n                [\n                    6,\n                    1,\n                    \"-\"\n                ],\n                [\n                    7,\n                    1,\n                    \"-\"\n                ],\n                [\n                    8,\n                    1,\n                    \"-\"\n                ],\n                [\n                    9,\n                    1,\n                    \"-\"\n                ],\n                [\n                    10,\n                    1,\n                    5\n                ],\n                [\n                    11,\n                    1,\n                    2\n                ],\n                [\n                    12,\n                    1,\n                    2\n                ],\n                [\n                    13,\n                    1,\n                    6\n                ],\n                [\n                    14,\n                    1,\n                    9\n                ],\n                [\n                    15,\n                    1,\n                    11\n                ],\n                [\n                    16,\n                    1,\n                    6\n                ],\n                [\n                    17,\n                    1,\n                    7\n                ],\n                [\n                    18,\n                    1,\n                    8\n                ],\n                [\n                    19,\n                    1,\n                    12\n                ],\n                [\n                    20,\n                    1,\n                    5\n                ],\n                [\n                    21,\n                    1,\n                    5\n                ],\n                [\n                    22,\n                    1,\n                    7\n                ],\n                [\n                    23,\n                    1,\n                    2\n                ],\n                [\n                    0,\n                    2,\n                    1\n                ],\n                [\n                    1,\n                    2,\n                    1\n                ],\n                [\n                    2,\n                    2,\n                    \"-\"\n                ],\n                [\n                    3,\n                    2,\n                    \"-\"\n                ],\n                [\n                    4,\n                    2,\n                    \"-\"\n                ],\n                [\n                    5,\n                    2,\n                    \"-\"\n                ],\n                [\n                    6,\n                    2,\n                    \"-\"\n                ],\n                [\n                    7,\n                    2,\n                    \"-\"\n                ],\n                [\n                    8,\n                    2,\n                    \"-\"\n                ],\n                [\n                    9,\n                    2,\n                    \"-\"\n                ],\n                [\n                    10,\n                    2,\n                    3\n                ],\n                [\n                    11,\n                    2,\n                    2\n                ],\n                [\n                    12,\n                    2,\n                    1\n                ],\n                [\n                    13,\n                    2,\n                    9\n                ],\n                [\n                    14,\n                    2,\n                    8\n                ],\n                [\n                    15,\n                    2,\n                    10\n                ],\n                [\n                    16,\n                    2,\n                    6\n                ],\n                [\n                    17,\n                    2,\n                    5\n                ],\n                [\n                    18,\n                    2,\n                    5\n                ],\n                [\n                    19,\n                    2,\n                    5\n                ],\n                [\n                    20,\n                    2,\n                    7\n                ],\n                [\n                    21,\n                    2,\n                    4\n                ],\n                [\n                    22,\n                    2,\n                    2\n                ],\n                [\n                    23,\n                    2,\n                    4\n                ],\n                [\n                    0,\n                    3,\n                    7\n                ],\n                [\n                    1,\n                    3,\n                    3\n                ],\n                [\n                    2,\n                    3,\n                    \"-\"\n                ],\n                [\n                    3,\n                    3,\n                    \"-\"\n                ],\n                [\n                    4,\n                    3,\n                    \"-\"\n                ],\n                [\n                    5,\n                    3,\n                    \"-\"\n                ],\n                [\n                    6,\n                    3,\n                    \"-\"\n                ],\n                [\n                    7,\n                    3,\n                    \"-\"\n                ],\n                [\n                    8,\n                    3,\n                    1\n                ],\n                [\n                    9,\n                    3,\n                    \"-\"\n                ],\n                [\n                    10,\n                    3,\n                    5\n                ],\n                [\n                    11,\n                    3,\n                    4\n                ],\n                [\n                    12,\n                    3,\n                    7\n                ],\n                [\n                    13,\n                    3,\n                    14\n                ],\n                [\n                    14,\n                    3,\n                    13\n                ],\n                [\n                    15,\n                    3,\n                    12\n                ],\n                [\n                    16,\n                    3,\n                    9\n                ],\n                [\n                    17,\n                    3,\n                    5\n                ],\n                [\n                    18,\n                    3,\n                    5\n                ],\n                [\n                    19,\n                    3,\n                    10\n                ],\n                [\n                    20,\n                    3,\n                    6\n                ],\n                [\n                    21,\n                    3,\n                    4\n                ],\n                [\n                    22,\n                    3,\n                    4\n                ],\n                [\n                    23,\n                    3,\n                    1\n                ],\n                [\n                    0,\n                    4,\n                    1\n                ],\n                [\n                    1,\n                    4,\n                    3\n                ],\n                [\n                    2,\n                    4,\n                    \"-\"\n                ],\n                [\n                    3,\n                    4,\n                    \"-\"\n                ],\n                [\n                    4,\n                    4,\n                    \"-\"\n                ],\n                [\n                    5,\n                    4,\n                    1\n                ],\n                [\n                    6,\n                    4,\n                    \"-\"\n                ],\n                [\n                    7,\n                    4,\n                    \"-\"\n                ],\n                [\n                    8,\n                    4,\n                    \"-\"\n                ],\n                [\n                    9,\n                    4,\n                    2\n                ],\n                [\n                    10,\n                    4,\n                    4\n                ],\n                [\n                    11,\n                    4,\n                    4\n                ],\n                [\n                    12,\n                    4,\n                    2\n                ],\n                [\n                    13,\n                    4,\n                    4\n                ],\n                [\n                    14,\n                    4,\n                    4\n                ],\n                [\n                    15,\n                    4,\n                    14\n                ],\n                [\n                    16,\n                    4,\n                    12\n                ],\n                [\n                    17,\n                    4,\n                    1\n                ],\n                [\n                    18,\n                    4,\n                    8\n                ],\n                [\n                    19,\n                    4,\n                    5\n                ],\n                [\n                    20,\n                    4,\n                    3\n                ],\n                [\n                    21,\n                    4,\n                    7\n                ],\n                [\n                    22,\n                    4,\n                    3\n                ],\n                [\n                    23,\n                    4,\n                    \"-\"\n                ],\n                [\n                    0,\n                    5,\n                    2\n                ],\n                [\n                    1,\n                    5,\n                    1\n                ],\n                [\n                    2,\n                    5,\n                    \"-\"\n                ],\n                [\n                    3,\n                    5,\n                    3\n                ],\n                [\n                    4,\n                    5,\n                    \"-\"\n                ],\n                [\n                    5,\n                    5,\n                    \"-\"\n                ],\n                [\n                    6,\n                    5,\n                    \"-\"\n                ],\n                [\n                    7,\n                    5,\n                    \"-\"\n                ],\n                [\n                    8,\n                    5,\n                    2\n                ],\n                [\n                    9,\n                    5,\n                    \"-\"\n                ],\n                [\n                    10,\n                    5,\n                    4\n                ],\n                [\n                    11,\n                    5,\n                    1\n                ],\n                [\n                    12,\n                    5,\n                    5\n                ],\n                [\n                    13,\n                    5,\n                    10\n                ],\n                [\n                    14,\n                    5,\n                    5\n                ],\n                [\n                    15,\n                    5,\n                    7\n                ],\n                [\n                    16,\n                    5,\n                    11\n                ],\n                [\n                    17,\n                    5,\n                    6\n                ],\n                [\n                    18,\n                    5,\n                    \"-\"\n                ],\n                [\n                    19,\n                    5,\n                    5\n                ],\n                [\n                    20,\n                    5,\n                    3\n                ],\n                [\n                    21,\n                    5,\n                    4\n                ],\n                [\n                    22,\n                    5,\n                    2\n                ],\n                [\n                    23,\n                    5,\n                    \"-\"\n                ],\n                [\n                    0,\n                    6,\n                    1\n                ],\n                [\n                    1,\n                    6,\n                    \"-\"\n                ],\n                [\n                    2,\n                    6,\n                    \"-\"\n                ],\n                [\n                    3,\n                    6,\n                    \"-\"\n                ],\n                [\n                    4,\n                    6,\n                    \"-\"\n                ],\n                [\n                    5,\n                    6,\n                    \"-\"\n                ],\n                [\n                    6,\n                    6,\n                    \"-\"\n                ],\n                [\n                    7,\n                    6,\n                    \"-\"\n                ],\n                [\n                    8,\n                    6,\n                    \"-\"\n                ],\n                [\n                    9,\n                    6,\n                    \"-\"\n                ],\n                [\n                    10,\n                    6,\n                    1\n                ],\n                [\n                    11,\n                    6,\n                    \"-\"\n                ],\n                [\n                    12,\n                    6,\n                    2\n                ],\n                [\n                    13,\n                    6,\n                    1\n                ],\n                [\n                    14,\n                    6,\n                    3\n                ],\n                [\n                    15,\n                    6,\n                    4\n                ],\n                [\n                    16,\n                    6,\n                    \"-\"\n                ],\n                [\n                    17,\n                    6,\n                    \"-\"\n                ],\n                [\n                    18,\n                    6,\n                    \"-\"\n                ],\n                [\n                    19,\n                    6,\n                    \"-\"\n                ],\n                [\n                    20,\n                    6,\n                    1\n                ],\n                [\n                    21,\n                    6,\n                    2\n                ],\n                [\n                    22,\n                    6,\n                    2\n                ],\n                [\n                    23,\n                    6,\n                    6\n                ]\n            ],\n            \"label\": {\n                \"show\": true,\n                \"position\": \"top\",\n                \"margin\": 8\n            }\n        }\n    ],\n    \"legend\": [\n        {\n            \"data\": [\n                \"\"\n            ],\n            \"selected\": {\n                \"\": true\n            },\n            \"show\": true,\n            \"padding\": 5,\n            \"itemGap\": 10,\n            \"itemWidth\": 25,\n            \"itemHeight\": 14\n        }\n    ],\n    \"tooltip\": {\n        \"show\": true,\n        \"trigger\": \"item\",\n        \"triggerOn\": \"mousemove|click\",\n        \"axisPointer\": {\n            \"type\": \"line\"\n        },\n        \"showContent\": true,\n        \"alwaysShowContent\": false,\n        \"showDelay\": 0,\n        \"hideDelay\": 100,\n        \"textStyle\": {\n            \"fontSize\": 14\n        },\n        \"borderWidth\": 0,\n        \"padding\": 5\n    },\n    \"xAxis\": [\n        {\n            \"show\": true,\n            \"scale\": false,\n            \"nameLocation\": \"end\",\n            \"nameGap\": 15,\n            \"gridIndex\": 0,\n            \"inverse\": false,\n            \"offset\": 0,\n            \"splitNumber\": 5,\n            \"minInterval\": 0,\n            \"splitLine\": {\n                \"show\": false,\n                \"lineStyle\": {\n                    \"show\": true,\n                    \"width\": 1,\n                    \"opacity\": 1,\n                    \"curveness\": 0,\n                    \"type\": \"solid\"\n                }\n            },\n            \"data\": [\n                \"0\\u70b9\",\n                \"1\\u70b9\",\n                \"2\\u70b9\",\n                \"3\\u70b9\",\n                \"4\\u70b9\",\n                \"5\\u70b9\",\n                \"6\\u70b9\",\n                \"7\\u70b9\",\n                \"8\\u70b9\",\n                \"9\\u70b9\",\n                \"10\\u70b9\",\n                \"11\\u70b9\",\n                \"12\\u70b9\",\n                \"13\\u70b9\",\n                \"14\\u70b9\",\n                \"15\\u70b9\",\n                \"16\\u70b9\",\n                \"17\\u70b9\",\n                \"18\\u70b9\",\n                \"19\\u70b9\",\n                \"20\\u70b9\",\n                \"21\\u70b9\",\n                \"22\\u70b9\"\n            ]\n        }\n    ],\n    \"yAxis\": [\n        {\n            \"show\": true,\n            \"scale\": false,\n            \"nameLocation\": \"end\",\n            \"nameGap\": 15,\n            \"gridIndex\": 0,\n            \"inverse\": false,\n            \"offset\": 0,\n            \"splitNumber\": 5,\n            \"minInterval\": 0,\n            \"splitLine\": {\n                \"show\": false,\n                \"lineStyle\": {\n                    \"show\": true,\n                    \"width\": 1,\n                    \"opacity\": 1,\n                    \"curveness\": 0,\n                    \"type\": \"solid\"\n                }\n            },\n            \"data\": [\n                \"\\u5468\\u4e00\",\n                \"\\u5468\\u4e8c\",\n                \"\\u5468\\u4e09\",\n                \"\\u5468\\u56db\",\n                \"\\u5468\\u4e94\",\n                \"\\u5468\\u516d\",\n                \"\\u5468\\u5929\"\n            ]\n        }\n    ],\n    \"title\": [\n        {\n            \"padding\": 5,\n            \"itemGap\": 10\n        }\n    ],\n    \"visualMap\": {\n        \"show\": true,\n        \"type\": \"continuous\",\n        \"min\": 0,\n        \"max\": 10,\n        \"inRange\": {\n            \"color\": [\n                \"#50a3ba\",\n                \"#eac763\",\n                \"#d94e5d\"\n            ]\n        },\n        \"calculable\": true,\n        \"inverse\": false,\n        \"splitNumber\": 5,\n        \"orient\": \"vertical\",\n        \"showLabel\": true,\n        \"itemWidth\": 20,\n        \"itemHeight\": 140,\n        \"borderWidth\": 0\n    }\n};\n                chart_4971a17d47fe48408b1172e5c145d098.setOption(option_4971a17d47fe48408b1172e5c145d098);\n        });\n    </script>\n"
     },
     "metadata": {},
     "execution_count": 41
    }
   ],
   "source": [
    "# x轴数据项\n",
    "hours = ['0点', '1点', '2点', '3点', '4点', '5点', '6点', '7点', '8点', '9点', '10点', '11点', '12点',\n",
    "         '13点', '14点', '15点', '16点', '17点', '18点', '19点', '20点', '21点', '22点']\n",
    "# y轴数据项\n",
    "weekdays = ['周一', '周二', '周三', '周四', '周五', '周六', '周天']\n",
    "# 单个数据项点值\n",
    "data = [[0, 0, 5], [1, 0, 1], [2, 0, '-'], [3, 0, '-'], [4, 0, '-'], [5, 0, '-'], [6, 0, '-'], [7, 0, '-'], \n",
    "        [8, 0, '-'], [9, 0, '-'], [10, 0, '-'], [11, 0, 2], [12, 0, 4], [13, 0, 1], [14, 0, 1], [15, 0, 3], \n",
    "        [16, 0, 4], [17, 0, 6], [18, 0, 4], [19, 0, 4], [20, 0, 3], [21, 0, 3], [22, 0, 2], [23, 0, 5], \n",
    "        [0, 1, 7], [1, 1, '-'], [2, 1, '-'], [3, 1, '-'], [4, 1, '-'], [5, 1, '-'], [6, 1, '-'], [7, 1, '-'], \n",
    "        [8, 1, '-'], [9, 1, '-'], [10, 1, 5], [11, 1, 2], [12, 1, 2], [13, 1, 6], [14, 1, 9], [15, 1, 11], \n",
    "        [16, 1, 6], [17, 1, 7], [18, 1, 8], [19, 1, 12], [20, 1, 5], [21, 1, 5], [22, 1, 7], [23, 1, 2], \n",
    "        [0, 2, 1], [1, 2, 1], [2, 2, '-'], [3, 2, '-'], [4, 2, '-'], [5, 2, '-'], [6, 2, '-'], [7, 2, '-'],\n",
    "        [8, 2, '-'], [9, 2, '-'], [10, 2, 3], [11, 2, 2], [12, 2, 1], [13, 2, 9], [14, 2, 8], [15, 2, 10], \n",
    "        [16, 2, 6], [17, 2, 5], [18, 2, 5], [19, 2, 5], [20, 2, 7], [21, 2, 4], [22, 2, 2], [23, 2, 4], [0, 3, 7], \n",
    "        [1, 3, 3], [2, 3, '-'], [3, 3, '-'], [4, 3, '-'], [5, 3, '-'], [6, 3, '-'], [7, 3, '-'], [8, 3, 1], [9, 3, '-'], \n",
    "        [10, 3, 5], [11, 3, 4], [12, 3, 7], [13, 3, 14], [14, 3, 13], [15, 3, 12], [16, 3, 9], [17, 3, 5], [18, 3, 5], \n",
    "        [19, 3, 10], [20, 3, 6], [21, 3, 4], [22, 3, 4], [23, 3, 1], [0, 4, 1], [1, 4, 3], [2, 4, '-'], [3, 4, '-'],\n",
    "        [4, 4, '-'], [5, 4, 1], [6, 4, '-'], [7, 4, '-'], [8, 4, '-'], [9, 4, 2], [10, 4, 4], [11, 4, 4], [12, 4, 2], \n",
    "        [13, 4, 4], [14, 4, 4], [15, 4, 14], [16, 4, 12], [17, 4, 1], [18, 4, 8], [19, 4, 5], [20, 4, 3], [21, 4, 7],\n",
    "        [22, 4, 3], [23, 4, '-'], [0, 5, 2], [1, 5, 1], [2, 5, '-'], [3, 5, 3], [4, 5, '-'], [5, 5, '-'], [6, 5, '-'], \n",
    "        [7, 5, '-'], [8, 5, 2], [9, 5, '-'], [10, 5, 4], [11, 5, 1], [12, 5, 5], [13, 5, 10], [14, 5, 5], [15, 5, 7], \n",
    "        [16, 5, 11], [17, 5, 6], [18, 5, '-'], [19, 5, 5], [20, 5, 3], [21, 5, 4], [22, 5, 2], [23, 5, '-'], [0, 6, 1], \n",
    "        [1, 6, '-'], [2, 6, '-'], [3, 6, '-'], [4, 6, '-'], [5, 6, '-'], [6, 6, '-'], [7, 6, '-'], [8, 6, '-'], \n",
    "        [9, 6, '-'], [10, 6, 1], [11, 6, '-'], [12, 6, 2], [13, 6, 1], [14, 6, 3], [15, 6, 4], [16, 6, '-'], \n",
    "        [17, 6, '-'], [18, 6, '-'], [19, 6, '-'], [20, 6, 1], [21, 6, 2], [22, 6, 2], [23, 6, 6]]\n",
    "\n",
    "# 新建heatmap实例\n",
    "chart = HeatMap()\n",
    "# 添加x轴数据\n",
    "chart.add_xaxis(hours)\n",
    "# 添加y轴数据项和数值\n",
    "chart.add_yaxis(\n",
    "    \"\",\n",
    "    weekdays,\n",
    "    data\n",
    "    )\n",
    "\n",
    "# 全局配置项\n",
    "chart.set_global_opts(\n",
    "    # 视觉组件是必须的，需要通过视觉组件的颜色来展示数据大小\n",
    "    visualmap_opts=opts.VisualMapOpts(max_=10),\n",
    ")\n",
    "\n",
    "chart.render_notebook()"
   ],
   "execution_count": 41
  },
  {
   "metadata": {
    "id": "C7545F1CF3AC42B6A69D17B451C1D507",
    "notebookId": "615068858447b800176af73d",
    "jupyter": {},
    "tags": [],
    "slideshow": {
     "slide_type": "slide"
    },
    "trusted": true,
    "collapsed": false,
    "scrolled": false,
    "mdEditEnable": false
   },
   "cell_type": "markdown",
   "source": [
    "### 散点图\n",
    "\n",
    "Pyecharts中散点图X轴默认是使用分类行数据的坐标轴；"
   ]
  },
  {
   "metadata": {
    "id": "B9226EC2376E42958EAE4BF642E99282",
    "notebookId": "615068858447b800176af73d",
    "jupyter": {},
    "tags": [],
    "slideshow": {
     "slide_type": "slide"
    },
    "trusted": true,
    "collapsed": false,
    "scrolled": false
   },
   "cell_type": "code",
   "outputs": [
    {
     "output_type": "execute_result",
     "data": {
      "text/plain": "<pyecharts.render.display.HTML at 0x7f27f80df400>",
      "text/html": "\n<script>\n    require.config({\n        paths: {\n            'echarts':'https://assets.pyecharts.org/assets/echarts.min'\n        }\n    });\n</script>\n\n        <div id=\"0f913ddfd08745f9bd57778569444da2\" style=\"width:900px; height:500px;\"></div>\n\n<script>\n        require(['echarts'], function(echarts) {\n                var chart_0f913ddfd08745f9bd57778569444da2 = echarts.init(\n                    document.getElementById('0f913ddfd08745f9bd57778569444da2'), 'white', {renderer: 'canvas'});\n                var option_0f913ddfd08745f9bd57778569444da2 = {\n    \"animation\": true,\n    \"animationThreshold\": 2000,\n    \"animationDuration\": 1000,\n    \"animationEasing\": \"cubicOut\",\n    \"animationDelay\": 0,\n    \"animationDurationUpdate\": 300,\n    \"animationEasingUpdate\": \"cubicOut\",\n    \"animationDelayUpdate\": 0,\n    \"color\": [\n        \"#c23531\",\n        \"#2f4554\",\n        \"#61a0a8\",\n        \"#d48265\",\n        \"#749f83\",\n        \"#ca8622\",\n        \"#bda29a\",\n        \"#6e7074\",\n        \"#546570\",\n        \"#c4ccd3\",\n        \"#f05b72\",\n        \"#ef5b9c\",\n        \"#f47920\",\n        \"#905a3d\",\n        \"#fab27b\",\n        \"#2a5caa\",\n        \"#444693\",\n        \"#726930\",\n        \"#b2d235\",\n        \"#6d8346\",\n        \"#ac6767\",\n        \"#1d953f\",\n        \"#6950a1\",\n        \"#918597\"\n    ],\n    \"series\": [\n        {\n            \"type\": \"scatter\",\n            \"symbolSize\": 10,\n            \"data\": [\n                [\n                    \"Apple\",\n                    123\n                ],\n                [\n                    \"Huawei\",\n                    153\n                ],\n                [\n                    \"Xiaomi\",\n                    89\n                ],\n                [\n                    \"Oppo\",\n                    107\n                ],\n                [\n                    \"Vivo\",\n                    98\n                ],\n                [\n                    \"Meizu\",\n                    23\n                ]\n            ],\n            \"label\": {\n                \"show\": true,\n                \"position\": \"right\",\n                \"margin\": 8\n            }\n        }\n    ],\n    \"legend\": [\n        {\n            \"data\": [\n                \"\"\n            ],\n            \"selected\": {\n                \"\": true\n            }\n        }\n    ],\n    \"tooltip\": {\n        \"show\": true,\n        \"trigger\": \"item\",\n        \"triggerOn\": \"mousemove|click\",\n        \"axisPointer\": {\n            \"type\": \"line\"\n        },\n        \"showContent\": true,\n        \"alwaysShowContent\": false,\n        \"showDelay\": 0,\n        \"hideDelay\": 100,\n        \"textStyle\": {\n            \"fontSize\": 14\n        },\n        \"borderWidth\": 0,\n        \"padding\": 5\n    },\n    \"xAxis\": [\n        {\n            \"show\": true,\n            \"scale\": false,\n            \"nameLocation\": \"end\",\n            \"nameGap\": 15,\n            \"gridIndex\": 0,\n            \"inverse\": false,\n            \"offset\": 0,\n            \"splitNumber\": 5,\n            \"minInterval\": 0,\n            \"splitLine\": {\n                \"show\": false,\n                \"lineStyle\": {\n                    \"show\": true,\n                    \"width\": 1,\n                    \"opacity\": 1,\n                    \"curveness\": 0,\n                    \"type\": \"solid\"\n                }\n            },\n            \"data\": [\n                \"Apple\",\n                \"Huawei\",\n                \"Xiaomi\",\n                \"Oppo\",\n                \"Vivo\",\n                \"Meizu\"\n            ]\n        }\n    ],\n    \"yAxis\": [\n        {\n            \"show\": true,\n            \"scale\": false,\n            \"nameLocation\": \"end\",\n            \"nameGap\": 15,\n            \"gridIndex\": 0,\n            \"inverse\": false,\n            \"offset\": 0,\n            \"splitNumber\": 5,\n            \"minInterval\": 0,\n            \"splitLine\": {\n                \"show\": false,\n                \"lineStyle\": {\n                    \"show\": true,\n                    \"width\": 1,\n                    \"opacity\": 1,\n                    \"curveness\": 0,\n                    \"type\": \"solid\"\n                }\n            }\n        }\n    ]\n};\n                chart_0f913ddfd08745f9bd57778569444da2.setOption(option_0f913ddfd08745f9bd57778569444da2);\n        });\n    </script>\n"
     },
     "metadata": {},
     "execution_count": 42
    }
   ],
   "source": [
    "# 虚假数据\n",
    "x_data = ['Apple', 'Huawei', 'Xiaomi', 'Oppo', 'Vivo', 'Meizu']\n",
    "y_data = [123, 153, 89, 107, 98, 23]\n",
    "\n",
    "# 新建一个Scatter实例，命名为chart\n",
    "chart = Scatter()\n",
    "\n",
    "# 为chart添加x轴的数据\n",
    "chart.add_xaxis(x_data)\n",
    "\n",
    "# 为chart添加y轴的数据\n",
    "chart.add_yaxis('', y_data)\n",
    "\n",
    "# 在noteboo中夹在图表\n",
    "# 如果是在Pycharm等IDE中 使用charts.render(\"xxx.html\")\n",
    "chart.render_notebook()"
   ],
   "execution_count": 42
  },
  {
   "metadata": {
    "id": "99D0F72890A94E08896B7EE2C098A6D8",
    "notebookId": "615068858447b800176af73d",
    "jupyter": {},
    "tags": [],
    "slideshow": {
     "slide_type": "slide"
    },
    "trusted": true,
    "mdEditEnable": false,
    "collapsed": false,
    "scrolled": false
   },
   "cell_type": "markdown",
   "source": [
    "大多数情况下，散点图会用来展示两个指标之间的关系，所以我们需要**手动将x轴设置为数值型**，y轴默认是数值型，不需要再单独设置；\n"
   ]
  },
  {
   "metadata": {
    "id": "B4E9F5E987F34A159AA986A612B85FC1",
    "notebookId": "615068858447b800176af73d",
    "jupyter": {},
    "tags": [],
    "slideshow": {
     "slide_type": "slide"
    },
    "trusted": true,
    "collapsed": false,
    "scrolled": false
   },
   "cell_type": "code",
   "outputs": [
    {
     "output_type": "execute_result",
     "data": {
      "text/plain": "<pyecharts.render.display.HTML at 0x7f27f80df898>",
      "text/html": "\n<script>\n    require.config({\n        paths: {\n            'echarts':'https://assets.pyecharts.org/assets/echarts.min'\n        }\n    });\n</script>\n\n        <div id=\"b63d6b67e9bb400788cba5920cb1d739\" style=\"width:900px; height:500px;\"></div>\n\n<script>\n        require(['echarts'], function(echarts) {\n                var chart_b63d6b67e9bb400788cba5920cb1d739 = echarts.init(\n                    document.getElementById('b63d6b67e9bb400788cba5920cb1d739'), 'white', {renderer: 'canvas'});\n                var option_b63d6b67e9bb400788cba5920cb1d739 = {\n    \"animation\": true,\n    \"animationThreshold\": 2000,\n    \"animationDuration\": 1000,\n    \"animationEasing\": \"cubicOut\",\n    \"animationDelay\": 0,\n    \"animationDurationUpdate\": 300,\n    \"animationEasingUpdate\": \"cubicOut\",\n    \"animationDelayUpdate\": 0,\n    \"color\": [\n        \"#c23531\",\n        \"#2f4554\",\n        \"#61a0a8\",\n        \"#d48265\",\n        \"#749f83\",\n        \"#ca8622\",\n        \"#bda29a\",\n        \"#6e7074\",\n        \"#546570\",\n        \"#c4ccd3\",\n        \"#f05b72\",\n        \"#ef5b9c\",\n        \"#f47920\",\n        \"#905a3d\",\n        \"#fab27b\",\n        \"#2a5caa\",\n        \"#444693\",\n        \"#726930\",\n        \"#b2d235\",\n        \"#6d8346\",\n        \"#ac6767\",\n        \"#1d953f\",\n        \"#6950a1\",\n        \"#918597\"\n    ],\n    \"series\": [\n        {\n            \"type\": \"scatter\",\n            \"symbolSize\": 10,\n            \"data\": [\n                [\n                    12,\n                    123\n                ],\n                [\n                    18,\n                    153\n                ],\n                [\n                    10,\n                    89\n                ],\n                [\n                    11,\n                    107\n                ],\n                [\n                    9,\n                    98\n                ],\n                [\n                    2,\n                    23\n                ]\n            ],\n            \"label\": {\n                \"show\": true,\n                \"position\": \"right\",\n                \"margin\": 8\n            }\n        }\n    ],\n    \"legend\": [\n        {\n            \"data\": [\n                \"\"\n            ],\n            \"selected\": {\n                \"\": true\n            },\n            \"show\": true,\n            \"padding\": 5,\n            \"itemGap\": 10,\n            \"itemWidth\": 25,\n            \"itemHeight\": 14\n        }\n    ],\n    \"tooltip\": {\n        \"show\": true,\n        \"trigger\": \"item\",\n        \"triggerOn\": \"mousemove|click\",\n        \"axisPointer\": {\n            \"type\": \"line\"\n        },\n        \"showContent\": true,\n        \"alwaysShowContent\": false,\n        \"showDelay\": 0,\n        \"hideDelay\": 100,\n        \"textStyle\": {\n            \"fontSize\": 14\n        },\n        \"borderWidth\": 0,\n        \"padding\": 5\n    },\n    \"xAxis\": [\n        {\n            \"type\": \"value\",\n            \"show\": true,\n            \"scale\": false,\n            \"nameLocation\": \"end\",\n            \"nameGap\": 15,\n            \"gridIndex\": 0,\n            \"inverse\": false,\n            \"offset\": 0,\n            \"splitNumber\": 5,\n            \"minInterval\": 0,\n            \"splitLine\": {\n                \"show\": false,\n                \"lineStyle\": {\n                    \"show\": true,\n                    \"width\": 1,\n                    \"opacity\": 1,\n                    \"curveness\": 0,\n                    \"type\": \"solid\"\n                }\n            },\n            \"data\": [\n                12,\n                18,\n                10,\n                11,\n                9,\n                2\n            ]\n        }\n    ],\n    \"yAxis\": [\n        {\n            \"show\": true,\n            \"scale\": false,\n            \"nameLocation\": \"end\",\n            \"nameGap\": 15,\n            \"gridIndex\": 0,\n            \"inverse\": false,\n            \"offset\": 0,\n            \"splitNumber\": 5,\n            \"minInterval\": 0,\n            \"splitLine\": {\n                \"show\": false,\n                \"lineStyle\": {\n                    \"show\": true,\n                    \"width\": 1,\n                    \"opacity\": 1,\n                    \"curveness\": 0,\n                    \"type\": \"solid\"\n                }\n            }\n        }\n    ],\n    \"title\": [\n        {\n            \"padding\": 5,\n            \"itemGap\": 10\n        }\n    ]\n};\n                chart_b63d6b67e9bb400788cba5920cb1d739.setOption(option_b63d6b67e9bb400788cba5920cb1d739);\n        });\n    </script>\n"
     },
     "metadata": {},
     "execution_count": 43
    }
   ],
   "source": [
    "# 虚假数据\n",
    "# 都是数值类型\n",
    "x_data = [12, 18, 10, 11, 9, 2]\n",
    "y_data = [123, 153, 89, 107, 98, 23]\n",
    "\n",
    "# 新建一个Scatter实例，命名为chart\n",
    "chart = Scatter()\n",
    "\n",
    "# 为chart添加x轴的数据\n",
    "chart.add_xaxis(x_data)\n",
    "\n",
    "# 为chart添加y轴的数据\n",
    "chart.add_yaxis('', y_data)\n",
    "\n",
    "# 设置x轴为数值类型\n",
    "chart.set_global_opts(\n",
    "        xaxis_opts=opts.AxisOpts(type_=\"value\")\n",
    "        )\n",
    "# 在noteboo中夹在图表\n",
    "# 如果是在Pycharm等IDE中 使用charts.render(\"xxx.html\")\n",
    "chart.render_notebook()"
   ],
   "execution_count": 43
  },
  {
   "metadata": {
    "id": "4673067175C441DEA75CCC4E30F7EC21",
    "notebookId": "615068858447b800176af73d",
    "jupyter": {},
    "tags": [],
    "slideshow": {
     "slide_type": "slide"
    },
    "trusted": true,
    "mdEditEnable": false,
    "collapsed": false,
    "scrolled": false
   },
   "cell_type": "markdown",
   "source": [
    "### 专用方法\n",
    "\n",
    "对于直角坐标系图表，都是继承自`RectChart`，拥有以下通用的方法，比如添加坐标轴等；\n",
    "\n",
    "---\n",
    "#### 添加坐标轴\n",
    "\n",
    "`chart.extend_axis()`可以再添加一个坐标轴，坐标轴的index根据添加顺序默认从0，1，2依次设置；"
   ]
  },
  {
   "metadata": {
    "id": "863876391AE54B2B845E28E1C2507125",
    "notebookId": "615068858447b800176af73d",
    "jupyter": {},
    "tags": [],
    "slideshow": {
     "slide_type": "slide"
    },
    "trusted": true,
    "collapsed": false,
    "scrolled": false
   },
   "cell_type": "code",
   "outputs": [
    {
     "output_type": "execute_result",
     "data": {
      "text/plain": "<pyecharts.render.display.HTML at 0x7f27f81ae0b8>",
      "text/html": "\n<script>\n    require.config({\n        paths: {\n            'echarts':'https://assets.pyecharts.org/assets/echarts.min'\n        }\n    });\n</script>\n\n        <div id=\"aecf588007c7441182a9bdcff536312a\" style=\"width:900px; height:500px;\"></div>\n\n<script>\n        require(['echarts'], function(echarts) {\n                var chart_aecf588007c7441182a9bdcff536312a = echarts.init(\n                    document.getElementById('aecf588007c7441182a9bdcff536312a'), 'white', {renderer: 'canvas'});\n                var option_aecf588007c7441182a9bdcff536312a = {\n    \"animation\": true,\n    \"animationThreshold\": 2000,\n    \"animationDuration\": 1000,\n    \"animationEasing\": \"cubicOut\",\n    \"animationDelay\": 0,\n    \"animationDurationUpdate\": 300,\n    \"animationEasingUpdate\": \"cubicOut\",\n    \"animationDelayUpdate\": 0,\n    \"color\": [\n        \"#c23531\",\n        \"#2f4554\",\n        \"#61a0a8\",\n        \"#d48265\",\n        \"#749f83\",\n        \"#ca8622\",\n        \"#bda29a\",\n        \"#6e7074\",\n        \"#546570\",\n        \"#c4ccd3\",\n        \"#f05b72\",\n        \"#ef5b9c\",\n        \"#f47920\",\n        \"#905a3d\",\n        \"#fab27b\",\n        \"#2a5caa\",\n        \"#444693\",\n        \"#726930\",\n        \"#b2d235\",\n        \"#6d8346\",\n        \"#ac6767\",\n        \"#1d953f\",\n        \"#6950a1\",\n        \"#918597\"\n    ],\n    \"series\": [\n        {\n            \"type\": \"bar\",\n            \"name\": \"\\u5de6\\u4fa7\",\n            \"yAxisIndex\": 0,\n            \"legendHoverLink\": true,\n            \"data\": [\n                123,\n                153,\n                89,\n                107,\n                98,\n                23\n            ],\n            \"showBackground\": false,\n            \"barMinHeight\": 0,\n            \"barCategoryGap\": \"20%\",\n            \"barGap\": \"30%\",\n            \"large\": false,\n            \"largeThreshold\": 400,\n            \"seriesLayoutBy\": \"column\",\n            \"datasetIndex\": 0,\n            \"clip\": true,\n            \"zlevel\": 0,\n            \"z\": 2,\n            \"label\": {\n                \"show\": true,\n                \"position\": \"top\",\n                \"margin\": 8\n            }\n        },\n        {\n            \"type\": \"bar\",\n            \"name\": \"\\u53f3\\u4fa7\",\n            \"yAxisIndex\": 1,\n            \"legendHoverLink\": true,\n            \"data\": [\n                13,\n                15,\n                9,\n                17,\n                8,\n                6\n            ],\n            \"showBackground\": false,\n            \"barMinHeight\": 0,\n            \"barCategoryGap\": \"20%\",\n            \"barGap\": \"30%\",\n            \"large\": false,\n            \"largeThreshold\": 400,\n            \"seriesLayoutBy\": \"column\",\n            \"datasetIndex\": 0,\n            \"clip\": true,\n            \"zlevel\": 0,\n            \"z\": 2,\n            \"label\": {\n                \"show\": true,\n                \"position\": \"top\",\n                \"margin\": 8\n            }\n        }\n    ],\n    \"legend\": [\n        {\n            \"data\": [\n                \"\\u5de6\\u4fa7\",\n                \"\\u53f3\\u4fa7\"\n            ],\n            \"selected\": {\n                \"\\u5de6\\u4fa7\": true,\n                \"\\u53f3\\u4fa7\": true\n            }\n        }\n    ],\n    \"tooltip\": {\n        \"show\": true,\n        \"trigger\": \"item\",\n        \"triggerOn\": \"mousemove|click\",\n        \"axisPointer\": {\n            \"type\": \"line\"\n        },\n        \"showContent\": true,\n        \"alwaysShowContent\": false,\n        \"showDelay\": 0,\n        \"hideDelay\": 100,\n        \"textStyle\": {\n            \"fontSize\": 14\n        },\n        \"borderWidth\": 0,\n        \"padding\": 5\n    },\n    \"xAxis\": [\n        {\n            \"show\": true,\n            \"scale\": false,\n            \"nameLocation\": \"end\",\n            \"nameGap\": 15,\n            \"gridIndex\": 0,\n            \"inverse\": false,\n            \"offset\": 0,\n            \"splitNumber\": 5,\n            \"minInterval\": 0,\n            \"splitLine\": {\n                \"show\": false,\n                \"lineStyle\": {\n                    \"show\": true,\n                    \"width\": 1,\n                    \"opacity\": 1,\n                    \"curveness\": 0,\n                    \"type\": \"solid\"\n                }\n            },\n            \"data\": [\n                \"Apple\",\n                \"Huawei\",\n                \"Xiaomi\",\n                \"Oppo\",\n                \"Vivo\",\n                \"Meizu\"\n            ]\n        }\n    ],\n    \"yAxis\": [\n        {\n            \"show\": true,\n            \"scale\": false,\n            \"nameLocation\": \"end\",\n            \"nameGap\": 15,\n            \"gridIndex\": 0,\n            \"inverse\": false,\n            \"offset\": 0,\n            \"splitNumber\": 5,\n            \"minInterval\": 0,\n            \"splitLine\": {\n                \"show\": false,\n                \"lineStyle\": {\n                    \"show\": true,\n                    \"width\": 1,\n                    \"opacity\": 1,\n                    \"curveness\": 0,\n                    \"type\": \"solid\"\n                }\n            }\n        },\n        {\n            \"show\": true,\n            \"scale\": false,\n            \"nameLocation\": \"end\",\n            \"nameGap\": 15,\n            \"gridIndex\": 0,\n            \"inverse\": false,\n            \"offset\": 0,\n            \"splitNumber\": 5,\n            \"minInterval\": 0,\n            \"splitLine\": {\n                \"show\": false,\n                \"lineStyle\": {\n                    \"show\": true,\n                    \"width\": 1,\n                    \"opacity\": 1,\n                    \"curveness\": 0,\n                    \"type\": \"solid\"\n                }\n            }\n        }\n    ]\n};\n                chart_aecf588007c7441182a9bdcff536312a.setOption(option_aecf588007c7441182a9bdcff536312a);\n        });\n    </script>\n"
     },
     "metadata": {},
     "execution_count": 44
    }
   ],
   "source": [
    "# 虚假数据\n",
    "x_data = ['Apple', 'Huawei', 'Xiaomi', 'Oppo', 'Vivo', 'Meizu']\n",
    "# 左边坐标轴的数据\n",
    "y_data_1 = [123, 153, 89, 107, 98, 23]\n",
    "# 右边坐标轴的数据\n",
    "y_data_2 = [13, 15, 9, 17, 8, 6]\n",
    "\n",
    "chart = Bar()\n",
    "\n",
    "chart.add_xaxis(x_data)\n",
    "\n",
    "# 添加应用于左边坐标轴的数据\n",
    "chart.add_yaxis(\n",
    "    '左侧', \n",
    "    y_data_1,\n",
    "    # 指定坐标轴，默认0，可省略\n",
    "    yaxis_index=0\n",
    "    )\n",
    "\n",
    "# 添加应用于右侧坐标轴的数据\n",
    "chart.add_yaxis(\n",
    "    '右侧', \n",
    "    y_data_2,\n",
    "    # 指定坐标轴index=1,也就是使用我们添加的那根坐标轴\n",
    "    yaxis_index=1\n",
    "    )\n",
    "\n",
    "# 添加坐标轴\n",
    "chart.extend_axis(yaxis=opts.AxisOpts())\n",
    "\n",
    "chart.render_notebook()"
   ],
   "execution_count": 44
  },
  {
   "metadata": {
    "id": "E6944F23E212447F883AB37BC35F34D2",
    "notebookId": "615068858447b800176af73d",
    "jupyter": {},
    "tags": [],
    "slideshow": {
     "slide_type": "slide"
    },
    "trusted": true,
    "mdEditEnable": false,
    "collapsed": false,
    "scrolled": false
   },
   "cell_type": "markdown",
   "source": [
    "#### xy轴翻转"
   ]
  },
  {
   "metadata": {
    "id": "286C3349A0274CC496AACB241EEAFC79",
    "notebookId": "615068858447b800176af73d",
    "jupyter": {},
    "tags": [],
    "slideshow": {
     "slide_type": "slide"
    },
    "trusted": true,
    "collapsed": false,
    "scrolled": false
   },
   "cell_type": "code",
   "outputs": [
    {
     "output_type": "execute_result",
     "data": {
      "text/plain": "<pyecharts.render.display.HTML at 0x7f27f80dfcf8>",
      "text/html": "\n<script>\n    require.config({\n        paths: {\n            'echarts':'https://assets.pyecharts.org/assets/echarts.min'\n        }\n    });\n</script>\n\n        <div id=\"d04560b6a4664c83a2a602ff63a3663b\" style=\"width:900px; height:500px;\"></div>\n\n<script>\n        require(['echarts'], function(echarts) {\n                var chart_d04560b6a4664c83a2a602ff63a3663b = echarts.init(\n                    document.getElementById('d04560b6a4664c83a2a602ff63a3663b'), 'white', {renderer: 'canvas'});\n                var option_d04560b6a4664c83a2a602ff63a3663b = {\n    \"animation\": true,\n    \"animationThreshold\": 2000,\n    \"animationDuration\": 1000,\n    \"animationEasing\": \"cubicOut\",\n    \"animationDelay\": 0,\n    \"animationDurationUpdate\": 300,\n    \"animationEasingUpdate\": \"cubicOut\",\n    \"animationDelayUpdate\": 0,\n    \"color\": [\n        \"#c23531\",\n        \"#2f4554\",\n        \"#61a0a8\",\n        \"#d48265\",\n        \"#749f83\",\n        \"#ca8622\",\n        \"#bda29a\",\n        \"#6e7074\",\n        \"#546570\",\n        \"#c4ccd3\",\n        \"#f05b72\",\n        \"#ef5b9c\",\n        \"#f47920\",\n        \"#905a3d\",\n        \"#fab27b\",\n        \"#2a5caa\",\n        \"#444693\",\n        \"#726930\",\n        \"#b2d235\",\n        \"#6d8346\",\n        \"#ac6767\",\n        \"#1d953f\",\n        \"#6950a1\",\n        \"#918597\"\n    ],\n    \"series\": [\n        {\n            \"type\": \"bar\",\n            \"legendHoverLink\": true,\n            \"data\": [\n                123,\n                153,\n                89,\n                107,\n                98,\n                23\n            ],\n            \"showBackground\": false,\n            \"barMinHeight\": 0,\n            \"barCategoryGap\": \"20%\",\n            \"barGap\": \"30%\",\n            \"large\": false,\n            \"largeThreshold\": 400,\n            \"seriesLayoutBy\": \"column\",\n            \"datasetIndex\": 0,\n            \"clip\": true,\n            \"zlevel\": 0,\n            \"z\": 2,\n            \"label\": {\n                \"show\": true,\n                \"position\": \"top\",\n                \"margin\": 8\n            }\n        }\n    ],\n    \"legend\": [\n        {\n            \"data\": [\n                \"\"\n            ],\n            \"selected\": {\n                \"\": true\n            }\n        }\n    ],\n    \"tooltip\": {\n        \"show\": true,\n        \"trigger\": \"item\",\n        \"triggerOn\": \"mousemove|click\",\n        \"axisPointer\": {\n            \"type\": \"line\"\n        },\n        \"showContent\": true,\n        \"alwaysShowContent\": false,\n        \"showDelay\": 0,\n        \"hideDelay\": 100,\n        \"textStyle\": {\n            \"fontSize\": 14\n        },\n        \"borderWidth\": 0,\n        \"padding\": 5\n    },\n    \"xAxis\": [\n        {\n            \"show\": true,\n            \"scale\": false,\n            \"nameLocation\": \"end\",\n            \"nameGap\": 15,\n            \"gridIndex\": 0,\n            \"inverse\": false,\n            \"offset\": 0,\n            \"splitNumber\": 5,\n            \"minInterval\": 0,\n            \"splitLine\": {\n                \"show\": false,\n                \"lineStyle\": {\n                    \"show\": true,\n                    \"width\": 1,\n                    \"opacity\": 1,\n                    \"curveness\": 0,\n                    \"type\": \"solid\"\n                }\n            }\n        }\n    ],\n    \"yAxis\": [\n        {\n            \"show\": true,\n            \"scale\": false,\n            \"nameLocation\": \"end\",\n            \"nameGap\": 15,\n            \"gridIndex\": 0,\n            \"inverse\": false,\n            \"offset\": 0,\n            \"splitNumber\": 5,\n            \"minInterval\": 0,\n            \"splitLine\": {\n                \"show\": false,\n                \"lineStyle\": {\n                    \"show\": true,\n                    \"width\": 1,\n                    \"opacity\": 1,\n                    \"curveness\": 0,\n                    \"type\": \"solid\"\n                }\n            },\n            \"data\": [\n                \"Apple\",\n                \"Huawei\",\n                \"Xiaomi\",\n                \"Oppo\",\n                \"Vivo\",\n                \"Meizu\"\n            ]\n        }\n    ]\n};\n                chart_d04560b6a4664c83a2a602ff63a3663b.setOption(option_d04560b6a4664c83a2a602ff63a3663b);\n        });\n    </script>\n"
     },
     "metadata": {},
     "execution_count": 45
    }
   ],
   "source": [
    "# 虚假数据\n",
    "x_data = ['Apple', 'Huawei', 'Xiaomi', 'Oppo', 'Vivo', 'Meizu']\n",
    "y_data = [123, 153, 89, 107, 98, 23]\n",
    "\n",
    "chart = Bar()\n",
    "chart.add_xaxis(x_data)\n",
    "chart.add_yaxis('', y_data)\n",
    "\n",
    "# xy轴翻转\n",
    "chart.reversal_axis()\n",
    "chart.render_notebook()"
   ],
   "execution_count": 45
  },
  {
   "metadata": {
    "id": "870A932305E34C0BB50541374258CE35",
    "notebookId": "615068858447b800176af73d",
    "jupyter": {},
    "tags": [],
    "slideshow": {
     "slide_type": "slide"
    },
    "trusted": true,
    "mdEditEnable": false,
    "collapsed": false,
    "scrolled": false
   },
   "cell_type": "markdown",
   "source": [
    "#### 层叠多图\n",
    "\n",
    "* 将多个直角坐标系的图表层叠到一个坐标轴中进行展示"
   ]
  },
  {
   "metadata": {
    "id": "25A4283F3BD04C5B8160E51A5A0967E3",
    "notebookId": "615068858447b800176af73d",
    "jupyter": {},
    "tags": [],
    "slideshow": {
     "slide_type": "slide"
    },
    "trusted": true,
    "collapsed": false,
    "scrolled": false
   },
   "cell_type": "code",
   "outputs": [
    {
     "output_type": "execute_result",
     "data": {
      "text/plain": "<pyecharts.render.display.HTML at 0x7f27f816c748>",
      "text/html": "\n<script>\n    require.config({\n        paths: {\n            'echarts':'https://assets.pyecharts.org/assets/echarts.min'\n        }\n    });\n</script>\n\n        <div id=\"5eef152494fa46da851542483e0ad983\" style=\"width:900px; height:500px;\"></div>\n\n<script>\n        require(['echarts'], function(echarts) {\n                var chart_5eef152494fa46da851542483e0ad983 = echarts.init(\n                    document.getElementById('5eef152494fa46da851542483e0ad983'), 'white', {renderer: 'canvas'});\n                var option_5eef152494fa46da851542483e0ad983 = {\n    \"animation\": true,\n    \"animationThreshold\": 2000,\n    \"animationDuration\": 1000,\n    \"animationEasing\": \"cubicOut\",\n    \"animationDelay\": 0,\n    \"animationDurationUpdate\": 300,\n    \"animationEasingUpdate\": \"cubicOut\",\n    \"animationDelayUpdate\": 0,\n    \"color\": [\n        \"#c23531\",\n        \"#2f4554\",\n        \"#61a0a8\",\n        \"#d48265\",\n        \"#749f83\",\n        \"#ca8622\",\n        \"#bda29a\",\n        \"#6e7074\",\n        \"#546570\",\n        \"#c4ccd3\",\n        \"#f05b72\",\n        \"#ef5b9c\",\n        \"#f47920\",\n        \"#905a3d\",\n        \"#fab27b\",\n        \"#2a5caa\",\n        \"#444693\",\n        \"#726930\",\n        \"#b2d235\",\n        \"#6d8346\",\n        \"#ac6767\",\n        \"#1d953f\",\n        \"#6950a1\",\n        \"#918597\"\n    ],\n    \"series\": [\n        {\n            \"type\": \"bar\",\n            \"legendHoverLink\": true,\n            \"data\": [\n                13,\n                15,\n                9,\n                17,\n                8,\n                6\n            ],\n            \"showBackground\": false,\n            \"barMinHeight\": 0,\n            \"barCategoryGap\": \"20%\",\n            \"barGap\": \"30%\",\n            \"large\": false,\n            \"largeThreshold\": 400,\n            \"seriesLayoutBy\": \"column\",\n            \"datasetIndex\": 0,\n            \"clip\": true,\n            \"zlevel\": 0,\n            \"z\": 2,\n            \"label\": {\n                \"show\": true,\n                \"position\": \"top\",\n                \"margin\": 8\n            }\n        },\n        {\n            \"type\": \"line\",\n            \"connectNulls\": false,\n            \"symbolSize\": 4,\n            \"showSymbol\": true,\n            \"smooth\": false,\n            \"clip\": true,\n            \"step\": false,\n            \"data\": [\n                [\n                    \"Apple\",\n                    123\n                ],\n                [\n                    \"Huawei\",\n                    153\n                ],\n                [\n                    \"Xiaomi\",\n                    89\n                ],\n                [\n                    \"Oppo\",\n                    107\n                ],\n                [\n                    \"Vivo\",\n                    98\n                ],\n                [\n                    \"Meizu\",\n                    23\n                ]\n            ],\n            \"hoverAnimation\": true,\n            \"label\": {\n                \"show\": true,\n                \"position\": \"top\",\n                \"margin\": 8\n            },\n            \"lineStyle\": {\n                \"show\": true,\n                \"width\": 1,\n                \"opacity\": 1,\n                \"curveness\": 0,\n                \"type\": \"solid\"\n            },\n            \"areaStyle\": {\n                \"opacity\": 0\n            },\n            \"zlevel\": 0,\n            \"z\": 0\n        }\n    ],\n    \"legend\": [\n        {\n            \"data\": [\n                \"\",\n                \"\"\n            ],\n            \"selected\": {\n                \"\": true\n            }\n        }\n    ],\n    \"tooltip\": {\n        \"show\": true,\n        \"trigger\": \"item\",\n        \"triggerOn\": \"mousemove|click\",\n        \"axisPointer\": {\n            \"type\": \"line\"\n        },\n        \"showContent\": true,\n        \"alwaysShowContent\": false,\n        \"showDelay\": 0,\n        \"hideDelay\": 100,\n        \"textStyle\": {\n            \"fontSize\": 14\n        },\n        \"borderWidth\": 0,\n        \"padding\": 5\n    },\n    \"xAxis\": [\n        {\n            \"show\": true,\n            \"scale\": false,\n            \"nameLocation\": \"end\",\n            \"nameGap\": 15,\n            \"gridIndex\": 0,\n            \"inverse\": false,\n            \"offset\": 0,\n            \"splitNumber\": 5,\n            \"minInterval\": 0,\n            \"splitLine\": {\n                \"show\": false,\n                \"lineStyle\": {\n                    \"show\": true,\n                    \"width\": 1,\n                    \"opacity\": 1,\n                    \"curveness\": 0,\n                    \"type\": \"solid\"\n                }\n            },\n            \"data\": [\n                \"Apple\",\n                \"Huawei\",\n                \"Xiaomi\",\n                \"Oppo\",\n                \"Vivo\",\n                \"Meizu\"\n            ]\n        }\n    ],\n    \"yAxis\": [\n        {\n            \"show\": true,\n            \"scale\": false,\n            \"nameLocation\": \"end\",\n            \"nameGap\": 15,\n            \"gridIndex\": 0,\n            \"inverse\": false,\n            \"offset\": 0,\n            \"splitNumber\": 5,\n            \"minInterval\": 0,\n            \"splitLine\": {\n                \"show\": false,\n                \"lineStyle\": {\n                    \"show\": true,\n                    \"width\": 1,\n                    \"opacity\": 1,\n                    \"curveness\": 0,\n                    \"type\": \"solid\"\n                }\n            }\n        }\n    ]\n};\n                chart_5eef152494fa46da851542483e0ad983.setOption(option_5eef152494fa46da851542483e0ad983);\n        });\n    </script>\n"
     },
     "metadata": {},
     "execution_count": 46
    }
   ],
   "source": [
    "# 虚假数据\n",
    "x_data = ['Apple', 'Huawei', 'Xiaomi', 'Oppo', 'Vivo', 'Meizu']\n",
    "y_data_1 = [123, 153, 89, 107, 98, 23]\n",
    "y_data_2 = [13, 15, 9, 17, 8, 6]\n",
    "\n",
    "# 第一个直接坐标系图表bar\n",
    "chart_1 = Bar()\n",
    "chart_1.add_xaxis(x_data)\n",
    "chart_1.add_yaxis('', y_data_2)\n",
    "\n",
    "# 第二个直角坐标系图表line\n",
    "chart_2 = Line()\n",
    "chart_2.add_xaxis(x_data)\n",
    "chart_2.add_yaxis('', y_data_1)\n",
    "\n",
    "# overlap层叠\n",
    "chart_1.overlap(chart_2)\n",
    "chart_1.render_notebook()"
   ],
   "execution_count": 46
  },
  {
   "metadata": {
    "id": "7369B62CFE9547EC8C4EB442E7D4E767",
    "notebookId": "615068858447b800176af73d",
    "jupyter": {},
    "tags": [],
    "slideshow": {
     "slide_type": "slide"
    },
    "trusted": true,
    "mdEditEnable": false,
    "collapsed": false,
    "scrolled": false
   },
   "cell_type": "markdown",
   "source": [
    "## 地理坐标系\n",
    "\n",
    "在Pyecharts中常见的地理系图表有三种——**区域地图（MAP），点地图（GEO）和百度地图（BMAP）**，不过使用百度地图还需要去百度地图开发者平台申请授权，这里就不演示了。\n",
    "\n",
    "在地理系图表中，常见的地理位置数据都已经事先定义好了，比如北京的经度，纬度都是已知的，所以不需要你再传入经纬度数据，需要的是你提供北京对应的数值是多少；\n",
    "\n",
    "数据格式也都是`data=[(\"北京\", 23), (\"上海\", 33)]`等形式；\n",
    "\n",
    "---\n",
    "\n",
    "### 区域地图（Map）\n"
   ]
  },
  {
   "metadata": {
    "id": "55802F9610CD49F68D3DDB8DCB5185B4",
    "notebookId": "615068858447b800176af73d",
    "jupyter": {},
    "tags": [],
    "slideshow": {
     "slide_type": "slide"
    },
    "trusted": true,
    "collapsed": false,
    "scrolled": false
   },
   "cell_type": "code",
   "outputs": [
    {
     "output_type": "execute_result",
     "data": {
      "text/plain": "<pyecharts.render.display.HTML at 0x7f27f81d1ba8>",
      "text/html": "\n<script>\n    require.config({\n        paths: {\n            'echarts':'https://assets.pyecharts.org/assets/echarts.min', 'china':'https://assets.pyecharts.org/assets/maps/china'\n        }\n    });\n</script>\n\n        <div id=\"9606dc1747ba4cde95a5cb7c695fde94\" style=\"width:900px; height:500px;\"></div>\n\n<script>\n        require(['echarts', 'china'], function(echarts) {\n                var chart_9606dc1747ba4cde95a5cb7c695fde94 = echarts.init(\n                    document.getElementById('9606dc1747ba4cde95a5cb7c695fde94'), 'white', {renderer: 'canvas'});\n                var option_9606dc1747ba4cde95a5cb7c695fde94 = {\n    \"animation\": true,\n    \"animationThreshold\": 2000,\n    \"animationDuration\": 1000,\n    \"animationEasing\": \"cubicOut\",\n    \"animationDelay\": 0,\n    \"animationDurationUpdate\": 300,\n    \"animationEasingUpdate\": \"cubicOut\",\n    \"animationDelayUpdate\": 0,\n    \"color\": [\n        \"#c23531\",\n        \"#2f4554\",\n        \"#61a0a8\",\n        \"#d48265\",\n        \"#749f83\",\n        \"#ca8622\",\n        \"#bda29a\",\n        \"#6e7074\",\n        \"#546570\",\n        \"#c4ccd3\",\n        \"#f05b72\",\n        \"#ef5b9c\",\n        \"#f47920\",\n        \"#905a3d\",\n        \"#fab27b\",\n        \"#2a5caa\",\n        \"#444693\",\n        \"#726930\",\n        \"#b2d235\",\n        \"#6d8346\",\n        \"#ac6767\",\n        \"#1d953f\",\n        \"#6950a1\",\n        \"#918597\"\n    ],\n    \"series\": [\n        {\n            \"type\": \"map\",\n            \"label\": {\n                \"show\": true,\n                \"position\": \"top\",\n                \"margin\": 8\n            },\n            \"mapType\": \"china\",\n            \"data\": [\n                {\n                    \"name\": \"\\u5e7f\\u4e1c\",\n                    \"value\": 61\n                },\n                {\n                    \"name\": \"\\u6e56\\u5317\",\n                    \"value\": 85\n                },\n                {\n                    \"name\": \"\\u6e56\\u5357\",\n                    \"value\": 115\n                },\n                {\n                    \"name\": \"\\u56db\\u5ddd\",\n                    \"value\": 137\n                },\n                {\n                    \"name\": \"\\u91cd\\u5e86\",\n                    \"value\": 119\n                },\n                {\n                    \"name\": \"\\u9ed1\\u9f99\\u6c5f\",\n                    \"value\": 66\n                },\n                {\n                    \"name\": \"\\u6d59\\u6c5f\",\n                    \"value\": 117\n                },\n                {\n                    \"name\": \"\\u5c71\\u897f\",\n                    \"value\": 52\n                },\n                {\n                    \"name\": \"\\u6cb3\\u5317\",\n                    \"value\": 80\n                },\n                {\n                    \"name\": \"\\u5b89\\u5fbd\",\n                    \"value\": 99\n                },\n                {\n                    \"name\": \"\\u6cb3\\u5357\",\n                    \"value\": 101\n                },\n                {\n                    \"name\": \"\\u5c71\\u4e1c\",\n                    \"value\": 75\n                },\n                {\n                    \"name\": \"\\u897f\\u85cf\",\n                    \"value\": 53\n                }\n            ],\n            \"roam\": true,\n            \"aspectScale\": 0.75,\n            \"nameProperty\": \"name\",\n            \"selectedMode\": false,\n            \"zoom\": 1,\n            \"mapValueCalculation\": \"sum\",\n            \"showLegendSymbol\": true,\n            \"emphasis\": {}\n        }\n    ],\n    \"legend\": [\n        {\n            \"data\": [\n                \"\"\n            ],\n            \"selected\": {\n                \"\": true\n            }\n        }\n    ],\n    \"tooltip\": {\n        \"show\": true,\n        \"trigger\": \"item\",\n        \"triggerOn\": \"mousemove|click\",\n        \"axisPointer\": {\n            \"type\": \"line\"\n        },\n        \"showContent\": true,\n        \"alwaysShowContent\": false,\n        \"showDelay\": 0,\n        \"hideDelay\": 100,\n        \"textStyle\": {\n            \"fontSize\": 14\n        },\n        \"borderWidth\": 0,\n        \"padding\": 5\n    }\n};\n                chart_9606dc1747ba4cde95a5cb7c695fde94.setOption(option_9606dc1747ba4cde95a5cb7c695fde94);\n        });\n    </script>\n"
     },
     "metadata": {},
     "execution_count": 47
    }
   ],
   "source": [
    "# 虚假示例数据\n",
    "data = [('广东', 61), ('湖北', 85), ('湖南', 115), ('四川', 137), ('重庆', 119), ('黑龙江', 66), ('浙江', 117),\n",
    "        ('山西', 52), ('河北', 80), ('安徽', 99), ('河南', 101), ('山东', 75), ('西藏', 53)]\n",
    "\n",
    "chart = Map()\n",
    "chart.add(\n",
    "    \"\", \n",
    "    data, \n",
    "    # 必须的参数，指定地图类型\n",
    "    maptype='china'\n",
    "    )\n",
    "\n",
    "chart.render_notebook()"
   ],
   "execution_count": 47
  },
  {
   "metadata": {
    "id": "67C4C900CB0141F08507352CC11A75C5",
    "notebookId": "615068858447b800176af73d",
    "jupyter": {},
    "tags": [],
    "slideshow": {
     "slide_type": "slide"
    },
    "trusted": true,
    "mdEditEnable": false,
    "collapsed": false,
    "scrolled": false
   },
   "cell_type": "markdown",
   "source": [
    "**大部分情况下，我们选择使用Map其实是希望能够通过地图上的区域来反映数值**\n",
    "\n",
    "这就需要配合Pyecharts中的**视觉组件（visualMap）**将数值直接通过颜色反映在地图之上；"
   ]
  },
  {
   "metadata": {
    "id": "5F2949C253D24D718DBC6ECA43D48198",
    "notebookId": "615068858447b800176af73d",
    "jupyter": {},
    "tags": [],
    "slideshow": {
     "slide_type": "slide"
    },
    "trusted": true,
    "collapsed": false,
    "scrolled": false
   },
   "cell_type": "code",
   "outputs": [
    {
     "output_type": "execute_result",
     "data": {
      "text/plain": "<pyecharts.render.display.HTML at 0x7f27f81d16d8>",
      "text/html": "\n<script>\n    require.config({\n        paths: {\n            'echarts':'https://assets.pyecharts.org/assets/echarts.min', 'china':'https://assets.pyecharts.org/assets/maps/china'\n        }\n    });\n</script>\n\n        <div id=\"079b9525617447709288fafbf2a8e870\" style=\"width:900px; height:500px;\"></div>\n\n<script>\n        require(['echarts', 'china'], function(echarts) {\n                var chart_079b9525617447709288fafbf2a8e870 = echarts.init(\n                    document.getElementById('079b9525617447709288fafbf2a8e870'), 'white', {renderer: 'canvas'});\n                var option_079b9525617447709288fafbf2a8e870 = {\n    \"animation\": true,\n    \"animationThreshold\": 2000,\n    \"animationDuration\": 1000,\n    \"animationEasing\": \"cubicOut\",\n    \"animationDelay\": 0,\n    \"animationDurationUpdate\": 300,\n    \"animationEasingUpdate\": \"cubicOut\",\n    \"animationDelayUpdate\": 0,\n    \"color\": [\n        \"#c23531\",\n        \"#2f4554\",\n        \"#61a0a8\",\n        \"#d48265\",\n        \"#749f83\",\n        \"#ca8622\",\n        \"#bda29a\",\n        \"#6e7074\",\n        \"#546570\",\n        \"#c4ccd3\",\n        \"#f05b72\",\n        \"#ef5b9c\",\n        \"#f47920\",\n        \"#905a3d\",\n        \"#fab27b\",\n        \"#2a5caa\",\n        \"#444693\",\n        \"#726930\",\n        \"#b2d235\",\n        \"#6d8346\",\n        \"#ac6767\",\n        \"#1d953f\",\n        \"#6950a1\",\n        \"#918597\"\n    ],\n    \"series\": [\n        {\n            \"type\": \"map\",\n            \"label\": {\n                \"show\": true,\n                \"position\": \"top\",\n                \"margin\": 8\n            },\n            \"mapType\": \"china\",\n            \"data\": [\n                {\n                    \"name\": \"\\u5e7f\\u4e1c\",\n                    \"value\": 61\n                },\n                {\n                    \"name\": \"\\u6e56\\u5317\",\n                    \"value\": 85\n                },\n                {\n                    \"name\": \"\\u6e56\\u5357\",\n                    \"value\": 115\n                },\n                {\n                    \"name\": \"\\u56db\\u5ddd\",\n                    \"value\": 137\n                },\n                {\n                    \"name\": \"\\u91cd\\u5e86\",\n                    \"value\": 119\n                },\n                {\n                    \"name\": \"\\u9ed1\\u9f99\\u6c5f\",\n                    \"value\": 66\n                },\n                {\n                    \"name\": \"\\u6d59\\u6c5f\",\n                    \"value\": 117\n                },\n                {\n                    \"name\": \"\\u5c71\\u897f\",\n                    \"value\": 52\n                },\n                {\n                    \"name\": \"\\u6cb3\\u5317\",\n                    \"value\": 80\n                },\n                {\n                    \"name\": \"\\u5b89\\u5fbd\",\n                    \"value\": 99\n                },\n                {\n                    \"name\": \"\\u6cb3\\u5357\",\n                    \"value\": 101\n                },\n                {\n                    \"name\": \"\\u5c71\\u4e1c\",\n                    \"value\": 75\n                },\n                {\n                    \"name\": \"\\u897f\\u85cf\",\n                    \"value\": 53\n                }\n            ],\n            \"roam\": true,\n            \"aspectScale\": 0.75,\n            \"nameProperty\": \"name\",\n            \"selectedMode\": false,\n            \"zoom\": 1,\n            \"mapValueCalculation\": \"sum\",\n            \"showLegendSymbol\": true,\n            \"emphasis\": {}\n        }\n    ],\n    \"legend\": [\n        {\n            \"data\": [\n                \"\"\n            ],\n            \"selected\": {\n                \"\": true\n            },\n            \"show\": true,\n            \"padding\": 5,\n            \"itemGap\": 10,\n            \"itemWidth\": 25,\n            \"itemHeight\": 14\n        }\n    ],\n    \"tooltip\": {\n        \"show\": true,\n        \"trigger\": \"item\",\n        \"triggerOn\": \"mousemove|click\",\n        \"axisPointer\": {\n            \"type\": \"line\"\n        },\n        \"showContent\": true,\n        \"alwaysShowContent\": false,\n        \"showDelay\": 0,\n        \"hideDelay\": 100,\n        \"textStyle\": {\n            \"fontSize\": 14\n        },\n        \"borderWidth\": 0,\n        \"padding\": 5\n    },\n    \"title\": [\n        {\n            \"padding\": 5,\n            \"itemGap\": 10\n        }\n    ],\n    \"visualMap\": {\n        \"show\": true,\n        \"type\": \"continuous\",\n        \"min\": 0,\n        \"max\": 100,\n        \"inRange\": {\n            \"color\": [\n                \"#50a3ba\",\n                \"#eac763\",\n                \"#d94e5d\"\n            ]\n        },\n        \"calculable\": true,\n        \"inverse\": false,\n        \"splitNumber\": 5,\n        \"orient\": \"vertical\",\n        \"showLabel\": true,\n        \"itemWidth\": 20,\n        \"itemHeight\": 140,\n        \"borderWidth\": 0\n    }\n};\n                chart_079b9525617447709288fafbf2a8e870.setOption(option_079b9525617447709288fafbf2a8e870);\n        });\n    </script>\n"
     },
     "metadata": {},
     "execution_count": 48
    }
   ],
   "source": [
    "# 虚假示例数据\n",
    "data = [('广东', 61), ('湖北', 85), ('湖南', 115), ('四川', 137), ('重庆', 119), ('黑龙江', 66), ('浙江', 117),\n",
    "        ('山西', 52), ('河北', 80), ('安徽', 99), ('河南', 101), ('山东', 75), ('西藏', 53)]\n",
    "\n",
    "chart = Map()\n",
    "chart.add(\n",
    "    \"\", \n",
    "    data, \n",
    "    # 必须的参数，指定地图类型\n",
    "    maptype='china'\n",
    "    )\n",
    "# 全局配置项\n",
    "chart.set_global_opts(\n",
    "    # 视觉组件是必须的，需要通过视觉组件的颜色来展示数据大小\n",
    "    visualmap_opts=opts.VisualMapOpts(max_=100),\n",
    ")\n",
    "chart.render_notebook()"
   ],
   "execution_count": 48
  },
  {
   "metadata": {
    "id": "64D75AC2D14B4CB99449C7B664747506",
    "notebookId": "615068858447b800176af73d",
    "jupyter": {},
    "tags": [],
    "slideshow": {
     "slide_type": "slide"
    },
    "trusted": true,
    "mdEditEnable": false,
    "collapsed": false,
    "scrolled": false
   },
   "cell_type": "markdown",
   "source": [
    "**对于我个人而言，我在使用Map的时候通常会选择将地图上的小红点给去掉**\n",
    "\n",
    "可以通过参数`is_map_symbol_show=False`设置不显示小红点；"
   ]
  },
  {
   "metadata": {
    "id": "689C304BB87F4A1482C56ACC1EFCF561",
    "notebookId": "615068858447b800176af73d",
    "jupyter": {},
    "tags": [],
    "slideshow": {
     "slide_type": "slide"
    },
    "trusted": true,
    "collapsed": false,
    "scrolled": false
   },
   "cell_type": "code",
   "outputs": [
    {
     "output_type": "execute_result",
     "data": {
      "text/plain": "<pyecharts.render.display.HTML at 0x7f27f80f3ac8>",
      "text/html": "\n<script>\n    require.config({\n        paths: {\n            'echarts':'https://assets.pyecharts.org/assets/echarts.min', 'china':'https://assets.pyecharts.org/assets/maps/china'\n        }\n    });\n</script>\n\n        <div id=\"b3595deda6904da581706d232dbb8424\" style=\"width:900px; height:500px;\"></div>\n\n<script>\n        require(['echarts', 'china'], function(echarts) {\n                var chart_b3595deda6904da581706d232dbb8424 = echarts.init(\n                    document.getElementById('b3595deda6904da581706d232dbb8424'), 'white', {renderer: 'canvas'});\n                var option_b3595deda6904da581706d232dbb8424 = {\n    \"animation\": true,\n    \"animationThreshold\": 2000,\n    \"animationDuration\": 1000,\n    \"animationEasing\": \"cubicOut\",\n    \"animationDelay\": 0,\n    \"animationDurationUpdate\": 300,\n    \"animationEasingUpdate\": \"cubicOut\",\n    \"animationDelayUpdate\": 0,\n    \"color\": [\n        \"#c23531\",\n        \"#2f4554\",\n        \"#61a0a8\",\n        \"#d48265\",\n        \"#749f83\",\n        \"#ca8622\",\n        \"#bda29a\",\n        \"#6e7074\",\n        \"#546570\",\n        \"#c4ccd3\",\n        \"#f05b72\",\n        \"#ef5b9c\",\n        \"#f47920\",\n        \"#905a3d\",\n        \"#fab27b\",\n        \"#2a5caa\",\n        \"#444693\",\n        \"#726930\",\n        \"#b2d235\",\n        \"#6d8346\",\n        \"#ac6767\",\n        \"#1d953f\",\n        \"#6950a1\",\n        \"#918597\"\n    ],\n    \"series\": [\n        {\n            \"type\": \"map\",\n            \"label\": {\n                \"show\": true,\n                \"position\": \"top\",\n                \"margin\": 8\n            },\n            \"mapType\": \"china\",\n            \"data\": [\n                {\n                    \"name\": \"\\u5e7f\\u4e1c\",\n                    \"value\": 61\n                },\n                {\n                    \"name\": \"\\u6e56\\u5317\",\n                    \"value\": 85\n                },\n                {\n                    \"name\": \"\\u6e56\\u5357\",\n                    \"value\": 115\n                },\n                {\n                    \"name\": \"\\u56db\\u5ddd\",\n                    \"value\": 137\n                },\n                {\n                    \"name\": \"\\u91cd\\u5e86\",\n                    \"value\": 119\n                },\n                {\n                    \"name\": \"\\u9ed1\\u9f99\\u6c5f\",\n                    \"value\": 66\n                },\n                {\n                    \"name\": \"\\u6d59\\u6c5f\",\n                    \"value\": 117\n                },\n                {\n                    \"name\": \"\\u5c71\\u897f\",\n                    \"value\": 52\n                },\n                {\n                    \"name\": \"\\u6cb3\\u5317\",\n                    \"value\": 80\n                },\n                {\n                    \"name\": \"\\u5b89\\u5fbd\",\n                    \"value\": 99\n                },\n                {\n                    \"name\": \"\\u6cb3\\u5357\",\n                    \"value\": 101\n                },\n                {\n                    \"name\": \"\\u5c71\\u4e1c\",\n                    \"value\": 75\n                },\n                {\n                    \"name\": \"\\u897f\\u85cf\",\n                    \"value\": 53\n                }\n            ],\n            \"roam\": true,\n            \"aspectScale\": 0.75,\n            \"nameProperty\": \"name\",\n            \"selectedMode\": false,\n            \"zoom\": 1,\n            \"mapValueCalculation\": \"sum\",\n            \"showLegendSymbol\": false,\n            \"emphasis\": {}\n        }\n    ],\n    \"legend\": [\n        {\n            \"data\": [\n                \"\"\n            ],\n            \"selected\": {\n                \"\": true\n            },\n            \"show\": true,\n            \"padding\": 5,\n            \"itemGap\": 10,\n            \"itemWidth\": 25,\n            \"itemHeight\": 14\n        }\n    ],\n    \"tooltip\": {\n        \"show\": true,\n        \"trigger\": \"item\",\n        \"triggerOn\": \"mousemove|click\",\n        \"axisPointer\": {\n            \"type\": \"line\"\n        },\n        \"showContent\": true,\n        \"alwaysShowContent\": false,\n        \"showDelay\": 0,\n        \"hideDelay\": 100,\n        \"textStyle\": {\n            \"fontSize\": 14\n        },\n        \"borderWidth\": 0,\n        \"padding\": 5\n    },\n    \"title\": [\n        {\n            \"padding\": 5,\n            \"itemGap\": 10\n        }\n    ],\n    \"visualMap\": {\n        \"show\": true,\n        \"type\": \"continuous\",\n        \"min\": 0,\n        \"max\": 100,\n        \"inRange\": {\n            \"color\": [\n                \"#50a3ba\",\n                \"#eac763\",\n                \"#d94e5d\"\n            ]\n        },\n        \"calculable\": true,\n        \"inverse\": false,\n        \"splitNumber\": 5,\n        \"orient\": \"vertical\",\n        \"showLabel\": true,\n        \"itemWidth\": 20,\n        \"itemHeight\": 140,\n        \"borderWidth\": 0\n    }\n};\n                chart_b3595deda6904da581706d232dbb8424.setOption(option_b3595deda6904da581706d232dbb8424);\n        });\n    </script>\n"
     },
     "metadata": {},
     "execution_count": 49
    }
   ],
   "source": [
    "# 虚假示例数据\n",
    "data = [('广东', 61), ('湖北', 85), ('湖南', 115), ('四川', 137), ('重庆', 119), ('黑龙江', 66), ('浙江', 117),\n",
    "        ('山西', 52), ('河北', 80), ('安徽', 99), ('河南', 101), ('山东', 75), ('西藏', 53)]\n",
    "\n",
    "chart = Map()\n",
    "chart.add(\n",
    "    \"\", \n",
    "    data, \n",
    "    # 必须的参数，指定地图类型\n",
    "    maptype='china',\n",
    "    # 不显示红点\n",
    "    is_map_symbol_show=False,\n",
    "    )\n",
    "# 全局配置项\n",
    "chart.set_global_opts(\n",
    "    # 视觉组件是必须的，需要通过视觉组件的颜色来展示数据大小\n",
    "    visualmap_opts=opts.VisualMapOpts(max_=100),\n",
    ")\n",
    "chart.render_notebook()"
   ],
   "execution_count": 49
  },
  {
   "metadata": {
    "id": "ED67B133F61A4F78BE8F787A4585119E",
    "notebookId": "615068858447b800176af73d",
    "jupyter": {},
    "tags": [],
    "slideshow": {
     "slide_type": "slide"
    },
    "trusted": true,
    "mdEditEnable": false,
    "collapsed": false,
    "scrolled": false
   },
   "cell_type": "markdown",
   "source": [
    "### 点地图（GEO）\n",
    "\n",
    "与MAP将数据映射到每块区域不一样，GEO是将数据映射到地图上的一个一个的点；\n",
    "\n",
    "GEO支持如下Scatter（散点），effectScatter（带涟漪效果的散点），Line（流向图），HeatMap（热力图）四种展现形式；\n",
    "\n",
    "----\n",
    "#### Scatter"
   ]
  },
  {
   "metadata": {
    "id": "2359EBAE295F41E982C785CBE1F86D33",
    "notebookId": "615068858447b800176af73d",
    "jupyter": {},
    "tags": [],
    "slideshow": {
     "slide_type": "slide"
    },
    "trusted": true,
    "collapsed": false,
    "scrolled": false
   },
   "cell_type": "code",
   "outputs": [
    {
     "output_type": "execute_result",
     "data": {
      "text/plain": "<pyecharts.render.display.HTML at 0x7f27f80dfa20>",
      "text/html": "\n<script>\n    require.config({\n        paths: {\n            'echarts':'https://assets.pyecharts.org/assets/echarts.min', 'china':'https://assets.pyecharts.org/assets/maps/china'\n        }\n    });\n</script>\n\n        <div id=\"a9210307e6e94d1a9347f75e6efbf46c\" style=\"width:900px; height:500px;\"></div>\n\n<script>\n        require(['echarts', 'china'], function(echarts) {\n                var chart_a9210307e6e94d1a9347f75e6efbf46c = echarts.init(\n                    document.getElementById('a9210307e6e94d1a9347f75e6efbf46c'), 'white', {renderer: 'canvas'});\n                var option_a9210307e6e94d1a9347f75e6efbf46c = {\n    \"animation\": true,\n    \"animationThreshold\": 2000,\n    \"animationDuration\": 1000,\n    \"animationEasing\": \"cubicOut\",\n    \"animationDelay\": 0,\n    \"animationDurationUpdate\": 300,\n    \"animationEasingUpdate\": \"cubicOut\",\n    \"animationDelayUpdate\": 0,\n    \"color\": [\n        \"#c23531\",\n        \"#2f4554\",\n        \"#61a0a8\",\n        \"#d48265\",\n        \"#749f83\",\n        \"#ca8622\",\n        \"#bda29a\",\n        \"#6e7074\",\n        \"#546570\",\n        \"#c4ccd3\",\n        \"#f05b72\",\n        \"#ef5b9c\",\n        \"#f47920\",\n        \"#905a3d\",\n        \"#fab27b\",\n        \"#2a5caa\",\n        \"#444693\",\n        \"#726930\",\n        \"#b2d235\",\n        \"#6d8346\",\n        \"#ac6767\",\n        \"#1d953f\",\n        \"#6950a1\",\n        \"#918597\"\n    ],\n    \"series\": [\n        {\n            \"type\": \"scatter\",\n            \"coordinateSystem\": \"geo\",\n            \"symbolSize\": 12,\n            \"data\": [\n                {\n                    \"name\": \"\\u5e7f\\u4e1c\",\n                    \"value\": [\n                        113.26653,\n                        23.132191,\n                        61\n                    ]\n                },\n                {\n                    \"name\": \"\\u6e56\\u5317\",\n                    \"value\": [\n                        114.341861,\n                        30.546498,\n                        85\n                    ]\n                },\n                {\n                    \"name\": \"\\u6e56\\u5357\",\n                    \"value\": [\n                        112.98381,\n                        28.112444,\n                        115\n                    ]\n                },\n                {\n                    \"name\": \"\\u56db\\u5ddd\",\n                    \"value\": [\n                        104.075931,\n                        30.651651,\n                        137\n                    ]\n                },\n                {\n                    \"name\": \"\\u91cd\\u5e86\",\n                    \"value\": [\n                        106.551556,\n                        29.563009,\n                        119\n                    ]\n                },\n                {\n                    \"name\": \"\\u9ed1\\u9f99\\u6c5f\",\n                    \"value\": [\n                        126.661669,\n                        45.742347,\n                        66\n                    ]\n                },\n                {\n                    \"name\": \"\\u6d59\\u6c5f\",\n                    \"value\": [\n                        120.152791,\n                        30.267446,\n                        117\n                    ]\n                },\n                {\n                    \"name\": \"\\u5c71\\u897f\",\n                    \"value\": [\n                        112.562398,\n                        37.873531,\n                        52\n                    ]\n                },\n                {\n                    \"name\": \"\\u6cb3\\u5317\",\n                    \"value\": [\n                        114.468664,\n                        38.037057,\n                        80\n                    ]\n                },\n                {\n                    \"name\": \"\\u5b89\\u5fbd\",\n                    \"value\": [\n                        117.284922,\n                        31.861184,\n                        99\n                    ]\n                },\n                {\n                    \"name\": \"\\u6cb3\\u5357\",\n                    \"value\": [\n                        113.753602,\n                        34.765515,\n                        101\n                    ]\n                },\n                {\n                    \"name\": \"\\u5c71\\u4e1c\",\n                    \"value\": [\n                        117.020359,\n                        36.66853,\n                        75\n                    ]\n                },\n                {\n                    \"name\": \"\\u897f\\u85cf\",\n                    \"value\": [\n                        91.117212,\n                        29.646922,\n                        53\n                    ]\n                }\n            ],\n            \"label\": {\n                \"show\": true,\n                \"position\": \"top\",\n                \"margin\": 8\n            }\n        }\n    ],\n    \"legend\": [\n        {\n            \"data\": [\n                \"\"\n            ],\n            \"selected\": {\n                \"\": true\n            },\n            \"show\": true,\n            \"padding\": 5,\n            \"itemGap\": 10,\n            \"itemWidth\": 25,\n            \"itemHeight\": 14\n        }\n    ],\n    \"tooltip\": {\n        \"show\": true,\n        \"trigger\": \"item\",\n        \"triggerOn\": \"mousemove|click\",\n        \"axisPointer\": {\n            \"type\": \"line\"\n        },\n        \"showContent\": true,\n        \"alwaysShowContent\": false,\n        \"showDelay\": 0,\n        \"hideDelay\": 100,\n        \"textStyle\": {\n            \"fontSize\": 14\n        },\n        \"borderWidth\": 0,\n        \"padding\": 5\n    },\n    \"title\": [\n        {\n            \"padding\": 5,\n            \"itemGap\": 10\n        }\n    ],\n    \"geo\": {\n        \"map\": \"china\",\n        \"roam\": true,\n        \"aspectScale\": 0.75,\n        \"nameProperty\": \"name\",\n        \"selectedMode\": false,\n        \"emphasis\": {}\n    }\n};\n                chart_a9210307e6e94d1a9347f75e6efbf46c.setOption(option_a9210307e6e94d1a9347f75e6efbf46c);\n        });\n    </script>\n"
     },
     "metadata": {},
     "execution_count": 50
    }
   ],
   "source": [
    "# 虚假示例数据\n",
    "data = [('广东', 61), ('湖北', 85), ('湖南', 115), ('四川', 137), ('重庆', 119), ('黑龙江', 66), ('浙江', 117),\n",
    "        ('山西', 52), ('河北', 80), ('安徽', 99), ('河南', 101), ('山东', 75), ('西藏', 53)]\n",
    "\n",
    "chart = Geo()\n",
    "chart.add_schema(\n",
    "    maptype='china'\n",
    ")\n",
    "chart.add(\n",
    "    \"\", \n",
    "    data\n",
    "    )\n",
    "\n",
    "chart.render_notebook()"
   ],
   "execution_count": 50
  },
  {
   "metadata": {
    "id": "8A6F205DD99B4D0A8BD37EFF3F5F0E3A",
    "notebookId": "615068858447b800176af73d",
    "jupyter": {},
    "tags": [],
    "slideshow": {
     "slide_type": "slide"
    },
    "trusted": true,
    "mdEditEnable": false,
    "collapsed": false,
    "scrolled": false
   },
   "cell_type": "markdown",
   "source": [
    "**看起来和Map的默认效果一致，其实不然，使用GEO地图的时候，鼠标移动到区域上是不会有数据提示的**\n",
    "\n",
    "使用Geo-Scatter我们可以配合视觉组件完成更多效果；\n",
    "\n",
    "* 通过散点的大小反映数值；\n",
    "\n",
    "* 通过颜色的透明度反映数值；\n",
    "\n",
    "* 通过颜色反映数值"
   ]
  },
  {
   "metadata": {
    "id": "FE651F43D8414ED4870CA513E0643086",
    "notebookId": "615068858447b800176af73d",
    "jupyter": {},
    "tags": [],
    "slideshow": {
     "slide_type": "slide"
    },
    "trusted": true,
    "collapsed": false,
    "scrolled": false
   },
   "cell_type": "code",
   "outputs": [
    {
     "output_type": "execute_result",
     "data": {
      "text/plain": "<pyecharts.render.display.HTML at 0x7f27f80dfcc0>",
      "text/html": "\n<script>\n    require.config({\n        paths: {\n            'echarts':'https://assets.pyecharts.org/assets/echarts.min', 'china':'https://assets.pyecharts.org/assets/maps/china'\n        }\n    });\n</script>\n\n        <div id=\"1f9ca5f362e04090a3c71670f26a9b93\" style=\"width:900px; height:500px;\"></div>\n\n<script>\n        require(['echarts', 'china'], function(echarts) {\n                var chart_1f9ca5f362e04090a3c71670f26a9b93 = echarts.init(\n                    document.getElementById('1f9ca5f362e04090a3c71670f26a9b93'), 'white', {renderer: 'canvas'});\n                var option_1f9ca5f362e04090a3c71670f26a9b93 = {\n    \"animation\": true,\n    \"animationThreshold\": 2000,\n    \"animationDuration\": 1000,\n    \"animationEasing\": \"cubicOut\",\n    \"animationDelay\": 0,\n    \"animationDurationUpdate\": 300,\n    \"animationEasingUpdate\": \"cubicOut\",\n    \"animationDelayUpdate\": 0,\n    \"color\": [\n        \"#c23531\",\n        \"#2f4554\",\n        \"#61a0a8\",\n        \"#d48265\",\n        \"#749f83\",\n        \"#ca8622\",\n        \"#bda29a\",\n        \"#6e7074\",\n        \"#546570\",\n        \"#c4ccd3\",\n        \"#f05b72\",\n        \"#ef5b9c\",\n        \"#f47920\",\n        \"#905a3d\",\n        \"#fab27b\",\n        \"#2a5caa\",\n        \"#444693\",\n        \"#726930\",\n        \"#b2d235\",\n        \"#6d8346\",\n        \"#ac6767\",\n        \"#1d953f\",\n        \"#6950a1\",\n        \"#918597\"\n    ],\n    \"series\": [\n        {\n            \"type\": \"scatter\",\n            \"coordinateSystem\": \"geo\",\n            \"symbolSize\": 12,\n            \"data\": [\n                {\n                    \"name\": \"\\u5e7f\\u4e1c\",\n                    \"value\": [\n                        113.26653,\n                        23.132191,\n                        61\n                    ]\n                },\n                {\n                    \"name\": \"\\u6e56\\u5317\",\n                    \"value\": [\n                        114.341861,\n                        30.546498,\n                        85\n                    ]\n                },\n                {\n                    \"name\": \"\\u6e56\\u5357\",\n                    \"value\": [\n                        112.98381,\n                        28.112444,\n                        115\n                    ]\n                },\n                {\n                    \"name\": \"\\u56db\\u5ddd\",\n                    \"value\": [\n                        104.075931,\n                        30.651651,\n                        137\n                    ]\n                },\n                {\n                    \"name\": \"\\u91cd\\u5e86\",\n                    \"value\": [\n                        106.551556,\n                        29.563009,\n                        119\n                    ]\n                },\n                {\n                    \"name\": \"\\u9ed1\\u9f99\\u6c5f\",\n                    \"value\": [\n                        126.661669,\n                        45.742347,\n                        66\n                    ]\n                },\n                {\n                    \"name\": \"\\u6d59\\u6c5f\",\n                    \"value\": [\n                        120.152791,\n                        30.267446,\n                        117\n                    ]\n                },\n                {\n                    \"name\": \"\\u5c71\\u897f\",\n                    \"value\": [\n                        112.562398,\n                        37.873531,\n                        52\n                    ]\n                },\n                {\n                    \"name\": \"\\u6cb3\\u5317\",\n                    \"value\": [\n                        114.468664,\n                        38.037057,\n                        80\n                    ]\n                },\n                {\n                    \"name\": \"\\u5b89\\u5fbd\",\n                    \"value\": [\n                        117.284922,\n                        31.861184,\n                        99\n                    ]\n                },\n                {\n                    \"name\": \"\\u6cb3\\u5357\",\n                    \"value\": [\n                        113.753602,\n                        34.765515,\n                        101\n                    ]\n                },\n                {\n                    \"name\": \"\\u5c71\\u4e1c\",\n                    \"value\": [\n                        117.020359,\n                        36.66853,\n                        75\n                    ]\n                },\n                {\n                    \"name\": \"\\u897f\\u85cf\",\n                    \"value\": [\n                        91.117212,\n                        29.646922,\n                        53\n                    ]\n                }\n            ],\n            \"label\": {\n                \"show\": true,\n                \"position\": \"top\",\n                \"margin\": 8\n            }\n        }\n    ],\n    \"legend\": [\n        {\n            \"data\": [\n                \"\"\n            ],\n            \"selected\": {\n                \"\": true\n            },\n            \"show\": true,\n            \"padding\": 5,\n            \"itemGap\": 10,\n            \"itemWidth\": 25,\n            \"itemHeight\": 14\n        }\n    ],\n    \"tooltip\": {\n        \"show\": true,\n        \"trigger\": \"item\",\n        \"triggerOn\": \"mousemove|click\",\n        \"axisPointer\": {\n            \"type\": \"line\"\n        },\n        \"showContent\": true,\n        \"alwaysShowContent\": false,\n        \"showDelay\": 0,\n        \"hideDelay\": 100,\n        \"formatter\": function (params) {        return params.name + ' : ' + params.value[2];    },\n        \"textStyle\": {\n            \"fontSize\": 14\n        },\n        \"borderWidth\": 0,\n        \"padding\": 5\n    },\n    \"title\": [\n        {\n            \"padding\": 5,\n            \"itemGap\": 10\n        }\n    ],\n    \"visualMap\": {\n        \"show\": true,\n        \"type\": \"continuous\",\n        \"min\": 0,\n        \"max\": 100,\n        \"inRange\": {\n            \"symbolSize\": [\n                20,\n                50\n            ]\n        },\n        \"calculable\": true,\n        \"inverse\": false,\n        \"splitNumber\": 5,\n        \"orient\": \"vertical\",\n        \"showLabel\": true,\n        \"itemWidth\": 20,\n        \"itemHeight\": 140,\n        \"borderWidth\": 0\n    },\n    \"geo\": {\n        \"map\": \"china\",\n        \"roam\": true,\n        \"aspectScale\": 0.75,\n        \"nameProperty\": \"name\",\n        \"selectedMode\": false,\n        \"emphasis\": {}\n    }\n};\n                chart_1f9ca5f362e04090a3c71670f26a9b93.setOption(option_1f9ca5f362e04090a3c71670f26a9b93);\n        });\n    </script>\n"
     },
     "metadata": {},
     "execution_count": 51
    }
   ],
   "source": [
    "# 虚假示例数据\n",
    "data = [('广东', 61), ('湖北', 85), ('湖南', 115), ('四川', 137), ('重庆', 119), ('黑龙江', 66), ('浙江', 117),\n",
    "        ('山西', 52), ('河北', 80), ('安徽', 99), ('河南', 101), ('山东', 75), ('西藏', 53)]\n",
    "\n",
    "chart = Geo()\n",
    "chart.add_schema(\n",
    "    maptype='china'\n",
    ")\n",
    "chart.add(\n",
    "    \"\", \n",
    "    data,\n",
    "    type_='scatter'\n",
    "    )\n",
    "\n",
    "# 全局配置项\n",
    "chart.set_global_opts(\n",
    "    # 视觉组件是必须的，需要通过视觉组件的图形大小来展示数据大小\n",
    "    visualmap_opts=opts.VisualMapOpts(\n",
    "        type_='size',\n",
    "        ),\n",
    ")\n",
    "chart.render_notebook()"
   ],
   "execution_count": 51
  },
  {
   "metadata": {
    "id": "12F0C5B287084EEB89EA034ABFFE0B12",
    "notebookId": "615068858447b800176af73d",
    "jupyter": {},
    "tags": [],
    "slideshow": {
     "slide_type": "slide"
    },
    "trusted": true,
    "mdEditEnable": false,
    "collapsed": false,
    "scrolled": false
   },
   "cell_type": "markdown",
   "source": [
    "#### effectScatter\n",
    "\n",
    "与Geo-Scatter使用方法基本一致，不一样的就是effectScatter的散点是带涟漪效果的；\n",
    "\n",
    "不过在大数据量时不太建议使用，这种动态效果非常消耗资源；"
   ]
  },
  {
   "metadata": {
    "id": "3F07F04378E1461BAF7F0C038948B8A5",
    "notebookId": "615068858447b800176af73d",
    "jupyter": {},
    "tags": [],
    "slideshow": {
     "slide_type": "slide"
    },
    "trusted": true,
    "collapsed": false,
    "scrolled": false
   },
   "cell_type": "code",
   "outputs": [
    {
     "output_type": "execute_result",
     "data": {
      "text/plain": "<pyecharts.render.display.HTML at 0x7f27f80f30b8>",
      "text/html": "\n<script>\n    require.config({\n        paths: {\n            'echarts':'https://assets.pyecharts.org/assets/echarts.min', 'china':'https://assets.pyecharts.org/assets/maps/china'\n        }\n    });\n</script>\n\n        <div id=\"9199723a66574c57bb425527ac0e5b80\" style=\"width:900px; height:500px;\"></div>\n\n<script>\n        require(['echarts', 'china'], function(echarts) {\n                var chart_9199723a66574c57bb425527ac0e5b80 = echarts.init(\n                    document.getElementById('9199723a66574c57bb425527ac0e5b80'), 'white', {renderer: 'canvas'});\n                var option_9199723a66574c57bb425527ac0e5b80 = {\n    \"animation\": true,\n    \"animationThreshold\": 2000,\n    \"animationDuration\": 1000,\n    \"animationEasing\": \"cubicOut\",\n    \"animationDelay\": 0,\n    \"animationDurationUpdate\": 300,\n    \"animationEasingUpdate\": \"cubicOut\",\n    \"animationDelayUpdate\": 0,\n    \"color\": [\n        \"#c23531\",\n        \"#2f4554\",\n        \"#61a0a8\",\n        \"#d48265\",\n        \"#749f83\",\n        \"#ca8622\",\n        \"#bda29a\",\n        \"#6e7074\",\n        \"#546570\",\n        \"#c4ccd3\",\n        \"#f05b72\",\n        \"#ef5b9c\",\n        \"#f47920\",\n        \"#905a3d\",\n        \"#fab27b\",\n        \"#2a5caa\",\n        \"#444693\",\n        \"#726930\",\n        \"#b2d235\",\n        \"#6d8346\",\n        \"#ac6767\",\n        \"#1d953f\",\n        \"#6950a1\",\n        \"#918597\"\n    ],\n    \"series\": [\n        {\n            \"type\": \"effectScatter\",\n            \"coordinateSystem\": \"geo\",\n            \"showEffectOn\": \"render\",\n            \"rippleEffect\": {\n                \"show\": true,\n                \"brushType\": \"stroke\",\n                \"scale\": 2.5,\n                \"period\": 4\n            },\n            \"symbolSize\": 12,\n            \"data\": [\n                {\n                    \"name\": \"\\u5e7f\\u4e1c\",\n                    \"value\": [\n                        113.26653,\n                        23.132191,\n                        61\n                    ]\n                },\n                {\n                    \"name\": \"\\u6e56\\u5317\",\n                    \"value\": [\n                        114.341861,\n                        30.546498,\n                        85\n                    ]\n                },\n                {\n                    \"name\": \"\\u6e56\\u5357\",\n                    \"value\": [\n                        112.98381,\n                        28.112444,\n                        115\n                    ]\n                },\n                {\n                    \"name\": \"\\u56db\\u5ddd\",\n                    \"value\": [\n                        104.075931,\n                        30.651651,\n                        137\n                    ]\n                },\n                {\n                    \"name\": \"\\u91cd\\u5e86\",\n                    \"value\": [\n                        106.551556,\n                        29.563009,\n                        119\n                    ]\n                },\n                {\n                    \"name\": \"\\u9ed1\\u9f99\\u6c5f\",\n                    \"value\": [\n                        126.661669,\n                        45.742347,\n                        66\n                    ]\n                },\n                {\n                    \"name\": \"\\u6d59\\u6c5f\",\n                    \"value\": [\n                        120.152791,\n                        30.267446,\n                        117\n                    ]\n                },\n                {\n                    \"name\": \"\\u5c71\\u897f\",\n                    \"value\": [\n                        112.562398,\n                        37.873531,\n                        52\n                    ]\n                },\n                {\n                    \"name\": \"\\u6cb3\\u5317\",\n                    \"value\": [\n                        114.468664,\n                        38.037057,\n                        80\n                    ]\n                },\n                {\n                    \"name\": \"\\u5b89\\u5fbd\",\n                    \"value\": [\n                        117.284922,\n                        31.861184,\n                        99\n                    ]\n                },\n                {\n                    \"name\": \"\\u6cb3\\u5357\",\n                    \"value\": [\n                        113.753602,\n                        34.765515,\n                        101\n                    ]\n                },\n                {\n                    \"name\": \"\\u5c71\\u4e1c\",\n                    \"value\": [\n                        117.020359,\n                        36.66853,\n                        75\n                    ]\n                },\n                {\n                    \"name\": \"\\u897f\\u85cf\",\n                    \"value\": [\n                        91.117212,\n                        29.646922,\n                        53\n                    ]\n                }\n            ],\n            \"label\": {\n                \"show\": true,\n                \"position\": \"top\",\n                \"margin\": 8\n            }\n        }\n    ],\n    \"legend\": [\n        {\n            \"data\": [\n                \"\"\n            ],\n            \"selected\": {\n                \"\": true\n            },\n            \"show\": true,\n            \"padding\": 5,\n            \"itemGap\": 10,\n            \"itemWidth\": 25,\n            \"itemHeight\": 14\n        }\n    ],\n    \"tooltip\": {\n        \"show\": true,\n        \"trigger\": \"item\",\n        \"triggerOn\": \"mousemove|click\",\n        \"axisPointer\": {\n            \"type\": \"line\"\n        },\n        \"showContent\": true,\n        \"alwaysShowContent\": false,\n        \"showDelay\": 0,\n        \"hideDelay\": 100,\n        \"textStyle\": {\n            \"fontSize\": 14\n        },\n        \"borderWidth\": 0,\n        \"padding\": 5\n    },\n    \"title\": [\n        {\n            \"padding\": 5,\n            \"itemGap\": 10\n        }\n    ],\n    \"geo\": {\n        \"map\": \"china\",\n        \"roam\": true,\n        \"aspectScale\": 0.75,\n        \"nameProperty\": \"name\",\n        \"selectedMode\": false,\n        \"emphasis\": {}\n    }\n};\n                chart_9199723a66574c57bb425527ac0e5b80.setOption(option_9199723a66574c57bb425527ac0e5b80);\n        });\n    </script>\n"
     },
     "metadata": {},
     "execution_count": 52
    }
   ],
   "source": [
    "# 虚假示例数据\n",
    "data = [('广东', 61), ('湖北', 85), ('湖南', 115), ('四川', 137), ('重庆', 119), ('黑龙江', 66), ('浙江', 117),\n",
    "        ('山西', 52), ('河北', 80), ('安徽', 99), ('河南', 101), ('山东', 75), ('西藏', 53)]\n",
    "\n",
    "chart = Geo()\n",
    "chart.add_schema(\n",
    "    maptype='china'\n",
    ")\n",
    "chart.add(\n",
    "    \"\", \n",
    "    data,\n",
    "    type_='effectScatter'\n",
    "    )\n",
    "\n",
    "chart.render_notebook()"
   ],
   "execution_count": 52
  },
  {
   "metadata": {
    "id": "AB19D4A9388E423D8E5019A45524F12F",
    "notebookId": "615068858447b800176af73d",
    "jupyter": {},
    "tags": [],
    "slideshow": {
     "slide_type": "slide"
    },
    "trusted": true,
    "mdEditEnable": false,
    "collapsed": false,
    "scrolled": false
   },
   "cell_type": "markdown",
   "source": [
    "#### HeatMap\n",
    "\n",
    "很多小伙伴喜欢使用的图表，用来展现数据的密集程度非常直观；"
   ]
  },
  {
   "metadata": {
    "id": "46BDAF48884F48C3A7BB073688155291",
    "notebookId": "615068858447b800176af73d",
    "jupyter": {},
    "tags": [],
    "slideshow": {
     "slide_type": "slide"
    },
    "trusted": true,
    "collapsed": false,
    "scrolled": false
   },
   "cell_type": "code",
   "outputs": [
    {
     "output_type": "execute_result",
     "data": {
      "text/plain": "<pyecharts.render.display.HTML at 0x7f27f80df828>",
      "text/html": "\n<script>\n    require.config({\n        paths: {\n            'echarts':'https://assets.pyecharts.org/assets/echarts.min', 'china':'https://assets.pyecharts.org/assets/maps/china'\n        }\n    });\n</script>\n\n        <div id=\"4d30ef371a62480dace2614468bec1c0\" style=\"width:900px; height:500px;\"></div>\n\n<script>\n        require(['echarts', 'china'], function(echarts) {\n                var chart_4d30ef371a62480dace2614468bec1c0 = echarts.init(\n                    document.getElementById('4d30ef371a62480dace2614468bec1c0'), 'white', {renderer: 'canvas'});\n                var option_4d30ef371a62480dace2614468bec1c0 = {\n    \"animation\": true,\n    \"animationThreshold\": 2000,\n    \"animationDuration\": 1000,\n    \"animationEasing\": \"cubicOut\",\n    \"animationDelay\": 0,\n    \"animationDurationUpdate\": 300,\n    \"animationEasingUpdate\": \"cubicOut\",\n    \"animationDelayUpdate\": 0,\n    \"color\": [\n        \"#c23531\",\n        \"#2f4554\",\n        \"#61a0a8\",\n        \"#d48265\",\n        \"#749f83\",\n        \"#ca8622\",\n        \"#bda29a\",\n        \"#6e7074\",\n        \"#546570\",\n        \"#c4ccd3\",\n        \"#f05b72\",\n        \"#ef5b9c\",\n        \"#f47920\",\n        \"#905a3d\",\n        \"#fab27b\",\n        \"#2a5caa\",\n        \"#444693\",\n        \"#726930\",\n        \"#b2d235\",\n        \"#6d8346\",\n        \"#ac6767\",\n        \"#1d953f\",\n        \"#6950a1\",\n        \"#918597\"\n    ],\n    \"series\": [\n        {\n            \"type\": \"heatmap\",\n            \"coordinateSystem\": \"geo\",\n            \"data\": [\n                {\n                    \"name\": \"\\u5e7f\\u4e1c\",\n                    \"value\": [\n                        113.26653,\n                        23.132191,\n                        61\n                    ]\n                },\n                {\n                    \"name\": \"\\u6e56\\u5317\",\n                    \"value\": [\n                        114.341861,\n                        30.546498,\n                        85\n                    ]\n                },\n                {\n                    \"name\": \"\\u6e56\\u5357\",\n                    \"value\": [\n                        112.98381,\n                        28.112444,\n                        115\n                    ]\n                },\n                {\n                    \"name\": \"\\u56db\\u5ddd\",\n                    \"value\": [\n                        104.075931,\n                        30.651651,\n                        137\n                    ]\n                },\n                {\n                    \"name\": \"\\u91cd\\u5e86\",\n                    \"value\": [\n                        106.551556,\n                        29.563009,\n                        119\n                    ]\n                },\n                {\n                    \"name\": \"\\u9ed1\\u9f99\\u6c5f\",\n                    \"value\": [\n                        126.661669,\n                        45.742347,\n                        66\n                    ]\n                },\n                {\n                    \"name\": \"\\u6d59\\u6c5f\",\n                    \"value\": [\n                        120.152791,\n                        30.267446,\n                        117\n                    ]\n                },\n                {\n                    \"name\": \"\\u5c71\\u897f\",\n                    \"value\": [\n                        112.562398,\n                        37.873531,\n                        52\n                    ]\n                },\n                {\n                    \"name\": \"\\u6cb3\\u5317\",\n                    \"value\": [\n                        114.468664,\n                        38.037057,\n                        80\n                    ]\n                },\n                {\n                    \"name\": \"\\u5b89\\u5fbd\",\n                    \"value\": [\n                        117.284922,\n                        31.861184,\n                        99\n                    ]\n                },\n                {\n                    \"name\": \"\\u6cb3\\u5357\",\n                    \"value\": [\n                        113.753602,\n                        34.765515,\n                        101\n                    ]\n                },\n                {\n                    \"name\": \"\\u5c71\\u4e1c\",\n                    \"value\": [\n                        117.020359,\n                        36.66853,\n                        75\n                    ]\n                },\n                {\n                    \"name\": \"\\u897f\\u85cf\",\n                    \"value\": [\n                        91.117212,\n                        29.646922,\n                        53\n                    ]\n                }\n            ],\n            \"pointSize\": 20,\n            \"blurSize\": 20\n        }\n    ],\n    \"legend\": [\n        {\n            \"data\": [\n                \"\"\n            ],\n            \"selected\": {\n                \"\": true\n            },\n            \"show\": true,\n            \"padding\": 5,\n            \"itemGap\": 10,\n            \"itemWidth\": 25,\n            \"itemHeight\": 14\n        }\n    ],\n    \"tooltip\": {\n        \"show\": true,\n        \"trigger\": \"item\",\n        \"triggerOn\": \"mousemove|click\",\n        \"axisPointer\": {\n            \"type\": \"line\"\n        },\n        \"showContent\": true,\n        \"alwaysShowContent\": false,\n        \"showDelay\": 0,\n        \"hideDelay\": 100,\n        \"formatter\": function (params) {        return params.name + ' : ' + params.value[2];    },\n        \"textStyle\": {\n            \"fontSize\": 14\n        },\n        \"borderWidth\": 0,\n        \"padding\": 5\n    },\n    \"title\": [\n        {\n            \"padding\": 5,\n            \"itemGap\": 10\n        }\n    ],\n    \"visualMap\": {\n        \"show\": true,\n        \"type\": \"continuous\",\n        \"min\": 0,\n        \"max\": 100,\n        \"inRange\": {\n            \"color\": [\n                \"#50a3ba\",\n                \"#eac763\",\n                \"#d94e5d\"\n            ]\n        },\n        \"calculable\": true,\n        \"inverse\": false,\n        \"splitNumber\": 5,\n        \"orient\": \"vertical\",\n        \"showLabel\": true,\n        \"itemWidth\": 20,\n        \"itemHeight\": 140,\n        \"borderWidth\": 0\n    },\n    \"geo\": {\n        \"map\": \"china\",\n        \"roam\": true,\n        \"aspectScale\": 0.75,\n        \"nameProperty\": \"name\",\n        \"selectedMode\": false,\n        \"emphasis\": {}\n    }\n};\n                chart_4d30ef371a62480dace2614468bec1c0.setOption(option_4d30ef371a62480dace2614468bec1c0);\n        });\n    </script>\n"
     },
     "metadata": {},
     "execution_count": 53
    }
   ],
   "source": [
    "# 虚假示例数据\n",
    "data = [('广东', 61), ('湖北', 85), ('湖南', 115), ('四川', 137), ('重庆', 119), ('黑龙江', 66), ('浙江', 117),\n",
    "        ('山西', 52), ('河北', 80), ('安徽', 99), ('河南', 101), ('山东', 75), ('西藏', 53)]\n",
    "\n",
    "chart = Geo()\n",
    "chart.add_schema(\n",
    "    maptype='china'\n",
    ")\n",
    "chart.add(\n",
    "    \"\", \n",
    "    data,\n",
    "    type_='heatmap'\n",
    "    )\n",
    "\n",
    "\n",
    "# 全局配置项, HeatMap需要配合视觉组件\n",
    "chart.set_global_opts(\n",
    "    visualmap_opts=opts.VisualMapOpts(\n",
    "        type_='color'\n",
    "    ),\n",
    ")\n",
    "chart.render_notebook()"
   ],
   "execution_count": 53
  },
  {
   "metadata": {
    "id": "6A3E4186871B411D8255DA91FE5450C4",
    "notebookId": "615068858447b800176af73d",
    "jupyter": {},
    "tags": [],
    "slideshow": {
     "slide_type": "slide"
    },
    "trusted": true,
    "mdEditEnable": false,
    "collapsed": false,
    "scrolled": false
   },
   "cell_type": "markdown",
   "source": [
    "#### Lines\n",
    "\n",
    "用于展示数据的流向，你的数据需要包含点（起点）到点（重点）的信息"
   ]
  },
  {
   "metadata": {
    "id": "521E3CE6FC6544FC800D397A3E554172",
    "notebookId": "615068858447b800176af73d",
    "jupyter": {},
    "tags": [],
    "slideshow": {
     "slide_type": "slide"
    },
    "trusted": true,
    "collapsed": false,
    "scrolled": false
   },
   "cell_type": "code",
   "outputs": [
    {
     "output_type": "execute_result",
     "data": {
      "text/plain": "<pyecharts.render.display.HTML at 0x7f27f81d2160>",
      "text/html": "\n<script>\n    require.config({\n        paths: {\n            'echarts':'https://assets.pyecharts.org/assets/echarts.min', 'china':'https://assets.pyecharts.org/assets/maps/china'\n        }\n    });\n</script>\n\n        <div id=\"346b9c017a2c450c97c51e31e3590550\" style=\"width:900px; height:500px;\"></div>\n\n<script>\n        require(['echarts', 'china'], function(echarts) {\n                var chart_346b9c017a2c450c97c51e31e3590550 = echarts.init(\n                    document.getElementById('346b9c017a2c450c97c51e31e3590550'), 'white', {renderer: 'canvas'});\n                var option_346b9c017a2c450c97c51e31e3590550 = {\n    \"animation\": true,\n    \"animationThreshold\": 2000,\n    \"animationDuration\": 1000,\n    \"animationEasing\": \"cubicOut\",\n    \"animationDelay\": 0,\n    \"animationDurationUpdate\": 300,\n    \"animationEasingUpdate\": \"cubicOut\",\n    \"animationDelayUpdate\": 0,\n    \"color\": [\n        \"#c23531\",\n        \"#2f4554\",\n        \"#61a0a8\",\n        \"#d48265\",\n        \"#749f83\",\n        \"#ca8622\",\n        \"#bda29a\",\n        \"#6e7074\",\n        \"#546570\",\n        \"#c4ccd3\",\n        \"#f05b72\",\n        \"#ef5b9c\",\n        \"#f47920\",\n        \"#905a3d\",\n        \"#fab27b\",\n        \"#2a5caa\",\n        \"#444693\",\n        \"#726930\",\n        \"#b2d235\",\n        \"#6d8346\",\n        \"#ac6767\",\n        \"#1d953f\",\n        \"#6950a1\",\n        \"#918597\"\n    ],\n    \"series\": [\n        {\n            \"type\": \"lines\",\n            \"name\": \"\\u5e7f\\u5dde\\u51fa\\u53d1\",\n            \"coordinateSystem\": \"geo\",\n            \"zlevel\": 2,\n            \"progressive\": 400,\n            \"progressiveThreshold\": 3000,\n            \"effect\": {\n                \"show\": true,\n                \"brushType\": \"stroke\",\n                \"scale\": 2.5,\n                \"period\": 4\n            },\n            \"symbol\": [\n                \"none\",\n                \"arrow\"\n            ],\n            \"polyline\": false,\n            \"large\": false,\n            \"largeThreshold\": 2000,\n            \"symbolSize\": 12,\n            \"data\": [\n                {\n                    \"name\": \"\\u5e7f\\u5dde->\\u4e0a\\u6d77\",\n                    \"coords\": [\n                        [\n                            113.23,\n                            23.16\n                        ],\n                        [\n                            121.473701,\n                            31.230416\n                        ]\n                    ]\n                },\n                {\n                    \"name\": \"\\u5e7f\\u5dde->\\u5317\\u4eac\",\n                    \"coords\": [\n                        [\n                            113.23,\n                            23.16\n                        ],\n                        [\n                            116.407526,\n                            39.90403\n                        ]\n                    ]\n                },\n                {\n                    \"name\": \"\\u5e7f\\u5dde->\\u897f\\u5b81\",\n                    \"coords\": [\n                        [\n                            113.23,\n                            23.16\n                        ],\n                        [\n                            101.74,\n                            36.56\n                        ]\n                    ]\n                },\n                {\n                    \"name\": \"\\u5e7f\\u5dde->\\u91cd\\u5e86\",\n                    \"coords\": [\n                        [\n                            113.23,\n                            23.16\n                        ],\n                        [\n                            106.551556,\n                            29.563009\n                        ]\n                    ]\n                }\n            ],\n            \"lineStyle\": {\n                \"show\": true,\n                \"width\": 1,\n                \"opacity\": 1,\n                \"curveness\": 0,\n                \"type\": \"solid\"\n            },\n            \"label\": {\n                \"show\": true,\n                \"position\": \"top\",\n                \"margin\": 8\n            }\n        }\n    ],\n    \"legend\": [\n        {\n            \"data\": [\n                \"\\u5e7f\\u5dde\\u51fa\\u53d1\"\n            ],\n            \"selected\": {\n                \"\\u5e7f\\u5dde\\u51fa\\u53d1\": true\n            },\n            \"show\": true,\n            \"padding\": 5,\n            \"itemGap\": 10,\n            \"itemWidth\": 25,\n            \"itemHeight\": 14\n        }\n    ],\n    \"tooltip\": {\n        \"show\": true,\n        \"trigger\": \"item\",\n        \"triggerOn\": \"mousemove|click\",\n        \"axisPointer\": {\n            \"type\": \"line\"\n        },\n        \"showContent\": true,\n        \"alwaysShowContent\": false,\n        \"showDelay\": 0,\n        \"hideDelay\": 100,\n        \"textStyle\": {\n            \"fontSize\": 14\n        },\n        \"borderWidth\": 0,\n        \"padding\": 5\n    },\n    \"title\": [\n        {\n            \"padding\": 5,\n            \"itemGap\": 10\n        }\n    ],\n    \"geo\": {\n        \"map\": \"china\",\n        \"roam\": true,\n        \"aspectScale\": 0.75,\n        \"nameProperty\": \"name\",\n        \"selectedMode\": false,\n        \"emphasis\": {}\n    }\n};\n                chart_346b9c017a2c450c97c51e31e3590550.setOption(option_346b9c017a2c450c97c51e31e3590550);\n        });\n    </script>\n"
     },
     "metadata": {},
     "execution_count": 54
    }
   ],
   "source": [
    "chart = Geo()\n",
    "\n",
    "chart.add_schema(maptype=\"china\")\n",
    "\n",
    "chart.add(\n",
    "    \"广州出发\",\n",
    "    # 数据格式（from， to）\n",
    "    data_pair=[(\"广州\", \"上海\"), (\"广州\", \"北京\"), (\"广州\", \"西宁\"), (\"广州\", \"重庆\")],\n",
    "    type_='lines'\n",
    "    )\n",
    "\n",
    "chart.render_notebook()\n"
   ],
   "execution_count": 54
  },
  {
   "metadata": {
    "id": "CD5DA8C39E4B41108270097CCEB3EE06",
    "notebookId": "615068858447b800176af73d",
    "jupyter": {},
    "tags": [],
    "slideshow": {
     "slide_type": "slide"
    },
    "trusted": true,
    "mdEditEnable": false,
    "collapsed": false,
    "scrolled": false
   },
   "cell_type": "markdown",
   "source": [
    "#### 添加自定义坐标点\n",
    "\n",
    "常规的地理位置，如省份，城市这些位置的经纬度Pyecharts中都内置包含了，不过有的时候，我们需要添加一些自定义点进行数据分析，这时候就需要我们自己先将位置的具体经纬度传入Geo实例中，然后再到图表中进行展现，代码如下所示："
   ]
  },
  {
   "metadata": {
    "id": "BA3099D6876F4837B743469444C82A22",
    "notebookId": "615068858447b800176af73d",
    "jupyter": {},
    "tags": [],
    "slideshow": {
     "slide_type": "slide"
    },
    "trusted": true,
    "collapsed": false,
    "scrolled": false
   },
   "cell_type": "code",
   "outputs": [
    {
     "output_type": "execute_result",
     "data": {
      "text/plain": "<pyecharts.render.display.HTML at 0x7f27f80df710>",
      "text/html": "\n<script>\n    require.config({\n        paths: {\n            'echarts':'https://assets.pyecharts.org/assets/echarts.min', 'china':'https://assets.pyecharts.org/assets/maps/china'\n        }\n    });\n</script>\n\n        <div id=\"a2a3da8797ca4134974601960eff40fe\" style=\"width:900px; height:500px;\"></div>\n\n<script>\n        require(['echarts', 'china'], function(echarts) {\n                var chart_a2a3da8797ca4134974601960eff40fe = echarts.init(\n                    document.getElementById('a2a3da8797ca4134974601960eff40fe'), 'white', {renderer: 'canvas'});\n                var option_a2a3da8797ca4134974601960eff40fe = {\n    \"animation\": true,\n    \"animationThreshold\": 2000,\n    \"animationDuration\": 1000,\n    \"animationEasing\": \"cubicOut\",\n    \"animationDelay\": 0,\n    \"animationDurationUpdate\": 300,\n    \"animationEasingUpdate\": \"cubicOut\",\n    \"animationDelayUpdate\": 0,\n    \"color\": [\n        \"#c23531\",\n        \"#2f4554\",\n        \"#61a0a8\",\n        \"#d48265\",\n        \"#749f83\",\n        \"#ca8622\",\n        \"#bda29a\",\n        \"#6e7074\",\n        \"#546570\",\n        \"#c4ccd3\",\n        \"#f05b72\",\n        \"#ef5b9c\",\n        \"#f47920\",\n        \"#905a3d\",\n        \"#fab27b\",\n        \"#2a5caa\",\n        \"#444693\",\n        \"#726930\",\n        \"#b2d235\",\n        \"#6d8346\",\n        \"#ac6767\",\n        \"#1d953f\",\n        \"#6950a1\",\n        \"#918597\"\n    ],\n    \"series\": [\n        {\n            \"type\": \"scatter\",\n            \"coordinateSystem\": \"geo\",\n            \"symbolSize\": 12,\n            \"data\": [\n                {\n                    \"name\": \"x\",\n                    \"value\": [\n                        116.397428,\n                        39.90923,\n                        1\n                    ]\n                },\n                {\n                    \"name\": \"y\",\n                    \"value\": [\n                        112.398615,\n                        29.91659,\n                        2\n                    ]\n                }\n            ],\n            \"label\": {\n                \"show\": true,\n                \"position\": \"top\",\n                \"margin\": 8\n            }\n        }\n    ],\n    \"legend\": [\n        {\n            \"data\": [\n                \"\"\n            ],\n            \"selected\": {\n                \"\": true\n            },\n            \"show\": true,\n            \"padding\": 5,\n            \"itemGap\": 10,\n            \"itemWidth\": 25,\n            \"itemHeight\": 14\n        }\n    ],\n    \"tooltip\": {\n        \"show\": true,\n        \"trigger\": \"item\",\n        \"triggerOn\": \"mousemove|click\",\n        \"axisPointer\": {\n            \"type\": \"line\"\n        },\n        \"showContent\": true,\n        \"alwaysShowContent\": false,\n        \"showDelay\": 0,\n        \"hideDelay\": 100,\n        \"textStyle\": {\n            \"fontSize\": 14\n        },\n        \"borderWidth\": 0,\n        \"padding\": 5\n    },\n    \"title\": [\n        {\n            \"padding\": 5,\n            \"itemGap\": 10\n        }\n    ],\n    \"geo\": {\n        \"map\": \"china\",\n        \"roam\": true,\n        \"aspectScale\": 0.75,\n        \"nameProperty\": \"name\",\n        \"selectedMode\": false,\n        \"emphasis\": {}\n    }\n};\n                chart_a2a3da8797ca4134974601960eff40fe.setOption(option_a2a3da8797ca4134974601960eff40fe);\n        });\n    </script>\n"
     },
     "metadata": {},
     "execution_count": 55
    }
   ],
   "source": [
    "chart = Geo()\n",
    "# 添加自定义坐标点\n",
    "chart.add_coordinate('x', 116.397428, 39.90923)\n",
    "chart.add_coordinate('y', 112.398615, 29.91659)\n",
    "\n",
    "chart.add_schema(maptype=\"china\")\n",
    "chart.add(\"\", [('x', 1), ('y', 2)])\n",
    "\n",
    "chart.render_notebook()"
   ],
   "execution_count": 55
  },
  {
   "metadata": {
    "id": "6A8A45E54F3047DB81591B87C838EB42",
    "notebookId": "615068858447b800176af73d",
    "jupyter": {},
    "tags": [],
    "slideshow": {
     "slide_type": "slide"
    },
    "trusted": true,
    "mdEditEnable": false,
    "collapsed": false,
    "scrolled": false
   },
   "cell_type": "markdown",
   "source": [
    "## 其他图表\n",
    "\n",
    "* 除了上面提到的图表，其实还有很多图表再日常学习工作中会经常用到，比如饼图，漏斗图等等；\n",
    "\n",
    "---\n",
    "\n",
    "\n",
    "### 饼图\n"
   ]
  },
  {
   "metadata": {
    "id": "641991A1C6714D9995714D7F27936DF6",
    "notebookId": "615068858447b800176af73d",
    "jupyter": {},
    "tags": [],
    "slideshow": {
     "slide_type": "slide"
    },
    "trusted": true,
    "collapsed": false,
    "scrolled": false
   },
   "cell_type": "code",
   "outputs": [
    {
     "output_type": "execute_result",
     "data": {
      "text/plain": "<pyecharts.render.display.HTML at 0x7f27f80df320>",
      "text/html": "\n<script>\n    require.config({\n        paths: {\n            'echarts':'https://assets.pyecharts.org/assets/echarts.min'\n        }\n    });\n</script>\n\n        <div id=\"f907750dc37c4fe9a5c75f806f38f9bb\" style=\"width:900px; height:500px;\"></div>\n\n<script>\n        require(['echarts'], function(echarts) {\n                var chart_f907750dc37c4fe9a5c75f806f38f9bb = echarts.init(\n                    document.getElementById('f907750dc37c4fe9a5c75f806f38f9bb'), 'white', {renderer: 'canvas'});\n                var option_f907750dc37c4fe9a5c75f806f38f9bb = {\n    \"animation\": true,\n    \"animationThreshold\": 2000,\n    \"animationDuration\": 1000,\n    \"animationEasing\": \"cubicOut\",\n    \"animationDelay\": 0,\n    \"animationDurationUpdate\": 300,\n    \"animationEasingUpdate\": \"cubicOut\",\n    \"animationDelayUpdate\": 0,\n    \"color\": [\n        \"#c23531\",\n        \"#2f4554\",\n        \"#61a0a8\",\n        \"#d48265\",\n        \"#749f83\",\n        \"#ca8622\",\n        \"#bda29a\",\n        \"#6e7074\",\n        \"#546570\",\n        \"#c4ccd3\",\n        \"#f05b72\",\n        \"#ef5b9c\",\n        \"#f47920\",\n        \"#905a3d\",\n        \"#fab27b\",\n        \"#2a5caa\",\n        \"#444693\",\n        \"#726930\",\n        \"#b2d235\",\n        \"#6d8346\",\n        \"#ac6767\",\n        \"#1d953f\",\n        \"#6950a1\",\n        \"#918597\"\n    ],\n    \"series\": [\n        {\n            \"type\": \"pie\",\n            \"clockwise\": true,\n            \"data\": [\n                {\n                    \"name\": \"Apple\",\n                    \"value\": 123\n                },\n                {\n                    \"name\": \"Huawei\",\n                    \"value\": 153\n                },\n                {\n                    \"name\": \"Xiaomi\",\n                    \"value\": 89\n                },\n                {\n                    \"name\": \"Oppo\",\n                    \"value\": 107\n                },\n                {\n                    \"name\": \"Vivo\",\n                    \"value\": 98\n                },\n                {\n                    \"name\": \"Meizu\",\n                    \"value\": 23\n                }\n            ],\n            \"radius\": [\n                \"0%\",\n                \"75%\"\n            ],\n            \"center\": [\n                \"50%\",\n                \"50%\"\n            ],\n            \"label\": {\n                \"show\": true,\n                \"position\": \"top\",\n                \"margin\": 8\n            }\n        }\n    ],\n    \"legend\": [\n        {\n            \"data\": [\n                \"Apple\",\n                \"Huawei\",\n                \"Xiaomi\",\n                \"Oppo\",\n                \"Vivo\",\n                \"Meizu\"\n            ],\n            \"selected\": {}\n        }\n    ],\n    \"tooltip\": {\n        \"show\": true,\n        \"trigger\": \"item\",\n        \"triggerOn\": \"mousemove|click\",\n        \"axisPointer\": {\n            \"type\": \"line\"\n        },\n        \"showContent\": true,\n        \"alwaysShowContent\": false,\n        \"showDelay\": 0,\n        \"hideDelay\": 100,\n        \"textStyle\": {\n            \"fontSize\": 14\n        },\n        \"borderWidth\": 0,\n        \"padding\": 5\n    }\n};\n                chart_f907750dc37c4fe9a5c75f806f38f9bb.setOption(option_f907750dc37c4fe9a5c75f806f38f9bb);\n        });\n    </script>\n"
     },
     "metadata": {},
     "execution_count": 56
    }
   ],
   "source": [
    "# 虚假数据\n",
    "data_pair = [['Apple', 123], [